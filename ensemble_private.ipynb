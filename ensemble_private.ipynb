{
 "cells": [
  {
   "cell_type": "code",
   "execution_count": 1,
   "metadata": {
    "execution": {
     "iopub.execute_input": "2024-12-26T13:18:05.931245Z",
     "iopub.status.busy": "2024-12-26T13:18:05.930553Z",
     "iopub.status.idle": "2024-12-26T13:18:06.345717Z",
     "shell.execute_reply": "2024-12-26T13:18:06.345040Z"
    }
   },
   "outputs": [
    {
     "name": "stdout",
     "output_type": "stream",
     "text": [
      "2024-11-01\n",
      "2024-12-25\n",
      "2024-12-26\n"
     ]
    }
   ],
   "source": [
    "import pandas as pd\n",
    "cal = pd.read_csv('/data/linq/.qlib/qlib_data/cn_data/calendars/day.txt')\n",
    "delta = 0\n",
    "TODAY = str(cal.iloc[-1-delta,0])\n",
    "YESTERDAY = str(cal.iloc[-2-delta,0])\n",
    "# TODAY = str(cal.iloc[-2,0])\n",
    "# YESTERDAY = str(cal.iloc[-3,0])\n",
    "\n",
    "BT_START = '2024-11-01'\n",
    "\n",
    "print(BT_START)\n",
    "print(YESTERDAY)\n",
    "print(TODAY)"
   ]
  },
  {
   "cell_type": "code",
   "execution_count": 2,
   "metadata": {
    "execution": {
     "iopub.execute_input": "2024-12-26T13:18:06.386792Z",
     "iopub.status.busy": "2024-12-26T13:18:06.386214Z",
     "iopub.status.idle": "2024-12-26T13:18:06.393017Z",
     "shell.execute_reply": "2024-12-26T13:18:06.392079Z"
    }
   },
   "outputs": [],
   "source": [
    "# BT_START = '2024-12-01'\n",
    "# TODAY = '2024-12-09'\n",
    "\n",
    "test_split = (TODAY, TODAY)\n",
    "bt_split = (BT_START, YESTERDAY)\n",
    "pos_txt = f'''\\\n",
    "date {TODAY}\n",
    "cash 721.00\n",
    "SZ000001 2100\n",
    "SH600570 800\n",
    "SZ000661 200\n",
    "SH600115 4800\n",
    "SZ002459 1300\n",
    "SZ002129 2000\n",
    "SZ000002 2300\n",
    "SH600372 1400\n",
    "SH600188 1100\n",
    "'''"
   ]
  },
  {
   "cell_type": "code",
   "execution_count": 3,
   "metadata": {
    "execution": {
     "iopub.execute_input": "2024-12-26T13:18:06.395881Z",
     "iopub.status.busy": "2024-12-26T13:18:06.395369Z",
     "iopub.status.idle": "2024-12-26T13:18:07.282109Z",
     "shell.execute_reply": "2024-12-26T13:18:07.281310Z"
    }
   },
   "outputs": [
    {
     "name": "stderr",
     "output_type": "stream",
     "text": [
      "/home/linq/anaconda3/envs/qlib39/lib/python3.9/site-packages/tqdm/auto.py:21: TqdmWarning: IProgress not found. Please update jupyter and ipywidgets. See https://ipywidgets.readthedocs.io/en/stable/user_install.html\n",
      "  from .autonotebook import tqdm as notebook_tqdm\n"
     ]
    },
    {
     "name": "stderr",
     "output_type": "stream",
     "text": [
      "[3482497:MainThread](2024-12-26 21:18:07,273) INFO - qlib.Initialization - [config.py:416] - default_conf: client.\n"
     ]
    },
    {
     "name": "stderr",
     "output_type": "stream",
     "text": [
      "[3482497:MainThread](2024-12-26 21:18:07,277) INFO - qlib.Initialization - [__init__.py:74] - qlib successfully initialized based on client settings.\n"
     ]
    },
    {
     "name": "stderr",
     "output_type": "stream",
     "text": [
      "[3482497:MainThread](2024-12-26 21:18:07,277) INFO - qlib.Initialization - [__init__.py:76] - data_path={'__DEFAULT_FREQ': PosixPath('/data/linq/.qlib/qlib_data/cn_data')}\n"
     ]
    }
   ],
   "source": [
    "import qlib\n",
    "import pandas as pd\n",
    "from pandas import Timestamp\n",
    "import json\n",
    "from qlib.constant import REG_CN\n",
    "from qlib.utils import exists_qlib_data, init_instance_by_config\n",
    "from qlib.workflow import R\n",
    "from qlib.workflow.record_temp import SignalRecord, PortAnaRecord\n",
    "from qlib.utils import flatten_dict\n",
    "from qlib.data.filter import NameDFilter\n",
    "from qlib.backtest.position import Position\n",
    "from qlib.data import D\n",
    "\n",
    "import copy\n",
    "import pprint\n",
    "import warnings\n",
    "warnings.filterwarnings('ignore')\n",
    "\n",
    "provider_uri = \"/data/linq/.qlib/qlib_data/cn_data\"  # target_dir\n",
    "qlib.init(provider_uri=provider_uri, region=REG_CN)\n",
    "\n",
    "from lilab.qlib.utils.tools import normalize_position_history, load_position_text, load_position_history, save_position_history, fill_price_position_history\n",
    "from lilab.qlib.backtest.benchmark import BENCH_Step"
   ]
  },
  {
   "cell_type": "markdown",
   "metadata": {},
   "source": [
    "Record position history"
   ]
  },
  {
   "cell_type": "code",
   "execution_count": 4,
   "metadata": {
    "execution": {
     "iopub.execute_input": "2024-12-26T13:18:07.285269Z",
     "iopub.status.busy": "2024-12-26T13:18:07.284950Z",
     "iopub.status.idle": "2024-12-26T13:18:07.738381Z",
     "shell.execute_reply": "2024-12-26T13:18:07.737598Z"
    }
   },
   "outputs": [
    {
     "name": "stdout",
     "output_type": "stream",
     "text": [
      "save_position_history error\n",
      "2024-12-26\n",
      "{'SZ000001': {'amount': 2100}, 'SH600570': {'amount': 800}, 'SZ000661': {'amount': 200}, 'SH600115': {'amount': 4800}, 'SZ002459': {'amount': 1300}, 'SZ002129': {'amount': 2000}, 'SZ000002': {'amount': 2300}, 'SH600372': {'amount': 1400}, 'SH600188': {'amount': 1100}, 'cash': 721.0}\n",
      "{'_settle_type': 'None', 'position': {'SH600570': {'amount': 11874, 'price': 4.226855278015137}, 'SZ002129': {'amount': 12134, 'price': 3.88484525680542}, 'SH600188': {'amount': 23200, 'price': 0.6566792726516724}, 'SZ000661': {'amount': 5353, 'price': 3.571665048599243}, 'SH600115': {'amount': 29231, 'price': 0.8555008172988892}, 'SZ002459': {'amount': 35835, 'price': 0.4625280797481537}, 'SZ000001': {'amount': 25160, 'price': 1.2035369873046875}, 'SZ000002': {'amount': 21909, 'price': 1.369929313659668}, 'SH600372': {'amount': 0, 'price': inf}, 'cash': 721.0, 'now_account_value': nan}, 'init_cash': 721.0}\n",
      "['SH600570', 'SZ002129', 'SH600188', 'SZ000661', 'SH600115', 'SZ002459', 'SZ000001', 'SZ000002', 'SH600372']\n"
     ]
    }
   ],
   "source": [
    "cur_pos = load_position_text(pos_txt)\n",
    "norm_cur_pos = normalize_position_history(cur_pos)\n",
    "norm_cur_pos = fill_price_position_history(norm_cur_pos)\n",
    "try:\n",
    "    pos_history = load_position_history()\n",
    "except:\n",
    "    pos_history = {}\n",
    "pos_history.update(norm_cur_pos)\n",
    "# print(pos_history)\n",
    "save_position_history(pos_history)\n",
    "dt, pos = next(iter(cur_pos.items()))\n",
    "account = pos.position\n",
    "dt, norm_pos = next(iter(norm_cur_pos.items()))\n",
    "norm_account = pos.position\n",
    "hold_lst = pos.get_stock_list()\n",
    "print(dt.date())\n",
    "print(account)\n",
    "print(norm_pos)\n",
    "print(hold_lst)"
   ]
  },
  {
   "cell_type": "code",
   "execution_count": 5,
   "metadata": {
    "execution": {
     "iopub.execute_input": "2024-12-26T13:18:07.741372Z",
     "iopub.status.busy": "2024-12-26T13:18:07.741045Z",
     "iopub.status.idle": "2024-12-26T13:18:07.748944Z",
     "shell.execute_reply": "2024-12-26T13:18:07.748143Z"
    }
   },
   "outputs": [
    {
     "name": "stdout",
     "output_type": "stream",
     "text": [
      "{'SH600570': {'amount': 11874, 'price': 4.226855278015137}, 'SZ002129': {'amount': 12134, 'price': 3.88484525680542}, 'SH600188': {'amount': 23200, 'price': 0.6566792726516724}, 'SZ000661': {'amount': 5353, 'price': 3.571665048599243}, 'SH600115': {'amount': 29231, 'price': 0.8555008172988892}, 'SZ002459': {'amount': 35835, 'price': 0.4625280797481537}, 'SZ000001': {'amount': 25160, 'price': 1.2035369873046875}, 'SZ000002': {'amount': 21909, 'price': 1.369929313659668}, 'SH600372': {'amount': 0, 'price': inf}, 'cash': 721.0, 'now_account_value': nan}\n",
      "{'SH600570': 2, 'SZ002129': 2, 'SH600188': 0, 'SZ000661': 0, 'SH600115': 0, 'SZ002459': 2, 'SZ000001': 0, 'SZ000002': 2, 'SH600372': 0}\n"
     ]
    }
   ],
   "source": [
    "\n",
    "pos_history = load_position_history()\n",
    "hold_day = {}\n",
    "_norm_pos = norm_pos.__dict__['position']\n",
    "print(_norm_pos)\n",
    "dt_lst = sorted(list(pos_history.keys()))[::-1]\n",
    "for k, v in _norm_pos.items():\n",
    "    if not isinstance(v, dict):\n",
    "        continue\n",
    "    cnt = 0\n",
    "    for dt in dt_lst:\n",
    "        if str(dt.date())==TODAY:\n",
    "            # print(dt.date(), TODAY)\n",
    "            continue\n",
    "        tmp_pos = pos_history[dt]\n",
    "        if k not in tmp_pos.get_stock_list():\n",
    "            break\n",
    "        cnt += 1\n",
    "    # print(k, cnt)\n",
    "    hold_day[k] = cnt\n",
    "print(hold_day)"
   ]
  },
  {
   "cell_type": "code",
   "execution_count": 6,
   "metadata": {
    "execution": {
     "iopub.execute_input": "2024-12-26T13:18:07.751882Z",
     "iopub.status.busy": "2024-12-26T13:18:07.751578Z",
     "iopub.status.idle": "2024-12-26T13:18:07.767093Z",
     "shell.execute_reply": "2024-12-26T13:18:07.766252Z"
    }
   },
   "outputs": [],
   "source": [
    "def simp_eval(res_df, k, t=None, day=None):\n",
    "    # print(res_df)\n",
    "    if day:\n",
    "        date = str(cal.iloc[-day-1,0])\n",
    "        res_df = res_df[res_df.index.get_level_values('datetime') >= date]\n",
    "    # Step 1: Group by multiple indices\n",
    "    grouped = res_df.groupby(['datetime'])\n",
    "\n",
    "    # Step 2: Sort by 'value' within each group in descending order\n",
    "    sorted_df = grouped.apply(lambda x: x.sort_values(by='score', ascending=False))\n",
    "    sorted_df['win'] = sorted_df['label'] * sorted_df['score'] > 0\n",
    "    # Step 3: Select the top 5 rows for each group\n",
    "    # top_k_per_group = sorted_df.groupby(['datetime']).head(k)\n",
    "    top_k_per_group = sorted_df.groupby(['datetime']).apply(lambda x: x.nlargest(k, 'score'))#.reset_index(level=1, drop=1)\n",
    "    if t:\n",
    "        # top_k_per_group = top_k_per_group.tail(t)\n",
    "        top_k_per_group = top_k_per_group.groupby(['datetime']).apply(lambda x: x.nsmallest(t, 'score'))\n",
    "    # print(top_k_per_group)\n",
    "    top_k_ic = top_k_per_group['label'].corr(top_k_per_group['score'])\n",
    "    s, n = top_k_per_group['win'].sum(), len(top_k_per_group)\n",
    "    # print(s, n)\n",
    "    top_k_win = 1.0 * top_k_per_group['win'].sum() / len(top_k_per_group)\n",
    "    return top_k_ic, top_k_win \n",
    "\n",
    "def run_model(model, path='/home/linq/finance/qniverse/log'):\n",
    "    res_df = pd.read_csv(f'{path}/{model}_backtest_return_{TODAY}.csv', index_col=['datetime','instrument'])\n",
    "\n",
    "    def eval_day(day=None):\n",
    "        top5ic, top5win = simp_eval(res_df, 5, day=day)\n",
    "        top10ic, top10win = simp_eval(res_df, 10, 5, day=day)\n",
    "        # top15ic, top15win = simp_eval(res_df, 15, 5, day=day)\n",
    "        top20ic, top20win = simp_eval(res_df, 20, 10, day=day)\n",
    "        # top25ic, top25win = simp_eval(res_df, 25, 5, day=day)\n",
    "        top30ic, top30win = simp_eval(res_df, 30, 10, day=day)\n",
    "        top40ic, top40win = simp_eval(res_df, 40, 10, day=day)\n",
    "        top50ic, top50win = simp_eval(res_df, 50, 10, day=day)\n",
    "        top60ic, top60win = simp_eval(res_df, 60, 10, day=day)\n",
    "        top70ic, top70win = simp_eval(res_df, 70, 10, day=day)\n",
    "        top80ic, top80win = simp_eval(res_df, 80, 10, day=day)        \n",
    "        top90ic, top90win = simp_eval(res_df, 90, 10, day=day)\n",
    "        top100ic, top100win = simp_eval(res_df, 100, 10, day=day)\n",
    "        top110ic, top110win = simp_eval(res_df, 110, 10, day=day)\n",
    "        top120ic, top120win = simp_eval(res_df, 120, 10, day=day)\n",
    "        top130ic, top130win = simp_eval(res_df, 130, 10, day=day)\n",
    "        top140ic, top140win = simp_eval(res_df, 140, 10, day=day)\n",
    "        top150ic, top150win = simp_eval(res_df, 150, 10, day=day)\n",
    "        topic, topwin = simp_eval(res_df, 50, day=day)\n",
    "        # return [topic, topwin, top5ic, top5win, top10ic, top10win, top15ic, top15win, top20ic, top20win, top25ic, top25win, top30ic, top30win]\n",
    "        return [topwin, top5win, top10win, top20win, top30win, top40win, top50win, top60win, top70win, top80win, top90win, top100win, top110win, top120win, top130win, top140win, top150win], [topic, top5ic, top10ic, top20ic, top30ic, top40ic, top50ic, top60ic, top70ic, top80ic, top90ic, top100ic, top110ic, top120ic, top130ic, top140ic, top150ic]\n",
    "    day1metrics = eval_day(2)\n",
    "    day5metrics = eval_day(6)\n",
    "    day10metrics = eval_day(11)\n",
    "    day20metrics = eval_day(21)\n",
    "    \n",
    "    pred_df = pd.read_csv(f'{path}/{model}_tomorrow_return_{TODAY}.csv', index_col=['datetime','instrument'])\n",
    "\n",
    "    return day1metrics, day5metrics, day10metrics, day20metrics, pred_df, res_df"
   ]
  },
  {
   "cell_type": "markdown",
   "metadata": {},
   "source": [
    "# Run"
   ]
  },
  {
   "cell_type": "code",
   "execution_count": 7,
   "metadata": {
    "execution": {
     "iopub.execute_input": "2024-12-26T13:18:07.770380Z",
     "iopub.status.busy": "2024-12-26T13:18:07.770029Z",
     "iopub.status.idle": "2024-12-26T13:18:10.348278Z",
     "shell.execute_reply": "2024-12-26T13:18:10.346865Z"
    }
   },
   "outputs": [
    {
     "name": "stdout",
     "output_type": "stream",
     "text": [
      "DENSEMBLEGBM\n"
     ]
    }
   ],
   "source": [
    "info_win_dict1, info_ic_dict1 = {}, {}\n",
    "info_win_dict5, info_ic_dict5 = {}, {}\n",
    "info_win_dict10, info_ic_dict10 = {}, {}\n",
    "info_win_dict20, info_ic_dict20 = {}, {}\n",
    "pred_lst = []\n",
    "\n",
    "name_lst =  ['DENSEMBLEGBM']\n",
    "for model in name_lst:\n",
    "    NAME = model\n",
    "    print(model)\n",
    "    day1metrics, day5metrics, day10metrics, day20metrics, pred_df, res_df = run_model(model)\n",
    "    info_win_dict1[NAME], info_ic_dict1[NAME] = day1metrics\n",
    "    info_win_dict5[NAME], info_ic_dict5[NAME] = day5metrics\n",
    "    info_win_dict10[NAME], info_ic_dict10[NAME] = day10metrics\n",
    "    info_win_dict20[NAME], info_ic_dict20[NAME] = day20metrics\n",
    "    # for k in [1, 5, 10, 20]:\n",
    "    #     eval(f'    info_win_dict{k}[NAME], info_ic_dict{k}[NAME] = day{k}metrics')\n",
    "    _df = pred_df.loc[:,'score']\n",
    "    _df.name = model\n",
    "    # print(_df)\n",
    "    pred_lst.append(_df)"
   ]
  },
  {
   "cell_type": "code",
   "execution_count": 8,
   "metadata": {
    "execution": {
     "iopub.execute_input": "2024-12-26T13:18:10.352815Z",
     "iopub.status.busy": "2024-12-26T13:18:10.352457Z",
     "iopub.status.idle": "2024-12-26T13:18:10.367939Z",
     "shell.execute_reply": "2024-12-26T13:18:10.367125Z"
    }
   },
   "outputs": [
    {
     "data": {
      "text/html": [
       "<div>\n",
       "<style scoped>\n",
       "    .dataframe tbody tr th:only-of-type {\n",
       "        vertical-align: middle;\n",
       "    }\n",
       "\n",
       "    .dataframe tbody tr th {\n",
       "        vertical-align: top;\n",
       "    }\n",
       "\n",
       "    .dataframe thead th {\n",
       "        text-align: right;\n",
       "    }\n",
       "</style>\n",
       "<table border=\"1\" class=\"dataframe\">\n",
       "  <thead>\n",
       "    <tr style=\"text-align: right;\">\n",
       "      <th></th>\n",
       "      <th></th>\n",
       "      <th>DENSEMBLEGBM</th>\n",
       "    </tr>\n",
       "    <tr>\n",
       "      <th>datetime</th>\n",
       "      <th>instrument</th>\n",
       "      <th></th>\n",
       "    </tr>\n",
       "  </thead>\n",
       "  <tbody>\n",
       "    <tr>\n",
       "      <th rowspan=\"11\" valign=\"top\">2024-12-26</th>\n",
       "      <th>SZ000627</th>\n",
       "      <td>2.174348</td>\n",
       "    </tr>\n",
       "    <tr>\n",
       "      <th>SH600986</th>\n",
       "      <td>1.731874</td>\n",
       "    </tr>\n",
       "    <tr>\n",
       "      <th>SZ002183</th>\n",
       "      <td>0.144227</td>\n",
       "    </tr>\n",
       "    <tr>\n",
       "      <th>SH600837</th>\n",
       "      <td>0.117757</td>\n",
       "    </tr>\n",
       "    <tr>\n",
       "      <th>SH600335</th>\n",
       "      <td>0.110272</td>\n",
       "    </tr>\n",
       "    <tr>\n",
       "      <th>...</th>\n",
       "      <td>...</td>\n",
       "    </tr>\n",
       "    <tr>\n",
       "      <th>SZ002736</th>\n",
       "      <td>-0.258935</td>\n",
       "    </tr>\n",
       "    <tr>\n",
       "      <th>SH600588</th>\n",
       "      <td>-0.265838</td>\n",
       "    </tr>\n",
       "    <tr>\n",
       "      <th>SZ002516</th>\n",
       "      <td>-0.287255</td>\n",
       "    </tr>\n",
       "    <tr>\n",
       "      <th>SZ300075</th>\n",
       "      <td>-0.294578</td>\n",
       "    </tr>\n",
       "    <tr>\n",
       "      <th>SZ300085</th>\n",
       "      <td>-0.353250</td>\n",
       "    </tr>\n",
       "  </tbody>\n",
       "</table>\n",
       "<p>757 rows × 1 columns</p>\n",
       "</div>"
      ],
      "text/plain": [
       "                       DENSEMBLEGBM\n",
       "datetime   instrument              \n",
       "2024-12-26 SZ000627        2.174348\n",
       "           SH600986        1.731874\n",
       "           SZ002183        0.144227\n",
       "           SH600837        0.117757\n",
       "           SH600335        0.110272\n",
       "...                             ...\n",
       "           SZ002736       -0.258935\n",
       "           SH600588       -0.265838\n",
       "           SZ002516       -0.287255\n",
       "           SZ300075       -0.294578\n",
       "           SZ300085       -0.353250\n",
       "\n",
       "[757 rows x 1 columns]"
      ]
     },
     "execution_count": 8,
     "metadata": {},
     "output_type": "execute_result"
    }
   ],
   "source": [
    "pred_df = pd.concat(pred_lst, axis=1)\n",
    "\n",
    "# pred_df = pred_df.loc[:, ~pred_df.columns.duplicated()]\n",
    "_pred_df = pred_df\n",
    "pred_df"
   ]
  },
  {
   "cell_type": "code",
   "execution_count": 9,
   "metadata": {
    "execution": {
     "iopub.execute_input": "2024-12-26T13:18:10.371254Z",
     "iopub.status.busy": "2024-12-26T13:18:10.370936Z",
     "iopub.status.idle": "2024-12-26T13:18:10.380460Z",
     "shell.execute_reply": "2024-12-26T13:18:10.379594Z"
    }
   },
   "outputs": [],
   "source": [
    "\n",
    "pred_df['mean'] = _pred_df.mean(axis=1)\n",
    "pred_df['std'] = _pred_df.std(axis=1)\n",
    "pred_df['score'] = pd.concat([_pred_df[n]*info_win_dict5[n][0]/_pred_df[n].std() for n in name_lst], axis=1).sum(axis=1)\n",
    "# pred_df"
   ]
  },
  {
   "cell_type": "code",
   "execution_count": 10,
   "metadata": {
    "execution": {
     "iopub.execute_input": "2024-12-26T13:18:10.383769Z",
     "iopub.status.busy": "2024-12-26T13:18:10.383443Z",
     "iopub.status.idle": "2024-12-26T13:18:11.109160Z",
     "shell.execute_reply": "2024-12-26T13:18:11.107684Z"
    }
   },
   "outputs": [],
   "source": [
    "rank_df = pred_df.droplevel(0).sort_values(by='score', ascending=False)\n",
    "fields = ['$close/$factor']\n",
    "_df = D.features(rank_df.index.values, fields, start_time=TODAY, end_time=TODAY, freq='day')\n",
    "_df.columns = ['close']\n",
    "_df = _df.droplevel(1)\n",
    "rank_df = pd.concat([rank_df,_df],axis=1,join='inner')\n",
    "report_top = rank_df"
   ]
  },
  {
   "cell_type": "code",
   "execution_count": 11,
   "metadata": {
    "execution": {
     "iopub.execute_input": "2024-12-26T13:18:11.113869Z",
     "iopub.status.busy": "2024-12-26T13:18:11.113519Z",
     "iopub.status.idle": "2024-12-26T13:18:11.120316Z",
     "shell.execute_reply": "2024-12-26T13:18:11.119450Z"
    }
   },
   "outputs": [
    {
     "data": {
      "text/plain": [
       "['SH600570',\n",
       " 'SZ002129',\n",
       " 'SH600188',\n",
       " 'SZ000661',\n",
       " 'SH600115',\n",
       " 'SZ002459',\n",
       " 'SZ000001',\n",
       " 'SZ000002',\n",
       " 'SH600372']"
      ]
     },
     "execution_count": 11,
     "metadata": {},
     "output_type": "execute_result"
    }
   ],
   "source": [
    "hold_lst"
   ]
  },
  {
   "cell_type": "code",
   "execution_count": 12,
   "metadata": {
    "execution": {
     "iopub.execute_input": "2024-12-26T13:18:11.123575Z",
     "iopub.status.busy": "2024-12-26T13:18:11.123251Z",
     "iopub.status.idle": "2024-12-26T13:18:11.129967Z",
     "shell.execute_reply": "2024-12-26T13:18:11.129209Z"
    }
   },
   "outputs": [],
   "source": [
    "pos_rank = rank_df.sort_values(by='score', ascending=True)\n",
    "pos_rank = pos_rank[pos_rank.index.isin(hold_lst)]\n",
    "hd = [hold_day[s] for s in pos_rank.index.values]\n",
    "pos_rank['HD'] = hd\n",
    "report_pos = pos_rank"
   ]
  },
  {
   "cell_type": "code",
   "execution_count": 13,
   "metadata": {
    "execution": {
     "iopub.execute_input": "2024-12-26T13:18:11.132931Z",
     "iopub.status.busy": "2024-12-26T13:18:11.132577Z",
     "iopub.status.idle": "2024-12-26T13:18:11.136541Z",
     "shell.execute_reply": "2024-12-26T13:18:11.135767Z"
    }
   },
   "outputs": [],
   "source": [
    "color_lst = [n for n in report_pos.columns if n not in ['close', 'HD']]\n",
    "# color_lst"
   ]
  },
  {
   "cell_type": "code",
   "execution_count": 14,
   "metadata": {
    "execution": {
     "iopub.execute_input": "2024-12-26T13:18:11.139350Z",
     "iopub.status.busy": "2024-12-26T13:18:11.138968Z",
     "iopub.status.idle": "2024-12-26T13:18:11.577418Z",
     "shell.execute_reply": "2024-12-26T13:18:11.576533Z"
    }
   },
   "outputs": [
    {
     "data": {
      "text/html": [
       "<style type=\"text/css\">\n",
       "#T_d968f_row0_col0, #T_d968f_row0_col1, #T_d968f_row0_col2, #T_d968f_row0_col3, #T_d968f_row1_col2, #T_d968f_row2_col2, #T_d968f_row3_col2, #T_d968f_row4_col2, #T_d968f_row5_col2, #T_d968f_row6_col2, #T_d968f_row7_col2, #T_d968f_row8_col2 {\n",
       "  background-color: #08306b;\n",
       "  color: #f1f1f1;\n",
       "}\n",
       "#T_d968f_row1_col0, #T_d968f_row1_col1, #T_d968f_row1_col3 {\n",
       "  background-color: #084285;\n",
       "  color: #f1f1f1;\n",
       "}\n",
       "#T_d968f_row2_col0, #T_d968f_row2_col1, #T_d968f_row2_col3 {\n",
       "  background-color: #1e6db2;\n",
       "  color: #f1f1f1;\n",
       "}\n",
       "#T_d968f_row3_col0, #T_d968f_row3_col1, #T_d968f_row3_col3 {\n",
       "  background-color: #519ccc;\n",
       "  color: #f1f1f1;\n",
       "}\n",
       "#T_d968f_row4_col0, #T_d968f_row4_col1, #T_d968f_row4_col3 {\n",
       "  background-color: #61a7d2;\n",
       "  color: #f1f1f1;\n",
       "}\n",
       "#T_d968f_row5_col0, #T_d968f_row5_col1, #T_d968f_row5_col3 {\n",
       "  background-color: #6dafd7;\n",
       "  color: #f1f1f1;\n",
       "}\n",
       "#T_d968f_row6_col0, #T_d968f_row6_col1, #T_d968f_row6_col3 {\n",
       "  background-color: #9cc9e1;\n",
       "  color: #000000;\n",
       "}\n",
       "#T_d968f_row7_col0, #T_d968f_row7_col1, #T_d968f_row7_col3 {\n",
       "  background-color: #abd0e6;\n",
       "  color: #000000;\n",
       "}\n",
       "#T_d968f_row8_col0, #T_d968f_row8_col1, #T_d968f_row8_col3 {\n",
       "  background-color: #f7fbff;\n",
       "  color: #000000;\n",
       "}\n",
       "</style>\n",
       "<table id=\"T_d968f\">\n",
       "  <thead>\n",
       "    <tr>\n",
       "      <th class=\"blank level0\" >&nbsp;</th>\n",
       "      <th id=\"T_d968f_level0_col0\" class=\"col_heading level0 col0\" >DENSEMBLEGBM</th>\n",
       "      <th id=\"T_d968f_level0_col1\" class=\"col_heading level0 col1\" >mean</th>\n",
       "      <th id=\"T_d968f_level0_col2\" class=\"col_heading level0 col2\" >std</th>\n",
       "      <th id=\"T_d968f_level0_col3\" class=\"col_heading level0 col3\" >score</th>\n",
       "      <th id=\"T_d968f_level0_col4\" class=\"col_heading level0 col4\" >close</th>\n",
       "      <th id=\"T_d968f_level0_col5\" class=\"col_heading level0 col5\" >HD</th>\n",
       "    </tr>\n",
       "    <tr>\n",
       "      <th class=\"index_name level0\" >instrument</th>\n",
       "      <th class=\"blank col0\" >&nbsp;</th>\n",
       "      <th class=\"blank col1\" >&nbsp;</th>\n",
       "      <th class=\"blank col2\" >&nbsp;</th>\n",
       "      <th class=\"blank col3\" >&nbsp;</th>\n",
       "      <th class=\"blank col4\" >&nbsp;</th>\n",
       "      <th class=\"blank col5\" >&nbsp;</th>\n",
       "    </tr>\n",
       "  </thead>\n",
       "  <tbody>\n",
       "    <tr>\n",
       "      <th id=\"T_d968f_level0_row0\" class=\"row_heading level0 row0\" >SZ000661</th>\n",
       "      <td id=\"T_d968f_row0_col0\" class=\"data row0 col0\" >-0.037896</td>\n",
       "      <td id=\"T_d968f_row0_col1\" class=\"data row0 col1\" >-0.037896</td>\n",
       "      <td id=\"T_d968f_row0_col2\" class=\"data row0 col2\" >0.000000</td>\n",
       "      <td id=\"T_d968f_row0_col3\" class=\"data row0 col3\" >-0.268914</td>\n",
       "      <td id=\"T_d968f_row0_col4\" class=\"data row0 col4\" >95.600006</td>\n",
       "      <td id=\"T_d968f_row0_col5\" class=\"data row0 col5\" >0</td>\n",
       "    </tr>\n",
       "    <tr>\n",
       "      <th id=\"T_d968f_level0_row1\" class=\"row_heading level0 row1\" >SZ000002</th>\n",
       "      <td id=\"T_d968f_row1_col0\" class=\"data row1 col0\" >-0.033458</td>\n",
       "      <td id=\"T_d968f_row1_col1\" class=\"data row1 col1\" >-0.033458</td>\n",
       "      <td id=\"T_d968f_row1_col2\" class=\"data row1 col2\" >0.000000</td>\n",
       "      <td id=\"T_d968f_row1_col3\" class=\"data row1 col3\" >-0.237425</td>\n",
       "      <td id=\"T_d968f_row1_col4\" class=\"data row1 col4\" >13.050000</td>\n",
       "      <td id=\"T_d968f_row1_col5\" class=\"data row1 col5\" >2</td>\n",
       "    </tr>\n",
       "    <tr>\n",
       "      <th id=\"T_d968f_level0_row2\" class=\"row_heading level0 row2\" >SH600372</th>\n",
       "      <td id=\"T_d968f_row2_col0\" class=\"data row2 col0\" >-0.022636</td>\n",
       "      <td id=\"T_d968f_row2_col1\" class=\"data row2 col1\" >-0.022636</td>\n",
       "      <td id=\"T_d968f_row2_col2\" class=\"data row2 col2\" >0.000000</td>\n",
       "      <td id=\"T_d968f_row2_col3\" class=\"data row2 col3\" >-0.160632</td>\n",
       "      <td id=\"T_d968f_row2_col4\" class=\"data row2 col4\" >nan</td>\n",
       "      <td id=\"T_d968f_row2_col5\" class=\"data row2 col5\" >0</td>\n",
       "    </tr>\n",
       "    <tr>\n",
       "      <th id=\"T_d968f_level0_row3\" class=\"row_heading level0 row3\" >SH600115</th>\n",
       "      <td id=\"T_d968f_row3_col0\" class=\"data row3 col0\" >-0.010813</td>\n",
       "      <td id=\"T_d968f_row3_col1\" class=\"data row3 col1\" >-0.010813</td>\n",
       "      <td id=\"T_d968f_row3_col2\" class=\"data row3 col2\" >0.000000</td>\n",
       "      <td id=\"T_d968f_row3_col3\" class=\"data row3 col3\" >-0.076730</td>\n",
       "      <td id=\"T_d968f_row3_col4\" class=\"data row3 col4\" >5.210000</td>\n",
       "      <td id=\"T_d968f_row3_col5\" class=\"data row3 col5\" >0</td>\n",
       "    </tr>\n",
       "    <tr>\n",
       "      <th id=\"T_d968f_level0_row4\" class=\"row_heading level0 row4\" >SZ002459</th>\n",
       "      <td id=\"T_d968f_row4_col0\" class=\"data row4 col0\" >-0.007617</td>\n",
       "      <td id=\"T_d968f_row4_col1\" class=\"data row4 col1\" >-0.007617</td>\n",
       "      <td id=\"T_d968f_row4_col2\" class=\"data row4 col2\" >0.000000</td>\n",
       "      <td id=\"T_d968f_row4_col3\" class=\"data row4 col3\" >-0.054051</td>\n",
       "      <td id=\"T_d968f_row4_col4\" class=\"data row4 col4\" >12.750000</td>\n",
       "      <td id=\"T_d968f_row4_col5\" class=\"data row4 col5\" >2</td>\n",
       "    </tr>\n",
       "    <tr>\n",
       "      <th id=\"T_d968f_level0_row5\" class=\"row_heading level0 row5\" >SH600188</th>\n",
       "      <td id=\"T_d968f_row5_col0\" class=\"data row5 col0\" >-0.005507</td>\n",
       "      <td id=\"T_d968f_row5_col1\" class=\"data row5 col1\" >-0.005507</td>\n",
       "      <td id=\"T_d968f_row5_col2\" class=\"data row5 col2\" >0.000000</td>\n",
       "      <td id=\"T_d968f_row5_col3\" class=\"data row5 col3\" >-0.039081</td>\n",
       "      <td id=\"T_d968f_row5_col4\" class=\"data row5 col4\" >13.850000</td>\n",
       "      <td id=\"T_d968f_row5_col5\" class=\"data row5 col5\" >0</td>\n",
       "    </tr>\n",
       "    <tr>\n",
       "      <th id=\"T_d968f_level0_row6\" class=\"row_heading level0 row6\" >SZ000001</th>\n",
       "      <td id=\"T_d968f_row6_col0\" class=\"data row6 col0\" >0.001779</td>\n",
       "      <td id=\"T_d968f_row6_col1\" class=\"data row6 col1\" >0.001779</td>\n",
       "      <td id=\"T_d968f_row6_col2\" class=\"data row6 col2\" >0.000000</td>\n",
       "      <td id=\"T_d968f_row6_col3\" class=\"data row6 col3\" >0.012625</td>\n",
       "      <td id=\"T_d968f_row6_col4\" class=\"data row6 col4\" >14.420000</td>\n",
       "      <td id=\"T_d968f_row6_col5\" class=\"data row6 col5\" >0</td>\n",
       "    </tr>\n",
       "    <tr>\n",
       "      <th id=\"T_d968f_level0_row7\" class=\"row_heading level0 row7\" >SH600570</th>\n",
       "      <td id=\"T_d968f_row7_col0\" class=\"data row7 col0\" >0.004913</td>\n",
       "      <td id=\"T_d968f_row7_col1\" class=\"data row7 col1\" >0.004913</td>\n",
       "      <td id=\"T_d968f_row7_col2\" class=\"data row7 col2\" >0.000000</td>\n",
       "      <td id=\"T_d968f_row7_col3\" class=\"data row7 col3\" >0.034861</td>\n",
       "      <td id=\"T_d968f_row7_col4\" class=\"data row7 col4\" >62.739998</td>\n",
       "      <td id=\"T_d968f_row7_col5\" class=\"data row7 col5\" >2</td>\n",
       "    </tr>\n",
       "    <tr>\n",
       "      <th id=\"T_d968f_level0_row8\" class=\"row_heading level0 row8\" >SZ002129</th>\n",
       "      <td id=\"T_d968f_row8_col0\" class=\"data row8 col0\" >0.026312</td>\n",
       "      <td id=\"T_d968f_row8_col1\" class=\"data row8 col1\" >0.026312</td>\n",
       "      <td id=\"T_d968f_row8_col2\" class=\"data row8 col2\" >0.000000</td>\n",
       "      <td id=\"T_d968f_row8_col3\" class=\"data row8 col3\" >0.186712</td>\n",
       "      <td id=\"T_d968f_row8_col4\" class=\"data row8 col4\" >23.570000</td>\n",
       "      <td id=\"T_d968f_row8_col5\" class=\"data row8 col5\" >2</td>\n",
       "    </tr>\n",
       "  </tbody>\n",
       "</table>\n"
      ],
      "text/plain": [
       "<pandas.io.formats.style.Styler at 0x7f2619ef60d0>"
      ]
     },
     "execution_count": 14,
     "metadata": {},
     "output_type": "execute_result"
    }
   ],
   "source": [
    "sty_report_pos = report_pos.style.background_gradient(cmap='Blues_r', subset=color_lst)\n",
    "sty_report_pos"
   ]
  },
  {
   "cell_type": "code",
   "execution_count": 15,
   "metadata": {
    "execution": {
     "iopub.execute_input": "2024-12-26T13:18:11.581632Z",
     "iopub.status.busy": "2024-12-26T13:18:11.581158Z",
     "iopub.status.idle": "2024-12-26T13:18:11.592857Z",
     "shell.execute_reply": "2024-12-26T13:18:11.591912Z"
    }
   },
   "outputs": [],
   "source": [
    "sty_report_top0 = report_top.head(10).style.background_gradient(axis=0, subset=color_lst)\n",
    "sty_report_top1 = report_top.head(20).tail(10).style.background_gradient(axis=0, subset=color_lst)\n",
    "sty_report_top2 = report_top.head(30).tail(10).style.background_gradient(axis=0, subset=color_lst)\n",
    "sty_report_top3 = report_top.head(40).tail(10).style.background_gradient(axis=0, subset=color_lst)\n",
    "sty_report_top4 = report_top.head(50).tail(10).style.background_gradient(axis=0, subset=color_lst)\n",
    "sty_report_top5 = report_top.head(60).tail(10).style.background_gradient(axis=0, subset=color_lst)\n",
    "sty_report_top6 = report_top.head(70).tail(10).style.background_gradient(axis=0, subset=color_lst)\n",
    "sty_report_top7 = report_top.head(80).tail(10).style.background_gradient(axis=0, subset=color_lst)\n",
    "sty_report_top8 = report_top.head(90).tail(10).style.background_gradient(axis=0, subset=color_lst)\n",
    "sty_report_top9 = report_top.head(100).tail(10).style.background_gradient(axis=0, subset=color_lst)\n",
    "sty_report_top10 = report_top.head(110).tail(10).style.background_gradient(axis=0, subset=color_lst)\n",
    "sty_report_top11 = report_top.head(120).tail(10).style.background_gradient(axis=0, subset=color_lst)\n",
    "sty_report_top12 = report_top.head(130).tail(10).style.background_gradient(axis=0, subset=color_lst)\n",
    "sty_report_top13 = report_top.head(140).tail(10).style.background_gradient(axis=0, subset=color_lst)\n",
    "sty_report_top14 = report_top.head(150).tail(10).style.background_gradient(axis=0, subset=color_lst)"
   ]
  },
  {
   "cell_type": "code",
   "execution_count": 16,
   "metadata": {
    "execution": {
     "iopub.execute_input": "2024-12-26T13:18:11.596084Z",
     "iopub.status.busy": "2024-12-26T13:18:11.595743Z",
     "iopub.status.idle": "2024-12-26T13:18:11.611727Z",
     "shell.execute_reply": "2024-12-26T13:18:11.610924Z"
    }
   },
   "outputs": [
    {
     "data": {
      "text/html": [
       "<style type=\"text/css\">\n",
       "#T_75ece_row0_col0, #T_75ece_row0_col1, #T_75ece_row0_col3 {\n",
       "  background-color: #023858;\n",
       "  color: #f1f1f1;\n",
       "}\n",
       "#T_75ece_row0_col2, #T_75ece_row1_col2, #T_75ece_row2_col2, #T_75ece_row3_col2, #T_75ece_row4_col2, #T_75ece_row5_col2, #T_75ece_row6_col0, #T_75ece_row6_col1, #T_75ece_row6_col2, #T_75ece_row6_col3, #T_75ece_row7_col0, #T_75ece_row7_col1, #T_75ece_row7_col2, #T_75ece_row7_col3, #T_75ece_row8_col0, #T_75ece_row8_col1, #T_75ece_row8_col2, #T_75ece_row8_col3, #T_75ece_row9_col0, #T_75ece_row9_col1, #T_75ece_row9_col2, #T_75ece_row9_col3 {\n",
       "  background-color: #fff7fb;\n",
       "  color: #000000;\n",
       "}\n",
       "#T_75ece_row1_col0, #T_75ece_row1_col1, #T_75ece_row1_col3 {\n",
       "  background-color: #0569a5;\n",
       "  color: #f1f1f1;\n",
       "}\n",
       "#T_75ece_row2_col0, #T_75ece_row2_col1, #T_75ece_row2_col3 {\n",
       "  background-color: #fcf4fa;\n",
       "  color: #000000;\n",
       "}\n",
       "#T_75ece_row3_col0, #T_75ece_row3_col1, #T_75ece_row3_col3 {\n",
       "  background-color: #fef6fa;\n",
       "  color: #000000;\n",
       "}\n",
       "#T_75ece_row4_col0, #T_75ece_row4_col1, #T_75ece_row4_col3, #T_75ece_row5_col0, #T_75ece_row5_col1, #T_75ece_row5_col3 {\n",
       "  background-color: #fef6fb;\n",
       "  color: #000000;\n",
       "}\n",
       "</style>\n",
       "<table id=\"T_75ece\">\n",
       "  <thead>\n",
       "    <tr>\n",
       "      <th class=\"blank level0\" >&nbsp;</th>\n",
       "      <th id=\"T_75ece_level0_col0\" class=\"col_heading level0 col0\" >DENSEMBLEGBM</th>\n",
       "      <th id=\"T_75ece_level0_col1\" class=\"col_heading level0 col1\" >mean</th>\n",
       "      <th id=\"T_75ece_level0_col2\" class=\"col_heading level0 col2\" >std</th>\n",
       "      <th id=\"T_75ece_level0_col3\" class=\"col_heading level0 col3\" >score</th>\n",
       "      <th id=\"T_75ece_level0_col4\" class=\"col_heading level0 col4\" >close</th>\n",
       "    </tr>\n",
       "    <tr>\n",
       "      <th class=\"index_name level0\" >instrument</th>\n",
       "      <th class=\"blank col0\" >&nbsp;</th>\n",
       "      <th class=\"blank col1\" >&nbsp;</th>\n",
       "      <th class=\"blank col2\" >&nbsp;</th>\n",
       "      <th class=\"blank col3\" >&nbsp;</th>\n",
       "      <th class=\"blank col4\" >&nbsp;</th>\n",
       "    </tr>\n",
       "  </thead>\n",
       "  <tbody>\n",
       "    <tr>\n",
       "      <th id=\"T_75ece_level0_row0\" class=\"row_heading level0 row0\" >SZ000627</th>\n",
       "      <td id=\"T_75ece_row0_col0\" class=\"data row0 col0\" >2.174348</td>\n",
       "      <td id=\"T_75ece_row0_col1\" class=\"data row0 col1\" >2.174348</td>\n",
       "      <td id=\"T_75ece_row0_col2\" class=\"data row0 col2\" >0.000000</td>\n",
       "      <td id=\"T_75ece_row0_col3\" class=\"data row0 col3\" >15.429519</td>\n",
       "      <td id=\"T_75ece_row0_col4\" class=\"data row0 col4\" >6.010000</td>\n",
       "    </tr>\n",
       "    <tr>\n",
       "      <th id=\"T_75ece_level0_row1\" class=\"row_heading level0 row1\" >SH600986</th>\n",
       "      <td id=\"T_75ece_row1_col0\" class=\"data row1 col0\" >1.731874</td>\n",
       "      <td id=\"T_75ece_row1_col1\" class=\"data row1 col1\" >1.731874</td>\n",
       "      <td id=\"T_75ece_row1_col2\" class=\"data row1 col2\" >0.000000</td>\n",
       "      <td id=\"T_75ece_row1_col3\" class=\"data row1 col3\" >12.289652</td>\n",
       "      <td id=\"T_75ece_row1_col4\" class=\"data row1 col4\" >7.760000</td>\n",
       "    </tr>\n",
       "    <tr>\n",
       "      <th id=\"T_75ece_level0_row2\" class=\"row_heading level0 row2\" >SZ002183</th>\n",
       "      <td id=\"T_75ece_row2_col0\" class=\"data row2 col0\" >0.144227</td>\n",
       "      <td id=\"T_75ece_row2_col1\" class=\"data row2 col1\" >0.144227</td>\n",
       "      <td id=\"T_75ece_row2_col2\" class=\"data row2 col2\" >0.000000</td>\n",
       "      <td id=\"T_75ece_row2_col3\" class=\"data row2 col3\" >1.023460</td>\n",
       "      <td id=\"T_75ece_row2_col4\" class=\"data row2 col4\" >18.980001</td>\n",
       "    </tr>\n",
       "    <tr>\n",
       "      <th id=\"T_75ece_level0_row3\" class=\"row_heading level0 row3\" >SH600837</th>\n",
       "      <td id=\"T_75ece_row3_col0\" class=\"data row3 col0\" >0.117757</td>\n",
       "      <td id=\"T_75ece_row3_col1\" class=\"data row3 col1\" >0.117757</td>\n",
       "      <td id=\"T_75ece_row3_col2\" class=\"data row3 col2\" >0.000000</td>\n",
       "      <td id=\"T_75ece_row3_col3\" class=\"data row3 col3\" >0.835621</td>\n",
       "      <td id=\"T_75ece_row3_col4\" class=\"data row3 col4\" >20.790001</td>\n",
       "    </tr>\n",
       "    <tr>\n",
       "      <th id=\"T_75ece_level0_row4\" class=\"row_heading level0 row4\" >SH600335</th>\n",
       "      <td id=\"T_75ece_row4_col0\" class=\"data row4 col0\" >0.110272</td>\n",
       "      <td id=\"T_75ece_row4_col1\" class=\"data row4 col1\" >0.110272</td>\n",
       "      <td id=\"T_75ece_row4_col2\" class=\"data row4 col2\" >0.000000</td>\n",
       "      <td id=\"T_75ece_row4_col3\" class=\"data row4 col3\" >0.782510</td>\n",
       "      <td id=\"T_75ece_row4_col4\" class=\"data row4 col4\" >22.180000</td>\n",
       "    </tr>\n",
       "    <tr>\n",
       "      <th id=\"T_75ece_level0_row5\" class=\"row_heading level0 row5\" >SH600641</th>\n",
       "      <td id=\"T_75ece_row5_col0\" class=\"data row5 col0\" >0.108927</td>\n",
       "      <td id=\"T_75ece_row5_col1\" class=\"data row5 col1\" >0.108927</td>\n",
       "      <td id=\"T_75ece_row5_col2\" class=\"data row5 col2\" >0.000000</td>\n",
       "      <td id=\"T_75ece_row5_col3\" class=\"data row5 col3\" >0.772963</td>\n",
       "      <td id=\"T_75ece_row5_col4\" class=\"data row5 col4\" >6.030000</td>\n",
       "    </tr>\n",
       "    <tr>\n",
       "      <th id=\"T_75ece_level0_row6\" class=\"row_heading level0 row6\" >SH600782</th>\n",
       "      <td id=\"T_75ece_row6_col0\" class=\"data row6 col0\" >0.104727</td>\n",
       "      <td id=\"T_75ece_row6_col1\" class=\"data row6 col1\" >0.104727</td>\n",
       "      <td id=\"T_75ece_row6_col2\" class=\"data row6 col2\" >0.000000</td>\n",
       "      <td id=\"T_75ece_row6_col3\" class=\"data row6 col3\" >0.743161</td>\n",
       "      <td id=\"T_75ece_row6_col4\" class=\"data row6 col4\" >5.820000</td>\n",
       "    </tr>\n",
       "    <tr>\n",
       "      <th id=\"T_75ece_level0_row7\" class=\"row_heading level0 row7\" >SH601318</th>\n",
       "      <td id=\"T_75ece_row7_col0\" class=\"data row7 col0\" >0.103972</td>\n",
       "      <td id=\"T_75ece_row7_col1\" class=\"data row7 col1\" >0.103972</td>\n",
       "      <td id=\"T_75ece_row7_col2\" class=\"data row7 col2\" >0.000000</td>\n",
       "      <td id=\"T_75ece_row7_col3\" class=\"data row7 col3\" >0.737804</td>\n",
       "      <td id=\"T_75ece_row7_col4\" class=\"data row7 col4\" >77.360001</td>\n",
       "    </tr>\n",
       "    <tr>\n",
       "      <th id=\"T_75ece_level0_row8\" class=\"row_heading level0 row8\" >SZ000069</th>\n",
       "      <td id=\"T_75ece_row8_col0\" class=\"data row8 col0\" >0.103506</td>\n",
       "      <td id=\"T_75ece_row8_col1\" class=\"data row8 col1\" >0.103506</td>\n",
       "      <td id=\"T_75ece_row8_col2\" class=\"data row8 col2\" >0.000000</td>\n",
       "      <td id=\"T_75ece_row8_col3\" class=\"data row8 col3\" >0.734496</td>\n",
       "      <td id=\"T_75ece_row8_col4\" class=\"data row8 col4\" >7.880000</td>\n",
       "    </tr>\n",
       "    <tr>\n",
       "      <th id=\"T_75ece_level0_row9\" class=\"row_heading level0 row9\" >SH601601</th>\n",
       "      <td id=\"T_75ece_row9_col0\" class=\"data row9 col0\" >0.099641</td>\n",
       "      <td id=\"T_75ece_row9_col1\" class=\"data row9 col1\" >0.099641</td>\n",
       "      <td id=\"T_75ece_row9_col2\" class=\"data row9 col2\" >0.000000</td>\n",
       "      <td id=\"T_75ece_row9_col3\" class=\"data row9 col3\" >0.707065</td>\n",
       "      <td id=\"T_75ece_row9_col4\" class=\"data row9 col4\" >33.139999</td>\n",
       "    </tr>\n",
       "  </tbody>\n",
       "</table>\n"
      ],
      "text/plain": [
       "<pandas.io.formats.style.Styler at 0x7f26187e1e80>"
      ]
     },
     "execution_count": 16,
     "metadata": {},
     "output_type": "execute_result"
    }
   ],
   "source": [
    "sty_report_top0"
   ]
  },
  {
   "cell_type": "code",
   "execution_count": 17,
   "metadata": {
    "execution": {
     "iopub.execute_input": "2024-12-26T13:18:11.615012Z",
     "iopub.status.busy": "2024-12-26T13:18:11.614677Z",
     "iopub.status.idle": "2024-12-26T13:18:11.630343Z",
     "shell.execute_reply": "2024-12-26T13:18:11.629504Z"
    }
   },
   "outputs": [
    {
     "data": {
      "text/html": [
       "<style type=\"text/css\">\n",
       "#T_96621_row0_col0, #T_96621_row0_col1, #T_96621_row0_col3 {\n",
       "  background-color: #023858;\n",
       "  color: #f1f1f1;\n",
       "}\n",
       "#T_96621_row0_col2, #T_96621_row1_col2, #T_96621_row2_col2, #T_96621_row3_col2, #T_96621_row4_col2, #T_96621_row5_col2, #T_96621_row6_col2, #T_96621_row7_col2, #T_96621_row8_col2, #T_96621_row9_col0, #T_96621_row9_col1, #T_96621_row9_col2, #T_96621_row9_col3 {\n",
       "  background-color: #fff7fb;\n",
       "  color: #000000;\n",
       "}\n",
       "#T_96621_row1_col0, #T_96621_row1_col1, #T_96621_row1_col3 {\n",
       "  background-color: #034c78;\n",
       "  color: #f1f1f1;\n",
       "}\n",
       "#T_96621_row2_col0, #T_96621_row2_col1, #T_96621_row2_col3 {\n",
       "  background-color: #045483;\n",
       "  color: #f1f1f1;\n",
       "}\n",
       "#T_96621_row3_col0, #T_96621_row3_col1, #T_96621_row3_col3 {\n",
       "  background-color: #4094c3;\n",
       "  color: #f1f1f1;\n",
       "}\n",
       "#T_96621_row4_col0, #T_96621_row4_col1, #T_96621_row4_col3 {\n",
       "  background-color: #60a1ca;\n",
       "  color: #f1f1f1;\n",
       "}\n",
       "#T_96621_row5_col0, #T_96621_row5_col1, #T_96621_row5_col3 {\n",
       "  background-color: #7dacd1;\n",
       "  color: #f1f1f1;\n",
       "}\n",
       "#T_96621_row6_col0, #T_96621_row6_col1, #T_96621_row6_col3 {\n",
       "  background-color: #a1bbda;\n",
       "  color: #000000;\n",
       "}\n",
       "#T_96621_row7_col0, #T_96621_row7_col1, #T_96621_row7_col3 {\n",
       "  background-color: #fdf5fa;\n",
       "  color: #000000;\n",
       "}\n",
       "#T_96621_row8_col0, #T_96621_row8_col1, #T_96621_row8_col3 {\n",
       "  background-color: #fef6fb;\n",
       "  color: #000000;\n",
       "}\n",
       "</style>\n",
       "<table id=\"T_96621\">\n",
       "  <thead>\n",
       "    <tr>\n",
       "      <th class=\"blank level0\" >&nbsp;</th>\n",
       "      <th id=\"T_96621_level0_col0\" class=\"col_heading level0 col0\" >DENSEMBLEGBM</th>\n",
       "      <th id=\"T_96621_level0_col1\" class=\"col_heading level0 col1\" >mean</th>\n",
       "      <th id=\"T_96621_level0_col2\" class=\"col_heading level0 col2\" >std</th>\n",
       "      <th id=\"T_96621_level0_col3\" class=\"col_heading level0 col3\" >score</th>\n",
       "      <th id=\"T_96621_level0_col4\" class=\"col_heading level0 col4\" >close</th>\n",
       "    </tr>\n",
       "    <tr>\n",
       "      <th class=\"index_name level0\" >instrument</th>\n",
       "      <th class=\"blank col0\" >&nbsp;</th>\n",
       "      <th class=\"blank col1\" >&nbsp;</th>\n",
       "      <th class=\"blank col2\" >&nbsp;</th>\n",
       "      <th class=\"blank col3\" >&nbsp;</th>\n",
       "      <th class=\"blank col4\" >&nbsp;</th>\n",
       "    </tr>\n",
       "  </thead>\n",
       "  <tbody>\n",
       "    <tr>\n",
       "      <th id=\"T_96621_level0_row0\" class=\"row_heading level0 row0\" >SZ002075</th>\n",
       "      <td id=\"T_96621_row0_col0\" class=\"data row0 col0\" >0.082418</td>\n",
       "      <td id=\"T_96621_row0_col1\" class=\"data row0 col1\" >0.082418</td>\n",
       "      <td id=\"T_96621_row0_col2\" class=\"data row0 col2\" >0.000000</td>\n",
       "      <td id=\"T_96621_row0_col3\" class=\"data row0 col3\" >0.584855</td>\n",
       "      <td id=\"T_96621_row0_col4\" class=\"data row0 col4\" >5.640000</td>\n",
       "    </tr>\n",
       "    <tr>\n",
       "      <th id=\"T_96621_level0_row1\" class=\"row_heading level0 row1\" >SH601988</th>\n",
       "      <td id=\"T_96621_row1_col0\" class=\"data row1 col0\" >0.079183</td>\n",
       "      <td id=\"T_96621_row1_col1\" class=\"data row1 col1\" >0.079183</td>\n",
       "      <td id=\"T_96621_row1_col2\" class=\"data row1 col2\" >0.000000</td>\n",
       "      <td id=\"T_96621_row1_col3\" class=\"data row1 col3\" >0.561898</td>\n",
       "      <td id=\"T_96621_row1_col4\" class=\"data row1 col4\" >4.890000</td>\n",
       "    </tr>\n",
       "    <tr>\n",
       "      <th id=\"T_96621_level0_row2\" class=\"row_heading level0 row2\" >SH600783</th>\n",
       "      <td id=\"T_96621_row2_col0\" class=\"data row2 col0\" >0.078075</td>\n",
       "      <td id=\"T_96621_row2_col1\" class=\"data row2 col1\" >0.078075</td>\n",
       "      <td id=\"T_96621_row2_col2\" class=\"data row2 col2\" >0.000000</td>\n",
       "      <td id=\"T_96621_row2_col3\" class=\"data row2 col3\" >0.554033</td>\n",
       "      <td id=\"T_96621_row2_col4\" class=\"data row2 col4\" >31.820002</td>\n",
       "    </tr>\n",
       "    <tr>\n",
       "      <th id=\"T_96621_level0_row3\" class=\"row_heading level0 row3\" >SZ000628</th>\n",
       "      <td id=\"T_96621_row3_col0\" class=\"data row3 col0\" >0.065495</td>\n",
       "      <td id=\"T_96621_row3_col1\" class=\"data row3 col1\" >0.065495</td>\n",
       "      <td id=\"T_96621_row3_col2\" class=\"data row3 col2\" >0.000000</td>\n",
       "      <td id=\"T_96621_row3_col3\" class=\"data row3 col3\" >0.464761</td>\n",
       "      <td id=\"T_96621_row3_col4\" class=\"data row3 col4\" >9.150001</td>\n",
       "    </tr>\n",
       "    <tr>\n",
       "      <th id=\"T_96621_level0_row4\" class=\"row_heading level0 row4\" >SZ000557</th>\n",
       "      <td id=\"T_96621_row4_col0\" class=\"data row4 col0\" >0.062750</td>\n",
       "      <td id=\"T_96621_row4_col1\" class=\"data row4 col1\" >0.062750</td>\n",
       "      <td id=\"T_96621_row4_col2\" class=\"data row4 col2\" >0.000000</td>\n",
       "      <td id=\"T_96621_row4_col3\" class=\"data row4 col3\" >0.445285</td>\n",
       "      <td id=\"T_96621_row4_col4\" class=\"data row4 col4\" >5.570000</td>\n",
       "    </tr>\n",
       "    <tr>\n",
       "      <th id=\"T_96621_level0_row5\" class=\"row_heading level0 row5\" >SZ300122</th>\n",
       "      <td id=\"T_96621_row5_col0\" class=\"data row5 col0\" >0.060152</td>\n",
       "      <td id=\"T_96621_row5_col1\" class=\"data row5 col1\" >0.060152</td>\n",
       "      <td id=\"T_96621_row5_col2\" class=\"data row5 col2\" >0.000000</td>\n",
       "      <td id=\"T_96621_row5_col3\" class=\"data row5 col3\" >0.426849</td>\n",
       "      <td id=\"T_96621_row5_col4\" class=\"data row5 col4\" >21.510000</td>\n",
       "    </tr>\n",
       "    <tr>\n",
       "      <th id=\"T_96621_level0_row6\" class=\"row_heading level0 row6\" >SH600643</th>\n",
       "      <td id=\"T_96621_row6_col0\" class=\"data row6 col0\" >0.056301</td>\n",
       "      <td id=\"T_96621_row6_col1\" class=\"data row6 col1\" >0.056301</td>\n",
       "      <td id=\"T_96621_row6_col2\" class=\"data row6 col2\" >0.000000</td>\n",
       "      <td id=\"T_96621_row6_col3\" class=\"data row6 col3\" >0.399521</td>\n",
       "      <td id=\"T_96621_row6_col4\" class=\"data row6 col4\" >12.770000</td>\n",
       "    </tr>\n",
       "    <tr>\n",
       "      <th id=\"T_96621_level0_row7\" class=\"row_heading level0 row7\" >SZ002318</th>\n",
       "      <td id=\"T_96621_row7_col0\" class=\"data row7 col0\" >0.040339</td>\n",
       "      <td id=\"T_96621_row7_col1\" class=\"data row7 col1\" >0.040339</td>\n",
       "      <td id=\"T_96621_row7_col2\" class=\"data row7 col2\" >0.000000</td>\n",
       "      <td id=\"T_96621_row7_col3\" class=\"data row7 col3\" >0.286251</td>\n",
       "      <td id=\"T_96621_row7_col4\" class=\"data row7 col4\" >39.610001</td>\n",
       "    </tr>\n",
       "    <tr>\n",
       "      <th id=\"T_96621_level0_row8\" class=\"row_heading level0 row8\" >SH600026</th>\n",
       "      <td id=\"T_96621_row8_col0\" class=\"data row8 col0\" >0.039904</td>\n",
       "      <td id=\"T_96621_row8_col1\" class=\"data row8 col1\" >0.039904</td>\n",
       "      <td id=\"T_96621_row8_col2\" class=\"data row8 col2\" >0.000000</td>\n",
       "      <td id=\"T_96621_row8_col3\" class=\"data row8 col3\" >0.283162</td>\n",
       "      <td id=\"T_96621_row8_col4\" class=\"data row8 col4\" >8.280000</td>\n",
       "    </tr>\n",
       "    <tr>\n",
       "      <th id=\"T_96621_level0_row9\" class=\"row_heading level0 row9\" >SZ000977</th>\n",
       "      <td id=\"T_96621_row9_col0\" class=\"data row9 col0\" >0.039680</td>\n",
       "      <td id=\"T_96621_row9_col1\" class=\"data row9 col1\" >0.039680</td>\n",
       "      <td id=\"T_96621_row9_col2\" class=\"data row9 col2\" >0.000000</td>\n",
       "      <td id=\"T_96621_row9_col3\" class=\"data row9 col3\" >0.281575</td>\n",
       "      <td id=\"T_96621_row9_col4\" class=\"data row9 col4\" >45.299999</td>\n",
       "    </tr>\n",
       "  </tbody>\n",
       "</table>\n"
      ],
      "text/plain": [
       "<pandas.io.formats.style.Styler at 0x7f26187e1fa0>"
      ]
     },
     "execution_count": 17,
     "metadata": {},
     "output_type": "execute_result"
    }
   ],
   "source": [
    "sty_report_top1"
   ]
  },
  {
   "cell_type": "code",
   "execution_count": 18,
   "metadata": {
    "execution": {
     "iopub.execute_input": "2024-12-26T13:18:11.633506Z",
     "iopub.status.busy": "2024-12-26T13:18:11.633176Z",
     "iopub.status.idle": "2024-12-26T13:18:11.648181Z",
     "shell.execute_reply": "2024-12-26T13:18:11.647429Z"
    }
   },
   "outputs": [
    {
     "data": {
      "text/html": [
       "<style type=\"text/css\">\n",
       "#T_ba463_row0_col0, #T_ba463_row0_col1, #T_ba463_row0_col3 {\n",
       "  background-color: #023858;\n",
       "  color: #f1f1f1;\n",
       "}\n",
       "#T_ba463_row0_col2, #T_ba463_row1_col2, #T_ba463_row2_col2, #T_ba463_row3_col2, #T_ba463_row4_col2, #T_ba463_row5_col2, #T_ba463_row6_col2, #T_ba463_row7_col2, #T_ba463_row8_col2, #T_ba463_row9_col0, #T_ba463_row9_col1, #T_ba463_row9_col2, #T_ba463_row9_col3 {\n",
       "  background-color: #fff7fb;\n",
       "  color: #000000;\n",
       "}\n",
       "#T_ba463_row1_col0, #T_ba463_row1_col1, #T_ba463_row1_col3 {\n",
       "  background-color: #045b8f;\n",
       "  color: #f1f1f1;\n",
       "}\n",
       "#T_ba463_row2_col0, #T_ba463_row2_col1, #T_ba463_row2_col3 {\n",
       "  background-color: #0569a4;\n",
       "  color: #f1f1f1;\n",
       "}\n",
       "#T_ba463_row3_col0, #T_ba463_row3_col1, #T_ba463_row3_col3 {\n",
       "  background-color: #348ebf;\n",
       "  color: #f1f1f1;\n",
       "}\n",
       "#T_ba463_row4_col0, #T_ba463_row4_col1, #T_ba463_row4_col3 {\n",
       "  background-color: #81aed2;\n",
       "  color: #f1f1f1;\n",
       "}\n",
       "#T_ba463_row5_col0, #T_ba463_row5_col1, #T_ba463_row5_col3 {\n",
       "  background-color: #a7bddb;\n",
       "  color: #000000;\n",
       "}\n",
       "#T_ba463_row6_col0, #T_ba463_row6_col1, #T_ba463_row6_col3 {\n",
       "  background-color: #e2dfee;\n",
       "  color: #000000;\n",
       "}\n",
       "#T_ba463_row7_col0, #T_ba463_row7_col1, #T_ba463_row7_col3 {\n",
       "  background-color: #e6e2ef;\n",
       "  color: #000000;\n",
       "}\n",
       "#T_ba463_row8_col0, #T_ba463_row8_col1, #T_ba463_row8_col3 {\n",
       "  background-color: #f9f2f8;\n",
       "  color: #000000;\n",
       "}\n",
       "</style>\n",
       "<table id=\"T_ba463\">\n",
       "  <thead>\n",
       "    <tr>\n",
       "      <th class=\"blank level0\" >&nbsp;</th>\n",
       "      <th id=\"T_ba463_level0_col0\" class=\"col_heading level0 col0\" >DENSEMBLEGBM</th>\n",
       "      <th id=\"T_ba463_level0_col1\" class=\"col_heading level0 col1\" >mean</th>\n",
       "      <th id=\"T_ba463_level0_col2\" class=\"col_heading level0 col2\" >std</th>\n",
       "      <th id=\"T_ba463_level0_col3\" class=\"col_heading level0 col3\" >score</th>\n",
       "      <th id=\"T_ba463_level0_col4\" class=\"col_heading level0 col4\" >close</th>\n",
       "    </tr>\n",
       "    <tr>\n",
       "      <th class=\"index_name level0\" >instrument</th>\n",
       "      <th class=\"blank col0\" >&nbsp;</th>\n",
       "      <th class=\"blank col1\" >&nbsp;</th>\n",
       "      <th class=\"blank col2\" >&nbsp;</th>\n",
       "      <th class=\"blank col3\" >&nbsp;</th>\n",
       "      <th class=\"blank col4\" >&nbsp;</th>\n",
       "    </tr>\n",
       "  </thead>\n",
       "  <tbody>\n",
       "    <tr>\n",
       "      <th id=\"T_ba463_level0_row0\" class=\"row_heading level0 row0\" >SZ002456</th>\n",
       "      <td id=\"T_ba463_row0_col0\" class=\"data row0 col0\" >0.039519</td>\n",
       "      <td id=\"T_ba463_row0_col1\" class=\"data row0 col1\" >0.039519</td>\n",
       "      <td id=\"T_ba463_row0_col2\" class=\"data row0 col2\" >0.000000</td>\n",
       "      <td id=\"T_ba463_row0_col3\" class=\"data row0 col3\" >0.280432</td>\n",
       "      <td id=\"T_ba463_row0_col4\" class=\"data row0 col4\" >22.029999</td>\n",
       "    </tr>\n",
       "    <tr>\n",
       "      <th id=\"T_ba463_level0_row1\" class=\"row_heading level0 row1\" >SZ300080</th>\n",
       "      <td id=\"T_ba463_row1_col0\" class=\"data row1 col0\" >0.038726</td>\n",
       "      <td id=\"T_ba463_row1_col1\" class=\"data row1 col1\" >0.038726</td>\n",
       "      <td id=\"T_ba463_row1_col2\" class=\"data row1 col2\" >0.000000</td>\n",
       "      <td id=\"T_ba463_row1_col3\" class=\"data row1 col3\" >0.274803</td>\n",
       "      <td id=\"T_ba463_row1_col4\" class=\"data row1 col4\" >9.210001</td>\n",
       "    </tr>\n",
       "    <tr>\n",
       "      <th id=\"T_ba463_level0_row2\" class=\"row_heading level0 row2\" >SZ300039</th>\n",
       "      <td id=\"T_ba463_row2_col0\" class=\"data row2 col0\" >0.038281</td>\n",
       "      <td id=\"T_ba463_row2_col1\" class=\"data row2 col1\" >0.038281</td>\n",
       "      <td id=\"T_ba463_row2_col2\" class=\"data row2 col2\" >0.000000</td>\n",
       "      <td id=\"T_ba463_row2_col3\" class=\"data row2 col3\" >0.271648</td>\n",
       "      <td id=\"T_ba463_row2_col4\" class=\"data row2 col4\" >13.900000</td>\n",
       "    </tr>\n",
       "    <tr>\n",
       "      <th id=\"T_ba463_level0_row3\" class=\"row_heading level0 row3\" >SH601028</th>\n",
       "      <td id=\"T_ba463_row3_col0\" class=\"data row3 col0\" >0.037339</td>\n",
       "      <td id=\"T_ba463_row3_col1\" class=\"data row3 col1\" >0.037339</td>\n",
       "      <td id=\"T_ba463_row3_col2\" class=\"data row3 col2\" >0.000000</td>\n",
       "      <td id=\"T_ba463_row3_col3\" class=\"data row3 col3\" >0.264966</td>\n",
       "      <td id=\"T_ba463_row3_col4\" class=\"data row3 col4\" >20.570000</td>\n",
       "    </tr>\n",
       "    <tr>\n",
       "      <th id=\"T_ba463_level0_row4\" class=\"row_heading level0 row4\" >SZ300065</th>\n",
       "      <td id=\"T_ba463_row4_col0\" class=\"data row4 col0\" >0.036371</td>\n",
       "      <td id=\"T_ba463_row4_col1\" class=\"data row4 col1\" >0.036371</td>\n",
       "      <td id=\"T_ba463_row4_col2\" class=\"data row4 col2\" >0.000000</td>\n",
       "      <td id=\"T_ba463_row4_col3\" class=\"data row4 col3\" >0.258097</td>\n",
       "      <td id=\"T_ba463_row4_col4\" class=\"data row4 col4\" >19.329998</td>\n",
       "    </tr>\n",
       "    <tr>\n",
       "      <th id=\"T_ba463_level0_row5\" class=\"row_heading level0 row5\" >SZ000650</th>\n",
       "      <td id=\"T_ba463_row5_col0\" class=\"data row5 col0\" >0.035823</td>\n",
       "      <td id=\"T_ba463_row5_col1\" class=\"data row5 col1\" >0.035823</td>\n",
       "      <td id=\"T_ba463_row5_col2\" class=\"data row5 col2\" >0.000000</td>\n",
       "      <td id=\"T_ba463_row5_col3\" class=\"data row5 col3\" >0.254203</td>\n",
       "      <td id=\"T_ba463_row5_col4\" class=\"data row5 col4\" >8.240000</td>\n",
       "    </tr>\n",
       "    <tr>\n",
       "      <th id=\"T_ba463_level0_row6\" class=\"row_heading level0 row6\" >SZ002179</th>\n",
       "      <td id=\"T_ba463_row6_col0\" class=\"data row6 col0\" >0.034623</td>\n",
       "      <td id=\"T_ba463_row6_col1\" class=\"data row6 col1\" >0.034623</td>\n",
       "      <td id=\"T_ba463_row6_col2\" class=\"data row6 col2\" >0.000000</td>\n",
       "      <td id=\"T_ba463_row6_col3\" class=\"data row6 col3\" >0.245688</td>\n",
       "      <td id=\"T_ba463_row6_col4\" class=\"data row6 col4\" >25.359999</td>\n",
       "    </tr>\n",
       "    <tr>\n",
       "      <th id=\"T_ba463_level0_row7\" class=\"row_heading level0 row7\" >SH600480</th>\n",
       "      <td id=\"T_ba463_row7_col0\" class=\"data row7 col0\" >0.034532</td>\n",
       "      <td id=\"T_ba463_row7_col1\" class=\"data row7 col1\" >0.034532</td>\n",
       "      <td id=\"T_ba463_row7_col2\" class=\"data row7 col2\" >0.000000</td>\n",
       "      <td id=\"T_ba463_row7_col3\" class=\"data row7 col3\" >0.245045</td>\n",
       "      <td id=\"T_ba463_row7_col4\" class=\"data row7 col4\" >13.740000</td>\n",
       "    </tr>\n",
       "    <tr>\n",
       "      <th id=\"T_ba463_level0_row8\" class=\"row_heading level0 row8\" >SZ002389</th>\n",
       "      <td id=\"T_ba463_row8_col0\" class=\"data row8 col0\" >0.033862</td>\n",
       "      <td id=\"T_ba463_row8_col1\" class=\"data row8 col1\" >0.033862</td>\n",
       "      <td id=\"T_ba463_row8_col2\" class=\"data row8 col2\" >0.000000</td>\n",
       "      <td id=\"T_ba463_row8_col3\" class=\"data row8 col3\" >0.240287</td>\n",
       "      <td id=\"T_ba463_row8_col4\" class=\"data row8 col4\" >10.310000</td>\n",
       "    </tr>\n",
       "    <tr>\n",
       "      <th id=\"T_ba463_level0_row9\" class=\"row_heading level0 row9\" >SZ002332</th>\n",
       "      <td id=\"T_ba463_row9_col0\" class=\"data row9 col0\" >0.033610</td>\n",
       "      <td id=\"T_ba463_row9_col1\" class=\"data row9 col1\" >0.033610</td>\n",
       "      <td id=\"T_ba463_row9_col2\" class=\"data row9 col2\" >0.000000</td>\n",
       "      <td id=\"T_ba463_row9_col3\" class=\"data row9 col3\" >0.238499</td>\n",
       "      <td id=\"T_ba463_row9_col4\" class=\"data row9 col4\" >11.220000</td>\n",
       "    </tr>\n",
       "  </tbody>\n",
       "</table>\n"
      ],
      "text/plain": [
       "<pandas.io.formats.style.Styler at 0x7f26187e1c70>"
      ]
     },
     "execution_count": 18,
     "metadata": {},
     "output_type": "execute_result"
    }
   ],
   "source": [
    "sty_report_top2"
   ]
  },
  {
   "cell_type": "code",
   "execution_count": 19,
   "metadata": {
    "execution": {
     "iopub.execute_input": "2024-12-26T13:18:11.651675Z",
     "iopub.status.busy": "2024-12-26T13:18:11.651344Z",
     "iopub.status.idle": "2024-12-26T13:18:13.672783Z",
     "shell.execute_reply": "2024-12-26T13:18:13.671673Z"
    }
   },
   "outputs": [],
   "source": [
    "import dataframe_image as dfi\n",
    "\n",
    "infodf = pd.DataFrame({'label': ['Model update date', 'Prediction generation date'],\n",
    "                       'date': ['2024-12-11', TODAY]})\n",
    "\n",
    "dfi.export(infodf, './tmp/ensemble_private_all_info.png',table_conversion='matplotlib')\n",
    "\n",
    "# dfi.export(sty_report_info5, './tmp/ensemble_private_all_performance5.png',table_conversion='matplotlib')\n",
    "# dfi.export(sty_report_info10, './tmp/ensemble_private_all_performance10.png',table_conversion='matplotlib')\n",
    "# dfi.export(sty_report_info20, './tmp/ensemble_private_all_performance20.png',table_conversion='matplotlib')\n",
    "dfi.export(sty_report_top0, './tmp/ensemble_private_all_top0.png',table_conversion='matplotlib')\n",
    "dfi.export(sty_report_top1, './tmp/ensemble_private_all_top1.png',table_conversion='matplotlib')\n",
    "dfi.export(sty_report_top2, './tmp/ensemble_private_all_top2.png',table_conversion='matplotlib')\n",
    "dfi.export(sty_report_top3, './tmp/ensemble_private_all_top3.png',table_conversion='matplotlib')\n",
    "dfi.export(sty_report_top4, './tmp/ensemble_private_all_top4.png',table_conversion='matplotlib')\n",
    "dfi.export(sty_report_top5, './tmp/ensemble_private_all_top5.png',table_conversion='matplotlib')\n",
    "# dfi.export(sty_report_top6, './tmp/ensemble_private_all_top6.png',table_conversion='matplotlib')\n",
    "# dfi.export(sty_report_top7, './tmp/ensemble_private_all_top7.png',table_conversion='matplotlib')\n",
    "# dfi.export(sty_report_top8, './tmp/ensemble_private_all_top8.png',table_conversion='matplotlib')\n",
    "# dfi.export(sty_report_top9, './tmp/ensemble_private_all_top9.png',table_conversion='matplotlib')\n",
    "# dfi.export(sty_report_top10, './tmp/ensemble_private_all_top10.png',table_conversion='matplotlib')\n",
    "# dfi.export(sty_report_top11, './tmp/ensemble_private_all_top11.png',table_conversion='matplotlib')\n",
    "# dfi.export(sty_report_top12, './tmp/ensemble_private_all_top12.png',table_conversion='matplotlib')\n",
    "# dfi.export(sty_report_top13, './tmp/ensemble_private_all_top13.png',table_conversion='matplotlib')\n",
    "# dfi.export(sty_report_top14, './tmp/ensemble_private_all_top14.png',table_conversion='matplotlib')\n",
    "dfi.export(sty_report_pos, './tmp/ensemble_private_all_watch.png',table_conversion='matplotlib')"
   ]
  },
  {
   "cell_type": "code",
   "execution_count": 20,
   "metadata": {
    "execution": {
     "iopub.execute_input": "2024-12-26T13:18:13.677380Z",
     "iopub.status.busy": "2024-12-26T13:18:13.676848Z",
     "iopub.status.idle": "2024-12-26T13:18:14.548224Z",
     "shell.execute_reply": "2024-12-26T13:18:14.547142Z"
    }
   },
   "outputs": [],
   "source": [
    "\n",
    "for k in [1,5,10,20]:\n",
    "    sty_report_win_info = eval(f\"pd.DataFrame(info_win_dict{k}, index=['TOP50WIN', '0-5', '5-10', '10-20', '20-30', '30-40', '40-50', '50-60', '60-70', '70-80', '80-90', '90-100', '100-110', '110-120', '120-130', '130-140', '140-150'])\").style.background_gradient(axis=None)\n",
    "    sty_report_ic_info = eval(f\"pd.DataFrame(info_ic_dict{k}, index=['TOP50IC', '0-5', '5-10', '10-20', '20-30', '30-40', '40-50', '50-60', '60-70', '70-80', '80-90', '90-100', '100-110', '110-120', '120-130', '130-140', '140-150'])\").style.background_gradient(axis=None)\n",
    "    dfi.export(sty_report_win_info, f'./tmp/ensemble_private_all_win{k}.png',table_conversion='matplotlib')\n",
    "    dfi.export(sty_report_ic_info, f'./tmp/ensemble_private_all_ic{k}.png',table_conversion='matplotlib')"
   ]
  },
  {
   "cell_type": "code",
   "execution_count": 21,
   "metadata": {
    "execution": {
     "iopub.execute_input": "2024-12-26T13:18:14.552677Z",
     "iopub.status.busy": "2024-12-26T13:18:14.552297Z",
     "iopub.status.idle": "2024-12-26T13:18:14.567748Z",
     "shell.execute_reply": "2024-12-26T13:18:14.566891Z"
    }
   },
   "outputs": [
    {
     "data": {
      "text/html": [
       "<div>\n",
       "<style scoped>\n",
       "    .dataframe tbody tr th:only-of-type {\n",
       "        vertical-align: middle;\n",
       "    }\n",
       "\n",
       "    .dataframe tbody tr th {\n",
       "        vertical-align: top;\n",
       "    }\n",
       "\n",
       "    .dataframe thead th {\n",
       "        text-align: right;\n",
       "    }\n",
       "</style>\n",
       "<table border=\"1\" class=\"dataframe\">\n",
       "  <thead>\n",
       "    <tr style=\"text-align: right;\">\n",
       "      <th></th>\n",
       "      <th>Cash</th>\n",
       "      <th>Stock Value</th>\n",
       "      <th>Total Value</th>\n",
       "      <th>Balance</th>\n",
       "      <th>Return</th>\n",
       "    </tr>\n",
       "  </thead>\n",
       "  <tbody>\n",
       "    <tr>\n",
       "      <th>2024-12-12</th>\n",
       "      <td>316.0</td>\n",
       "      <td>177556.186527</td>\n",
       "      <td>177872.186527</td>\n",
       "      <td>NaN</td>\n",
       "      <td>NaN</td>\n",
       "    </tr>\n",
       "    <tr>\n",
       "      <th>2024-12-13</th>\n",
       "      <td>316.0</td>\n",
       "      <td>139894.741160</td>\n",
       "      <td>140210.741160</td>\n",
       "      <td>-37661.445368</td>\n",
       "      <td>-0.268606</td>\n",
       "    </tr>\n",
       "  </tbody>\n",
       "</table>\n",
       "</div>"
      ],
      "text/plain": [
       "             Cash    Stock Value    Total Value       Balance    Return\n",
       "2024-12-12  316.0  177556.186527  177872.186527           NaN       NaN\n",
       "2024-12-13  316.0  139894.741160  140210.741160 -37661.445368 -0.268606"
      ]
     },
     "execution_count": 21,
     "metadata": {},
     "output_type": "execute_result"
    }
   ],
   "source": [
    "dt_lst = sorted(list(pos_history.keys()))\n",
    "cash, sv, tot = [], [], []\n",
    "for dt in dt_lst:\n",
    "    pos: Position = pos_history[dt]\n",
    "    cash.append(pos.get_cash())\n",
    "    sv.append(pos.calculate_stock_value())\n",
    "    tot.append(pos.calculate_value())\n",
    "res = pd.DataFrame({'Cash':cash, 'Stock Value':sv, 'Total Value':tot}, index=[d.date() for d in dt_lst])\n",
    "res['Balance'] = res['Total Value'] - res['Total Value'].shift(1) \n",
    "res['Return'] = res['Balance'] / res['Total Value']\n",
    "res"
   ]
  },
  {
   "cell_type": "code",
   "execution_count": 22,
   "metadata": {
    "execution": {
     "iopub.execute_input": "2024-12-26T13:18:14.571637Z",
     "iopub.status.busy": "2024-12-26T13:18:14.571297Z",
     "iopub.status.idle": "2024-12-26T13:18:14.611482Z",
     "shell.execute_reply": "2024-12-26T13:18:14.610441Z"
    }
   },
   "outputs": [],
   "source": [
    "dfi.export(res, './tmp/private_account.png',table_conversion='matplotlib')"
   ]
  },
  {
   "cell_type": "code",
   "execution_count": 23,
   "metadata": {
    "execution": {
     "iopub.execute_input": "2024-12-26T13:18:14.614337Z",
     "iopub.status.busy": "2024-12-26T13:18:14.614003Z",
     "iopub.status.idle": "2024-12-26T13:18:14.639807Z",
     "shell.execute_reply": "2024-12-26T13:18:14.638402Z"
    }
   },
   "outputs": [],
   "source": [
    "infodf = pd.DataFrame({'label': ['Update date', 'Backtest start date'],\n",
    "                    'value': [TODAY, BT_START]})\n",
    "\n",
    "dfi.export(infodf, f'./tmp/summary_info.png',table_conversion='matplotlib')"
   ]
  }
 ],
 "metadata": {
  "kernelspec": {
   "display_name": "qlib39",
   "language": "python",
   "name": "python3"
  },
  "language_info": {
   "codemirror_mode": {
    "name": "ipython",
    "version": 3
   },
   "file_extension": ".py",
   "mimetype": "text/x-python",
   "name": "python",
   "nbconvert_exporter": "python",
   "pygments_lexer": "ipython3",
   "version": "3.9.20"
  }
 },
 "nbformat": 4,
 "nbformat_minor": 2
}
