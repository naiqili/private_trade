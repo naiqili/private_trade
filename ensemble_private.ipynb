{
 "cells": [
  {
   "cell_type": "code",
   "execution_count": 1,
   "metadata": {
    "execution": {
     "iopub.execute_input": "2024-12-25T13:29:23.001694Z",
     "iopub.status.busy": "2024-12-25T13:29:23.001057Z",
     "iopub.status.idle": "2024-12-25T13:29:23.347561Z",
     "shell.execute_reply": "2024-12-25T13:29:23.346787Z"
    }
   },
   "outputs": [
    {
     "name": "stdout",
     "output_type": "stream",
     "text": [
      "2024-11-01\n",
      "2024-12-24\n",
      "2024-12-25\n"
     ]
    }
   ],
   "source": [
    "import pandas as pd\n",
    "cal = pd.read_csv('/data/linq/.qlib/qlib_data/cn_data/calendars/day.txt')\n",
    "delta = 0\n",
    "TODAY = str(cal.iloc[-1-delta,0])\n",
    "YESTERDAY = str(cal.iloc[-2-delta,0])\n",
    "# TODAY = str(cal.iloc[-2,0])\n",
    "# YESTERDAY = str(cal.iloc[-3,0])\n",
    "\n",
    "BT_START = '2024-11-01'\n",
    "\n",
    "print(BT_START)\n",
    "print(YESTERDAY)\n",
    "print(TODAY)"
   ]
  },
  {
   "cell_type": "code",
   "execution_count": 2,
   "metadata": {
    "execution": {
     "iopub.execute_input": "2024-12-25T13:29:23.392993Z",
     "iopub.status.busy": "2024-12-25T13:29:23.392403Z",
     "iopub.status.idle": "2024-12-25T13:29:23.399427Z",
     "shell.execute_reply": "2024-12-25T13:29:23.398339Z"
    }
   },
   "outputs": [],
   "source": [
    "# BT_START = '2024-12-01'\n",
    "# TODAY = '2024-12-09'\n",
    "\n",
    "test_split = (TODAY, TODAY)\n",
    "bt_split = (BT_START, YESTERDAY)\n",
    "pos_txt = f'''\\\n",
    "date {TODAY}\n",
    "cash 721.00\n",
    "SZ000001 2100\n",
    "SH600570 800\n",
    "SZ000661 200\n",
    "SH600115 4800\n",
    "SZ002459 1300\n",
    "SZ002129 2000\n",
    "SZ000002 2300\n",
    "SH600372 1400\n",
    "SH600188 1100\n",
    "'''"
   ]
  },
  {
   "cell_type": "code",
   "execution_count": 3,
   "metadata": {
    "execution": {
     "iopub.execute_input": "2024-12-25T13:29:23.402366Z",
     "iopub.status.busy": "2024-12-25T13:29:23.401834Z",
     "iopub.status.idle": "2024-12-25T13:29:24.323920Z",
     "shell.execute_reply": "2024-12-25T13:29:24.322849Z"
    }
   },
   "outputs": [
    {
     "name": "stderr",
     "output_type": "stream",
     "text": [
      "/home/linq/anaconda3/envs/qlib39/lib/python3.9/site-packages/tqdm/auto.py:21: TqdmWarning: IProgress not found. Please update jupyter and ipywidgets. See https://ipywidgets.readthedocs.io/en/stable/user_install.html\n",
      "  from .autonotebook import tqdm as notebook_tqdm\n",
      "[3407646:MainThread](2024-12-26 17:56:26,815) INFO - qlib.Initialization - [config.py:416] - default_conf: client.\n",
      "[3407646:MainThread](2024-12-26 17:56:26,819) INFO - qlib.Initialization - [__init__.py:74] - qlib successfully initialized based on client settings.\n",
      "[3407646:MainThread](2024-12-26 17:56:26,820) INFO - qlib.Initialization - [__init__.py:76] - data_path={'__DEFAULT_FREQ': PosixPath('/data/linq/.qlib/qlib_data/cn_data')}\n"
     ]
    }
   ],
   "source": [
    "import qlib\n",
    "import pandas as pd\n",
    "from pandas import Timestamp\n",
    "import json\n",
    "from qlib.constant import REG_CN\n",
    "from qlib.utils import exists_qlib_data, init_instance_by_config\n",
    "from qlib.workflow import R\n",
    "from qlib.workflow.record_temp import SignalRecord, PortAnaRecord\n",
    "from qlib.utils import flatten_dict\n",
    "from qlib.data.filter import NameDFilter\n",
    "from qlib.backtest.position import Position\n",
    "from qlib.data import D\n",
    "\n",
    "import copy\n",
    "import pprint\n",
    "import warnings\n",
    "warnings.filterwarnings('ignore')\n",
    "\n",
    "provider_uri = \"/data/linq/.qlib/qlib_data/cn_data\"  # target_dir\n",
    "qlib.init(provider_uri=provider_uri, region=REG_CN)\n",
    "\n",
    "from lilab.qlib.utils.tools import normalize_position_history, load_position_text, load_position_history, save_position_history, fill_price_position_history\n",
    "from lilab.qlib.backtest.benchmark import BENCH_Step"
   ]
  },
  {
   "cell_type": "markdown",
   "metadata": {},
   "source": [
    "Record position history"
   ]
  },
  {
   "cell_type": "code",
   "execution_count": 4,
   "metadata": {
    "execution": {
     "iopub.execute_input": "2024-12-25T13:29:24.328494Z",
     "iopub.status.busy": "2024-12-25T13:29:24.327839Z",
     "iopub.status.idle": "2024-12-25T13:29:24.898340Z",
     "shell.execute_reply": "2024-12-25T13:29:24.897177Z"
    }
   },
   "outputs": [
    {
     "name": "stdout",
     "output_type": "stream",
     "text": [
      "save_position_history error\n",
      "2024-12-25\n",
      "{'SZ000001': {'amount': 2100}, 'SH600570': {'amount': 800}, 'SZ000661': {'amount': 200}, 'SH600115': {'amount': 4800}, 'SZ002459': {'amount': 1300}, 'SZ002129': {'amount': 2000}, 'SZ000002': {'amount': 2300}, 'SH600372': {'amount': 1400}, 'SH600188': {'amount': 1100}, 'cash': 721.0}\n",
      "{'_settle_type': 'None', 'position': {'SH600188': {'amount': 6609, 'price': 2.3797593116760254}, 'SH600570': {'amount': 3727, 'price': 6.249006271362305}, 'SH600115': {'amount': 28241, 'price': 0.681553304195404}, 'SZ000001': {'amount': 13990, 'price': 1.7892110347747803}, 'SZ000002': {'amount': 14867, 'price': 1.1664702892303467}, 'SZ002129': {'amount': 4184, 'price': 4.468804359436035}, 'SZ000661': {'amount': 2163, 'price': 9.303715705871582}, 'SH600372': {'amount': 0, 'price': inf}, 'SZ002459': {'amount': 17480, 'price': 1.0791066884994507}, 'cash': 721.0, 'now_account_value': nan}, 'init_cash': 721.0}\n",
      "['SH600188', 'SH600570', 'SH600115', 'SZ000001', 'SZ000002', 'SZ002129', 'SZ000661', 'SH600372', 'SZ002459']\n"
     ]
    }
   ],
   "source": [
    "cur_pos = load_position_text(pos_txt)\n",
    "norm_cur_pos = normalize_position_history(cur_pos)\n",
    "norm_cur_pos = fill_price_position_history(norm_cur_pos)\n",
    "try:\n",
    "    pos_history = load_position_history()\n",
    "except:\n",
    "    pos_history = {}\n",
    "pos_history.update(norm_cur_pos)\n",
    "# print(pos_history)\n",
    "save_position_history(pos_history)\n",
    "dt, pos = next(iter(cur_pos.items()))\n",
    "account = pos.position\n",
    "dt, norm_pos = next(iter(norm_cur_pos.items()))\n",
    "norm_account = pos.position\n",
    "hold_lst = pos.get_stock_list()\n",
    "print(dt.date())\n",
    "print(account)\n",
    "print(norm_pos)\n",
    "print(hold_lst)"
   ]
  },
  {
   "cell_type": "code",
   "execution_count": 5,
   "metadata": {
    "execution": {
     "iopub.execute_input": "2024-12-25T13:29:24.902735Z",
     "iopub.status.busy": "2024-12-25T13:29:24.902208Z",
     "iopub.status.idle": "2024-12-25T13:29:24.911603Z",
     "shell.execute_reply": "2024-12-25T13:29:24.910778Z"
    }
   },
   "outputs": [
    {
     "name": "stdout",
     "output_type": "stream",
     "text": [
      "{'SH600188': {'amount': 6609, 'price': 2.3797593116760254}, 'SH600570': {'amount': 3727, 'price': 6.249006271362305}, 'SH600115': {'amount': 28241, 'price': 0.681553304195404}, 'SZ000001': {'amount': 13990, 'price': 1.7892110347747803}, 'SZ000002': {'amount': 14867, 'price': 1.1664702892303467}, 'SZ002129': {'amount': 4184, 'price': 4.468804359436035}, 'SZ000661': {'amount': 2163, 'price': 9.303715705871582}, 'SH600372': {'amount': 0, 'price': inf}, 'SZ002459': {'amount': 17480, 'price': 1.0791066884994507}, 'cash': 721.0, 'now_account_value': nan}\n",
      "{'SH600188': 0, 'SH600570': 2, 'SH600115': 0, 'SZ000001': 0, 'SZ000002': 2, 'SZ002129': 2, 'SZ000661': 0, 'SH600372': 0, 'SZ002459': 2}\n"
     ]
    }
   ],
   "source": [
    "\n",
    "pos_history = load_position_history()\n",
    "hold_day = {}\n",
    "_norm_pos = norm_pos.__dict__['position']\n",
    "print(_norm_pos)\n",
    "dt_lst = sorted(list(pos_history.keys()))[::-1]\n",
    "for k, v in _norm_pos.items():\n",
    "    if not isinstance(v, dict):\n",
    "        continue\n",
    "    cnt = 0\n",
    "    for dt in dt_lst:\n",
    "        if str(dt.date())==TODAY:\n",
    "            # print(dt.date(), TODAY)\n",
    "            continue\n",
    "        tmp_pos = pos_history[dt]\n",
    "        if k not in tmp_pos.get_stock_list():\n",
    "            break\n",
    "        cnt += 1\n",
    "    # print(k, cnt)\n",
    "    hold_day[k] = cnt\n",
    "print(hold_day)"
   ]
  },
  {
   "cell_type": "code",
   "execution_count": 6,
   "metadata": {
    "execution": {
     "iopub.execute_input": "2024-12-25T13:29:24.914713Z",
     "iopub.status.busy": "2024-12-25T13:29:24.914332Z",
     "iopub.status.idle": "2024-12-25T13:29:24.929666Z",
     "shell.execute_reply": "2024-12-25T13:29:24.928616Z"
    }
   },
   "outputs": [],
   "source": [
    "def simp_eval(res_df, k, t=None, day=None):\n",
    "    # print(res_df)\n",
    "    if day:\n",
    "        date = str(cal.iloc[-day-1,0])\n",
    "        res_df = res_df[res_df.index.get_level_values('datetime') >= date]\n",
    "    # Step 1: Group by multiple indices\n",
    "    grouped = res_df.groupby(['datetime'])\n",
    "\n",
    "    # Step 2: Sort by 'value' within each group in descending order\n",
    "    sorted_df = grouped.apply(lambda x: x.sort_values(by='score', ascending=False))\n",
    "    sorted_df['win'] = sorted_df['label'] * sorted_df['score'] > 0\n",
    "    # Step 3: Select the top 5 rows for each group\n",
    "    # top_k_per_group = sorted_df.groupby(['datetime']).head(k)\n",
    "    top_k_per_group = sorted_df.groupby(['datetime']).apply(lambda x: x.nlargest(k, 'score'))#.reset_index(level=1, drop=1)\n",
    "    if t:\n",
    "        # top_k_per_group = top_k_per_group.tail(t)\n",
    "        top_k_per_group = top_k_per_group.groupby(['datetime']).apply(lambda x: x.nsmallest(t, 'score'))\n",
    "    # print(top_k_per_group)\n",
    "    top_k_ic = top_k_per_group['label'].corr(top_k_per_group['score'])\n",
    "    s, n = top_k_per_group['win'].sum(), len(top_k_per_group)\n",
    "    # print(s, n)\n",
    "    top_k_win = 1.0 * top_k_per_group['win'].sum() / len(top_k_per_group)\n",
    "    return top_k_ic, top_k_win \n",
    "\n",
    "def run_model(model, path='/home/linq/finance/qniverse/log'):\n",
    "    res_df = pd.read_csv(f'{path}/{model}_backtest_return_{TODAY}.csv', index_col=['datetime','instrument'])\n",
    "\n",
    "    def eval_day(day=None):\n",
    "        top5ic, top5win = simp_eval(res_df, 5, day=day)\n",
    "        top10ic, top10win = simp_eval(res_df, 10, 5, day=day)\n",
    "        # top15ic, top15win = simp_eval(res_df, 15, 5, day=day)\n",
    "        top20ic, top20win = simp_eval(res_df, 20, 10, day=day)\n",
    "        # top25ic, top25win = simp_eval(res_df, 25, 5, day=day)\n",
    "        top30ic, top30win = simp_eval(res_df, 30, 10, day=day)\n",
    "        top40ic, top40win = simp_eval(res_df, 40, 10, day=day)\n",
    "        top50ic, top50win = simp_eval(res_df, 50, 10, day=day)\n",
    "        top60ic, top60win = simp_eval(res_df, 60, 10, day=day)\n",
    "        top70ic, top70win = simp_eval(res_df, 70, 10, day=day)\n",
    "        top80ic, top80win = simp_eval(res_df, 80, 10, day=day)        \n",
    "        top90ic, top90win = simp_eval(res_df, 90, 10, day=day)\n",
    "        top100ic, top100win = simp_eval(res_df, 100, 10, day=day)\n",
    "        top110ic, top110win = simp_eval(res_df, 110, 10, day=day)\n",
    "        top120ic, top120win = simp_eval(res_df, 120, 10, day=day)\n",
    "        top130ic, top130win = simp_eval(res_df, 130, 10, day=day)\n",
    "        top140ic, top140win = simp_eval(res_df, 140, 10, day=day)\n",
    "        top150ic, top150win = simp_eval(res_df, 150, 10, day=day)\n",
    "        topic, topwin = simp_eval(res_df, 50, day=day)\n",
    "        # return [topic, topwin, top5ic, top5win, top10ic, top10win, top15ic, top15win, top20ic, top20win, top25ic, top25win, top30ic, top30win]\n",
    "        return [topwin, top5win, top10win, top20win, top30win, top40win, top50win, top60win, top70win, top80win, top90win, top100win, top110win, top120win, top130win, top140win, top150win], [topic, top5ic, top10ic, top20ic, top30ic, top40ic, top50ic, top60ic, top70ic, top80ic, top90ic, top100ic, top110ic, top120ic, top130ic, top140ic, top150ic]\n",
    "    day1metrics = eval_day(2)\n",
    "    day5metrics = eval_day(6)\n",
    "    day10metrics = eval_day(11)\n",
    "    day20metrics = eval_day(21)\n",
    "    \n",
    "    pred_df = pd.read_csv(f'{path}/{model}_tomorrow_return_{TODAY}.csv', index_col=['datetime','instrument'])\n",
    "\n",
    "    return day1metrics, day5metrics, day10metrics, day20metrics, pred_df, res_df"
   ]
  },
  {
   "cell_type": "markdown",
   "metadata": {},
   "source": [
    "# Run"
   ]
  },
  {
   "cell_type": "code",
   "execution_count": 7,
   "metadata": {
    "execution": {
     "iopub.execute_input": "2024-12-25T13:29:24.933296Z",
     "iopub.status.busy": "2024-12-25T13:29:24.932931Z",
     "iopub.status.idle": "2024-12-25T13:29:42.256487Z",
     "shell.execute_reply": "2024-12-25T13:29:42.255092Z"
    }
   },
   "outputs": [
    {
     "name": "stdout",
     "output_type": "stream",
     "text": [
      "DENSEMBLEGBM\n"
     ]
    }
   ],
   "source": [
    "info_win_dict1, info_ic_dict1 = {}, {}\n",
    "info_win_dict5, info_ic_dict5 = {}, {}\n",
    "info_win_dict10, info_ic_dict10 = {}, {}\n",
    "info_win_dict20, info_ic_dict20 = {}, {}\n",
    "pred_lst = []\n",
    "\n",
    "name_lst =  ['DENSEMBLEGBM']\n",
    "for model in name_lst:\n",
    "    NAME = model\n",
    "    print(model)\n",
    "    day1metrics, day5metrics, day10metrics, day20metrics, pred_df, res_df = run_model(model)\n",
    "    info_win_dict1[NAME], info_ic_dict1[NAME] = day1metrics\n",
    "    info_win_dict5[NAME], info_ic_dict5[NAME] = day5metrics\n",
    "    info_win_dict10[NAME], info_ic_dict10[NAME] = day10metrics\n",
    "    info_win_dict20[NAME], info_ic_dict20[NAME] = day20metrics\n",
    "    # for k in [1, 5, 10, 20]:\n",
    "    #     eval(f'    info_win_dict{k}[NAME], info_ic_dict{k}[NAME] = day{k}metrics')\n",
    "    _df = pred_df.loc[:,'score']\n",
    "    _df.name = model\n",
    "    # print(_df)\n",
    "    pred_lst.append(_df)"
   ]
  },
  {
   "cell_type": "code",
   "execution_count": 8,
   "metadata": {
    "execution": {
     "iopub.execute_input": "2024-12-25T13:29:42.261635Z",
     "iopub.status.busy": "2024-12-25T13:29:42.261128Z",
     "iopub.status.idle": "2024-12-25T13:29:42.292191Z",
     "shell.execute_reply": "2024-12-25T13:29:42.291385Z"
    }
   },
   "outputs": [
    {
     "data": {
      "text/html": [
       "<div>\n",
       "<style scoped>\n",
       "    .dataframe tbody tr th:only-of-type {\n",
       "        vertical-align: middle;\n",
       "    }\n",
       "\n",
       "    .dataframe tbody tr th {\n",
       "        vertical-align: top;\n",
       "    }\n",
       "\n",
       "    .dataframe thead th {\n",
       "        text-align: right;\n",
       "    }\n",
       "</style>\n",
       "<table border=\"1\" class=\"dataframe\">\n",
       "  <thead>\n",
       "    <tr style=\"text-align: right;\">\n",
       "      <th></th>\n",
       "      <th></th>\n",
       "      <th>DENSEMBLEGBM</th>\n",
       "    </tr>\n",
       "    <tr>\n",
       "      <th>datetime</th>\n",
       "      <th>instrument</th>\n",
       "      <th></th>\n",
       "    </tr>\n",
       "  </thead>\n",
       "  <tbody>\n",
       "    <tr>\n",
       "      <th rowspan=\"11\" valign=\"top\">2024-12-25</th>\n",
       "      <th>SZ002219</th>\n",
       "      <td>0.875521</td>\n",
       "    </tr>\n",
       "    <tr>\n",
       "      <th>SH600246</th>\n",
       "      <td>0.165242</td>\n",
       "    </tr>\n",
       "    <tr>\n",
       "      <th>SH600223</th>\n",
       "      <td>0.108733</td>\n",
       "    </tr>\n",
       "    <tr>\n",
       "      <th>SZ002390</th>\n",
       "      <td>0.105526</td>\n",
       "    </tr>\n",
       "    <tr>\n",
       "      <th>SH603220</th>\n",
       "      <td>0.087821</td>\n",
       "    </tr>\n",
       "    <tr>\n",
       "      <th>...</th>\n",
       "      <td>...</td>\n",
       "    </tr>\n",
       "    <tr>\n",
       "      <th>SZ001258</th>\n",
       "      <td>-0.215653</td>\n",
       "    </tr>\n",
       "    <tr>\n",
       "      <th>SZ002335</th>\n",
       "      <td>-0.219906</td>\n",
       "    </tr>\n",
       "    <tr>\n",
       "      <th>SZ002265</th>\n",
       "      <td>-0.255122</td>\n",
       "    </tr>\n",
       "    <tr>\n",
       "      <th>SH600490</th>\n",
       "      <td>-0.331450</td>\n",
       "    </tr>\n",
       "    <tr>\n",
       "      <th>SH600225</th>\n",
       "      <td>-0.572672</td>\n",
       "    </tr>\n",
       "  </tbody>\n",
       "</table>\n",
       "<p>917 rows × 1 columns</p>\n",
       "</div>"
      ],
      "text/plain": [
       "                       DENSEMBLEGBM\n",
       "datetime   instrument              \n",
       "2024-12-25 SZ002219        0.875521\n",
       "           SH600246        0.165242\n",
       "           SH600223        0.108733\n",
       "           SZ002390        0.105526\n",
       "           SH603220        0.087821\n",
       "...                             ...\n",
       "           SZ001258       -0.215653\n",
       "           SZ002335       -0.219906\n",
       "           SZ002265       -0.255122\n",
       "           SH600490       -0.331450\n",
       "           SH600225       -0.572672\n",
       "\n",
       "[917 rows x 1 columns]"
      ]
     },
     "execution_count": 8,
     "metadata": {},
     "output_type": "execute_result"
    }
   ],
   "source": [
    "pred_df = pd.concat(pred_lst, axis=1)\n",
    "\n",
    "# pred_df = pred_df.loc[:, ~pred_df.columns.duplicated()]\n",
    "_pred_df = pred_df\n",
    "pred_df"
   ]
  },
  {
   "cell_type": "code",
   "execution_count": 9,
   "metadata": {
    "execution": {
     "iopub.execute_input": "2024-12-25T13:29:42.296636Z",
     "iopub.status.busy": "2024-12-25T13:29:42.296230Z",
     "iopub.status.idle": "2024-12-25T13:29:42.308726Z",
     "shell.execute_reply": "2024-12-25T13:29:42.307687Z"
    }
   },
   "outputs": [],
   "source": [
    "\n",
    "pred_df['mean'] = _pred_df.mean(axis=1)\n",
    "pred_df['std'] = _pred_df.std(axis=1)\n",
    "pred_df['score'] = pd.concat([_pred_df[n]*info_win_dict5[n][0]/_pred_df[n].std() for n in name_lst], axis=1).sum(axis=1)\n",
    "# pred_df"
   ]
  },
  {
   "cell_type": "code",
   "execution_count": 10,
   "metadata": {
    "execution": {
     "iopub.execute_input": "2024-12-25T13:29:42.312524Z",
     "iopub.status.busy": "2024-12-25T13:29:42.312161Z",
     "iopub.status.idle": "2024-12-25T13:29:42.875958Z",
     "shell.execute_reply": "2024-12-25T13:29:42.875057Z"
    }
   },
   "outputs": [],
   "source": [
    "rank_df = pred_df.droplevel(0).sort_values(by='score', ascending=False)\n",
    "fields = ['$close/$factor']\n",
    "_df = D.features(rank_df.index.values, fields, start_time=TODAY, end_time=TODAY, freq='day')\n",
    "_df.columns = ['close']\n",
    "_df = _df.droplevel(1)\n",
    "rank_df = pd.concat([rank_df,_df],axis=1,join='inner')\n",
    "report_top = rank_df"
   ]
  },
  {
   "cell_type": "code",
   "execution_count": 11,
   "metadata": {
    "execution": {
     "iopub.execute_input": "2024-12-25T13:29:42.880379Z",
     "iopub.status.busy": "2024-12-25T13:29:42.879905Z",
     "iopub.status.idle": "2024-12-25T13:29:42.885893Z",
     "shell.execute_reply": "2024-12-25T13:29:42.885131Z"
    }
   },
   "outputs": [
    {
     "data": {
      "text/plain": [
       "['SH600188',\n",
       " 'SH600570',\n",
       " 'SH600115',\n",
       " 'SZ000001',\n",
       " 'SZ000002',\n",
       " 'SZ002129',\n",
       " 'SZ000661',\n",
       " 'SH600372',\n",
       " 'SZ002459']"
      ]
     },
     "execution_count": 11,
     "metadata": {},
     "output_type": "execute_result"
    }
   ],
   "source": [
    "hold_lst"
   ]
  },
  {
   "cell_type": "code",
   "execution_count": 12,
   "metadata": {
    "execution": {
     "iopub.execute_input": "2024-12-25T13:29:42.890189Z",
     "iopub.status.busy": "2024-12-25T13:29:42.889788Z",
     "iopub.status.idle": "2024-12-25T13:29:42.896827Z",
     "shell.execute_reply": "2024-12-25T13:29:42.895980Z"
    }
   },
   "outputs": [],
   "source": [
    "pos_rank = rank_df.sort_values(by='score', ascending=True)\n",
    "pos_rank = pos_rank[pos_rank.index.isin(hold_lst)]\n",
    "hd = [hold_day[s] for s in pos_rank.index.values]\n",
    "pos_rank['HD'] = hd\n",
    "report_pos = pos_rank"
   ]
  },
  {
   "cell_type": "code",
   "execution_count": 13,
   "metadata": {
    "execution": {
     "iopub.execute_input": "2024-12-25T13:29:42.899400Z",
     "iopub.status.busy": "2024-12-25T13:29:42.898957Z",
     "iopub.status.idle": "2024-12-25T13:29:42.903799Z",
     "shell.execute_reply": "2024-12-25T13:29:42.902753Z"
    }
   },
   "outputs": [],
   "source": [
    "color_lst = [n for n in report_pos.columns if n not in ['close', 'HD']]\n",
    "# color_lst"
   ]
  },
  {
   "cell_type": "code",
   "execution_count": 14,
   "metadata": {
    "execution": {
     "iopub.execute_input": "2024-12-25T13:29:42.906898Z",
     "iopub.status.busy": "2024-12-25T13:29:42.906492Z",
     "iopub.status.idle": "2024-12-25T13:29:43.270653Z",
     "shell.execute_reply": "2024-12-25T13:29:43.269755Z"
    }
   },
   "outputs": [
    {
     "data": {
      "text/html": [
       "<style type=\"text/css\">\n",
       "#T_6a142_row0_col0, #T_6a142_row0_col1, #T_6a142_row0_col2, #T_6a142_row0_col3, #T_6a142_row1_col2, #T_6a142_row2_col2, #T_6a142_row3_col2, #T_6a142_row4_col2, #T_6a142_row5_col2, #T_6a142_row6_col2, #T_6a142_row7_col2, #T_6a142_row8_col2 {\n",
       "  background-color: #08306b;\n",
       "  color: #f1f1f1;\n",
       "}\n",
       "#T_6a142_row1_col0, #T_6a142_row1_col1, #T_6a142_row1_col3 {\n",
       "  background-color: #084082;\n",
       "  color: #f1f1f1;\n",
       "}\n",
       "#T_6a142_row2_col0, #T_6a142_row2_col1, #T_6a142_row2_col3 {\n",
       "  background-color: #125da6;\n",
       "  color: #f1f1f1;\n",
       "}\n",
       "#T_6a142_row3_col0, #T_6a142_row3_col1, #T_6a142_row3_col3 {\n",
       "  background-color: #3383be;\n",
       "  color: #f1f1f1;\n",
       "}\n",
       "#T_6a142_row4_col0, #T_6a142_row4_col1, #T_6a142_row4_col3 {\n",
       "  background-color: #4090c5;\n",
       "  color: #f1f1f1;\n",
       "}\n",
       "#T_6a142_row5_col0, #T_6a142_row5_col1, #T_6a142_row5_col3 {\n",
       "  background-color: #4a98c9;\n",
       "  color: #f1f1f1;\n",
       "}\n",
       "#T_6a142_row6_col0, #T_6a142_row6_col1, #T_6a142_row6_col3 {\n",
       "  background-color: #a3cce3;\n",
       "  color: #000000;\n",
       "}\n",
       "#T_6a142_row7_col0, #T_6a142_row7_col1, #T_6a142_row7_col3 {\n",
       "  background-color: #bcd7eb;\n",
       "  color: #000000;\n",
       "}\n",
       "#T_6a142_row8_col0, #T_6a142_row8_col1, #T_6a142_row8_col3 {\n",
       "  background-color: #f7fbff;\n",
       "  color: #000000;\n",
       "}\n",
       "</style>\n",
       "<table id=\"T_6a142\">\n",
       "  <thead>\n",
       "    <tr>\n",
       "      <th class=\"blank level0\" >&nbsp;</th>\n",
       "      <th id=\"T_6a142_level0_col0\" class=\"col_heading level0 col0\" >DENSEMBLEGBM</th>\n",
       "      <th id=\"T_6a142_level0_col1\" class=\"col_heading level0 col1\" >mean</th>\n",
       "      <th id=\"T_6a142_level0_col2\" class=\"col_heading level0 col2\" >std</th>\n",
       "      <th id=\"T_6a142_level0_col3\" class=\"col_heading level0 col3\" >score</th>\n",
       "      <th id=\"T_6a142_level0_col4\" class=\"col_heading level0 col4\" >close</th>\n",
       "      <th id=\"T_6a142_level0_col5\" class=\"col_heading level0 col5\" >HD</th>\n",
       "    </tr>\n",
       "    <tr>\n",
       "      <th class=\"index_name level0\" >instrument</th>\n",
       "      <th class=\"blank col0\" >&nbsp;</th>\n",
       "      <th class=\"blank col1\" >&nbsp;</th>\n",
       "      <th class=\"blank col2\" >&nbsp;</th>\n",
       "      <th class=\"blank col3\" >&nbsp;</th>\n",
       "      <th class=\"blank col4\" >&nbsp;</th>\n",
       "      <th class=\"blank col5\" >&nbsp;</th>\n",
       "    </tr>\n",
       "  </thead>\n",
       "  <tbody>\n",
       "    <tr>\n",
       "      <th id=\"T_6a142_level0_row0\" class=\"row_heading level0 row0\" >SH600188</th>\n",
       "      <td id=\"T_6a142_row0_col0\" class=\"data row0 col0\" >-0.026110</td>\n",
       "      <td id=\"T_6a142_row0_col1\" class=\"data row0 col1\" >-0.026110</td>\n",
       "      <td id=\"T_6a142_row0_col2\" class=\"data row0 col2\" >0.000000</td>\n",
       "      <td id=\"T_6a142_row0_col3\" class=\"data row0 col3\" >-0.212955</td>\n",
       "      <td id=\"T_6a142_row0_col4\" class=\"data row0 col4\" >14.300000</td>\n",
       "      <td id=\"T_6a142_row0_col5\" class=\"data row0 col5\" >0</td>\n",
       "    </tr>\n",
       "    <tr>\n",
       "      <th id=\"T_6a142_level0_row1\" class=\"row_heading level0 row1\" >SH600372</th>\n",
       "      <td id=\"T_6a142_row1_col0\" class=\"data row1 col0\" >-0.022636</td>\n",
       "      <td id=\"T_6a142_row1_col1\" class=\"data row1 col1\" >-0.022636</td>\n",
       "      <td id=\"T_6a142_row1_col2\" class=\"data row1 col2\" >0.000000</td>\n",
       "      <td id=\"T_6a142_row1_col3\" class=\"data row1 col3\" >-0.184626</td>\n",
       "      <td id=\"T_6a142_row1_col4\" class=\"data row1 col4\" >nan</td>\n",
       "      <td id=\"T_6a142_row1_col5\" class=\"data row1 col5\" >0</td>\n",
       "    </tr>\n",
       "    <tr>\n",
       "      <th id=\"T_6a142_level0_row2\" class=\"row_heading level0 row2\" >SZ000661</th>\n",
       "      <td id=\"T_6a142_row2_col0\" class=\"data row2 col0\" >-0.016384</td>\n",
       "      <td id=\"T_6a142_row2_col1\" class=\"data row2 col1\" >-0.016384</td>\n",
       "      <td id=\"T_6a142_row2_col2\" class=\"data row2 col2\" >0.000000</td>\n",
       "      <td id=\"T_6a142_row2_col3\" class=\"data row2 col3\" >-0.133633</td>\n",
       "      <td id=\"T_6a142_row2_col4\" class=\"data row2 col4\" >100.659996</td>\n",
       "      <td id=\"T_6a142_row2_col5\" class=\"data row2 col5\" >0</td>\n",
       "    </tr>\n",
       "    <tr>\n",
       "      <th id=\"T_6a142_level0_row3\" class=\"row_heading level0 row3\" >SH600570</th>\n",
       "      <td id=\"T_6a142_row3_col0\" class=\"data row3 col0\" >-0.008155</td>\n",
       "      <td id=\"T_6a142_row3_col1\" class=\"data row3 col1\" >-0.008155</td>\n",
       "      <td id=\"T_6a142_row3_col2\" class=\"data row3 col2\" >0.000000</td>\n",
       "      <td id=\"T_6a142_row3_col3\" class=\"data row3 col3\" >-0.066515</td>\n",
       "      <td id=\"T_6a142_row3_col4\" class=\"data row3 col4\" >29.120001</td>\n",
       "      <td id=\"T_6a142_row3_col5\" class=\"data row3 col5\" >2</td>\n",
       "    </tr>\n",
       "    <tr>\n",
       "      <th id=\"T_6a142_level0_row4\" class=\"row_heading level0 row4\" >SZ002129</th>\n",
       "      <td id=\"T_6a142_row4_col0\" class=\"data row4 col0\" >-0.005302</td>\n",
       "      <td id=\"T_6a142_row4_col1\" class=\"data row4 col1\" >-0.005302</td>\n",
       "      <td id=\"T_6a142_row4_col2\" class=\"data row4 col2\" >0.000000</td>\n",
       "      <td id=\"T_6a142_row4_col3\" class=\"data row4 col3\" >-0.043240</td>\n",
       "      <td id=\"T_6a142_row4_col4\" class=\"data row4 col4\" >9.349999</td>\n",
       "      <td id=\"T_6a142_row4_col5\" class=\"data row4 col5\" >2</td>\n",
       "    </tr>\n",
       "    <tr>\n",
       "      <th id=\"T_6a142_level0_row5\" class=\"row_heading level0 row5\" >SH600115</th>\n",
       "      <td id=\"T_6a142_row5_col0\" class=\"data row5 col0\" >-0.003558</td>\n",
       "      <td id=\"T_6a142_row5_col1\" class=\"data row5 col1\" >-0.003558</td>\n",
       "      <td id=\"T_6a142_row5_col2\" class=\"data row5 col2\" >0.000000</td>\n",
       "      <td id=\"T_6a142_row5_col3\" class=\"data row5 col3\" >-0.029021</td>\n",
       "      <td id=\"T_6a142_row5_col4\" class=\"data row5 col4\" >4.010000</td>\n",
       "      <td id=\"T_6a142_row5_col5\" class=\"data row5 col5\" >0</td>\n",
       "    </tr>\n",
       "    <tr>\n",
       "      <th id=\"T_6a142_level0_row6\" class=\"row_heading level0 row6\" >SZ002459</th>\n",
       "      <td id=\"T_6a142_row6_col0\" class=\"data row6 col0\" >0.010016</td>\n",
       "      <td id=\"T_6a142_row6_col1\" class=\"data row6 col1\" >0.010016</td>\n",
       "      <td id=\"T_6a142_row6_col2\" class=\"data row6 col2\" >0.000000</td>\n",
       "      <td id=\"T_6a142_row6_col3\" class=\"data row6 col3\" >0.081691</td>\n",
       "      <td id=\"T_6a142_row6_col4\" class=\"data row6 col4\" >14.509999</td>\n",
       "      <td id=\"T_6a142_row6_col5\" class=\"data row6 col5\" >2</td>\n",
       "    </tr>\n",
       "    <tr>\n",
       "      <th id=\"T_6a142_level0_row7\" class=\"row_heading level0 row7\" >SZ000001</th>\n",
       "      <td id=\"T_6a142_row7_col0\" class=\"data row7 col0\" >0.014250</td>\n",
       "      <td id=\"T_6a142_row7_col1\" class=\"data row7 col1\" >0.014250</td>\n",
       "      <td id=\"T_6a142_row7_col2\" class=\"data row7 col2\" >0.000000</td>\n",
       "      <td id=\"T_6a142_row7_col3\" class=\"data row7 col3\" >0.116227</td>\n",
       "      <td id=\"T_6a142_row7_col4\" class=\"data row7 col4\" >11.920001</td>\n",
       "      <td id=\"T_6a142_row7_col5\" class=\"data row7 col5\" >0</td>\n",
       "    </tr>\n",
       "    <tr>\n",
       "      <th id=\"T_6a142_level0_row8\" class=\"row_heading level0 row8\" >SZ000002</th>\n",
       "      <td id=\"T_6a142_row8_col0\" class=\"data row8 col0\" >0.030333</td>\n",
       "      <td id=\"T_6a142_row8_col1\" class=\"data row8 col1\" >0.030333</td>\n",
       "      <td id=\"T_6a142_row8_col2\" class=\"data row8 col2\" >0.000000</td>\n",
       "      <td id=\"T_6a142_row8_col3\" class=\"data row8 col3\" >0.247398</td>\n",
       "      <td id=\"T_6a142_row8_col4\" class=\"data row8 col4\" >7.540000</td>\n",
       "      <td id=\"T_6a142_row8_col5\" class=\"data row8 col5\" >2</td>\n",
       "    </tr>\n",
       "  </tbody>\n",
       "</table>\n"
      ],
      "text/plain": [
       "<pandas.io.formats.style.Styler at 0x7f6a3043e190>"
      ]
     },
     "execution_count": 14,
     "metadata": {},
     "output_type": "execute_result"
    }
   ],
   "source": [
    "sty_report_pos = report_pos.style.background_gradient(cmap='Blues_r', subset=color_lst)\n",
    "sty_report_pos"
   ]
  },
  {
   "cell_type": "code",
   "execution_count": 15,
   "metadata": {
    "execution": {
     "iopub.execute_input": "2024-12-25T13:29:43.275763Z",
     "iopub.status.busy": "2024-12-25T13:29:43.275193Z",
     "iopub.status.idle": "2024-12-25T13:29:43.287586Z",
     "shell.execute_reply": "2024-12-25T13:29:43.286739Z"
    }
   },
   "outputs": [],
   "source": [
    "sty_report_top0 = report_top.head(10).style.background_gradient(axis=0, subset=color_lst)\n",
    "sty_report_top1 = report_top.head(20).tail(10).style.background_gradient(axis=0, subset=color_lst)\n",
    "sty_report_top2 = report_top.head(30).tail(10).style.background_gradient(axis=0, subset=color_lst)\n",
    "sty_report_top3 = report_top.head(40).tail(10).style.background_gradient(axis=0, subset=color_lst)\n",
    "sty_report_top4 = report_top.head(50).tail(10).style.background_gradient(axis=0, subset=color_lst)\n",
    "sty_report_top5 = report_top.head(60).tail(10).style.background_gradient(axis=0, subset=color_lst)\n",
    "sty_report_top6 = report_top.head(70).tail(10).style.background_gradient(axis=0, subset=color_lst)\n",
    "sty_report_top7 = report_top.head(80).tail(10).style.background_gradient(axis=0, subset=color_lst)\n",
    "sty_report_top8 = report_top.head(90).tail(10).style.background_gradient(axis=0, subset=color_lst)\n",
    "sty_report_top9 = report_top.head(100).tail(10).style.background_gradient(axis=0, subset=color_lst)\n",
    "sty_report_top10 = report_top.head(110).tail(10).style.background_gradient(axis=0, subset=color_lst)\n",
    "sty_report_top11 = report_top.head(120).tail(10).style.background_gradient(axis=0, subset=color_lst)\n",
    "sty_report_top12 = report_top.head(130).tail(10).style.background_gradient(axis=0, subset=color_lst)\n",
    "sty_report_top13 = report_top.head(140).tail(10).style.background_gradient(axis=0, subset=color_lst)\n",
    "sty_report_top14 = report_top.head(150).tail(10).style.background_gradient(axis=0, subset=color_lst)"
   ]
  },
  {
   "cell_type": "code",
   "execution_count": 16,
   "metadata": {
    "execution": {
     "iopub.execute_input": "2024-12-25T13:29:43.290779Z",
     "iopub.status.busy": "2024-12-25T13:29:43.290439Z",
     "iopub.status.idle": "2024-12-25T13:29:43.317795Z",
     "shell.execute_reply": "2024-12-25T13:29:43.316966Z"
    }
   },
   "outputs": [
    {
     "data": {
      "text/html": [
       "<style type=\"text/css\">\n",
       "#T_c5ab2_row0_col0, #T_c5ab2_row0_col1, #T_c5ab2_row0_col3 {\n",
       "  background-color: #023858;\n",
       "  color: #f1f1f1;\n",
       "}\n",
       "#T_c5ab2_row0_col2, #T_c5ab2_row1_col2, #T_c5ab2_row2_col2, #T_c5ab2_row3_col2, #T_c5ab2_row4_col2, #T_c5ab2_row5_col2, #T_c5ab2_row6_col2, #T_c5ab2_row7_col2, #T_c5ab2_row8_col0, #T_c5ab2_row8_col1, #T_c5ab2_row8_col2, #T_c5ab2_row8_col3, #T_c5ab2_row9_col0, #T_c5ab2_row9_col1, #T_c5ab2_row9_col2, #T_c5ab2_row9_col3 {\n",
       "  background-color: #fff7fb;\n",
       "  color: #000000;\n",
       "}\n",
       "#T_c5ab2_row1_col0, #T_c5ab2_row1_col1, #T_c5ab2_row1_col3 {\n",
       "  background-color: #efe9f3;\n",
       "  color: #000000;\n",
       "}\n",
       "#T_c5ab2_row2_col0, #T_c5ab2_row2_col1, #T_c5ab2_row2_col3 {\n",
       "  background-color: #faf2f8;\n",
       "  color: #000000;\n",
       "}\n",
       "#T_c5ab2_row3_col0, #T_c5ab2_row3_col1, #T_c5ab2_row3_col3 {\n",
       "  background-color: #faf3f9;\n",
       "  color: #000000;\n",
       "}\n",
       "#T_c5ab2_row4_col0, #T_c5ab2_row4_col1, #T_c5ab2_row4_col3 {\n",
       "  background-color: #fef6fa;\n",
       "  color: #000000;\n",
       "}\n",
       "#T_c5ab2_row5_col0, #T_c5ab2_row5_col1, #T_c5ab2_row5_col3, #T_c5ab2_row6_col0, #T_c5ab2_row6_col1, #T_c5ab2_row6_col3, #T_c5ab2_row7_col0, #T_c5ab2_row7_col1, #T_c5ab2_row7_col3 {\n",
       "  background-color: #fef6fb;\n",
       "  color: #000000;\n",
       "}\n",
       "</style>\n",
       "<table id=\"T_c5ab2\">\n",
       "  <thead>\n",
       "    <tr>\n",
       "      <th class=\"blank level0\" >&nbsp;</th>\n",
       "      <th id=\"T_c5ab2_level0_col0\" class=\"col_heading level0 col0\" >DENSEMBLEGBM</th>\n",
       "      <th id=\"T_c5ab2_level0_col1\" class=\"col_heading level0 col1\" >mean</th>\n",
       "      <th id=\"T_c5ab2_level0_col2\" class=\"col_heading level0 col2\" >std</th>\n",
       "      <th id=\"T_c5ab2_level0_col3\" class=\"col_heading level0 col3\" >score</th>\n",
       "      <th id=\"T_c5ab2_level0_col4\" class=\"col_heading level0 col4\" >close</th>\n",
       "    </tr>\n",
       "    <tr>\n",
       "      <th class=\"index_name level0\" >instrument</th>\n",
       "      <th class=\"blank col0\" >&nbsp;</th>\n",
       "      <th class=\"blank col1\" >&nbsp;</th>\n",
       "      <th class=\"blank col2\" >&nbsp;</th>\n",
       "      <th class=\"blank col3\" >&nbsp;</th>\n",
       "      <th class=\"blank col4\" >&nbsp;</th>\n",
       "    </tr>\n",
       "  </thead>\n",
       "  <tbody>\n",
       "    <tr>\n",
       "      <th id=\"T_c5ab2_level0_row0\" class=\"row_heading level0 row0\" >SZ002219</th>\n",
       "      <td id=\"T_c5ab2_row0_col0\" class=\"data row0 col0\" >0.875521</td>\n",
       "      <td id=\"T_c5ab2_row0_col1\" class=\"data row0 col1\" >0.875521</td>\n",
       "      <td id=\"T_c5ab2_row0_col2\" class=\"data row0 col2\" >0.000000</td>\n",
       "      <td id=\"T_c5ab2_row0_col3\" class=\"data row0 col3\" >7.140890</td>\n",
       "      <td id=\"T_c5ab2_row0_col4\" class=\"data row0 col4\" >3.000000</td>\n",
       "    </tr>\n",
       "    <tr>\n",
       "      <th id=\"T_c5ab2_level0_row1\" class=\"row_heading level0 row1\" >SH600246</th>\n",
       "      <td id=\"T_c5ab2_row1_col0\" class=\"data row1 col0\" >0.165242</td>\n",
       "      <td id=\"T_c5ab2_row1_col1\" class=\"data row1 col1\" >0.165242</td>\n",
       "      <td id=\"T_c5ab2_row1_col2\" class=\"data row1 col2\" >0.000000</td>\n",
       "      <td id=\"T_c5ab2_row1_col3\" class=\"data row1 col3\" >1.347738</td>\n",
       "      <td id=\"T_c5ab2_row1_col4\" class=\"data row1 col4\" >6.890000</td>\n",
       "    </tr>\n",
       "    <tr>\n",
       "      <th id=\"T_c5ab2_level0_row2\" class=\"row_heading level0 row2\" >SH600223</th>\n",
       "      <td id=\"T_c5ab2_row2_col0\" class=\"data row2 col0\" >0.108733</td>\n",
       "      <td id=\"T_c5ab2_row2_col1\" class=\"data row2 col1\" >0.108733</td>\n",
       "      <td id=\"T_c5ab2_row2_col2\" class=\"data row2 col2\" >0.000000</td>\n",
       "      <td id=\"T_c5ab2_row2_col3\" class=\"data row2 col3\" >0.886842</td>\n",
       "      <td id=\"T_c5ab2_row2_col4\" class=\"data row2 col4\" >8.610000</td>\n",
       "    </tr>\n",
       "    <tr>\n",
       "      <th id=\"T_c5ab2_level0_row3\" class=\"row_heading level0 row3\" >SZ002390</th>\n",
       "      <td id=\"T_c5ab2_row3_col0\" class=\"data row3 col0\" >0.105526</td>\n",
       "      <td id=\"T_c5ab2_row3_col1\" class=\"data row3 col1\" >0.105526</td>\n",
       "      <td id=\"T_c5ab2_row3_col2\" class=\"data row3 col2\" >0.000000</td>\n",
       "      <td id=\"T_c5ab2_row3_col3\" class=\"data row3 col3\" >0.860689</td>\n",
       "      <td id=\"T_c5ab2_row3_col4\" class=\"data row3 col4\" >4.410000</td>\n",
       "    </tr>\n",
       "    <tr>\n",
       "      <th id=\"T_c5ab2_level0_row4\" class=\"row_heading level0 row4\" >SH603220</th>\n",
       "      <td id=\"T_c5ab2_row4_col0\" class=\"data row4 col0\" >0.087821</td>\n",
       "      <td id=\"T_c5ab2_row4_col1\" class=\"data row4 col1\" >0.087821</td>\n",
       "      <td id=\"T_c5ab2_row4_col2\" class=\"data row4 col2\" >0.000000</td>\n",
       "      <td id=\"T_c5ab2_row4_col3\" class=\"data row4 col3\" >0.716281</td>\n",
       "      <td id=\"T_c5ab2_row4_col4\" class=\"data row4 col4\" >23.099998</td>\n",
       "    </tr>\n",
       "    <tr>\n",
       "      <th id=\"T_c5ab2_level0_row5\" class=\"row_heading level0 row5\" >SZ002467</th>\n",
       "      <td id=\"T_c5ab2_row5_col0\" class=\"data row5 col0\" >0.084935</td>\n",
       "      <td id=\"T_c5ab2_row5_col1\" class=\"data row5 col1\" >0.084935</td>\n",
       "      <td id=\"T_c5ab2_row5_col2\" class=\"data row5 col2\" >0.000000</td>\n",
       "      <td id=\"T_c5ab2_row5_col3\" class=\"data row5 col3\" >0.692747</td>\n",
       "      <td id=\"T_c5ab2_row5_col4\" class=\"data row5 col4\" >5.540000</td>\n",
       "    </tr>\n",
       "    <tr>\n",
       "      <th id=\"T_c5ab2_level0_row6\" class=\"row_heading level0 row6\" >SH603229</th>\n",
       "      <td id=\"T_c5ab2_row6_col0\" class=\"data row6 col0\" >0.083396</td>\n",
       "      <td id=\"T_c5ab2_row6_col1\" class=\"data row6 col1\" >0.083396</td>\n",
       "      <td id=\"T_c5ab2_row6_col2\" class=\"data row6 col2\" >0.000000</td>\n",
       "      <td id=\"T_c5ab2_row6_col3\" class=\"data row6 col3\" >0.680192</td>\n",
       "      <td id=\"T_c5ab2_row6_col4\" class=\"data row6 col4\" >8.990000</td>\n",
       "    </tr>\n",
       "    <tr>\n",
       "      <th id=\"T_c5ab2_level0_row7\" class=\"row_heading level0 row7\" >SZ002354</th>\n",
       "      <td id=\"T_c5ab2_row7_col0\" class=\"data row7 col0\" >0.083060</td>\n",
       "      <td id=\"T_c5ab2_row7_col1\" class=\"data row7 col1\" >0.083060</td>\n",
       "      <td id=\"T_c5ab2_row7_col2\" class=\"data row7 col2\" >0.000000</td>\n",
       "      <td id=\"T_c5ab2_row7_col3\" class=\"data row7 col3\" >0.677449</td>\n",
       "      <td id=\"T_c5ab2_row7_col4\" class=\"data row7 col4\" >5.880000</td>\n",
       "    </tr>\n",
       "    <tr>\n",
       "      <th id=\"T_c5ab2_level0_row8\" class=\"row_heading level0 row8\" >SZ000503</th>\n",
       "      <td id=\"T_c5ab2_row8_col0\" class=\"data row8 col0\" >0.081576</td>\n",
       "      <td id=\"T_c5ab2_row8_col1\" class=\"data row8 col1\" >0.081576</td>\n",
       "      <td id=\"T_c5ab2_row8_col2\" class=\"data row8 col2\" >0.000000</td>\n",
       "      <td id=\"T_c5ab2_row8_col3\" class=\"data row8 col3\" >0.665348</td>\n",
       "      <td id=\"T_c5ab2_row8_col4\" class=\"data row8 col4\" >11.450000</td>\n",
       "    </tr>\n",
       "    <tr>\n",
       "      <th id=\"T_c5ab2_level0_row9\" class=\"row_heading level0 row9\" >SH600072</th>\n",
       "      <td id=\"T_c5ab2_row9_col0\" class=\"data row9 col0\" >0.078762</td>\n",
       "      <td id=\"T_c5ab2_row9_col1\" class=\"data row9 col1\" >0.078762</td>\n",
       "      <td id=\"T_c5ab2_row9_col2\" class=\"data row9 col2\" >0.000000</td>\n",
       "      <td id=\"T_c5ab2_row9_col3\" class=\"data row9 col3\" >0.642395</td>\n",
       "      <td id=\"T_c5ab2_row9_col4\" class=\"data row9 col4\" >14.450001</td>\n",
       "    </tr>\n",
       "  </tbody>\n",
       "</table>\n"
      ],
      "text/plain": [
       "<pandas.io.formats.style.Styler at 0x7f6a2b0079a0>"
      ]
     },
     "execution_count": 16,
     "metadata": {},
     "output_type": "execute_result"
    }
   ],
   "source": [
    "sty_report_top0"
   ]
  },
  {
   "cell_type": "code",
   "execution_count": null,
   "metadata": {
    "execution": {
     "iopub.execute_input": "2024-12-25T13:29:43.321924Z",
     "iopub.status.busy": "2024-12-25T13:29:43.321568Z",
     "iopub.status.idle": "2024-12-25T13:29:43.347677Z",
     "shell.execute_reply": "2024-12-25T13:29:43.346664Z"
    }
   },
   "outputs": [
    {
     "data": {
      "text/html": [
       "<style type=\"text/css\">\n",
       "#T_05a06_row0_col0, #T_05a06_row0_col1, #T_05a06_row0_col3 {\n",
       "  background-color: #023858;\n",
       "  color: #f1f1f1;\n",
       "}\n",
       "#T_05a06_row0_col2, #T_05a06_row1_col2, #T_05a06_row2_col2, #T_05a06_row3_col2, #T_05a06_row4_col2, #T_05a06_row5_col2, #T_05a06_row6_col2, #T_05a06_row7_col2, #T_05a06_row8_col2, #T_05a06_row9_col0, #T_05a06_row9_col1, #T_05a06_row9_col2, #T_05a06_row9_col3 {\n",
       "  background-color: #fff7fb;\n",
       "  color: #000000;\n",
       "}\n",
       "#T_05a06_row1_col0, #T_05a06_row1_col1, #T_05a06_row1_col3 {\n",
       "  background-color: #023d60;\n",
       "  color: #f1f1f1;\n",
       "}\n",
       "#T_05a06_row2_col0, #T_05a06_row2_col1, #T_05a06_row2_col3 {\n",
       "  background-color: #187cb6;\n",
       "  color: #f1f1f1;\n",
       "}\n",
       "#T_05a06_row3_col0, #T_05a06_row3_col1, #T_05a06_row3_col3 {\n",
       "  background-color: #348ebf;\n",
       "  color: #f1f1f1;\n",
       "}\n",
       "#T_05a06_row4_col0, #T_05a06_row4_col1, #T_05a06_row4_col3 {\n",
       "  background-color: #75a9cf;\n",
       "  color: #f1f1f1;\n",
       "}\n",
       "#T_05a06_row5_col0, #T_05a06_row5_col1, #T_05a06_row5_col3 {\n",
       "  background-color: #96b6d7;\n",
       "  color: #000000;\n",
       "}\n",
       "#T_05a06_row6_col0, #T_05a06_row6_col1, #T_05a06_row6_col3 {\n",
       "  background-color: #d0d1e6;\n",
       "  color: #000000;\n",
       "}\n",
       "#T_05a06_row7_col0, #T_05a06_row7_col1, #T_05a06_row7_col3, #T_05a06_row8_col0, #T_05a06_row8_col1, #T_05a06_row8_col3 {\n",
       "  background-color: #e9e5f1;\n",
       "  color: #000000;\n",
       "}\n",
       "</style>\n",
       "<table id=\"T_05a06\">\n",
       "  <thead>\n",
       "    <tr>\n",
       "      <th class=\"blank level0\" >&nbsp;</th>\n",
       "      <th id=\"T_05a06_level0_col0\" class=\"col_heading level0 col0\" >DENSEMBLEGBM</th>\n",
       "      <th id=\"T_05a06_level0_col1\" class=\"col_heading level0 col1\" >mean</th>\n",
       "      <th id=\"T_05a06_level0_col2\" class=\"col_heading level0 col2\" >std</th>\n",
       "      <th id=\"T_05a06_level0_col3\" class=\"col_heading level0 col3\" >score</th>\n",
       "      <th id=\"T_05a06_level0_col4\" class=\"col_heading level0 col4\" >close</th>\n",
       "    </tr>\n",
       "    <tr>\n",
       "      <th class=\"index_name level0\" >instrument</th>\n",
       "      <th class=\"blank col0\" >&nbsp;</th>\n",
       "      <th class=\"blank col1\" >&nbsp;</th>\n",
       "      <th class=\"blank col2\" >&nbsp;</th>\n",
       "      <th class=\"blank col3\" >&nbsp;</th>\n",
       "      <th class=\"blank col4\" >&nbsp;</th>\n",
       "    </tr>\n",
       "  </thead>\n",
       "  <tbody>\n",
       "    <tr>\n",
       "      <th id=\"T_05a06_level0_row0\" class=\"row_heading level0 row0\" >SZ000062</th>\n",
       "      <td id=\"T_05a06_row0_col0\" class=\"data row0 col0\" >0.077975</td>\n",
       "      <td id=\"T_05a06_row0_col1\" class=\"data row0 col1\" >0.077975</td>\n",
       "      <td id=\"T_05a06_row0_col2\" class=\"data row0 col2\" >0.000000</td>\n",
       "      <td id=\"T_05a06_row0_col3\" class=\"data row0 col3\" >0.635976</td>\n",
       "      <td id=\"T_05a06_row0_col4\" class=\"data row0 col4\" >23.150000</td>\n",
       "    </tr>\n",
       "    <tr>\n",
       "      <th id=\"T_05a06_level0_row1\" class=\"row_heading level0 row1\" >SZ002283</th>\n",
       "      <td id=\"T_05a06_row1_col0\" class=\"data row1 col0\" >0.077549</td>\n",
       "      <td id=\"T_05a06_row1_col1\" class=\"data row1 col1\" >0.077549</td>\n",
       "      <td id=\"T_05a06_row1_col2\" class=\"data row1 col2\" >0.000000</td>\n",
       "      <td id=\"T_05a06_row1_col3\" class=\"data row1 col3\" >0.632502</td>\n",
       "      <td id=\"T_05a06_row1_col4\" class=\"data row1 col4\" >5.410000</td>\n",
       "    </tr>\n",
       "    <tr>\n",
       "      <th id=\"T_05a06_level0_row2\" class=\"row_heading level0 row2\" >SH600787</th>\n",
       "      <td id=\"T_05a06_row2_col0\" class=\"data row2 col0\" >0.072420</td>\n",
       "      <td id=\"T_05a06_row2_col1\" class=\"data row2 col1\" >0.072420</td>\n",
       "      <td id=\"T_05a06_row2_col2\" class=\"data row2 col2\" >0.000000</td>\n",
       "      <td id=\"T_05a06_row2_col3\" class=\"data row2 col3\" >0.590667</td>\n",
       "      <td id=\"T_05a06_row2_col4\" class=\"data row2 col4\" >6.690000</td>\n",
       "    </tr>\n",
       "    <tr>\n",
       "      <th id=\"T_05a06_level0_row3\" class=\"row_heading level0 row3\" >SZ002681</th>\n",
       "      <td id=\"T_05a06_row3_col0\" class=\"data row3 col0\" >0.071096</td>\n",
       "      <td id=\"T_05a06_row3_col1\" class=\"data row3 col1\" >0.071096</td>\n",
       "      <td id=\"T_05a06_row3_col2\" class=\"data row3 col2\" >0.000000</td>\n",
       "      <td id=\"T_05a06_row3_col3\" class=\"data row3 col3\" >0.579874</td>\n",
       "      <td id=\"T_05a06_row3_col4\" class=\"data row3 col4\" >6.700000</td>\n",
       "    </tr>\n",
       "    <tr>\n",
       "      <th id=\"T_05a06_level0_row4\" class=\"row_heading level0 row4\" >SZ000676</th>\n",
       "      <td id=\"T_05a06_row4_col0\" class=\"data row4 col0\" >0.068637</td>\n",
       "      <td id=\"T_05a06_row4_col1\" class=\"data row4 col1\" >0.068637</td>\n",
       "      <td id=\"T_05a06_row4_col2\" class=\"data row4 col2\" >0.000000</td>\n",
       "      <td id=\"T_05a06_row4_col3\" class=\"data row4 col3\" >0.559813</td>\n",
       "      <td id=\"T_05a06_row4_col4\" class=\"data row4 col4\" >8.830000</td>\n",
       "    </tr>\n",
       "    <tr>\n",
       "      <th id=\"T_05a06_level0_row5\" class=\"row_heading level0 row5\" >SH600206</th>\n",
       "      <td id=\"T_05a06_row5_col0\" class=\"data row5 col0\" >0.067148</td>\n",
       "      <td id=\"T_05a06_row5_col1\" class=\"data row5 col1\" >0.067148</td>\n",
       "      <td id=\"T_05a06_row5_col2\" class=\"data row5 col2\" >0.000000</td>\n",
       "      <td id=\"T_05a06_row5_col3\" class=\"data row5 col3\" >0.547667</td>\n",
       "      <td id=\"T_05a06_row5_col4\" class=\"data row5 col4\" >16.170000</td>\n",
       "    </tr>\n",
       "    <tr>\n",
       "      <th id=\"T_05a06_level0_row6\" class=\"row_heading level0 row6\" >SH600400</th>\n",
       "      <td id=\"T_05a06_row6_col0\" class=\"data row6 col0\" >0.064132</td>\n",
       "      <td id=\"T_05a06_row6_col1\" class=\"data row6 col1\" >0.064132</td>\n",
       "      <td id=\"T_05a06_row6_col2\" class=\"data row6 col2\" >0.000000</td>\n",
       "      <td id=\"T_05a06_row6_col3\" class=\"data row6 col3\" >0.523069</td>\n",
       "      <td id=\"T_05a06_row6_col4\" class=\"data row6 col4\" >2.570000</td>\n",
       "    </tr>\n",
       "    <tr>\n",
       "      <th id=\"T_05a06_level0_row7\" class=\"row_heading level0 row7\" >SH600550</th>\n",
       "      <td id=\"T_05a06_row7_col0\" class=\"data row7 col0\" >0.061989</td>\n",
       "      <td id=\"T_05a06_row7_col1\" class=\"data row7 col1\" >0.061989</td>\n",
       "      <td id=\"T_05a06_row7_col2\" class=\"data row7 col2\" >0.000000</td>\n",
       "      <td id=\"T_05a06_row7_col3\" class=\"data row7 col3\" >0.505593</td>\n",
       "      <td id=\"T_05a06_row7_col4\" class=\"data row7 col4\" >8.130000</td>\n",
       "    </tr>\n",
       "    <tr>\n",
       "      <th id=\"T_05a06_level0_row8\" class=\"row_heading level0 row8\" >SZ002127</th>\n",
       "      <td id=\"T_05a06_row8_col0\" class=\"data row8 col0\" >0.061974</td>\n",
       "      <td id=\"T_05a06_row8_col1\" class=\"data row8 col1\" >0.061974</td>\n",
       "      <td id=\"T_05a06_row8_col2\" class=\"data row8 col2\" >0.000000</td>\n",
       "      <td id=\"T_05a06_row8_col3\" class=\"data row8 col3\" >0.505466</td>\n",
       "      <td id=\"T_05a06_row8_col4\" class=\"data row8 col4\" >4.230000</td>\n",
       "    </tr>\n",
       "    <tr>\n",
       "      <th id=\"T_05a06_level0_row9\" class=\"row_heading level0 row9\" >SZ003040</th>\n",
       "      <td id=\"T_05a06_row9_col0\" class=\"data row9 col0\" >0.059426</td>\n",
       "      <td id=\"T_05a06_row9_col1\" class=\"data row9 col1\" >0.059426</td>\n",
       "      <td id=\"T_05a06_row9_col2\" class=\"data row9 col2\" >0.000000</td>\n",
       "      <td id=\"T_05a06_row9_col3\" class=\"data row9 col3\" >0.484687</td>\n",
       "      <td id=\"T_05a06_row9_col4\" class=\"data row9 col4\" >13.290000</td>\n",
       "    </tr>\n",
       "  </tbody>\n",
       "</table>\n"
      ],
      "text/plain": [
       "<pandas.io.formats.style.Styler at 0x7f6a2b007670>"
      ]
     },
     "execution_count": 17,
     "metadata": {},
     "output_type": "execute_result"
    }
   ],
   "source": [
    "sty_report_top1"
   ]
  },
  {
   "cell_type": "code",
   "execution_count": 18,
   "metadata": {
    "execution": {
     "iopub.execute_input": "2024-12-25T13:29:43.352618Z",
     "iopub.status.busy": "2024-12-25T13:29:43.351721Z",
     "iopub.status.idle": "2024-12-25T13:29:43.377835Z",
     "shell.execute_reply": "2024-12-25T13:29:43.377057Z"
    }
   },
   "outputs": [
    {
     "data": {
      "text/html": [
       "<style type=\"text/css\">\n",
       "#T_9fa27_row0_col0, #T_9fa27_row0_col1, #T_9fa27_row0_col3 {\n",
       "  background-color: #023858;\n",
       "  color: #f1f1f1;\n",
       "}\n",
       "#T_9fa27_row0_col2, #T_9fa27_row1_col2, #T_9fa27_row2_col2, #T_9fa27_row3_col2, #T_9fa27_row4_col2, #T_9fa27_row5_col2, #T_9fa27_row6_col2, #T_9fa27_row7_col2, #T_9fa27_row8_col2, #T_9fa27_row9_col0, #T_9fa27_row9_col1, #T_9fa27_row9_col2, #T_9fa27_row9_col3 {\n",
       "  background-color: #fff7fb;\n",
       "  color: #000000;\n",
       "}\n",
       "#T_9fa27_row1_col0, #T_9fa27_row1_col1, #T_9fa27_row1_col3 {\n",
       "  background-color: #2182b9;\n",
       "  color: #f1f1f1;\n",
       "}\n",
       "#T_9fa27_row2_col0, #T_9fa27_row2_col1, #T_9fa27_row2_col3 {\n",
       "  background-color: #2786bb;\n",
       "  color: #f1f1f1;\n",
       "}\n",
       "#T_9fa27_row3_col0, #T_9fa27_row3_col1, #T_9fa27_row3_col3 {\n",
       "  background-color: #4295c3;\n",
       "  color: #f1f1f1;\n",
       "}\n",
       "#T_9fa27_row4_col0, #T_9fa27_row4_col1, #T_9fa27_row4_col3 {\n",
       "  background-color: #5c9fc9;\n",
       "  color: #f1f1f1;\n",
       "}\n",
       "#T_9fa27_row5_col0, #T_9fa27_row5_col1, #T_9fa27_row5_col3 {\n",
       "  background-color: #94b6d7;\n",
       "  color: #000000;\n",
       "}\n",
       "#T_9fa27_row6_col0, #T_9fa27_row6_col1, #T_9fa27_row6_col3 {\n",
       "  background-color: #e4e1ef;\n",
       "  color: #000000;\n",
       "}\n",
       "#T_9fa27_row7_col0, #T_9fa27_row7_col1, #T_9fa27_row7_col3 {\n",
       "  background-color: #f1ebf5;\n",
       "  color: #000000;\n",
       "}\n",
       "#T_9fa27_row8_col0, #T_9fa27_row8_col1, #T_9fa27_row8_col3 {\n",
       "  background-color: #f2ecf5;\n",
       "  color: #000000;\n",
       "}\n",
       "</style>\n",
       "<table id=\"T_9fa27\">\n",
       "  <thead>\n",
       "    <tr>\n",
       "      <th class=\"blank level0\" >&nbsp;</th>\n",
       "      <th id=\"T_9fa27_level0_col0\" class=\"col_heading level0 col0\" >DENSEMBLEGBM</th>\n",
       "      <th id=\"T_9fa27_level0_col1\" class=\"col_heading level0 col1\" >mean</th>\n",
       "      <th id=\"T_9fa27_level0_col2\" class=\"col_heading level0 col2\" >std</th>\n",
       "      <th id=\"T_9fa27_level0_col3\" class=\"col_heading level0 col3\" >score</th>\n",
       "      <th id=\"T_9fa27_level0_col4\" class=\"col_heading level0 col4\" >close</th>\n",
       "    </tr>\n",
       "    <tr>\n",
       "      <th class=\"index_name level0\" >instrument</th>\n",
       "      <th class=\"blank col0\" >&nbsp;</th>\n",
       "      <th class=\"blank col1\" >&nbsp;</th>\n",
       "      <th class=\"blank col2\" >&nbsp;</th>\n",
       "      <th class=\"blank col3\" >&nbsp;</th>\n",
       "      <th class=\"blank col4\" >&nbsp;</th>\n",
       "    </tr>\n",
       "  </thead>\n",
       "  <tbody>\n",
       "    <tr>\n",
       "      <th id=\"T_9fa27_level0_row0\" class=\"row_heading level0 row0\" >SZ002453</th>\n",
       "      <td id=\"T_9fa27_row0_col0\" class=\"data row0 col0\" >0.058390</td>\n",
       "      <td id=\"T_9fa27_row0_col1\" class=\"data row0 col1\" >0.058390</td>\n",
       "      <td id=\"T_9fa27_row0_col2\" class=\"data row0 col2\" >0.000000</td>\n",
       "      <td id=\"T_9fa27_row0_col3\" class=\"data row0 col3\" >0.476235</td>\n",
       "      <td id=\"T_9fa27_row0_col4\" class=\"data row0 col4\" >5.170000</td>\n",
       "    </tr>\n",
       "    <tr>\n",
       "      <th id=\"T_9fa27_level0_row1\" class=\"row_heading level0 row1\" >SZ001270</th>\n",
       "      <td id=\"T_9fa27_row1_col0\" class=\"data row1 col0\" >0.056537</td>\n",
       "      <td id=\"T_9fa27_row1_col1\" class=\"data row1 col1\" >0.056537</td>\n",
       "      <td id=\"T_9fa27_row1_col2\" class=\"data row1 col2\" >0.000000</td>\n",
       "      <td id=\"T_9fa27_row1_col3\" class=\"data row1 col3\" >0.461122</td>\n",
       "      <td id=\"T_9fa27_row1_col4\" class=\"data row1 col4\" >39.580002</td>\n",
       "    </tr>\n",
       "    <tr>\n",
       "      <th id=\"T_9fa27_level0_row2\" class=\"row_heading level0 row2\" >SZ002421</th>\n",
       "      <td id=\"T_9fa27_row2_col0\" class=\"data row2 col0\" >0.056454</td>\n",
       "      <td id=\"T_9fa27_row2_col1\" class=\"data row2 col1\" >0.056454</td>\n",
       "      <td id=\"T_9fa27_row2_col2\" class=\"data row2 col2\" >0.000000</td>\n",
       "      <td id=\"T_9fa27_row2_col3\" class=\"data row2 col3\" >0.460449</td>\n",
       "      <td id=\"T_9fa27_row2_col4\" class=\"data row2 col4\" >3.460000</td>\n",
       "    </tr>\n",
       "    <tr>\n",
       "      <th id=\"T_9fa27_level0_row3\" class=\"row_heading level0 row3\" >SZ002324</th>\n",
       "      <td id=\"T_9fa27_row3_col0\" class=\"data row3 col0\" >0.056107</td>\n",
       "      <td id=\"T_9fa27_row3_col1\" class=\"data row3 col1\" >0.056107</td>\n",
       "      <td id=\"T_9fa27_row3_col2\" class=\"data row3 col2\" >0.000000</td>\n",
       "      <td id=\"T_9fa27_row3_col3\" class=\"data row3 col3\" >0.457618</td>\n",
       "      <td id=\"T_9fa27_row3_col4\" class=\"data row3 col4\" >9.980000</td>\n",
       "    </tr>\n",
       "    <tr>\n",
       "      <th id=\"T_9fa27_level0_row4\" class=\"row_heading level0 row4\" >SH601969</th>\n",
       "      <td id=\"T_9fa27_row4_col0\" class=\"data row4 col0\" >0.055800</td>\n",
       "      <td id=\"T_9fa27_row4_col1\" class=\"data row4 col1\" >0.055800</td>\n",
       "      <td id=\"T_9fa27_row4_col2\" class=\"data row4 col2\" >0.000000</td>\n",
       "      <td id=\"T_9fa27_row4_col3\" class=\"data row4 col3\" >0.455111</td>\n",
       "      <td id=\"T_9fa27_row4_col4\" class=\"data row4 col4\" >7.330000</td>\n",
       "    </tr>\n",
       "    <tr>\n",
       "      <th id=\"T_9fa27_level0_row5\" class=\"row_heading level0 row5\" >SZ002163</th>\n",
       "      <td id=\"T_9fa27_row5_col0\" class=\"data row5 col0\" >0.055082</td>\n",
       "      <td id=\"T_9fa27_row5_col1\" class=\"data row5 col1\" >0.055082</td>\n",
       "      <td id=\"T_9fa27_row5_col2\" class=\"data row5 col2\" >0.000000</td>\n",
       "      <td id=\"T_9fa27_row5_col3\" class=\"data row5 col3\" >0.449256</td>\n",
       "      <td id=\"T_9fa27_row5_col4\" class=\"data row5 col4\" >9.320001</td>\n",
       "    </tr>\n",
       "    <tr>\n",
       "      <th id=\"T_9fa27_level0_row6\" class=\"row_heading level0 row6\" >SZ000058</th>\n",
       "      <td id=\"T_9fa27_row6_col0\" class=\"data row6 col0\" >0.053608</td>\n",
       "      <td id=\"T_9fa27_row6_col1\" class=\"data row6 col1\" >0.053608</td>\n",
       "      <td id=\"T_9fa27_row6_col2\" class=\"data row6 col2\" >0.000000</td>\n",
       "      <td id=\"T_9fa27_row6_col3\" class=\"data row6 col3\" >0.437234</td>\n",
       "      <td id=\"T_9fa27_row6_col4\" class=\"data row6 col4\" >8.130000</td>\n",
       "    </tr>\n",
       "    <tr>\n",
       "      <th id=\"T_9fa27_level0_row7\" class=\"row_heading level0 row7\" >SZ002583</th>\n",
       "      <td id=\"T_9fa27_row7_col0\" class=\"data row7 col0\" >0.053191</td>\n",
       "      <td id=\"T_9fa27_row7_col1\" class=\"data row7 col1\" >0.053191</td>\n",
       "      <td id=\"T_9fa27_row7_col2\" class=\"data row7 col2\" >0.000000</td>\n",
       "      <td id=\"T_9fa27_row7_col3\" class=\"data row7 col3\" >0.433832</td>\n",
       "      <td id=\"T_9fa27_row7_col4\" class=\"data row7 col4\" >14.739999</td>\n",
       "    </tr>\n",
       "    <tr>\n",
       "      <th id=\"T_9fa27_level0_row8\" class=\"row_heading level0 row8\" >SZ002312</th>\n",
       "      <td id=\"T_9fa27_row8_col0\" class=\"data row8 col0\" >0.053185</td>\n",
       "      <td id=\"T_9fa27_row8_col1\" class=\"data row8 col1\" >0.053185</td>\n",
       "      <td id=\"T_9fa27_row8_col2\" class=\"data row8 col2\" >0.000000</td>\n",
       "      <td id=\"T_9fa27_row8_col3\" class=\"data row8 col3\" >0.433785</td>\n",
       "      <td id=\"T_9fa27_row8_col4\" class=\"data row8 col4\" >15.009999</td>\n",
       "    </tr>\n",
       "    <tr>\n",
       "      <th id=\"T_9fa27_level0_row9\" class=\"row_heading level0 row9\" >SH603026</th>\n",
       "      <td id=\"T_9fa27_row9_col0\" class=\"data row9 col0\" >0.052674</td>\n",
       "      <td id=\"T_9fa27_row9_col1\" class=\"data row9 col1\" >0.052674</td>\n",
       "      <td id=\"T_9fa27_row9_col2\" class=\"data row9 col2\" >0.000000</td>\n",
       "      <td id=\"T_9fa27_row9_col3\" class=\"data row9 col3\" >0.429615</td>\n",
       "      <td id=\"T_9fa27_row9_col4\" class=\"data row9 col4\" >35.250000</td>\n",
       "    </tr>\n",
       "  </tbody>\n",
       "</table>\n"
      ],
      "text/plain": [
       "<pandas.io.formats.style.Styler at 0x7f6a2b0075b0>"
      ]
     },
     "execution_count": 18,
     "metadata": {},
     "output_type": "execute_result"
    }
   ],
   "source": [
    "sty_report_top2"
   ]
  },
  {
   "cell_type": "code",
   "execution_count": 24,
   "metadata": {
    "execution": {
     "iopub.execute_input": "2024-12-25T13:29:43.381185Z",
     "iopub.status.busy": "2024-12-25T13:29:43.380644Z",
     "iopub.status.idle": "2024-12-25T13:29:52.285554Z",
     "shell.execute_reply": "2024-12-25T13:29:52.284499Z"
    }
   },
   "outputs": [],
   "source": [
    "import dataframe_image as dfi\n",
    "\n",
    "infodf = pd.DataFrame({'label': ['Model update date', 'Prediction generation date'],\n",
    "                       'date': ['2024-12-11', TODAY]})\n",
    "\n",
    "dfi.export(infodf, './tmp/ensemble_private_all_info.png',table_conversion='matplotlib')\n",
    "\n",
    "# dfi.export(sty_report_info5, './tmp/ensemble_private_all_performance5.png',table_conversion='matplotlib')\n",
    "# dfi.export(sty_report_info10, './tmp/ensemble_private_all_performance10.png',table_conversion='matplotlib')\n",
    "# dfi.export(sty_report_info20, './tmp/ensemble_private_all_performance20.png',table_conversion='matplotlib')\n",
    "dfi.export(sty_report_top0, './tmp/ensemble_private_all_top0.png',table_conversion='matplotlib')\n",
    "dfi.export(sty_report_top1, './tmp/ensemble_private_all_top1.png',table_conversion='matplotlib')\n",
    "dfi.export(sty_report_top2, './tmp/ensemble_private_all_top2.png',table_conversion='matplotlib')\n",
    "dfi.export(sty_report_top3, './tmp/ensemble_private_all_top3.png',table_conversion='matplotlib')\n",
    "dfi.export(sty_report_top4, './tmp/ensemble_private_all_top4.png',table_conversion='matplotlib')\n",
    "dfi.export(sty_report_top5, './tmp/ensemble_private_all_top5.png',table_conversion='matplotlib')\n",
    "# dfi.export(sty_report_top6, './tmp/ensemble_private_all_top6.png',table_conversion='matplotlib')\n",
    "# dfi.export(sty_report_top7, './tmp/ensemble_private_all_top7.png',table_conversion='matplotlib')\n",
    "# dfi.export(sty_report_top8, './tmp/ensemble_private_all_top8.png',table_conversion='matplotlib')\n",
    "# dfi.export(sty_report_top9, './tmp/ensemble_private_all_top9.png',table_conversion='matplotlib')\n",
    "# dfi.export(sty_report_top10, './tmp/ensemble_private_all_top10.png',table_conversion='matplotlib')\n",
    "# dfi.export(sty_report_top11, './tmp/ensemble_private_all_top11.png',table_conversion='matplotlib')\n",
    "# dfi.export(sty_report_top12, './tmp/ensemble_private_all_top12.png',table_conversion='matplotlib')\n",
    "# dfi.export(sty_report_top13, './tmp/ensemble_private_all_top13.png',table_conversion='matplotlib')\n",
    "# dfi.export(sty_report_top14, './tmp/ensemble_private_all_top14.png',table_conversion='matplotlib')\n",
    "dfi.export(sty_report_pos, './tmp/ensemble_private_all_watch.png',table_conversion='matplotlib')"
   ]
  },
  {
   "cell_type": "code",
   "execution_count": 20,
   "metadata": {
    "execution": {
     "iopub.execute_input": "2024-12-25T13:29:52.290354Z",
     "iopub.status.busy": "2024-12-25T13:29:52.289869Z",
     "iopub.status.idle": "2024-12-25T13:30:04.505537Z",
     "shell.execute_reply": "2024-12-25T13:30:04.504355Z"
    }
   },
   "outputs": [],
   "source": [
    "\n",
    "for k in [1,5,10,20]:\n",
    "    sty_report_win_info = eval(f\"pd.DataFrame(info_win_dict{k}, index=['TOP50WIN', '0-5', '5-10', '10-20', '20-30', '30-40', '40-50', '50-60', '60-70', '70-80', '80-90', '90-100', '100-110', '110-120', '120-130', '130-140', '140-150'])\").style.background_gradient(axis=None)\n",
    "    sty_report_ic_info = eval(f\"pd.DataFrame(info_ic_dict{k}, index=['TOP50IC', '0-5', '5-10', '10-20', '20-30', '30-40', '40-50', '50-60', '60-70', '70-80', '80-90', '90-100', '100-110', '110-120', '120-130', '130-140', '140-150'])\").style.background_gradient(axis=None)\n",
    "    dfi.export(sty_report_win_info, f'./tmp/ensemble_private_all_win{k}.png',table_conversion='matplotlib')\n",
    "    dfi.export(sty_report_ic_info, f'./tmp/ensemble_private_all_ic{k}.png',table_conversion='matplotlib')"
   ]
  },
  {
   "cell_type": "code",
   "execution_count": 21,
   "metadata": {
    "execution": {
     "iopub.execute_input": "2024-12-25T13:30:04.510953Z",
     "iopub.status.busy": "2024-12-25T13:30:04.510399Z",
     "iopub.status.idle": "2024-12-25T13:30:04.534264Z",
     "shell.execute_reply": "2024-12-25T13:30:04.533201Z"
    }
   },
   "outputs": [
    {
     "data": {
      "text/html": [
       "<div>\n",
       "<style scoped>\n",
       "    .dataframe tbody tr th:only-of-type {\n",
       "        vertical-align: middle;\n",
       "    }\n",
       "\n",
       "    .dataframe tbody tr th {\n",
       "        vertical-align: top;\n",
       "    }\n",
       "\n",
       "    .dataframe thead th {\n",
       "        text-align: right;\n",
       "    }\n",
       "</style>\n",
       "<table border=\"1\" class=\"dataframe\">\n",
       "  <thead>\n",
       "    <tr style=\"text-align: right;\">\n",
       "      <th></th>\n",
       "      <th>Cash</th>\n",
       "      <th>Stock Value</th>\n",
       "      <th>Total Value</th>\n",
       "      <th>Balance</th>\n",
       "      <th>Return</th>\n",
       "    </tr>\n",
       "  </thead>\n",
       "  <tbody>\n",
       "    <tr>\n",
       "      <th>2024-12-12</th>\n",
       "      <td>316.0</td>\n",
       "      <td>177556.186527</td>\n",
       "      <td>177872.186527</td>\n",
       "      <td>NaN</td>\n",
       "      <td>NaN</td>\n",
       "    </tr>\n",
       "    <tr>\n",
       "      <th>2024-12-13</th>\n",
       "      <td>316.0</td>\n",
       "      <td>139894.741160</td>\n",
       "      <td>140210.741160</td>\n",
       "      <td>-37661.445368</td>\n",
       "      <td>-0.268606</td>\n",
       "    </tr>\n",
       "  </tbody>\n",
       "</table>\n",
       "</div>"
      ],
      "text/plain": [
       "             Cash    Stock Value    Total Value       Balance    Return\n",
       "2024-12-12  316.0  177556.186527  177872.186527           NaN       NaN\n",
       "2024-12-13  316.0  139894.741160  140210.741160 -37661.445368 -0.268606"
      ]
     },
     "execution_count": 21,
     "metadata": {},
     "output_type": "execute_result"
    }
   ],
   "source": [
    "dt_lst = sorted(list(pos_history.keys()))\n",
    "cash, sv, tot = [], [], []\n",
    "for dt in dt_lst:\n",
    "    pos: Position = pos_history[dt]\n",
    "    cash.append(pos.get_cash())\n",
    "    sv.append(pos.calculate_stock_value())\n",
    "    tot.append(pos.calculate_value())\n",
    "res = pd.DataFrame({'Cash':cash, 'Stock Value':sv, 'Total Value':tot}, index=[d.date() for d in dt_lst])\n",
    "res['Balance'] = res['Total Value'] - res['Total Value'].shift(1) \n",
    "res['Return'] = res['Balance'] / res['Total Value']\n",
    "res"
   ]
  },
  {
   "cell_type": "code",
   "execution_count": 22,
   "metadata": {
    "execution": {
     "iopub.execute_input": "2024-12-25T13:30:04.538263Z",
     "iopub.status.busy": "2024-12-25T13:30:04.537373Z",
     "iopub.status.idle": "2024-12-25T13:30:04.613441Z",
     "shell.execute_reply": "2024-12-25T13:30:04.612413Z"
    }
   },
   "outputs": [],
   "source": [
    "dfi.export(res, './tmp/private_account.png',table_conversion='matplotlib')"
   ]
  },
  {
   "cell_type": "code",
   "execution_count": 23,
   "metadata": {
    "execution": {
     "iopub.execute_input": "2024-12-25T13:30:04.618323Z",
     "iopub.status.busy": "2024-12-25T13:30:04.617864Z",
     "iopub.status.idle": "2024-12-25T13:30:04.680601Z",
     "shell.execute_reply": "2024-12-25T13:30:04.679044Z"
    }
   },
   "outputs": [],
   "source": [
    "infodf = pd.DataFrame({'label': ['Update date', 'Backtest start date'],\n",
    "                    'value': [TODAY, BT_START]})\n",
    "\n",
    "dfi.export(infodf, f'./tmp/summary_info.png',table_conversion='matplotlib')"
   ]
  }
 ],
 "metadata": {
  "kernelspec": {
   "display_name": "qlib39",
   "language": "python",
   "name": "python3"
  },
  "language_info": {
   "codemirror_mode": {
    "name": "ipython",
    "version": 3
   },
   "file_extension": ".py",
   "mimetype": "text/x-python",
   "name": "python",
   "nbconvert_exporter": "python",
   "pygments_lexer": "ipython3",
   "version": "3.9.20"
  }
 },
 "nbformat": 4,
 "nbformat_minor": 2
}
