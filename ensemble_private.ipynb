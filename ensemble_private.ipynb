{
 "cells": [
  {
   "cell_type": "code",
   "execution_count": 8,
   "metadata": {
    "execution": {
     "iopub.execute_input": "2024-12-25T13:29:23.001694Z",
     "iopub.status.busy": "2024-12-25T13:29:23.001057Z",
     "iopub.status.idle": "2024-12-25T13:29:23.347561Z",
     "shell.execute_reply": "2024-12-25T13:29:23.346787Z"
    }
   },
   "outputs": [
    {
     "name": "stdout",
     "output_type": "stream",
     "text": [
      "2024-11-01\n",
      "2024-12-24\n",
      "2024-12-25\n"
     ]
    }
   ],
   "source": [
    "import pandas as pd\n",
    "cal = pd.read_csv('/data/linq/.qlib/qlib_data/cn_data/calendars/day.txt')\n",
    "delta = 0\n",
    "TODAY = str(cal.iloc[-1-delta,0])\n",
    "YESTERDAY = str(cal.iloc[-2-delta,0])\n",
    "# TODAY = str(cal.iloc[-2,0])\n",
    "# YESTERDAY = str(cal.iloc[-3,0])\n",
    "\n",
    "BT_START = '2024-11-01'\n",
    "\n",
    "print(BT_START)\n",
    "print(YESTERDAY)\n",
    "print(TODAY)"
   ]
  },
  {
   "cell_type": "code",
   "execution_count": 9,
   "metadata": {
    "execution": {
     "iopub.execute_input": "2024-12-25T13:29:23.392993Z",
     "iopub.status.busy": "2024-12-25T13:29:23.392403Z",
     "iopub.status.idle": "2024-12-25T13:29:23.399427Z",
     "shell.execute_reply": "2024-12-25T13:29:23.398339Z"
    }
   },
   "outputs": [],
   "source": [
    "# BT_START = '2024-12-01'\n",
    "# TODAY = '2024-12-09'\n",
    "\n",
    "test_split = (TODAY, TODAY)\n",
    "bt_split = (BT_START, YESTERDAY)\n",
    "pos_txt = f'''\\\n",
    "date {TODAY}\n",
    "cash 721.00\n",
    "SZ000001 2100\n",
    "SH600570 800\n",
    "SZ000661 200\n",
    "SH600115 4800\n",
    "SZ002459 1300\n",
    "SZ002129 2000\n",
    "SZ000002 2300\n",
    "SH600372 1400\n",
    "SH600188 1100\n",
    "'''"
   ]
  },
  {
   "cell_type": "code",
   "execution_count": 10,
   "metadata": {
    "execution": {
     "iopub.execute_input": "2024-12-25T13:29:23.402366Z",
     "iopub.status.busy": "2024-12-25T13:29:23.401834Z",
     "iopub.status.idle": "2024-12-25T13:29:24.323920Z",
     "shell.execute_reply": "2024-12-25T13:29:24.322849Z"
    }
   },
   "outputs": [
    {
     "name": "stderr",
     "output_type": "stream",
     "text": [
      "[3342837:MainThread](2024-12-26 15:14:06,516) INFO - qlib.Initialization - [config.py:416] - default_conf: client.\n",
      "[3342837:MainThread](2024-12-26 15:14:06,520) INFO - qlib.Initialization - [__init__.py:74] - qlib successfully initialized based on client settings.\n",
      "[3342837:MainThread](2024-12-26 15:14:06,521) INFO - qlib.Initialization - [__init__.py:76] - data_path={'__DEFAULT_FREQ': PosixPath('/data/linq/.qlib/qlib_data/cn_data')}\n"
     ]
    }
   ],
   "source": [
    "import qlib\n",
    "import pandas as pd\n",
    "from pandas import Timestamp\n",
    "import json\n",
    "from qlib.constant import REG_CN\n",
    "from qlib.utils import exists_qlib_data, init_instance_by_config\n",
    "from qlib.workflow import R\n",
    "from qlib.workflow.record_temp import SignalRecord, PortAnaRecord\n",
    "from qlib.utils import flatten_dict\n",
    "from qlib.data.filter import NameDFilter\n",
    "from qlib.backtest.position import Position\n",
    "from qlib.data import D\n",
    "\n",
    "import copy\n",
    "import pprint\n",
    "import warnings\n",
    "warnings.filterwarnings('ignore')\n",
    "\n",
    "provider_uri = \"/data/linq/.qlib/qlib_data/cn_data\"  # target_dir\n",
    "qlib.init(provider_uri=provider_uri, region=REG_CN)\n",
    "\n",
    "from lilab.qlib.utils.tools import normalize_position_history, load_position_text, load_position_history, save_position_history, fill_price_position_history\n",
    "from lilab.qlib.backtest.benchmark import BENCH_Step"
   ]
  },
  {
   "cell_type": "markdown",
   "metadata": {},
   "source": [
    "Record position history"
   ]
  },
  {
   "cell_type": "code",
   "execution_count": 11,
   "metadata": {
    "execution": {
     "iopub.execute_input": "2024-12-25T13:29:24.328494Z",
     "iopub.status.busy": "2024-12-25T13:29:24.327839Z",
     "iopub.status.idle": "2024-12-25T13:29:24.898340Z",
     "shell.execute_reply": "2024-12-25T13:29:24.897177Z"
    }
   },
   "outputs": [
    {
     "name": "stdout",
     "output_type": "stream",
     "text": [
      "save_position_history error\n",
      "2024-12-25\n",
      "{'SZ000001': {'amount': 2100}, 'SH600570': {'amount': 800}, 'SZ000661': {'amount': 200}, 'SH600115': {'amount': 4800}, 'SZ002459': {'amount': 1300}, 'SZ002129': {'amount': 2000}, 'SZ000002': {'amount': 2300}, 'SH600372': {'amount': 1400}, 'SH600188': {'amount': 1100}, 'cash': 721.0}\n",
      "{'_settle_type': 'None', 'position': {'SZ000661': {'amount': 2163, 'price': 9.303715705871582}, 'SZ000001': {'amount': 13990, 'price': 1.7892110347747803}, 'SH600188': {'amount': 6609, 'price': 2.3797593116760254}, 'SH600115': {'amount': 28241, 'price': 0.681553304195404}, 'SZ002459': {'amount': 17480, 'price': 1.0791066884994507}, 'SH600372': {'amount': 0, 'price': inf}, 'SH600570': {'amount': 3727, 'price': 6.249006271362305}, 'SZ002129': {'amount': 4184, 'price': 4.468804359436035}, 'SZ000002': {'amount': 14867, 'price': 1.1664702892303467}, 'cash': 721.0, 'now_account_value': nan}, 'init_cash': 721.0}\n",
      "['SZ000661', 'SZ000001', 'SH600188', 'SH600115', 'SZ002459', 'SH600372', 'SH600570', 'SZ002129', 'SZ000002']\n"
     ]
    }
   ],
   "source": [
    "cur_pos = load_position_text(pos_txt)\n",
    "norm_cur_pos = normalize_position_history(cur_pos)\n",
    "norm_cur_pos = fill_price_position_history(norm_cur_pos)\n",
    "try:\n",
    "    pos_history = load_position_history()\n",
    "except:\n",
    "    pos_history = {}\n",
    "pos_history.update(norm_cur_pos)\n",
    "# print(pos_history)\n",
    "save_position_history(pos_history)\n",
    "dt, pos = next(iter(cur_pos.items()))\n",
    "account = pos.position\n",
    "dt, norm_pos = next(iter(norm_cur_pos.items()))\n",
    "norm_account = pos.position\n",
    "hold_lst = pos.get_stock_list()\n",
    "print(dt.date())\n",
    "print(account)\n",
    "print(norm_pos)\n",
    "print(hold_lst)"
   ]
  },
  {
   "cell_type": "code",
   "execution_count": 12,
   "metadata": {
    "execution": {
     "iopub.execute_input": "2024-12-25T13:29:24.902735Z",
     "iopub.status.busy": "2024-12-25T13:29:24.902208Z",
     "iopub.status.idle": "2024-12-25T13:29:24.911603Z",
     "shell.execute_reply": "2024-12-25T13:29:24.910778Z"
    }
   },
   "outputs": [
    {
     "name": "stdout",
     "output_type": "stream",
     "text": [
      "{'SZ000661': {'amount': 2163, 'price': 9.303715705871582}, 'SZ000001': {'amount': 13990, 'price': 1.7892110347747803}, 'SH600188': {'amount': 6609, 'price': 2.3797593116760254}, 'SH600115': {'amount': 28241, 'price': 0.681553304195404}, 'SZ002459': {'amount': 17480, 'price': 1.0791066884994507}, 'SH600372': {'amount': 0, 'price': inf}, 'SH600570': {'amount': 3727, 'price': 6.249006271362305}, 'SZ002129': {'amount': 4184, 'price': 4.468804359436035}, 'SZ000002': {'amount': 14867, 'price': 1.1664702892303467}, 'cash': 721.0, 'now_account_value': nan}\n",
      "{'SZ000661': 0, 'SZ000001': 0, 'SH600188': 0, 'SH600115': 0, 'SZ002459': 2, 'SH600372': 0, 'SH600570': 2, 'SZ002129': 2, 'SZ000002': 2}\n"
     ]
    }
   ],
   "source": [
    "\n",
    "pos_history = load_position_history()\n",
    "hold_day = {}\n",
    "_norm_pos = norm_pos.__dict__['position']\n",
    "print(_norm_pos)\n",
    "dt_lst = sorted(list(pos_history.keys()))[::-1]\n",
    "for k, v in _norm_pos.items():\n",
    "    if not isinstance(v, dict):\n",
    "        continue\n",
    "    cnt = 0\n",
    "    for dt in dt_lst:\n",
    "        if str(dt.date())==TODAY:\n",
    "            # print(dt.date(), TODAY)\n",
    "            continue\n",
    "        tmp_pos = pos_history[dt]\n",
    "        if k not in tmp_pos.get_stock_list():\n",
    "            break\n",
    "        cnt += 1\n",
    "    # print(k, cnt)\n",
    "    hold_day[k] = cnt\n",
    "print(hold_day)"
   ]
  },
  {
   "cell_type": "code",
   "execution_count": 13,
   "metadata": {
    "execution": {
     "iopub.execute_input": "2024-12-25T13:29:24.914713Z",
     "iopub.status.busy": "2024-12-25T13:29:24.914332Z",
     "iopub.status.idle": "2024-12-25T13:29:24.929666Z",
     "shell.execute_reply": "2024-12-25T13:29:24.928616Z"
    }
   },
   "outputs": [],
   "source": [
    "def simp_eval(res_df, k, t=None, day=None):\n",
    "    # print(res_df)\n",
    "    if day:\n",
    "        date = str(cal.iloc[-day-1,0])\n",
    "        res_df = res_df[res_df.index.get_level_values('datetime') >= date]\n",
    "    # Step 1: Group by multiple indices\n",
    "    grouped = res_df.groupby(['datetime'])\n",
    "\n",
    "    # Step 2: Sort by 'value' within each group in descending order\n",
    "    sorted_df = grouped.apply(lambda x: x.sort_values(by='score', ascending=False))\n",
    "    sorted_df['win'] = sorted_df['label'] * sorted_df['score'] > 0\n",
    "    # Step 3: Select the top 5 rows for each group\n",
    "    # top_k_per_group = sorted_df.groupby(['datetime']).head(k)\n",
    "    top_k_per_group = sorted_df.groupby(['datetime']).apply(lambda x: x.nlargest(k, 'score'))#.reset_index(level=1, drop=1)\n",
    "    if t:\n",
    "        # top_k_per_group = top_k_per_group.tail(t)\n",
    "        top_k_per_group = top_k_per_group.groupby(['datetime']).apply(lambda x: x.nsmallest(t, 'score'))\n",
    "    # print(top_k_per_group)\n",
    "    top_k_ic = top_k_per_group['label'].corr(top_k_per_group['score'])\n",
    "    s, n = top_k_per_group['win'].sum(), len(top_k_per_group)\n",
    "    # print(s, n)\n",
    "    top_k_win = 1.0 * top_k_per_group['win'].sum() / len(top_k_per_group)\n",
    "    return top_k_ic, top_k_win \n",
    "\n",
    "def run_model(model, path='/home/linq/finance/qniverse/log'):\n",
    "    res_df = pd.read_csv(f'{path}/{model}_backtest_return_{TODAY}.csv', index_col=['datetime','instrument'])\n",
    "\n",
    "    def eval_day(day=None):\n",
    "        top5ic, top5win = simp_eval(res_df, 5, day=day)\n",
    "        top10ic, top10win = simp_eval(res_df, 10, 5, day=day)\n",
    "        # top15ic, top15win = simp_eval(res_df, 15, 5, day=day)\n",
    "        top20ic, top20win = simp_eval(res_df, 20, 10, day=day)\n",
    "        # top25ic, top25win = simp_eval(res_df, 25, 5, day=day)\n",
    "        top30ic, top30win = simp_eval(res_df, 30, 10, day=day)\n",
    "        top40ic, top40win = simp_eval(res_df, 40, 10, day=day)\n",
    "        top50ic, top50win = simp_eval(res_df, 50, 10, day=day)\n",
    "        top60ic, top60win = simp_eval(res_df, 60, 10, day=day)\n",
    "        top70ic, top70win = simp_eval(res_df, 70, 10, day=day)\n",
    "        top80ic, top80win = simp_eval(res_df, 80, 10, day=day)        \n",
    "        top90ic, top90win = simp_eval(res_df, 90, 10, day=day)\n",
    "        top100ic, top100win = simp_eval(res_df, 100, 10, day=day)\n",
    "        top110ic, top110win = simp_eval(res_df, 110, 10, day=day)\n",
    "        top120ic, top120win = simp_eval(res_df, 120, 10, day=day)\n",
    "        top130ic, top130win = simp_eval(res_df, 130, 10, day=day)\n",
    "        top140ic, top140win = simp_eval(res_df, 140, 10, day=day)\n",
    "        top150ic, top150win = simp_eval(res_df, 150, 10, day=day)\n",
    "        topic, topwin = simp_eval(res_df, 50, day=day)\n",
    "        # return [topic, topwin, top5ic, top5win, top10ic, top10win, top15ic, top15win, top20ic, top20win, top25ic, top25win, top30ic, top30win]\n",
    "        return [topwin, top5win, top10win, top20win, top30win, top40win, top50win, top60win, top70win, top80win, top90win, top100win, top110win, top120win, top130win, top140win, top150win], [topic, top5ic, top10ic, top20ic, top30ic, top40ic, top50ic, top60ic, top70ic, top80ic, top90ic, top100ic, top110ic, top120ic, top130ic, top140ic, top150ic]\n",
    "    day1metrics = eval_day(2)\n",
    "    day5metrics = eval_day(6)\n",
    "    day10metrics = eval_day(11)\n",
    "    day20metrics = eval_day(21)\n",
    "    \n",
    "    pred_df = pd.read_csv(f'{path}/{model}_tomorrow_return_{TODAY}.csv', index_col=['datetime','instrument'])\n",
    "\n",
    "    return day1metrics, day5metrics, day10metrics, day20metrics, pred_df, res_df"
   ]
  },
  {
   "cell_type": "markdown",
   "metadata": {},
   "source": [
    "# Run"
   ]
  },
  {
   "cell_type": "code",
   "execution_count": 14,
   "metadata": {
    "execution": {
     "iopub.execute_input": "2024-12-25T13:29:24.933296Z",
     "iopub.status.busy": "2024-12-25T13:29:24.932931Z",
     "iopub.status.idle": "2024-12-25T13:29:42.256487Z",
     "shell.execute_reply": "2024-12-25T13:29:42.255092Z"
    }
   },
   "outputs": [
    {
     "name": "stdout",
     "output_type": "stream",
     "text": [
      "DENSEMBLEGBM\n"
     ]
    }
   ],
   "source": [
    "info_win_dict1, info_ic_dict1 = {}, {}\n",
    "info_win_dict5, info_ic_dict5 = {}, {}\n",
    "info_win_dict10, info_ic_dict10 = {}, {}\n",
    "info_win_dict20, info_ic_dict20 = {}, {}\n",
    "pred_lst = []\n",
    "\n",
    "name_lst =  ['DENSEMBLEGBM']\n",
    "for model in name_lst:\n",
    "    NAME = model\n",
    "    print(model)\n",
    "    day1metrics, day5metrics, day10metrics, day20metrics, pred_df, res_df = run_model(model)\n",
    "    info_win_dict1[NAME], info_ic_dict1[NAME] = day1metrics\n",
    "    info_win_dict5[NAME], info_ic_dict5[NAME] = day5metrics\n",
    "    info_win_dict10[NAME], info_ic_dict10[NAME] = day10metrics\n",
    "    info_win_dict20[NAME], info_ic_dict20[NAME] = day20metrics\n",
    "    # for k in [1, 5, 10, 20]:\n",
    "    #     eval(f'    info_win_dict{k}[NAME], info_ic_dict{k}[NAME] = day{k}metrics')\n",
    "    _df = pred_df.loc[:,'score']\n",
    "    _df.name = model\n",
    "    # print(_df)\n",
    "    pred_lst.append(_df)"
   ]
  },
  {
   "cell_type": "code",
   "execution_count": 15,
   "metadata": {
    "execution": {
     "iopub.execute_input": "2024-12-25T13:29:42.261635Z",
     "iopub.status.busy": "2024-12-25T13:29:42.261128Z",
     "iopub.status.idle": "2024-12-25T13:29:42.292191Z",
     "shell.execute_reply": "2024-12-25T13:29:42.291385Z"
    }
   },
   "outputs": [
    {
     "data": {
      "text/html": [
       "<div>\n",
       "<style scoped>\n",
       "    .dataframe tbody tr th:only-of-type {\n",
       "        vertical-align: middle;\n",
       "    }\n",
       "\n",
       "    .dataframe tbody tr th {\n",
       "        vertical-align: top;\n",
       "    }\n",
       "\n",
       "    .dataframe thead th {\n",
       "        text-align: right;\n",
       "    }\n",
       "</style>\n",
       "<table border=\"1\" class=\"dataframe\">\n",
       "  <thead>\n",
       "    <tr style=\"text-align: right;\">\n",
       "      <th></th>\n",
       "      <th></th>\n",
       "      <th>DENSEMBLEGBM</th>\n",
       "    </tr>\n",
       "    <tr>\n",
       "      <th>datetime</th>\n",
       "      <th>instrument</th>\n",
       "      <th></th>\n",
       "    </tr>\n",
       "  </thead>\n",
       "  <tbody>\n",
       "    <tr>\n",
       "      <th rowspan=\"11\" valign=\"top\">2024-12-25</th>\n",
       "      <th>SZ002261</th>\n",
       "      <td>0.074101</td>\n",
       "    </tr>\n",
       "    <tr>\n",
       "      <th>SZ002607</th>\n",
       "      <td>0.065769</td>\n",
       "    </tr>\n",
       "    <tr>\n",
       "      <th>SH600536</th>\n",
       "      <td>0.061166</td>\n",
       "    </tr>\n",
       "    <tr>\n",
       "      <th>SH601456</th>\n",
       "      <td>0.058897</td>\n",
       "    </tr>\n",
       "    <tr>\n",
       "      <th>SH603826</th>\n",
       "      <td>0.057886</td>\n",
       "    </tr>\n",
       "    <tr>\n",
       "      <th>...</th>\n",
       "      <td>...</td>\n",
       "    </tr>\n",
       "    <tr>\n",
       "      <th>SZ002472</th>\n",
       "      <td>-0.127757</td>\n",
       "    </tr>\n",
       "    <tr>\n",
       "      <th>SZ002518</th>\n",
       "      <td>-0.135634</td>\n",
       "    </tr>\n",
       "    <tr>\n",
       "      <th>SZ002080</th>\n",
       "      <td>-0.162294</td>\n",
       "    </tr>\n",
       "    <tr>\n",
       "      <th>SH600673</th>\n",
       "      <td>-0.168205</td>\n",
       "    </tr>\n",
       "    <tr>\n",
       "      <th>SH603868</th>\n",
       "      <td>-0.258030</td>\n",
       "    </tr>\n",
       "  </tbody>\n",
       "</table>\n",
       "<p>388 rows × 1 columns</p>\n",
       "</div>"
      ],
      "text/plain": [
       "                       DENSEMBLEGBM\n",
       "datetime   instrument              \n",
       "2024-12-25 SZ002261        0.074101\n",
       "           SZ002607        0.065769\n",
       "           SH600536        0.061166\n",
       "           SH601456        0.058897\n",
       "           SH603826        0.057886\n",
       "...                             ...\n",
       "           SZ002472       -0.127757\n",
       "           SZ002518       -0.135634\n",
       "           SZ002080       -0.162294\n",
       "           SH600673       -0.168205\n",
       "           SH603868       -0.258030\n",
       "\n",
       "[388 rows x 1 columns]"
      ]
     },
     "execution_count": 15,
     "metadata": {},
     "output_type": "execute_result"
    }
   ],
   "source": [
    "pred_df = pd.concat(pred_lst, axis=1)\n",
    "\n",
    "# pred_df = pred_df.loc[:, ~pred_df.columns.duplicated()]\n",
    "_pred_df = pred_df\n",
    "pred_df"
   ]
  },
  {
   "cell_type": "code",
   "execution_count": 16,
   "metadata": {
    "execution": {
     "iopub.execute_input": "2024-12-25T13:29:42.296636Z",
     "iopub.status.busy": "2024-12-25T13:29:42.296230Z",
     "iopub.status.idle": "2024-12-25T13:29:42.308726Z",
     "shell.execute_reply": "2024-12-25T13:29:42.307687Z"
    }
   },
   "outputs": [],
   "source": [
    "\n",
    "pred_df['mean'] = _pred_df.mean(axis=1)\n",
    "pred_df['std'] = _pred_df.std(axis=1)\n",
    "pred_df['score'] = pd.concat([_pred_df[n]*info_win_dict5[n][0]/_pred_df[n].std() for n in name_lst], axis=1).sum(axis=1)\n",
    "# pred_df"
   ]
  },
  {
   "cell_type": "code",
   "execution_count": 17,
   "metadata": {
    "execution": {
     "iopub.execute_input": "2024-12-25T13:29:42.312524Z",
     "iopub.status.busy": "2024-12-25T13:29:42.312161Z",
     "iopub.status.idle": "2024-12-25T13:29:42.875958Z",
     "shell.execute_reply": "2024-12-25T13:29:42.875057Z"
    }
   },
   "outputs": [],
   "source": [
    "rank_df = pred_df.droplevel(0).sort_values(by='score', ascending=False)\n",
    "fields = ['$close/$factor']\n",
    "_df = D.features(rank_df.index.values, fields, start_time=TODAY, end_time=TODAY, freq='day')\n",
    "_df.columns = ['close']\n",
    "_df = _df.droplevel(1)\n",
    "rank_df = pd.concat([rank_df,_df],axis=1,join='inner')\n",
    "report_top = rank_df"
   ]
  },
  {
   "cell_type": "code",
   "execution_count": 18,
   "metadata": {
    "execution": {
     "iopub.execute_input": "2024-12-25T13:29:42.880379Z",
     "iopub.status.busy": "2024-12-25T13:29:42.879905Z",
     "iopub.status.idle": "2024-12-25T13:29:42.885893Z",
     "shell.execute_reply": "2024-12-25T13:29:42.885131Z"
    }
   },
   "outputs": [
    {
     "data": {
      "text/plain": [
       "['SZ000661',\n",
       " 'SZ000001',\n",
       " 'SH600188',\n",
       " 'SH600115',\n",
       " 'SZ002459',\n",
       " 'SH600372',\n",
       " 'SH600570',\n",
       " 'SZ002129',\n",
       " 'SZ000002']"
      ]
     },
     "execution_count": 18,
     "metadata": {},
     "output_type": "execute_result"
    }
   ],
   "source": [
    "hold_lst"
   ]
  },
  {
   "cell_type": "code",
   "execution_count": 19,
   "metadata": {
    "execution": {
     "iopub.execute_input": "2024-12-25T13:29:42.890189Z",
     "iopub.status.busy": "2024-12-25T13:29:42.889788Z",
     "iopub.status.idle": "2024-12-25T13:29:42.896827Z",
     "shell.execute_reply": "2024-12-25T13:29:42.895980Z"
    }
   },
   "outputs": [],
   "source": [
    "pos_rank = rank_df.sort_values(by='score', ascending=True)\n",
    "pos_rank = pos_rank[pos_rank.index.isin(hold_lst)]\n",
    "hd = [hold_day[s] for s in pos_rank.index.values]\n",
    "pos_rank['HD'] = hd\n",
    "report_pos = pos_rank"
   ]
  },
  {
   "cell_type": "code",
   "execution_count": 20,
   "metadata": {
    "execution": {
     "iopub.execute_input": "2024-12-25T13:29:42.899400Z",
     "iopub.status.busy": "2024-12-25T13:29:42.898957Z",
     "iopub.status.idle": "2024-12-25T13:29:42.903799Z",
     "shell.execute_reply": "2024-12-25T13:29:42.902753Z"
    }
   },
   "outputs": [],
   "source": [
    "color_lst = [n for n in report_pos.columns if n not in ['close', 'HD']]\n",
    "# color_lst"
   ]
  },
  {
   "cell_type": "code",
   "execution_count": 21,
   "metadata": {
    "execution": {
     "iopub.execute_input": "2024-12-25T13:29:42.906898Z",
     "iopub.status.busy": "2024-12-25T13:29:42.906492Z",
     "iopub.status.idle": "2024-12-25T13:29:43.270653Z",
     "shell.execute_reply": "2024-12-25T13:29:43.269755Z"
    }
   },
   "outputs": [
    {
     "data": {
      "text/html": [
       "<style type=\"text/css\">\n",
       "</style>\n",
       "<table id=\"T_36b6e\">\n",
       "  <thead>\n",
       "    <tr>\n",
       "      <th class=\"blank level0\" >&nbsp;</th>\n",
       "      <th id=\"T_36b6e_level0_col0\" class=\"col_heading level0 col0\" >DENSEMBLEGBM</th>\n",
       "      <th id=\"T_36b6e_level0_col1\" class=\"col_heading level0 col1\" >mean</th>\n",
       "      <th id=\"T_36b6e_level0_col2\" class=\"col_heading level0 col2\" >std</th>\n",
       "      <th id=\"T_36b6e_level0_col3\" class=\"col_heading level0 col3\" >score</th>\n",
       "      <th id=\"T_36b6e_level0_col4\" class=\"col_heading level0 col4\" >close</th>\n",
       "      <th id=\"T_36b6e_level0_col5\" class=\"col_heading level0 col5\" >HD</th>\n",
       "    </tr>\n",
       "    <tr>\n",
       "      <th class=\"index_name level0\" >instrument</th>\n",
       "      <th class=\"blank col0\" >&nbsp;</th>\n",
       "      <th class=\"blank col1\" >&nbsp;</th>\n",
       "      <th class=\"blank col2\" >&nbsp;</th>\n",
       "      <th class=\"blank col3\" >&nbsp;</th>\n",
       "      <th class=\"blank col4\" >&nbsp;</th>\n",
       "      <th class=\"blank col5\" >&nbsp;</th>\n",
       "    </tr>\n",
       "  </thead>\n",
       "  <tbody>\n",
       "  </tbody>\n",
       "</table>\n"
      ],
      "text/plain": [
       "<pandas.io.formats.style.Styler at 0x7ff79182b400>"
      ]
     },
     "execution_count": 21,
     "metadata": {},
     "output_type": "execute_result"
    }
   ],
   "source": [
    "sty_report_pos = report_pos.style.background_gradient(cmap='Blues_r', subset=color_lst)\n",
    "sty_report_pos"
   ]
  },
  {
   "cell_type": "code",
   "execution_count": 22,
   "metadata": {
    "execution": {
     "iopub.execute_input": "2024-12-25T13:29:43.275763Z",
     "iopub.status.busy": "2024-12-25T13:29:43.275193Z",
     "iopub.status.idle": "2024-12-25T13:29:43.287586Z",
     "shell.execute_reply": "2024-12-25T13:29:43.286739Z"
    }
   },
   "outputs": [],
   "source": [
    "sty_report_top0 = report_top.head(10).style.background_gradient(axis=0, subset=color_lst)\n",
    "sty_report_top1 = report_top.head(20).tail(10).style.background_gradient(axis=0, subset=color_lst)\n",
    "sty_report_top2 = report_top.head(30).tail(10).style.background_gradient(axis=0, subset=color_lst)\n",
    "sty_report_top3 = report_top.head(40).tail(10).style.background_gradient(axis=0, subset=color_lst)\n",
    "sty_report_top4 = report_top.head(50).tail(10).style.background_gradient(axis=0, subset=color_lst)\n",
    "sty_report_top5 = report_top.head(60).tail(10).style.background_gradient(axis=0, subset=color_lst)\n",
    "sty_report_top6 = report_top.head(70).tail(10).style.background_gradient(axis=0, subset=color_lst)\n",
    "sty_report_top7 = report_top.head(80).tail(10).style.background_gradient(axis=0, subset=color_lst)\n",
    "sty_report_top8 = report_top.head(90).tail(10).style.background_gradient(axis=0, subset=color_lst)\n",
    "sty_report_top9 = report_top.head(100).tail(10).style.background_gradient(axis=0, subset=color_lst)\n",
    "sty_report_top10 = report_top.head(110).tail(10).style.background_gradient(axis=0, subset=color_lst)\n",
    "sty_report_top11 = report_top.head(120).tail(10).style.background_gradient(axis=0, subset=color_lst)\n",
    "sty_report_top12 = report_top.head(130).tail(10).style.background_gradient(axis=0, subset=color_lst)\n",
    "sty_report_top13 = report_top.head(140).tail(10).style.background_gradient(axis=0, subset=color_lst)\n",
    "sty_report_top14 = report_top.head(150).tail(10).style.background_gradient(axis=0, subset=color_lst)"
   ]
  },
  {
   "cell_type": "code",
   "execution_count": 23,
   "metadata": {
    "execution": {
     "iopub.execute_input": "2024-12-25T13:29:43.290779Z",
     "iopub.status.busy": "2024-12-25T13:29:43.290439Z",
     "iopub.status.idle": "2024-12-25T13:29:43.317795Z",
     "shell.execute_reply": "2024-12-25T13:29:43.316966Z"
    }
   },
   "outputs": [
    {
     "data": {
      "text/html": [
       "<style type=\"text/css\">\n",
       "#T_75f9b_row0_col0, #T_75f9b_row0_col1, #T_75f9b_row0_col3 {\n",
       "  background-color: #023858;\n",
       "  color: #f1f1f1;\n",
       "}\n",
       "#T_75f9b_row0_col2, #T_75f9b_row1_col2, #T_75f9b_row2_col2, #T_75f9b_row3_col2, #T_75f9b_row4_col2, #T_75f9b_row5_col2, #T_75f9b_row6_col2, #T_75f9b_row7_col2, #T_75f9b_row8_col2, #T_75f9b_row9_col0, #T_75f9b_row9_col1, #T_75f9b_row9_col2, #T_75f9b_row9_col3 {\n",
       "  background-color: #fff7fb;\n",
       "  color: #000000;\n",
       "}\n",
       "#T_75f9b_row1_col0, #T_75f9b_row1_col1, #T_75f9b_row1_col3 {\n",
       "  background-color: #348ebf;\n",
       "  color: #f1f1f1;\n",
       "}\n",
       "#T_75f9b_row2_col0, #T_75f9b_row2_col1, #T_75f9b_row2_col3 {\n",
       "  background-color: #8fb4d6;\n",
       "  color: #000000;\n",
       "}\n",
       "#T_75f9b_row3_col0, #T_75f9b_row3_col1, #T_75f9b_row3_col3 {\n",
       "  background-color: #b5c4df;\n",
       "  color: #000000;\n",
       "}\n",
       "#T_75f9b_row4_col0, #T_75f9b_row4_col1, #T_75f9b_row4_col3 {\n",
       "  background-color: #c4cbe3;\n",
       "  color: #000000;\n",
       "}\n",
       "#T_75f9b_row5_col0, #T_75f9b_row5_col1, #T_75f9b_row5_col3 {\n",
       "  background-color: #c6cce3;\n",
       "  color: #000000;\n",
       "}\n",
       "#T_75f9b_row6_col0, #T_75f9b_row6_col1, #T_75f9b_row6_col3 {\n",
       "  background-color: #d2d3e7;\n",
       "  color: #000000;\n",
       "}\n",
       "#T_75f9b_row7_col0, #T_75f9b_row7_col1, #T_75f9b_row7_col3 {\n",
       "  background-color: #e2dfee;\n",
       "  color: #000000;\n",
       "}\n",
       "#T_75f9b_row8_col0, #T_75f9b_row8_col1, #T_75f9b_row8_col3 {\n",
       "  background-color: #f4edf6;\n",
       "  color: #000000;\n",
       "}\n",
       "</style>\n",
       "<table id=\"T_75f9b\">\n",
       "  <thead>\n",
       "    <tr>\n",
       "      <th class=\"blank level0\" >&nbsp;</th>\n",
       "      <th id=\"T_75f9b_level0_col0\" class=\"col_heading level0 col0\" >DENSEMBLEGBM</th>\n",
       "      <th id=\"T_75f9b_level0_col1\" class=\"col_heading level0 col1\" >mean</th>\n",
       "      <th id=\"T_75f9b_level0_col2\" class=\"col_heading level0 col2\" >std</th>\n",
       "      <th id=\"T_75f9b_level0_col3\" class=\"col_heading level0 col3\" >score</th>\n",
       "      <th id=\"T_75f9b_level0_col4\" class=\"col_heading level0 col4\" >close</th>\n",
       "    </tr>\n",
       "    <tr>\n",
       "      <th class=\"index_name level0\" >instrument</th>\n",
       "      <th class=\"blank col0\" >&nbsp;</th>\n",
       "      <th class=\"blank col1\" >&nbsp;</th>\n",
       "      <th class=\"blank col2\" >&nbsp;</th>\n",
       "      <th class=\"blank col3\" >&nbsp;</th>\n",
       "      <th class=\"blank col4\" >&nbsp;</th>\n",
       "    </tr>\n",
       "  </thead>\n",
       "  <tbody>\n",
       "    <tr>\n",
       "      <th id=\"T_75f9b_level0_row0\" class=\"row_heading level0 row0\" >SZ002261</th>\n",
       "      <td id=\"T_75f9b_row0_col0\" class=\"data row0 col0\" >0.074101</td>\n",
       "      <td id=\"T_75f9b_row0_col1\" class=\"data row0 col1\" >0.074101</td>\n",
       "      <td id=\"T_75f9b_row0_col2\" class=\"data row0 col2\" >0.000000</td>\n",
       "      <td id=\"T_75f9b_row0_col3\" class=\"data row0 col3\" >0.912125</td>\n",
       "      <td id=\"T_75f9b_row0_col4\" class=\"data row0 col4\" >18.359999</td>\n",
       "    </tr>\n",
       "    <tr>\n",
       "      <th id=\"T_75f9b_level0_row1\" class=\"row_heading level0 row1\" >SZ002607</th>\n",
       "      <td id=\"T_75f9b_row1_col0\" class=\"data row1 col0\" >0.065769</td>\n",
       "      <td id=\"T_75f9b_row1_col1\" class=\"data row1 col1\" >0.065769</td>\n",
       "      <td id=\"T_75f9b_row1_col2\" class=\"data row1 col2\" >0.000000</td>\n",
       "      <td id=\"T_75f9b_row1_col3\" class=\"data row1 col3\" >0.809571</td>\n",
       "      <td id=\"T_75f9b_row1_col4\" class=\"data row1 col4\" >3.490000</td>\n",
       "    </tr>\n",
       "    <tr>\n",
       "      <th id=\"T_75f9b_level0_row2\" class=\"row_heading level0 row2\" >SH600536</th>\n",
       "      <td id=\"T_75f9b_row2_col0\" class=\"data row2 col0\" >0.061166</td>\n",
       "      <td id=\"T_75f9b_row2_col1\" class=\"data row2 col1\" >0.061166</td>\n",
       "      <td id=\"T_75f9b_row2_col2\" class=\"data row2 col2\" >0.000000</td>\n",
       "      <td id=\"T_75f9b_row2_col3\" class=\"data row2 col3\" >0.752906</td>\n",
       "      <td id=\"T_75f9b_row2_col4\" class=\"data row2 col4\" >48.310001</td>\n",
       "    </tr>\n",
       "    <tr>\n",
       "      <th id=\"T_75f9b_level0_row3\" class=\"row_heading level0 row3\" >SH601456</th>\n",
       "      <td id=\"T_75f9b_row3_col0\" class=\"data row3 col0\" >0.058897</td>\n",
       "      <td id=\"T_75f9b_row3_col1\" class=\"data row3 col1\" >0.058897</td>\n",
       "      <td id=\"T_75f9b_row3_col2\" class=\"data row3 col2\" >0.000000</td>\n",
       "      <td id=\"T_75f9b_row3_col3\" class=\"data row3 col3\" >0.724983</td>\n",
       "      <td id=\"T_75f9b_row3_col4\" class=\"data row3 col4\" >12.820000</td>\n",
       "    </tr>\n",
       "    <tr>\n",
       "      <th id=\"T_75f9b_level0_row4\" class=\"row_heading level0 row4\" >SH603826</th>\n",
       "      <td id=\"T_75f9b_row4_col0\" class=\"data row4 col0\" >0.057886</td>\n",
       "      <td id=\"T_75f9b_row4_col1\" class=\"data row4 col1\" >0.057886</td>\n",
       "      <td id=\"T_75f9b_row4_col2\" class=\"data row4 col2\" >0.000000</td>\n",
       "      <td id=\"T_75f9b_row4_col3\" class=\"data row4 col3\" >0.712529</td>\n",
       "      <td id=\"T_75f9b_row4_col4\" class=\"data row4 col4\" >21.120001</td>\n",
       "    </tr>\n",
       "    <tr>\n",
       "      <th id=\"T_75f9b_level0_row5\" class=\"row_heading level0 row5\" >SH600529</th>\n",
       "      <td id=\"T_75f9b_row5_col0\" class=\"data row5 col0\" >0.057710</td>\n",
       "      <td id=\"T_75f9b_row5_col1\" class=\"data row5 col1\" >0.057710</td>\n",
       "      <td id=\"T_75f9b_row5_col2\" class=\"data row5 col2\" >0.000000</td>\n",
       "      <td id=\"T_75f9b_row5_col3\" class=\"data row5 col3\" >0.710370</td>\n",
       "      <td id=\"T_75f9b_row5_col4\" class=\"data row5 col4\" >25.940001</td>\n",
       "    </tr>\n",
       "    <tr>\n",
       "      <th id=\"T_75f9b_level0_row6\" class=\"row_heading level0 row6\" >SZ002138</th>\n",
       "      <td id=\"T_75f9b_row6_col0\" class=\"data row6 col0\" >0.056827</td>\n",
       "      <td id=\"T_75f9b_row6_col1\" class=\"data row6 col1\" >0.056827</td>\n",
       "      <td id=\"T_75f9b_row6_col2\" class=\"data row6 col2\" >0.000000</td>\n",
       "      <td id=\"T_75f9b_row6_col3\" class=\"data row6 col3\" >0.699499</td>\n",
       "      <td id=\"T_75f9b_row6_col4\" class=\"data row6 col4\" >31.830002</td>\n",
       "    </tr>\n",
       "    <tr>\n",
       "      <th id=\"T_75f9b_level0_row7\" class=\"row_heading level0 row7\" >SZ002195</th>\n",
       "      <td id=\"T_75f9b_row7_col0\" class=\"data row7 col0\" >0.055249</td>\n",
       "      <td id=\"T_75f9b_row7_col1\" class=\"data row7 col1\" >0.055249</td>\n",
       "      <td id=\"T_75f9b_row7_col2\" class=\"data row7 col2\" >0.000000</td>\n",
       "      <td id=\"T_75f9b_row7_col3\" class=\"data row7 col3\" >0.680073</td>\n",
       "      <td id=\"T_75f9b_row7_col4\" class=\"data row7 col4\" >4.400000</td>\n",
       "    </tr>\n",
       "    <tr>\n",
       "      <th id=\"T_75f9b_level0_row8\" class=\"row_heading level0 row8\" >SH600764</th>\n",
       "      <td id=\"T_75f9b_row8_col0\" class=\"data row8 col0\" >0.053172</td>\n",
       "      <td id=\"T_75f9b_row8_col1\" class=\"data row8 col1\" >0.053172</td>\n",
       "      <td id=\"T_75f9b_row8_col2\" class=\"data row8 col2\" >0.000000</td>\n",
       "      <td id=\"T_75f9b_row8_col3\" class=\"data row8 col3\" >0.654503</td>\n",
       "      <td id=\"T_75f9b_row8_col4\" class=\"data row8 col4\" >27.980001</td>\n",
       "    </tr>\n",
       "    <tr>\n",
       "      <th id=\"T_75f9b_level0_row9\" class=\"row_heading level0 row9\" >SZ002624</th>\n",
       "      <td id=\"T_75f9b_row9_col0\" class=\"data row9 col0\" >0.051416</td>\n",
       "      <td id=\"T_75f9b_row9_col1\" class=\"data row9 col1\" >0.051416</td>\n",
       "      <td id=\"T_75f9b_row9_col2\" class=\"data row9 col2\" >0.000000</td>\n",
       "      <td id=\"T_75f9b_row9_col3\" class=\"data row9 col3\" >0.632890</td>\n",
       "      <td id=\"T_75f9b_row9_col4\" class=\"data row9 col4\" >10.690001</td>\n",
       "    </tr>\n",
       "  </tbody>\n",
       "</table>\n"
      ],
      "text/plain": [
       "<pandas.io.formats.style.Styler at 0x7ff86868cc10>"
      ]
     },
     "execution_count": 23,
     "metadata": {},
     "output_type": "execute_result"
    }
   ],
   "source": [
    "sty_report_top0"
   ]
  },
  {
   "cell_type": "code",
   "execution_count": 24,
   "metadata": {
    "execution": {
     "iopub.execute_input": "2024-12-25T13:29:43.321924Z",
     "iopub.status.busy": "2024-12-25T13:29:43.321568Z",
     "iopub.status.idle": "2024-12-25T13:29:43.347677Z",
     "shell.execute_reply": "2024-12-25T13:29:43.346664Z"
    }
   },
   "outputs": [
    {
     "data": {
      "text/html": [
       "<style type=\"text/css\">\n",
       "#T_b486b_row0_col0, #T_b486b_row0_col1, #T_b486b_row0_col3 {\n",
       "  background-color: #023858;\n",
       "  color: #f1f1f1;\n",
       "}\n",
       "#T_b486b_row0_col2, #T_b486b_row1_col2, #T_b486b_row2_col2, #T_b486b_row3_col2, #T_b486b_row4_col2, #T_b486b_row5_col2, #T_b486b_row6_col2, #T_b486b_row7_col2, #T_b486b_row8_col2, #T_b486b_row9_col0, #T_b486b_row9_col1, #T_b486b_row9_col2, #T_b486b_row9_col3 {\n",
       "  background-color: #fff7fb;\n",
       "  color: #000000;\n",
       "}\n",
       "#T_b486b_row1_col0, #T_b486b_row1_col1, #T_b486b_row1_col3 {\n",
       "  background-color: #2685bb;\n",
       "  color: #f1f1f1;\n",
       "}\n",
       "#T_b486b_row2_col0, #T_b486b_row2_col1, #T_b486b_row2_col3 {\n",
       "  background-color: #569dc8;\n",
       "  color: #f1f1f1;\n",
       "}\n",
       "#T_b486b_row3_col0, #T_b486b_row3_col1, #T_b486b_row3_col3 {\n",
       "  background-color: #b3c3de;\n",
       "  color: #000000;\n",
       "}\n",
       "#T_b486b_row4_col0, #T_b486b_row4_col1, #T_b486b_row4_col3 {\n",
       "  background-color: #eae6f1;\n",
       "  color: #000000;\n",
       "}\n",
       "#T_b486b_row5_col0, #T_b486b_row5_col1, #T_b486b_row5_col3 {\n",
       "  background-color: #f0eaf4;\n",
       "  color: #000000;\n",
       "}\n",
       "#T_b486b_row6_col0, #T_b486b_row6_col1, #T_b486b_row6_col3 {\n",
       "  background-color: #f4edf6;\n",
       "  color: #000000;\n",
       "}\n",
       "#T_b486b_row7_col0, #T_b486b_row7_col1, #T_b486b_row7_col3 {\n",
       "  background-color: #f8f1f8;\n",
       "  color: #000000;\n",
       "}\n",
       "#T_b486b_row8_col0, #T_b486b_row8_col1, #T_b486b_row8_col3 {\n",
       "  background-color: #faf3f9;\n",
       "  color: #000000;\n",
       "}\n",
       "</style>\n",
       "<table id=\"T_b486b\">\n",
       "  <thead>\n",
       "    <tr>\n",
       "      <th class=\"blank level0\" >&nbsp;</th>\n",
       "      <th id=\"T_b486b_level0_col0\" class=\"col_heading level0 col0\" >DENSEMBLEGBM</th>\n",
       "      <th id=\"T_b486b_level0_col1\" class=\"col_heading level0 col1\" >mean</th>\n",
       "      <th id=\"T_b486b_level0_col2\" class=\"col_heading level0 col2\" >std</th>\n",
       "      <th id=\"T_b486b_level0_col3\" class=\"col_heading level0 col3\" >score</th>\n",
       "      <th id=\"T_b486b_level0_col4\" class=\"col_heading level0 col4\" >close</th>\n",
       "    </tr>\n",
       "    <tr>\n",
       "      <th class=\"index_name level0\" >instrument</th>\n",
       "      <th class=\"blank col0\" >&nbsp;</th>\n",
       "      <th class=\"blank col1\" >&nbsp;</th>\n",
       "      <th class=\"blank col2\" >&nbsp;</th>\n",
       "      <th class=\"blank col3\" >&nbsp;</th>\n",
       "      <th class=\"blank col4\" >&nbsp;</th>\n",
       "    </tr>\n",
       "  </thead>\n",
       "  <tbody>\n",
       "    <tr>\n",
       "      <th id=\"T_b486b_level0_row0\" class=\"row_heading level0 row0\" >SZ002670</th>\n",
       "      <td id=\"T_b486b_row0_col0\" class=\"data row0 col0\" >0.050265</td>\n",
       "      <td id=\"T_b486b_row0_col1\" class=\"data row0 col1\" >0.050265</td>\n",
       "      <td id=\"T_b486b_row0_col2\" class=\"data row0 col2\" >0.000000</td>\n",
       "      <td id=\"T_b486b_row0_col3\" class=\"data row0 col3\" >0.618721</td>\n",
       "      <td id=\"T_b486b_row0_col4\" class=\"data row0 col4\" >13.400001</td>\n",
       "    </tr>\n",
       "    <tr>\n",
       "      <th id=\"T_b486b_level0_row1\" class=\"row_heading level0 row1\" >SH603882</th>\n",
       "      <td id=\"T_b486b_row1_col0\" class=\"data row1 col0\" >0.044717</td>\n",
       "      <td id=\"T_b486b_row1_col1\" class=\"data row1 col1\" >0.044717</td>\n",
       "      <td id=\"T_b486b_row1_col2\" class=\"data row1 col2\" >0.000000</td>\n",
       "      <td id=\"T_b486b_row1_col3\" class=\"data row1 col3\" >0.550434</td>\n",
       "      <td id=\"T_b486b_row1_col4\" class=\"data row1 col4\" >29.430000</td>\n",
       "    </tr>\n",
       "    <tr>\n",
       "      <th id=\"T_b486b_level0_row2\" class=\"row_heading level0 row2\" >SH600521</th>\n",
       "      <td id=\"T_b486b_row2_col0\" class=\"data row2 col0\" >0.042962</td>\n",
       "      <td id=\"T_b486b_row2_col1\" class=\"data row2 col1\" >0.042962</td>\n",
       "      <td id=\"T_b486b_row2_col2\" class=\"data row2 col2\" >0.000000</td>\n",
       "      <td id=\"T_b486b_row2_col3\" class=\"data row2 col3\" >0.528833</td>\n",
       "      <td id=\"T_b486b_row2_col4\" class=\"data row2 col4\" >18.299999</td>\n",
       "    </tr>\n",
       "    <tr>\n",
       "      <th id=\"T_b486b_level0_row3\" class=\"row_heading level0 row3\" >SH603077</th>\n",
       "      <td id=\"T_b486b_row3_col0\" class=\"data row3 col0\" >0.039213</td>\n",
       "      <td id=\"T_b486b_row3_col1\" class=\"data row3 col1\" >0.039213</td>\n",
       "      <td id=\"T_b486b_row3_col2\" class=\"data row3 col2\" >0.000000</td>\n",
       "      <td id=\"T_b486b_row3_col3\" class=\"data row3 col3\" >0.482683</td>\n",
       "      <td id=\"T_b486b_row3_col4\" class=\"data row3 col4\" >2.090000</td>\n",
       "    </tr>\n",
       "    <tr>\n",
       "      <th id=\"T_b486b_level0_row4\" class=\"row_heading level0 row4\" >SZ002465</th>\n",
       "      <td id=\"T_b486b_row4_col0\" class=\"data row4 col0\" >0.035870</td>\n",
       "      <td id=\"T_b486b_row4_col1\" class=\"data row4 col1\" >0.035870</td>\n",
       "      <td id=\"T_b486b_row4_col2\" class=\"data row4 col2\" >0.000000</td>\n",
       "      <td id=\"T_b486b_row4_col3\" class=\"data row4 col3\" >0.441534</td>\n",
       "      <td id=\"T_b486b_row4_col4\" class=\"data row4 col4\" >11.259999</td>\n",
       "    </tr>\n",
       "    <tr>\n",
       "      <th id=\"T_b486b_level0_row5\" class=\"row_heading level0 row5\" >SZ002945</th>\n",
       "      <td id=\"T_b486b_row5_col0\" class=\"data row5 col0\" >0.035259</td>\n",
       "      <td id=\"T_b486b_row5_col1\" class=\"data row5 col1\" >0.035259</td>\n",
       "      <td id=\"T_b486b_row5_col2\" class=\"data row5 col2\" >0.000000</td>\n",
       "      <td id=\"T_b486b_row5_col3\" class=\"data row5 col3\" >0.434017</td>\n",
       "      <td id=\"T_b486b_row5_col4\" class=\"data row5 col4\" >17.150000</td>\n",
       "    </tr>\n",
       "    <tr>\n",
       "      <th id=\"T_b486b_level0_row6\" class=\"row_heading level0 row6\" >SZ002429</th>\n",
       "      <td id=\"T_b486b_row6_col0\" class=\"data row6 col0\" >0.034885</td>\n",
       "      <td id=\"T_b486b_row6_col1\" class=\"data row6 col1\" >0.034885</td>\n",
       "      <td id=\"T_b486b_row6_col2\" class=\"data row6 col2\" >0.000000</td>\n",
       "      <td id=\"T_b486b_row6_col3\" class=\"data row6 col3\" >0.429411</td>\n",
       "      <td id=\"T_b486b_row6_col4\" class=\"data row6 col4\" >5.630000</td>\n",
       "    </tr>\n",
       "    <tr>\n",
       "      <th id=\"T_b486b_level0_row7\" class=\"row_heading level0 row7\" >SZ002497</th>\n",
       "      <td id=\"T_b486b_row7_col0\" class=\"data row7 col0\" >0.034445</td>\n",
       "      <td id=\"T_b486b_row7_col1\" class=\"data row7 col1\" >0.034445</td>\n",
       "      <td id=\"T_b486b_row7_col2\" class=\"data row7 col2\" >0.000000</td>\n",
       "      <td id=\"T_b486b_row7_col3\" class=\"data row7 col3\" >0.423994</td>\n",
       "      <td id=\"T_b486b_row7_col4\" class=\"data row7 col4\" >11.900001</td>\n",
       "    </tr>\n",
       "    <tr>\n",
       "      <th id=\"T_b486b_level0_row8\" class=\"row_heading level0 row8\" >SH601162</th>\n",
       "      <td id=\"T_b486b_row8_col0\" class=\"data row8 col0\" >0.034156</td>\n",
       "      <td id=\"T_b486b_row8_col1\" class=\"data row8 col1\" >0.034156</td>\n",
       "      <td id=\"T_b486b_row8_col2\" class=\"data row8 col2\" >0.000000</td>\n",
       "      <td id=\"T_b486b_row8_col3\" class=\"data row8 col3\" >0.420431</td>\n",
       "      <td id=\"T_b486b_row8_col4\" class=\"data row8 col4\" >4.620000</td>\n",
       "    </tr>\n",
       "    <tr>\n",
       "      <th id=\"T_b486b_level0_row9\" class=\"row_heading level0 row9\" >SZ002155</th>\n",
       "      <td id=\"T_b486b_row9_col0\" class=\"data row9 col0\" >0.033602</td>\n",
       "      <td id=\"T_b486b_row9_col1\" class=\"data row9 col1\" >0.033602</td>\n",
       "      <td id=\"T_b486b_row9_col2\" class=\"data row9 col2\" >0.000000</td>\n",
       "      <td id=\"T_b486b_row9_col3\" class=\"data row9 col3\" >0.413617</td>\n",
       "      <td id=\"T_b486b_row9_col4\" class=\"data row9 col4\" >16.139999</td>\n",
       "    </tr>\n",
       "  </tbody>\n",
       "</table>\n"
      ],
      "text/plain": [
       "<pandas.io.formats.style.Styler at 0x7ff86868cd30>"
      ]
     },
     "execution_count": 24,
     "metadata": {},
     "output_type": "execute_result"
    }
   ],
   "source": [
    "sty_report_top1"
   ]
  },
  {
   "cell_type": "code",
   "execution_count": 25,
   "metadata": {
    "execution": {
     "iopub.execute_input": "2024-12-25T13:29:43.352618Z",
     "iopub.status.busy": "2024-12-25T13:29:43.351721Z",
     "iopub.status.idle": "2024-12-25T13:29:43.377835Z",
     "shell.execute_reply": "2024-12-25T13:29:43.377057Z"
    }
   },
   "outputs": [
    {
     "data": {
      "text/html": [
       "<style type=\"text/css\">\n",
       "#T_07a8c_row0_col0, #T_07a8c_row0_col1, #T_07a8c_row0_col3 {\n",
       "  background-color: #023858;\n",
       "  color: #f1f1f1;\n",
       "}\n",
       "#T_07a8c_row0_col2, #T_07a8c_row1_col2, #T_07a8c_row2_col2, #T_07a8c_row3_col2, #T_07a8c_row4_col2, #T_07a8c_row5_col2, #T_07a8c_row6_col2, #T_07a8c_row7_col2, #T_07a8c_row8_col2, #T_07a8c_row9_col0, #T_07a8c_row9_col1, #T_07a8c_row9_col2, #T_07a8c_row9_col3 {\n",
       "  background-color: #fff7fb;\n",
       "  color: #000000;\n",
       "}\n",
       "#T_07a8c_row1_col0, #T_07a8c_row1_col1, #T_07a8c_row1_col3 {\n",
       "  background-color: #02395a;\n",
       "  color: #f1f1f1;\n",
       "}\n",
       "#T_07a8c_row2_col0, #T_07a8c_row2_col1, #T_07a8c_row2_col3 {\n",
       "  background-color: #023d60;\n",
       "  color: #f1f1f1;\n",
       "}\n",
       "#T_07a8c_row3_col0, #T_07a8c_row3_col1, #T_07a8c_row3_col3 {\n",
       "  background-color: #034c78;\n",
       "  color: #f1f1f1;\n",
       "}\n",
       "#T_07a8c_row4_col0, #T_07a8c_row4_col1, #T_07a8c_row4_col3 {\n",
       "  background-color: #056aa6;\n",
       "  color: #f1f1f1;\n",
       "}\n",
       "#T_07a8c_row5_col0, #T_07a8c_row5_col1, #T_07a8c_row5_col3 {\n",
       "  background-color: #197db7;\n",
       "  color: #f1f1f1;\n",
       "}\n",
       "#T_07a8c_row6_col0, #T_07a8c_row6_col1, #T_07a8c_row6_col3 {\n",
       "  background-color: #2182b9;\n",
       "  color: #f1f1f1;\n",
       "}\n",
       "#T_07a8c_row7_col0, #T_07a8c_row7_col1, #T_07a8c_row7_col3 {\n",
       "  background-color: #b9c6e0;\n",
       "  color: #000000;\n",
       "}\n",
       "#T_07a8c_row8_col0, #T_07a8c_row8_col1, #T_07a8c_row8_col3 {\n",
       "  background-color: #dcdaeb;\n",
       "  color: #000000;\n",
       "}\n",
       "</style>\n",
       "<table id=\"T_07a8c\">\n",
       "  <thead>\n",
       "    <tr>\n",
       "      <th class=\"blank level0\" >&nbsp;</th>\n",
       "      <th id=\"T_07a8c_level0_col0\" class=\"col_heading level0 col0\" >DENSEMBLEGBM</th>\n",
       "      <th id=\"T_07a8c_level0_col1\" class=\"col_heading level0 col1\" >mean</th>\n",
       "      <th id=\"T_07a8c_level0_col2\" class=\"col_heading level0 col2\" >std</th>\n",
       "      <th id=\"T_07a8c_level0_col3\" class=\"col_heading level0 col3\" >score</th>\n",
       "      <th id=\"T_07a8c_level0_col4\" class=\"col_heading level0 col4\" >close</th>\n",
       "    </tr>\n",
       "    <tr>\n",
       "      <th class=\"index_name level0\" >instrument</th>\n",
       "      <th class=\"blank col0\" >&nbsp;</th>\n",
       "      <th class=\"blank col1\" >&nbsp;</th>\n",
       "      <th class=\"blank col2\" >&nbsp;</th>\n",
       "      <th class=\"blank col3\" >&nbsp;</th>\n",
       "      <th class=\"blank col4\" >&nbsp;</th>\n",
       "    </tr>\n",
       "  </thead>\n",
       "  <tbody>\n",
       "    <tr>\n",
       "      <th id=\"T_07a8c_level0_row0\" class=\"row_heading level0 row0\" >SH601992</th>\n",
       "      <td id=\"T_07a8c_row0_col0\" class=\"data row0 col0\" >0.033596</td>\n",
       "      <td id=\"T_07a8c_row0_col1\" class=\"data row0 col1\" >0.033596</td>\n",
       "      <td id=\"T_07a8c_row0_col2\" class=\"data row0 col2\" >0.000000</td>\n",
       "      <td id=\"T_07a8c_row0_col3\" class=\"data row0 col3\" >0.413541</td>\n",
       "      <td id=\"T_07a8c_row0_col4\" class=\"data row0 col4\" >1.840000</td>\n",
       "    </tr>\n",
       "    <tr>\n",
       "      <th id=\"T_07a8c_level0_row1\" class=\"row_heading level0 row1\" >SZ000629</th>\n",
       "      <td id=\"T_07a8c_row1_col0\" class=\"data row1 col0\" >0.033566</td>\n",
       "      <td id=\"T_07a8c_row1_col1\" class=\"data row1 col1\" >0.033566</td>\n",
       "      <td id=\"T_07a8c_row1_col2\" class=\"data row1 col2\" >0.000000</td>\n",
       "      <td id=\"T_07a8c_row1_col3\" class=\"data row1 col3\" >0.413176</td>\n",
       "      <td id=\"T_07a8c_row1_col4\" class=\"data row1 col4\" >2.990000</td>\n",
       "    </tr>\n",
       "    <tr>\n",
       "      <th id=\"T_07a8c_level0_row2\" class=\"row_heading level0 row2\" >SH600483</th>\n",
       "      <td id=\"T_07a8c_row2_col0\" class=\"data row2 col0\" >0.033452</td>\n",
       "      <td id=\"T_07a8c_row2_col1\" class=\"data row2 col1\" >0.033452</td>\n",
       "      <td id=\"T_07a8c_row2_col2\" class=\"data row2 col2\" >0.000000</td>\n",
       "      <td id=\"T_07a8c_row2_col3\" class=\"data row2 col3\" >0.411766</td>\n",
       "      <td id=\"T_07a8c_row2_col4\" class=\"data row2 col4\" >10.139999</td>\n",
       "    </tr>\n",
       "    <tr>\n",
       "      <th id=\"T_07a8c_level0_row3\" class=\"row_heading level0 row3\" >SH600959</th>\n",
       "      <td id=\"T_07a8c_row3_col0\" class=\"data row3 col0\" >0.033114</td>\n",
       "      <td id=\"T_07a8c_row3_col1\" class=\"data row3 col1\" >0.033114</td>\n",
       "      <td id=\"T_07a8c_row3_col2\" class=\"data row3 col2\" >0.000000</td>\n",
       "      <td id=\"T_07a8c_row3_col3\" class=\"data row3 col3\" >0.407611</td>\n",
       "      <td id=\"T_07a8c_row3_col4\" class=\"data row3 col4\" >3.440000</td>\n",
       "    </tr>\n",
       "    <tr>\n",
       "      <th id=\"T_07a8c_level0_row4\" class=\"row_heading level0 row4\" >SH603305</th>\n",
       "      <td id=\"T_07a8c_row4_col0\" class=\"data row4 col0\" >0.032228</td>\n",
       "      <td id=\"T_07a8c_row4_col1\" class=\"data row4 col1\" >0.032228</td>\n",
       "      <td id=\"T_07a8c_row4_col2\" class=\"data row4 col2\" >0.000000</td>\n",
       "      <td id=\"T_07a8c_row4_col3\" class=\"data row4 col3\" >0.396699</td>\n",
       "      <td id=\"T_07a8c_row4_col4\" class=\"data row4 col4\" >14.000000</td>\n",
       "    </tr>\n",
       "    <tr>\n",
       "      <th id=\"T_07a8c_level0_row5\" class=\"row_heading level0 row5\" >SZ002563</th>\n",
       "      <td id=\"T_07a8c_row5_col0\" class=\"data row5 col0\" >0.031703</td>\n",
       "      <td id=\"T_07a8c_row5_col1\" class=\"data row5 col1\" >0.031703</td>\n",
       "      <td id=\"T_07a8c_row5_col2\" class=\"data row5 col2\" >0.000000</td>\n",
       "      <td id=\"T_07a8c_row5_col3\" class=\"data row5 col3\" >0.390242</td>\n",
       "      <td id=\"T_07a8c_row5_col4\" class=\"data row5 col4\" >6.930000</td>\n",
       "    </tr>\n",
       "    <tr>\n",
       "      <th id=\"T_07a8c_level0_row6\" class=\"row_heading level0 row6\" >SH601828</th>\n",
       "      <td id=\"T_07a8c_row6_col0\" class=\"data row6 col0\" >0.031580</td>\n",
       "      <td id=\"T_07a8c_row6_col1\" class=\"data row6 col1\" >0.031580</td>\n",
       "      <td id=\"T_07a8c_row6_col2\" class=\"data row6 col2\" >0.000000</td>\n",
       "      <td id=\"T_07a8c_row6_col3\" class=\"data row6 col3\" >0.388731</td>\n",
       "      <td id=\"T_07a8c_row6_col4\" class=\"data row6 col4\" >3.360000</td>\n",
       "    </tr>\n",
       "    <tr>\n",
       "      <th id=\"T_07a8c_level0_row7\" class=\"row_heading level0 row7\" >SH601156</th>\n",
       "      <td id=\"T_07a8c_row7_col0\" class=\"data row7 col0\" >0.029308</td>\n",
       "      <td id=\"T_07a8c_row7_col1\" class=\"data row7 col1\" >0.029308</td>\n",
       "      <td id=\"T_07a8c_row7_col2\" class=\"data row7 col2\" >0.000000</td>\n",
       "      <td id=\"T_07a8c_row7_col3\" class=\"data row7 col3\" >0.360763</td>\n",
       "      <td id=\"T_07a8c_row7_col4\" class=\"data row7 col4\" >16.660000</td>\n",
       "    </tr>\n",
       "    <tr>\n",
       "      <th id=\"T_07a8c_level0_row8\" class=\"row_heading level0 row8\" >SZ002223</th>\n",
       "      <td id=\"T_07a8c_row8_col0\" class=\"data row8 col0\" >0.028554</td>\n",
       "      <td id=\"T_07a8c_row8_col1\" class=\"data row8 col1\" >0.028554</td>\n",
       "      <td id=\"T_07a8c_row8_col2\" class=\"data row8 col2\" >0.000000</td>\n",
       "      <td id=\"T_07a8c_row8_col3\" class=\"data row8 col3\" >0.351474</td>\n",
       "      <td id=\"T_07a8c_row8_col4\" class=\"data row8 col4\" >35.869999</td>\n",
       "    </tr>\n",
       "    <tr>\n",
       "      <th id=\"T_07a8c_level0_row9\" class=\"row_heading level0 row9\" >SZ002791</th>\n",
       "      <td id=\"T_07a8c_row9_col0\" class=\"data row9 col0\" >0.027305</td>\n",
       "      <td id=\"T_07a8c_row9_col1\" class=\"data row9 col1\" >0.027305</td>\n",
       "      <td id=\"T_07a8c_row9_col2\" class=\"data row9 col2\" >0.000000</td>\n",
       "      <td id=\"T_07a8c_row9_col3\" class=\"data row9 col3\" >0.336110</td>\n",
       "      <td id=\"T_07a8c_row9_col4\" class=\"data row9 col4\" >24.320002</td>\n",
       "    </tr>\n",
       "  </tbody>\n",
       "</table>\n"
      ],
      "text/plain": [
       "<pandas.io.formats.style.Styler at 0x7ff86868cd90>"
      ]
     },
     "execution_count": 25,
     "metadata": {},
     "output_type": "execute_result"
    }
   ],
   "source": [
    "sty_report_top2"
   ]
  },
  {
   "cell_type": "code",
   "execution_count": 26,
   "metadata": {
    "execution": {
     "iopub.execute_input": "2024-12-25T13:29:43.381185Z",
     "iopub.status.busy": "2024-12-25T13:29:43.380644Z",
     "iopub.status.idle": "2024-12-25T13:29:52.285554Z",
     "shell.execute_reply": "2024-12-25T13:29:52.284499Z"
    }
   },
   "outputs": [],
   "source": [
    "import dataframe_image as dfi\n",
    "\n",
    "infodf = pd.DataFrame({'label': ['Model update date', 'Prediction generation date'],\n",
    "                       'date': ['2024-12-11', TODAY]})\n",
    "\n",
    "# dfi.export(infodf, './tmp/ensemble_private_all_info.png',table_conversion='matplotlib')\n",
    "\n",
    "# dfi.export(sty_report_info5, './tmp/ensemble_private_all_performance5.png',table_conversion='matplotlib')\n",
    "# dfi.export(sty_report_info10, './tmp/ensemble_private_all_performance10.png',table_conversion='matplotlib')\n",
    "# dfi.export(sty_report_info20, './tmp/ensemble_private_all_performance20.png',table_conversion='matplotlib')\n",
    "dfi.export(sty_report_top0, './tmp/ensemble_private_all_top0.png',table_conversion='matplotlib')\n",
    "dfi.export(sty_report_top1, './tmp/ensemble_private_all_top1.png',table_conversion='matplotlib')\n",
    "dfi.export(sty_report_top2, './tmp/ensemble_private_all_top2.png',table_conversion='matplotlib')\n",
    "dfi.export(sty_report_top3, './tmp/ensemble_private_all_top3.png',table_conversion='matplotlib')\n",
    "dfi.export(sty_report_top4, './tmp/ensemble_private_all_top4.png',table_conversion='matplotlib')\n",
    "dfi.export(sty_report_top5, './tmp/ensemble_private_all_top5.png',table_conversion='matplotlib')\n",
    "# dfi.export(sty_report_top6, './tmp/ensemble_private_all_top6.png',table_conversion='matplotlib')\n",
    "# dfi.export(sty_report_top7, './tmp/ensemble_private_all_top7.png',table_conversion='matplotlib')\n",
    "# dfi.export(sty_report_top8, './tmp/ensemble_private_all_top8.png',table_conversion='matplotlib')\n",
    "# dfi.export(sty_report_top9, './tmp/ensemble_private_all_top9.png',table_conversion='matplotlib')\n",
    "# dfi.export(sty_report_top10, './tmp/ensemble_private_all_top10.png',table_conversion='matplotlib')\n",
    "# dfi.export(sty_report_top11, './tmp/ensemble_private_all_top11.png',table_conversion='matplotlib')\n",
    "# dfi.export(sty_report_top12, './tmp/ensemble_private_all_top12.png',table_conversion='matplotlib')\n",
    "# dfi.export(sty_report_top13, './tmp/ensemble_private_all_top13.png',table_conversion='matplotlib')\n",
    "# dfi.export(sty_report_top14, './tmp/ensemble_private_all_top14.png',table_conversion='matplotlib')\n",
    "dfi.export(sty_report_pos, './tmp/ensemble_private_all_watch.png',table_conversion='matplotlib')"
   ]
  },
  {
   "cell_type": "code",
   "execution_count": 27,
   "metadata": {
    "execution": {
     "iopub.execute_input": "2024-12-25T13:29:52.290354Z",
     "iopub.status.busy": "2024-12-25T13:29:52.289869Z",
     "iopub.status.idle": "2024-12-25T13:30:04.505537Z",
     "shell.execute_reply": "2024-12-25T13:30:04.504355Z"
    }
   },
   "outputs": [],
   "source": [
    "\n",
    "for k in [1,5,10,20]:\n",
    "    sty_report_win_info = eval(f\"pd.DataFrame(info_win_dict{k}, index=['TOP50WIN', '0-5', '5-10', '10-20', '20-30', '30-40', '40-50', '50-60', '60-70', '70-80', '80-90', '90-100', '100-110', '110-120', '120-130', '130-140', '140-150'])\").style.background_gradient(axis=None)\n",
    "    sty_report_ic_info = eval(f\"pd.DataFrame(info_ic_dict{k}, index=['TOP50IC', '0-5', '5-10', '10-20', '20-30', '30-40', '40-50', '50-60', '60-70', '70-80', '80-90', '90-100', '100-110', '110-120', '120-130', '130-140', '140-150'])\").style.background_gradient(axis=None)\n",
    "    dfi.export(sty_report_win_info, f'./tmp/ensemble_private_all_win{k}.png',table_conversion='matplotlib')\n",
    "    dfi.export(sty_report_ic_info, f'./tmp/ensemble_private_all_ic{k}.png',table_conversion='matplotlib')"
   ]
  },
  {
   "cell_type": "code",
   "execution_count": 28,
   "metadata": {
    "execution": {
     "iopub.execute_input": "2024-12-25T13:30:04.510953Z",
     "iopub.status.busy": "2024-12-25T13:30:04.510399Z",
     "iopub.status.idle": "2024-12-25T13:30:04.534264Z",
     "shell.execute_reply": "2024-12-25T13:30:04.533201Z"
    }
   },
   "outputs": [
    {
     "data": {
      "text/html": [
       "<div>\n",
       "<style scoped>\n",
       "    .dataframe tbody tr th:only-of-type {\n",
       "        vertical-align: middle;\n",
       "    }\n",
       "\n",
       "    .dataframe tbody tr th {\n",
       "        vertical-align: top;\n",
       "    }\n",
       "\n",
       "    .dataframe thead th {\n",
       "        text-align: right;\n",
       "    }\n",
       "</style>\n",
       "<table border=\"1\" class=\"dataframe\">\n",
       "  <thead>\n",
       "    <tr style=\"text-align: right;\">\n",
       "      <th></th>\n",
       "      <th>Cash</th>\n",
       "      <th>Stock Value</th>\n",
       "      <th>Total Value</th>\n",
       "      <th>Balance</th>\n",
       "      <th>Return</th>\n",
       "    </tr>\n",
       "  </thead>\n",
       "  <tbody>\n",
       "    <tr>\n",
       "      <th>2024-12-12</th>\n",
       "      <td>316.0</td>\n",
       "      <td>177556.186527</td>\n",
       "      <td>177872.186527</td>\n",
       "      <td>NaN</td>\n",
       "      <td>NaN</td>\n",
       "    </tr>\n",
       "    <tr>\n",
       "      <th>2024-12-13</th>\n",
       "      <td>316.0</td>\n",
       "      <td>139894.741160</td>\n",
       "      <td>140210.741160</td>\n",
       "      <td>-37661.445368</td>\n",
       "      <td>-0.268606</td>\n",
       "    </tr>\n",
       "  </tbody>\n",
       "</table>\n",
       "</div>"
      ],
      "text/plain": [
       "             Cash    Stock Value    Total Value       Balance    Return\n",
       "2024-12-12  316.0  177556.186527  177872.186527           NaN       NaN\n",
       "2024-12-13  316.0  139894.741160  140210.741160 -37661.445368 -0.268606"
      ]
     },
     "execution_count": 28,
     "metadata": {},
     "output_type": "execute_result"
    }
   ],
   "source": [
    "dt_lst = sorted(list(pos_history.keys()))\n",
    "cash, sv, tot = [], [], []\n",
    "for dt in dt_lst:\n",
    "    pos: Position = pos_history[dt]\n",
    "    cash.append(pos.get_cash())\n",
    "    sv.append(pos.calculate_stock_value())\n",
    "    tot.append(pos.calculate_value())\n",
    "res = pd.DataFrame({'Cash':cash, 'Stock Value':sv, 'Total Value':tot}, index=[d.date() for d in dt_lst])\n",
    "res['Balance'] = res['Total Value'] - res['Total Value'].shift(1) \n",
    "res['Return'] = res['Balance'] / res['Total Value']\n",
    "res"
   ]
  },
  {
   "cell_type": "code",
   "execution_count": 29,
   "metadata": {
    "execution": {
     "iopub.execute_input": "2024-12-25T13:30:04.538263Z",
     "iopub.status.busy": "2024-12-25T13:30:04.537373Z",
     "iopub.status.idle": "2024-12-25T13:30:04.613441Z",
     "shell.execute_reply": "2024-12-25T13:30:04.612413Z"
    }
   },
   "outputs": [],
   "source": [
    "dfi.export(res, './tmp/private_account.png',table_conversion='matplotlib')"
   ]
  },
  {
   "cell_type": "code",
   "execution_count": 30,
   "metadata": {
    "execution": {
     "iopub.execute_input": "2024-12-25T13:30:04.618323Z",
     "iopub.status.busy": "2024-12-25T13:30:04.617864Z",
     "iopub.status.idle": "2024-12-25T13:30:04.680601Z",
     "shell.execute_reply": "2024-12-25T13:30:04.679044Z"
    }
   },
   "outputs": [],
   "source": [
    "infodf = pd.DataFrame({'label': ['Update date', 'Backtest start date'],\n",
    "                    'value': [TODAY, BT_START]})\n",
    "\n",
    "dfi.export(infodf, f'./tmp/summary_info.png',table_conversion='matplotlib')"
   ]
  }
 ],
 "metadata": {
  "kernelspec": {
   "display_name": "qlib39",
   "language": "python",
   "name": "python3"
  },
  "language_info": {
   "codemirror_mode": {
    "name": "ipython",
    "version": 3
   },
   "file_extension": ".py",
   "mimetype": "text/x-python",
   "name": "python",
   "nbconvert_exporter": "python",
   "pygments_lexer": "ipython3",
   "version": "3.9.20"
  }
 },
 "nbformat": 4,
 "nbformat_minor": 2
}
