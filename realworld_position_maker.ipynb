{
 "cells": [
  {
   "cell_type": "markdown",
   "metadata": {},
   "source": [
    "Run the notebook at TODAY after 15:00:00 (so the market is closed and data is available).\n",
    "\n",
    "Input your current position.\n",
    "\n",
    "The orders are for tomorrow."
   ]
  },
  {
   "cell_type": "code",
   "execution_count": 1,
   "metadata": {
    "execution": {
     "iopub.execute_input": "2024-12-11T13:25:00.497123Z",
     "iopub.status.busy": "2024-12-11T13:25:00.496417Z",
     "iopub.status.idle": "2024-12-11T13:25:00.867310Z",
     "shell.execute_reply": "2024-12-11T13:25:00.866548Z"
    }
   },
   "outputs": [
    {
     "name": "stdout",
     "output_type": "stream",
     "text": [
      "2024-12-01\n",
      "2024-12-10\n",
      "2024-12-11\n"
     ]
    }
   ],
   "source": [
    "import pandas as pd\n",
    "cal = pd.read_csv('/data/linq/.qlib/qlib_data/cn_data/calendars/day.txt')\n",
    "TODAY = str(cal.iloc[-1,0])\n",
    "YESTERDAY = str(cal.iloc[-2,0])\n",
    "# TODAY = str(cal.iloc[-2,0])\n",
    "# YESTERDAY = str(cal.iloc[-3,0])\n",
    "\n",
    "BT_START = '2024-12-01'\n",
    "\n",
    "print(BT_START)\n",
    "print(YESTERDAY)\n",
    "print(TODAY)"
   ]
  },
  {
   "cell_type": "code",
   "execution_count": 2,
   "metadata": {
    "execution": {
     "iopub.execute_input": "2024-12-11T13:25:00.908689Z",
     "iopub.status.busy": "2024-12-11T13:25:00.908099Z",
     "iopub.status.idle": "2024-12-11T13:25:00.919890Z",
     "shell.execute_reply": "2024-12-11T13:25:00.919146Z"
    }
   },
   "outputs": [],
   "source": [
    "# BT_START = '2024-12-01'\n",
    "# TODAY = '2024-12-09'\n",
    "\n",
    "test_split = (TODAY, TODAY)\n",
    "bt_split = (BT_START, YESTERDAY)\n",
    "pos_txt = f'''\\\n",
    "date {TODAY}\n",
    "cash 316\n",
    "SH600570 800\n",
    "SZ002459 1300\n",
    "SH600104 1100\n",
    "SH600588 1500\n",
    "SH600233 1000\n",
    "'''\n",
    "\n",
    "\n",
    "\n",
    "REC_LIST = [\n",
    "    ('GBDT0', 'EXP_BENCH', 'c745fed5a5ec439f9abeafac76e750a5'), # GBDT BENCH_NOW r0 all\n",
    "    ('GBDT1', 'EXP_BENCH', 'ffe9470bec09417fb4db91128edc0a87'), # GBDT BENCH_NOW r1 all\n",
    "    ('GBDT2', 'EXP_BENCH', 'e420ff30870d4e55a1c5e0fb207fa8a0'), # GBDT BENCH_A r0 all\n",
    "    # ('GBDT3', 'EXP_BENCH', '1dcc7b1ec14e46379690c4f2d6e5242d'), # GBDT BENCH_A r1 all\n",
    "    ('GBDT4', 'EXP_BENCH', '8d7e72af7f4b475f9f3646021a29bb1e'), # GBDT BENCH_B r0 all\n",
    "    # ('GBDT5', 'EXP_BENCH', 'd308acba0eaf453b9f5acfc309b05c46'), # GBDT BENCH_B r1 all\n",
    "    ('GBDT6', 'EXP_BENCH', 'ec4284016f6d44d897969410a5ef3ec0'), # GBDT BENCH_NOW r0 csi300\n",
    "    # ('GBDT7', 'EXP_BENCH', 'c9dc8e870efc459396ea77850a7bc099'), # GBDT BENCH_NOW r1 csi300\n",
    "    ('GBDT8', 'EXP_BENCH', '1f1711ba5caa4fd7a298196fd6a57558'), # GBDT BENCH_A r0 csi300\n",
    "    # ('GBDT9', 'EXP_BENCH', 'a79446d3724942c58ed14c59622fbe2c'), # GBDT BENCH_A r1 csi300\n",
    "    ('GBDT10', 'EXP_BENCH', '74d88afd5cb3448d831402b4e7571dc6'), # GBDT BENCH_B r0 csi300\n",
    "    # ('GBDT5', 'EXP_BENCH', '58317fb6231c4ba0b4d8cecc07db822d'), # GBDT BENCH_B r1 csi300\n",
    "]\n",
    "\n",
    "# EXP_NAME, rid = REC_LIST[0]\n",
    "TOPK = 5\n",
    "NDROP = 1\n",
    "HT = 0\n",
    "\n",
    "info = {\n",
    "    'ALGO': ['GBDT'],\n",
    "    'market': ['csi300_ext'], \n",
    "    # 'market': ['all'], \n",
    "    'benchmark': [\"SH000300\"], \n",
    "    'feat': [\"Alpha158\"], \n",
    "    # 'feat': [\"Alpha360\"], \n",
    "    'label': ['r0'],\n",
    "    'params': [f'topk {TOPK} ndrop {NDROP} HT {HT}']\n",
    "}"
   ]
  },
  {
   "cell_type": "code",
   "execution_count": 3,
   "metadata": {
    "execution": {
     "iopub.execute_input": "2024-12-11T13:25:00.922329Z",
     "iopub.status.busy": "2024-12-11T13:25:00.922038Z",
     "iopub.status.idle": "2024-12-11T13:25:01.800997Z",
     "shell.execute_reply": "2024-12-11T13:25:01.799631Z"
    }
   },
   "outputs": [
    {
     "name": "stderr",
     "output_type": "stream",
     "text": [
      "/home/linq/anaconda3/envs/qlib39/lib/python3.9/site-packages/tqdm/auto.py:21: TqdmWarning: IProgress not found. Please update jupyter and ipywidgets. See https://ipywidgets.readthedocs.io/en/stable/user_install.html\n",
      "  from .autonotebook import tqdm as notebook_tqdm\n"
     ]
    },
    {
     "name": "stderr",
     "output_type": "stream",
     "text": [
      "[2941890:MainThread](2024-12-11 21:25:01,790) INFO - qlib.Initialization - [config.py:416] - default_conf: client.\n"
     ]
    },
    {
     "name": "stderr",
     "output_type": "stream",
     "text": [
      "[2941890:MainThread](2024-12-11 21:25:01,794) INFO - qlib.Initialization - [__init__.py:74] - qlib successfully initialized based on client settings.\n"
     ]
    },
    {
     "name": "stderr",
     "output_type": "stream",
     "text": [
      "[2941890:MainThread](2024-12-11 21:25:01,795) INFO - qlib.Initialization - [__init__.py:76] - data_path={'__DEFAULT_FREQ': PosixPath('/data/linq/.qlib/qlib_data/cn_data')}\n"
     ]
    }
   ],
   "source": [
    "import qlib\n",
    "import pandas as pd\n",
    "from pandas import Timestamp\n",
    "import json\n",
    "from qlib.constant import REG_CN\n",
    "from qlib.utils import exists_qlib_data, init_instance_by_config\n",
    "from qlib.workflow import R\n",
    "from qlib.workflow.record_temp import SignalRecord, PortAnaRecord\n",
    "from qlib.utils import flatten_dict\n",
    "from qlib.data.filter import NameDFilter\n",
    "from qlib.backtest.position import Position\n",
    "from qlib.data import D\n",
    "\n",
    "import copy\n",
    "import pprint\n",
    "import warnings\n",
    "warnings.filterwarnings('ignore')\n",
    "\n",
    "provider_uri = \"/data/linq/.qlib/qlib_data/cn_data\"  # target_dir\n",
    "qlib.init(provider_uri=provider_uri, region=REG_CN)\n",
    "\n",
    "from lilab.qlib.utils.tools import normalize_position_history, load_position_text, load_position_history, save_position_history, fill_price_position_history\n",
    "from lilab.qlib.backtest.benchmark import BENCH_Step"
   ]
  },
  {
   "cell_type": "markdown",
   "metadata": {},
   "source": [
    "Record position history"
   ]
  },
  {
   "cell_type": "code",
   "execution_count": 4,
   "metadata": {
    "execution": {
     "iopub.execute_input": "2024-12-11T13:25:01.804645Z",
     "iopub.status.busy": "2024-12-11T13:25:01.804304Z",
     "iopub.status.idle": "2024-12-11T13:25:02.221726Z",
     "shell.execute_reply": "2024-12-11T13:25:02.220617Z"
    }
   },
   "outputs": [
    {
     "name": "stdout",
     "output_type": "stream",
     "text": [
      "2024-12-11 09:00:00\n",
      "{'SH600570': {'amount': 800}, 'SZ002459': {'amount': 1300}, 'SH600104': {'amount': 1100}, 'SH600588': {'amount': 1500}, 'SH600233': {'amount': 1000}, 'cash': 316.0}\n",
      "{'_settle_type': 'None', 'position': {'SZ002459': {'amount': 17480, 'price': 1.1653757095336914}, 'SH600233': {'amount': 7140, 'price': 2.0420126914978027}, 'SH600570': {'amount': 3727, 'price': 6.6138176918029785}, 'SH600104': {'amount': 12461, 'price': 1.564157485961914}, 'SH600588': {'amount': 7188, 'price': 2.616530179977417}, 'cash': 316.0, 'now_account_value': 98215.02192354202}, 'init_cash': 316.0}\n",
      "['SZ002459', 'SH600233', 'SH600570', 'SH600104', 'SH600588']\n"
     ]
    }
   ],
   "source": [
    "cur_pos = load_position_text(pos_txt)\n",
    "norm_cur_pos = normalize_position_history(cur_pos)\n",
    "norm_cur_pos = fill_price_position_history(norm_cur_pos)\n",
    "try:\n",
    "    pos_history = load_position_history()\n",
    "except:\n",
    "    pos_history = {}\n",
    "pos_history.update(norm_cur_pos)\n",
    "save_position_history(pos_history)\n",
    "dt, pos = next(iter(cur_pos.items()))\n",
    "account = pos.position\n",
    "dt, norm_pos = next(iter(norm_cur_pos.items()))\n",
    "norm_account = pos.position\n",
    "hold_lst = pos.get_stock_list()\n",
    "print(dt)\n",
    "print(account)\n",
    "print(norm_pos)\n",
    "print(hold_lst)"
   ]
  },
  {
   "cell_type": "markdown",
   "metadata": {},
   "source": [
    "Prepare dataset"
   ]
  },
  {
   "cell_type": "code",
   "execution_count": 5,
   "metadata": {
    "execution": {
     "iopub.execute_input": "2024-12-11T13:25:02.225912Z",
     "iopub.status.busy": "2024-12-11T13:25:02.225387Z",
     "iopub.status.idle": "2024-12-11T13:25:02.232221Z",
     "shell.execute_reply": "2024-12-11T13:25:02.231438Z"
    }
   },
   "outputs": [],
   "source": [
    "nameDFilter = NameDFilter(name_rule_re='(SH60[0-9]{4})|(SZ00[0-9]{4})')\n",
    "filter_pipe=[nameDFilter]\n",
    "benchmark = BENCH_Step(test_split,\n",
    "                        market=info['market'][0], \\\n",
    "                        benchmark=info['benchmark'][0], \\\n",
    "                        feat=info['feat'][0], \\\n",
    "                        label=info['label'][0], \\\n",
    "                        account=norm_account, \\\n",
    "                        filter_pipe=filter_pipe)\n",
    "\n",
    "bt_benchmark = BENCH_Step(bt_split,\n",
    "                        market=info['market'][0], \\\n",
    "                        benchmark=info['benchmark'][0], \\\n",
    "                        feat=info['feat'][0], \\\n",
    "                        label=info['label'][0], \\\n",
    "                        account=norm_account, \\\n",
    "                        filter_pipe=filter_pipe)"
   ]
  },
  {
   "cell_type": "code",
   "execution_count": 6,
   "metadata": {
    "execution": {
     "iopub.execute_input": "2024-12-11T13:25:02.235262Z",
     "iopub.status.busy": "2024-12-11T13:25:02.234725Z",
     "iopub.status.idle": "2024-12-11T13:26:34.053061Z",
     "shell.execute_reply": "2024-12-11T13:26:34.052143Z"
    }
   },
   "outputs": [
    {
     "name": "stderr",
     "output_type": "stream",
     "text": [
      "[2941890:MainThread](2024-12-11 21:25:48,217) INFO - qlib.timer - [log.py:127] - Time cost: 45.978s | Loading data Done\n"
     ]
    },
    {
     "name": "stderr",
     "output_type": "stream",
     "text": [
      "[2941890:MainThread](2024-12-11 21:25:48,221) INFO - qlib.timer - [log.py:127] - Time cost: 0.002s | DropnaLabel Done\n"
     ]
    },
    {
     "name": "stderr",
     "output_type": "stream",
     "text": [
      "[2941890:MainThread](2024-12-11 21:25:48,227) INFO - qlib.timer - [log.py:127] - Time cost: 0.004s | CSZScoreNorm Done\n"
     ]
    },
    {
     "name": "stderr",
     "output_type": "stream",
     "text": [
      "[2941890:MainThread](2024-12-11 21:25:48,228) INFO - qlib.timer - [log.py:127] - Time cost: 0.009s | fit & process data Done\n"
     ]
    },
    {
     "name": "stderr",
     "output_type": "stream",
     "text": [
      "[2941890:MainThread](2024-12-11 21:25:48,229) INFO - qlib.timer - [log.py:127] - Time cost: 45.991s | Init data Done\n"
     ]
    },
    {
     "name": "stderr",
     "output_type": "stream",
     "text": [
      "[2941890:MainThread](2024-12-11 21:26:34,024) INFO - qlib.timer - [log.py:127] - Time cost: 45.792s | Loading data Done\n"
     ]
    },
    {
     "name": "stderr",
     "output_type": "stream",
     "text": [
      "[2941890:MainThread](2024-12-11 21:26:34,031) INFO - qlib.timer - [log.py:127] - Time cost: 0.002s | DropnaLabel Done\n"
     ]
    },
    {
     "name": "stderr",
     "output_type": "stream",
     "text": [
      "[2941890:MainThread](2024-12-11 21:26:34,046) INFO - qlib.timer - [log.py:127] - Time cost: 0.014s | CSZScoreNorm Done\n"
     ]
    },
    {
     "name": "stderr",
     "output_type": "stream",
     "text": [
      "[2941890:MainThread](2024-12-11 21:26:34,047) INFO - qlib.timer - [log.py:127] - Time cost: 0.021s | fit & process data Done\n"
     ]
    },
    {
     "name": "stderr",
     "output_type": "stream",
     "text": [
      "[2941890:MainThread](2024-12-11 21:26:34,048) INFO - qlib.timer - [log.py:127] - Time cost: 45.817s | Init data Done\n"
     ]
    }
   ],
   "source": [
    "dataset = init_instance_by_config(benchmark.dataset_config)\n",
    "bt_dataset = init_instance_by_config(bt_benchmark.dataset_config)\n",
    "# dataset.prepare('test')"
   ]
  },
  {
   "cell_type": "code",
   "execution_count": 7,
   "metadata": {
    "execution": {
     "iopub.execute_input": "2024-12-11T13:26:34.055872Z",
     "iopub.status.busy": "2024-12-11T13:26:34.055504Z",
     "iopub.status.idle": "2024-12-11T13:26:34.078274Z",
     "shell.execute_reply": "2024-12-11T13:26:34.077478Z"
    }
   },
   "outputs": [
    {
     "data": {
      "text/html": [
       "<div>\n",
       "<style scoped>\n",
       "    .dataframe tbody tr th:only-of-type {\n",
       "        vertical-align: middle;\n",
       "    }\n",
       "\n",
       "    .dataframe tbody tr th {\n",
       "        vertical-align: top;\n",
       "    }\n",
       "\n",
       "    .dataframe thead th {\n",
       "        text-align: right;\n",
       "    }\n",
       "</style>\n",
       "<table border=\"1\" class=\"dataframe\">\n",
       "  <thead>\n",
       "    <tr style=\"text-align: right;\">\n",
       "      <th></th>\n",
       "      <th></th>\n",
       "      <th>label</th>\n",
       "    </tr>\n",
       "    <tr>\n",
       "      <th>datetime</th>\n",
       "      <th>instrument</th>\n",
       "      <th></th>\n",
       "    </tr>\n",
       "  </thead>\n",
       "  <tbody>\n",
       "    <tr>\n",
       "      <th rowspan=\"5\" valign=\"top\">2024-12-02</th>\n",
       "      <th>SH600000</th>\n",
       "      <td>0.016860</td>\n",
       "    </tr>\n",
       "    <tr>\n",
       "      <th>SH600009</th>\n",
       "      <td>-0.000560</td>\n",
       "    </tr>\n",
       "    <tr>\n",
       "      <th>SH600010</th>\n",
       "      <td>-0.005051</td>\n",
       "    </tr>\n",
       "    <tr>\n",
       "      <th>SH600011</th>\n",
       "      <td>0.005666</td>\n",
       "    </tr>\n",
       "    <tr>\n",
       "      <th>SH600015</th>\n",
       "      <td>0.030956</td>\n",
       "    </tr>\n",
       "    <tr>\n",
       "      <th>...</th>\n",
       "      <th>...</th>\n",
       "      <td>...</td>\n",
       "    </tr>\n",
       "    <tr>\n",
       "      <th rowspan=\"5\" valign=\"top\">2024-12-10</th>\n",
       "      <th>SZ002841</th>\n",
       "      <td>-0.016533</td>\n",
       "    </tr>\n",
       "    <tr>\n",
       "      <th>SZ002916</th>\n",
       "      <td>0.001314</td>\n",
       "    </tr>\n",
       "    <tr>\n",
       "      <th>SZ002920</th>\n",
       "      <td>-0.017960</td>\n",
       "    </tr>\n",
       "    <tr>\n",
       "      <th>SZ002938</th>\n",
       "      <td>0.006693</td>\n",
       "    </tr>\n",
       "    <tr>\n",
       "      <th>SZ003816</th>\n",
       "      <td>0.000000</td>\n",
       "    </tr>\n",
       "  </tbody>\n",
       "</table>\n",
       "<p>1799 rows × 1 columns</p>\n",
       "</div>"
      ],
      "text/plain": [
       "                          label\n",
       "datetime   instrument          \n",
       "2024-12-02 SH600000    0.016860\n",
       "           SH600009   -0.000560\n",
       "           SH600010   -0.005051\n",
       "           SH600011    0.005666\n",
       "           SH600015    0.030956\n",
       "...                         ...\n",
       "2024-12-10 SZ002841   -0.016533\n",
       "           SZ002916    0.001314\n",
       "           SZ002920   -0.017960\n",
       "           SZ002938    0.006693\n",
       "           SZ003816    0.000000\n",
       "\n",
       "[1799 rows x 1 columns]"
      ]
     },
     "execution_count": 7,
     "metadata": {},
     "output_type": "execute_result"
    }
   ],
   "source": [
    "label_df = bt_dataset.prepare(\"test\")\n",
    "label_df = pd.DataFrame(label_df.loc[:, 'LABEL0'])\n",
    "label_df.columns = ['label']\n",
    "# label_df.index = label_df.index.droplevel(0)\n",
    "label_df"
   ]
  },
  {
   "cell_type": "markdown",
   "metadata": {},
   "source": [
    "Load and run model"
   ]
  },
  {
   "cell_type": "code",
   "execution_count": null,
   "metadata": {},
   "outputs": [],
   "source": []
  },
  {
   "cell_type": "code",
   "execution_count": 8,
   "metadata": {
    "execution": {
     "iopub.execute_input": "2024-12-11T13:26:34.081061Z",
     "iopub.status.busy": "2024-12-11T13:26:34.080748Z",
     "iopub.status.idle": "2024-12-11T13:26:34.093526Z",
     "shell.execute_reply": "2024-12-11T13:26:34.092590Z"
    }
   },
   "outputs": [],
   "source": [
    "def simp_eval(res_df, k, t=None, day=None):\n",
    "    if day:\n",
    "        date = str(cal.iloc[-day,0])\n",
    "        res_df = res_df[res_df.index.get_level_values('datetime') >= date]\n",
    "    # Step 1: Group by multiple indices\n",
    "    grouped = res_df.groupby(['datetime'])\n",
    "\n",
    "    # Step 2: Sort by 'value' within each group in descending order\n",
    "    sorted_df = grouped.apply(lambda x: x.sort_values(by='score', ascending=False))\n",
    "    sorted_df['win'] = sorted_df['label'] * sorted_df['score'] > 0\n",
    "    # Step 3: Select the top 5 rows for each group\n",
    "    top_k_per_group = sorted_df.groupby(['datetime']).head(k)\n",
    "    if t:\n",
    "        top_k_per_group = top_k_per_group.tail(t)\n",
    "    # print(top_k_per_group)\n",
    "    top_k_ic = top_k_per_group['label'].corr(top_k_per_group['score'])\n",
    "    top_k_win = 1.0 * top_k_per_group['win'].sum() / len(top_k_per_group)\n",
    "    return top_k_ic, top_k_win\n",
    "\n",
    "def run_model(model):\n",
    "    BT_EXP_NAME = 'backtest'\n",
    "\n",
    "    # backtest and analysis\n",
    "    with R.start(experiment_name=BT_EXP_NAME, uri='./mlrun'):    \n",
    "        recorder = R.get_recorder()\n",
    "        ba_rid = R.get_recorder().id\n",
    "        sr = SignalRecord(model, bt_dataset, recorder)\n",
    "        sr.generate()\n",
    "    with R.start(experiment_name=BT_EXP_NAME, uri='./mlrun'):\n",
    "        recorder = R.get_recorder(recorder_id=ba_rid)\n",
    "        bt_pred_df = recorder.load_object(\"pred.pkl\")\n",
    "    res_df = pd.concat([label_df, bt_pred_df], axis=1, sort=True).reindex( label_df.index)\n",
    "\n",
    "    def eval_day(day=None):\n",
    "        top5ic, top5win = simp_eval(res_df, 5, day=day)\n",
    "        top10ic, top10win = simp_eval(res_df, 10, 5, day=day)\n",
    "        top15ic, top15win = simp_eval(res_df, 15, 5, day=day)\n",
    "        top20ic, top20win = simp_eval(res_df, 20, 5, day=day)\n",
    "        topic, topwin = simp_eval(res_df, 20, day=day)\n",
    "        return [topic, topwin, top5ic, top5win, top10ic, top10win, top15ic, top15win, top20ic, top20win]\n",
    "    day5metrics = eval_day(5)\n",
    "    day10metrics = eval_day(10)\n",
    "    day20metrics = eval_day(20)\n",
    "    EXP_NAME = 'realworld_position_maker'\n",
    "\n",
    "    # backtest and analysis\n",
    "    with R.start(experiment_name=EXP_NAME, uri='./mlrun'):    \n",
    "        recorder = R.get_recorder()\n",
    "        ba_rid = R.get_recorder().id\n",
    "        sr = SignalRecord(model, dataset, recorder)\n",
    "        sr.generate()\n",
    "    with R.start(experiment_name=EXP_NAME, uri='./mlrun'):\n",
    "        recorder = R.get_recorder(recorder_id=ba_rid)\n",
    "        pred_df = recorder.load_object(\"pred.pkl\")\n",
    "\n",
    "    return day5metrics, day10metrics, day20metrics, pred_df"
   ]
  },
  {
   "cell_type": "markdown",
   "metadata": {},
   "source": [
    "# Run"
   ]
  },
  {
   "cell_type": "code",
   "execution_count": 9,
   "metadata": {
    "execution": {
     "iopub.execute_input": "2024-12-11T13:26:34.096007Z",
     "iopub.status.busy": "2024-12-11T13:26:34.095674Z",
     "iopub.status.idle": "2024-12-11T13:26:41.007166Z",
     "shell.execute_reply": "2024-12-11T13:26:41.006120Z"
    }
   },
   "outputs": [
    {
     "name": "stderr",
     "output_type": "stream",
     "text": [
      "[2941890:MainThread](2024-12-11 21:26:34,102) INFO - qlib.workflow - [exp.py:258] - Experiment 2 starts running ...\n"
     ]
    },
    {
     "name": "stderr",
     "output_type": "stream",
     "text": [
      "[2941890:MainThread](2024-12-11 21:26:34,182) INFO - qlib.workflow - [recorder.py:341] - Recorder 57e5cb9d958e4288aaf8c6c80c564f89 starts running under Experiment 2 ...\n"
     ]
    },
    {
     "name": "stderr",
     "output_type": "stream",
     "text": [
      "[2941890:MainThread](2024-12-11 21:26:36,069) INFO - qlib.timer - [log.py:127] - Time cost: 0.001s | waiting `async_log` Done\n"
     ]
    },
    {
     "name": "stderr",
     "output_type": "stream",
     "text": [
      "[2941890:MainThread](2024-12-11 21:26:36,080) INFO - qlib.workflow - [exp.py:258] - Experiment 4 starts running ...\n"
     ]
    },
    {
     "name": "stderr",
     "output_type": "stream",
     "text": [
      "[2941890:MainThread](2024-12-11 21:26:36,091) INFO - qlib.workflow - [recorder.py:341] - Recorder f333bbd5df914413a5d8129f12fbac49 starts running under Experiment 4 ...\n"
     ]
    },
    {
     "name": "stderr",
     "output_type": "stream",
     "text": [
      "[2941890:MainThread](2024-12-11 21:26:36,231) INFO - qlib.workflow - [record_temp.py:198] - Signal record 'pred.pkl' has been saved as the artifact of the Experiment 4\n"
     ]
    },
    {
     "name": "stderr",
     "output_type": "stream",
     "text": [
      "[2941890:MainThread](2024-12-11 21:26:36,240) INFO - qlib.timer - [log.py:127] - Time cost: 0.000s | waiting `async_log` Done\n"
     ]
    },
    {
     "name": "stderr",
     "output_type": "stream",
     "text": [
      "[2941890:MainThread](2024-12-11 21:26:36,245) INFO - qlib.workflow - [exp.py:258] - Experiment 4 starts running ...\n"
     ]
    },
    {
     "name": "stderr",
     "output_type": "stream",
     "text": [
      "[2941890:MainThread](2024-12-11 21:26:36,256) INFO - qlib.workflow - [recorder.py:341] - Recorder ad33a86513964d94832f26a2b3216672 starts running under Experiment 4 ...\n"
     ]
    },
    {
     "name": "stderr",
     "output_type": "stream",
     "text": [
      "[2941890:MainThread](2024-12-11 21:26:36,343) INFO - qlib.timer - [log.py:127] - Time cost: 0.000s | waiting `async_log` Done\n"
     ]
    },
    {
     "name": "stdout",
     "output_type": "stream",
     "text": [
      "'The following are prediction results of the LGBModel model.'\n",
      "                          score\n",
      "datetime   instrument          \n",
      "2024-12-02 SH600000   -0.007318\n",
      "           SH600009   -0.005881\n",
      "           SH600010    0.016440\n",
      "           SH600011   -0.012365\n",
      "           SH600015    0.002524\n"
     ]
    },
    {
     "name": "stderr",
     "output_type": "stream",
     "text": [
      "[2941890:MainThread](2024-12-11 21:26:36,445) INFO - qlib.workflow - [exp.py:258] - Experiment 3 starts running ...\n"
     ]
    },
    {
     "name": "stderr",
     "output_type": "stream",
     "text": [
      "[2941890:MainThread](2024-12-11 21:26:36,460) INFO - qlib.workflow - [recorder.py:341] - Recorder 6d5a2ecd2f62476097e38815e1e08601 starts running under Experiment 3 ...\n"
     ]
    },
    {
     "name": "stderr",
     "output_type": "stream",
     "text": [
      "[2941890:MainThread](2024-12-11 21:26:36,568) INFO - qlib.workflow - [record_temp.py:198] - Signal record 'pred.pkl' has been saved as the artifact of the Experiment 3\n"
     ]
    },
    {
     "name": "stderr",
     "output_type": "stream",
     "text": [
      "[2941890:MainThread](2024-12-11 21:26:36,575) INFO - qlib.timer - [log.py:127] - Time cost: 0.000s | waiting `async_log` Done\n"
     ]
    },
    {
     "name": "stderr",
     "output_type": "stream",
     "text": [
      "[2941890:MainThread](2024-12-11 21:26:36,582) INFO - qlib.workflow - [exp.py:258] - Experiment 3 starts running ...\n"
     ]
    },
    {
     "name": "stderr",
     "output_type": "stream",
     "text": [
      "[2941890:MainThread](2024-12-11 21:26:36,598) INFO - qlib.workflow - [recorder.py:341] - Recorder 435feddc497c46929ca8a74633b761be starts running under Experiment 3 ...\n"
     ]
    },
    {
     "name": "stderr",
     "output_type": "stream",
     "text": [
      "[2941890:MainThread](2024-12-11 21:26:36,697) INFO - qlib.timer - [log.py:127] - Time cost: 0.002s | waiting `async_log` Done\n"
     ]
    },
    {
     "name": "stderr",
     "output_type": "stream",
     "text": [
      "[2941890:MainThread](2024-12-11 21:26:36,705) INFO - qlib.workflow - [exp.py:258] - Experiment 2 starts running ...\n"
     ]
    },
    {
     "name": "stderr",
     "output_type": "stream",
     "text": [
      "[2941890:MainThread](2024-12-11 21:26:36,715) INFO - qlib.workflow - [recorder.py:341] - Recorder c52b4ff22fef4a9db4a8c18e855c25df starts running under Experiment 2 ...\n"
     ]
    },
    {
     "name": "stdout",
     "output_type": "stream",
     "text": [
      "'The following are prediction results of the LGBModel model.'\n",
      "                          score\n",
      "datetime   instrument          \n",
      "2024-12-11 SH600000    0.017290\n",
      "           SH600009   -0.002074\n",
      "           SH600010   -0.114206\n",
      "           SH600011    0.014512\n",
      "           SH600015    0.020924\n"
     ]
    },
    {
     "name": "stderr",
     "output_type": "stream",
     "text": [
      "[2941890:MainThread](2024-12-11 21:26:36,833) INFO - qlib.timer - [log.py:127] - Time cost: 0.000s | waiting `async_log` Done\n"
     ]
    },
    {
     "name": "stderr",
     "output_type": "stream",
     "text": [
      "[2941890:MainThread](2024-12-11 21:26:36,839) INFO - qlib.workflow - [exp.py:258] - Experiment 4 starts running ...\n"
     ]
    },
    {
     "name": "stderr",
     "output_type": "stream",
     "text": [
      "[2941890:MainThread](2024-12-11 21:26:36,850) INFO - qlib.workflow - [recorder.py:341] - Recorder 7298ec468e4a4dc1883bfeb055da8104 starts running under Experiment 4 ...\n"
     ]
    },
    {
     "name": "stderr",
     "output_type": "stream",
     "text": [
      "[2941890:MainThread](2024-12-11 21:26:36,965) INFO - qlib.workflow - [record_temp.py:198] - Signal record 'pred.pkl' has been saved as the artifact of the Experiment 4\n"
     ]
    },
    {
     "name": "stderr",
     "output_type": "stream",
     "text": [
      "[2941890:MainThread](2024-12-11 21:26:36,974) INFO - qlib.timer - [log.py:127] - Time cost: 0.000s | waiting `async_log` Done\n"
     ]
    },
    {
     "name": "stderr",
     "output_type": "stream",
     "text": [
      "[2941890:MainThread](2024-12-11 21:26:36,979) INFO - qlib.workflow - [exp.py:258] - Experiment 4 starts running ...\n"
     ]
    },
    {
     "name": "stderr",
     "output_type": "stream",
     "text": [
      "[2941890:MainThread](2024-12-11 21:26:36,991) INFO - qlib.workflow - [recorder.py:341] - Recorder d3c0605513854a2e8a8a0807f52bb7ec starts running under Experiment 4 ...\n"
     ]
    },
    {
     "name": "stderr",
     "output_type": "stream",
     "text": [
      "[2941890:MainThread](2024-12-11 21:26:37,086) INFO - qlib.timer - [log.py:127] - Time cost: 0.000s | waiting `async_log` Done\n"
     ]
    },
    {
     "name": "stdout",
     "output_type": "stream",
     "text": [
      "'The following are prediction results of the LGBModel model.'\n",
      "                          score\n",
      "datetime   instrument          \n",
      "2024-12-02 SH600000   -0.017882\n",
      "           SH600009   -0.012880\n",
      "           SH600010   -0.030535\n",
      "           SH600011   -0.015317\n",
      "           SH600015    0.007575\n"
     ]
    },
    {
     "name": "stderr",
     "output_type": "stream",
     "text": [
      "[2941890:MainThread](2024-12-11 21:26:37,192) INFO - qlib.workflow - [exp.py:258] - Experiment 3 starts running ...\n"
     ]
    },
    {
     "name": "stderr",
     "output_type": "stream",
     "text": [
      "[2941890:MainThread](2024-12-11 21:26:37,207) INFO - qlib.workflow - [recorder.py:341] - Recorder 38ffd81c90b74e47abac5068dccc80d5 starts running under Experiment 3 ...\n"
     ]
    },
    {
     "name": "stderr",
     "output_type": "stream",
     "text": [
      "[2941890:MainThread](2024-12-11 21:26:37,313) INFO - qlib.workflow - [record_temp.py:198] - Signal record 'pred.pkl' has been saved as the artifact of the Experiment 3\n"
     ]
    },
    {
     "name": "stderr",
     "output_type": "stream",
     "text": [
      "[2941890:MainThread](2024-12-11 21:26:37,323) INFO - qlib.timer - [log.py:127] - Time cost: 0.000s | waiting `async_log` Done\n"
     ]
    },
    {
     "name": "stderr",
     "output_type": "stream",
     "text": [
      "[2941890:MainThread](2024-12-11 21:26:37,328) INFO - qlib.workflow - [exp.py:258] - Experiment 3 starts running ...\n"
     ]
    },
    {
     "name": "stderr",
     "output_type": "stream",
     "text": [
      "[2941890:MainThread](2024-12-11 21:26:37,343) INFO - qlib.workflow - [recorder.py:341] - Recorder 4404b5eba91a424ea446714739a6a6b8 starts running under Experiment 3 ...\n"
     ]
    },
    {
     "name": "stderr",
     "output_type": "stream",
     "text": [
      "[2941890:MainThread](2024-12-11 21:26:37,437) INFO - qlib.timer - [log.py:127] - Time cost: 0.000s | waiting `async_log` Done\n"
     ]
    },
    {
     "name": "stderr",
     "output_type": "stream",
     "text": [
      "[2941890:MainThread](2024-12-11 21:26:37,446) INFO - qlib.workflow - [exp.py:258] - Experiment 2 starts running ...\n"
     ]
    },
    {
     "name": "stderr",
     "output_type": "stream",
     "text": [
      "[2941890:MainThread](2024-12-11 21:26:37,456) INFO - qlib.workflow - [recorder.py:341] - Recorder 3b6ef6164de34a0894d6c5ef1fad148e starts running under Experiment 2 ...\n"
     ]
    },
    {
     "name": "stdout",
     "output_type": "stream",
     "text": [
      "'The following are prediction results of the LGBModel model.'\n",
      "                          score\n",
      "datetime   instrument          \n",
      "2024-12-11 SH600000    0.015623\n",
      "           SH600009   -0.009655\n",
      "           SH600010   -0.056494\n",
      "           SH600011   -0.007846\n",
      "           SH600015    0.018327\n"
     ]
    },
    {
     "name": "stderr",
     "output_type": "stream",
     "text": [
      "[2941890:MainThread](2024-12-11 21:26:37,579) INFO - qlib.timer - [log.py:127] - Time cost: 0.001s | waiting `async_log` Done\n"
     ]
    },
    {
     "name": "stderr",
     "output_type": "stream",
     "text": [
      "[2941890:MainThread](2024-12-11 21:26:37,586) INFO - qlib.workflow - [exp.py:258] - Experiment 4 starts running ...\n"
     ]
    },
    {
     "name": "stderr",
     "output_type": "stream",
     "text": [
      "[2941890:MainThread](2024-12-11 21:26:37,599) INFO - qlib.workflow - [recorder.py:341] - Recorder 4c664556abad42908fef0b5f8faa1c7b starts running under Experiment 4 ...\n"
     ]
    },
    {
     "name": "stderr",
     "output_type": "stream",
     "text": [
      "[2941890:MainThread](2024-12-11 21:26:37,705) INFO - qlib.workflow - [record_temp.py:198] - Signal record 'pred.pkl' has been saved as the artifact of the Experiment 4\n"
     ]
    },
    {
     "name": "stderr",
     "output_type": "stream",
     "text": [
      "[2941890:MainThread](2024-12-11 21:26:37,714) INFO - qlib.timer - [log.py:127] - Time cost: 0.000s | waiting `async_log` Done\n"
     ]
    },
    {
     "name": "stderr",
     "output_type": "stream",
     "text": [
      "[2941890:MainThread](2024-12-11 21:26:37,719) INFO - qlib.workflow - [exp.py:258] - Experiment 4 starts running ...\n"
     ]
    },
    {
     "name": "stderr",
     "output_type": "stream",
     "text": [
      "[2941890:MainThread](2024-12-11 21:26:37,730) INFO - qlib.workflow - [recorder.py:341] - Recorder e65308b780a443049325e3637cd63c82 starts running under Experiment 4 ...\n"
     ]
    },
    {
     "name": "stderr",
     "output_type": "stream",
     "text": [
      "[2941890:MainThread](2024-12-11 21:26:37,818) INFO - qlib.timer - [log.py:127] - Time cost: 0.000s | waiting `async_log` Done\n"
     ]
    },
    {
     "name": "stdout",
     "output_type": "stream",
     "text": [
      "'The following are prediction results of the LGBModel model.'\n",
      "                          score\n",
      "datetime   instrument          \n",
      "2024-12-02 SH600000   -0.008783\n",
      "           SH600009   -0.012275\n",
      "           SH600010    0.038505\n",
      "           SH600011   -0.030828\n",
      "           SH600015    0.029393\n"
     ]
    },
    {
     "name": "stderr",
     "output_type": "stream",
     "text": [
      "[2941890:MainThread](2024-12-11 21:26:37,920) INFO - qlib.workflow - [exp.py:258] - Experiment 3 starts running ...\n"
     ]
    },
    {
     "name": "stderr",
     "output_type": "stream",
     "text": [
      "[2941890:MainThread](2024-12-11 21:26:37,935) INFO - qlib.workflow - [recorder.py:341] - Recorder 138d5e852ef5429b8856ef63cbf546d8 starts running under Experiment 3 ...\n"
     ]
    },
    {
     "name": "stderr",
     "output_type": "stream",
     "text": [
      "[2941890:MainThread](2024-12-11 21:26:38,040) INFO - qlib.workflow - [record_temp.py:198] - Signal record 'pred.pkl' has been saved as the artifact of the Experiment 3\n"
     ]
    },
    {
     "name": "stderr",
     "output_type": "stream",
     "text": [
      "[2941890:MainThread](2024-12-11 21:26:38,049) INFO - qlib.timer - [log.py:127] - Time cost: 0.000s | waiting `async_log` Done\n"
     ]
    },
    {
     "name": "stderr",
     "output_type": "stream",
     "text": [
      "[2941890:MainThread](2024-12-11 21:26:38,055) INFO - qlib.workflow - [exp.py:258] - Experiment 3 starts running ...\n"
     ]
    },
    {
     "name": "stderr",
     "output_type": "stream",
     "text": [
      "[2941890:MainThread](2024-12-11 21:26:38,069) INFO - qlib.workflow - [recorder.py:341] - Recorder 3b8a8436ca2e4a3189c55bd9cd8a43d8 starts running under Experiment 3 ...\n"
     ]
    },
    {
     "name": "stderr",
     "output_type": "stream",
     "text": [
      "[2941890:MainThread](2024-12-11 21:26:38,177) INFO - qlib.timer - [log.py:127] - Time cost: 0.000s | waiting `async_log` Done\n"
     ]
    },
    {
     "name": "stderr",
     "output_type": "stream",
     "text": [
      "[2941890:MainThread](2024-12-11 21:26:38,185) INFO - qlib.workflow - [exp.py:258] - Experiment 2 starts running ...\n"
     ]
    },
    {
     "name": "stderr",
     "output_type": "stream",
     "text": [
      "[2941890:MainThread](2024-12-11 21:26:38,194) INFO - qlib.workflow - [recorder.py:341] - Recorder 6822fe0b4dfe4f3d96cee245c480f253 starts running under Experiment 2 ...\n"
     ]
    },
    {
     "name": "stdout",
     "output_type": "stream",
     "text": [
      "'The following are prediction results of the LGBModel model.'\n",
      "                          score\n",
      "datetime   instrument          \n",
      "2024-12-11 SH600000   -0.008031\n",
      "           SH600009    0.008877\n",
      "           SH600010   -0.174720\n",
      "           SH600011    0.030888\n",
      "           SH600015    0.049052\n"
     ]
    },
    {
     "name": "stderr",
     "output_type": "stream",
     "text": [
      "[2941890:MainThread](2024-12-11 21:26:38,317) INFO - qlib.timer - [log.py:127] - Time cost: 0.000s | waiting `async_log` Done\n"
     ]
    },
    {
     "name": "stderr",
     "output_type": "stream",
     "text": [
      "[2941890:MainThread](2024-12-11 21:26:38,322) INFO - qlib.workflow - [exp.py:258] - Experiment 4 starts running ...\n"
     ]
    },
    {
     "name": "stderr",
     "output_type": "stream",
     "text": [
      "[2941890:MainThread](2024-12-11 21:26:38,334) INFO - qlib.workflow - [recorder.py:341] - Recorder d41b08c5a2294ba58746d51e2df1b54f starts running under Experiment 4 ...\n"
     ]
    },
    {
     "name": "stderr",
     "output_type": "stream",
     "text": [
      "[2941890:MainThread](2024-12-11 21:26:38,433) INFO - qlib.workflow - [record_temp.py:198] - Signal record 'pred.pkl' has been saved as the artifact of the Experiment 4\n"
     ]
    },
    {
     "name": "stderr",
     "output_type": "stream",
     "text": [
      "[2941890:MainThread](2024-12-11 21:26:38,443) INFO - qlib.timer - [log.py:127] - Time cost: 0.000s | waiting `async_log` Done\n"
     ]
    },
    {
     "name": "stderr",
     "output_type": "stream",
     "text": [
      "[2941890:MainThread](2024-12-11 21:26:38,448) INFO - qlib.workflow - [exp.py:258] - Experiment 4 starts running ...\n"
     ]
    },
    {
     "name": "stderr",
     "output_type": "stream",
     "text": [
      "[2941890:MainThread](2024-12-11 21:26:38,460) INFO - qlib.workflow - [recorder.py:341] - Recorder 9fcad0a6dd0e491f97d4a1dab7212161 starts running under Experiment 4 ...\n"
     ]
    },
    {
     "name": "stderr",
     "output_type": "stream",
     "text": [
      "[2941890:MainThread](2024-12-11 21:26:38,543) INFO - qlib.timer - [log.py:127] - Time cost: 0.000s | waiting `async_log` Done\n"
     ]
    },
    {
     "name": "stderr",
     "output_type": "stream",
     "text": [
      "[2941890:MainThread](2024-12-11 21:26:38,638) INFO - qlib.workflow - [exp.py:258] - Experiment 3 starts running ...\n"
     ]
    },
    {
     "name": "stdout",
     "output_type": "stream",
     "text": [
      "'The following are prediction results of the LGBModel model.'\n",
      "                          score\n",
      "datetime   instrument          \n",
      "2024-12-02 SH600000   -0.005225\n",
      "           SH600009    0.007663\n",
      "           SH600010    0.072481\n",
      "           SH600011   -0.011017\n",
      "           SH600015    0.058992\n"
     ]
    },
    {
     "name": "stderr",
     "output_type": "stream",
     "text": [
      "[2941890:MainThread](2024-12-11 21:26:38,654) INFO - qlib.workflow - [recorder.py:341] - Recorder e4570a19d5384e0c95148efe25a4526c starts running under Experiment 3 ...\n"
     ]
    },
    {
     "name": "stderr",
     "output_type": "stream",
     "text": [
      "[2941890:MainThread](2024-12-11 21:26:38,761) INFO - qlib.workflow - [record_temp.py:198] - Signal record 'pred.pkl' has been saved as the artifact of the Experiment 3\n"
     ]
    },
    {
     "name": "stderr",
     "output_type": "stream",
     "text": [
      "[2941890:MainThread](2024-12-11 21:26:38,767) INFO - qlib.timer - [log.py:127] - Time cost: 0.000s | waiting `async_log` Done\n"
     ]
    },
    {
     "name": "stderr",
     "output_type": "stream",
     "text": [
      "[2941890:MainThread](2024-12-11 21:26:38,773) INFO - qlib.workflow - [exp.py:258] - Experiment 3 starts running ...\n"
     ]
    },
    {
     "name": "stderr",
     "output_type": "stream",
     "text": [
      "[2941890:MainThread](2024-12-11 21:26:38,787) INFO - qlib.workflow - [recorder.py:341] - Recorder a973729c9a064cd5b0fcf940831e5c1f starts running under Experiment 3 ...\n"
     ]
    },
    {
     "name": "stderr",
     "output_type": "stream",
     "text": [
      "[2941890:MainThread](2024-12-11 21:26:38,882) INFO - qlib.timer - [log.py:127] - Time cost: 0.002s | waiting `async_log` Done\n"
     ]
    },
    {
     "name": "stderr",
     "output_type": "stream",
     "text": [
      "[2941890:MainThread](2024-12-11 21:26:38,891) INFO - qlib.workflow - [exp.py:258] - Experiment 2 starts running ...\n"
     ]
    },
    {
     "name": "stderr",
     "output_type": "stream",
     "text": [
      "[2941890:MainThread](2024-12-11 21:26:38,901) INFO - qlib.workflow - [recorder.py:341] - Recorder 1d58290411944cf4b3054eed6615bb3c starts running under Experiment 2 ...\n"
     ]
    },
    {
     "name": "stdout",
     "output_type": "stream",
     "text": [
      "'The following are prediction results of the LGBModel model.'\n",
      "                          score\n",
      "datetime   instrument          \n",
      "2024-12-11 SH600000   -0.004812\n",
      "           SH600009    0.032101\n",
      "           SH600010   -0.160419\n",
      "           SH600011    0.031758\n",
      "           SH600015    0.017060\n"
     ]
    },
    {
     "name": "stderr",
     "output_type": "stream",
     "text": [
      "[2941890:MainThread](2024-12-11 21:26:39,015) INFO - qlib.timer - [log.py:127] - Time cost: 0.004s | waiting `async_log` Done\n"
     ]
    },
    {
     "name": "stderr",
     "output_type": "stream",
     "text": [
      "[2941890:MainThread](2024-12-11 21:26:39,021) INFO - qlib.workflow - [exp.py:258] - Experiment 4 starts running ...\n"
     ]
    },
    {
     "name": "stderr",
     "output_type": "stream",
     "text": [
      "[2941890:MainThread](2024-12-11 21:26:39,033) INFO - qlib.workflow - [recorder.py:341] - Recorder 700a253b8fb2425aa282cf306c525a9c starts running under Experiment 4 ...\n"
     ]
    },
    {
     "name": "stderr",
     "output_type": "stream",
     "text": [
      "[2941890:MainThread](2024-12-11 21:26:39,126) INFO - qlib.workflow - [record_temp.py:198] - Signal record 'pred.pkl' has been saved as the artifact of the Experiment 4\n"
     ]
    },
    {
     "name": "stderr",
     "output_type": "stream",
     "text": [
      "[2941890:MainThread](2024-12-11 21:26:39,136) INFO - qlib.timer - [log.py:127] - Time cost: 0.000s | waiting `async_log` Done\n"
     ]
    },
    {
     "name": "stderr",
     "output_type": "stream",
     "text": [
      "[2941890:MainThread](2024-12-11 21:26:39,141) INFO - qlib.workflow - [exp.py:258] - Experiment 4 starts running ...\n"
     ]
    },
    {
     "name": "stderr",
     "output_type": "stream",
     "text": [
      "[2941890:MainThread](2024-12-11 21:26:39,152) INFO - qlib.workflow - [recorder.py:341] - Recorder dbe593c8be374a19919849db254561b6 starts running under Experiment 4 ...\n"
     ]
    },
    {
     "name": "stderr",
     "output_type": "stream",
     "text": [
      "[2941890:MainThread](2024-12-11 21:26:39,244) INFO - qlib.timer - [log.py:127] - Time cost: 0.000s | waiting `async_log` Done\n"
     ]
    },
    {
     "name": "stdout",
     "output_type": "stream",
     "text": [
      "'The following are prediction results of the LGBModel model.'\n",
      "                          score\n",
      "datetime   instrument          \n",
      "2024-12-02 SH600000   -0.030935\n",
      "           SH600009   -0.016277\n",
      "           SH600010   -0.001566\n",
      "           SH600011    0.004221\n",
      "           SH600015    0.035642\n"
     ]
    },
    {
     "name": "stderr",
     "output_type": "stream",
     "text": [
      "[2941890:MainThread](2024-12-11 21:26:39,341) INFO - qlib.workflow - [exp.py:258] - Experiment 3 starts running ...\n"
     ]
    },
    {
     "name": "stderr",
     "output_type": "stream",
     "text": [
      "[2941890:MainThread](2024-12-11 21:26:39,355) INFO - qlib.workflow - [recorder.py:341] - Recorder 549f64ae686e4a21b7ef69ab1acee179 starts running under Experiment 3 ...\n"
     ]
    },
    {
     "name": "stderr",
     "output_type": "stream",
     "text": [
      "[2941890:MainThread](2024-12-11 21:26:39,459) INFO - qlib.workflow - [record_temp.py:198] - Signal record 'pred.pkl' has been saved as the artifact of the Experiment 3\n"
     ]
    },
    {
     "name": "stderr",
     "output_type": "stream",
     "text": [
      "[2941890:MainThread](2024-12-11 21:26:39,469) INFO - qlib.timer - [log.py:127] - Time cost: 0.000s | waiting `async_log` Done\n"
     ]
    },
    {
     "name": "stderr",
     "output_type": "stream",
     "text": [
      "[2941890:MainThread](2024-12-11 21:26:39,476) INFO - qlib.workflow - [exp.py:258] - Experiment 3 starts running ...\n"
     ]
    },
    {
     "name": "stderr",
     "output_type": "stream",
     "text": [
      "[2941890:MainThread](2024-12-11 21:26:39,491) INFO - qlib.workflow - [recorder.py:341] - Recorder bd1e207e0eb9470ba31489f927e4d56a starts running under Experiment 3 ...\n"
     ]
    },
    {
     "name": "stderr",
     "output_type": "stream",
     "text": [
      "[2941890:MainThread](2024-12-11 21:26:39,582) INFO - qlib.timer - [log.py:127] - Time cost: 0.000s | waiting `async_log` Done\n"
     ]
    },
    {
     "name": "stderr",
     "output_type": "stream",
     "text": [
      "[2941890:MainThread](2024-12-11 21:26:39,590) INFO - qlib.workflow - [exp.py:258] - Experiment 2 starts running ...\n"
     ]
    },
    {
     "name": "stderr",
     "output_type": "stream",
     "text": [
      "[2941890:MainThread](2024-12-11 21:26:39,600) INFO - qlib.workflow - [recorder.py:341] - Recorder a88e532cb4c44162981b55a492bd924c starts running under Experiment 2 ...\n"
     ]
    },
    {
     "name": "stdout",
     "output_type": "stream",
     "text": [
      "'The following are prediction results of the LGBModel model.'\n",
      "                          score\n",
      "datetime   instrument          \n",
      "2024-12-11 SH600000    0.009500\n",
      "           SH600009    0.010678\n",
      "           SH600010   -0.071940\n",
      "           SH600011   -0.001249\n",
      "           SH600015    0.055113\n"
     ]
    },
    {
     "name": "stderr",
     "output_type": "stream",
     "text": [
      "[2941890:MainThread](2024-12-11 21:26:39,699) INFO - qlib.timer - [log.py:127] - Time cost: 0.003s | waiting `async_log` Done\n"
     ]
    },
    {
     "name": "stderr",
     "output_type": "stream",
     "text": [
      "[2941890:MainThread](2024-12-11 21:26:39,708) INFO - qlib.workflow - [exp.py:258] - Experiment 4 starts running ...\n"
     ]
    },
    {
     "name": "stderr",
     "output_type": "stream",
     "text": [
      "[2941890:MainThread](2024-12-11 21:26:39,720) INFO - qlib.workflow - [recorder.py:341] - Recorder 29e1924955884db2b1acb77afc1cbcb8 starts running under Experiment 4 ...\n"
     ]
    },
    {
     "name": "stderr",
     "output_type": "stream",
     "text": [
      "[2941890:MainThread](2024-12-11 21:26:39,835) INFO - qlib.workflow - [record_temp.py:198] - Signal record 'pred.pkl' has been saved as the artifact of the Experiment 4\n"
     ]
    },
    {
     "name": "stderr",
     "output_type": "stream",
     "text": [
      "[2941890:MainThread](2024-12-11 21:26:39,845) INFO - qlib.timer - [log.py:127] - Time cost: 0.000s | waiting `async_log` Done\n"
     ]
    },
    {
     "name": "stderr",
     "output_type": "stream",
     "text": [
      "[2941890:MainThread](2024-12-11 21:26:39,850) INFO - qlib.workflow - [exp.py:258] - Experiment 4 starts running ...\n"
     ]
    },
    {
     "name": "stderr",
     "output_type": "stream",
     "text": [
      "[2941890:MainThread](2024-12-11 21:26:39,861) INFO - qlib.workflow - [recorder.py:341] - Recorder bc5da8395a13401893f16e249cf8e101 starts running under Experiment 4 ...\n"
     ]
    },
    {
     "name": "stderr",
     "output_type": "stream",
     "text": [
      "[2941890:MainThread](2024-12-11 21:26:39,950) INFO - qlib.timer - [log.py:127] - Time cost: 0.000s | waiting `async_log` Done\n"
     ]
    },
    {
     "name": "stdout",
     "output_type": "stream",
     "text": [
      "'The following are prediction results of the LGBModel model.'\n",
      "                          score\n",
      "datetime   instrument          \n",
      "2024-12-02 SH600000   -0.018763\n",
      "           SH600009   -0.019384\n",
      "           SH600010    0.008546\n",
      "           SH600011   -0.005642\n",
      "           SH600015    0.042966\n"
     ]
    },
    {
     "name": "stderr",
     "output_type": "stream",
     "text": [
      "[2941890:MainThread](2024-12-11 21:26:40,050) INFO - qlib.workflow - [exp.py:258] - Experiment 3 starts running ...\n"
     ]
    },
    {
     "name": "stderr",
     "output_type": "stream",
     "text": [
      "[2941890:MainThread](2024-12-11 21:26:40,066) INFO - qlib.workflow - [recorder.py:341] - Recorder aa41103616e143db897f556bb92e0274 starts running under Experiment 3 ...\n"
     ]
    },
    {
     "name": "stderr",
     "output_type": "stream",
     "text": [
      "[2941890:MainThread](2024-12-11 21:26:40,177) INFO - qlib.workflow - [record_temp.py:198] - Signal record 'pred.pkl' has been saved as the artifact of the Experiment 3\n"
     ]
    },
    {
     "name": "stderr",
     "output_type": "stream",
     "text": [
      "[2941890:MainThread](2024-12-11 21:26:40,183) INFO - qlib.timer - [log.py:127] - Time cost: 0.000s | waiting `async_log` Done\n"
     ]
    },
    {
     "name": "stderr",
     "output_type": "stream",
     "text": [
      "[2941890:MainThread](2024-12-11 21:26:40,188) INFO - qlib.workflow - [exp.py:258] - Experiment 3 starts running ...\n"
     ]
    },
    {
     "name": "stderr",
     "output_type": "stream",
     "text": [
      "[2941890:MainThread](2024-12-11 21:26:40,203) INFO - qlib.workflow - [recorder.py:341] - Recorder 973a692bd4b744f6b3b1d6ace5971b20 starts running under Experiment 3 ...\n"
     ]
    },
    {
     "name": "stderr",
     "output_type": "stream",
     "text": [
      "[2941890:MainThread](2024-12-11 21:26:40,293) INFO - qlib.timer - [log.py:127] - Time cost: 0.002s | waiting `async_log` Done\n"
     ]
    },
    {
     "name": "stderr",
     "output_type": "stream",
     "text": [
      "[2941890:MainThread](2024-12-11 21:26:40,300) INFO - qlib.workflow - [exp.py:258] - Experiment 2 starts running ...\n"
     ]
    },
    {
     "name": "stderr",
     "output_type": "stream",
     "text": [
      "[2941890:MainThread](2024-12-11 21:26:40,310) INFO - qlib.workflow - [recorder.py:341] - Recorder fb70c8b0c4154838b28389054ced6276 starts running under Experiment 2 ...\n"
     ]
    },
    {
     "name": "stdout",
     "output_type": "stream",
     "text": [
      "'The following are prediction results of the LGBModel model.'\n",
      "                          score\n",
      "datetime   instrument          \n",
      "2024-12-11 SH600000   -0.009170\n",
      "           SH600009    0.000234\n",
      "           SH600010   -0.108725\n",
      "           SH600011    0.001810\n",
      "           SH600015    0.029458\n"
     ]
    },
    {
     "name": "stderr",
     "output_type": "stream",
     "text": [
      "[2941890:MainThread](2024-12-11 21:26:40,423) INFO - qlib.timer - [log.py:127] - Time cost: 0.001s | waiting `async_log` Done\n"
     ]
    },
    {
     "name": "stderr",
     "output_type": "stream",
     "text": [
      "[2941890:MainThread](2024-12-11 21:26:40,429) INFO - qlib.workflow - [exp.py:258] - Experiment 4 starts running ...\n"
     ]
    },
    {
     "name": "stderr",
     "output_type": "stream",
     "text": [
      "[2941890:MainThread](2024-12-11 21:26:40,440) INFO - qlib.workflow - [recorder.py:341] - Recorder 4564b70c99734b30bd293c7c78425a02 starts running under Experiment 4 ...\n"
     ]
    },
    {
     "name": "stderr",
     "output_type": "stream",
     "text": [
      "[2941890:MainThread](2024-12-11 21:26:40,544) INFO - qlib.workflow - [record_temp.py:198] - Signal record 'pred.pkl' has been saved as the artifact of the Experiment 4\n"
     ]
    },
    {
     "name": "stderr",
     "output_type": "stream",
     "text": [
      "[2941890:MainThread](2024-12-11 21:26:40,552) INFO - qlib.timer - [log.py:127] - Time cost: 0.000s | waiting `async_log` Done\n"
     ]
    },
    {
     "name": "stderr",
     "output_type": "stream",
     "text": [
      "[2941890:MainThread](2024-12-11 21:26:40,557) INFO - qlib.workflow - [exp.py:258] - Experiment 4 starts running ...\n"
     ]
    },
    {
     "name": "stderr",
     "output_type": "stream",
     "text": [
      "[2941890:MainThread](2024-12-11 21:26:40,568) INFO - qlib.workflow - [recorder.py:341] - Recorder 10c3d709ffec4736b76123b279f12ae7 starts running under Experiment 4 ...\n"
     ]
    },
    {
     "name": "stderr",
     "output_type": "stream",
     "text": [
      "[2941890:MainThread](2024-12-11 21:26:40,658) INFO - qlib.timer - [log.py:127] - Time cost: 0.000s | waiting `async_log` Done\n"
     ]
    },
    {
     "name": "stdout",
     "output_type": "stream",
     "text": [
      "'The following are prediction results of the LGBModel model.'\n",
      "                          score\n",
      "datetime   instrument          \n",
      "2024-12-02 SH600000   -0.038353\n",
      "           SH600009    0.004608\n",
      "           SH600010    0.032711\n",
      "           SH600011    0.007540\n",
      "           SH600015    0.040062\n"
     ]
    },
    {
     "name": "stderr",
     "output_type": "stream",
     "text": [
      "[2941890:MainThread](2024-12-11 21:26:40,760) INFO - qlib.workflow - [exp.py:258] - Experiment 3 starts running ...\n"
     ]
    },
    {
     "name": "stderr",
     "output_type": "stream",
     "text": [
      "[2941890:MainThread](2024-12-11 21:26:40,775) INFO - qlib.workflow - [recorder.py:341] - Recorder ff83f8b933074455b089d7f1b5b5ab1b starts running under Experiment 3 ...\n"
     ]
    },
    {
     "name": "stderr",
     "output_type": "stream",
     "text": [
      "[2941890:MainThread](2024-12-11 21:26:40,878) INFO - qlib.workflow - [record_temp.py:198] - Signal record 'pred.pkl' has been saved as the artifact of the Experiment 3\n"
     ]
    },
    {
     "name": "stderr",
     "output_type": "stream",
     "text": [
      "[2941890:MainThread](2024-12-11 21:26:40,886) INFO - qlib.timer - [log.py:127] - Time cost: 0.000s | waiting `async_log` Done\n"
     ]
    },
    {
     "name": "stderr",
     "output_type": "stream",
     "text": [
      "[2941890:MainThread](2024-12-11 21:26:40,891) INFO - qlib.workflow - [exp.py:258] - Experiment 3 starts running ...\n"
     ]
    },
    {
     "name": "stderr",
     "output_type": "stream",
     "text": [
      "[2941890:MainThread](2024-12-11 21:26:40,906) INFO - qlib.workflow - [recorder.py:341] - Recorder 718088992d4940cda263e3241791269a starts running under Experiment 3 ...\n"
     ]
    },
    {
     "name": "stderr",
     "output_type": "stream",
     "text": [
      "[2941890:MainThread](2024-12-11 21:26:40,998) INFO - qlib.timer - [log.py:127] - Time cost: 0.000s | waiting `async_log` Done\n"
     ]
    },
    {
     "name": "stdout",
     "output_type": "stream",
     "text": [
      "'The following are prediction results of the LGBModel model.'\n",
      "                          score\n",
      "datetime   instrument          \n",
      "2024-12-11 SH600000   -0.090175\n",
      "           SH600009    0.015240\n",
      "           SH600010   -0.217294\n",
      "           SH600011   -0.026459\n",
      "           SH600015   -0.023623\n"
     ]
    }
   ],
   "source": [
    "info_dict5 = {}\n",
    "info_dict10 = {}\n",
    "info_dict20 = {}\n",
    "pred_lst = []\n",
    "\n",
    "for NAME, EXP_NAME, rid in REC_LIST:\n",
    "    with R.start(experiment_name=EXP_NAME, uri='./mlrun'):\n",
    "        recorder = R.get_recorder(recorder_id=rid)\n",
    "        model = recorder.load_object(\"trained_model\")\n",
    "    day5metrics, day10metrics, day20metrics, pred_df = run_model(model)\n",
    "    info_dict5[NAME] = day5metrics\n",
    "    info_dict10[NAME] = day10metrics\n",
    "    info_dict20[NAME] = day20metrics\n",
    "    pred_lst.append(pred_df)"
   ]
  },
  {
   "cell_type": "code",
   "execution_count": 10,
   "metadata": {
    "execution": {
     "iopub.execute_input": "2024-12-11T13:26:41.011401Z",
     "iopub.status.busy": "2024-12-11T13:26:41.010718Z",
     "iopub.status.idle": "2024-12-11T13:26:41.018800Z",
     "shell.execute_reply": "2024-12-11T13:26:41.018020Z"
    }
   },
   "outputs": [],
   "source": [
    "info_df5 = pd.DataFrame(info_dict5, index=['TOP20IC', 'TOP20WIN', '0-5IC', '0-5WIN', '5-10IC', '5-10WIN', '10-15IC', '10-15WIN', '15-20C', '15-20WIN'])\n",
    "report_info5 = info_df5\n",
    "\n",
    "info_df10 = pd.DataFrame(info_dict10, index=['TOP20IC', 'TOP20WIN', '0-5IC', '0-5WIN', '5-10IC', '5-10WIN', '10-15IC', '10-15WIN', '15-20C', '15-20WIN'])\n",
    "report_info10 = info_df10\n",
    "\n",
    "info_df20 = pd.DataFrame(info_dict20, index=['TOP20IC', 'TOP20WIN', '0-5IC', '0-5WIN', '5-10IC', '5-10WIN', '10-15IC', '10-15WIN', '15-20C', '15-20WIN'])\n",
    "report_info20 = info_df20"
   ]
  },
  {
   "cell_type": "code",
   "execution_count": 11,
   "metadata": {
    "execution": {
     "iopub.execute_input": "2024-12-11T13:26:41.021880Z",
     "iopub.status.busy": "2024-12-11T13:26:41.021572Z",
     "iopub.status.idle": "2024-12-11T13:26:41.036173Z",
     "shell.execute_reply": "2024-12-11T13:26:41.035386Z"
    }
   },
   "outputs": [],
   "source": [
    "pred_df = pd.concat(pred_lst, axis=1)\n",
    "pred_df.columns = name_lst = [r[0] for r in REC_LIST]\n",
    "_pred_df = pred_df\n",
    "\n",
    "pred_df['mean'] = _pred_df.mean(axis=1)\n",
    "pred_df['std'] = _pred_df.std(axis=1)\n",
    "pred_df['score'] = pd.concat([pred_df[n]*info_dict20[n][0] for n in name_lst], axis=1).sum(axis=1)\n",
    "# pred_df"
   ]
  },
  {
   "cell_type": "code",
   "execution_count": 12,
   "metadata": {
    "execution": {
     "iopub.execute_input": "2024-12-11T13:26:41.038739Z",
     "iopub.status.busy": "2024-12-11T13:26:41.038482Z",
     "iopub.status.idle": "2024-12-11T13:26:41.841236Z",
     "shell.execute_reply": "2024-12-11T13:26:41.840216Z"
    }
   },
   "outputs": [],
   "source": [
    "rank_df = pred_df.droplevel(0).sort_values(by='score', ascending=False)\n",
    "fields = ['$close/$factor']\n",
    "_df = D.features(rank_df.index.values, fields, start_time=TODAY, end_time=TODAY, freq='day')\n",
    "_df.columns = ['close']\n",
    "_df = _df.droplevel(1)\n",
    "rank_df = pd.concat([rank_df,_df],axis=1,join='inner')\n",
    "report_top = rank_df.head(20)"
   ]
  },
  {
   "cell_type": "code",
   "execution_count": 13,
   "metadata": {
    "execution": {
     "iopub.execute_input": "2024-12-11T13:26:41.845928Z",
     "iopub.status.busy": "2024-12-11T13:26:41.845587Z",
     "iopub.status.idle": "2024-12-11T13:26:41.850559Z",
     "shell.execute_reply": "2024-12-11T13:26:41.849989Z"
    }
   },
   "outputs": [
    {
     "data": {
      "text/plain": [
       "['SZ002459', 'SH600233', 'SH600570', 'SH600104', 'SH600588']"
      ]
     },
     "execution_count": 13,
     "metadata": {},
     "output_type": "execute_result"
    }
   ],
   "source": [
    "hold_lst"
   ]
  },
  {
   "cell_type": "code",
   "execution_count": 14,
   "metadata": {
    "execution": {
     "iopub.execute_input": "2024-12-11T13:26:41.855366Z",
     "iopub.status.busy": "2024-12-11T13:26:41.855006Z",
     "iopub.status.idle": "2024-12-11T13:26:41.860571Z",
     "shell.execute_reply": "2024-12-11T13:26:41.859819Z"
    }
   },
   "outputs": [],
   "source": [
    "pos_rank = rank_df.sort_values(by='score', ascending=True)\n",
    "pos_rank = pos_rank[pos_rank.index.isin(hold_lst)]\n",
    "report_pos = pos_rank"
   ]
  },
  {
   "cell_type": "code",
   "execution_count": null,
   "metadata": {},
   "outputs": [],
   "source": []
  },
  {
   "cell_type": "code",
   "execution_count": 15,
   "metadata": {
    "execution": {
     "iopub.execute_input": "2024-12-11T13:26:41.864078Z",
     "iopub.status.busy": "2024-12-11T13:26:41.862833Z",
     "iopub.status.idle": "2024-12-11T13:26:42.151095Z",
     "shell.execute_reply": "2024-12-11T13:26:42.150088Z"
    }
   },
   "outputs": [
    {
     "data": {
      "text/html": [
       "<style type=\"text/css\">\n",
       "#T_81031_row0_col0 {\n",
       "  background-color: #a8bedc;\n",
       "  color: #000000;\n",
       "}\n",
       "#T_81031_row0_col1 {\n",
       "  background-color: #94b6d7;\n",
       "  color: #000000;\n",
       "}\n",
       "#T_81031_row0_col2 {\n",
       "  background-color: #a7bddb;\n",
       "  color: #000000;\n",
       "}\n",
       "#T_81031_row0_col3, #T_81031_row4_col2, #T_81031_row4_col4, #T_81031_row6_col0, #T_81031_row6_col4, #T_81031_row6_col6, #T_81031_row8_col1, #T_81031_row8_col5 {\n",
       "  background-color: #fff7fb;\n",
       "  color: #000000;\n",
       "}\n",
       "#T_81031_row0_col4 {\n",
       "  background-color: #8cb3d5;\n",
       "  color: #000000;\n",
       "}\n",
       "#T_81031_row0_col5 {\n",
       "  background-color: #79abd0;\n",
       "  color: #f1f1f1;\n",
       "}\n",
       "#T_81031_row0_col6 {\n",
       "  background-color: #abbfdc;\n",
       "  color: #000000;\n",
       "}\n",
       "#T_81031_row1_col0 {\n",
       "  background-color: #0567a1;\n",
       "  color: #f1f1f1;\n",
       "}\n",
       "#T_81031_row1_col1 {\n",
       "  background-color: #045f95;\n",
       "  color: #f1f1f1;\n",
       "}\n",
       "#T_81031_row1_col2 {\n",
       "  background-color: #034b76;\n",
       "  color: #f1f1f1;\n",
       "}\n",
       "#T_81031_row1_col3 {\n",
       "  background-color: #4c99c5;\n",
       "  color: #f1f1f1;\n",
       "}\n",
       "#T_81031_row1_col4, #T_81031_row4_col3, #T_81031_row6_col5, #T_81031_row9_col0, #T_81031_row9_col1, #T_81031_row9_col2, #T_81031_row9_col6 {\n",
       "  background-color: #023858;\n",
       "  color: #f1f1f1;\n",
       "}\n",
       "#T_81031_row1_col5 {\n",
       "  background-color: #034369;\n",
       "  color: #f1f1f1;\n",
       "}\n",
       "#T_81031_row1_col6 {\n",
       "  background-color: #0569a5;\n",
       "  color: #f1f1f1;\n",
       "}\n",
       "#T_81031_row2_col0 {\n",
       "  background-color: #5ea0ca;\n",
       "  color: #f1f1f1;\n",
       "}\n",
       "#T_81031_row2_col1 {\n",
       "  background-color: #63a2cb;\n",
       "  color: #f1f1f1;\n",
       "}\n",
       "#T_81031_row2_col2 {\n",
       "  background-color: #7eadd1;\n",
       "  color: #f1f1f1;\n",
       "}\n",
       "#T_81031_row2_col3, #T_81031_row8_col2 {\n",
       "  background-color: #f0eaf4;\n",
       "  color: #000000;\n",
       "}\n",
       "#T_81031_row2_col4 {\n",
       "  background-color: #84b0d3;\n",
       "  color: #f1f1f1;\n",
       "}\n",
       "#T_81031_row2_col5 {\n",
       "  background-color: #71a8ce;\n",
       "  color: #f1f1f1;\n",
       "}\n",
       "#T_81031_row2_col6, #T_81031_row8_col3 {\n",
       "  background-color: #91b5d6;\n",
       "  color: #000000;\n",
       "}\n",
       "#T_81031_row3_col0, #T_81031_row5_col0 {\n",
       "  background-color: #0f76b3;\n",
       "  color: #f1f1f1;\n",
       "}\n",
       "#T_81031_row3_col1 {\n",
       "  background-color: #0872b1;\n",
       "  color: #f1f1f1;\n",
       "}\n",
       "#T_81031_row3_col2 {\n",
       "  background-color: #04588a;\n",
       "  color: #f1f1f1;\n",
       "}\n",
       "#T_81031_row3_col3 {\n",
       "  background-color: #62a2cb;\n",
       "  color: #f1f1f1;\n",
       "}\n",
       "#T_81031_row3_col4 {\n",
       "  background-color: #034c78;\n",
       "  color: #f1f1f1;\n",
       "}\n",
       "#T_81031_row3_col5, #T_81031_row7_col5, #T_81031_row9_col5 {\n",
       "  background-color: #045c90;\n",
       "  color: #f1f1f1;\n",
       "}\n",
       "#T_81031_row3_col6 {\n",
       "  background-color: #167bb6;\n",
       "  color: #f1f1f1;\n",
       "}\n",
       "#T_81031_row4_col0 {\n",
       "  background-color: #d1d2e6;\n",
       "  color: #000000;\n",
       "}\n",
       "#T_81031_row4_col1 {\n",
       "  background-color: #acc0dd;\n",
       "  color: #000000;\n",
       "}\n",
       "#T_81031_row4_col5, #T_81031_row5_col2, #T_81031_row7_col2 {\n",
       "  background-color: #046097;\n",
       "  color: #f1f1f1;\n",
       "}\n",
       "#T_81031_row4_col6 {\n",
       "  background-color: #1b7eb7;\n",
       "  color: #f1f1f1;\n",
       "}\n",
       "#T_81031_row5_col1 {\n",
       "  background-color: #7bacd1;\n",
       "  color: #f1f1f1;\n",
       "}\n",
       "#T_81031_row5_col3 {\n",
       "  background-color: #ede8f3;\n",
       "  color: #000000;\n",
       "}\n",
       "#T_81031_row5_col4, #T_81031_row9_col4 {\n",
       "  background-color: #056faf;\n",
       "  color: #f1f1f1;\n",
       "}\n",
       "#T_81031_row5_col5 {\n",
       "  background-color: #0d75b3;\n",
       "  color: #f1f1f1;\n",
       "}\n",
       "#T_81031_row5_col6, #T_81031_row7_col6 {\n",
       "  background-color: #2182b9;\n",
       "  color: #f1f1f1;\n",
       "}\n",
       "#T_81031_row6_col1 {\n",
       "  background-color: #dddbec;\n",
       "  color: #000000;\n",
       "}\n",
       "#T_81031_row6_col2 {\n",
       "  background-color: #dfddec;\n",
       "  color: #000000;\n",
       "}\n",
       "#T_81031_row6_col3 {\n",
       "  background-color: #4496c3;\n",
       "  color: #f1f1f1;\n",
       "}\n",
       "#T_81031_row7_col0 {\n",
       "  background-color: #4897c4;\n",
       "  color: #f1f1f1;\n",
       "}\n",
       "#T_81031_row7_col1 {\n",
       "  background-color: #045b8e;\n",
       "  color: #f1f1f1;\n",
       "}\n",
       "#T_81031_row7_col3 {\n",
       "  background-color: #78abd0;\n",
       "  color: #f1f1f1;\n",
       "}\n",
       "#T_81031_row7_col4 {\n",
       "  background-color: #045687;\n",
       "  color: #f1f1f1;\n",
       "}\n",
       "#T_81031_row8_col0 {\n",
       "  background-color: #4295c3;\n",
       "  color: #f1f1f1;\n",
       "}\n",
       "#T_81031_row8_col4 {\n",
       "  background-color: #056ead;\n",
       "  color: #f1f1f1;\n",
       "}\n",
       "#T_81031_row8_col6 {\n",
       "  background-color: #89b1d4;\n",
       "  color: #000000;\n",
       "}\n",
       "#T_81031_row9_col3 {\n",
       "  background-color: #bfc9e1;\n",
       "  color: #000000;\n",
       "}\n",
       "</style>\n",
       "<table id=\"T_81031\">\n",
       "  <thead>\n",
       "    <tr>\n",
       "      <th class=\"blank level0\" >&nbsp;</th>\n",
       "      <th id=\"T_81031_level0_col0\" class=\"col_heading level0 col0\" >GBDT0</th>\n",
       "      <th id=\"T_81031_level0_col1\" class=\"col_heading level0 col1\" >GBDT1</th>\n",
       "      <th id=\"T_81031_level0_col2\" class=\"col_heading level0 col2\" >GBDT2</th>\n",
       "      <th id=\"T_81031_level0_col3\" class=\"col_heading level0 col3\" >GBDT4</th>\n",
       "      <th id=\"T_81031_level0_col4\" class=\"col_heading level0 col4\" >GBDT6</th>\n",
       "      <th id=\"T_81031_level0_col5\" class=\"col_heading level0 col5\" >GBDT8</th>\n",
       "      <th id=\"T_81031_level0_col6\" class=\"col_heading level0 col6\" >GBDT10</th>\n",
       "    </tr>\n",
       "  </thead>\n",
       "  <tbody>\n",
       "    <tr>\n",
       "      <th id=\"T_81031_level0_row0\" class=\"row_heading level0 row0\" >TOP20IC</th>\n",
       "      <td id=\"T_81031_row0_col0\" class=\"data row0 col0\" >-0.116405</td>\n",
       "      <td id=\"T_81031_row0_col1\" class=\"data row0 col1\" >-0.097999</td>\n",
       "      <td id=\"T_81031_row0_col2\" class=\"data row0 col2\" >-0.176569</td>\n",
       "      <td id=\"T_81031_row0_col3\" class=\"data row0 col3\" >-0.129401</td>\n",
       "      <td id=\"T_81031_row0_col4\" class=\"data row0 col4\" >-0.263866</td>\n",
       "      <td id=\"T_81031_row0_col5\" class=\"data row0 col5\" >-0.165495</td>\n",
       "      <td id=\"T_81031_row0_col6\" class=\"data row0 col6\" >-0.197615</td>\n",
       "    </tr>\n",
       "    <tr>\n",
       "      <th id=\"T_81031_level0_row1\" class=\"row_heading level0 row1\" >TOP20WIN</th>\n",
       "      <td id=\"T_81031_row1_col0\" class=\"data row1 col0\" >0.512500</td>\n",
       "      <td id=\"T_81031_row1_col1\" class=\"data row1 col1\" >0.562500</td>\n",
       "      <td id=\"T_81031_row1_col2\" class=\"data row1 col2\" >0.512500</td>\n",
       "      <td id=\"T_81031_row1_col3\" class=\"data row1 col3\" >0.500000</td>\n",
       "      <td id=\"T_81031_row1_col4\" class=\"data row1 col4\" >0.562500</td>\n",
       "      <td id=\"T_81031_row1_col5\" class=\"data row1 col5\" >0.550000</td>\n",
       "      <td id=\"T_81031_row1_col6\" class=\"data row1 col6\" >0.600000</td>\n",
       "    </tr>\n",
       "    <tr>\n",
       "      <th id=\"T_81031_level0_row2\" class=\"row_heading level0 row2\" >0-5IC</th>\n",
       "      <td id=\"T_81031_row2_col0\" class=\"data row2 col0\" >0.139732</td>\n",
       "      <td id=\"T_81031_row2_col1\" class=\"data row2 col1\" >0.074524</td>\n",
       "      <td id=\"T_81031_row2_col2\" class=\"data row2 col2\" >-0.051629</td>\n",
       "      <td id=\"T_81031_row2_col3\" class=\"data row2 col3\" >-0.018790</td>\n",
       "      <td id=\"T_81031_row2_col4\" class=\"data row2 col4\" >-0.231766</td>\n",
       "      <td id=\"T_81031_row2_col5\" class=\"data row2 col5\" >-0.134125</td>\n",
       "      <td id=\"T_81031_row2_col6\" class=\"data row2 col6\" >-0.075129</td>\n",
       "    </tr>\n",
       "    <tr>\n",
       "      <th id=\"T_81031_level0_row3\" class=\"row_heading level0 row3\" >0-5WIN</th>\n",
       "      <td id=\"T_81031_row3_col0\" class=\"data row3 col0\" >0.400000</td>\n",
       "      <td id=\"T_81031_row3_col1\" class=\"data row3 col1\" >0.400000</td>\n",
       "      <td id=\"T_81031_row3_col2\" class=\"data row3 col2\" >0.450000</td>\n",
       "      <td id=\"T_81031_row3_col3\" class=\"data row3 col3\" >0.450000</td>\n",
       "      <td id=\"T_81031_row3_col4\" class=\"data row3 col4\" >0.450000</td>\n",
       "      <td id=\"T_81031_row3_col5\" class=\"data row3 col5\" >0.400000</td>\n",
       "      <td id=\"T_81031_row3_col6\" class=\"data row3 col6\" >0.450000</td>\n",
       "    </tr>\n",
       "    <tr>\n",
       "      <th id=\"T_81031_level0_row4\" class=\"row_heading level0 row4\" >5-10IC</th>\n",
       "      <td id=\"T_81031_row4_col0\" class=\"data row4 col0\" >-0.293747</td>\n",
       "      <td id=\"T_81031_row4_col1\" class=\"data row4 col1\" >-0.198808</td>\n",
       "      <td id=\"T_81031_row4_col2\" class=\"data row4 col2\" >-0.639140</td>\n",
       "      <td id=\"T_81031_row4_col3\" class=\"data row4 col3\" >0.952562</td>\n",
       "      <td id=\"T_81031_row4_col4\" class=\"data row4 col4\" >-0.906629</td>\n",
       "      <td id=\"T_81031_row4_col5\" class=\"data row4 col5\" >0.365052</td>\n",
       "      <td id=\"T_81031_row4_col6\" class=\"data row4 col6\" >0.428400</td>\n",
       "    </tr>\n",
       "    <tr>\n",
       "      <th id=\"T_81031_level0_row5\" class=\"row_heading level0 row5\" >5-10WIN</th>\n",
       "      <td id=\"T_81031_row5_col0\" class=\"data row5 col0\" >0.400000</td>\n",
       "      <td id=\"T_81031_row5_col1\" class=\"data row5 col1\" >0.000000</td>\n",
       "      <td id=\"T_81031_row5_col2\" class=\"data row5 col2\" >0.400000</td>\n",
       "      <td id=\"T_81031_row5_col3\" class=\"data row5 col3\" >0.000000</td>\n",
       "      <td id=\"T_81031_row5_col4\" class=\"data row5 col4\" >0.200000</td>\n",
       "      <td id=\"T_81031_row5_col5\" class=\"data row5 col5\" >0.200000</td>\n",
       "      <td id=\"T_81031_row5_col6\" class=\"data row5 col6\" >0.400000</td>\n",
       "    </tr>\n",
       "    <tr>\n",
       "      <th id=\"T_81031_level0_row6\" class=\"row_heading level0 row6\" >10-15IC</th>\n",
       "      <td id=\"T_81031_row6_col0\" class=\"data row6 col0\" >-0.655576</td>\n",
       "      <td id=\"T_81031_row6_col1\" class=\"data row6 col1\" >-0.448134</td>\n",
       "      <td id=\"T_81031_row6_col2\" class=\"data row6 col2\" >-0.408095</td>\n",
       "      <td id=\"T_81031_row6_col3\" class=\"data row6 col3\" >0.515664</td>\n",
       "      <td id=\"T_81031_row6_col4\" class=\"data row6 col4\" >-0.905053</td>\n",
       "      <td id=\"T_81031_row6_col5\" class=\"data row6 col5\" >0.610657</td>\n",
       "      <td id=\"T_81031_row6_col6\" class=\"data row6 col6\" >-0.872448</td>\n",
       "    </tr>\n",
       "    <tr>\n",
       "      <th id=\"T_81031_level0_row7\" class=\"row_heading level0 row7\" >10-15WIN</th>\n",
       "      <td id=\"T_81031_row7_col0\" class=\"data row7 col0\" >0.200000</td>\n",
       "      <td id=\"T_81031_row7_col1\" class=\"data row7 col1\" >0.600000</td>\n",
       "      <td id=\"T_81031_row7_col2\" class=\"data row7 col2\" >0.400000</td>\n",
       "      <td id=\"T_81031_row7_col3\" class=\"data row7 col3\" >0.400000</td>\n",
       "      <td id=\"T_81031_row7_col4\" class=\"data row7 col4\" >0.400000</td>\n",
       "      <td id=\"T_81031_row7_col5\" class=\"data row7 col5\" >0.400000</td>\n",
       "      <td id=\"T_81031_row7_col6\" class=\"data row7 col6\" >0.400000</td>\n",
       "    </tr>\n",
       "    <tr>\n",
       "      <th id=\"T_81031_level0_row8\" class=\"row_heading level0 row8\" >15-20C</th>\n",
       "      <td id=\"T_81031_row8_col0\" class=\"data row8 col0\" >0.218905</td>\n",
       "      <td id=\"T_81031_row8_col1\" class=\"data row8 col1\" >-0.750942</td>\n",
       "      <td id=\"T_81031_row8_col2\" class=\"data row8 col2\" >-0.513839</td>\n",
       "      <td id=\"T_81031_row8_col3\" class=\"data row8 col3\" >0.333323</td>\n",
       "      <td id=\"T_81031_row8_col4\" class=\"data row8 col4\" >0.209216</td>\n",
       "      <td id=\"T_81031_row8_col5\" class=\"data row8 col5\" >-0.894879</td>\n",
       "      <td id=\"T_81031_row8_col6\" class=\"data row8 col6\" >-0.033144</td>\n",
       "    </tr>\n",
       "    <tr>\n",
       "      <th id=\"T_81031_level0_row9\" class=\"row_heading level0 row9\" >15-20WIN</th>\n",
       "      <td id=\"T_81031_row9_col0\" class=\"data row9 col0\" >0.800000</td>\n",
       "      <td id=\"T_81031_row9_col1\" class=\"data row9 col1\" >0.800000</td>\n",
       "      <td id=\"T_81031_row9_col2\" class=\"data row9 col2\" >0.600000</td>\n",
       "      <td id=\"T_81031_row9_col3\" class=\"data row9 col3\" >0.200000</td>\n",
       "      <td id=\"T_81031_row9_col4\" class=\"data row9 col4\" >0.200000</td>\n",
       "      <td id=\"T_81031_row9_col5\" class=\"data row9 col5\" >0.400000</td>\n",
       "      <td id=\"T_81031_row9_col6\" class=\"data row9 col6\" >1.000000</td>\n",
       "    </tr>\n",
       "  </tbody>\n",
       "</table>\n"
      ],
      "text/plain": [
       "<pandas.io.formats.style.Styler at 0x7f51f9919b20>"
      ]
     },
     "execution_count": 15,
     "metadata": {},
     "output_type": "execute_result"
    }
   ],
   "source": [
    "sty_report_info5 = report_info5.style.background_gradient(axis=0)\n",
    "sty_report_info5"
   ]
  },
  {
   "cell_type": "code",
   "execution_count": 16,
   "metadata": {
    "execution": {
     "iopub.execute_input": "2024-12-11T13:26:42.155357Z",
     "iopub.status.busy": "2024-12-11T13:26:42.154853Z",
     "iopub.status.idle": "2024-12-11T13:26:42.175958Z",
     "shell.execute_reply": "2024-12-11T13:26:42.174958Z"
    }
   },
   "outputs": [
    {
     "data": {
      "text/html": [
       "<style type=\"text/css\">\n",
       "#T_ed1b9_row0_col0 {\n",
       "  background-color: #2d8abd;\n",
       "  color: #f1f1f1;\n",
       "}\n",
       "#T_ed1b9_row0_col1 {\n",
       "  background-color: #509ac6;\n",
       "  color: #f1f1f1;\n",
       "}\n",
       "#T_ed1b9_row0_col2 {\n",
       "  background-color: #056fae;\n",
       "  color: #f1f1f1;\n",
       "}\n",
       "#T_ed1b9_row0_col3 {\n",
       "  background-color: #b1c2de;\n",
       "  color: #000000;\n",
       "}\n",
       "#T_ed1b9_row0_col4, #T_ed1b9_row1_col0, #T_ed1b9_row5_col4, #T_ed1b9_row9_col4 {\n",
       "  background-color: #0569a5;\n",
       "  color: #f1f1f1;\n",
       "}\n",
       "#T_ed1b9_row0_col5 {\n",
       "  background-color: #1379b5;\n",
       "  color: #f1f1f1;\n",
       "}\n",
       "#T_ed1b9_row0_col6 {\n",
       "  background-color: #63a2cb;\n",
       "  color: #f1f1f1;\n",
       "}\n",
       "#T_ed1b9_row1_col1 {\n",
       "  background-color: #04639b;\n",
       "  color: #f1f1f1;\n",
       "}\n",
       "#T_ed1b9_row1_col2, #T_ed1b9_row3_col2 {\n",
       "  background-color: #03517e;\n",
       "  color: #f1f1f1;\n",
       "}\n",
       "#T_ed1b9_row1_col3 {\n",
       "  background-color: #76aad0;\n",
       "  color: #f1f1f1;\n",
       "}\n",
       "#T_ed1b9_row1_col4, #T_ed1b9_row2_col4, #T_ed1b9_row4_col3, #T_ed1b9_row6_col5, #T_ed1b9_row9_col0, #T_ed1b9_row9_col1, #T_ed1b9_row9_col2, #T_ed1b9_row9_col6 {\n",
       "  background-color: #023858;\n",
       "  color: #f1f1f1;\n",
       "}\n",
       "#T_ed1b9_row1_col5 {\n",
       "  background-color: #03446a;\n",
       "  color: #f1f1f1;\n",
       "}\n",
       "#T_ed1b9_row1_col6 {\n",
       "  background-color: #0c74b2;\n",
       "  color: #f1f1f1;\n",
       "}\n",
       "#T_ed1b9_row2_col0 {\n",
       "  background-color: #045f95;\n",
       "  color: #f1f1f1;\n",
       "}\n",
       "#T_ed1b9_row2_col1 {\n",
       "  background-color: #04649d;\n",
       "  color: #f1f1f1;\n",
       "}\n",
       "#T_ed1b9_row2_col2 {\n",
       "  background-color: #03476f;\n",
       "  color: #f1f1f1;\n",
       "}\n",
       "#T_ed1b9_row2_col3 {\n",
       "  background-color: #6fa7ce;\n",
       "  color: #f1f1f1;\n",
       "}\n",
       "#T_ed1b9_row2_col5 {\n",
       "  background-color: #034f7d;\n",
       "  color: #f1f1f1;\n",
       "}\n",
       "#T_ed1b9_row2_col6 {\n",
       "  background-color: #2c89bd;\n",
       "  color: #f1f1f1;\n",
       "}\n",
       "#T_ed1b9_row3_col0 {\n",
       "  background-color: #167bb6;\n",
       "  color: #f1f1f1;\n",
       "}\n",
       "#T_ed1b9_row3_col1, #T_ed1b9_row5_col0 {\n",
       "  background-color: #0f76b3;\n",
       "  color: #f1f1f1;\n",
       "}\n",
       "#T_ed1b9_row3_col3 {\n",
       "  background-color: #7dacd1;\n",
       "  color: #f1f1f1;\n",
       "}\n",
       "#T_ed1b9_row3_col4 {\n",
       "  background-color: #045687;\n",
       "  color: #f1f1f1;\n",
       "}\n",
       "#T_ed1b9_row3_col5, #T_ed1b9_row7_col5, #T_ed1b9_row9_col5 {\n",
       "  background-color: #045c90;\n",
       "  color: #f1f1f1;\n",
       "}\n",
       "#T_ed1b9_row3_col6, #T_ed1b9_row5_col6, #T_ed1b9_row7_col6 {\n",
       "  background-color: #2182b9;\n",
       "  color: #f1f1f1;\n",
       "}\n",
       "#T_ed1b9_row4_col0 {\n",
       "  background-color: #d1d2e6;\n",
       "  color: #000000;\n",
       "}\n",
       "#T_ed1b9_row4_col1 {\n",
       "  background-color: #acc0dd;\n",
       "  color: #000000;\n",
       "}\n",
       "#T_ed1b9_row4_col2, #T_ed1b9_row4_col4, #T_ed1b9_row5_col3, #T_ed1b9_row6_col0, #T_ed1b9_row6_col4, #T_ed1b9_row6_col6, #T_ed1b9_row8_col1, #T_ed1b9_row8_col5 {\n",
       "  background-color: #fff7fb;\n",
       "  color: #000000;\n",
       "}\n",
       "#T_ed1b9_row4_col5, #T_ed1b9_row5_col2, #T_ed1b9_row7_col2 {\n",
       "  background-color: #046097;\n",
       "  color: #f1f1f1;\n",
       "}\n",
       "#T_ed1b9_row4_col6 {\n",
       "  background-color: #1b7eb7;\n",
       "  color: #f1f1f1;\n",
       "}\n",
       "#T_ed1b9_row5_col1 {\n",
       "  background-color: #7bacd1;\n",
       "  color: #f1f1f1;\n",
       "}\n",
       "#T_ed1b9_row5_col5 {\n",
       "  background-color: #0d75b3;\n",
       "  color: #f1f1f1;\n",
       "}\n",
       "#T_ed1b9_row6_col1 {\n",
       "  background-color: #dddbec;\n",
       "  color: #000000;\n",
       "}\n",
       "#T_ed1b9_row6_col2 {\n",
       "  background-color: #dfddec;\n",
       "  color: #000000;\n",
       "}\n",
       "#T_ed1b9_row6_col3 {\n",
       "  background-color: #60a1ca;\n",
       "  color: #f1f1f1;\n",
       "}\n",
       "#T_ed1b9_row7_col0 {\n",
       "  background-color: #4897c4;\n",
       "  color: #f1f1f1;\n",
       "}\n",
       "#T_ed1b9_row7_col1 {\n",
       "  background-color: #045b8e;\n",
       "  color: #f1f1f1;\n",
       "}\n",
       "#T_ed1b9_row7_col3 {\n",
       "  background-color: #94b6d7;\n",
       "  color: #000000;\n",
       "}\n",
       "#T_ed1b9_row7_col4 {\n",
       "  background-color: #034b76;\n",
       "  color: #f1f1f1;\n",
       "}\n",
       "#T_ed1b9_row8_col0 {\n",
       "  background-color: #4295c3;\n",
       "  color: #f1f1f1;\n",
       "}\n",
       "#T_ed1b9_row8_col2 {\n",
       "  background-color: #f0eaf4;\n",
       "  color: #000000;\n",
       "}\n",
       "#T_ed1b9_row8_col3 {\n",
       "  background-color: #afc1dd;\n",
       "  color: #000000;\n",
       "}\n",
       "#T_ed1b9_row8_col4 {\n",
       "  background-color: #0568a3;\n",
       "  color: #f1f1f1;\n",
       "}\n",
       "#T_ed1b9_row8_col6 {\n",
       "  background-color: #89b1d4;\n",
       "  color: #000000;\n",
       "}\n",
       "#T_ed1b9_row9_col3 {\n",
       "  background-color: #d9d8ea;\n",
       "  color: #000000;\n",
       "}\n",
       "</style>\n",
       "<table id=\"T_ed1b9\">\n",
       "  <thead>\n",
       "    <tr>\n",
       "      <th class=\"blank level0\" >&nbsp;</th>\n",
       "      <th id=\"T_ed1b9_level0_col0\" class=\"col_heading level0 col0\" >GBDT0</th>\n",
       "      <th id=\"T_ed1b9_level0_col1\" class=\"col_heading level0 col1\" >GBDT1</th>\n",
       "      <th id=\"T_ed1b9_level0_col2\" class=\"col_heading level0 col2\" >GBDT2</th>\n",
       "      <th id=\"T_ed1b9_level0_col3\" class=\"col_heading level0 col3\" >GBDT4</th>\n",
       "      <th id=\"T_ed1b9_level0_col4\" class=\"col_heading level0 col4\" >GBDT6</th>\n",
       "      <th id=\"T_ed1b9_level0_col5\" class=\"col_heading level0 col5\" >GBDT8</th>\n",
       "      <th id=\"T_ed1b9_level0_col6\" class=\"col_heading level0 col6\" >GBDT10</th>\n",
       "    </tr>\n",
       "  </thead>\n",
       "  <tbody>\n",
       "    <tr>\n",
       "      <th id=\"T_ed1b9_level0_row0\" class=\"row_heading level0 row0\" >TOP20IC</th>\n",
       "      <td id=\"T_ed1b9_row0_col0\" class=\"data row0 col0\" >0.283245</td>\n",
       "      <td id=\"T_ed1b9_row0_col1\" class=\"data row0 col1\" >0.138847</td>\n",
       "      <td id=\"T_ed1b9_row0_col2\" class=\"data row0 col2\" >0.297928</td>\n",
       "      <td id=\"T_ed1b9_row0_col3\" class=\"data row0 col3\" >0.325754</td>\n",
       "      <td id=\"T_ed1b9_row0_col4\" class=\"data row0 col4\" >0.198274</td>\n",
       "      <td id=\"T_ed1b9_row0_col5\" class=\"data row0 col5\" >0.179784</td>\n",
       "      <td id=\"T_ed1b9_row0_col6\" class=\"data row0 col6\" >0.128890</td>\n",
       "    </tr>\n",
       "    <tr>\n",
       "      <th id=\"T_ed1b9_level0_row1\" class=\"row_heading level0 row1\" >TOP20WIN</th>\n",
       "      <td id=\"T_ed1b9_row1_col0\" class=\"data row1 col0\" >0.492857</td>\n",
       "      <td id=\"T_ed1b9_row1_col1\" class=\"data row1 col1\" >0.521429</td>\n",
       "      <td id=\"T_ed1b9_row1_col2\" class=\"data row1 col2\" >0.485714</td>\n",
       "      <td id=\"T_ed1b9_row1_col3\" class=\"data row1 col3\" >0.471429</td>\n",
       "      <td id=\"T_ed1b9_row1_col4\" class=\"data row1 col4\" >0.500000</td>\n",
       "      <td id=\"T_ed1b9_row1_col5\" class=\"data row1 col5\" >0.542857</td>\n",
       "      <td id=\"T_ed1b9_row1_col6\" class=\"data row1 col6\" >0.500000</td>\n",
       "    </tr>\n",
       "    <tr>\n",
       "      <th id=\"T_ed1b9_level0_row2\" class=\"row_heading level0 row2\" >0-5IC</th>\n",
       "      <td id=\"T_ed1b9_row2_col0\" class=\"data row2 col0\" >0.576081</td>\n",
       "      <td id=\"T_ed1b9_row2_col1\" class=\"data row2 col1\" >0.515946</td>\n",
       "      <td id=\"T_ed1b9_row2_col2\" class=\"data row2 col2\" >0.529748</td>\n",
       "      <td id=\"T_ed1b9_row2_col3\" class=\"data row2 col3\" >0.485526</td>\n",
       "      <td id=\"T_ed1b9_row2_col4\" class=\"data row2 col4\" >0.494829</td>\n",
       "      <td id=\"T_ed1b9_row2_col5\" class=\"data row2 col5\" >0.480605</td>\n",
       "      <td id=\"T_ed1b9_row2_col6\" class=\"data row2 col6\" >0.342633</td>\n",
       "    </tr>\n",
       "    <tr>\n",
       "      <th id=\"T_ed1b9_level0_row3\" class=\"row_heading level0 row3\" >0-5WIN</th>\n",
       "      <td id=\"T_ed1b9_row3_col0\" class=\"data row3 col0\" >0.371429</td>\n",
       "      <td id=\"T_ed1b9_row3_col1\" class=\"data row3 col1\" >0.371429</td>\n",
       "      <td id=\"T_ed1b9_row3_col2\" class=\"data row3 col2\" >0.485714</td>\n",
       "      <td id=\"T_ed1b9_row3_col3\" class=\"data row3 col3\" >0.457143</td>\n",
       "      <td id=\"T_ed1b9_row3_col4\" class=\"data row3 col4\" >0.342857</td>\n",
       "      <td id=\"T_ed1b9_row3_col5\" class=\"data row3 col5\" >0.400000</td>\n",
       "      <td id=\"T_ed1b9_row3_col6\" class=\"data row3 col6\" >0.400000</td>\n",
       "    </tr>\n",
       "    <tr>\n",
       "      <th id=\"T_ed1b9_level0_row4\" class=\"row_heading level0 row4\" >5-10IC</th>\n",
       "      <td id=\"T_ed1b9_row4_col0\" class=\"data row4 col0\" >-0.293747</td>\n",
       "      <td id=\"T_ed1b9_row4_col1\" class=\"data row4 col1\" >-0.198808</td>\n",
       "      <td id=\"T_ed1b9_row4_col2\" class=\"data row4 col2\" >-0.639140</td>\n",
       "      <td id=\"T_ed1b9_row4_col3\" class=\"data row4 col3\" >0.952562</td>\n",
       "      <td id=\"T_ed1b9_row4_col4\" class=\"data row4 col4\" >-0.906629</td>\n",
       "      <td id=\"T_ed1b9_row4_col5\" class=\"data row4 col5\" >0.365052</td>\n",
       "      <td id=\"T_ed1b9_row4_col6\" class=\"data row4 col6\" >0.428400</td>\n",
       "    </tr>\n",
       "    <tr>\n",
       "      <th id=\"T_ed1b9_level0_row5\" class=\"row_heading level0 row5\" >5-10WIN</th>\n",
       "      <td id=\"T_ed1b9_row5_col0\" class=\"data row5 col0\" >0.400000</td>\n",
       "      <td id=\"T_ed1b9_row5_col1\" class=\"data row5 col1\" >0.000000</td>\n",
       "      <td id=\"T_ed1b9_row5_col2\" class=\"data row5 col2\" >0.400000</td>\n",
       "      <td id=\"T_ed1b9_row5_col3\" class=\"data row5 col3\" >0.000000</td>\n",
       "      <td id=\"T_ed1b9_row5_col4\" class=\"data row5 col4\" >0.200000</td>\n",
       "      <td id=\"T_ed1b9_row5_col5\" class=\"data row5 col5\" >0.200000</td>\n",
       "      <td id=\"T_ed1b9_row5_col6\" class=\"data row5 col6\" >0.400000</td>\n",
       "    </tr>\n",
       "    <tr>\n",
       "      <th id=\"T_ed1b9_level0_row6\" class=\"row_heading level0 row6\" >10-15IC</th>\n",
       "      <td id=\"T_ed1b9_row6_col0\" class=\"data row6 col0\" >-0.655576</td>\n",
       "      <td id=\"T_ed1b9_row6_col1\" class=\"data row6 col1\" >-0.448134</td>\n",
       "      <td id=\"T_ed1b9_row6_col2\" class=\"data row6 col2\" >-0.408095</td>\n",
       "      <td id=\"T_ed1b9_row6_col3\" class=\"data row6 col3\" >0.515664</td>\n",
       "      <td id=\"T_ed1b9_row6_col4\" class=\"data row6 col4\" >-0.905053</td>\n",
       "      <td id=\"T_ed1b9_row6_col5\" class=\"data row6 col5\" >0.610657</td>\n",
       "      <td id=\"T_ed1b9_row6_col6\" class=\"data row6 col6\" >-0.872448</td>\n",
       "    </tr>\n",
       "    <tr>\n",
       "      <th id=\"T_ed1b9_level0_row7\" class=\"row_heading level0 row7\" >10-15WIN</th>\n",
       "      <td id=\"T_ed1b9_row7_col0\" class=\"data row7 col0\" >0.200000</td>\n",
       "      <td id=\"T_ed1b9_row7_col1\" class=\"data row7 col1\" >0.600000</td>\n",
       "      <td id=\"T_ed1b9_row7_col2\" class=\"data row7 col2\" >0.400000</td>\n",
       "      <td id=\"T_ed1b9_row7_col3\" class=\"data row7 col3\" >0.400000</td>\n",
       "      <td id=\"T_ed1b9_row7_col4\" class=\"data row7 col4\" >0.400000</td>\n",
       "      <td id=\"T_ed1b9_row7_col5\" class=\"data row7 col5\" >0.400000</td>\n",
       "      <td id=\"T_ed1b9_row7_col6\" class=\"data row7 col6\" >0.400000</td>\n",
       "    </tr>\n",
       "    <tr>\n",
       "      <th id=\"T_ed1b9_level0_row8\" class=\"row_heading level0 row8\" >15-20C</th>\n",
       "      <td id=\"T_ed1b9_row8_col0\" class=\"data row8 col0\" >0.218905</td>\n",
       "      <td id=\"T_ed1b9_row8_col1\" class=\"data row8 col1\" >-0.750942</td>\n",
       "      <td id=\"T_ed1b9_row8_col2\" class=\"data row8 col2\" >-0.513839</td>\n",
       "      <td id=\"T_ed1b9_row8_col3\" class=\"data row8 col3\" >0.333323</td>\n",
       "      <td id=\"T_ed1b9_row8_col4\" class=\"data row8 col4\" >0.209216</td>\n",
       "      <td id=\"T_ed1b9_row8_col5\" class=\"data row8 col5\" >-0.894879</td>\n",
       "      <td id=\"T_ed1b9_row8_col6\" class=\"data row8 col6\" >-0.033144</td>\n",
       "    </tr>\n",
       "    <tr>\n",
       "      <th id=\"T_ed1b9_level0_row9\" class=\"row_heading level0 row9\" >15-20WIN</th>\n",
       "      <td id=\"T_ed1b9_row9_col0\" class=\"data row9 col0\" >0.800000</td>\n",
       "      <td id=\"T_ed1b9_row9_col1\" class=\"data row9 col1\" >0.800000</td>\n",
       "      <td id=\"T_ed1b9_row9_col2\" class=\"data row9 col2\" >0.600000</td>\n",
       "      <td id=\"T_ed1b9_row9_col3\" class=\"data row9 col3\" >0.200000</td>\n",
       "      <td id=\"T_ed1b9_row9_col4\" class=\"data row9 col4\" >0.200000</td>\n",
       "      <td id=\"T_ed1b9_row9_col5\" class=\"data row9 col5\" >0.400000</td>\n",
       "      <td id=\"T_ed1b9_row9_col6\" class=\"data row9 col6\" >1.000000</td>\n",
       "    </tr>\n",
       "  </tbody>\n",
       "</table>\n"
      ],
      "text/plain": [
       "<pandas.io.formats.style.Styler at 0x7f51eba4dee0>"
      ]
     },
     "execution_count": 16,
     "metadata": {},
     "output_type": "execute_result"
    }
   ],
   "source": [
    "sty_report_info10 = report_info10.style.background_gradient(axis=0)\n",
    "sty_report_info10"
   ]
  },
  {
   "cell_type": "code",
   "execution_count": 17,
   "metadata": {
    "execution": {
     "iopub.execute_input": "2024-12-11T13:26:42.179091Z",
     "iopub.status.busy": "2024-12-11T13:26:42.178748Z",
     "iopub.status.idle": "2024-12-11T13:26:42.197649Z",
     "shell.execute_reply": "2024-12-11T13:26:42.197140Z"
    }
   },
   "outputs": [
    {
     "data": {
      "text/html": [
       "<style type=\"text/css\">\n",
       "#T_d24c1_row0_col0 {\n",
       "  background-color: #2d8abd;\n",
       "  color: #f1f1f1;\n",
       "}\n",
       "#T_d24c1_row0_col1 {\n",
       "  background-color: #509ac6;\n",
       "  color: #f1f1f1;\n",
       "}\n",
       "#T_d24c1_row0_col2 {\n",
       "  background-color: #056fae;\n",
       "  color: #f1f1f1;\n",
       "}\n",
       "#T_d24c1_row0_col3 {\n",
       "  background-color: #b1c2de;\n",
       "  color: #000000;\n",
       "}\n",
       "#T_d24c1_row0_col4, #T_d24c1_row1_col0, #T_d24c1_row5_col4, #T_d24c1_row9_col4 {\n",
       "  background-color: #0569a5;\n",
       "  color: #f1f1f1;\n",
       "}\n",
       "#T_d24c1_row0_col5 {\n",
       "  background-color: #1379b5;\n",
       "  color: #f1f1f1;\n",
       "}\n",
       "#T_d24c1_row0_col6 {\n",
       "  background-color: #63a2cb;\n",
       "  color: #f1f1f1;\n",
       "}\n",
       "#T_d24c1_row1_col1 {\n",
       "  background-color: #04639b;\n",
       "  color: #f1f1f1;\n",
       "}\n",
       "#T_d24c1_row1_col2, #T_d24c1_row3_col2 {\n",
       "  background-color: #03517e;\n",
       "  color: #f1f1f1;\n",
       "}\n",
       "#T_d24c1_row1_col3 {\n",
       "  background-color: #76aad0;\n",
       "  color: #f1f1f1;\n",
       "}\n",
       "#T_d24c1_row1_col4, #T_d24c1_row2_col4, #T_d24c1_row4_col3, #T_d24c1_row6_col5, #T_d24c1_row9_col0, #T_d24c1_row9_col1, #T_d24c1_row9_col2, #T_d24c1_row9_col6 {\n",
       "  background-color: #023858;\n",
       "  color: #f1f1f1;\n",
       "}\n",
       "#T_d24c1_row1_col5 {\n",
       "  background-color: #03446a;\n",
       "  color: #f1f1f1;\n",
       "}\n",
       "#T_d24c1_row1_col6 {\n",
       "  background-color: #0c74b2;\n",
       "  color: #f1f1f1;\n",
       "}\n",
       "#T_d24c1_row2_col0 {\n",
       "  background-color: #045f95;\n",
       "  color: #f1f1f1;\n",
       "}\n",
       "#T_d24c1_row2_col1 {\n",
       "  background-color: #04649d;\n",
       "  color: #f1f1f1;\n",
       "}\n",
       "#T_d24c1_row2_col2 {\n",
       "  background-color: #03476f;\n",
       "  color: #f1f1f1;\n",
       "}\n",
       "#T_d24c1_row2_col3 {\n",
       "  background-color: #6fa7ce;\n",
       "  color: #f1f1f1;\n",
       "}\n",
       "#T_d24c1_row2_col5 {\n",
       "  background-color: #034f7d;\n",
       "  color: #f1f1f1;\n",
       "}\n",
       "#T_d24c1_row2_col6 {\n",
       "  background-color: #2c89bd;\n",
       "  color: #f1f1f1;\n",
       "}\n",
       "#T_d24c1_row3_col0 {\n",
       "  background-color: #167bb6;\n",
       "  color: #f1f1f1;\n",
       "}\n",
       "#T_d24c1_row3_col1, #T_d24c1_row5_col0 {\n",
       "  background-color: #0f76b3;\n",
       "  color: #f1f1f1;\n",
       "}\n",
       "#T_d24c1_row3_col3 {\n",
       "  background-color: #7dacd1;\n",
       "  color: #f1f1f1;\n",
       "}\n",
       "#T_d24c1_row3_col4 {\n",
       "  background-color: #045687;\n",
       "  color: #f1f1f1;\n",
       "}\n",
       "#T_d24c1_row3_col5, #T_d24c1_row7_col5, #T_d24c1_row9_col5 {\n",
       "  background-color: #045c90;\n",
       "  color: #f1f1f1;\n",
       "}\n",
       "#T_d24c1_row3_col6, #T_d24c1_row5_col6, #T_d24c1_row7_col6 {\n",
       "  background-color: #2182b9;\n",
       "  color: #f1f1f1;\n",
       "}\n",
       "#T_d24c1_row4_col0 {\n",
       "  background-color: #d1d2e6;\n",
       "  color: #000000;\n",
       "}\n",
       "#T_d24c1_row4_col1 {\n",
       "  background-color: #acc0dd;\n",
       "  color: #000000;\n",
       "}\n",
       "#T_d24c1_row4_col2, #T_d24c1_row4_col4, #T_d24c1_row5_col3, #T_d24c1_row6_col0, #T_d24c1_row6_col4, #T_d24c1_row6_col6, #T_d24c1_row8_col1, #T_d24c1_row8_col5 {\n",
       "  background-color: #fff7fb;\n",
       "  color: #000000;\n",
       "}\n",
       "#T_d24c1_row4_col5, #T_d24c1_row5_col2, #T_d24c1_row7_col2 {\n",
       "  background-color: #046097;\n",
       "  color: #f1f1f1;\n",
       "}\n",
       "#T_d24c1_row4_col6 {\n",
       "  background-color: #1b7eb7;\n",
       "  color: #f1f1f1;\n",
       "}\n",
       "#T_d24c1_row5_col1 {\n",
       "  background-color: #7bacd1;\n",
       "  color: #f1f1f1;\n",
       "}\n",
       "#T_d24c1_row5_col5 {\n",
       "  background-color: #0d75b3;\n",
       "  color: #f1f1f1;\n",
       "}\n",
       "#T_d24c1_row6_col1 {\n",
       "  background-color: #dddbec;\n",
       "  color: #000000;\n",
       "}\n",
       "#T_d24c1_row6_col2 {\n",
       "  background-color: #dfddec;\n",
       "  color: #000000;\n",
       "}\n",
       "#T_d24c1_row6_col3 {\n",
       "  background-color: #60a1ca;\n",
       "  color: #f1f1f1;\n",
       "}\n",
       "#T_d24c1_row7_col0 {\n",
       "  background-color: #4897c4;\n",
       "  color: #f1f1f1;\n",
       "}\n",
       "#T_d24c1_row7_col1 {\n",
       "  background-color: #045b8e;\n",
       "  color: #f1f1f1;\n",
       "}\n",
       "#T_d24c1_row7_col3 {\n",
       "  background-color: #94b6d7;\n",
       "  color: #000000;\n",
       "}\n",
       "#T_d24c1_row7_col4 {\n",
       "  background-color: #034b76;\n",
       "  color: #f1f1f1;\n",
       "}\n",
       "#T_d24c1_row8_col0 {\n",
       "  background-color: #4295c3;\n",
       "  color: #f1f1f1;\n",
       "}\n",
       "#T_d24c1_row8_col2 {\n",
       "  background-color: #f0eaf4;\n",
       "  color: #000000;\n",
       "}\n",
       "#T_d24c1_row8_col3 {\n",
       "  background-color: #afc1dd;\n",
       "  color: #000000;\n",
       "}\n",
       "#T_d24c1_row8_col4 {\n",
       "  background-color: #0568a3;\n",
       "  color: #f1f1f1;\n",
       "}\n",
       "#T_d24c1_row8_col6 {\n",
       "  background-color: #89b1d4;\n",
       "  color: #000000;\n",
       "}\n",
       "#T_d24c1_row9_col3 {\n",
       "  background-color: #d9d8ea;\n",
       "  color: #000000;\n",
       "}\n",
       "</style>\n",
       "<table id=\"T_d24c1\">\n",
       "  <thead>\n",
       "    <tr>\n",
       "      <th class=\"blank level0\" >&nbsp;</th>\n",
       "      <th id=\"T_d24c1_level0_col0\" class=\"col_heading level0 col0\" >GBDT0</th>\n",
       "      <th id=\"T_d24c1_level0_col1\" class=\"col_heading level0 col1\" >GBDT1</th>\n",
       "      <th id=\"T_d24c1_level0_col2\" class=\"col_heading level0 col2\" >GBDT2</th>\n",
       "      <th id=\"T_d24c1_level0_col3\" class=\"col_heading level0 col3\" >GBDT4</th>\n",
       "      <th id=\"T_d24c1_level0_col4\" class=\"col_heading level0 col4\" >GBDT6</th>\n",
       "      <th id=\"T_d24c1_level0_col5\" class=\"col_heading level0 col5\" >GBDT8</th>\n",
       "      <th id=\"T_d24c1_level0_col6\" class=\"col_heading level0 col6\" >GBDT10</th>\n",
       "    </tr>\n",
       "  </thead>\n",
       "  <tbody>\n",
       "    <tr>\n",
       "      <th id=\"T_d24c1_level0_row0\" class=\"row_heading level0 row0\" >TOP20IC</th>\n",
       "      <td id=\"T_d24c1_row0_col0\" class=\"data row0 col0\" >0.283245</td>\n",
       "      <td id=\"T_d24c1_row0_col1\" class=\"data row0 col1\" >0.138847</td>\n",
       "      <td id=\"T_d24c1_row0_col2\" class=\"data row0 col2\" >0.297928</td>\n",
       "      <td id=\"T_d24c1_row0_col3\" class=\"data row0 col3\" >0.325754</td>\n",
       "      <td id=\"T_d24c1_row0_col4\" class=\"data row0 col4\" >0.198274</td>\n",
       "      <td id=\"T_d24c1_row0_col5\" class=\"data row0 col5\" >0.179784</td>\n",
       "      <td id=\"T_d24c1_row0_col6\" class=\"data row0 col6\" >0.128890</td>\n",
       "    </tr>\n",
       "    <tr>\n",
       "      <th id=\"T_d24c1_level0_row1\" class=\"row_heading level0 row1\" >TOP20WIN</th>\n",
       "      <td id=\"T_d24c1_row1_col0\" class=\"data row1 col0\" >0.492857</td>\n",
       "      <td id=\"T_d24c1_row1_col1\" class=\"data row1 col1\" >0.521429</td>\n",
       "      <td id=\"T_d24c1_row1_col2\" class=\"data row1 col2\" >0.485714</td>\n",
       "      <td id=\"T_d24c1_row1_col3\" class=\"data row1 col3\" >0.471429</td>\n",
       "      <td id=\"T_d24c1_row1_col4\" class=\"data row1 col4\" >0.500000</td>\n",
       "      <td id=\"T_d24c1_row1_col5\" class=\"data row1 col5\" >0.542857</td>\n",
       "      <td id=\"T_d24c1_row1_col6\" class=\"data row1 col6\" >0.500000</td>\n",
       "    </tr>\n",
       "    <tr>\n",
       "      <th id=\"T_d24c1_level0_row2\" class=\"row_heading level0 row2\" >0-5IC</th>\n",
       "      <td id=\"T_d24c1_row2_col0\" class=\"data row2 col0\" >0.576081</td>\n",
       "      <td id=\"T_d24c1_row2_col1\" class=\"data row2 col1\" >0.515946</td>\n",
       "      <td id=\"T_d24c1_row2_col2\" class=\"data row2 col2\" >0.529748</td>\n",
       "      <td id=\"T_d24c1_row2_col3\" class=\"data row2 col3\" >0.485526</td>\n",
       "      <td id=\"T_d24c1_row2_col4\" class=\"data row2 col4\" >0.494829</td>\n",
       "      <td id=\"T_d24c1_row2_col5\" class=\"data row2 col5\" >0.480605</td>\n",
       "      <td id=\"T_d24c1_row2_col6\" class=\"data row2 col6\" >0.342633</td>\n",
       "    </tr>\n",
       "    <tr>\n",
       "      <th id=\"T_d24c1_level0_row3\" class=\"row_heading level0 row3\" >0-5WIN</th>\n",
       "      <td id=\"T_d24c1_row3_col0\" class=\"data row3 col0\" >0.371429</td>\n",
       "      <td id=\"T_d24c1_row3_col1\" class=\"data row3 col1\" >0.371429</td>\n",
       "      <td id=\"T_d24c1_row3_col2\" class=\"data row3 col2\" >0.485714</td>\n",
       "      <td id=\"T_d24c1_row3_col3\" class=\"data row3 col3\" >0.457143</td>\n",
       "      <td id=\"T_d24c1_row3_col4\" class=\"data row3 col4\" >0.342857</td>\n",
       "      <td id=\"T_d24c1_row3_col5\" class=\"data row3 col5\" >0.400000</td>\n",
       "      <td id=\"T_d24c1_row3_col6\" class=\"data row3 col6\" >0.400000</td>\n",
       "    </tr>\n",
       "    <tr>\n",
       "      <th id=\"T_d24c1_level0_row4\" class=\"row_heading level0 row4\" >5-10IC</th>\n",
       "      <td id=\"T_d24c1_row4_col0\" class=\"data row4 col0\" >-0.293747</td>\n",
       "      <td id=\"T_d24c1_row4_col1\" class=\"data row4 col1\" >-0.198808</td>\n",
       "      <td id=\"T_d24c1_row4_col2\" class=\"data row4 col2\" >-0.639140</td>\n",
       "      <td id=\"T_d24c1_row4_col3\" class=\"data row4 col3\" >0.952562</td>\n",
       "      <td id=\"T_d24c1_row4_col4\" class=\"data row4 col4\" >-0.906629</td>\n",
       "      <td id=\"T_d24c1_row4_col5\" class=\"data row4 col5\" >0.365052</td>\n",
       "      <td id=\"T_d24c1_row4_col6\" class=\"data row4 col6\" >0.428400</td>\n",
       "    </tr>\n",
       "    <tr>\n",
       "      <th id=\"T_d24c1_level0_row5\" class=\"row_heading level0 row5\" >5-10WIN</th>\n",
       "      <td id=\"T_d24c1_row5_col0\" class=\"data row5 col0\" >0.400000</td>\n",
       "      <td id=\"T_d24c1_row5_col1\" class=\"data row5 col1\" >0.000000</td>\n",
       "      <td id=\"T_d24c1_row5_col2\" class=\"data row5 col2\" >0.400000</td>\n",
       "      <td id=\"T_d24c1_row5_col3\" class=\"data row5 col3\" >0.000000</td>\n",
       "      <td id=\"T_d24c1_row5_col4\" class=\"data row5 col4\" >0.200000</td>\n",
       "      <td id=\"T_d24c1_row5_col5\" class=\"data row5 col5\" >0.200000</td>\n",
       "      <td id=\"T_d24c1_row5_col6\" class=\"data row5 col6\" >0.400000</td>\n",
       "    </tr>\n",
       "    <tr>\n",
       "      <th id=\"T_d24c1_level0_row6\" class=\"row_heading level0 row6\" >10-15IC</th>\n",
       "      <td id=\"T_d24c1_row6_col0\" class=\"data row6 col0\" >-0.655576</td>\n",
       "      <td id=\"T_d24c1_row6_col1\" class=\"data row6 col1\" >-0.448134</td>\n",
       "      <td id=\"T_d24c1_row6_col2\" class=\"data row6 col2\" >-0.408095</td>\n",
       "      <td id=\"T_d24c1_row6_col3\" class=\"data row6 col3\" >0.515664</td>\n",
       "      <td id=\"T_d24c1_row6_col4\" class=\"data row6 col4\" >-0.905053</td>\n",
       "      <td id=\"T_d24c1_row6_col5\" class=\"data row6 col5\" >0.610657</td>\n",
       "      <td id=\"T_d24c1_row6_col6\" class=\"data row6 col6\" >-0.872448</td>\n",
       "    </tr>\n",
       "    <tr>\n",
       "      <th id=\"T_d24c1_level0_row7\" class=\"row_heading level0 row7\" >10-15WIN</th>\n",
       "      <td id=\"T_d24c1_row7_col0\" class=\"data row7 col0\" >0.200000</td>\n",
       "      <td id=\"T_d24c1_row7_col1\" class=\"data row7 col1\" >0.600000</td>\n",
       "      <td id=\"T_d24c1_row7_col2\" class=\"data row7 col2\" >0.400000</td>\n",
       "      <td id=\"T_d24c1_row7_col3\" class=\"data row7 col3\" >0.400000</td>\n",
       "      <td id=\"T_d24c1_row7_col4\" class=\"data row7 col4\" >0.400000</td>\n",
       "      <td id=\"T_d24c1_row7_col5\" class=\"data row7 col5\" >0.400000</td>\n",
       "      <td id=\"T_d24c1_row7_col6\" class=\"data row7 col6\" >0.400000</td>\n",
       "    </tr>\n",
       "    <tr>\n",
       "      <th id=\"T_d24c1_level0_row8\" class=\"row_heading level0 row8\" >15-20C</th>\n",
       "      <td id=\"T_d24c1_row8_col0\" class=\"data row8 col0\" >0.218905</td>\n",
       "      <td id=\"T_d24c1_row8_col1\" class=\"data row8 col1\" >-0.750942</td>\n",
       "      <td id=\"T_d24c1_row8_col2\" class=\"data row8 col2\" >-0.513839</td>\n",
       "      <td id=\"T_d24c1_row8_col3\" class=\"data row8 col3\" >0.333323</td>\n",
       "      <td id=\"T_d24c1_row8_col4\" class=\"data row8 col4\" >0.209216</td>\n",
       "      <td id=\"T_d24c1_row8_col5\" class=\"data row8 col5\" >-0.894879</td>\n",
       "      <td id=\"T_d24c1_row8_col6\" class=\"data row8 col6\" >-0.033144</td>\n",
       "    </tr>\n",
       "    <tr>\n",
       "      <th id=\"T_d24c1_level0_row9\" class=\"row_heading level0 row9\" >15-20WIN</th>\n",
       "      <td id=\"T_d24c1_row9_col0\" class=\"data row9 col0\" >0.800000</td>\n",
       "      <td id=\"T_d24c1_row9_col1\" class=\"data row9 col1\" >0.800000</td>\n",
       "      <td id=\"T_d24c1_row9_col2\" class=\"data row9 col2\" >0.600000</td>\n",
       "      <td id=\"T_d24c1_row9_col3\" class=\"data row9 col3\" >0.200000</td>\n",
       "      <td id=\"T_d24c1_row9_col4\" class=\"data row9 col4\" >0.200000</td>\n",
       "      <td id=\"T_d24c1_row9_col5\" class=\"data row9 col5\" >0.400000</td>\n",
       "      <td id=\"T_d24c1_row9_col6\" class=\"data row9 col6\" >1.000000</td>\n",
       "    </tr>\n",
       "  </tbody>\n",
       "</table>\n"
      ],
      "text/plain": [
       "<pandas.io.formats.style.Styler at 0x7f51eba4d340>"
      ]
     },
     "execution_count": 17,
     "metadata": {},
     "output_type": "execute_result"
    }
   ],
   "source": [
    "sty_report_info20 = report_info20.style.background_gradient(axis=0)\n",
    "sty_report_info20"
   ]
  },
  {
   "cell_type": "code",
   "execution_count": 18,
   "metadata": {
    "execution": {
     "iopub.execute_input": "2024-12-11T13:26:42.202406Z",
     "iopub.status.busy": "2024-12-11T13:26:42.202081Z",
     "iopub.status.idle": "2024-12-11T13:26:42.205371Z",
     "shell.execute_reply": "2024-12-11T13:26:42.204770Z"
    }
   },
   "outputs": [],
   "source": [
    "color_lst = [n for n in report_pos.columns if n not in ['close']]\n",
    "# color_lst"
   ]
  },
  {
   "cell_type": "code",
   "execution_count": 19,
   "metadata": {
    "execution": {
     "iopub.execute_input": "2024-12-11T13:26:42.208245Z",
     "iopub.status.busy": "2024-12-11T13:26:42.207939Z",
     "iopub.status.idle": "2024-12-11T13:26:42.233909Z",
     "shell.execute_reply": "2024-12-11T13:26:42.233297Z"
    }
   },
   "outputs": [
    {
     "data": {
      "text/html": [
       "<style type=\"text/css\">\n",
       "#T_183e1_row0_col0, #T_183e1_row0_col2, #T_183e1_row0_col3, #T_183e1_row0_col4, #T_183e1_row0_col7, #T_183e1_row0_col9, #T_183e1_row1_col5, #T_183e1_row1_col6, #T_183e1_row2_col1, #T_183e1_row2_col8 {\n",
       "  background-color: #08306b;\n",
       "  color: #f1f1f1;\n",
       "}\n",
       "#T_183e1_row0_col1, #T_183e1_row0_col8, #T_183e1_row4_col0, #T_183e1_row4_col2, #T_183e1_row4_col3, #T_183e1_row4_col4, #T_183e1_row4_col5, #T_183e1_row4_col6, #T_183e1_row4_col7, #T_183e1_row4_col9 {\n",
       "  background-color: #f7fbff;\n",
       "  color: #000000;\n",
       "}\n",
       "#T_183e1_row0_col5 {\n",
       "  background-color: #0c56a0;\n",
       "  color: #f1f1f1;\n",
       "}\n",
       "#T_183e1_row0_col6 {\n",
       "  background-color: #084387;\n",
       "  color: #f1f1f1;\n",
       "}\n",
       "#T_183e1_row1_col0 {\n",
       "  background-color: #58a1cf;\n",
       "  color: #f1f1f1;\n",
       "}\n",
       "#T_183e1_row1_col1 {\n",
       "  background-color: #a1cbe2;\n",
       "  color: #000000;\n",
       "}\n",
       "#T_183e1_row1_col2 {\n",
       "  background-color: #083a7a;\n",
       "  color: #f1f1f1;\n",
       "}\n",
       "#T_183e1_row1_col3 {\n",
       "  background-color: #3888c1;\n",
       "  color: #f1f1f1;\n",
       "}\n",
       "#T_183e1_row1_col4 {\n",
       "  background-color: #2272b6;\n",
       "  color: #f1f1f1;\n",
       "}\n",
       "#T_183e1_row1_col7 {\n",
       "  background-color: #084990;\n",
       "  color: #f1f1f1;\n",
       "}\n",
       "#T_183e1_row1_col8, #T_183e1_row4_col8 {\n",
       "  background-color: #d5e5f4;\n",
       "  color: #000000;\n",
       "}\n",
       "#T_183e1_row1_col9 {\n",
       "  background-color: #0d57a1;\n",
       "  color: #f1f1f1;\n",
       "}\n",
       "#T_183e1_row2_col0 {\n",
       "  background-color: #4b98ca;\n",
       "  color: #f1f1f1;\n",
       "}\n",
       "#T_183e1_row2_col2 {\n",
       "  background-color: #4997c9;\n",
       "  color: #f1f1f1;\n",
       "}\n",
       "#T_183e1_row2_col3 {\n",
       "  background-color: #539ecd;\n",
       "  color: #f1f1f1;\n",
       "}\n",
       "#T_183e1_row2_col4 {\n",
       "  background-color: #083c7d;\n",
       "  color: #f1f1f1;\n",
       "}\n",
       "#T_183e1_row2_col5 {\n",
       "  background-color: #206fb4;\n",
       "  color: #f1f1f1;\n",
       "}\n",
       "#T_183e1_row2_col6 {\n",
       "  background-color: #4896c8;\n",
       "  color: #f1f1f1;\n",
       "}\n",
       "#T_183e1_row2_col7 {\n",
       "  background-color: #2d7dbb;\n",
       "  color: #f1f1f1;\n",
       "}\n",
       "#T_183e1_row2_col9 {\n",
       "  background-color: #3686c0;\n",
       "  color: #f1f1f1;\n",
       "}\n",
       "#T_183e1_row3_col0 {\n",
       "  background-color: #75b4d8;\n",
       "  color: #000000;\n",
       "}\n",
       "#T_183e1_row3_col1 {\n",
       "  background-color: #b9d6ea;\n",
       "  color: #000000;\n",
       "}\n",
       "#T_183e1_row3_col2 {\n",
       "  background-color: #3989c1;\n",
       "  color: #f1f1f1;\n",
       "}\n",
       "#T_183e1_row3_col3 {\n",
       "  background-color: #529dcc;\n",
       "  color: #f1f1f1;\n",
       "}\n",
       "#T_183e1_row3_col4 {\n",
       "  background-color: #2474b7;\n",
       "  color: #f1f1f1;\n",
       "}\n",
       "#T_183e1_row3_col5 {\n",
       "  background-color: #125ea6;\n",
       "  color: #f1f1f1;\n",
       "}\n",
       "#T_183e1_row3_col6 {\n",
       "  background-color: #2777b8;\n",
       "  color: #f1f1f1;\n",
       "}\n",
       "#T_183e1_row3_col7 {\n",
       "  background-color: #2e7ebc;\n",
       "  color: #f1f1f1;\n",
       "}\n",
       "#T_183e1_row3_col8 {\n",
       "  background-color: #2b7bba;\n",
       "  color: #f1f1f1;\n",
       "}\n",
       "#T_183e1_row3_col9 {\n",
       "  background-color: #3787c0;\n",
       "  color: #f1f1f1;\n",
       "}\n",
       "#T_183e1_row4_col1 {\n",
       "  background-color: #4493c7;\n",
       "  color: #f1f1f1;\n",
       "}\n",
       "</style>\n",
       "<table id=\"T_183e1\">\n",
       "  <thead>\n",
       "    <tr>\n",
       "      <th class=\"blank level0\" >&nbsp;</th>\n",
       "      <th id=\"T_183e1_level0_col0\" class=\"col_heading level0 col0\" >GBDT0</th>\n",
       "      <th id=\"T_183e1_level0_col1\" class=\"col_heading level0 col1\" >GBDT1</th>\n",
       "      <th id=\"T_183e1_level0_col2\" class=\"col_heading level0 col2\" >GBDT2</th>\n",
       "      <th id=\"T_183e1_level0_col3\" class=\"col_heading level0 col3\" >GBDT4</th>\n",
       "      <th id=\"T_183e1_level0_col4\" class=\"col_heading level0 col4\" >GBDT6</th>\n",
       "      <th id=\"T_183e1_level0_col5\" class=\"col_heading level0 col5\" >GBDT8</th>\n",
       "      <th id=\"T_183e1_level0_col6\" class=\"col_heading level0 col6\" >GBDT10</th>\n",
       "      <th id=\"T_183e1_level0_col7\" class=\"col_heading level0 col7\" >mean</th>\n",
       "      <th id=\"T_183e1_level0_col8\" class=\"col_heading level0 col8\" >std</th>\n",
       "      <th id=\"T_183e1_level0_col9\" class=\"col_heading level0 col9\" >score</th>\n",
       "      <th id=\"T_183e1_level0_col10\" class=\"col_heading level0 col10\" >close</th>\n",
       "    </tr>\n",
       "    <tr>\n",
       "      <th class=\"index_name level0\" >instrument</th>\n",
       "      <th class=\"blank col0\" >&nbsp;</th>\n",
       "      <th class=\"blank col1\" >&nbsp;</th>\n",
       "      <th class=\"blank col2\" >&nbsp;</th>\n",
       "      <th class=\"blank col3\" >&nbsp;</th>\n",
       "      <th class=\"blank col4\" >&nbsp;</th>\n",
       "      <th class=\"blank col5\" >&nbsp;</th>\n",
       "      <th class=\"blank col6\" >&nbsp;</th>\n",
       "      <th class=\"blank col7\" >&nbsp;</th>\n",
       "      <th class=\"blank col8\" >&nbsp;</th>\n",
       "      <th class=\"blank col9\" >&nbsp;</th>\n",
       "      <th class=\"blank col10\" >&nbsp;</th>\n",
       "    </tr>\n",
       "  </thead>\n",
       "  <tbody>\n",
       "    <tr>\n",
       "      <th id=\"T_183e1_level0_row0\" class=\"row_heading level0 row0\" >SH600104</th>\n",
       "      <td id=\"T_183e1_row0_col0\" class=\"data row0 col0\" >-0.098783</td>\n",
       "      <td id=\"T_183e1_row0_col1\" class=\"data row0 col1\" >0.063942</td>\n",
       "      <td id=\"T_183e1_row0_col2\" class=\"data row0 col2\" >-0.209102</td>\n",
       "      <td id=\"T_183e1_row0_col3\" class=\"data row0 col3\" >-0.251170</td>\n",
       "      <td id=\"T_183e1_row0_col4\" class=\"data row0 col4\" >-0.066828</td>\n",
       "      <td id=\"T_183e1_row0_col5\" class=\"data row0 col5\" >-0.077364</td>\n",
       "      <td id=\"T_183e1_row0_col6\" class=\"data row0 col6\" >-0.184406</td>\n",
       "      <td id=\"T_183e1_row0_col7\" class=\"data row0 col7\" >-0.117673</td>\n",
       "      <td id=\"T_183e1_row0_col8\" class=\"data row0 col8\" >0.098695</td>\n",
       "      <td id=\"T_183e1_row0_col9\" class=\"data row0 col9\" >-0.214146</td>\n",
       "      <td id=\"T_183e1_row0_col10\" class=\"data row0 col10\" >17.719999</td>\n",
       "    </tr>\n",
       "    <tr>\n",
       "      <th id=\"T_183e1_level0_row1\" class=\"row_heading level0 row1\" >SH600570</th>\n",
       "      <td id=\"T_183e1_row1_col0\" class=\"data row1 col0\" >-0.036488</td>\n",
       "      <td id=\"T_183e1_row1_col1\" class=\"data row1 col1\" >0.034446</td>\n",
       "      <td id=\"T_183e1_row1_col2\" class=\"data row1 col2\" >-0.193811</td>\n",
       "      <td id=\"T_183e1_row1_col3\" class=\"data row1 col3\" >-0.106501</td>\n",
       "      <td id=\"T_183e1_row1_col4\" class=\"data row1 col4\" >-0.030736</td>\n",
       "      <td id=\"T_183e1_row1_col5\" class=\"data row1 col5\" >-0.110654</td>\n",
       "      <td id=\"T_183e1_row1_col6\" class=\"data row1 col6\" >-0.220868</td>\n",
       "      <td id=\"T_183e1_row1_col7\" class=\"data row1 col7\" >-0.094945</td>\n",
       "      <td id=\"T_183e1_row1_col8\" class=\"data row1 col8\" >0.084763</td>\n",
       "      <td id=\"T_183e1_row1_col9\" class=\"data row1 col9\" >-0.152443</td>\n",
       "      <td id=\"T_183e1_row1_col10\" class=\"data row1 col10\" >30.820000</td>\n",
       "    </tr>\n",
       "    <tr>\n",
       "      <th id=\"T_183e1_level0_row2\" class=\"row_heading level0 row2\" >SH600233</th>\n",
       "      <td id=\"T_183e1_row2_col0\" class=\"data row2 col0\" >-0.042048</td>\n",
       "      <td id=\"T_183e1_row2_col1\" class=\"data row2 col1\" >-0.016691</td>\n",
       "      <td id=\"T_183e1_row2_col2\" class=\"data row2 col2\" >-0.062771</td>\n",
       "      <td id=\"T_183e1_row2_col3\" class=\"data row2 col3\" >-0.067090</td>\n",
       "      <td id=\"T_183e1_row2_col4\" class=\"data row2 col4\" >-0.059841</td>\n",
       "      <td id=\"T_183e1_row2_col5\" class=\"data row2 col5\" >-0.055254</td>\n",
       "      <td id=\"T_183e1_row2_col6\" class=\"data row2 col6\" >-0.023180</td>\n",
       "      <td id=\"T_183e1_row2_col7\" class=\"data row2 col7\" >-0.046696</td>\n",
       "      <td id=\"T_183e1_row2_col8\" class=\"data row2 col8\" >0.018498</td>\n",
       "      <td id=\"T_183e1_row2_col9\" class=\"data row2 col9\" >-0.079570</td>\n",
       "      <td id=\"T_183e1_row2_col10\" class=\"data row2 col10\" >14.579999</td>\n",
       "    </tr>\n",
       "    <tr>\n",
       "      <th id=\"T_183e1_level0_row3\" class=\"row_heading level0 row3\" >SH600588</th>\n",
       "      <td id=\"T_183e1_row3_col0\" class=\"data row3 col0\" >-0.024862</td>\n",
       "      <td id=\"T_183e1_row3_col1\" class=\"data row3 col1\" >0.040568</td>\n",
       "      <td id=\"T_183e1_row3_col2\" class=\"data row3 col2\" >-0.083755</td>\n",
       "      <td id=\"T_183e1_row3_col3\" class=\"data row3 col3\" >-0.069144</td>\n",
       "      <td id=\"T_183e1_row3_col4\" class=\"data row3 col4\" >-0.029930</td>\n",
       "      <td id=\"T_183e1_row3_col5\" class=\"data row3 col5\" >-0.070510</td>\n",
       "      <td id=\"T_183e1_row3_col6\" class=\"data row3 col6\" >-0.081709</td>\n",
       "      <td id=\"T_183e1_row3_col7\" class=\"data row3 col7\" >-0.045620</td>\n",
       "      <td id=\"T_183e1_row3_col8\" class=\"data row3 col8\" >0.041464</td>\n",
       "      <td id=\"T_183e1_row3_col9\" class=\"data row3 col9\" >-0.078029</td>\n",
       "      <td id=\"T_183e1_row3_col10\" class=\"data row3 col10\" >12.540000</td>\n",
       "    </tr>\n",
       "    <tr>\n",
       "      <th id=\"T_183e1_level0_row4\" class=\"row_heading level0 row4\" >SZ002459</th>\n",
       "      <td id=\"T_183e1_row4_col0\" class=\"data row4 col0\" >0.042205</td>\n",
       "      <td id=\"T_183e1_row4_col1\" class=\"data row4 col1\" >0.014162</td>\n",
       "      <td id=\"T_183e1_row4_col2\" class=\"data row4 col2\" >0.159591</td>\n",
       "      <td id=\"T_183e1_row4_col3\" class=\"data row4 col3\" >0.177756</td>\n",
       "      <td id=\"T_183e1_row4_col4\" class=\"data row4 col4\" >0.073762</td>\n",
       "      <td id=\"T_183e1_row4_col5\" class=\"data row4 col5\" >0.117429</td>\n",
       "      <td id=\"T_183e1_row4_col6\" class=\"data row4 col6\" >0.281943</td>\n",
       "      <td id=\"T_183e1_row4_col7\" class=\"data row4 col7\" >0.123836</td>\n",
       "      <td id=\"T_183e1_row4_col8\" class=\"data row4 col8\" >0.084873</td>\n",
       "      <td id=\"T_183e1_row4_col9\" class=\"data row4 col9\" >0.191449</td>\n",
       "      <td id=\"T_183e1_row4_col10\" class=\"data row4 col10\" >15.669999</td>\n",
       "    </tr>\n",
       "  </tbody>\n",
       "</table>\n"
      ],
      "text/plain": [
       "<pandas.io.formats.style.Styler at 0x7f51eba4d400>"
      ]
     },
     "execution_count": 19,
     "metadata": {},
     "output_type": "execute_result"
    }
   ],
   "source": [
    "sty_report_pos = report_pos.style.background_gradient(cmap='Blues_r', subset=color_lst)\n",
    "sty_report_pos"
   ]
  },
  {
   "cell_type": "code",
   "execution_count": 20,
   "metadata": {
    "execution": {
     "iopub.execute_input": "2024-12-11T13:26:42.236762Z",
     "iopub.status.busy": "2024-12-11T13:26:42.236411Z",
     "iopub.status.idle": "2024-12-11T13:26:42.240316Z",
     "shell.execute_reply": "2024-12-11T13:26:42.239793Z"
    }
   },
   "outputs": [],
   "source": [
    "sty_report_top0 = report_top.head(10).style.background_gradient(axis=0, subset=color_lst)\n",
    "sty_report_top1 = report_top.tail(10).style.background_gradient(axis=0, subset=color_lst)"
   ]
  },
  {
   "cell_type": "code",
   "execution_count": 21,
   "metadata": {
    "execution": {
     "iopub.execute_input": "2024-12-11T13:26:42.242975Z",
     "iopub.status.busy": "2024-12-11T13:26:42.242642Z",
     "iopub.status.idle": "2024-12-11T13:26:42.267003Z",
     "shell.execute_reply": "2024-12-11T13:26:42.266468Z"
    }
   },
   "outputs": [
    {
     "data": {
      "text/html": [
       "<style type=\"text/css\">\n",
       "#T_a48ec_row0_col0 {\n",
       "  background-color: #2f8bbe;\n",
       "  color: #f1f1f1;\n",
       "}\n",
       "#T_a48ec_row0_col1 {\n",
       "  background-color: #056caa;\n",
       "  color: #f1f1f1;\n",
       "}\n",
       "#T_a48ec_row0_col2, #T_a48ec_row4_col0, #T_a48ec_row6_col1, #T_a48ec_row6_col4, #T_a48ec_row8_col3, #T_a48ec_row8_col6, #T_a48ec_row8_col8, #T_a48ec_row9_col5, #T_a48ec_row9_col7, #T_a48ec_row9_col9 {\n",
       "  background-color: #fff7fb;\n",
       "  color: #000000;\n",
       "}\n",
       "#T_a48ec_row0_col3 {\n",
       "  background-color: #045382;\n",
       "  color: #f1f1f1;\n",
       "}\n",
       "#T_a48ec_row0_col4, #T_a48ec_row0_col5, #T_a48ec_row0_col6, #T_a48ec_row0_col7, #T_a48ec_row0_col8, #T_a48ec_row0_col9, #T_a48ec_row2_col2, #T_a48ec_row4_col3, #T_a48ec_row8_col0, #T_a48ec_row8_col1 {\n",
       "  background-color: #023858;\n",
       "  color: #f1f1f1;\n",
       "}\n",
       "#T_a48ec_row1_col0, #T_a48ec_row6_col0 {\n",
       "  background-color: #3d93c2;\n",
       "  color: #f1f1f1;\n",
       "}\n",
       "#T_a48ec_row1_col1 {\n",
       "  background-color: #88b1d4;\n",
       "  color: #000000;\n",
       "}\n",
       "#T_a48ec_row1_col2 {\n",
       "  background-color: #045b8e;\n",
       "  color: #f1f1f1;\n",
       "}\n",
       "#T_a48ec_row1_col3 {\n",
       "  background-color: #045b8f;\n",
       "  color: #f1f1f1;\n",
       "}\n",
       "#T_a48ec_row1_col4 {\n",
       "  background-color: #2685bb;\n",
       "  color: #f1f1f1;\n",
       "}\n",
       "#T_a48ec_row1_col5 {\n",
       "  background-color: #589ec8;\n",
       "  color: #f1f1f1;\n",
       "}\n",
       "#T_a48ec_row1_col6 {\n",
       "  background-color: #0d75b3;\n",
       "  color: #f1f1f1;\n",
       "}\n",
       "#T_a48ec_row1_col7 {\n",
       "  background-color: #0569a4;\n",
       "  color: #f1f1f1;\n",
       "}\n",
       "#T_a48ec_row1_col8 {\n",
       "  background-color: #2786bb;\n",
       "  color: #f1f1f1;\n",
       "}\n",
       "#T_a48ec_row1_col9 {\n",
       "  background-color: #03466e;\n",
       "  color: #f1f1f1;\n",
       "}\n",
       "#T_a48ec_row2_col0 {\n",
       "  background-color: #b8c6e0;\n",
       "  color: #000000;\n",
       "}\n",
       "#T_a48ec_row2_col1 {\n",
       "  background-color: #a1bbda;\n",
       "  color: #000000;\n",
       "}\n",
       "#T_a48ec_row2_col3 {\n",
       "  background-color: #023e62;\n",
       "  color: #f1f1f1;\n",
       "}\n",
       "#T_a48ec_row2_col4 {\n",
       "  background-color: #b0c2de;\n",
       "  color: #000000;\n",
       "}\n",
       "#T_a48ec_row2_col5, #T_a48ec_row7_col8 {\n",
       "  background-color: #94b6d7;\n",
       "  color: #000000;\n",
       "}\n",
       "#T_a48ec_row2_col6 {\n",
       "  background-color: #0570b0;\n",
       "  color: #f1f1f1;\n",
       "}\n",
       "#T_a48ec_row2_col7 {\n",
       "  background-color: #1b7eb7;\n",
       "  color: #f1f1f1;\n",
       "}\n",
       "#T_a48ec_row2_col8 {\n",
       "  background-color: #056ba7;\n",
       "  color: #f1f1f1;\n",
       "}\n",
       "#T_a48ec_row2_col9 {\n",
       "  background-color: #045e94;\n",
       "  color: #f1f1f1;\n",
       "}\n",
       "#T_a48ec_row3_col0 {\n",
       "  background-color: #046096;\n",
       "  color: #f1f1f1;\n",
       "}\n",
       "#T_a48ec_row3_col1 {\n",
       "  background-color: #6da6cd;\n",
       "  color: #f1f1f1;\n",
       "}\n",
       "#T_a48ec_row3_col2 {\n",
       "  background-color: #0568a3;\n",
       "  color: #f1f1f1;\n",
       "}\n",
       "#T_a48ec_row3_col3 {\n",
       "  background-color: #fbf3f9;\n",
       "  color: #000000;\n",
       "}\n",
       "#T_a48ec_row3_col4, #T_a48ec_row9_col2 {\n",
       "  background-color: #3b92c1;\n",
       "  color: #f1f1f1;\n",
       "}\n",
       "#T_a48ec_row3_col5 {\n",
       "  background-color: #0567a1;\n",
       "  color: #f1f1f1;\n",
       "}\n",
       "#T_a48ec_row3_col6 {\n",
       "  background-color: #b7c5df;\n",
       "  color: #000000;\n",
       "}\n",
       "#T_a48ec_row3_col7 {\n",
       "  background-color: #91b5d6;\n",
       "  color: #000000;\n",
       "}\n",
       "#T_a48ec_row3_col8 {\n",
       "  background-color: #bcc7e1;\n",
       "  color: #000000;\n",
       "}\n",
       "#T_a48ec_row3_col9, #T_a48ec_row7_col6 {\n",
       "  background-color: #9cb9d9;\n",
       "  color: #000000;\n",
       "}\n",
       "#T_a48ec_row4_col1 {\n",
       "  background-color: #bdc8e1;\n",
       "  color: #000000;\n",
       "}\n",
       "#T_a48ec_row4_col2 {\n",
       "  background-color: #c6cce3;\n",
       "  color: #000000;\n",
       "}\n",
       "#T_a48ec_row4_col4, #T_a48ec_row4_col8 {\n",
       "  background-color: #86b0d3;\n",
       "  color: #000000;\n",
       "}\n",
       "#T_a48ec_row4_col5 {\n",
       "  background-color: #abbfdc;\n",
       "  color: #000000;\n",
       "}\n",
       "#T_a48ec_row4_col6 {\n",
       "  background-color: #b1c2de;\n",
       "  color: #000000;\n",
       "}\n",
       "#T_a48ec_row4_col7, #T_a48ec_row5_col4 {\n",
       "  background-color: #cdd0e5;\n",
       "  color: #000000;\n",
       "}\n",
       "#T_a48ec_row4_col9, #T_a48ec_row5_col9 {\n",
       "  background-color: #c8cde4;\n",
       "  color: #000000;\n",
       "}\n",
       "#T_a48ec_row5_col0 {\n",
       "  background-color: #187cb6;\n",
       "  color: #f1f1f1;\n",
       "}\n",
       "#T_a48ec_row5_col1 {\n",
       "  background-color: #04649e;\n",
       "  color: #f1f1f1;\n",
       "}\n",
       "#T_a48ec_row5_col2 {\n",
       "  background-color: #056faf;\n",
       "  color: #f1f1f1;\n",
       "}\n",
       "#T_a48ec_row5_col3, #T_a48ec_row8_col2 {\n",
       "  background-color: #0a73b2;\n",
       "  color: #f1f1f1;\n",
       "}\n",
       "#T_a48ec_row5_col5, #T_a48ec_row6_col5 {\n",
       "  background-color: #efe9f3;\n",
       "  color: #000000;\n",
       "}\n",
       "#T_a48ec_row5_col6 {\n",
       "  background-color: #fbf4f9;\n",
       "  color: #000000;\n",
       "}\n",
       "#T_a48ec_row5_col7 {\n",
       "  background-color: #e5e1ef;\n",
       "  color: #000000;\n",
       "}\n",
       "#T_a48ec_row5_col8 {\n",
       "  background-color: #f4eef6;\n",
       "  color: #000000;\n",
       "}\n",
       "#T_a48ec_row6_col2 {\n",
       "  background-color: #63a2cb;\n",
       "  color: #f1f1f1;\n",
       "}\n",
       "#T_a48ec_row6_col3 {\n",
       "  background-color: #1c7fb8;\n",
       "  color: #f1f1f1;\n",
       "}\n",
       "#T_a48ec_row6_col6 {\n",
       "  background-color: #5ea0ca;\n",
       "  color: #f1f1f1;\n",
       "}\n",
       "#T_a48ec_row6_col7 {\n",
       "  background-color: #d9d8ea;\n",
       "  color: #000000;\n",
       "}\n",
       "#T_a48ec_row6_col8 {\n",
       "  background-color: #4496c3;\n",
       "  color: #f1f1f1;\n",
       "}\n",
       "#T_a48ec_row6_col9 {\n",
       "  background-color: #dad9ea;\n",
       "  color: #000000;\n",
       "}\n",
       "#T_a48ec_row7_col0 {\n",
       "  background-color: #afc1dd;\n",
       "  color: #000000;\n",
       "}\n",
       "#T_a48ec_row7_col1 {\n",
       "  background-color: #e2dfee;\n",
       "  color: #000000;\n",
       "}\n",
       "#T_a48ec_row7_col2 {\n",
       "  background-color: #8fb4d6;\n",
       "  color: #000000;\n",
       "}\n",
       "#T_a48ec_row7_col3 {\n",
       "  background-color: #1278b4;\n",
       "  color: #f1f1f1;\n",
       "}\n",
       "#T_a48ec_row7_col4 {\n",
       "  background-color: #dbdaeb;\n",
       "  color: #000000;\n",
       "}\n",
       "#T_a48ec_row7_col5 {\n",
       "  background-color: #f2ecf5;\n",
       "  color: #000000;\n",
       "}\n",
       "#T_a48ec_row7_col7 {\n",
       "  background-color: #e8e4f0;\n",
       "  color: #000000;\n",
       "}\n",
       "#T_a48ec_row7_col9, #T_a48ec_row8_col7 {\n",
       "  background-color: #eee8f3;\n",
       "  color: #000000;\n",
       "}\n",
       "#T_a48ec_row8_col4 {\n",
       "  background-color: #e6e2ef;\n",
       "  color: #000000;\n",
       "}\n",
       "#T_a48ec_row8_col5 {\n",
       "  background-color: #5c9fc9;\n",
       "  color: #f1f1f1;\n",
       "}\n",
       "#T_a48ec_row8_col9 {\n",
       "  background-color: #f6eff7;\n",
       "  color: #000000;\n",
       "}\n",
       "#T_a48ec_row9_col0 {\n",
       "  background-color: #328dbf;\n",
       "  color: #f1f1f1;\n",
       "}\n",
       "#T_a48ec_row9_col1 {\n",
       "  background-color: #f8f1f8;\n",
       "  color: #000000;\n",
       "}\n",
       "#T_a48ec_row9_col3 {\n",
       "  background-color: #5a9ec9;\n",
       "  color: #f1f1f1;\n",
       "}\n",
       "#T_a48ec_row9_col4 {\n",
       "  background-color: #f9f2f8;\n",
       "  color: #000000;\n",
       "}\n",
       "#T_a48ec_row9_col6 {\n",
       "  background-color: #d8d7e9;\n",
       "  color: #000000;\n",
       "}\n",
       "#T_a48ec_row9_col8 {\n",
       "  background-color: #c9cee4;\n",
       "  color: #000000;\n",
       "}\n",
       "</style>\n",
       "<table id=\"T_a48ec\">\n",
       "  <thead>\n",
       "    <tr>\n",
       "      <th class=\"blank level0\" >&nbsp;</th>\n",
       "      <th id=\"T_a48ec_level0_col0\" class=\"col_heading level0 col0\" >GBDT0</th>\n",
       "      <th id=\"T_a48ec_level0_col1\" class=\"col_heading level0 col1\" >GBDT1</th>\n",
       "      <th id=\"T_a48ec_level0_col2\" class=\"col_heading level0 col2\" >GBDT2</th>\n",
       "      <th id=\"T_a48ec_level0_col3\" class=\"col_heading level0 col3\" >GBDT4</th>\n",
       "      <th id=\"T_a48ec_level0_col4\" class=\"col_heading level0 col4\" >GBDT6</th>\n",
       "      <th id=\"T_a48ec_level0_col5\" class=\"col_heading level0 col5\" >GBDT8</th>\n",
       "      <th id=\"T_a48ec_level0_col6\" class=\"col_heading level0 col6\" >GBDT10</th>\n",
       "      <th id=\"T_a48ec_level0_col7\" class=\"col_heading level0 col7\" >mean</th>\n",
       "      <th id=\"T_a48ec_level0_col8\" class=\"col_heading level0 col8\" >std</th>\n",
       "      <th id=\"T_a48ec_level0_col9\" class=\"col_heading level0 col9\" >score</th>\n",
       "      <th id=\"T_a48ec_level0_col10\" class=\"col_heading level0 col10\" >close</th>\n",
       "    </tr>\n",
       "    <tr>\n",
       "      <th class=\"index_name level0\" >instrument</th>\n",
       "      <th class=\"blank col0\" >&nbsp;</th>\n",
       "      <th class=\"blank col1\" >&nbsp;</th>\n",
       "      <th class=\"blank col2\" >&nbsp;</th>\n",
       "      <th class=\"blank col3\" >&nbsp;</th>\n",
       "      <th class=\"blank col4\" >&nbsp;</th>\n",
       "      <th class=\"blank col5\" >&nbsp;</th>\n",
       "      <th class=\"blank col6\" >&nbsp;</th>\n",
       "      <th class=\"blank col7\" >&nbsp;</th>\n",
       "      <th class=\"blank col8\" >&nbsp;</th>\n",
       "      <th class=\"blank col9\" >&nbsp;</th>\n",
       "      <th class=\"blank col10\" >&nbsp;</th>\n",
       "    </tr>\n",
       "  </thead>\n",
       "  <tbody>\n",
       "    <tr>\n",
       "      <th id=\"T_a48ec_level0_row0\" class=\"row_heading level0 row0\" >SH600732</th>\n",
       "      <td id=\"T_a48ec_row0_col0\" class=\"data row0 col0\" >0.061153</td>\n",
       "      <td id=\"T_a48ec_row0_col1\" class=\"data row0 col1\" >0.032611</td>\n",
       "      <td id=\"T_a48ec_row0_col2\" class=\"data row0 col2\" >0.058294</td>\n",
       "      <td id=\"T_a48ec_row0_col3\" class=\"data row0 col3\" >0.169086</td>\n",
       "      <td id=\"T_a48ec_row0_col4\" class=\"data row0 col4\" >0.143052</td>\n",
       "      <td id=\"T_a48ec_row0_col5\" class=\"data row0 col5\" >0.193041</td>\n",
       "      <td id=\"T_a48ec_row0_col6\" class=\"data row0 col6\" >0.341945</td>\n",
       "      <td id=\"T_a48ec_row0_col7\" class=\"data row0 col7\" >0.142740</td>\n",
       "      <td id=\"T_a48ec_row0_col8\" class=\"data row0 col8\" >0.099156</td>\n",
       "      <td id=\"T_a48ec_row0_col9\" class=\"data row0 col9\" >0.201440</td>\n",
       "      <td id=\"T_a48ec_row0_col10\" class=\"data row0 col10\" >13.550000</td>\n",
       "    </tr>\n",
       "    <tr>\n",
       "      <th id=\"T_a48ec_level0_row1\" class=\"row_heading level0 row1\" >SH600438</th>\n",
       "      <td id=\"T_a48ec_row1_col0\" class=\"data row1 col0\" >0.059130</td>\n",
       "      <td id=\"T_a48ec_row1_col1\" class=\"data row1 col1\" >0.017226</td>\n",
       "      <td id=\"T_a48ec_row1_col2\" class=\"data row1 col2\" >0.146164</td>\n",
       "      <td id=\"T_a48ec_row1_col3\" class=\"data row1 col3\" >0.165251</td>\n",
       "      <td id=\"T_a48ec_row1_col4\" class=\"data row1 col4\" >0.107720</td>\n",
       "      <td id=\"T_a48ec_row1_col5\" class=\"data row1 col5\" >0.135309</td>\n",
       "      <td id=\"T_a48ec_row1_col6\" class=\"data row1 col6\" >0.278114</td>\n",
       "      <td id=\"T_a48ec_row1_col7\" class=\"data row1 col7\" >0.129845</td>\n",
       "      <td id=\"T_a48ec_row1_col8\" class=\"data row1 col8\" >0.077189</td>\n",
       "      <td id=\"T_a48ec_row1_col9\" class=\"data row1 col9\" >0.198048</td>\n",
       "      <td id=\"T_a48ec_row1_col10\" class=\"data row1 col10\" >25.260000</td>\n",
       "    </tr>\n",
       "    <tr>\n",
       "      <th id=\"T_a48ec_level0_row2\" class=\"row_heading level0 row2\" >SZ002459</th>\n",
       "      <td id=\"T_a48ec_row2_col0\" class=\"data row2 col0\" >0.042205</td>\n",
       "      <td id=\"T_a48ec_row2_col1\" class=\"data row2 col1\" >0.014162</td>\n",
       "      <td id=\"T_a48ec_row2_col2\" class=\"data row2 col2\" >0.159591</td>\n",
       "      <td id=\"T_a48ec_row2_col3\" class=\"data row2 col3\" >0.177756</td>\n",
       "      <td id=\"T_a48ec_row2_col4\" class=\"data row2 col4\" >0.073762</td>\n",
       "      <td id=\"T_a48ec_row2_col5\" class=\"data row2 col5\" >0.117429</td>\n",
       "      <td id=\"T_a48ec_row2_col6\" class=\"data row2 col6\" >0.281943</td>\n",
       "      <td id=\"T_a48ec_row2_col7\" class=\"data row2 col7\" >0.123836</td>\n",
       "      <td id=\"T_a48ec_row2_col8\" class=\"data row2 col8\" >0.084873</td>\n",
       "      <td id=\"T_a48ec_row2_col9\" class=\"data row2 col9\" >0.191449</td>\n",
       "      <td id=\"T_a48ec_row2_col10\" class=\"data row2 col10\" >15.669999</td>\n",
       "    </tr>\n",
       "    <tr>\n",
       "      <th id=\"T_a48ec_level0_row3\" class=\"row_heading level0 row3\" >SH601100</th>\n",
       "      <td id=\"T_a48ec_row3_col0\" class=\"data row3 col0\" >0.072760</td>\n",
       "      <td id=\"T_a48ec_row3_col1\" class=\"data row3 col1\" >0.020175</td>\n",
       "      <td id=\"T_a48ec_row3_col2\" class=\"data row3 col2\" >0.138803</td>\n",
       "      <td id=\"T_a48ec_row3_col3\" class=\"data row3 col3\" >0.069400</td>\n",
       "      <td id=\"T_a48ec_row3_col4\" class=\"data row3 col4\" >0.102297</td>\n",
       "      <td id=\"T_a48ec_row3_col5\" class=\"data row3 col5\" >0.167267</td>\n",
       "      <td id=\"T_a48ec_row3_col6\" class=\"data row3 col6\" >0.182782</td>\n",
       "      <td id=\"T_a48ec_row3_col7\" class=\"data row3 col7\" >0.107640</td>\n",
       "      <td id=\"T_a48ec_row3_col8\" class=\"data row3 col8\" >0.054156</td>\n",
       "      <td id=\"T_a48ec_row3_col9\" class=\"data row3 col9\" >0.161284</td>\n",
       "      <td id=\"T_a48ec_row3_col10\" class=\"data row3 col10\" >57.199997</td>\n",
       "    </tr>\n",
       "    <tr>\n",
       "      <th id=\"T_a48ec_level0_row4\" class=\"row_heading level0 row4\" >SH603019</th>\n",
       "      <td id=\"T_a48ec_row4_col0\" class=\"data row4 col0\" >0.023012</td>\n",
       "      <td id=\"T_a48ec_row4_col1\" class=\"data row4 col1\" >0.010215</td>\n",
       "      <td id=\"T_a48ec_row4_col2\" class=\"data row4 col2\" >0.086550</td>\n",
       "      <td id=\"T_a48ec_row4_col3\" class=\"data row4 col3\" >0.180503</td>\n",
       "      <td id=\"T_a48ec_row4_col4\" class=\"data row4 col4\" >0.085540</td>\n",
       "      <td id=\"T_a48ec_row4_col5\" class=\"data row4 col5\" >0.109662</td>\n",
       "      <td id=\"T_a48ec_row4_col6\" class=\"data row4 col6\" >0.185919</td>\n",
       "      <td id=\"T_a48ec_row4_col7\" class=\"data row4 col7\" >0.097343</td>\n",
       "      <td id=\"T_a48ec_row4_col8\" class=\"data row4 col8\" >0.063567</td>\n",
       "      <td id=\"T_a48ec_row4_col9\" class=\"data row4 col9\" >0.153161</td>\n",
       "      <td id=\"T_a48ec_row4_col10\" class=\"data row4 col10\" >73.720001</td>\n",
       "    </tr>\n",
       "    <tr>\n",
       "      <th id=\"T_a48ec_level0_row5\" class=\"row_heading level0 row5\" >SH600745</th>\n",
       "      <td id=\"T_a48ec_row5_col0\" class=\"data row5 col0\" >0.064470</td>\n",
       "      <td id=\"T_a48ec_row5_col1\" class=\"data row5 col1\" >0.034757</td>\n",
       "      <td id=\"T_a48ec_row5_col2\" class=\"data row5 col2\" >0.134318</td>\n",
       "      <td id=\"T_a48ec_row5_col3\" class=\"data row5 col3\" >0.150214</td>\n",
       "      <td id=\"T_a48ec_row5_col4\" class=\"data row5 col4\" >0.065036</td>\n",
       "      <td id=\"T_a48ec_row5_col5\" class=\"data row5 col5\" >0.076941</td>\n",
       "      <td id=\"T_a48ec_row5_col6\" class=\"data row5 col6\" >0.110817</td>\n",
       "      <td id=\"T_a48ec_row5_col7\" class=\"data row5 col7\" >0.090936</td>\n",
       "      <td id=\"T_a48ec_row5_col8\" class=\"data row5 col8\" >0.038756</td>\n",
       "      <td id=\"T_a48ec_row5_col9\" class=\"data row5 col9\" >0.153047</td>\n",
       "      <td id=\"T_a48ec_row5_col10\" class=\"data row5 col10\" >36.040001</td>\n",
       "    </tr>\n",
       "    <tr>\n",
       "      <th id=\"T_a48ec_level0_row6\" class=\"row_heading level0 row6\" >SH600048</th>\n",
       "      <td id=\"T_a48ec_row6_col0\" class=\"data row6 col0\" >0.059288</td>\n",
       "      <td id=\"T_a48ec_row6_col1\" class=\"data row6 col1\" >-0.004718</td>\n",
       "      <td id=\"T_a48ec_row6_col2\" class=\"data row6 col2\" >0.112340</td>\n",
       "      <td id=\"T_a48ec_row6_col3\" class=\"data row6 col3\" >0.144955</td>\n",
       "      <td id=\"T_a48ec_row6_col4\" class=\"data row6 col4\" >0.037395</td>\n",
       "      <td id=\"T_a48ec_row6_col5\" class=\"data row6 col5\" >0.076947</td>\n",
       "      <td id=\"T_a48ec_row6_col6\" class=\"data row6 col6\" >0.234678</td>\n",
       "      <td id=\"T_a48ec_row6_col7\" class=\"data row6 col7\" >0.094412</td>\n",
       "      <td id=\"T_a48ec_row6_col8\" class=\"data row6 col8\" >0.072867</td>\n",
       "      <td id=\"T_a48ec_row6_col9\" class=\"data row6 col9\" >0.148323</td>\n",
       "      <td id=\"T_a48ec_row6_col10\" class=\"data row6 col10\" >10.160000</td>\n",
       "    </tr>\n",
       "    <tr>\n",
       "      <th id=\"T_a48ec_level0_row7\" class=\"row_heading level0 row7\" >SH601865</th>\n",
       "      <td id=\"T_a48ec_row7_col0\" class=\"data row7 col0\" >0.043623</td>\n",
       "      <td id=\"T_a48ec_row7_col1\" class=\"data row7 col1\" >0.003502</td>\n",
       "      <td id=\"T_a48ec_row7_col2\" class=\"data row7 col2\" >0.102191</td>\n",
       "      <td id=\"T_a48ec_row7_col3\" class=\"data row7 col3\" >0.148160</td>\n",
       "      <td id=\"T_a48ec_row7_col4\" class=\"data row7 col4\" >0.058807</td>\n",
       "      <td id=\"T_a48ec_row7_col5\" class=\"data row7 col5\" >0.074147</td>\n",
       "      <td id=\"T_a48ec_row7_col6\" class=\"data row7 col6\" >0.199810</td>\n",
       "      <td id=\"T_a48ec_row7_col7\" class=\"data row7 col7\" >0.090034</td>\n",
       "      <td id=\"T_a48ec_row7_col8\" class=\"data row7 col8\" >0.061466</td>\n",
       "      <td id=\"T_a48ec_row7_col9\" class=\"data row7 col9\" >0.142295</td>\n",
       "      <td id=\"T_a48ec_row7_col10\" class=\"data row7 col10\" >24.070000</td>\n",
       "    </tr>\n",
       "    <tr>\n",
       "      <th id=\"T_a48ec_level0_row8\" class=\"row_heading level0 row8\" >SH601816</th>\n",
       "      <td id=\"T_a48ec_row8_col0\" class=\"data row8 col0\" >0.082226</td>\n",
       "      <td id=\"T_a48ec_row8_col1\" class=\"data row8 col1\" >0.043740</td>\n",
       "      <td id=\"T_a48ec_row8_col2\" class=\"data row8 col2\" >0.132943</td>\n",
       "      <td id=\"T_a48ec_row8_col3\" class=\"data row8 col3\" >0.065942</td>\n",
       "      <td id=\"T_a48ec_row8_col4\" class=\"data row8 col4\" >0.053698</td>\n",
       "      <td id=\"T_a48ec_row8_col5\" class=\"data row8 col5\" >0.134357</td>\n",
       "      <td id=\"T_a48ec_row8_col6\" class=\"data row8 col6\" >0.105242</td>\n",
       "      <td id=\"T_a48ec_row8_col7\" class=\"data row8 col7\" >0.088307</td>\n",
       "      <td id=\"T_a48ec_row8_col8\" class=\"data row8 col8\" >0.034061</td>\n",
       "      <td id=\"T_a48ec_row8_col9\" class=\"data row8 col9\" >0.138818</td>\n",
       "      <td id=\"T_a48ec_row8_col10\" class=\"data row8 col10\" >6.220000</td>\n",
       "    </tr>\n",
       "    <tr>\n",
       "      <th id=\"T_a48ec_level0_row9\" class=\"row_heading level0 row9\" >SH601155</th>\n",
       "      <td id=\"T_a48ec_row9_col0\" class=\"data row9 col0\" >0.060678</td>\n",
       "      <td id=\"T_a48ec_row9_col1\" class=\"data row9 col1\" >-0.002352</td>\n",
       "      <td id=\"T_a48ec_row9_col2\" class=\"data row9 col2\" >0.120519</td>\n",
       "      <td id=\"T_a48ec_row9_col3\" class=\"data row9 col3\" >0.129364</td>\n",
       "      <td id=\"T_a48ec_row9_col4\" class=\"data row9 col4\" >0.041906</td>\n",
       "      <td id=\"T_a48ec_row9_col5\" class=\"data row9 col5\" >0.062753</td>\n",
       "      <td id=\"T_a48ec_row9_col6\" class=\"data row9 col6\" >0.156483</td>\n",
       "      <td id=\"T_a48ec_row9_col7\" class=\"data row9 col7\" >0.081336</td>\n",
       "      <td id=\"T_a48ec_row9_col8\" class=\"data row9 col8\" >0.051851</td>\n",
       "      <td id=\"T_a48ec_row9_col9\" class=\"data row9 col9\" >0.134667</td>\n",
       "      <td id=\"T_a48ec_row9_col10\" class=\"data row9 col10\" >13.480000</td>\n",
       "    </tr>\n",
       "  </tbody>\n",
       "</table>\n"
      ],
      "text/plain": [
       "<pandas.io.formats.style.Styler at 0x7f5217b99d00>"
      ]
     },
     "execution_count": 21,
     "metadata": {},
     "output_type": "execute_result"
    }
   ],
   "source": [
    "sty_report_top0"
   ]
  },
  {
   "cell_type": "code",
   "execution_count": 22,
   "metadata": {
    "execution": {
     "iopub.execute_input": "2024-12-11T13:26:42.271131Z",
     "iopub.status.busy": "2024-12-11T13:26:42.270818Z",
     "iopub.status.idle": "2024-12-11T13:26:42.294877Z",
     "shell.execute_reply": "2024-12-11T13:26:42.294373Z"
    }
   },
   "outputs": [
    {
     "data": {
      "text/html": [
       "<style type=\"text/css\">\n",
       "#T_7ed8b_row0_col0, #T_7ed8b_row0_col2, #T_7ed8b_row0_col4, #T_7ed8b_row0_col9, #T_7ed8b_row2_col3, #T_7ed8b_row4_col5, #T_7ed8b_row4_col6, #T_7ed8b_row5_col1, #T_7ed8b_row5_col7, #T_7ed8b_row5_col8 {\n",
       "  background-color: #023858;\n",
       "  color: #f1f1f1;\n",
       "}\n",
       "#T_7ed8b_row0_col1, #T_7ed8b_row0_col8 {\n",
       "  background-color: #eee8f3;\n",
       "  color: #000000;\n",
       "}\n",
       "#T_7ed8b_row0_col3 {\n",
       "  background-color: #d9d8ea;\n",
       "  color: #000000;\n",
       "}\n",
       "#T_7ed8b_row0_col5 {\n",
       "  background-color: #023c5f;\n",
       "  color: #f1f1f1;\n",
       "}\n",
       "#T_7ed8b_row0_col6, #T_7ed8b_row4_col0, #T_7ed8b_row4_col1, #T_7ed8b_row5_col3, #T_7ed8b_row5_col4, #T_7ed8b_row5_col5, #T_7ed8b_row5_col6, #T_7ed8b_row6_col7, #T_7ed8b_row7_col2, #T_7ed8b_row8_col8, #T_7ed8b_row9_col1, #T_7ed8b_row9_col9 {\n",
       "  background-color: #fff7fb;\n",
       "  color: #000000;\n",
       "}\n",
       "#T_7ed8b_row0_col7, #T_7ed8b_row5_col2 {\n",
       "  background-color: #bdc8e1;\n",
       "  color: #000000;\n",
       "}\n",
       "#T_7ed8b_row1_col0 {\n",
       "  background-color: #bcc7e1;\n",
       "  color: #000000;\n",
       "}\n",
       "#T_7ed8b_row1_col1 {\n",
       "  background-color: #fbf4f9;\n",
       "  color: #000000;\n",
       "}\n",
       "#T_7ed8b_row1_col2 {\n",
       "  background-color: #c8cde4;\n",
       "  color: #000000;\n",
       "}\n",
       "#T_7ed8b_row1_col3 {\n",
       "  background-color: #034369;\n",
       "  color: #f1f1f1;\n",
       "}\n",
       "#T_7ed8b_row1_col4 {\n",
       "  background-color: #6ba5cd;\n",
       "  color: #f1f1f1;\n",
       "}\n",
       "#T_7ed8b_row1_col5 {\n",
       "  background-color: #2a88bc;\n",
       "  color: #f1f1f1;\n",
       "}\n",
       "#T_7ed8b_row1_col6 {\n",
       "  background-color: #056caa;\n",
       "  color: #f1f1f1;\n",
       "}\n",
       "#T_7ed8b_row1_col7 {\n",
       "  background-color: #97b7d7;\n",
       "  color: #000000;\n",
       "}\n",
       "#T_7ed8b_row1_col8, #T_7ed8b_row9_col0 {\n",
       "  background-color: #e7e3f0;\n",
       "  color: #000000;\n",
       "}\n",
       "#T_7ed8b_row1_col9 {\n",
       "  background-color: #0566a0;\n",
       "  color: #f1f1f1;\n",
       "}\n",
       "#T_7ed8b_row2_col0 {\n",
       "  background-color: #e0deed;\n",
       "  color: #000000;\n",
       "}\n",
       "#T_7ed8b_row2_col1, #T_7ed8b_row3_col1, #T_7ed8b_row7_col1, #T_7ed8b_row8_col7 {\n",
       "  background-color: #f8f1f8;\n",
       "  color: #000000;\n",
       "}\n",
       "#T_7ed8b_row2_col2 {\n",
       "  background-color: #e1dfed;\n",
       "  color: #000000;\n",
       "}\n",
       "#T_7ed8b_row2_col4, #T_7ed8b_row6_col2 {\n",
       "  background-color: #76aad0;\n",
       "  color: #f1f1f1;\n",
       "}\n",
       "#T_7ed8b_row2_col5 {\n",
       "  background-color: #2484ba;\n",
       "  color: #f1f1f1;\n",
       "}\n",
       "#T_7ed8b_row2_col6 {\n",
       "  background-color: #2383ba;\n",
       "  color: #f1f1f1;\n",
       "}\n",
       "#T_7ed8b_row2_col7 {\n",
       "  background-color: #c0c9e2;\n",
       "  color: #000000;\n",
       "}\n",
       "#T_7ed8b_row2_col8 {\n",
       "  background-color: #efe9f3;\n",
       "  color: #000000;\n",
       "}\n",
       "#T_7ed8b_row2_col9, #T_7ed8b_row3_col9 {\n",
       "  background-color: #60a1ca;\n",
       "  color: #f1f1f1;\n",
       "}\n",
       "#T_7ed8b_row3_col0 {\n",
       "  background-color: #e8e4f0;\n",
       "  color: #000000;\n",
       "}\n",
       "#T_7ed8b_row3_col2 {\n",
       "  background-color: #d3d4e7;\n",
       "  color: #000000;\n",
       "}\n",
       "#T_7ed8b_row3_col3 {\n",
       "  background-color: #034165;\n",
       "  color: #f1f1f1;\n",
       "}\n",
       "#T_7ed8b_row3_col4, #T_7ed8b_row9_col4 {\n",
       "  background-color: #3991c1;\n",
       "  color: #f1f1f1;\n",
       "}\n",
       "#T_7ed8b_row3_col5 {\n",
       "  background-color: #2685bb;\n",
       "  color: #f1f1f1;\n",
       "}\n",
       "#T_7ed8b_row3_col6 {\n",
       "  background-color: #4897c4;\n",
       "  color: #f1f1f1;\n",
       "}\n",
       "#T_7ed8b_row3_col7 {\n",
       "  background-color: #cacee5;\n",
       "  color: #000000;\n",
       "}\n",
       "#T_7ed8b_row3_col8 {\n",
       "  background-color: #f6eff7;\n",
       "  color: #000000;\n",
       "}\n",
       "#T_7ed8b_row4_col2 {\n",
       "  background-color: #c9cee4;\n",
       "  color: #000000;\n",
       "}\n",
       "#T_7ed8b_row4_col3, #T_7ed8b_row8_col3 {\n",
       "  background-color: #3b92c1;\n",
       "  color: #f1f1f1;\n",
       "}\n",
       "#T_7ed8b_row4_col4 {\n",
       "  background-color: #328dbf;\n",
       "  color: #f1f1f1;\n",
       "}\n",
       "#T_7ed8b_row4_col7 {\n",
       "  background-color: #7dacd1;\n",
       "  color: #f1f1f1;\n",
       "}\n",
       "#T_7ed8b_row4_col8, #T_7ed8b_row8_col0 {\n",
       "  background-color: #cdd0e5;\n",
       "  color: #000000;\n",
       "}\n",
       "#T_7ed8b_row4_col9 {\n",
       "  background-color: #83afd3;\n",
       "  color: #f1f1f1;\n",
       "}\n",
       "#T_7ed8b_row5_col0 {\n",
       "  background-color: #f4eef6;\n",
       "  color: #000000;\n",
       "}\n",
       "#T_7ed8b_row5_col9 {\n",
       "  background-color: #8cb3d5;\n",
       "  color: #000000;\n",
       "}\n",
       "#T_7ed8b_row6_col0 {\n",
       "  background-color: #a9bfdc;\n",
       "  color: #000000;\n",
       "}\n",
       "#T_7ed8b_row6_col1, #T_7ed8b_row6_col8 {\n",
       "  background-color: #fcf4fa;\n",
       "  color: #000000;\n",
       "}\n",
       "#T_7ed8b_row6_col3 {\n",
       "  background-color: #046096;\n",
       "  color: #f1f1f1;\n",
       "}\n",
       "#T_7ed8b_row6_col4 {\n",
       "  background-color: #96b6d7;\n",
       "  color: #000000;\n",
       "}\n",
       "#T_7ed8b_row6_col5 {\n",
       "  background-color: #4094c3;\n",
       "  color: #f1f1f1;\n",
       "}\n",
       "#T_7ed8b_row6_col6 {\n",
       "  background-color: #b3c3de;\n",
       "  color: #000000;\n",
       "}\n",
       "#T_7ed8b_row6_col9 {\n",
       "  background-color: #c1cae2;\n",
       "  color: #000000;\n",
       "}\n",
       "#T_7ed8b_row7_col0 {\n",
       "  background-color: #abbfdc;\n",
       "  color: #000000;\n",
       "}\n",
       "#T_7ed8b_row7_col3 {\n",
       "  background-color: #509ac6;\n",
       "  color: #f1f1f1;\n",
       "}\n",
       "#T_7ed8b_row7_col4 {\n",
       "  background-color: #0568a3;\n",
       "  color: #f1f1f1;\n",
       "}\n",
       "#T_7ed8b_row7_col5 {\n",
       "  background-color: #0771b1;\n",
       "  color: #f1f1f1;\n",
       "}\n",
       "#T_7ed8b_row7_col6 {\n",
       "  background-color: #023a5b;\n",
       "  color: #f1f1f1;\n",
       "}\n",
       "#T_7ed8b_row7_col7 {\n",
       "  background-color: #8bb2d4;\n",
       "  color: #000000;\n",
       "}\n",
       "#T_7ed8b_row7_col8 {\n",
       "  background-color: #d6d6e9;\n",
       "  color: #000000;\n",
       "}\n",
       "#T_7ed8b_row7_col9 {\n",
       "  background-color: #d2d3e7;\n",
       "  color: #000000;\n",
       "}\n",
       "#T_7ed8b_row8_col1 {\n",
       "  background-color: #fdf5fa;\n",
       "  color: #000000;\n",
       "}\n",
       "#T_7ed8b_row8_col2 {\n",
       "  background-color: #b5c4df;\n",
       "  color: #000000;\n",
       "}\n",
       "#T_7ed8b_row8_col4 {\n",
       "  background-color: #03446a;\n",
       "  color: #f1f1f1;\n",
       "}\n",
       "#T_7ed8b_row8_col5 {\n",
       "  background-color: #0569a5;\n",
       "  color: #f1f1f1;\n",
       "}\n",
       "#T_7ed8b_row8_col6 {\n",
       "  background-color: #9cb9d9;\n",
       "  color: #000000;\n",
       "}\n",
       "#T_7ed8b_row8_col9 {\n",
       "  background-color: #f7f0f7;\n",
       "  color: #000000;\n",
       "}\n",
       "#T_7ed8b_row9_col2 {\n",
       "  background-color: #a5bddb;\n",
       "  color: #000000;\n",
       "}\n",
       "#T_7ed8b_row9_col3 {\n",
       "  background-color: #4c99c5;\n",
       "  color: #f1f1f1;\n",
       "}\n",
       "#T_7ed8b_row9_col5 {\n",
       "  background-color: #04649e;\n",
       "  color: #f1f1f1;\n",
       "}\n",
       "#T_7ed8b_row9_col6 {\n",
       "  background-color: #3f93c2;\n",
       "  color: #f1f1f1;\n",
       "}\n",
       "#T_7ed8b_row9_col7 {\n",
       "  background-color: #f1ebf5;\n",
       "  color: #000000;\n",
       "}\n",
       "#T_7ed8b_row9_col8 {\n",
       "  background-color: #f2ecf5;\n",
       "  color: #000000;\n",
       "}\n",
       "</style>\n",
       "<table id=\"T_7ed8b\">\n",
       "  <thead>\n",
       "    <tr>\n",
       "      <th class=\"blank level0\" >&nbsp;</th>\n",
       "      <th id=\"T_7ed8b_level0_col0\" class=\"col_heading level0 col0\" >GBDT0</th>\n",
       "      <th id=\"T_7ed8b_level0_col1\" class=\"col_heading level0 col1\" >GBDT1</th>\n",
       "      <th id=\"T_7ed8b_level0_col2\" class=\"col_heading level0 col2\" >GBDT2</th>\n",
       "      <th id=\"T_7ed8b_level0_col3\" class=\"col_heading level0 col3\" >GBDT4</th>\n",
       "      <th id=\"T_7ed8b_level0_col4\" class=\"col_heading level0 col4\" >GBDT6</th>\n",
       "      <th id=\"T_7ed8b_level0_col5\" class=\"col_heading level0 col5\" >GBDT8</th>\n",
       "      <th id=\"T_7ed8b_level0_col6\" class=\"col_heading level0 col6\" >GBDT10</th>\n",
       "      <th id=\"T_7ed8b_level0_col7\" class=\"col_heading level0 col7\" >mean</th>\n",
       "      <th id=\"T_7ed8b_level0_col8\" class=\"col_heading level0 col8\" >std</th>\n",
       "      <th id=\"T_7ed8b_level0_col9\" class=\"col_heading level0 col9\" >score</th>\n",
       "      <th id=\"T_7ed8b_level0_col10\" class=\"col_heading level0 col10\" >close</th>\n",
       "    </tr>\n",
       "    <tr>\n",
       "      <th class=\"index_name level0\" >instrument</th>\n",
       "      <th class=\"blank col0\" >&nbsp;</th>\n",
       "      <th class=\"blank col1\" >&nbsp;</th>\n",
       "      <th class=\"blank col2\" >&nbsp;</th>\n",
       "      <th class=\"blank col3\" >&nbsp;</th>\n",
       "      <th class=\"blank col4\" >&nbsp;</th>\n",
       "      <th class=\"blank col5\" >&nbsp;</th>\n",
       "      <th class=\"blank col6\" >&nbsp;</th>\n",
       "      <th class=\"blank col7\" >&nbsp;</th>\n",
       "      <th class=\"blank col8\" >&nbsp;</th>\n",
       "      <th class=\"blank col9\" >&nbsp;</th>\n",
       "      <th class=\"blank col10\" >&nbsp;</th>\n",
       "    </tr>\n",
       "  </thead>\n",
       "  <tbody>\n",
       "    <tr>\n",
       "      <th id=\"T_7ed8b_level0_row0\" class=\"row_heading level0 row0\" >SH601998</th>\n",
       "      <td id=\"T_7ed8b_row0_col0\" class=\"data row0 col0\" >0.104374</td>\n",
       "      <td id=\"T_7ed8b_row0_col1\" class=\"data row0 col1\" >0.049967</td>\n",
       "      <td id=\"T_7ed8b_row0_col2\" class=\"data row0 col2\" >0.178687</td>\n",
       "      <td id=\"T_7ed8b_row0_col3\" class=\"data row0 col3\" >0.022821</td>\n",
       "      <td id=\"T_7ed8b_row0_col4\" class=\"data row0 col4\" >0.086610</td>\n",
       "      <td id=\"T_7ed8b_row0_col5\" class=\"data row0 col5\" >0.103320</td>\n",
       "      <td id=\"T_7ed8b_row0_col6\" class=\"data row0 col6\" >0.000199</td>\n",
       "      <td id=\"T_7ed8b_row0_col7\" class=\"data row0 col7\" >0.077997</td>\n",
       "      <td id=\"T_7ed8b_row0_col8\" class=\"data row0 col8\" >0.055333</td>\n",
       "      <td id=\"T_7ed8b_row0_col9\" class=\"data row0 col9\" >0.132944</td>\n",
       "      <td id=\"T_7ed8b_row0_col10\" class=\"data row0 col10\" >6.940000</td>\n",
       "    </tr>\n",
       "    <tr>\n",
       "      <th id=\"T_7ed8b_level0_row1\" class=\"row_heading level0 row1\" >SZ000002</th>\n",
       "      <td id=\"T_7ed8b_row1_col0\" class=\"data row1 col0\" >0.059188</td>\n",
       "      <td id=\"T_7ed8b_row1_col1\" class=\"data row1 col1\" >-0.007218</td>\n",
       "      <td id=\"T_7ed8b_row1_col2\" class=\"data row1 col2\" >0.075758</td>\n",
       "      <td id=\"T_7ed8b_row1_col3\" class=\"data row1 col3\" >0.130701</td>\n",
       "      <td id=\"T_7ed8b_row1_col4\" class=\"data row1 col4\" >0.046444</td>\n",
       "      <td id=\"T_7ed8b_row1_col5\" class=\"data row1 col5\" >0.070454</td>\n",
       "      <td id=\"T_7ed8b_row1_col6\" class=\"data row1 col6\" >0.198107</td>\n",
       "      <td id=\"T_7ed8b_row1_col7\" class=\"data row1 col7\" >0.081919</td>\n",
       "      <td id=\"T_7ed8b_row1_col8\" class=\"data row1 col8\" >0.060674</td>\n",
       "      <td id=\"T_7ed8b_row1_col9\" class=\"data row1 col9\" >0.128318</td>\n",
       "      <td id=\"T_7ed8b_row1_col10\" class=\"data row1 col10\" >8.650001</td>\n",
       "    </tr>\n",
       "    <tr>\n",
       "      <th id=\"T_7ed8b_level0_row2\" class=\"row_heading level0 row2\" >SH603986</th>\n",
       "      <td id=\"T_7ed8b_row2_col0\" class=\"data row2 col0\" >0.050608</td>\n",
       "      <td id=\"T_7ed8b_row2_col1\" class=\"data row2 col1\" >0.004974</td>\n",
       "      <td id=\"T_7ed8b_row2_col2\" class=\"data row2 col2\" >0.061143</td>\n",
       "      <td id=\"T_7ed8b_row2_col3\" class=\"data row2 col3\" >0.136690</td>\n",
       "      <td id=\"T_7ed8b_row2_col4\" class=\"data row2 col4\" >0.044561</td>\n",
       "      <td id=\"T_7ed8b_row2_col5\" class=\"data row2 col5\" >0.072094</td>\n",
       "      <td id=\"T_7ed8b_row2_col6\" class=\"data row2 col6\" >0.173330</td>\n",
       "      <td id=\"T_7ed8b_row2_col7\" class=\"data row2 col7\" >0.077629</td>\n",
       "      <td id=\"T_7ed8b_row2_col8\" class=\"data row2 col8\" >0.053521</td>\n",
       "      <td id=\"T_7ed8b_row2_col9\" class=\"data row2 col9\" >0.121906</td>\n",
       "      <td id=\"T_7ed8b_row2_col10\" class=\"data row2 col10\" >84.209999</td>\n",
       "    </tr>\n",
       "    <tr>\n",
       "      <th id=\"T_7ed8b_level0_row3\" class=\"row_heading level0 row3\" >SZ002129</th>\n",
       "      <td id=\"T_7ed8b_row3_col0\" class=\"data row3 col0\" >0.048354</td>\n",
       "      <td id=\"T_7ed8b_row3_col1\" class=\"data row3 col1\" >0.007844</td>\n",
       "      <td id=\"T_7ed8b_row3_col2\" class=\"data row3 col2\" >0.069784</td>\n",
       "      <td id=\"T_7ed8b_row3_col3\" class=\"data row3 col3\" >0.132141</td>\n",
       "      <td id=\"T_7ed8b_row3_col4\" class=\"data row3 col4\" >0.054902</td>\n",
       "      <td id=\"T_7ed8b_row3_col5\" class=\"data row3 col5\" >0.071724</td>\n",
       "      <td id=\"T_7ed8b_row3_col6\" class=\"data row3 col6\" >0.150629</td>\n",
       "      <td id=\"T_7ed8b_row3_col7\" class=\"data row3 col7\" >0.076483</td>\n",
       "      <td id=\"T_7ed8b_row3_col8\" class=\"data row3 col8\" >0.045719</td>\n",
       "      <td id=\"T_7ed8b_row3_col9\" class=\"data row3 col9\" >0.121816</td>\n",
       "      <td id=\"T_7ed8b_row3_col10\" class=\"data row3 col10\" >9.990001</td>\n",
       "    </tr>\n",
       "    <tr>\n",
       "      <th id=\"T_7ed8b_level0_row4\" class=\"row_heading level0 row4\" >SH601888</th>\n",
       "      <td id=\"T_7ed8b_row4_col0\" class=\"data row4 col0\" >0.038952</td>\n",
       "      <td id=\"T_7ed8b_row4_col1\" class=\"data row4 col1\" >-0.022032</td>\n",
       "      <td id=\"T_7ed8b_row4_col2\" class=\"data row4 col2\" >0.074912</td>\n",
       "      <td id=\"T_7ed8b_row4_col3\" class=\"data row4 col3\" >0.081347</td>\n",
       "      <td id=\"T_7ed8b_row4_col4\" class=\"data row4 col4\" >0.056243</td>\n",
       "      <td id=\"T_7ed8b_row4_col5\" class=\"data row4 col5\" >0.105002</td>\n",
       "      <td id=\"T_7ed8b_row4_col6\" class=\"data row4 col6\" >0.256989</td>\n",
       "      <td id=\"T_7ed8b_row4_col7\" class=\"data row4 col7\" >0.084487</td>\n",
       "      <td id=\"T_7ed8b_row4_col8\" class=\"data row4 col8\" >0.079729</td>\n",
       "      <td id=\"T_7ed8b_row4_col9\" class=\"data row4 col9\" >0.119944</td>\n",
       "      <td id=\"T_7ed8b_row4_col10\" class=\"data row4 col10\" >71.849998</td>\n",
       "    </tr>\n",
       "    <tr>\n",
       "      <th id=\"T_7ed8b_level0_row5\" class=\"row_heading level0 row5\" >SH600372</th>\n",
       "      <td id=\"T_7ed8b_row5_col0\" class=\"data row5 col0\" >0.043602</td>\n",
       "      <td id=\"T_7ed8b_row5_col1\" class=\"data row5 col1\" >0.604621</td>\n",
       "      <td id=\"T_7ed8b_row5_col2\" class=\"data row5 col2\" >0.080224</td>\n",
       "      <td id=\"T_7ed8b_row5_col3\" class=\"data row5 col3\" >-0.006917</td>\n",
       "      <td id=\"T_7ed8b_row5_col4\" class=\"data row5 col4\" >0.003264</td>\n",
       "      <td id=\"T_7ed8b_row5_col5\" class=\"data row5 col5\" >0.005142</td>\n",
       "      <td id=\"T_7ed8b_row5_col6\" class=\"data row5 col6\" >-0.000499</td>\n",
       "      <td id=\"T_7ed8b_row5_col7\" class=\"data row5 col7\" >0.104205</td>\n",
       "      <td id=\"T_7ed8b_row5_col8\" class=\"data row5 col8\" >0.206321</td>\n",
       "      <td id=\"T_7ed8b_row5_col9\" class=\"data row5 col9\" >0.119455</td>\n",
       "      <td id=\"T_7ed8b_row5_col10\" class=\"data row5 col10\" >nan</td>\n",
       "    </tr>\n",
       "    <tr>\n",
       "      <th id=\"T_7ed8b_level0_row6\" class=\"row_heading level0 row6\" >SH601808</th>\n",
       "      <td id=\"T_7ed8b_row6_col0\" class=\"data row6 col0\" >0.062836</td>\n",
       "      <td id=\"T_7ed8b_row6_col1\" class=\"data row6 col1\" >-0.009059</td>\n",
       "      <td id=\"T_7ed8b_row6_col2\" class=\"data row6 col2\" >0.106529</td>\n",
       "      <td id=\"T_7ed8b_row6_col3\" class=\"data row6 col3\" >0.113922</td>\n",
       "      <td id=\"T_7ed8b_row6_col4\" class=\"data row6 col4\" >0.037889</td>\n",
       "      <td id=\"T_7ed8b_row6_col5\" class=\"data row6 col5\" >0.065460</td>\n",
       "      <td id=\"T_7ed8b_row6_col6\" class=\"data row6 col6\" >0.086947</td>\n",
       "      <td id=\"T_7ed8b_row6_col7\" class=\"data row6 col7\" >0.066360</td>\n",
       "      <td id=\"T_7ed8b_row6_col8\" class=\"data row6 col8\" >0.039300</td>\n",
       "      <td id=\"T_7ed8b_row6_col9\" class=\"data row6 col9\" >0.115876</td>\n",
       "      <td id=\"T_7ed8b_row6_col10\" class=\"data row6 col10\" >15.130000</td>\n",
       "    </tr>\n",
       "    <tr>\n",
       "      <th id=\"T_7ed8b_level0_row7\" class=\"row_heading level0 row7\" >SZ002415</th>\n",
       "      <td id=\"T_7ed8b_row7_col0\" class=\"data row7 col0\" >0.062584</td>\n",
       "      <td id=\"T_7ed8b_row7_col1\" class=\"data row7 col1\" >0.004261</td>\n",
       "      <td id=\"T_7ed8b_row7_col2\" class=\"data row7 col2\" >0.036414</td>\n",
       "      <td id=\"T_7ed8b_row7_col3\" class=\"data row7 col3\" >0.075343</td>\n",
       "      <td id=\"T_7ed8b_row7_col4\" class=\"data row7 col4\" >0.069627</td>\n",
       "      <td id=\"T_7ed8b_row7_col5\" class=\"data row7 col5\" >0.079576</td>\n",
       "      <td id=\"T_7ed8b_row7_col6\" class=\"data row7 col6\" >0.254328</td>\n",
       "      <td id=\"T_7ed8b_row7_col7\" class=\"data row7 col7\" >0.083162</td>\n",
       "      <td id=\"T_7ed8b_row7_col8\" class=\"data row7 col8\" >0.074055</td>\n",
       "      <td id=\"T_7ed8b_row7_col9\" class=\"data row7 col9\" >0.114602</td>\n",
       "      <td id=\"T_7ed8b_row7_col10\" class=\"data row7 col10\" >31.509998</td>\n",
       "    </tr>\n",
       "    <tr>\n",
       "      <th id=\"T_7ed8b_level0_row8\" class=\"row_heading level0 row8\" >SZ000999</th>\n",
       "      <td id=\"T_7ed8b_row8_col0\" class=\"data row8 col0\" >0.055909</td>\n",
       "      <td id=\"T_7ed8b_row8_col1\" class=\"data row8 col1\" >-0.012868</td>\n",
       "      <td id=\"T_7ed8b_row8_col2\" class=\"data row8 col2\" >0.083641</td>\n",
       "      <td id=\"T_7ed8b_row8_col3\" class=\"data row8 col3\" >0.081182</td>\n",
       "      <td id=\"T_7ed8b_row8_col4\" class=\"data row8 col4\" >0.082928</td>\n",
       "      <td id=\"T_7ed8b_row8_col5\" class=\"data row8 col5\" >0.083644</td>\n",
       "      <td id=\"T_7ed8b_row8_col6\" class=\"data row8 col6\" >0.102230</td>\n",
       "      <td id=\"T_7ed8b_row8_col7\" class=\"data row8 col7\" >0.068095</td>\n",
       "      <td id=\"T_7ed8b_row8_col8\" class=\"data row8 col8\" >0.035342</td>\n",
       "      <td id=\"T_7ed8b_row8_col9\" class=\"data row8 col9\" >0.110070</td>\n",
       "      <td id=\"T_7ed8b_row8_col10\" class=\"data row8 col10\" >45.250000</td>\n",
       "    </tr>\n",
       "    <tr>\n",
       "      <th id=\"T_7ed8b_level0_row9\" class=\"row_heading level0 row9\" >SH600085</th>\n",
       "      <td id=\"T_7ed8b_row9_col0\" class=\"data row9 col0\" >0.048778</td>\n",
       "      <td id=\"T_7ed8b_row9_col1\" class=\"data row9 col1\" >-0.022889</td>\n",
       "      <td id=\"T_7ed8b_row9_col2\" class=\"data row9 col2\" >0.090183</td>\n",
       "      <td id=\"T_7ed8b_row9_col3\" class=\"data row9 col3\" >0.076328</td>\n",
       "      <td id=\"T_7ed8b_row9_col4\" class=\"data row9 col4\" >0.054716</td>\n",
       "      <td id=\"T_7ed8b_row9_col5\" class=\"data row9 col5\" >0.086342</td>\n",
       "      <td id=\"T_7ed8b_row9_col6\" class=\"data row9 col6\" >0.155581</td>\n",
       "      <td id=\"T_7ed8b_row9_col7\" class=\"data row9 col7\" >0.069863</td>\n",
       "      <td id=\"T_7ed8b_row9_col8\" class=\"data row9 col8\" >0.049786</td>\n",
       "      <td id=\"T_7ed8b_row9_col9\" class=\"data row9 col9\" >0.108795</td>\n",
       "      <td id=\"T_7ed8b_row9_col10\" class=\"data row9 col10\" >41.210003</td>\n",
       "    </tr>\n",
       "  </tbody>\n",
       "</table>\n"
      ],
      "text/plain": [
       "<pandas.io.formats.style.Styler at 0x7f51eba4d940>"
      ]
     },
     "execution_count": 22,
     "metadata": {},
     "output_type": "execute_result"
    }
   ],
   "source": [
    "sty_report_top1"
   ]
  },
  {
   "cell_type": "code",
   "execution_count": 23,
   "metadata": {
    "execution": {
     "iopub.execute_input": "2024-12-11T13:26:42.299786Z",
     "iopub.status.busy": "2024-12-11T13:26:42.299516Z",
     "iopub.status.idle": "2024-12-11T13:26:46.732141Z",
     "shell.execute_reply": "2024-12-11T13:26:46.731105Z"
    }
   },
   "outputs": [],
   "source": [
    "import dataframe_image as dfi\n",
    "\n",
    "infodf = pd.DataFrame({'label': ['Model update date', 'Prediction generation date'],\n",
    "                       'date': ['2024-12-11', TODAY]})\n",
    "\n",
    "dfi.export(infodf, './tmp/ensemble_info.png',table_conversion='matplotlib')\n",
    "\n",
    "dfi.export(sty_report_info5, './tmp/ensemble_performance5.png',table_conversion='matplotlib')\n",
    "dfi.export(sty_report_info10, './tmp/ensemble_performance10.png',table_conversion='matplotlib')\n",
    "dfi.export(sty_report_info20, './tmp/ensemble_performance20.png',table_conversion='matplotlib')\n",
    "dfi.export(sty_report_top0, './tmp/ensemble_top0.png',table_conversion='matplotlib')\n",
    "dfi.export(sty_report_top1, './tmp/ensemble_top1.png',table_conversion='matplotlib')\n",
    "dfi.export(sty_report_pos, './tmp/ensemble_watch.png',table_conversion='matplotlib')"
   ]
  },
  {
   "cell_type": "code",
   "execution_count": null,
   "metadata": {},
   "outputs": [],
   "source": []
  }
 ],
 "metadata": {
  "kernelspec": {
   "display_name": "qlib39",
   "language": "python",
   "name": "python3"
  },
  "language_info": {
   "codemirror_mode": {
    "name": "ipython",
    "version": 3
   },
   "file_extension": ".py",
   "mimetype": "text/x-python",
   "name": "python",
   "nbconvert_exporter": "python",
   "pygments_lexer": "ipython3",
   "version": "3.9.20"
  }
 },
 "nbformat": 4,
 "nbformat_minor": 2
}
