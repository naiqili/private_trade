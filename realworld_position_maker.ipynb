{
 "cells": [
  {
   "cell_type": "markdown",
   "metadata": {},
   "source": [
    "Run the notebook at TODAY after 15:00:00 (so the market is closed and data is available).\n",
    "\n",
    "Input your current position.\n",
    "\n",
    "The orders are for tomorrow."
   ]
  },
  {
   "cell_type": "code",
   "execution_count": 1,
   "metadata": {
    "execution": {
     "iopub.execute_input": "2024-12-13T13:19:27.027695Z",
     "iopub.status.busy": "2024-12-13T13:19:27.027149Z",
     "iopub.status.idle": "2024-12-13T13:19:27.419941Z",
     "shell.execute_reply": "2024-12-13T13:19:27.418868Z"
    }
   },
   "outputs": [
    {
     "name": "stdout",
     "output_type": "stream",
     "text": [
      "2024-12-01\n",
      "2024-12-12\n",
      "2024-12-13\n"
     ]
    }
   ],
   "source": [
    "import pandas as pd\n",
    "cal = pd.read_csv('/data/linq/.qlib/qlib_data/cn_data/calendars/day.txt')\n",
    "TODAY = str(cal.iloc[-1,0])\n",
    "YESTERDAY = str(cal.iloc[-2,0])\n",
    "# TODAY = str(cal.iloc[-2,0])\n",
    "# YESTERDAY = str(cal.iloc[-3,0])\n",
    "\n",
    "BT_START = '2024-12-01'\n",
    "\n",
    "print(BT_START)\n",
    "print(YESTERDAY)\n",
    "print(TODAY)"
   ]
  },
  {
   "cell_type": "code",
   "execution_count": 2,
   "metadata": {
    "execution": {
     "iopub.execute_input": "2024-12-13T13:19:27.462522Z",
     "iopub.status.busy": "2024-12-13T13:19:27.461733Z",
     "iopub.status.idle": "2024-12-13T13:19:27.474726Z",
     "shell.execute_reply": "2024-12-13T13:19:27.473796Z"
    }
   },
   "outputs": [],
   "source": [
    "# BT_START = '2024-12-01'\n",
    "# TODAY = '2024-12-09'\n",
    "\n",
    "test_split = (TODAY, TODAY)\n",
    "bt_split = (BT_START, YESTERDAY)\n",
    "pos_txt = f'''\\\n",
    "date {TODAY}\n",
    "cash 316\n",
    "SH600570 800\n",
    "SH603986 300\n",
    "SZ002459 1300\n",
    "SZ002129 2000\n",
    "SZ000002 2300\n",
    "SH600104 1100\n",
    "SH600588 1500\n",
    "SH600233 1000\n",
    "SZ000999 300\n",
    "'''\n",
    "\n",
    "\n",
    "\n",
    "REC_LIST = [\n",
    "    ('GBDT0', 'EXP_BENCH', 'c745fed5a5ec439f9abeafac76e750a5'), # GBDT BENCH_NOW r0 all\n",
    "    # ('GBDT1', 'EXP_BENCH', 'ffe9470bec09417fb4db91128edc0a87'), # GBDT BENCH_NOW r1 all\n",
    "    ('GBDT2', 'EXP_BENCH', 'e420ff30870d4e55a1c5e0fb207fa8a0'), # GBDT BENCH_A r0 all\n",
    "    # ('GBDT3', 'EXP_BENCH', '1dcc7b1ec14e46379690c4f2d6e5242d'), # GBDT BENCH_A r1 all\n",
    "    ('GBDT4', 'EXP_BENCH', '8d7e72af7f4b475f9f3646021a29bb1e'), # GBDT BENCH_B r0 all\n",
    "    # ('GBDT5', 'EXP_BENCH', 'd308acba0eaf453b9f5acfc309b05c46'), # GBDT BENCH_B r1 all\n",
    "    ('GBDT6', 'EXP_BENCH', 'ec4284016f6d44d897969410a5ef3ec0'), # GBDT BENCH_NOW r0 csi300\n",
    "    # ('GBDT7', 'EXP_BENCH', 'c9dc8e870efc459396ea77850a7bc099'), # GBDT BENCH_NOW r1 csi300\n",
    "    ('GBDT8', 'EXP_BENCH', '1f1711ba5caa4fd7a298196fd6a57558'), # GBDT BENCH_A r0 csi300\n",
    "    # ('GBDT9', 'EXP_BENCH', 'a79446d3724942c58ed14c59622fbe2c'), # GBDT BENCH_A r1 csi300\n",
    "    ('GBDT10', 'EXP_BENCH', '74d88afd5cb3448d831402b4e7571dc6'), # GBDT BENCH_B r0 csi300\n",
    "    ('GBDT12', 'EXP_BENCH', '2dd2f7cd31e84a65a299f76402d47b44'), # GBDT BENCH_Set1 r0 csi300\n",
    "]\n",
    "\n",
    "# EXP_NAME, rid = REC_LIST[0]\n",
    "TOPK = 5\n",
    "NDROP = 1\n",
    "HT = 0\n",
    "\n",
    "info = {\n",
    "    'ALGO': ['GBDT'],\n",
    "    'market': ['csi300_ext'], \n",
    "    # 'market': ['all'], \n",
    "    'benchmark': [\"SH000300\"], \n",
    "    'feat': [\"Alpha158\"], \n",
    "    # 'feat': [\"Alpha360\"], \n",
    "    'label': ['r0'],\n",
    "    'params': [f'topk {TOPK} ndrop {NDROP} HT {HT}']\n",
    "}"
   ]
  },
  {
   "cell_type": "code",
   "execution_count": 3,
   "metadata": {
    "execution": {
     "iopub.execute_input": "2024-12-13T13:19:27.477563Z",
     "iopub.status.busy": "2024-12-13T13:19:27.477233Z",
     "iopub.status.idle": "2024-12-13T13:19:28.374197Z",
     "shell.execute_reply": "2024-12-13T13:19:28.373372Z"
    }
   },
   "outputs": [
    {
     "name": "stderr",
     "output_type": "stream",
     "text": [
      "/home/linq/anaconda3/envs/qlib39/lib/python3.9/site-packages/tqdm/auto.py:21: TqdmWarning: IProgress not found. Please update jupyter and ipywidgets. See https://ipywidgets.readthedocs.io/en/stable/user_install.html\n",
      "  from .autonotebook import tqdm as notebook_tqdm\n"
     ]
    },
    {
     "name": "stderr",
     "output_type": "stream",
     "text": [
      "[4091245:MainThread](2024-12-13 21:19:28,364) INFO - qlib.Initialization - [config.py:416] - default_conf: client.\n"
     ]
    },
    {
     "name": "stderr",
     "output_type": "stream",
     "text": [
      "[4091245:MainThread](2024-12-13 21:19:28,368) INFO - qlib.Initialization - [__init__.py:74] - qlib successfully initialized based on client settings.\n"
     ]
    },
    {
     "name": "stderr",
     "output_type": "stream",
     "text": [
      "[4091245:MainThread](2024-12-13 21:19:28,369) INFO - qlib.Initialization - [__init__.py:76] - data_path={'__DEFAULT_FREQ': PosixPath('/data/linq/.qlib/qlib_data/cn_data')}\n"
     ]
    }
   ],
   "source": [
    "import qlib\n",
    "import pandas as pd\n",
    "from pandas import Timestamp\n",
    "import json\n",
    "from qlib.constant import REG_CN\n",
    "from qlib.utils import exists_qlib_data, init_instance_by_config\n",
    "from qlib.workflow import R\n",
    "from qlib.workflow.record_temp import SignalRecord, PortAnaRecord\n",
    "from qlib.utils import flatten_dict\n",
    "from qlib.data.filter import NameDFilter\n",
    "from qlib.backtest.position import Position\n",
    "from qlib.data import D\n",
    "\n",
    "import copy\n",
    "import pprint\n",
    "import warnings\n",
    "warnings.filterwarnings('ignore')\n",
    "\n",
    "provider_uri = \"/data/linq/.qlib/qlib_data/cn_data\"  # target_dir\n",
    "qlib.init(provider_uri=provider_uri, region=REG_CN)\n",
    "\n",
    "from lilab.qlib.utils.tools import normalize_position_history, load_position_text, load_position_history, save_position_history, fill_price_position_history\n",
    "from lilab.qlib.backtest.benchmark import BENCH_Step"
   ]
  },
  {
   "cell_type": "markdown",
   "metadata": {},
   "source": [
    "Record position history"
   ]
  },
  {
   "cell_type": "code",
   "execution_count": 4,
   "metadata": {
    "execution": {
     "iopub.execute_input": "2024-12-13T13:19:28.378551Z",
     "iopub.status.busy": "2024-12-13T13:19:28.378084Z",
     "iopub.status.idle": "2024-12-13T13:19:28.892961Z",
     "shell.execute_reply": "2024-12-13T13:19:28.892036Z"
    }
   },
   "outputs": [
    {
     "name": "stdout",
     "output_type": "stream",
     "text": [
      "2024-12-13 09:00:00\n",
      "{'SH600570': {'amount': 800}, 'SH603986': {'amount': 300}, 'SZ002459': {'amount': 1300}, 'SZ002129': {'amount': 2000}, 'SZ000002': {'amount': 2300}, 'SH600104': {'amount': 1100}, 'SH600588': {'amount': 1500}, 'SH600233': {'amount': 1000}, 'SZ000999': {'amount': 300}, 'cash': 316.0}\n",
      "{'_settle_type': 'None', 'position': {'SH603986': {'amount': 1783, 'price': 15.636964797973633}, 'SZ000999': {'amount': 3640, 'price': 3.7280220985412598}, 'SZ002129': {'amount': 4184, 'price': 4.6313066482543945}, 'SH600104': {'amount': 12461, 'price': 1.654193639755249}, 'SZ002459': {'amount': 17480, 'price': 1.1490143537521362}, 'SH600233': {'amount': 7140, 'price': 2.019603729248047}, 'SH600588': {'amount': 7188, 'price': 2.528895139694214}, 'SH600570': {'amount': 3727, 'price': 6.463601112365723}, 'SZ000002': {'amount': 14867, 'price': 1.3010629415512085}, 'cash': 316.0, 'now_account_value': 177872.186527133}, 'init_cash': 316.0}\n",
      "['SH603986', 'SZ000999', 'SZ002129', 'SH600104', 'SZ002459', 'SH600233', 'SH600588', 'SH600570', 'SZ000002']\n"
     ]
    }
   ],
   "source": [
    "cur_pos = load_position_text(pos_txt)\n",
    "norm_cur_pos = normalize_position_history(cur_pos)\n",
    "norm_cur_pos = fill_price_position_history(norm_cur_pos)\n",
    "try:\n",
    "    pos_history = load_position_history()\n",
    "except:\n",
    "    pos_history = {}\n",
    "pos_history.update(norm_cur_pos)\n",
    "save_position_history(pos_history)\n",
    "dt, pos = next(iter(cur_pos.items()))\n",
    "account = pos.position\n",
    "dt, norm_pos = next(iter(norm_cur_pos.items()))\n",
    "norm_account = pos.position\n",
    "hold_lst = pos.get_stock_list()\n",
    "print(dt)\n",
    "print(account)\n",
    "print(norm_pos)\n",
    "print(hold_lst)"
   ]
  },
  {
   "cell_type": "markdown",
   "metadata": {},
   "source": [
    "Prepare dataset"
   ]
  },
  {
   "cell_type": "code",
   "execution_count": 5,
   "metadata": {
    "execution": {
     "iopub.execute_input": "2024-12-13T13:19:28.897273Z",
     "iopub.status.busy": "2024-12-13T13:19:28.896845Z",
     "iopub.status.idle": "2024-12-13T13:19:28.903133Z",
     "shell.execute_reply": "2024-12-13T13:19:28.902333Z"
    }
   },
   "outputs": [],
   "source": [
    "nameDFilter = NameDFilter(name_rule_re='(SH60[0-9]{4})|(SZ00[0-9]{4})')\n",
    "filter_pipe=[nameDFilter]\n",
    "benchmark = BENCH_Step(test_split,\n",
    "                        market=info['market'][0], \\\n",
    "                        benchmark=info['benchmark'][0], \\\n",
    "                        feat=info['feat'][0], \\\n",
    "                        label=info['label'][0], \\\n",
    "                        account=norm_account, \\\n",
    "                        filter_pipe=filter_pipe)\n",
    "\n",
    "bt_benchmark = BENCH_Step(bt_split,\n",
    "                        market=info['market'][0], \\\n",
    "                        benchmark=info['benchmark'][0], \\\n",
    "                        feat=info['feat'][0], \\\n",
    "                        label=info['label'][0], \\\n",
    "                        account=norm_account, \\\n",
    "                        filter_pipe=filter_pipe)"
   ]
  },
  {
   "cell_type": "code",
   "execution_count": 6,
   "metadata": {
    "execution": {
     "iopub.execute_input": "2024-12-13T13:19:28.906801Z",
     "iopub.status.busy": "2024-12-13T13:19:28.906402Z",
     "iopub.status.idle": "2024-12-13T13:21:04.027492Z",
     "shell.execute_reply": "2024-12-13T13:21:04.026419Z"
    }
   },
   "outputs": [
    {
     "name": "stderr",
     "output_type": "stream",
     "text": [
      "[4091245:MainThread](2024-12-13 21:20:16,443) INFO - qlib.timer - [log.py:127] - Time cost: 47.532s | Loading data Done\n"
     ]
    },
    {
     "name": "stderr",
     "output_type": "stream",
     "text": [
      "[4091245:MainThread](2024-12-13 21:20:16,447) INFO - qlib.timer - [log.py:127] - Time cost: 0.002s | DropnaLabel Done\n"
     ]
    },
    {
     "name": "stderr",
     "output_type": "stream",
     "text": [
      "[4091245:MainThread](2024-12-13 21:20:16,452) INFO - qlib.timer - [log.py:127] - Time cost: 0.004s | CSZScoreNorm Done\n"
     ]
    },
    {
     "name": "stderr",
     "output_type": "stream",
     "text": [
      "[4091245:MainThread](2024-12-13 21:20:16,454) INFO - qlib.timer - [log.py:127] - Time cost: 0.009s | fit & process data Done\n"
     ]
    },
    {
     "name": "stderr",
     "output_type": "stream",
     "text": [
      "[4091245:MainThread](2024-12-13 21:20:16,455) INFO - qlib.timer - [log.py:127] - Time cost: 47.545s | Init data Done\n"
     ]
    },
    {
     "name": "stderr",
     "output_type": "stream",
     "text": [
      "[4091245:MainThread](2024-12-13 21:21:03,999) INFO - qlib.timer - [log.py:127] - Time cost: 47.540s | Loading data Done\n"
     ]
    },
    {
     "name": "stderr",
     "output_type": "stream",
     "text": [
      "[4091245:MainThread](2024-12-13 21:21:04,005) INFO - qlib.timer - [log.py:127] - Time cost: 0.002s | DropnaLabel Done\n"
     ]
    },
    {
     "name": "stderr",
     "output_type": "stream",
     "text": [
      "[4091245:MainThread](2024-12-13 21:21:04,021) INFO - qlib.timer - [log.py:127] - Time cost: 0.014s | CSZScoreNorm Done\n"
     ]
    },
    {
     "name": "stderr",
     "output_type": "stream",
     "text": [
      "[4091245:MainThread](2024-12-13 21:21:04,022) INFO - qlib.timer - [log.py:127] - Time cost: 0.021s | fit & process data Done\n"
     ]
    },
    {
     "name": "stderr",
     "output_type": "stream",
     "text": [
      "[4091245:MainThread](2024-12-13 21:21:04,023) INFO - qlib.timer - [log.py:127] - Time cost: 47.565s | Init data Done\n"
     ]
    }
   ],
   "source": [
    "dataset = init_instance_by_config(benchmark.dataset_config)\n",
    "bt_dataset = init_instance_by_config(bt_benchmark.dataset_config)\n",
    "# dataset.prepare('test')"
   ]
  },
  {
   "cell_type": "code",
   "execution_count": 7,
   "metadata": {
    "execution": {
     "iopub.execute_input": "2024-12-13T13:21:04.031864Z",
     "iopub.status.busy": "2024-12-13T13:21:04.031377Z",
     "iopub.status.idle": "2024-12-13T13:21:04.053522Z",
     "shell.execute_reply": "2024-12-13T13:21:04.052733Z"
    }
   },
   "outputs": [
    {
     "data": {
      "text/html": [
       "<div>\n",
       "<style scoped>\n",
       "    .dataframe tbody tr th:only-of-type {\n",
       "        vertical-align: middle;\n",
       "    }\n",
       "\n",
       "    .dataframe tbody tr th {\n",
       "        vertical-align: top;\n",
       "    }\n",
       "\n",
       "    .dataframe thead th {\n",
       "        text-align: right;\n",
       "    }\n",
       "</style>\n",
       "<table border=\"1\" class=\"dataframe\">\n",
       "  <thead>\n",
       "    <tr style=\"text-align: right;\">\n",
       "      <th></th>\n",
       "      <th></th>\n",
       "      <th>label</th>\n",
       "    </tr>\n",
       "    <tr>\n",
       "      <th>datetime</th>\n",
       "      <th>instrument</th>\n",
       "      <th></th>\n",
       "    </tr>\n",
       "  </thead>\n",
       "  <tbody>\n",
       "    <tr>\n",
       "      <th rowspan=\"5\" valign=\"top\">2024-12-02</th>\n",
       "      <th>SH600000</th>\n",
       "      <td>0.016860</td>\n",
       "    </tr>\n",
       "    <tr>\n",
       "      <th>SH600009</th>\n",
       "      <td>-0.000560</td>\n",
       "    </tr>\n",
       "    <tr>\n",
       "      <th>SH600010</th>\n",
       "      <td>-0.005051</td>\n",
       "    </tr>\n",
       "    <tr>\n",
       "      <th>SH600011</th>\n",
       "      <td>0.005666</td>\n",
       "    </tr>\n",
       "    <tr>\n",
       "      <th>SH600015</th>\n",
       "      <td>0.030956</td>\n",
       "    </tr>\n",
       "    <tr>\n",
       "      <th>...</th>\n",
       "      <th>...</th>\n",
       "      <td>...</td>\n",
       "    </tr>\n",
       "    <tr>\n",
       "      <th rowspan=\"5\" valign=\"top\">2024-12-12</th>\n",
       "      <th>SZ002841</th>\n",
       "      <td>-0.035522</td>\n",
       "    </tr>\n",
       "    <tr>\n",
       "      <th>SZ002916</th>\n",
       "      <td>0.001608</td>\n",
       "    </tr>\n",
       "    <tr>\n",
       "      <th>SZ002920</th>\n",
       "      <td>-0.050494</td>\n",
       "    </tr>\n",
       "    <tr>\n",
       "      <th>SZ002938</th>\n",
       "      <td>-0.011001</td>\n",
       "    </tr>\n",
       "    <tr>\n",
       "      <th>SZ003816</th>\n",
       "      <td>-0.014815</td>\n",
       "    </tr>\n",
       "  </tbody>\n",
       "</table>\n",
       "<p>2313 rows × 1 columns</p>\n",
       "</div>"
      ],
      "text/plain": [
       "                          label\n",
       "datetime   instrument          \n",
       "2024-12-02 SH600000    0.016860\n",
       "           SH600009   -0.000560\n",
       "           SH600010   -0.005051\n",
       "           SH600011    0.005666\n",
       "           SH600015    0.030956\n",
       "...                         ...\n",
       "2024-12-12 SZ002841   -0.035522\n",
       "           SZ002916    0.001608\n",
       "           SZ002920   -0.050494\n",
       "           SZ002938   -0.011001\n",
       "           SZ003816   -0.014815\n",
       "\n",
       "[2313 rows x 1 columns]"
      ]
     },
     "execution_count": 7,
     "metadata": {},
     "output_type": "execute_result"
    }
   ],
   "source": [
    "label_df = bt_dataset.prepare(\"test\")\n",
    "label_df = pd.DataFrame(label_df.loc[:, 'LABEL0'])\n",
    "label_df.columns = ['label']\n",
    "# label_df.index = label_df.index.droplevel(0)\n",
    "label_df"
   ]
  },
  {
   "cell_type": "markdown",
   "metadata": {},
   "source": [
    "Load and run model"
   ]
  },
  {
   "cell_type": "code",
   "execution_count": null,
   "metadata": {},
   "outputs": [],
   "source": []
  },
  {
   "cell_type": "code",
   "execution_count": 8,
   "metadata": {
    "execution": {
     "iopub.execute_input": "2024-12-13T13:21:04.057252Z",
     "iopub.status.busy": "2024-12-13T13:21:04.056874Z",
     "iopub.status.idle": "2024-12-13T13:21:04.074635Z",
     "shell.execute_reply": "2024-12-13T13:21:04.073785Z"
    }
   },
   "outputs": [],
   "source": [
    "def simp_eval(res_df, k, t=None, day=None):\n",
    "    if day:\n",
    "        date = str(cal.iloc[-day,0])\n",
    "        res_df = res_df[res_df.index.get_level_values('datetime') >= date]\n",
    "    # Step 1: Group by multiple indices\n",
    "    grouped = res_df.groupby(['datetime'])\n",
    "\n",
    "    # Step 2: Sort by 'value' within each group in descending order\n",
    "    sorted_df = grouped.apply(lambda x: x.sort_values(by='score', ascending=False))\n",
    "    sorted_df['win'] = sorted_df['label'] * sorted_df['score'] > 0\n",
    "    # Step 3: Select the top 5 rows for each group\n",
    "    # top_k_per_group = sorted_df.groupby(['datetime']).head(k)\n",
    "    top_k_per_group = sorted_df.groupby(['datetime']).apply(lambda x: x.nlargest(k, 'score'))#.reset_index(level=1, drop=1)\n",
    "    if t:\n",
    "        # top_k_per_group = top_k_per_group.tail(t)\n",
    "        top_k_per_group = top_k_per_group.groupby(['datetime']).apply(lambda x: x.nsmallest(t, 'score'))\n",
    "    # print(top_k_per_group)\n",
    "    top_k_ic = top_k_per_group['label'].corr(top_k_per_group['score'])\n",
    "    s, n = top_k_per_group['win'].sum(), len(top_k_per_group)\n",
    "    # print(s, n)\n",
    "    top_k_win = 1.0 * top_k_per_group['win'].sum() / len(top_k_per_group)\n",
    "    return top_k_ic, top_k_win\n",
    "\n",
    "def run_model(model):\n",
    "    BT_EXP_NAME = 'backtest'\n",
    "\n",
    "    # backtest and analysis\n",
    "    with R.start(experiment_name=BT_EXP_NAME, uri='./mlrun'):    \n",
    "        recorder = R.get_recorder()\n",
    "        ba_rid = R.get_recorder().id\n",
    "        sr = SignalRecord(model, bt_dataset, recorder)\n",
    "        sr.generate()\n",
    "    with R.start(experiment_name=BT_EXP_NAME, uri='./mlrun'):\n",
    "        recorder = R.get_recorder(recorder_id=ba_rid)\n",
    "        bt_pred_df = recorder.load_object(\"pred.pkl\")\n",
    "    res_df = pd.concat([label_df, bt_pred_df], axis=1, sort=True).reindex( label_df.index)\n",
    "\n",
    "    def eval_day(day=None):\n",
    "        top5ic, top5win = simp_eval(res_df, 5, day=day)\n",
    "        top10ic, top10win = simp_eval(res_df, 10, 5, day=day)\n",
    "        # top15ic, top15win = simp_eval(res_df, 15, 5, day=day)\n",
    "        top20ic, top20win = simp_eval(res_df, 20, 10, day=day)\n",
    "        # top25ic, top25win = simp_eval(res_df, 25, 5, day=day)\n",
    "        top30ic, top30win = simp_eval(res_df, 30, 10, day=day)\n",
    "        top40ic, top40win = simp_eval(res_df, 40, 10, day=day)\n",
    "        top50ic, top50win = simp_eval(res_df, 50, 10, day=day)\n",
    "        top60ic, top60win = simp_eval(res_df, 60, 10, day=day)\n",
    "        top70ic, top70win = simp_eval(res_df, 70, 10, day=day)\n",
    "        top80ic, top80win = simp_eval(res_df, 80, 10, day=day)        \n",
    "        top90ic, top90win = simp_eval(res_df, 90, 10, day=day)\n",
    "        top100ic, top100win = simp_eval(res_df, 100, 10, day=day)\n",
    "        top110ic, top110win = simp_eval(res_df, 110, 10, day=day)\n",
    "        top120ic, top120win = simp_eval(res_df, 120, 10, day=day)\n",
    "        top130ic, top130win = simp_eval(res_df, 130, 10, day=day)\n",
    "        top140ic, top140win = simp_eval(res_df, 140, 10, day=day)\n",
    "        top150ic, top150win = simp_eval(res_df, 150, 10, day=day)\n",
    "        topic, topwin = simp_eval(res_df, 50, day=day)\n",
    "        # return [topic, topwin, top5ic, top5win, top10ic, top10win, top15ic, top15win, top20ic, top20win, top25ic, top25win, top30ic, top30win]\n",
    "        return [topwin, top5win, top10win, top20win, top30win, top40win, top50win, top60win, top70win, top80win, top90win, top100win, top110win, top120win, top130win, top140win, top150win], [topic, top5ic, top10ic, top20ic, top30ic, top40ic, top50ic, top60ic, top70ic, top80ic, top90ic, top100ic, top110ic, top120ic, top130ic, top140ic, top150ic]\n",
    "    day1metrics = eval_day(2)\n",
    "    day5metrics = eval_day(6)\n",
    "    day10metrics = eval_day(11)\n",
    "    day20metrics = eval_day(21)\n",
    "    EXP_NAME = 'realworld_position_maker'\n",
    "\n",
    "    # backtest and analysis\n",
    "    with R.start(experiment_name=EXP_NAME, uri='./mlrun'):    \n",
    "        recorder = R.get_recorder()\n",
    "        ba_rid = R.get_recorder().id\n",
    "        sr = SignalRecord(model, dataset, recorder)\n",
    "        sr.generate()\n",
    "    with R.start(experiment_name=EXP_NAME, uri='./mlrun'):\n",
    "        recorder = R.get_recorder(recorder_id=ba_rid)\n",
    "        pred_df = recorder.load_object(\"pred.pkl\")\n",
    "\n",
    "    return day1metrics, day5metrics, day10metrics, day20metrics, pred_df"
   ]
  },
  {
   "cell_type": "markdown",
   "metadata": {},
   "source": [
    "# Run"
   ]
  },
  {
   "cell_type": "code",
   "execution_count": 9,
   "metadata": {
    "execution": {
     "iopub.execute_input": "2024-12-13T13:21:04.078700Z",
     "iopub.status.busy": "2024-12-13T13:21:04.078354Z",
     "iopub.status.idle": "2024-12-13T13:21:26.759407Z",
     "shell.execute_reply": "2024-12-13T13:21:26.758173Z"
    }
   },
   "outputs": [
    {
     "name": "stderr",
     "output_type": "stream",
     "text": [
      "[4091245:MainThread](2024-12-13 21:21:04,086) INFO - qlib.workflow - [exp.py:258] - Experiment 2 starts running ...\n"
     ]
    },
    {
     "name": "stderr",
     "output_type": "stream",
     "text": [
      "[4091245:MainThread](2024-12-13 21:21:04,168) INFO - qlib.workflow - [recorder.py:341] - Recorder 424db349ccd0423d9fd7fa5dea63c5dd starts running under Experiment 2 ...\n"
     ]
    },
    {
     "name": "stderr",
     "output_type": "stream",
     "text": [
      "[4091245:MainThread](2024-12-13 21:21:06,245) INFO - qlib.timer - [log.py:127] - Time cost: 0.000s | waiting `async_log` Done\n"
     ]
    },
    {
     "name": "stderr",
     "output_type": "stream",
     "text": [
      "[4091245:MainThread](2024-12-13 21:21:06,252) INFO - qlib.workflow - [exp.py:258] - Experiment 4 starts running ...\n"
     ]
    },
    {
     "name": "stderr",
     "output_type": "stream",
     "text": [
      "[4091245:MainThread](2024-12-13 21:21:06,268) INFO - qlib.workflow - [recorder.py:341] - Recorder bd309854ea08412aaa62ceae43ce7096 starts running under Experiment 4 ...\n"
     ]
    },
    {
     "name": "stderr",
     "output_type": "stream",
     "text": [
      "[4091245:MainThread](2024-12-13 21:21:06,542) INFO - qlib.workflow - [record_temp.py:198] - Signal record 'pred.pkl' has been saved as the artifact of the Experiment 4\n"
     ]
    },
    {
     "name": "stderr",
     "output_type": "stream",
     "text": [
      "[4091245:MainThread](2024-12-13 21:21:06,551) INFO - qlib.timer - [log.py:127] - Time cost: 0.000s | waiting `async_log` Done\n"
     ]
    },
    {
     "name": "stderr",
     "output_type": "stream",
     "text": [
      "[4091245:MainThread](2024-12-13 21:21:06,557) INFO - qlib.workflow - [exp.py:258] - Experiment 4 starts running ...\n"
     ]
    },
    {
     "name": "stderr",
     "output_type": "stream",
     "text": [
      "[4091245:MainThread](2024-12-13 21:21:06,576) INFO - qlib.workflow - [recorder.py:341] - Recorder 469bbfccda4e4315b4f920706d75c81c starts running under Experiment 4 ...\n"
     ]
    },
    {
     "name": "stdout",
     "output_type": "stream",
     "text": [
      "'The following are prediction results of the LGBModel model.'\n",
      "                          score\n",
      "datetime   instrument          \n",
      "2024-12-02 SH600000   -0.007318\n",
      "           SH600009   -0.005881\n",
      "           SH600010    0.016440\n",
      "           SH600011   -0.012365\n",
      "           SH600015    0.002524\n"
     ]
    },
    {
     "name": "stderr",
     "output_type": "stream",
     "text": [
      "[4091245:MainThread](2024-12-13 21:21:06,842) INFO - qlib.timer - [log.py:127] - Time cost: 0.003s | waiting `async_log` Done\n"
     ]
    },
    {
     "name": "stderr",
     "output_type": "stream",
     "text": [
      "[4091245:MainThread](2024-12-13 21:21:08,309) INFO - qlib.workflow - [exp.py:258] - Experiment 3 starts running ...\n"
     ]
    },
    {
     "name": "stderr",
     "output_type": "stream",
     "text": [
      "[4091245:MainThread](2024-12-13 21:21:08,334) INFO - qlib.workflow - [recorder.py:341] - Recorder adcc5af7f1164ba58386827389f66eca starts running under Experiment 3 ...\n"
     ]
    },
    {
     "name": "stderr",
     "output_type": "stream",
     "text": [
      "[4091245:MainThread](2024-12-13 21:21:08,624) INFO - qlib.workflow - [record_temp.py:198] - Signal record 'pred.pkl' has been saved as the artifact of the Experiment 3\n"
     ]
    },
    {
     "name": "stderr",
     "output_type": "stream",
     "text": [
      "[4091245:MainThread](2024-12-13 21:21:08,631) INFO - qlib.timer - [log.py:127] - Time cost: 0.000s | waiting `async_log` Done\n"
     ]
    },
    {
     "name": "stderr",
     "output_type": "stream",
     "text": [
      "[4091245:MainThread](2024-12-13 21:21:08,639) INFO - qlib.workflow - [exp.py:258] - Experiment 3 starts running ...\n"
     ]
    },
    {
     "name": "stderr",
     "output_type": "stream",
     "text": [
      "[4091245:MainThread](2024-12-13 21:21:08,660) INFO - qlib.workflow - [recorder.py:341] - Recorder 0197e6eb56f544aca926c02b52468a5c starts running under Experiment 3 ...\n"
     ]
    },
    {
     "name": "stdout",
     "output_type": "stream",
     "text": [
      "'The following are prediction results of the LGBModel model.'\n",
      "                          score\n",
      "datetime   instrument          \n",
      "2024-12-13 SH600000    0.020605\n",
      "           SH600009    0.040539\n",
      "           SH600010   -0.016258\n",
      "           SH600011    0.014400\n",
      "           SH600015    0.032870\n"
     ]
    },
    {
     "name": "stderr",
     "output_type": "stream",
     "text": [
      "[4091245:MainThread](2024-12-13 21:21:08,939) INFO - qlib.timer - [log.py:127] - Time cost: 0.002s | waiting `async_log` Done\n"
     ]
    },
    {
     "name": "stderr",
     "output_type": "stream",
     "text": [
      "[4091245:MainThread](2024-12-13 21:21:08,948) INFO - qlib.workflow - [exp.py:258] - Experiment 2 starts running ...\n"
     ]
    },
    {
     "name": "stderr",
     "output_type": "stream",
     "text": [
      "[4091245:MainThread](2024-12-13 21:21:08,958) INFO - qlib.workflow - [recorder.py:341] - Recorder d7443a1f775b4cbab71b2878a26f22bc starts running under Experiment 2 ...\n"
     ]
    },
    {
     "name": "stderr",
     "output_type": "stream",
     "text": [
      "[4091245:MainThread](2024-12-13 21:21:09,252) INFO - qlib.timer - [log.py:127] - Time cost: 0.000s | waiting `async_log` Done\n"
     ]
    },
    {
     "name": "stderr",
     "output_type": "stream",
     "text": [
      "[4091245:MainThread](2024-12-13 21:21:09,259) INFO - qlib.workflow - [exp.py:258] - Experiment 4 starts running ...\n"
     ]
    },
    {
     "name": "stderr",
     "output_type": "stream",
     "text": [
      "[4091245:MainThread](2024-12-13 21:21:09,275) INFO - qlib.workflow - [recorder.py:341] - Recorder e7baf28d4cf44404bbc5bd7b91558f8f starts running under Experiment 4 ...\n"
     ]
    },
    {
     "name": "stderr",
     "output_type": "stream",
     "text": [
      "[4091245:MainThread](2024-12-13 21:21:09,555) INFO - qlib.workflow - [record_temp.py:198] - Signal record 'pred.pkl' has been saved as the artifact of the Experiment 4\n"
     ]
    },
    {
     "name": "stderr",
     "output_type": "stream",
     "text": [
      "[4091245:MainThread](2024-12-13 21:21:09,563) INFO - qlib.timer - [log.py:127] - Time cost: 0.000s | waiting `async_log` Done\n"
     ]
    },
    {
     "name": "stderr",
     "output_type": "stream",
     "text": [
      "[4091245:MainThread](2024-12-13 21:21:09,570) INFO - qlib.workflow - [exp.py:258] - Experiment 4 starts running ...\n"
     ]
    },
    {
     "name": "stderr",
     "output_type": "stream",
     "text": [
      "[4091245:MainThread](2024-12-13 21:21:09,586) INFO - qlib.workflow - [recorder.py:341] - Recorder 06b5e00bd4614de8a309177c85dfd654 starts running under Experiment 4 ...\n"
     ]
    },
    {
     "name": "stdout",
     "output_type": "stream",
     "text": [
      "'The following are prediction results of the LGBModel model.'\n",
      "                          score\n",
      "datetime   instrument          \n",
      "2024-12-02 SH600000   -0.008783\n",
      "           SH600009   -0.012275\n",
      "           SH600010    0.038505\n",
      "           SH600011   -0.030828\n",
      "           SH600015    0.029393\n"
     ]
    },
    {
     "name": "stderr",
     "output_type": "stream",
     "text": [
      "[4091245:MainThread](2024-12-13 21:21:09,857) INFO - qlib.timer - [log.py:127] - Time cost: 0.002s | waiting `async_log` Done\n"
     ]
    },
    {
     "name": "stderr",
     "output_type": "stream",
     "text": [
      "[4091245:MainThread](2024-12-13 21:21:11,428) INFO - qlib.workflow - [exp.py:258] - Experiment 3 starts running ...\n"
     ]
    },
    {
     "name": "stderr",
     "output_type": "stream",
     "text": [
      "[4091245:MainThread](2024-12-13 21:21:11,450) INFO - qlib.workflow - [recorder.py:341] - Recorder c41ebfb69dfc49f8b5742515014d2a30 starts running under Experiment 3 ...\n"
     ]
    },
    {
     "name": "stderr",
     "output_type": "stream",
     "text": [
      "[4091245:MainThread](2024-12-13 21:21:11,741) INFO - qlib.workflow - [record_temp.py:198] - Signal record 'pred.pkl' has been saved as the artifact of the Experiment 3\n"
     ]
    },
    {
     "name": "stderr",
     "output_type": "stream",
     "text": [
      "[4091245:MainThread](2024-12-13 21:21:11,749) INFO - qlib.timer - [log.py:127] - Time cost: 0.000s | waiting `async_log` Done\n"
     ]
    },
    {
     "name": "stderr",
     "output_type": "stream",
     "text": [
      "[4091245:MainThread](2024-12-13 21:21:11,758) INFO - qlib.workflow - [exp.py:258] - Experiment 3 starts running ...\n"
     ]
    },
    {
     "name": "stderr",
     "output_type": "stream",
     "text": [
      "[4091245:MainThread](2024-12-13 21:21:11,783) INFO - qlib.workflow - [recorder.py:341] - Recorder 7c14db8233ff4424b9a537a55fb53ac0 starts running under Experiment 3 ...\n"
     ]
    },
    {
     "name": "stdout",
     "output_type": "stream",
     "text": [
      "'The following are prediction results of the LGBModel model.'\n",
      "                          score\n",
      "datetime   instrument          \n",
      "2024-12-13 SH600000    0.018625\n",
      "           SH600009    0.055961\n",
      "           SH600010   -0.072277\n",
      "           SH600011    0.010216\n",
      "           SH600015    0.031581\n"
     ]
    },
    {
     "name": "stderr",
     "output_type": "stream",
     "text": [
      "[4091245:MainThread](2024-12-13 21:21:12,061) INFO - qlib.timer - [log.py:127] - Time cost: 0.000s | waiting `async_log` Done\n"
     ]
    },
    {
     "name": "stderr",
     "output_type": "stream",
     "text": [
      "[4091245:MainThread](2024-12-13 21:21:12,073) INFO - qlib.workflow - [exp.py:258] - Experiment 2 starts running ...\n"
     ]
    },
    {
     "name": "stderr",
     "output_type": "stream",
     "text": [
      "[4091245:MainThread](2024-12-13 21:21:12,084) INFO - qlib.workflow - [recorder.py:341] - Recorder 587904a3ff97463cabb5571f990b076c starts running under Experiment 2 ...\n"
     ]
    },
    {
     "name": "stderr",
     "output_type": "stream",
     "text": [
      "[4091245:MainThread](2024-12-13 21:21:12,379) INFO - qlib.timer - [log.py:127] - Time cost: 0.002s | waiting `async_log` Done\n"
     ]
    },
    {
     "name": "stderr",
     "output_type": "stream",
     "text": [
      "[4091245:MainThread](2024-12-13 21:21:12,389) INFO - qlib.workflow - [exp.py:258] - Experiment 4 starts running ...\n"
     ]
    },
    {
     "name": "stderr",
     "output_type": "stream",
     "text": [
      "[4091245:MainThread](2024-12-13 21:21:12,405) INFO - qlib.workflow - [recorder.py:341] - Recorder 8f622acf84d14506a3d9d44d310260b4 starts running under Experiment 4 ...\n"
     ]
    },
    {
     "name": "stderr",
     "output_type": "stream",
     "text": [
      "[4091245:MainThread](2024-12-13 21:21:12,673) INFO - qlib.workflow - [record_temp.py:198] - Signal record 'pred.pkl' has been saved as the artifact of the Experiment 4\n"
     ]
    },
    {
     "name": "stderr",
     "output_type": "stream",
     "text": [
      "[4091245:MainThread](2024-12-13 21:21:12,686) INFO - qlib.timer - [log.py:127] - Time cost: 0.000s | waiting `async_log` Done\n"
     ]
    },
    {
     "name": "stderr",
     "output_type": "stream",
     "text": [
      "[4091245:MainThread](2024-12-13 21:21:12,696) INFO - qlib.workflow - [exp.py:258] - Experiment 4 starts running ...\n"
     ]
    },
    {
     "name": "stderr",
     "output_type": "stream",
     "text": [
      "[4091245:MainThread](2024-12-13 21:21:12,712) INFO - qlib.workflow - [recorder.py:341] - Recorder fdb95c7a33fe4b7bb9e79de83d2922db starts running under Experiment 4 ...\n"
     ]
    },
    {
     "name": "stdout",
     "output_type": "stream",
     "text": [
      "'The following are prediction results of the LGBModel model.'\n",
      "                          score\n",
      "datetime   instrument          \n",
      "2024-12-02 SH600000   -0.005225\n",
      "           SH600009    0.007663\n",
      "           SH600010    0.072481\n",
      "           SH600011   -0.011017\n",
      "           SH600015    0.058992\n"
     ]
    },
    {
     "name": "stderr",
     "output_type": "stream",
     "text": [
      "[4091245:MainThread](2024-12-13 21:21:12,984) INFO - qlib.timer - [log.py:127] - Time cost: 0.002s | waiting `async_log` Done\n"
     ]
    },
    {
     "name": "stderr",
     "output_type": "stream",
     "text": [
      "[4091245:MainThread](2024-12-13 21:21:14,367) INFO - qlib.workflow - [exp.py:258] - Experiment 3 starts running ...\n"
     ]
    },
    {
     "name": "stderr",
     "output_type": "stream",
     "text": [
      "[4091245:MainThread](2024-12-13 21:21:14,390) INFO - qlib.workflow - [recorder.py:341] - Recorder eb4ba94eabd143ff89708c3d9fe218de starts running under Experiment 3 ...\n"
     ]
    },
    {
     "name": "stderr",
     "output_type": "stream",
     "text": [
      "[4091245:MainThread](2024-12-13 21:21:14,674) INFO - qlib.workflow - [record_temp.py:198] - Signal record 'pred.pkl' has been saved as the artifact of the Experiment 3\n"
     ]
    },
    {
     "name": "stderr",
     "output_type": "stream",
     "text": [
      "[4091245:MainThread](2024-12-13 21:21:14,681) INFO - qlib.timer - [log.py:127] - Time cost: 0.000s | waiting `async_log` Done\n"
     ]
    },
    {
     "name": "stderr",
     "output_type": "stream",
     "text": [
      "[4091245:MainThread](2024-12-13 21:21:14,689) INFO - qlib.workflow - [exp.py:258] - Experiment 3 starts running ...\n"
     ]
    },
    {
     "name": "stderr",
     "output_type": "stream",
     "text": [
      "[4091245:MainThread](2024-12-13 21:21:14,710) INFO - qlib.workflow - [recorder.py:341] - Recorder 6dc10c7a847843eeb8b83530103cab08 starts running under Experiment 3 ...\n"
     ]
    },
    {
     "name": "stdout",
     "output_type": "stream",
     "text": [
      "'The following are prediction results of the LGBModel model.'\n",
      "                          score\n",
      "datetime   instrument          \n",
      "2024-12-13 SH600000    0.010684\n",
      "           SH600009    0.064762\n",
      "           SH600010   -0.037829\n",
      "           SH600011    0.022834\n",
      "           SH600015    0.037158\n"
     ]
    },
    {
     "name": "stderr",
     "output_type": "stream",
     "text": [
      "[4091245:MainThread](2024-12-13 21:21:14,994) INFO - qlib.timer - [log.py:127] - Time cost: 0.000s | waiting `async_log` Done\n"
     ]
    },
    {
     "name": "stderr",
     "output_type": "stream",
     "text": [
      "[4091245:MainThread](2024-12-13 21:21:15,005) INFO - qlib.workflow - [exp.py:258] - Experiment 2 starts running ...\n"
     ]
    },
    {
     "name": "stderr",
     "output_type": "stream",
     "text": [
      "[4091245:MainThread](2024-12-13 21:21:15,016) INFO - qlib.workflow - [recorder.py:341] - Recorder 6ce562f650734e10ba41833bc87daf3d starts running under Experiment 2 ...\n"
     ]
    },
    {
     "name": "stderr",
     "output_type": "stream",
     "text": [
      "[4091245:MainThread](2024-12-13 21:21:15,306) INFO - qlib.timer - [log.py:127] - Time cost: 0.005s | waiting `async_log` Done\n"
     ]
    },
    {
     "name": "stderr",
     "output_type": "stream",
     "text": [
      "[4091245:MainThread](2024-12-13 21:21:15,313) INFO - qlib.workflow - [exp.py:258] - Experiment 4 starts running ...\n"
     ]
    },
    {
     "name": "stderr",
     "output_type": "stream",
     "text": [
      "[4091245:MainThread](2024-12-13 21:21:15,329) INFO - qlib.workflow - [recorder.py:341] - Recorder 6400014cdca24e07a01d65f2174a2c0a starts running under Experiment 4 ...\n"
     ]
    },
    {
     "name": "stderr",
     "output_type": "stream",
     "text": [
      "[4091245:MainThread](2024-12-13 21:21:15,607) INFO - qlib.workflow - [record_temp.py:198] - Signal record 'pred.pkl' has been saved as the artifact of the Experiment 4\n"
     ]
    },
    {
     "name": "stderr",
     "output_type": "stream",
     "text": [
      "[4091245:MainThread](2024-12-13 21:21:15,615) INFO - qlib.timer - [log.py:127] - Time cost: 0.000s | waiting `async_log` Done\n"
     ]
    },
    {
     "name": "stderr",
     "output_type": "stream",
     "text": [
      "[4091245:MainThread](2024-12-13 21:21:15,622) INFO - qlib.workflow - [exp.py:258] - Experiment 4 starts running ...\n"
     ]
    },
    {
     "name": "stderr",
     "output_type": "stream",
     "text": [
      "[4091245:MainThread](2024-12-13 21:21:15,638) INFO - qlib.workflow - [recorder.py:341] - Recorder 1e37fe8682034164a76b4e7c85c1fd6e starts running under Experiment 4 ...\n"
     ]
    },
    {
     "name": "stdout",
     "output_type": "stream",
     "text": [
      "'The following are prediction results of the LGBModel model.'\n",
      "                          score\n",
      "datetime   instrument          \n",
      "2024-12-02 SH600000   -0.030935\n",
      "           SH600009   -0.016277\n",
      "           SH600010   -0.001566\n",
      "           SH600011    0.004221\n",
      "           SH600015    0.035642\n"
     ]
    },
    {
     "name": "stderr",
     "output_type": "stream",
     "text": [
      "[4091245:MainThread](2024-12-13 21:21:15,943) INFO - qlib.timer - [log.py:127] - Time cost: 0.000s | waiting `async_log` Done\n"
     ]
    },
    {
     "name": "stderr",
     "output_type": "stream",
     "text": [
      "[4091245:MainThread](2024-12-13 21:21:17,331) INFO - qlib.workflow - [exp.py:258] - Experiment 3 starts running ...\n"
     ]
    },
    {
     "name": "stderr",
     "output_type": "stream",
     "text": [
      "[4091245:MainThread](2024-12-13 21:21:17,352) INFO - qlib.workflow - [recorder.py:341] - Recorder c6e9af4e73c64a57a7dd31a841252cdc starts running under Experiment 3 ...\n"
     ]
    },
    {
     "name": "stderr",
     "output_type": "stream",
     "text": [
      "[4091245:MainThread](2024-12-13 21:21:17,645) INFO - qlib.workflow - [record_temp.py:198] - Signal record 'pred.pkl' has been saved as the artifact of the Experiment 3\n"
     ]
    },
    {
     "name": "stderr",
     "output_type": "stream",
     "text": [
      "[4091245:MainThread](2024-12-13 21:21:17,652) INFO - qlib.timer - [log.py:127] - Time cost: 0.000s | waiting `async_log` Done\n"
     ]
    },
    {
     "name": "stderr",
     "output_type": "stream",
     "text": [
      "[4091245:MainThread](2024-12-13 21:21:17,660) INFO - qlib.workflow - [exp.py:258] - Experiment 3 starts running ...\n"
     ]
    },
    {
     "name": "stderr",
     "output_type": "stream",
     "text": [
      "[4091245:MainThread](2024-12-13 21:21:17,683) INFO - qlib.workflow - [recorder.py:341] - Recorder 8dcacbfcaa7c43d6923901f64f27dc9b starts running under Experiment 3 ...\n"
     ]
    },
    {
     "name": "stdout",
     "output_type": "stream",
     "text": [
      "'The following are prediction results of the LGBModel model.'\n",
      "                          score\n",
      "datetime   instrument          \n",
      "2024-12-13 SH600000   -0.009372\n",
      "           SH600009    0.026201\n",
      "           SH600010    0.055086\n",
      "           SH600011   -0.006852\n",
      "           SH600015    0.026469\n"
     ]
    },
    {
     "name": "stderr",
     "output_type": "stream",
     "text": [
      "[4091245:MainThread](2024-12-13 21:21:17,961) INFO - qlib.timer - [log.py:127] - Time cost: 0.000s | waiting `async_log` Done\n"
     ]
    },
    {
     "name": "stderr",
     "output_type": "stream",
     "text": [
      "[4091245:MainThread](2024-12-13 21:21:17,973) INFO - qlib.workflow - [exp.py:258] - Experiment 2 starts running ...\n"
     ]
    },
    {
     "name": "stderr",
     "output_type": "stream",
     "text": [
      "[4091245:MainThread](2024-12-13 21:21:17,984) INFO - qlib.workflow - [recorder.py:341] - Recorder c63c7e56b97349ba8376526b98171b90 starts running under Experiment 2 ...\n"
     ]
    },
    {
     "name": "stderr",
     "output_type": "stream",
     "text": [
      "[4091245:MainThread](2024-12-13 21:21:18,271) INFO - qlib.timer - [log.py:127] - Time cost: 0.004s | waiting `async_log` Done\n"
     ]
    },
    {
     "name": "stderr",
     "output_type": "stream",
     "text": [
      "[4091245:MainThread](2024-12-13 21:21:18,281) INFO - qlib.workflow - [exp.py:258] - Experiment 4 starts running ...\n"
     ]
    },
    {
     "name": "stderr",
     "output_type": "stream",
     "text": [
      "[4091245:MainThread](2024-12-13 21:21:18,299) INFO - qlib.workflow - [recorder.py:341] - Recorder 5b168559c64a47f4a1fae96c68f81def starts running under Experiment 4 ...\n"
     ]
    },
    {
     "name": "stderr",
     "output_type": "stream",
     "text": [
      "[4091245:MainThread](2024-12-13 21:21:18,574) INFO - qlib.workflow - [record_temp.py:198] - Signal record 'pred.pkl' has been saved as the artifact of the Experiment 4\n"
     ]
    },
    {
     "name": "stderr",
     "output_type": "stream",
     "text": [
      "[4091245:MainThread](2024-12-13 21:21:18,582) INFO - qlib.timer - [log.py:127] - Time cost: 0.000s | waiting `async_log` Done\n"
     ]
    },
    {
     "name": "stderr",
     "output_type": "stream",
     "text": [
      "[4091245:MainThread](2024-12-13 21:21:18,589) INFO - qlib.workflow - [exp.py:258] - Experiment 4 starts running ...\n"
     ]
    },
    {
     "name": "stderr",
     "output_type": "stream",
     "text": [
      "[4091245:MainThread](2024-12-13 21:21:18,605) INFO - qlib.workflow - [recorder.py:341] - Recorder 8d2333e5383f4b39b6d087b347b1e077 starts running under Experiment 4 ...\n"
     ]
    },
    {
     "name": "stdout",
     "output_type": "stream",
     "text": [
      "'The following are prediction results of the LGBModel model.'\n",
      "                          score\n",
      "datetime   instrument          \n",
      "2024-12-02 SH600000   -0.018763\n",
      "           SH600009   -0.019384\n",
      "           SH600010    0.008546\n",
      "           SH600011   -0.005642\n",
      "           SH600015    0.042966\n"
     ]
    },
    {
     "name": "stderr",
     "output_type": "stream",
     "text": [
      "[4091245:MainThread](2024-12-13 21:21:18,876) INFO - qlib.timer - [log.py:127] - Time cost: 0.003s | waiting `async_log` Done\n"
     ]
    },
    {
     "name": "stderr",
     "output_type": "stream",
     "text": [
      "[4091245:MainThread](2024-12-13 21:21:20,290) INFO - qlib.workflow - [exp.py:258] - Experiment 3 starts running ...\n"
     ]
    },
    {
     "name": "stderr",
     "output_type": "stream",
     "text": [
      "[4091245:MainThread](2024-12-13 21:21:20,312) INFO - qlib.workflow - [recorder.py:341] - Recorder 6f876c745f804ebf95b1b4b88f561663 starts running under Experiment 3 ...\n"
     ]
    },
    {
     "name": "stderr",
     "output_type": "stream",
     "text": [
      "[4091245:MainThread](2024-12-13 21:21:20,590) INFO - qlib.workflow - [record_temp.py:198] - Signal record 'pred.pkl' has been saved as the artifact of the Experiment 3\n"
     ]
    },
    {
     "name": "stderr",
     "output_type": "stream",
     "text": [
      "[4091245:MainThread](2024-12-13 21:21:20,597) INFO - qlib.timer - [log.py:127] - Time cost: 0.000s | waiting `async_log` Done\n"
     ]
    },
    {
     "name": "stderr",
     "output_type": "stream",
     "text": [
      "[4091245:MainThread](2024-12-13 21:21:20,606) INFO - qlib.workflow - [exp.py:258] - Experiment 3 starts running ...\n"
     ]
    },
    {
     "name": "stderr",
     "output_type": "stream",
     "text": [
      "[4091245:MainThread](2024-12-13 21:21:20,627) INFO - qlib.workflow - [recorder.py:341] - Recorder 103095867d244da4bc4d6e9cca860445 starts running under Experiment 3 ...\n"
     ]
    },
    {
     "name": "stdout",
     "output_type": "stream",
     "text": [
      "'The following are prediction results of the LGBModel model.'\n",
      "                          score\n",
      "datetime   instrument          \n",
      "2024-12-13 SH600000   -0.019494\n",
      "           SH600009    0.047664\n",
      "           SH600010    0.018199\n",
      "           SH600011   -0.001023\n",
      "           SH600015    0.018852\n"
     ]
    },
    {
     "name": "stderr",
     "output_type": "stream",
     "text": [
      "[4091245:MainThread](2024-12-13 21:21:20,895) INFO - qlib.timer - [log.py:127] - Time cost: 0.003s | waiting `async_log` Done\n"
     ]
    },
    {
     "name": "stderr",
     "output_type": "stream",
     "text": [
      "[4091245:MainThread](2024-12-13 21:21:20,906) INFO - qlib.workflow - [exp.py:258] - Experiment 2 starts running ...\n"
     ]
    },
    {
     "name": "stderr",
     "output_type": "stream",
     "text": [
      "[4091245:MainThread](2024-12-13 21:21:20,918) INFO - qlib.workflow - [recorder.py:341] - Recorder 36f000905310402e93e0b0af4e1c1a6d starts running under Experiment 2 ...\n"
     ]
    },
    {
     "name": "stderr",
     "output_type": "stream",
     "text": [
      "[4091245:MainThread](2024-12-13 21:21:21,212) INFO - qlib.timer - [log.py:127] - Time cost: 0.002s | waiting `async_log` Done\n"
     ]
    },
    {
     "name": "stderr",
     "output_type": "stream",
     "text": [
      "[4091245:MainThread](2024-12-13 21:21:21,220) INFO - qlib.workflow - [exp.py:258] - Experiment 4 starts running ...\n"
     ]
    },
    {
     "name": "stderr",
     "output_type": "stream",
     "text": [
      "[4091245:MainThread](2024-12-13 21:21:21,237) INFO - qlib.workflow - [recorder.py:341] - Recorder 478b6cc8ad1440878ff63d69795fcfb1 starts running under Experiment 4 ...\n"
     ]
    },
    {
     "name": "stderr",
     "output_type": "stream",
     "text": [
      "[4091245:MainThread](2024-12-13 21:21:21,514) INFO - qlib.workflow - [record_temp.py:198] - Signal record 'pred.pkl' has been saved as the artifact of the Experiment 4\n"
     ]
    },
    {
     "name": "stderr",
     "output_type": "stream",
     "text": [
      "[4091245:MainThread](2024-12-13 21:21:21,522) INFO - qlib.timer - [log.py:127] - Time cost: 0.000s | waiting `async_log` Done\n"
     ]
    },
    {
     "name": "stderr",
     "output_type": "stream",
     "text": [
      "[4091245:MainThread](2024-12-13 21:21:21,529) INFO - qlib.workflow - [exp.py:258] - Experiment 4 starts running ...\n"
     ]
    },
    {
     "name": "stderr",
     "output_type": "stream",
     "text": [
      "[4091245:MainThread](2024-12-13 21:21:21,545) INFO - qlib.workflow - [recorder.py:341] - Recorder cd29ea3ecbd74b4fad960d7c2746c2d1 starts running under Experiment 4 ...\n"
     ]
    },
    {
     "name": "stdout",
     "output_type": "stream",
     "text": [
      "'The following are prediction results of the LGBModel model.'\n",
      "                          score\n",
      "datetime   instrument          \n",
      "2024-12-02 SH600000   -0.038353\n",
      "           SH600009    0.004608\n",
      "           SH600010    0.032711\n",
      "           SH600011    0.007540\n",
      "           SH600015    0.040062\n"
     ]
    },
    {
     "name": "stderr",
     "output_type": "stream",
     "text": [
      "[4091245:MainThread](2024-12-13 21:21:21,811) INFO - qlib.timer - [log.py:127] - Time cost: 0.000s | waiting `async_log` Done\n"
     ]
    },
    {
     "name": "stderr",
     "output_type": "stream",
     "text": [
      "[4091245:MainThread](2024-12-13 21:21:23,195) INFO - qlib.workflow - [exp.py:258] - Experiment 3 starts running ...\n"
     ]
    },
    {
     "name": "stderr",
     "output_type": "stream",
     "text": [
      "[4091245:MainThread](2024-12-13 21:21:23,218) INFO - qlib.workflow - [recorder.py:341] - Recorder 507091377b544955bb82b2289eb72b13 starts running under Experiment 3 ...\n"
     ]
    },
    {
     "name": "stderr",
     "output_type": "stream",
     "text": [
      "[4091245:MainThread](2024-12-13 21:21:23,499) INFO - qlib.workflow - [record_temp.py:198] - Signal record 'pred.pkl' has been saved as the artifact of the Experiment 3\n"
     ]
    },
    {
     "name": "stderr",
     "output_type": "stream",
     "text": [
      "[4091245:MainThread](2024-12-13 21:21:23,505) INFO - qlib.timer - [log.py:127] - Time cost: 0.000s | waiting `async_log` Done\n"
     ]
    },
    {
     "name": "stderr",
     "output_type": "stream",
     "text": [
      "[4091245:MainThread](2024-12-13 21:21:23,513) INFO - qlib.workflow - [exp.py:258] - Experiment 3 starts running ...\n"
     ]
    },
    {
     "name": "stderr",
     "output_type": "stream",
     "text": [
      "[4091245:MainThread](2024-12-13 21:21:23,535) INFO - qlib.workflow - [recorder.py:341] - Recorder bb014e729c9c40e68f6fb52ca59a6bb3 starts running under Experiment 3 ...\n"
     ]
    },
    {
     "name": "stdout",
     "output_type": "stream",
     "text": [
      "'The following are prediction results of the LGBModel model.'\n",
      "                          score\n",
      "datetime   instrument          \n",
      "2024-12-13 SH600000   -0.061757\n",
      "           SH600009    0.108243\n",
      "           SH600010   -0.034740\n",
      "           SH600011   -0.005243\n",
      "           SH600015    0.005125\n"
     ]
    },
    {
     "name": "stderr",
     "output_type": "stream",
     "text": [
      "[4091245:MainThread](2024-12-13 21:21:23,808) INFO - qlib.timer - [log.py:127] - Time cost: 0.002s | waiting `async_log` Done\n"
     ]
    },
    {
     "name": "stderr",
     "output_type": "stream",
     "text": [
      "[4091245:MainThread](2024-12-13 21:21:23,818) INFO - qlib.workflow - [exp.py:258] - Experiment 2 starts running ...\n"
     ]
    },
    {
     "name": "stderr",
     "output_type": "stream",
     "text": [
      "[4091245:MainThread](2024-12-13 21:21:23,829) INFO - qlib.workflow - [recorder.py:341] - Recorder 8163d853b77e45939efe9495445deddc starts running under Experiment 2 ...\n"
     ]
    },
    {
     "name": "stderr",
     "output_type": "stream",
     "text": [
      "[4091245:MainThread](2024-12-13 21:21:24,123) INFO - qlib.timer - [log.py:127] - Time cost: 0.003s | waiting `async_log` Done\n"
     ]
    },
    {
     "name": "stderr",
     "output_type": "stream",
     "text": [
      "[4091245:MainThread](2024-12-13 21:21:24,131) INFO - qlib.workflow - [exp.py:258] - Experiment 4 starts running ...\n"
     ]
    },
    {
     "name": "stderr",
     "output_type": "stream",
     "text": [
      "[4091245:MainThread](2024-12-13 21:21:24,148) INFO - qlib.workflow - [recorder.py:341] - Recorder 8d4bce60bbcd45f8ada696f6af48a2cc starts running under Experiment 4 ...\n"
     ]
    },
    {
     "name": "stderr",
     "output_type": "stream",
     "text": [
      "[4091245:MainThread](2024-12-13 21:21:24,422) INFO - qlib.workflow - [record_temp.py:198] - Signal record 'pred.pkl' has been saved as the artifact of the Experiment 4\n"
     ]
    },
    {
     "name": "stderr",
     "output_type": "stream",
     "text": [
      "[4091245:MainThread](2024-12-13 21:21:24,431) INFO - qlib.timer - [log.py:127] - Time cost: 0.000s | waiting `async_log` Done\n"
     ]
    },
    {
     "name": "stderr",
     "output_type": "stream",
     "text": [
      "[4091245:MainThread](2024-12-13 21:21:24,438) INFO - qlib.workflow - [exp.py:258] - Experiment 4 starts running ...\n"
     ]
    },
    {
     "name": "stderr",
     "output_type": "stream",
     "text": [
      "[4091245:MainThread](2024-12-13 21:21:24,454) INFO - qlib.workflow - [recorder.py:341] - Recorder e079e772376a4a00b5c25baac82615db starts running under Experiment 4 ...\n"
     ]
    },
    {
     "name": "stdout",
     "output_type": "stream",
     "text": [
      "'The following are prediction results of the LGBModel model.'\n",
      "                          score\n",
      "datetime   instrument          \n",
      "2024-12-02 SH600000   -0.032630\n",
      "           SH600009   -0.021381\n",
      "           SH600010   -0.004724\n",
      "           SH600011    0.000032\n",
      "           SH600015    0.022497\n"
     ]
    },
    {
     "name": "stderr",
     "output_type": "stream",
     "text": [
      "[4091245:MainThread](2024-12-13 21:21:24,727) INFO - qlib.timer - [log.py:127] - Time cost: 0.003s | waiting `async_log` Done\n"
     ]
    },
    {
     "name": "stderr",
     "output_type": "stream",
     "text": [
      "[4091245:MainThread](2024-12-13 21:21:26,136) INFO - qlib.workflow - [exp.py:258] - Experiment 3 starts running ...\n"
     ]
    },
    {
     "name": "stderr",
     "output_type": "stream",
     "text": [
      "[4091245:MainThread](2024-12-13 21:21:26,160) INFO - qlib.workflow - [recorder.py:341] - Recorder 56a6a518013144dbb46583dae462b991 starts running under Experiment 3 ...\n"
     ]
    },
    {
     "name": "stderr",
     "output_type": "stream",
     "text": [
      "[4091245:MainThread](2024-12-13 21:21:26,442) INFO - qlib.workflow - [record_temp.py:198] - Signal record 'pred.pkl' has been saved as the artifact of the Experiment 3\n"
     ]
    },
    {
     "name": "stderr",
     "output_type": "stream",
     "text": [
      "[4091245:MainThread](2024-12-13 21:21:26,448) INFO - qlib.timer - [log.py:127] - Time cost: 0.000s | waiting `async_log` Done\n"
     ]
    },
    {
     "name": "stderr",
     "output_type": "stream",
     "text": [
      "[4091245:MainThread](2024-12-13 21:21:26,456) INFO - qlib.workflow - [exp.py:258] - Experiment 3 starts running ...\n"
     ]
    },
    {
     "name": "stderr",
     "output_type": "stream",
     "text": [
      "[4091245:MainThread](2024-12-13 21:21:26,478) INFO - qlib.workflow - [recorder.py:341] - Recorder d5b353952ec14f7c829ce78f45269969 starts running under Experiment 3 ...\n"
     ]
    },
    {
     "name": "stdout",
     "output_type": "stream",
     "text": [
      "'The following are prediction results of the LGBModel model.'\n",
      "                          score\n",
      "datetime   instrument          \n",
      "2024-12-13 SH600000   -0.009761\n",
      "           SH600009    0.027708\n",
      "           SH600010    0.049938\n",
      "           SH600011   -0.007178\n",
      "           SH600015    0.025280\n"
     ]
    },
    {
     "name": "stderr",
     "output_type": "stream",
     "text": [
      "[4091245:MainThread](2024-12-13 21:21:26,749) INFO - qlib.timer - [log.py:127] - Time cost: 0.001s | waiting `async_log` Done\n"
     ]
    }
   ],
   "source": [
    "info_win_dict1, info_ic_dict1 = {}, {}\n",
    "info_win_dict5, info_ic_dict5 = {}, {}\n",
    "info_win_dict10, info_ic_dict10 = {}, {}\n",
    "info_win_dict20, info_ic_dict20 = {}, {}\n",
    "pred_lst = []\n",
    "\n",
    "for NAME, EXP_NAME, rid in REC_LIST:\n",
    "    with R.start(experiment_name=EXP_NAME, uri='./mlrun'):\n",
    "        recorder = R.get_recorder(recorder_id=rid)\n",
    "        model = recorder.load_object(\"trained_model\")\n",
    "    day1metrics, day5metrics, day10metrics, day20metrics, pred_df = run_model(model)\n",
    "    info_win_dict1[NAME], info_ic_dict1[NAME] = day1metrics\n",
    "    info_win_dict5[NAME], info_ic_dict5[NAME] = day5metrics\n",
    "    info_win_dict10[NAME], info_ic_dict10[NAME] = day10metrics\n",
    "    info_win_dict20[NAME], info_ic_dict20[NAME] = day20metrics\n",
    "    # for k in [1, 5, 10, 20]:\n",
    "    #     eval(f'    info_win_dict{k}[NAME], info_ic_dict{k}[NAME] = day{k}metrics')\n",
    "    pred_lst.append(pred_df)"
   ]
  },
  {
   "cell_type": "code",
   "execution_count": 10,
   "metadata": {
    "execution": {
     "iopub.execute_input": "2024-12-13T13:21:26.763915Z",
     "iopub.status.busy": "2024-12-13T13:21:26.763398Z",
     "iopub.status.idle": "2024-12-13T13:21:26.779756Z",
     "shell.execute_reply": "2024-12-13T13:21:26.778814Z"
    }
   },
   "outputs": [],
   "source": [
    "pred_df = pd.concat(pred_lst, axis=1)\n",
    "pred_df.columns = name_lst = [r[0] for r in REC_LIST]\n",
    "_pred_df = pred_df\n",
    "\n",
    "pred_df['mean'] = _pred_df.mean(axis=1)\n",
    "pred_df['std'] = _pred_df.std(axis=1)\n",
    "pred_df['score'] = pd.concat([pred_df[n]*info_win_dict5[n][0] for n in name_lst], axis=1).sum(axis=1)\n",
    "# pred_df"
   ]
  },
  {
   "cell_type": "code",
   "execution_count": 11,
   "metadata": {
    "execution": {
     "iopub.execute_input": "2024-12-13T13:21:26.783692Z",
     "iopub.status.busy": "2024-12-13T13:21:26.782995Z",
     "iopub.status.idle": "2024-12-13T13:21:27.581072Z",
     "shell.execute_reply": "2024-12-13T13:21:27.579195Z"
    }
   },
   "outputs": [],
   "source": [
    "rank_df = pred_df.droplevel(0).sort_values(by='score', ascending=False)\n",
    "fields = ['$close/$factor']\n",
    "_df = D.features(rank_df.index.values, fields, start_time=TODAY, end_time=TODAY, freq='day')\n",
    "_df.columns = ['close']\n",
    "_df = _df.droplevel(1)\n",
    "rank_df = pd.concat([rank_df,_df],axis=1,join='inner')\n",
    "report_top = rank_df"
   ]
  },
  {
   "cell_type": "code",
   "execution_count": 12,
   "metadata": {
    "execution": {
     "iopub.execute_input": "2024-12-13T13:21:27.586667Z",
     "iopub.status.busy": "2024-12-13T13:21:27.586117Z",
     "iopub.status.idle": "2024-12-13T13:21:27.593758Z",
     "shell.execute_reply": "2024-12-13T13:21:27.592825Z"
    }
   },
   "outputs": [
    {
     "data": {
      "text/plain": [
       "['SH603986',\n",
       " 'SZ000999',\n",
       " 'SZ002129',\n",
       " 'SH600104',\n",
       " 'SZ002459',\n",
       " 'SH600233',\n",
       " 'SH600588',\n",
       " 'SH600570',\n",
       " 'SZ000002']"
      ]
     },
     "execution_count": 12,
     "metadata": {},
     "output_type": "execute_result"
    }
   ],
   "source": [
    "hold_lst"
   ]
  },
  {
   "cell_type": "code",
   "execution_count": 13,
   "metadata": {
    "execution": {
     "iopub.execute_input": "2024-12-13T13:21:27.597299Z",
     "iopub.status.busy": "2024-12-13T13:21:27.596854Z",
     "iopub.status.idle": "2024-12-13T13:21:27.603444Z",
     "shell.execute_reply": "2024-12-13T13:21:27.602355Z"
    }
   },
   "outputs": [],
   "source": [
    "pos_rank = rank_df.sort_values(by='score', ascending=True)\n",
    "pos_rank = pos_rank[pos_rank.index.isin(hold_lst)]\n",
    "report_pos = pos_rank"
   ]
  },
  {
   "cell_type": "code",
   "execution_count": null,
   "metadata": {},
   "outputs": [],
   "source": []
  },
  {
   "cell_type": "code",
   "execution_count": 14,
   "metadata": {
    "execution": {
     "iopub.execute_input": "2024-12-13T13:21:27.606644Z",
     "iopub.status.busy": "2024-12-13T13:21:27.606265Z",
     "iopub.status.idle": "2024-12-13T13:21:27.610937Z",
     "shell.execute_reply": "2024-12-13T13:21:27.609970Z"
    }
   },
   "outputs": [],
   "source": [
    "color_lst = [n for n in report_pos.columns if n not in ['close']]\n",
    "# color_lst"
   ]
  },
  {
   "cell_type": "code",
   "execution_count": 15,
   "metadata": {
    "execution": {
     "iopub.execute_input": "2024-12-13T13:21:27.615086Z",
     "iopub.status.busy": "2024-12-13T13:21:27.614105Z",
     "iopub.status.idle": "2024-12-13T13:21:27.910551Z",
     "shell.execute_reply": "2024-12-13T13:21:27.909555Z"
    }
   },
   "outputs": [
    {
     "data": {
      "text/html": [
       "<style type=\"text/css\">\n",
       "#T_e9b5e_row0_col0, #T_e9b5e_row0_col1, #T_e9b5e_row0_col3, #T_e9b5e_row0_col5, #T_e9b5e_row0_col6, #T_e9b5e_row0_col7, #T_e9b5e_row0_col9, #T_e9b5e_row1_col2, #T_e9b5e_row1_col4, #T_e9b5e_row5_col8 {\n",
       "  background-color: #08306b;\n",
       "  color: #f1f1f1;\n",
       "}\n",
       "#T_e9b5e_row0_col2 {\n",
       "  background-color: #083471;\n",
       "  color: #f1f1f1;\n",
       "}\n",
       "#T_e9b5e_row0_col4 {\n",
       "  background-color: #083a7a;\n",
       "  color: #f1f1f1;\n",
       "}\n",
       "#T_e9b5e_row0_col8 {\n",
       "  background-color: #aed1e7;\n",
       "  color: #000000;\n",
       "}\n",
       "#T_e9b5e_row1_col0, #T_e9b5e_row1_col6, #T_e9b5e_row2_col4 {\n",
       "  background-color: #084990;\n",
       "  color: #f1f1f1;\n",
       "}\n",
       "#T_e9b5e_row1_col1, #T_e9b5e_row1_col3 {\n",
       "  background-color: #084a91;\n",
       "  color: #f1f1f1;\n",
       "}\n",
       "#T_e9b5e_row1_col5 {\n",
       "  background-color: #084e98;\n",
       "  color: #f1f1f1;\n",
       "}\n",
       "#T_e9b5e_row1_col7, #T_e9b5e_row1_col9 {\n",
       "  background-color: #084184;\n",
       "  color: #f1f1f1;\n",
       "}\n",
       "#T_e9b5e_row1_col8 {\n",
       "  background-color: #6fb0d7;\n",
       "  color: #f1f1f1;\n",
       "}\n",
       "#T_e9b5e_row2_col0, #T_e9b5e_row6_col4 {\n",
       "  background-color: #1b69af;\n",
       "  color: #f1f1f1;\n",
       "}\n",
       "#T_e9b5e_row2_col1 {\n",
       "  background-color: #105ba4;\n",
       "  color: #f1f1f1;\n",
       "}\n",
       "#T_e9b5e_row2_col2 {\n",
       "  background-color: #084082;\n",
       "  color: #f1f1f1;\n",
       "}\n",
       "#T_e9b5e_row2_col3, #T_e9b5e_row3_col4 {\n",
       "  background-color: #0a549e;\n",
       "  color: #f1f1f1;\n",
       "}\n",
       "#T_e9b5e_row2_col5, #T_e9b5e_row6_col0 {\n",
       "  background-color: #1764ab;\n",
       "  color: #f1f1f1;\n",
       "}\n",
       "#T_e9b5e_row2_col6, #T_e9b5e_row4_col3 {\n",
       "  background-color: #09529d;\n",
       "  color: #f1f1f1;\n",
       "}\n",
       "#T_e9b5e_row2_col7, #T_e9b5e_row2_col9 {\n",
       "  background-color: #0a539e;\n",
       "  color: #f1f1f1;\n",
       "}\n",
       "#T_e9b5e_row2_col8 {\n",
       "  background-color: #5ca4d0;\n",
       "  color: #f1f1f1;\n",
       "}\n",
       "#T_e9b5e_row3_col0 {\n",
       "  background-color: #2171b5;\n",
       "  color: #f1f1f1;\n",
       "}\n",
       "#T_e9b5e_row3_col1, #T_e9b5e_row6_col8 {\n",
       "  background-color: #3d8dc4;\n",
       "  color: #f1f1f1;\n",
       "}\n",
       "#T_e9b5e_row3_col2 {\n",
       "  background-color: #08468b;\n",
       "  color: #f1f1f1;\n",
       "}\n",
       "#T_e9b5e_row3_col3 {\n",
       "  background-color: #1460a8;\n",
       "  color: #f1f1f1;\n",
       "}\n",
       "#T_e9b5e_row3_col5 {\n",
       "  background-color: #083d7f;\n",
       "  color: #f1f1f1;\n",
       "}\n",
       "#T_e9b5e_row3_col6 {\n",
       "  background-color: #08519c;\n",
       "  color: #f1f1f1;\n",
       "}\n",
       "#T_e9b5e_row3_col7, #T_e9b5e_row3_col9, #T_e9b5e_row4_col7, #T_e9b5e_row4_col9 {\n",
       "  background-color: #0f5aa3;\n",
       "  color: #f1f1f1;\n",
       "}\n",
       "#T_e9b5e_row3_col8 {\n",
       "  background-color: #a8cee4;\n",
       "  color: #000000;\n",
       "}\n",
       "#T_e9b5e_row4_col0, #T_e9b5e_row5_col0 {\n",
       "  background-color: #2272b6;\n",
       "  color: #f1f1f1;\n",
       "}\n",
       "#T_e9b5e_row4_col1, #T_e9b5e_row7_col7, #T_e9b5e_row7_col9 {\n",
       "  background-color: #3484bf;\n",
       "  color: #f1f1f1;\n",
       "}\n",
       "#T_e9b5e_row4_col2, #T_e9b5e_row5_col6 {\n",
       "  background-color: #135fa7;\n",
       "  color: #f1f1f1;\n",
       "}\n",
       "#T_e9b5e_row4_col4 {\n",
       "  background-color: #083c7d;\n",
       "  color: #f1f1f1;\n",
       "}\n",
       "#T_e9b5e_row4_col5 {\n",
       "  background-color: #0c56a0;\n",
       "  color: #f1f1f1;\n",
       "}\n",
       "#T_e9b5e_row4_col6 {\n",
       "  background-color: #084b93;\n",
       "  color: #f1f1f1;\n",
       "}\n",
       "#T_e9b5e_row4_col8 {\n",
       "  background-color: #85bcdc;\n",
       "  color: #000000;\n",
       "}\n",
       "#T_e9b5e_row5_col1 {\n",
       "  background-color: #4292c6;\n",
       "  color: #f1f1f1;\n",
       "}\n",
       "#T_e9b5e_row5_col2 {\n",
       "  background-color: #084f99;\n",
       "  color: #f1f1f1;\n",
       "}\n",
       "#T_e9b5e_row5_col3, #T_e9b5e_row5_col4 {\n",
       "  background-color: #1e6db2;\n",
       "  color: #f1f1f1;\n",
       "}\n",
       "#T_e9b5e_row5_col5 {\n",
       "  background-color: #4594c7;\n",
       "  color: #f1f1f1;\n",
       "}\n",
       "#T_e9b5e_row5_col7, #T_e9b5e_row5_col9 {\n",
       "  background-color: #2070b4;\n",
       "  color: #f1f1f1;\n",
       "}\n",
       "#T_e9b5e_row6_col1 {\n",
       "  background-color: #3b8bc2;\n",
       "  color: #f1f1f1;\n",
       "}\n",
       "#T_e9b5e_row6_col2, #T_e9b5e_row7_col2 {\n",
       "  background-color: #1967ad;\n",
       "  color: #f1f1f1;\n",
       "}\n",
       "#T_e9b5e_row6_col3 {\n",
       "  background-color: #1d6cb1;\n",
       "  color: #f1f1f1;\n",
       "}\n",
       "#T_e9b5e_row6_col5 {\n",
       "  background-color: #61a7d2;\n",
       "  color: #f1f1f1;\n",
       "}\n",
       "#T_e9b5e_row6_col6 {\n",
       "  background-color: #1663aa;\n",
       "  color: #f1f1f1;\n",
       "}\n",
       "#T_e9b5e_row6_col7 {\n",
       "  background-color: #2373b6;\n",
       "  color: #f1f1f1;\n",
       "}\n",
       "#T_e9b5e_row6_col9 {\n",
       "  background-color: #2474b7;\n",
       "  color: #f1f1f1;\n",
       "}\n",
       "#T_e9b5e_row7_col0 {\n",
       "  background-color: #1c6bb0;\n",
       "  color: #f1f1f1;\n",
       "}\n",
       "#T_e9b5e_row7_col1 {\n",
       "  background-color: #539ecd;\n",
       "  color: #f1f1f1;\n",
       "}\n",
       "#T_e9b5e_row7_col3 {\n",
       "  background-color: #2d7dbb;\n",
       "  color: #f1f1f1;\n",
       "}\n",
       "#T_e9b5e_row7_col4 {\n",
       "  background-color: #3888c1;\n",
       "  color: #f1f1f1;\n",
       "}\n",
       "#T_e9b5e_row7_col5 {\n",
       "  background-color: #72b2d8;\n",
       "  color: #f1f1f1;\n",
       "}\n",
       "#T_e9b5e_row7_col6 {\n",
       "  background-color: #2a7ab9;\n",
       "  color: #f1f1f1;\n",
       "}\n",
       "#T_e9b5e_row7_col8 {\n",
       "  background-color: #3a8ac2;\n",
       "  color: #f1f1f1;\n",
       "}\n",
       "#T_e9b5e_row8_col0, #T_e9b5e_row8_col1, #T_e9b5e_row8_col2, #T_e9b5e_row8_col3, #T_e9b5e_row8_col4, #T_e9b5e_row8_col5, #T_e9b5e_row8_col6, #T_e9b5e_row8_col7, #T_e9b5e_row8_col8, #T_e9b5e_row8_col9 {\n",
       "  background-color: #f7fbff;\n",
       "  color: #000000;\n",
       "}\n",
       "</style>\n",
       "<table id=\"T_e9b5e\">\n",
       "  <thead>\n",
       "    <tr>\n",
       "      <th class=\"blank level0\" >&nbsp;</th>\n",
       "      <th id=\"T_e9b5e_level0_col0\" class=\"col_heading level0 col0\" >GBDT0</th>\n",
       "      <th id=\"T_e9b5e_level0_col1\" class=\"col_heading level0 col1\" >GBDT2</th>\n",
       "      <th id=\"T_e9b5e_level0_col2\" class=\"col_heading level0 col2\" >GBDT4</th>\n",
       "      <th id=\"T_e9b5e_level0_col3\" class=\"col_heading level0 col3\" >GBDT6</th>\n",
       "      <th id=\"T_e9b5e_level0_col4\" class=\"col_heading level0 col4\" >GBDT8</th>\n",
       "      <th id=\"T_e9b5e_level0_col5\" class=\"col_heading level0 col5\" >GBDT10</th>\n",
       "      <th id=\"T_e9b5e_level0_col6\" class=\"col_heading level0 col6\" >GBDT12</th>\n",
       "      <th id=\"T_e9b5e_level0_col7\" class=\"col_heading level0 col7\" >mean</th>\n",
       "      <th id=\"T_e9b5e_level0_col8\" class=\"col_heading level0 col8\" >std</th>\n",
       "      <th id=\"T_e9b5e_level0_col9\" class=\"col_heading level0 col9\" >score</th>\n",
       "      <th id=\"T_e9b5e_level0_col10\" class=\"col_heading level0 col10\" >close</th>\n",
       "    </tr>\n",
       "    <tr>\n",
       "      <th class=\"index_name level0\" >instrument</th>\n",
       "      <th class=\"blank col0\" >&nbsp;</th>\n",
       "      <th class=\"blank col1\" >&nbsp;</th>\n",
       "      <th class=\"blank col2\" >&nbsp;</th>\n",
       "      <th class=\"blank col3\" >&nbsp;</th>\n",
       "      <th class=\"blank col4\" >&nbsp;</th>\n",
       "      <th class=\"blank col5\" >&nbsp;</th>\n",
       "      <th class=\"blank col6\" >&nbsp;</th>\n",
       "      <th class=\"blank col7\" >&nbsp;</th>\n",
       "      <th class=\"blank col8\" >&nbsp;</th>\n",
       "      <th class=\"blank col9\" >&nbsp;</th>\n",
       "      <th class=\"blank col10\" >&nbsp;</th>\n",
       "    </tr>\n",
       "  </thead>\n",
       "  <tbody>\n",
       "    <tr>\n",
       "      <th id=\"T_e9b5e_level0_row0\" class=\"row_heading level0 row0\" >SH600104</th>\n",
       "      <td id=\"T_e9b5e_row0_col0\" class=\"data row0 col0\" >-0.111320</td>\n",
       "      <td id=\"T_e9b5e_row0_col1\" class=\"data row0 col1\" >-0.214701</td>\n",
       "      <td id=\"T_e9b5e_row0_col2\" class=\"data row0 col2\" >-0.066847</td>\n",
       "      <td id=\"T_e9b5e_row0_col3\" class=\"data row0 col3\" >-0.097587</td>\n",
       "      <td id=\"T_e9b5e_row0_col4\" class=\"data row0 col4\" >-0.082322</td>\n",
       "      <td id=\"T_e9b5e_row0_col5\" class=\"data row0 col5\" >-0.169341</td>\n",
       "      <td id=\"T_e9b5e_row0_col6\" class=\"data row0 col6\" >-0.084008</td>\n",
       "      <td id=\"T_e9b5e_row0_col7\" class=\"data row0 col7\" >-0.118018</td>\n",
       "      <td id=\"T_e9b5e_row0_col8\" class=\"data row0 col8\" >0.049990</td>\n",
       "      <td id=\"T_e9b5e_row0_col9\" class=\"data row0 col9\" >-0.420742</td>\n",
       "      <td id=\"T_e9b5e_row0_col10\" class=\"data row0 col10\" >18.740000</td>\n",
       "    </tr>\n",
       "    <tr>\n",
       "      <th id=\"T_e9b5e_level0_row1\" class=\"row_heading level0 row1\" >SH600570</th>\n",
       "      <td id=\"T_e9b5e_row1_col0\" class=\"data row1 col0\" >-0.061725</td>\n",
       "      <td id=\"T_e9b5e_row1_col1\" class=\"data row1 col1\" >-0.157018</td>\n",
       "      <td id=\"T_e9b5e_row1_col2\" class=\"data row1 col2\" >-0.077922</td>\n",
       "      <td id=\"T_e9b5e_row1_col3\" class=\"data row1 col3\" >-0.044208</td>\n",
       "      <td id=\"T_e9b5e_row1_col4\" class=\"data row1 col4\" >-0.104816</td>\n",
       "      <td id=\"T_e9b5e_row1_col5\" class=\"data row1 col5\" >-0.106233</td>\n",
       "      <td id=\"T_e9b5e_row1_col6\" class=\"data row1 col6\" >-0.025936</td>\n",
       "      <td id=\"T_e9b5e_row1_col7\" class=\"data row1 col7\" >-0.082551</td>\n",
       "      <td id=\"T_e9b5e_row1_col8\" class=\"data row1 col8\" >0.040940</td>\n",
       "      <td id=\"T_e9b5e_row1_col9\" class=\"data row1 col9\" >-0.292912</td>\n",
       "      <td id=\"T_e9b5e_row1_col10\" class=\"data row1 col10\" >30.120001</td>\n",
       "    </tr>\n",
       "    <tr>\n",
       "      <th id=\"T_e9b5e_level0_row2\" class=\"row_heading level0 row2\" >SZ000002</th>\n",
       "      <td id=\"T_e9b5e_row2_col0\" class=\"data row2 col0\" >0.003566</td>\n",
       "      <td id=\"T_e9b5e_row2_col1\" class=\"data row2 col1\" >-0.117417</td>\n",
       "      <td id=\"T_e9b5e_row2_col2\" class=\"data row2 col2\" >-0.039601</td>\n",
       "      <td id=\"T_e9b5e_row2_col3\" class=\"data row2 col3\" >-0.023395</td>\n",
       "      <td id=\"T_e9b5e_row2_col4\" class=\"data row2 col4\" >-0.054137</td>\n",
       "      <td id=\"T_e9b5e_row2_col5\" class=\"data row2 col5\" >-0.060940</td>\n",
       "      <td id=\"T_e9b5e_row2_col6\" class=\"data row2 col6\" >-0.004415</td>\n",
       "      <td id=\"T_e9b5e_row2_col7\" class=\"data row2 col7\" >-0.042334</td>\n",
       "      <td id=\"T_e9b5e_row2_col8\" class=\"data row2 col8\" >0.037860</td>\n",
       "      <td id=\"T_e9b5e_row2_col9\" class=\"data row2 col9\" >-0.150590</td>\n",
       "      <td id=\"T_e9b5e_row2_col10\" class=\"data row2 col10\" >8.410000</td>\n",
       "    </tr>\n",
       "    <tr>\n",
       "      <th id=\"T_e9b5e_level0_row3\" class=\"row_heading level0 row3\" >SH600233</th>\n",
       "      <td id=\"T_e9b5e_row3_col0\" class=\"data row3 col0\" >0.018351</td>\n",
       "      <td id=\"T_e9b5e_row3_col1\" class=\"data row3 col1\" >-0.007292</td>\n",
       "      <td id=\"T_e9b5e_row3_col2\" class=\"data row3 col2\" >-0.024660</td>\n",
       "      <td id=\"T_e9b5e_row3_col3\" class=\"data row3 col3\" >0.003227</td>\n",
       "      <td id=\"T_e9b5e_row3_col4\" class=\"data row3 col4\" >-0.030560</td>\n",
       "      <td id=\"T_e9b5e_row3_col5\" class=\"data row3 col5\" >-0.140674</td>\n",
       "      <td id=\"T_e9b5e_row3_col6\" class=\"data row3 col6\" >-0.006496</td>\n",
       "      <td id=\"T_e9b5e_row3_col7\" class=\"data row3 col7\" >-0.026872</td>\n",
       "      <td id=\"T_e9b5e_row3_col8\" class=\"data row3 col8\" >0.048871</td>\n",
       "      <td id=\"T_e9b5e_row3_col9\" class=\"data row3 col9\" >-0.100165</td>\n",
       "      <td id=\"T_e9b5e_row3_col10\" class=\"data row3 col10\" >14.419999</td>\n",
       "    </tr>\n",
       "    <tr>\n",
       "      <th id=\"T_e9b5e_level0_row4\" class=\"row_heading level0 row4\" >SZ002129</th>\n",
       "      <td id=\"T_e9b5e_row4_col0\" class=\"data row4 col0\" >0.021738</td>\n",
       "      <td id=\"T_e9b5e_row4_col1\" class=\"data row4 col1\" >-0.028968</td>\n",
       "      <td id=\"T_e9b5e_row4_col2\" class=\"data row4 col2\" >0.038420</td>\n",
       "      <td id=\"T_e9b5e_row4_col3\" class=\"data row4 col3\" >-0.026187</td>\n",
       "      <td id=\"T_e9b5e_row4_col4\" class=\"data row4 col4\" >-0.079002</td>\n",
       "      <td id=\"T_e9b5e_row4_col5\" class=\"data row4 col5\" >-0.090683</td>\n",
       "      <td id=\"T_e9b5e_row4_col6\" class=\"data row4 col6\" >-0.021889</td>\n",
       "      <td id=\"T_e9b5e_row4_col7\" class=\"data row4 col7\" >-0.026653</td>\n",
       "      <td id=\"T_e9b5e_row4_col8\" class=\"data row4 col8\" >0.043826</td>\n",
       "      <td id=\"T_e9b5e_row4_col9\" class=\"data row4 col9\" >-0.100106</td>\n",
       "      <td id=\"T_e9b5e_row4_col10\" class=\"data row4 col10\" >9.690001</td>\n",
       "    </tr>\n",
       "    <tr>\n",
       "      <th id=\"T_e9b5e_level0_row5\" class=\"row_heading level0 row5\" >SZ000999</th>\n",
       "      <td id=\"T_e9b5e_row5_col0\" class=\"data row5 col0\" >0.020770</td>\n",
       "      <td id=\"T_e9b5e_row5_col1\" class=\"data row5 col1\" >0.004097</td>\n",
       "      <td id=\"T_e9b5e_row5_col2\" class=\"data row5 col2\" >-0.001009</td>\n",
       "      <td id=\"T_e9b5e_row5_col3\" class=\"data row5 col3\" >0.029749</td>\n",
       "      <td id=\"T_e9b5e_row5_col4\" class=\"data row5 col4\" >0.020238</td>\n",
       "      <td id=\"T_e9b5e_row5_col5\" class=\"data row5 col5\" >0.037824</td>\n",
       "      <td id=\"T_e9b5e_row5_col6\" class=\"data row5 col6\" >0.025959</td>\n",
       "      <td id=\"T_e9b5e_row5_col7\" class=\"data row5 col7\" >0.019661</td>\n",
       "      <td id=\"T_e9b5e_row5_col8\" class=\"data row5 col8\" >0.012775</td>\n",
       "      <td id=\"T_e9b5e_row5_col9\" class=\"data row5 col9\" >0.071788</td>\n",
       "      <td id=\"T_e9b5e_row5_col10\" class=\"data row5 col10\" >45.239998</td>\n",
       "    </tr>\n",
       "    <tr>\n",
       "      <th id=\"T_e9b5e_level0_row6\" class=\"row_heading level0 row6\" >SZ002459</th>\n",
       "      <td id=\"T_e9b5e_row6_col0\" class=\"data row6 col0\" >-0.007856</td>\n",
       "      <td id=\"T_e9b5e_row6_col1\" class=\"data row6 col1\" >-0.012870</td>\n",
       "      <td id=\"T_e9b5e_row6_col2\" class=\"data row6 col2\" >0.056796</td>\n",
       "      <td id=\"T_e9b5e_row6_col3\" class=\"data row6 col3\" >0.027362</td>\n",
       "      <td id=\"T_e9b5e_row6_col4\" class=\"data row6 col4\" >0.012017</td>\n",
       "      <td id=\"T_e9b5e_row6_col5\" class=\"data row6 col5\" >0.085523</td>\n",
       "      <td id=\"T_e9b5e_row6_col6\" class=\"data row6 col6\" >0.034826</td>\n",
       "      <td id=\"T_e9b5e_row6_col7\" class=\"data row6 col7\" >0.027971</td>\n",
       "      <td id=\"T_e9b5e_row6_col8\" class=\"data row6 col8\" >0.032506</td>\n",
       "      <td id=\"T_e9b5e_row6_col9\" class=\"data row6 col9\" >0.102824</td>\n",
       "      <td id=\"T_e9b5e_row6_col10\" class=\"data row6 col10\" >15.450000</td>\n",
       "    </tr>\n",
       "    <tr>\n",
       "      <th id=\"T_e9b5e_level0_row7\" class=\"row_heading level0 row7\" >SH600588</th>\n",
       "      <td id=\"T_e9b5e_row7_col0\" class=\"data row7 col0\" >0.005867</td>\n",
       "      <td id=\"T_e9b5e_row7_col1\" class=\"data row7 col1\" >0.033495</td>\n",
       "      <td id=\"T_e9b5e_row7_col2\" class=\"data row7 col2\" >0.058713</td>\n",
       "      <td id=\"T_e9b5e_row7_col3\" class=\"data row7 col3\" >0.062000</td>\n",
       "      <td id=\"T_e9b5e_row7_col4\" class=\"data row7 col4\" >0.073930</td>\n",
       "      <td id=\"T_e9b5e_row7_col5\" class=\"data row7 col5\" >0.110385</td>\n",
       "      <td id=\"T_e9b5e_row7_col6\" class=\"data row7 col6\" >0.086972</td>\n",
       "      <td id=\"T_e9b5e_row7_col7\" class=\"data row7 col7\" >0.061623</td>\n",
       "      <td id=\"T_e9b5e_row7_col8\" class=\"data row7 col8\" >0.031804</td>\n",
       "      <td id=\"T_e9b5e_row7_col9\" class=\"data row7 col9\" >0.224027</td>\n",
       "      <td id=\"T_e9b5e_row7_col10\" class=\"data row7 col10\" >12.120000</td>\n",
       "    </tr>\n",
       "    <tr>\n",
       "      <th id=\"T_e9b5e_level0_row8\" class=\"row_heading level0 row8\" >SH603986</th>\n",
       "      <td id=\"T_e9b5e_row8_col0\" class=\"data row8 col0\" >0.405449</td>\n",
       "      <td id=\"T_e9b5e_row8_col1\" class=\"data row8 col1\" >0.364982</td>\n",
       "      <td id=\"T_e9b5e_row8_col2\" class=\"data row8 col2\" >0.558871</td>\n",
       "      <td id=\"T_e9b5e_row8_col3\" class=\"data row8 col3\" >0.440126</td>\n",
       "      <td id=\"T_e9b5e_row8_col4\" class=\"data row8 col4\" >0.425251</td>\n",
       "      <td id=\"T_e9b5e_row8_col5\" class=\"data row8 col5\" >0.370273</td>\n",
       "      <td id=\"T_e9b5e_row8_col6\" class=\"data row8 col6\" >0.519375</td>\n",
       "      <td id=\"T_e9b5e_row8_col7\" class=\"data row8 col7\" >0.440618</td>\n",
       "      <td id=\"T_e9b5e_row8_col8\" class=\"data row8 col8\" >0.067959</td>\n",
       "      <td id=\"T_e9b5e_row8_col9\" class=\"data row8 col9\" >1.570815</td>\n",
       "      <td id=\"T_e9b5e_row8_col10\" class=\"data row8 col10\" >92.979996</td>\n",
       "    </tr>\n",
       "  </tbody>\n",
       "</table>\n"
      ],
      "text/plain": [
       "<pandas.io.formats.style.Styler at 0x7f981afa87c0>"
      ]
     },
     "execution_count": 15,
     "metadata": {},
     "output_type": "execute_result"
    }
   ],
   "source": [
    "sty_report_pos = report_pos.style.background_gradient(cmap='Blues_r', subset=color_lst)\n",
    "sty_report_pos"
   ]
  },
  {
   "cell_type": "code",
   "execution_count": 16,
   "metadata": {
    "execution": {
     "iopub.execute_input": "2024-12-13T13:21:27.915001Z",
     "iopub.status.busy": "2024-12-13T13:21:27.914618Z",
     "iopub.status.idle": "2024-12-13T13:21:27.925824Z",
     "shell.execute_reply": "2024-12-13T13:21:27.925095Z"
    }
   },
   "outputs": [],
   "source": [
    "sty_report_top0 = report_top.head(10).style.background_gradient(axis=0, subset=color_lst)\n",
    "sty_report_top1 = report_top.head(20).tail(10).style.background_gradient(axis=0, subset=color_lst)\n",
    "sty_report_top2 = report_top.head(30).tail(10).style.background_gradient(axis=0, subset=color_lst)\n",
    "sty_report_top3 = report_top.head(40).tail(10).style.background_gradient(axis=0, subset=color_lst)\n",
    "sty_report_top4 = report_top.head(50).tail(10).style.background_gradient(axis=0, subset=color_lst)\n",
    "sty_report_top5 = report_top.head(60).tail(10).style.background_gradient(axis=0, subset=color_lst)\n",
    "sty_report_top6 = report_top.head(70).tail(10).style.background_gradient(axis=0, subset=color_lst)\n",
    "sty_report_top7 = report_top.head(80).tail(10).style.background_gradient(axis=0, subset=color_lst)\n",
    "sty_report_top8 = report_top.head(90).tail(10).style.background_gradient(axis=0, subset=color_lst)\n",
    "sty_report_top9 = report_top.head(100).tail(10).style.background_gradient(axis=0, subset=color_lst)\n",
    "sty_report_top10 = report_top.head(110).tail(10).style.background_gradient(axis=0, subset=color_lst)\n",
    "sty_report_top11 = report_top.head(120).tail(10).style.background_gradient(axis=0, subset=color_lst)\n",
    "sty_report_top12 = report_top.head(130).tail(10).style.background_gradient(axis=0, subset=color_lst)\n",
    "sty_report_top13 = report_top.head(140).tail(10).style.background_gradient(axis=0, subset=color_lst)\n",
    "sty_report_top14 = report_top.head(150).tail(10).style.background_gradient(axis=0, subset=color_lst)"
   ]
  },
  {
   "cell_type": "code",
   "execution_count": 17,
   "metadata": {
    "execution": {
     "iopub.execute_input": "2024-12-13T13:21:27.928766Z",
     "iopub.status.busy": "2024-12-13T13:21:27.928438Z",
     "iopub.status.idle": "2024-12-13T13:21:27.954031Z",
     "shell.execute_reply": "2024-12-13T13:21:27.953231Z"
    }
   },
   "outputs": [
    {
     "data": {
      "text/html": [
       "<style type=\"text/css\">\n",
       "#T_b2cda_row0_col0, #T_b2cda_row0_col1, #T_b2cda_row0_col2, #T_b2cda_row0_col3, #T_b2cda_row0_col4, #T_b2cda_row0_col5, #T_b2cda_row0_col6, #T_b2cda_row0_col7, #T_b2cda_row0_col9, #T_b2cda_row5_col8 {\n",
       "  background-color: #023858;\n",
       "  color: #f1f1f1;\n",
       "}\n",
       "#T_b2cda_row0_col8 {\n",
       "  background-color: #04588a;\n",
       "  color: #f1f1f1;\n",
       "}\n",
       "#T_b2cda_row1_col0 {\n",
       "  background-color: #ede7f2;\n",
       "  color: #000000;\n",
       "}\n",
       "#T_b2cda_row1_col1, #T_b2cda_row3_col3 {\n",
       "  background-color: #d7d6e9;\n",
       "  color: #000000;\n",
       "}\n",
       "#T_b2cda_row1_col2 {\n",
       "  background-color: #eee9f3;\n",
       "  color: #000000;\n",
       "}\n",
       "#T_b2cda_row1_col3, #T_b2cda_row3_col6 {\n",
       "  background-color: #dcdaeb;\n",
       "  color: #000000;\n",
       "}\n",
       "#T_b2cda_row1_col4 {\n",
       "  background-color: #bdc8e1;\n",
       "  color: #000000;\n",
       "}\n",
       "#T_b2cda_row1_col5 {\n",
       "  background-color: #5ea0ca;\n",
       "  color: #f1f1f1;\n",
       "}\n",
       "#T_b2cda_row1_col6 {\n",
       "  background-color: #d6d6e9;\n",
       "  color: #000000;\n",
       "}\n",
       "#T_b2cda_row1_col7, #T_b2cda_row1_col9, #T_b2cda_row9_col6 {\n",
       "  background-color: #ebe6f2;\n",
       "  color: #000000;\n",
       "}\n",
       "#T_b2cda_row1_col8 {\n",
       "  background-color: #7eadd1;\n",
       "  color: #f1f1f1;\n",
       "}\n",
       "#T_b2cda_row2_col0 {\n",
       "  background-color: #ece7f2;\n",
       "  color: #000000;\n",
       "}\n",
       "#T_b2cda_row2_col1 {\n",
       "  background-color: #cdd0e5;\n",
       "  color: #000000;\n",
       "}\n",
       "#T_b2cda_row2_col2, #T_b2cda_row6_col2, #T_b2cda_row7_col0 {\n",
       "  background-color: #f5eff6;\n",
       "  color: #000000;\n",
       "}\n",
       "#T_b2cda_row2_col3, #T_b2cda_row2_col6 {\n",
       "  background-color: #e7e3f0;\n",
       "  color: #000000;\n",
       "}\n",
       "#T_b2cda_row2_col4, #T_b2cda_row4_col1, #T_b2cda_row4_col4, #T_b2cda_row8_col4 {\n",
       "  background-color: #f0eaf4;\n",
       "  color: #000000;\n",
       "}\n",
       "#T_b2cda_row2_col5 {\n",
       "  background-color: #4295c3;\n",
       "  color: #f1f1f1;\n",
       "}\n",
       "#T_b2cda_row2_col7, #T_b2cda_row2_col9, #T_b2cda_row3_col2, #T_b2cda_row6_col0, #T_b2cda_row6_col1, #T_b2cda_row7_col4, #T_b2cda_row7_col6 {\n",
       "  background-color: #f2ecf5;\n",
       "  color: #000000;\n",
       "}\n",
       "#T_b2cda_row2_col8 {\n",
       "  background-color: #6ba5cd;\n",
       "  color: #f1f1f1;\n",
       "}\n",
       "#T_b2cda_row3_col0, #T_b2cda_row9_col3 {\n",
       "  background-color: #eee8f3;\n",
       "  color: #000000;\n",
       "}\n",
       "#T_b2cda_row3_col1 {\n",
       "  background-color: #c2cbe2;\n",
       "  color: #000000;\n",
       "}\n",
       "#T_b2cda_row3_col4, #T_b2cda_row5_col9 {\n",
       "  background-color: #fbf3f9;\n",
       "  color: #000000;\n",
       "}\n",
       "#T_b2cda_row3_col5 {\n",
       "  background-color: #a5bddb;\n",
       "  color: #000000;\n",
       "}\n",
       "#T_b2cda_row3_col7, #T_b2cda_row3_col9, #T_b2cda_row9_col4 {\n",
       "  background-color: #f5eef6;\n",
       "  color: #000000;\n",
       "}\n",
       "#T_b2cda_row3_col8, #T_b2cda_row5_col0, #T_b2cda_row5_col3, #T_b2cda_row5_col4, #T_b2cda_row5_col6, #T_b2cda_row8_col2, #T_b2cda_row8_col5, #T_b2cda_row9_col1, #T_b2cda_row9_col7, #T_b2cda_row9_col9 {\n",
       "  background-color: #fff7fb;\n",
       "  color: #000000;\n",
       "}\n",
       "#T_b2cda_row4_col0 {\n",
       "  background-color: #e6e2ef;\n",
       "  color: #000000;\n",
       "}\n",
       "#T_b2cda_row4_col2, #T_b2cda_row6_col6, #T_b2cda_row9_col0 {\n",
       "  background-color: #f4eef6;\n",
       "  color: #000000;\n",
       "}\n",
       "#T_b2cda_row4_col3 {\n",
       "  background-color: #dddbec;\n",
       "  color: #000000;\n",
       "}\n",
       "#T_b2cda_row4_col5 {\n",
       "  background-color: #b7c5df;\n",
       "  color: #000000;\n",
       "}\n",
       "#T_b2cda_row4_col6 {\n",
       "  background-color: #e3e0ee;\n",
       "  color: #000000;\n",
       "}\n",
       "#T_b2cda_row4_col7, #T_b2cda_row4_col9 {\n",
       "  background-color: #faf2f8;\n",
       "  color: #000000;\n",
       "}\n",
       "#T_b2cda_row4_col8 {\n",
       "  background-color: #fbf4f9;\n",
       "  color: #000000;\n",
       "}\n",
       "#T_b2cda_row5_col1 {\n",
       "  background-color: #b0c2de;\n",
       "  color: #000000;\n",
       "}\n",
       "#T_b2cda_row5_col2 {\n",
       "  background-color: #e5e1ef;\n",
       "  color: #000000;\n",
       "}\n",
       "#T_b2cda_row5_col5 {\n",
       "  background-color: #3790c0;\n",
       "  color: #f1f1f1;\n",
       "}\n",
       "#T_b2cda_row5_col7 {\n",
       "  background-color: #faf3f9;\n",
       "  color: #000000;\n",
       "}\n",
       "#T_b2cda_row6_col3 {\n",
       "  background-color: #efe9f3;\n",
       "  color: #000000;\n",
       "}\n",
       "#T_b2cda_row6_col4, #T_b2cda_row6_col7, #T_b2cda_row6_col9, #T_b2cda_row7_col2, #T_b2cda_row7_col7, #T_b2cda_row8_col7, #T_b2cda_row9_col2 {\n",
       "  background-color: #fdf5fa;\n",
       "  color: #000000;\n",
       "}\n",
       "#T_b2cda_row6_col5 {\n",
       "  background-color: #4e9ac6;\n",
       "  color: #f1f1f1;\n",
       "}\n",
       "#T_b2cda_row6_col8 {\n",
       "  background-color: #328dbf;\n",
       "  color: #f1f1f1;\n",
       "}\n",
       "#T_b2cda_row7_col1 {\n",
       "  background-color: #e1dfed;\n",
       "  color: #000000;\n",
       "}\n",
       "#T_b2cda_row7_col3 {\n",
       "  background-color: #e9e5f1;\n",
       "  color: #000000;\n",
       "}\n",
       "#T_b2cda_row7_col5 {\n",
       "  background-color: #8eb3d5;\n",
       "  color: #000000;\n",
       "}\n",
       "#T_b2cda_row7_col8 {\n",
       "  background-color: #c0c9e2;\n",
       "  color: #000000;\n",
       "}\n",
       "#T_b2cda_row7_col9, #T_b2cda_row8_col9 {\n",
       "  background-color: #fef6fa;\n",
       "  color: #000000;\n",
       "}\n",
       "#T_b2cda_row8_col0 {\n",
       "  background-color: #dedcec;\n",
       "  color: #000000;\n",
       "}\n",
       "#T_b2cda_row8_col1 {\n",
       "  background-color: #c4cbe3;\n",
       "  color: #000000;\n",
       "}\n",
       "#T_b2cda_row8_col3 {\n",
       "  background-color: #dbdaeb;\n",
       "  color: #000000;\n",
       "}\n",
       "#T_b2cda_row8_col6 {\n",
       "  background-color: #dfddec;\n",
       "  color: #000000;\n",
       "}\n",
       "#T_b2cda_row8_col8 {\n",
       "  background-color: #bcc7e1;\n",
       "  color: #000000;\n",
       "}\n",
       "#T_b2cda_row9_col5 {\n",
       "  background-color: #75a9cf;\n",
       "  color: #f1f1f1;\n",
       "}\n",
       "#T_b2cda_row9_col8 {\n",
       "  background-color: #4c99c5;\n",
       "  color: #f1f1f1;\n",
       "}\n",
       "</style>\n",
       "<table id=\"T_b2cda\">\n",
       "  <thead>\n",
       "    <tr>\n",
       "      <th class=\"blank level0\" >&nbsp;</th>\n",
       "      <th id=\"T_b2cda_level0_col0\" class=\"col_heading level0 col0\" >GBDT0</th>\n",
       "      <th id=\"T_b2cda_level0_col1\" class=\"col_heading level0 col1\" >GBDT2</th>\n",
       "      <th id=\"T_b2cda_level0_col2\" class=\"col_heading level0 col2\" >GBDT4</th>\n",
       "      <th id=\"T_b2cda_level0_col3\" class=\"col_heading level0 col3\" >GBDT6</th>\n",
       "      <th id=\"T_b2cda_level0_col4\" class=\"col_heading level0 col4\" >GBDT8</th>\n",
       "      <th id=\"T_b2cda_level0_col5\" class=\"col_heading level0 col5\" >GBDT10</th>\n",
       "      <th id=\"T_b2cda_level0_col6\" class=\"col_heading level0 col6\" >GBDT12</th>\n",
       "      <th id=\"T_b2cda_level0_col7\" class=\"col_heading level0 col7\" >mean</th>\n",
       "      <th id=\"T_b2cda_level0_col8\" class=\"col_heading level0 col8\" >std</th>\n",
       "      <th id=\"T_b2cda_level0_col9\" class=\"col_heading level0 col9\" >score</th>\n",
       "      <th id=\"T_b2cda_level0_col10\" class=\"col_heading level0 col10\" >close</th>\n",
       "    </tr>\n",
       "    <tr>\n",
       "      <th class=\"index_name level0\" >instrument</th>\n",
       "      <th class=\"blank col0\" >&nbsp;</th>\n",
       "      <th class=\"blank col1\" >&nbsp;</th>\n",
       "      <th class=\"blank col2\" >&nbsp;</th>\n",
       "      <th class=\"blank col3\" >&nbsp;</th>\n",
       "      <th class=\"blank col4\" >&nbsp;</th>\n",
       "      <th class=\"blank col5\" >&nbsp;</th>\n",
       "      <th class=\"blank col6\" >&nbsp;</th>\n",
       "      <th class=\"blank col7\" >&nbsp;</th>\n",
       "      <th class=\"blank col8\" >&nbsp;</th>\n",
       "      <th class=\"blank col9\" >&nbsp;</th>\n",
       "      <th class=\"blank col10\" >&nbsp;</th>\n",
       "    </tr>\n",
       "  </thead>\n",
       "  <tbody>\n",
       "    <tr>\n",
       "      <th id=\"T_b2cda_level0_row0\" class=\"row_heading level0 row0\" >SH603986</th>\n",
       "      <td id=\"T_b2cda_row0_col0\" class=\"data row0 col0\" >0.405449</td>\n",
       "      <td id=\"T_b2cda_row0_col1\" class=\"data row0 col1\" >0.364982</td>\n",
       "      <td id=\"T_b2cda_row0_col2\" class=\"data row0 col2\" >0.558871</td>\n",
       "      <td id=\"T_b2cda_row0_col3\" class=\"data row0 col3\" >0.440126</td>\n",
       "      <td id=\"T_b2cda_row0_col4\" class=\"data row0 col4\" >0.425251</td>\n",
       "      <td id=\"T_b2cda_row0_col5\" class=\"data row0 col5\" >0.370273</td>\n",
       "      <td id=\"T_b2cda_row0_col6\" class=\"data row0 col6\" >0.519375</td>\n",
       "      <td id=\"T_b2cda_row0_col7\" class=\"data row0 col7\" >0.440618</td>\n",
       "      <td id=\"T_b2cda_row0_col8\" class=\"data row0 col8\" >0.067959</td>\n",
       "      <td id=\"T_b2cda_row0_col9\" class=\"data row0 col9\" >1.570815</td>\n",
       "      <td id=\"T_b2cda_row0_col10\" class=\"data row0 col10\" >92.979996</td>\n",
       "    </tr>\n",
       "    <tr>\n",
       "      <th id=\"T_b2cda_level0_row1\" class=\"row_heading level0 row1\" >SZ000786</th>\n",
       "      <td id=\"T_b2cda_row1_col0\" class=\"data row1 col0\" >0.065368</td>\n",
       "      <td id=\"T_b2cda_row1_col1\" class=\"data row1 col1\" >0.085758</td>\n",
       "      <td id=\"T_b2cda_row1_col2\" class=\"data row1 col2\" >0.095092</td>\n",
       "      <td id=\"T_b2cda_row1_col3\" class=\"data row1 col3\" >0.105350</td>\n",
       "      <td id=\"T_b2cda_row1_col4\" class=\"data row1 col4\" >0.183358</td>\n",
       "      <td id=\"T_b2cda_row1_col5\" class=\"data row1 col5\" >0.203948</td>\n",
       "      <td id=\"T_b2cda_row1_col6\" class=\"data row1 col6\" >0.130351</td>\n",
       "      <td id=\"T_b2cda_row1_col7\" class=\"data row1 col7\" >0.124175</td>\n",
       "      <td id=\"T_b2cda_row1_col8\" class=\"data row1 col8\" >0.047867</td>\n",
       "      <td id=\"T_b2cda_row1_col9\" class=\"data row1 col9\" >0.448626</td>\n",
       "      <td id=\"T_b2cda_row1_col10\" class=\"data row1 col10\" >29.220001</td>\n",
       "    </tr>\n",
       "    <tr>\n",
       "      <th id=\"T_b2cda_level0_row2\" class=\"row_heading level0 row2\" >SH601225</th>\n",
       "      <td id=\"T_b2cda_row2_col0\" class=\"data row2 col0\" >0.067076</td>\n",
       "      <td id=\"T_b2cda_row2_col1\" class=\"data row2 col1\" >0.099024</td>\n",
       "      <td id=\"T_b2cda_row2_col2\" class=\"data row2 col2\" >0.070995</td>\n",
       "      <td id=\"T_b2cda_row2_col3\" class=\"data row2 col3\" >0.083752</td>\n",
       "      <td id=\"T_b2cda_row2_col4\" class=\"data row2 col4\" >0.111996</td>\n",
       "      <td id=\"T_b2cda_row2_col5\" class=\"data row2 col5\" >0.223864</td>\n",
       "      <td id=\"T_b2cda_row2_col6\" class=\"data row2 col6\" >0.089904</td>\n",
       "      <td id=\"T_b2cda_row2_col7\" class=\"data row2 col7\" >0.106659</td>\n",
       "      <td id=\"T_b2cda_row2_col8\" class=\"data row2 col8\" >0.049954</td>\n",
       "      <td id=\"T_b2cda_row2_col9\" class=\"data row2 col9\" >0.385483</td>\n",
       "      <td id=\"T_b2cda_row2_col10\" class=\"data row2 col10\" >24.610001</td>\n",
       "    </tr>\n",
       "    <tr>\n",
       "      <th id=\"T_b2cda_level0_row3\" class=\"row_heading level0 row3\" >SH601336</th>\n",
       "      <td id=\"T_b2cda_row3_col0\" class=\"data row3 col0\" >0.062726</td>\n",
       "      <td id=\"T_b2cda_row3_col1\" class=\"data row3 col1\" >0.109859</td>\n",
       "      <td id=\"T_b2cda_row3_col2\" class=\"data row3 col2\" >0.082943</td>\n",
       "      <td id=\"T_b2cda_row3_col3\" class=\"data row3 col3\" >0.114554</td>\n",
       "      <td id=\"T_b2cda_row3_col4\" class=\"data row3 col4\" >0.085940</td>\n",
       "      <td id=\"T_b2cda_row3_col5\" class=\"data row3 col5\" >0.142933</td>\n",
       "      <td id=\"T_b2cda_row3_col6\" class=\"data row3 col6\" >0.115032</td>\n",
       "      <td id=\"T_b2cda_row3_col7\" class=\"data row3 col7\" >0.101998</td>\n",
       "      <td id=\"T_b2cda_row3_col8\" class=\"data row3 col8\" >0.024577</td>\n",
       "      <td id=\"T_b2cda_row3_col9\" class=\"data row3 col9\" >0.366943</td>\n",
       "      <td id=\"T_b2cda_row3_col10\" class=\"data row3 col10\" >49.880001</td>\n",
       "    </tr>\n",
       "    <tr>\n",
       "      <th id=\"T_b2cda_level0_row4\" class=\"row_heading level0 row4\" >SH601111</th>\n",
       "      <td id=\"T_b2cda_row4_col0\" class=\"data row4 col0\" >0.078250</td>\n",
       "      <td id=\"T_b2cda_row4_col1\" class=\"data row4 col1\" >0.041640</td>\n",
       "      <td id=\"T_b2cda_row4_col2\" class=\"data row4 col2\" >0.073416</td>\n",
       "      <td id=\"T_b2cda_row4_col3\" class=\"data row4 col3\" >0.103357</td>\n",
       "      <td id=\"T_b2cda_row4_col4\" class=\"data row4 col4\" >0.109893</td>\n",
       "      <td id=\"T_b2cda_row4_col5\" class=\"data row4 col5\" >0.124941</td>\n",
       "      <td id=\"T_b2cda_row4_col6\" class=\"data row4 col6\" >0.099537</td>\n",
       "      <td id=\"T_b2cda_row4_col7\" class=\"data row4 col7\" >0.090148</td>\n",
       "      <td id=\"T_b2cda_row4_col8\" class=\"data row4 col8\" >0.025739</td>\n",
       "      <td id=\"T_b2cda_row4_col9\" class=\"data row4 col9\" >0.325039</td>\n",
       "      <td id=\"T_b2cda_row4_col10\" class=\"data row4 col10\" >8.610001</td>\n",
       "    </tr>\n",
       "    <tr>\n",
       "      <th id=\"T_b2cda_level0_row5\" class=\"row_heading level0 row5\" >SH605499</th>\n",
       "      <td id=\"T_b2cda_row5_col0\" class=\"data row5 col0\" >0.017727</td>\n",
       "      <td id=\"T_b2cda_row5_col1\" class=\"data row5 col1\" >0.129702</td>\n",
       "      <td id=\"T_b2cda_row5_col2\" class=\"data row5 col2\" >0.120046</td>\n",
       "      <td id=\"T_b2cda_row5_col3\" class=\"data row5 col3\" >0.022613</td>\n",
       "      <td id=\"T_b2cda_row5_col4\" class=\"data row5 col4\" >0.075594</td>\n",
       "      <td id=\"T_b2cda_row5_col5\" class=\"data row5 col5\" >0.232533</td>\n",
       "      <td id=\"T_b2cda_row5_col6\" class=\"data row5 col6\" >0.016809</td>\n",
       "      <td id=\"T_b2cda_row5_col7\" class=\"data row5 col7\" >0.087861</td>\n",
       "      <td id=\"T_b2cda_row5_col8\" class=\"data row5 col8\" >0.073768</td>\n",
       "      <td id=\"T_b2cda_row5_col9\" class=\"data row5 col9\" >0.315821</td>\n",
       "      <td id=\"T_b2cda_row5_col10\" class=\"data row5 col10\" >251.269989</td>\n",
       "    </tr>\n",
       "    <tr>\n",
       "      <th id=\"T_b2cda_level0_row6\" class=\"row_heading level0 row6\" >SH601888</th>\n",
       "      <td id=\"T_b2cda_row6_col0\" class=\"data row6 col0\" >0.051986</td>\n",
       "      <td id=\"T_b2cda_row6_col1\" class=\"data row6 col1\" >0.036523</td>\n",
       "      <td id=\"T_b2cda_row6_col2\" class=\"data row6 col2\" >0.069789</td>\n",
       "      <td id=\"T_b2cda_row6_col3\" class=\"data row6 col3\" >0.066944</td>\n",
       "      <td id=\"T_b2cda_row6_col4\" class=\"data row6 col4\" >0.079816</td>\n",
       "      <td id=\"T_b2cda_row6_col5\" class=\"data row6 col5\" >0.214902</td>\n",
       "      <td id=\"T_b2cda_row6_col6\" class=\"data row6 col6\" >0.053478</td>\n",
       "      <td id=\"T_b2cda_row6_col7\" class=\"data row6 col7\" >0.081920</td>\n",
       "      <td id=\"T_b2cda_row6_col8\" class=\"data row6 col8\" >0.055839</td>\n",
       "      <td id=\"T_b2cda_row6_col9\" class=\"data row6 col9\" >0.297756</td>\n",
       "      <td id=\"T_b2cda_row6_col10\" class=\"data row6 col10\" >71.300003</td>\n",
       "    </tr>\n",
       "    <tr>\n",
       "      <th id=\"T_b2cda_level0_row7\" class=\"row_heading level0 row7\" >SH601100</th>\n",
       "      <td id=\"T_b2cda_row7_col0\" class=\"data row7 col0\" >0.042715</td>\n",
       "      <td id=\"T_b2cda_row7_col1\" class=\"data row7 col1\" >0.069073</td>\n",
       "      <td id=\"T_b2cda_row7_col2\" class=\"data row7 col2\" >0.044208</td>\n",
       "      <td id=\"T_b2cda_row7_col3\" class=\"data row7 col3\" >0.081105</td>\n",
       "      <td id=\"T_b2cda_row7_col4\" class=\"data row7 col4\" >0.105083</td>\n",
       "      <td id=\"T_b2cda_row7_col5\" class=\"data row7 col5\" >0.164073</td>\n",
       "      <td id=\"T_b2cda_row7_col6\" class=\"data row7 col6\" >0.061419</td>\n",
       "      <td id=\"T_b2cda_row7_col7\" class=\"data row7 col7\" >0.081097</td>\n",
       "      <td id=\"T_b2cda_row7_col8\" class=\"data row7 col8\" >0.039327</td>\n",
       "      <td id=\"T_b2cda_row7_col9\" class=\"data row7 col9\" >0.294017</td>\n",
       "      <td id=\"T_b2cda_row7_col10\" class=\"data row7 col10\" >54.980000</td>\n",
       "    </tr>\n",
       "    <tr>\n",
       "      <th id=\"T_b2cda_level0_row8\" class=\"row_heading level0 row8\" >SH600115</th>\n",
       "      <td id=\"T_b2cda_row8_col0\" class=\"data row8 col0\" >0.090703</td>\n",
       "      <td id=\"T_b2cda_row8_col1\" class=\"data row8 col1\" >0.109351</td>\n",
       "      <td id=\"T_b2cda_row8_col2\" class=\"data row8 col2\" >0.036596</td>\n",
       "      <td id=\"T_b2cda_row8_col3\" class=\"data row8 col3\" >0.107129</td>\n",
       "      <td id=\"T_b2cda_row8_col4\" class=\"data row8 col4\" >0.112084</td>\n",
       "      <td id=\"T_b2cda_row8_col5\" class=\"data row8 col5\" >0.005185</td>\n",
       "      <td id=\"T_b2cda_row8_col6\" class=\"data row8 col6\" >0.109578</td>\n",
       "      <td id=\"T_b2cda_row8_col7\" class=\"data row8 col7\" >0.081518</td>\n",
       "      <td id=\"T_b2cda_row8_col8\" class=\"data row8 col8\" >0.039787</td>\n",
       "      <td id=\"T_b2cda_row8_col9\" class=\"data row8 col9\" >0.289797</td>\n",
       "      <td id=\"T_b2cda_row8_col10\" class=\"data row8 col10\" >4.250000</td>\n",
       "    </tr>\n",
       "    <tr>\n",
       "      <th id=\"T_b2cda_level0_row9\" class=\"row_heading level0 row9\" >SZ000596</th>\n",
       "      <td id=\"T_b2cda_row9_col0\" class=\"data row9 col0\" >0.046458</td>\n",
       "      <td id=\"T_b2cda_row9_col1\" class=\"data row9 col1\" >0.006034</td>\n",
       "      <td id=\"T_b2cda_row9_col2\" class=\"data row9 col2\" >0.043614</td>\n",
       "      <td id=\"T_b2cda_row9_col3\" class=\"data row9 col3\" >0.070149</td>\n",
       "      <td id=\"T_b2cda_row9_col4\" class=\"data row9 col4\" >0.100033</td>\n",
       "      <td id=\"T_b2cda_row9_col5\" class=\"data row9 col5\" >0.187004</td>\n",
       "      <td id=\"T_b2cda_row9_col6\" class=\"data row9 col6\" >0.081844</td>\n",
       "      <td id=\"T_b2cda_row9_col7\" class=\"data row9 col7\" >0.076448</td>\n",
       "      <td id=\"T_b2cda_row9_col8\" class=\"data row9 col8\" >0.053162</td>\n",
       "      <td id=\"T_b2cda_row9_col9\" class=\"data row9 col9\" >0.279286</td>\n",
       "      <td id=\"T_b2cda_row9_col10\" class=\"data row9 col10\" >195.639999</td>\n",
       "    </tr>\n",
       "  </tbody>\n",
       "</table>\n"
      ],
      "text/plain": [
       "<pandas.io.formats.style.Styler at 0x7f98171ad0a0>"
      ]
     },
     "execution_count": 17,
     "metadata": {},
     "output_type": "execute_result"
    }
   ],
   "source": [
    "sty_report_top0"
   ]
  },
  {
   "cell_type": "code",
   "execution_count": 18,
   "metadata": {
    "execution": {
     "iopub.execute_input": "2024-12-13T13:21:27.957217Z",
     "iopub.status.busy": "2024-12-13T13:21:27.957018Z",
     "iopub.status.idle": "2024-12-13T13:21:27.981970Z",
     "shell.execute_reply": "2024-12-13T13:21:27.981183Z"
    }
   },
   "outputs": [
    {
     "data": {
      "text/html": [
       "<style type=\"text/css\">\n",
       "#T_522e6_row0_col0, #T_522e6_row0_col1, #T_522e6_row0_col2, #T_522e6_row0_col7, #T_522e6_row0_col9, #T_522e6_row2_col3, #T_522e6_row2_col4, #T_522e6_row4_col5, #T_522e6_row4_col8, #T_522e6_row7_col6 {\n",
       "  background-color: #023858;\n",
       "  color: #f1f1f1;\n",
       "}\n",
       "#T_522e6_row0_col3 {\n",
       "  background-color: #8bb2d4;\n",
       "  color: #000000;\n",
       "}\n",
       "#T_522e6_row0_col4 {\n",
       "  background-color: #e3e0ee;\n",
       "  color: #000000;\n",
       "}\n",
       "#T_522e6_row0_col5 {\n",
       "  background-color: #dbdaeb;\n",
       "  color: #000000;\n",
       "}\n",
       "#T_522e6_row0_col6 {\n",
       "  background-color: #69a5cc;\n",
       "  color: #f1f1f1;\n",
       "}\n",
       "#T_522e6_row0_col8 {\n",
       "  background-color: #0d75b3;\n",
       "  color: #f1f1f1;\n",
       "}\n",
       "#T_522e6_row1_col0 {\n",
       "  background-color: #1e80b8;\n",
       "  color: #f1f1f1;\n",
       "}\n",
       "#T_522e6_row1_col1 {\n",
       "  background-color: #045c90;\n",
       "  color: #f1f1f1;\n",
       "}\n",
       "#T_522e6_row1_col2 {\n",
       "  background-color: #3d93c2;\n",
       "  color: #f1f1f1;\n",
       "}\n",
       "#T_522e6_row1_col3 {\n",
       "  background-color: #f5eef6;\n",
       "  color: #000000;\n",
       "}\n",
       "#T_522e6_row1_col4 {\n",
       "  background-color: #b7c5df;\n",
       "  color: #000000;\n",
       "}\n",
       "#T_522e6_row1_col5 {\n",
       "  background-color: #1b7eb7;\n",
       "  color: #f1f1f1;\n",
       "}\n",
       "#T_522e6_row1_col6, #T_522e6_row4_col6 {\n",
       "  background-color: #dcdaeb;\n",
       "  color: #000000;\n",
       "}\n",
       "#T_522e6_row1_col7, #T_522e6_row5_col5 {\n",
       "  background-color: #046299;\n",
       "  color: #f1f1f1;\n",
       "}\n",
       "#T_522e6_row1_col8, #T_522e6_row5_col8, #T_522e6_row7_col5 {\n",
       "  background-color: #2182b9;\n",
       "  color: #f1f1f1;\n",
       "}\n",
       "#T_522e6_row1_col9 {\n",
       "  background-color: #045b8f;\n",
       "  color: #f1f1f1;\n",
       "}\n",
       "#T_522e6_row2_col0, #T_522e6_row3_col5 {\n",
       "  background-color: #2383ba;\n",
       "  color: #f1f1f1;\n",
       "}\n",
       "#T_522e6_row2_col1, #T_522e6_row3_col9 {\n",
       "  background-color: #96b6d7;\n",
       "  color: #000000;\n",
       "}\n",
       "#T_522e6_row2_col2 {\n",
       "  background-color: #197db7;\n",
       "  color: #f1f1f1;\n",
       "}\n",
       "#T_522e6_row2_col5, #T_522e6_row3_col2, #T_522e6_row6_col4, #T_522e6_row7_col0, #T_522e6_row7_col1, #T_522e6_row8_col8, #T_522e6_row9_col3, #T_522e6_row9_col6, #T_522e6_row9_col7, #T_522e6_row9_col9 {\n",
       "  background-color: #fff7fb;\n",
       "  color: #000000;\n",
       "}\n",
       "#T_522e6_row2_col6 {\n",
       "  background-color: #509ac6;\n",
       "  color: #f1f1f1;\n",
       "}\n",
       "#T_522e6_row2_col7 {\n",
       "  background-color: #5a9ec9;\n",
       "  color: #f1f1f1;\n",
       "}\n",
       "#T_522e6_row2_col8, #T_522e6_row8_col0 {\n",
       "  background-color: #2081b9;\n",
       "  color: #f1f1f1;\n",
       "}\n",
       "#T_522e6_row2_col9 {\n",
       "  background-color: #5ea0ca;\n",
       "  color: #f1f1f1;\n",
       "}\n",
       "#T_522e6_row3_col0, #T_522e6_row8_col5 {\n",
       "  background-color: #c0c9e2;\n",
       "  color: #000000;\n",
       "}\n",
       "#T_522e6_row3_col1 {\n",
       "  background-color: #88b1d4;\n",
       "  color: #000000;\n",
       "}\n",
       "#T_522e6_row3_col3 {\n",
       "  background-color: #93b5d6;\n",
       "  color: #000000;\n",
       "}\n",
       "#T_522e6_row3_col4 {\n",
       "  background-color: #75a9cf;\n",
       "  color: #f1f1f1;\n",
       "}\n",
       "#T_522e6_row3_col6 {\n",
       "  background-color: #358fc0;\n",
       "  color: #f1f1f1;\n",
       "}\n",
       "#T_522e6_row3_col7 {\n",
       "  background-color: #a4bcda;\n",
       "  color: #000000;\n",
       "}\n",
       "#T_522e6_row3_col8 {\n",
       "  background-color: #8fb4d6;\n",
       "  color: #000000;\n",
       "}\n",
       "#T_522e6_row4_col0 {\n",
       "  background-color: #c8cde4;\n",
       "  color: #000000;\n",
       "}\n",
       "#T_522e6_row4_col1 {\n",
       "  background-color: #c2cbe2;\n",
       "  color: #000000;\n",
       "}\n",
       "#T_522e6_row4_col2 {\n",
       "  background-color: #e1dfed;\n",
       "  color: #000000;\n",
       "}\n",
       "#T_522e6_row4_col3, #T_522e6_row8_col9 {\n",
       "  background-color: #f4edf6;\n",
       "  color: #000000;\n",
       "}\n",
       "#T_522e6_row4_col4 {\n",
       "  background-color: #afc1dd;\n",
       "  color: #000000;\n",
       "}\n",
       "#T_522e6_row4_col7, #T_522e6_row9_col0 {\n",
       "  background-color: #c6cce3;\n",
       "  color: #000000;\n",
       "}\n",
       "#T_522e6_row4_col9 {\n",
       "  background-color: #b9c6e0;\n",
       "  color: #000000;\n",
       "}\n",
       "#T_522e6_row5_col0 {\n",
       "  background-color: #bdc8e1;\n",
       "  color: #000000;\n",
       "}\n",
       "#T_522e6_row5_col1 {\n",
       "  background-color: #a9bfdc;\n",
       "  color: #000000;\n",
       "}\n",
       "#T_522e6_row5_col2 {\n",
       "  background-color: #bfc9e1;\n",
       "  color: #000000;\n",
       "}\n",
       "#T_522e6_row5_col3 {\n",
       "  background-color: #d7d6e9;\n",
       "  color: #000000;\n",
       "}\n",
       "#T_522e6_row5_col4 {\n",
       "  background-color: #d0d1e6;\n",
       "  color: #000000;\n",
       "}\n",
       "#T_522e6_row5_col6 {\n",
       "  background-color: #dad9ea;\n",
       "  color: #000000;\n",
       "}\n",
       "#T_522e6_row5_col7 {\n",
       "  background-color: #d1d2e6;\n",
       "  color: #000000;\n",
       "}\n",
       "#T_522e6_row5_col9 {\n",
       "  background-color: #cacee5;\n",
       "  color: #000000;\n",
       "}\n",
       "#T_522e6_row6_col0 {\n",
       "  background-color: #4a98c5;\n",
       "  color: #f1f1f1;\n",
       "}\n",
       "#T_522e6_row6_col1 {\n",
       "  background-color: #73a9cf;\n",
       "  color: #f1f1f1;\n",
       "}\n",
       "#T_522e6_row6_col2 {\n",
       "  background-color: #f8f1f8;\n",
       "  color: #000000;\n",
       "}\n",
       "#T_522e6_row6_col3 {\n",
       "  background-color: #e0dded;\n",
       "  color: #000000;\n",
       "}\n",
       "#T_522e6_row6_col5 {\n",
       "  background-color: #2987bc;\n",
       "  color: #f1f1f1;\n",
       "}\n",
       "#T_522e6_row6_col6 {\n",
       "  background-color: #9ab8d8;\n",
       "  color: #000000;\n",
       "}\n",
       "#T_522e6_row6_col7 {\n",
       "  background-color: #e4e1ef;\n",
       "  color: #000000;\n",
       "}\n",
       "#T_522e6_row6_col8 {\n",
       "  background-color: #a8bedc;\n",
       "  color: #000000;\n",
       "}\n",
       "#T_522e6_row6_col9 {\n",
       "  background-color: #e7e3f0;\n",
       "  color: #000000;\n",
       "}\n",
       "#T_522e6_row7_col2 {\n",
       "  background-color: #d2d3e7;\n",
       "  color: #000000;\n",
       "}\n",
       "#T_522e6_row7_col3 {\n",
       "  background-color: #a2bcda;\n",
       "  color: #000000;\n",
       "}\n",
       "#T_522e6_row7_col4 {\n",
       "  background-color: #8cb3d5;\n",
       "  color: #000000;\n",
       "}\n",
       "#T_522e6_row7_col7 {\n",
       "  background-color: #f2ecf5;\n",
       "  color: #000000;\n",
       "}\n",
       "#T_522e6_row7_col8 {\n",
       "  background-color: #2484ba;\n",
       "  color: #f1f1f1;\n",
       "}\n",
       "#T_522e6_row7_col9 {\n",
       "  background-color: #eee8f3;\n",
       "  color: #000000;\n",
       "}\n",
       "#T_522e6_row8_col1 {\n",
       "  background-color: #89b1d4;\n",
       "  color: #000000;\n",
       "}\n",
       "#T_522e6_row8_col2 {\n",
       "  background-color: #6ba5cd;\n",
       "  color: #f1f1f1;\n",
       "}\n",
       "#T_522e6_row8_col3, #T_522e6_row9_col1 {\n",
       "  background-color: #c9cee4;\n",
       "  color: #000000;\n",
       "}\n",
       "#T_522e6_row8_col4 {\n",
       "  background-color: #f6eff7;\n",
       "  color: #000000;\n",
       "}\n",
       "#T_522e6_row8_col6 {\n",
       "  background-color: #4496c3;\n",
       "  color: #f1f1f1;\n",
       "}\n",
       "#T_522e6_row8_col7 {\n",
       "  background-color: #eae6f1;\n",
       "  color: #000000;\n",
       "}\n",
       "#T_522e6_row9_col2 {\n",
       "  background-color: #faf2f8;\n",
       "  color: #000000;\n",
       "}\n",
       "#T_522e6_row9_col4 {\n",
       "  background-color: #b4c4df;\n",
       "  color: #000000;\n",
       "}\n",
       "#T_522e6_row9_col5 {\n",
       "  background-color: #03446a;\n",
       "  color: #f1f1f1;\n",
       "}\n",
       "#T_522e6_row9_col8 {\n",
       "  background-color: #02395a;\n",
       "  color: #f1f1f1;\n",
       "}\n",
       "</style>\n",
       "<table id=\"T_522e6\">\n",
       "  <thead>\n",
       "    <tr>\n",
       "      <th class=\"blank level0\" >&nbsp;</th>\n",
       "      <th id=\"T_522e6_level0_col0\" class=\"col_heading level0 col0\" >GBDT0</th>\n",
       "      <th id=\"T_522e6_level0_col1\" class=\"col_heading level0 col1\" >GBDT2</th>\n",
       "      <th id=\"T_522e6_level0_col2\" class=\"col_heading level0 col2\" >GBDT4</th>\n",
       "      <th id=\"T_522e6_level0_col3\" class=\"col_heading level0 col3\" >GBDT6</th>\n",
       "      <th id=\"T_522e6_level0_col4\" class=\"col_heading level0 col4\" >GBDT8</th>\n",
       "      <th id=\"T_522e6_level0_col5\" class=\"col_heading level0 col5\" >GBDT10</th>\n",
       "      <th id=\"T_522e6_level0_col6\" class=\"col_heading level0 col6\" >GBDT12</th>\n",
       "      <th id=\"T_522e6_level0_col7\" class=\"col_heading level0 col7\" >mean</th>\n",
       "      <th id=\"T_522e6_level0_col8\" class=\"col_heading level0 col8\" >std</th>\n",
       "      <th id=\"T_522e6_level0_col9\" class=\"col_heading level0 col9\" >score</th>\n",
       "      <th id=\"T_522e6_level0_col10\" class=\"col_heading level0 col10\" >close</th>\n",
       "    </tr>\n",
       "    <tr>\n",
       "      <th class=\"index_name level0\" >instrument</th>\n",
       "      <th class=\"blank col0\" >&nbsp;</th>\n",
       "      <th class=\"blank col1\" >&nbsp;</th>\n",
       "      <th class=\"blank col2\" >&nbsp;</th>\n",
       "      <th class=\"blank col3\" >&nbsp;</th>\n",
       "      <th class=\"blank col4\" >&nbsp;</th>\n",
       "      <th class=\"blank col5\" >&nbsp;</th>\n",
       "      <th class=\"blank col6\" >&nbsp;</th>\n",
       "      <th class=\"blank col7\" >&nbsp;</th>\n",
       "      <th class=\"blank col8\" >&nbsp;</th>\n",
       "      <th class=\"blank col9\" >&nbsp;</th>\n",
       "      <th class=\"blank col10\" >&nbsp;</th>\n",
       "    </tr>\n",
       "  </thead>\n",
       "  <tbody>\n",
       "    <tr>\n",
       "      <th id=\"T_522e6_level0_row0\" class=\"row_heading level0 row0\" >SH603486</th>\n",
       "      <td id=\"T_522e6_row0_col0\" class=\"data row0 col0\" >0.083189</td>\n",
       "      <td id=\"T_522e6_row0_col1\" class=\"data row0 col1\" >0.142741</td>\n",
       "      <td id=\"T_522e6_row0_col2\" class=\"data row0 col2\" >0.107709</td>\n",
       "      <td id=\"T_522e6_row0_col3\" class=\"data row0 col3\" >0.065513</td>\n",
       "      <td id=\"T_522e6_row0_col4\" class=\"data row0 col4\" >0.059502</td>\n",
       "      <td id=\"T_522e6_row0_col5\" class=\"data row0 col5\" >0.034898</td>\n",
       "      <td id=\"T_522e6_row0_col6\" class=\"data row0 col6\" >0.056345</td>\n",
       "      <td id=\"T_522e6_row0_col7\" class=\"data row0 col7\" >0.078557</td>\n",
       "      <td id=\"T_522e6_row0_col8\" class=\"data row0 col8\" >0.033644</td>\n",
       "      <td id=\"T_522e6_row0_col9\" class=\"data row0 col9\" >0.276112</td>\n",
       "      <td id=\"T_522e6_row0_col10\" class=\"data row0 col10\" >50.970001</td>\n",
       "    </tr>\n",
       "    <tr>\n",
       "      <th id=\"T_522e6_level0_row1\" class=\"row_heading level0 row1\" >SZ000333</th>\n",
       "      <td id=\"T_522e6_row1_col0\" class=\"data row1 col0\" >0.058930</td>\n",
       "      <td id=\"T_522e6_row1_col1\" class=\"data row1 col1\" >0.127649</td>\n",
       "      <td id=\"T_522e6_row1_col2\" class=\"data row1 col2\" >0.082539</td>\n",
       "      <td id=\"T_522e6_row1_col3\" class=\"data row1 col3\" >0.042225</td>\n",
       "      <td id=\"T_522e6_row1_col4\" class=\"data row1 col4\" >0.068086</td>\n",
       "      <td id=\"T_522e6_row1_col5\" class=\"data row1 col5\" >0.112785</td>\n",
       "      <td id=\"T_522e6_row1_col6\" class=\"data row1 col6\" >0.035788</td>\n",
       "      <td id=\"T_522e6_row1_col7\" class=\"data row1 col7\" >0.075429</td>\n",
       "      <td id=\"T_522e6_row1_col8\" class=\"data row1 col8\" >0.032011</td>\n",
       "      <td id=\"T_522e6_row1_col9\" class=\"data row1 col9\" >0.268137</td>\n",
       "      <td id=\"T_522e6_row1_col10\" class=\"data row1 col10\" >74.000000</td>\n",
       "    </tr>\n",
       "    <tr>\n",
       "      <th id=\"T_522e6_level0_row2\" class=\"row_heading level0 row2\" >SH600732</th>\n",
       "      <td id=\"T_522e6_row2_col0\" class=\"data row2 col0\" >0.058088</td>\n",
       "      <td id=\"T_522e6_row2_col1\" class=\"data row2 col1\" >0.078843</td>\n",
       "      <td id=\"T_522e6_row2_col2\" class=\"data row2 col2\" >0.088284</td>\n",
       "      <td id=\"T_522e6_row2_col3\" class=\"data row2 col3\" >0.100100</td>\n",
       "      <td id=\"T_522e6_row2_col4\" class=\"data row2 col4\" >0.103875</td>\n",
       "      <td id=\"T_522e6_row2_col5\" class=\"data row2 col5\" >0.002829</td>\n",
       "      <td id=\"T_522e6_row2_col6\" class=\"data row2 col6\" >0.059762</td>\n",
       "      <td id=\"T_522e6_row2_col7\" class=\"data row2 col7\" >0.070254</td>\n",
       "      <td id=\"T_522e6_row2_col8\" class=\"data row2 col8\" >0.032125</td>\n",
       "      <td id=\"T_522e6_row2_col9\" class=\"data row2 col9\" >0.249297</td>\n",
       "      <td id=\"T_522e6_row2_col10\" class=\"data row2 col10\" >12.860000</td>\n",
       "    </tr>\n",
       "    <tr>\n",
       "      <th id=\"T_522e6_level0_row3\" class=\"row_heading level0 row3\" >SH600919</th>\n",
       "      <td id=\"T_522e6_row3_col0\" class=\"data row3 col0\" >0.029042</td>\n",
       "      <td id=\"T_522e6_row3_col1\" class=\"data row3 col1\" >0.082748</td>\n",
       "      <td id=\"T_522e6_row3_col2\" class=\"data row3 col2\" >0.043211</td>\n",
       "      <td id=\"T_522e6_row3_col3\" class=\"data row3 col3\" >0.064293</td>\n",
       "      <td id=\"T_522e6_row3_col4\" class=\"data row3 col4\" >0.077073</td>\n",
       "      <td id=\"T_522e6_row3_col5\" class=\"data row3 col5\" >0.109934</td>\n",
       "      <td id=\"T_522e6_row3_col6\" class=\"data row3 col6\" >0.063053</td>\n",
       "      <td id=\"T_522e6_row3_col7\" class=\"data row3 col7\" >0.067051</td>\n",
       "      <td id=\"T_522e6_row3_col8\" class=\"data row3 col8\" >0.024560</td>\n",
       "      <td id=\"T_522e6_row3_col9\" class=\"data row3 col9\" >0.241791</td>\n",
       "      <td id=\"T_522e6_row3_col10\" class=\"data row3 col10\" >9.139999</td>\n",
       "    </tr>\n",
       "    <tr>\n",
       "      <th id=\"T_522e6_level0_row4\" class=\"row_heading level0 row4\" >SZ002714</th>\n",
       "      <td id=\"T_522e6_row4_col0\" class=\"data row4 col0\" >0.027226</td>\n",
       "      <td id=\"T_522e6_row4_col1\" class=\"data row4 col1\" >0.065195</td>\n",
       "      <td id=\"T_522e6_row4_col2\" class=\"data row4 col2\" >0.054490</td>\n",
       "      <td id=\"T_522e6_row4_col3\" class=\"data row4 col3\" >0.042835</td>\n",
       "      <td id=\"T_522e6_row4_col4\" class=\"data row4 col4\" >0.069207</td>\n",
       "      <td id=\"T_522e6_row4_col5\" class=\"data row4 col5\" >0.161772</td>\n",
       "      <td id=\"T_522e6_row4_col6\" class=\"data row4 col6\" >0.035637</td>\n",
       "      <td id=\"T_522e6_row4_col7\" class=\"data row4 col7\" >0.065195</td>\n",
       "      <td id=\"T_522e6_row4_col8\" class=\"data row4 col8\" >0.041872</td>\n",
       "      <td id=\"T_522e6_row4_col9\" class=\"data row4 col9\" >0.236033</td>\n",
       "      <td id=\"T_522e6_row4_col10\" class=\"data row4 col10\" >40.340000</td>\n",
       "    </tr>\n",
       "    <tr>\n",
       "      <th id=\"T_522e6_level0_row5\" class=\"row_heading level0 row5\" >SH600660</th>\n",
       "      <td id=\"T_522e6_row5_col0\" class=\"data row5 col0\" >0.029726</td>\n",
       "      <td id=\"T_522e6_row5_col1\" class=\"data row5 col1\" >0.073253</td>\n",
       "      <td id=\"T_522e6_row5_col2\" class=\"data row5 col2\" >0.062722</td>\n",
       "      <td id=\"T_522e6_row5_col3\" class=\"data row5 col3\" >0.051657</td>\n",
       "      <td id=\"T_522e6_row5_col4\" class=\"data row5 col4\" >0.064025</td>\n",
       "      <td id=\"T_522e6_row5_col5\" class=\"data row5 col5\" >0.134792</td>\n",
       "      <td id=\"T_522e6_row5_col6\" class=\"data row5 col6\" >0.036250</td>\n",
       "      <td id=\"T_522e6_row5_col7\" class=\"data row5 col7\" >0.064632</td>\n",
       "      <td id=\"T_522e6_row5_col8\" class=\"data row5 col8\" >0.032056</td>\n",
       "      <td id=\"T_522e6_row5_col9\" class=\"data row5 col9\" >0.232987</td>\n",
       "      <td id=\"T_522e6_row5_col10\" class=\"data row5 col10\" >57.839996</td>\n",
       "    </tr>\n",
       "    <tr>\n",
       "      <th id=\"T_522e6_level0_row6\" class=\"row_heading level0 row6\" >SZ000895</th>\n",
       "      <td id=\"T_522e6_row6_col0\" class=\"data row6 col0\" >0.050888</td>\n",
       "      <td id=\"T_522e6_row6_col1\" class=\"data row6 col1\" >0.088227</td>\n",
       "      <td id=\"T_522e6_row6_col2\" class=\"data row6 col2\" >0.046217</td>\n",
       "      <td id=\"T_522e6_row6_col3\" class=\"data row6 col3\" >0.049223</td>\n",
       "      <td id=\"T_522e6_row6_col4\" class=\"data row6 col4\" >0.050623</td>\n",
       "      <td id=\"T_522e6_row6_col5\" class=\"data row6 col5\" >0.107281</td>\n",
       "      <td id=\"T_522e6_row6_col6\" class=\"data row6 col6\" >0.048823</td>\n",
       "      <td id=\"T_522e6_row6_col7\" class=\"data row6 col7\" >0.063040</td>\n",
       "      <td id=\"T_522e6_row6_col8\" class=\"data row6 col8\" >0.022582</td>\n",
       "      <td id=\"T_522e6_row6_col9\" class=\"data row6 col9\" >0.225860</td>\n",
       "      <td id=\"T_522e6_row6_col10\" class=\"data row6 col10\" >25.530001</td>\n",
       "    </tr>\n",
       "    <tr>\n",
       "      <th id=\"T_522e6_level0_row7\" class=\"row_heading level0 row7\" >SH600588</th>\n",
       "      <td id=\"T_522e6_row7_col0\" class=\"data row7 col0\" >0.005867</td>\n",
       "      <td id=\"T_522e6_row7_col1\" class=\"data row7 col1\" >0.033495</td>\n",
       "      <td id=\"T_522e6_row7_col2\" class=\"data row7 col2\" >0.058713</td>\n",
       "      <td id=\"T_522e6_row7_col3\" class=\"data row7 col3\" >0.062000</td>\n",
       "      <td id=\"T_522e6_row7_col4\" class=\"data row7 col4\" >0.073930</td>\n",
       "      <td id=\"T_522e6_row7_col5\" class=\"data row7 col5\" >0.110385</td>\n",
       "      <td id=\"T_522e6_row7_col6\" class=\"data row7 col6\" >0.086972</td>\n",
       "      <td id=\"T_522e6_row7_col7\" class=\"data row7 col7\" >0.061623</td>\n",
       "      <td id=\"T_522e6_row7_col8\" class=\"data row7 col8\" >0.031804</td>\n",
       "      <td id=\"T_522e6_row7_col9\" class=\"data row7 col9\" >0.224027</td>\n",
       "      <td id=\"T_522e6_row7_col10\" class=\"data row7 col10\" >12.120000</td>\n",
       "    </tr>\n",
       "    <tr>\n",
       "      <th id=\"T_522e6_level0_row8\" class=\"row_heading level0 row8\" >SH600027</th>\n",
       "      <td id=\"T_522e6_row8_col0\" class=\"data row8 col0\" >0.058573</td>\n",
       "      <td id=\"T_522e6_row8_col1\" class=\"data row8 col1\" >0.082547</td>\n",
       "      <td id=\"T_522e6_row8_col2\" class=\"data row8 col2\" >0.076578</td>\n",
       "      <td id=\"T_522e6_row8_col3\" class=\"data row8 col3\" >0.054826</td>\n",
       "      <td id=\"T_522e6_row8_col4\" class=\"data row8 col4\" >0.053934</td>\n",
       "      <td id=\"T_522e6_row8_col5\" class=\"data row8 col5\" >0.050171</td>\n",
       "      <td id=\"T_522e6_row8_col6\" class=\"data row8 col6\" >0.061111</td>\n",
       "      <td id=\"T_522e6_row8_col7\" class=\"data row8 col7\" >0.062534</td>\n",
       "      <td id=\"T_522e6_row8_col8\" class=\"data row8 col8\" >0.011349</td>\n",
       "      <td id=\"T_522e6_row8_col9\" class=\"data row8 col9\" >0.221854</td>\n",
       "      <td id=\"T_522e6_row8_col10\" class=\"data row8 col10\" >5.539999</td>\n",
       "    </tr>\n",
       "    <tr>\n",
       "      <th id=\"T_522e6_level0_row9\" class=\"row_heading level0 row9\" >SH600018</th>\n",
       "      <td id=\"T_522e6_row9_col0\" class=\"data row9 col0\" >0.027505</td>\n",
       "      <td id=\"T_522e6_row9_col1\" class=\"data row9 col1\" >0.062998</td>\n",
       "      <td id=\"T_522e6_row9_col2\" class=\"data row9 col2\" >0.045499</td>\n",
       "      <td id=\"T_522e6_row9_col3\" class=\"data row9 col3\" >0.038065</td>\n",
       "      <td id=\"T_522e6_row9_col4\" class=\"data row9 col4\" >0.068350</td>\n",
       "      <td id=\"T_522e6_row9_col5\" class=\"data row9 col5\" >0.154666</td>\n",
       "      <td id=\"T_522e6_row9_col6\" class=\"data row9 col6\" >0.023111</td>\n",
       "      <td id=\"T_522e6_row9_col7\" class=\"data row9 col7\" >0.060028</td>\n",
       "      <td id=\"T_522e6_row9_col8\" class=\"data row9 col8\" >0.041659</td>\n",
       "      <td id=\"T_522e6_row9_col9\" class=\"data row9 col9\" >0.217358</td>\n",
       "      <td id=\"T_522e6_row9_col10\" class=\"data row9 col10\" >6.050000</td>\n",
       "    </tr>\n",
       "  </tbody>\n",
       "</table>\n"
      ],
      "text/plain": [
       "<pandas.io.formats.style.Styler at 0x7f98171ad7c0>"
      ]
     },
     "execution_count": 18,
     "metadata": {},
     "output_type": "execute_result"
    }
   ],
   "source": [
    "sty_report_top1"
   ]
  },
  {
   "cell_type": "code",
   "execution_count": 19,
   "metadata": {
    "execution": {
     "iopub.execute_input": "2024-12-13T13:21:27.985618Z",
     "iopub.status.busy": "2024-12-13T13:21:27.985283Z",
     "iopub.status.idle": "2024-12-13T13:21:28.010275Z",
     "shell.execute_reply": "2024-12-13T13:21:28.009417Z"
    }
   },
   "outputs": [
    {
     "data": {
      "text/html": [
       "<style type=\"text/css\">\n",
       "#T_88b94_row0_col0, #T_88b94_row0_col1, #T_88b94_row8_col1 {\n",
       "  background-color: #c5cce3;\n",
       "  color: #000000;\n",
       "}\n",
       "#T_88b94_row0_col2, #T_88b94_row1_col3, #T_88b94_row1_col6, #T_88b94_row3_col4, #T_88b94_row4_col8, #T_88b94_row5_col5, #T_88b94_row9_col0, #T_88b94_row9_col1, #T_88b94_row9_col7, #T_88b94_row9_col9 {\n",
       "  background-color: #fff7fb;\n",
       "  color: #000000;\n",
       "}\n",
       "#T_88b94_row0_col3, #T_88b94_row0_col4, #T_88b94_row0_col9, #T_88b94_row1_col0, #T_88b94_row1_col7, #T_88b94_row6_col1, #T_88b94_row7_col6, #T_88b94_row8_col5, #T_88b94_row9_col2, #T_88b94_row9_col8 {\n",
       "  background-color: #023858;\n",
       "  color: #f1f1f1;\n",
       "}\n",
       "#T_88b94_row0_col5 {\n",
       "  background-color: #0d75b3;\n",
       "  color: #f1f1f1;\n",
       "}\n",
       "#T_88b94_row0_col6, #T_88b94_row5_col3 {\n",
       "  background-color: #056fae;\n",
       "  color: #f1f1f1;\n",
       "}\n",
       "#T_88b94_row0_col7 {\n",
       "  background-color: #056ba9;\n",
       "  color: #f1f1f1;\n",
       "}\n",
       "#T_88b94_row0_col8, #T_88b94_row1_col9 {\n",
       "  background-color: #034871;\n",
       "  color: #f1f1f1;\n",
       "}\n",
       "#T_88b94_row1_col1, #T_88b94_row7_col4 {\n",
       "  background-color: #0a73b2;\n",
       "  color: #f1f1f1;\n",
       "}\n",
       "#T_88b94_row1_col2 {\n",
       "  background-color: #a4bcda;\n",
       "  color: #000000;\n",
       "}\n",
       "#T_88b94_row1_col4, #T_88b94_row5_col4 {\n",
       "  background-color: #acc0dd;\n",
       "  color: #000000;\n",
       "}\n",
       "#T_88b94_row1_col5 {\n",
       "  background-color: #0567a1;\n",
       "  color: #f1f1f1;\n",
       "}\n",
       "#T_88b94_row1_col8 {\n",
       "  background-color: #d3d4e7;\n",
       "  color: #000000;\n",
       "}\n",
       "#T_88b94_row2_col0, #T_88b94_row2_col5 {\n",
       "  background-color: #034d79;\n",
       "  color: #f1f1f1;\n",
       "}\n",
       "#T_88b94_row2_col1 {\n",
       "  background-color: #99b8d8;\n",
       "  color: #000000;\n",
       "}\n",
       "#T_88b94_row2_col2 {\n",
       "  background-color: #7dacd1;\n",
       "  color: #f1f1f1;\n",
       "}\n",
       "#T_88b94_row2_col3 {\n",
       "  background-color: #cccfe5;\n",
       "  color: #000000;\n",
       "}\n",
       "#T_88b94_row2_col4, #T_88b94_row8_col6 {\n",
       "  background-color: #fdf5fa;\n",
       "  color: #000000;\n",
       "}\n",
       "#T_88b94_row2_col6 {\n",
       "  background-color: #c9cee4;\n",
       "  color: #000000;\n",
       "}\n",
       "#T_88b94_row2_col7 {\n",
       "  background-color: #034e7b;\n",
       "  color: #f1f1f1;\n",
       "}\n",
       "#T_88b94_row2_col8 {\n",
       "  background-color: #e8e4f0;\n",
       "  color: #000000;\n",
       "}\n",
       "#T_88b94_row2_col9 {\n",
       "  background-color: #034973;\n",
       "  color: #f1f1f1;\n",
       "}\n",
       "#T_88b94_row3_col0 {\n",
       "  background-color: #1077b4;\n",
       "  color: #f1f1f1;\n",
       "}\n",
       "#T_88b94_row3_col1, #T_88b94_row5_col2 {\n",
       "  background-color: #b7c5df;\n",
       "  color: #000000;\n",
       "}\n",
       "#T_88b94_row3_col2 {\n",
       "  background-color: #0f76b3;\n",
       "  color: #f1f1f1;\n",
       "}\n",
       "#T_88b94_row3_col3 {\n",
       "  background-color: #dbdaeb;\n",
       "  color: #000000;\n",
       "}\n",
       "#T_88b94_row3_col5 {\n",
       "  background-color: #04639b;\n",
       "  color: #f1f1f1;\n",
       "}\n",
       "#T_88b94_row3_col6 {\n",
       "  background-color: #d1d2e6;\n",
       "  color: #000000;\n",
       "}\n",
       "#T_88b94_row3_col7 {\n",
       "  background-color: #1278b4;\n",
       "  color: #f1f1f1;\n",
       "}\n",
       "#T_88b94_row3_col8 {\n",
       "  background-color: #d5d5e8;\n",
       "  color: #000000;\n",
       "}\n",
       "#T_88b94_row3_col9 {\n",
       "  background-color: #187cb6;\n",
       "  color: #f1f1f1;\n",
       "}\n",
       "#T_88b94_row4_col0, #T_88b94_row4_col6 {\n",
       "  background-color: #045585;\n",
       "  color: #f1f1f1;\n",
       "}\n",
       "#T_88b94_row4_col1 {\n",
       "  background-color: #cacee5;\n",
       "  color: #000000;\n",
       "}\n",
       "#T_88b94_row4_col2 {\n",
       "  background-color: #b0c2de;\n",
       "  color: #000000;\n",
       "}\n",
       "#T_88b94_row4_col3 {\n",
       "  background-color: #84b0d3;\n",
       "  color: #f1f1f1;\n",
       "}\n",
       "#T_88b94_row4_col4 {\n",
       "  background-color: #d2d3e7;\n",
       "  color: #000000;\n",
       "}\n",
       "#T_88b94_row4_col5 {\n",
       "  background-color: #6fa7ce;\n",
       "  color: #f1f1f1;\n",
       "}\n",
       "#T_88b94_row4_col7 {\n",
       "  background-color: #4a98c5;\n",
       "  color: #f1f1f1;\n",
       "}\n",
       "#T_88b94_row4_col9, #T_88b94_row8_col0 {\n",
       "  background-color: #3b92c1;\n",
       "  color: #f1f1f1;\n",
       "}\n",
       "#T_88b94_row5_col0 {\n",
       "  background-color: #0569a5;\n",
       "  color: #f1f1f1;\n",
       "}\n",
       "#T_88b94_row5_col1 {\n",
       "  background-color: #2685bb;\n",
       "  color: #f1f1f1;\n",
       "}\n",
       "#T_88b94_row5_col6 {\n",
       "  background-color: #63a2cb;\n",
       "  color: #f1f1f1;\n",
       "}\n",
       "#T_88b94_row5_col7 {\n",
       "  background-color: #97b7d7;\n",
       "  color: #000000;\n",
       "}\n",
       "#T_88b94_row5_col8 {\n",
       "  background-color: #eae6f1;\n",
       "  color: #000000;\n",
       "}\n",
       "#T_88b94_row5_col9 {\n",
       "  background-color: #b3c3de;\n",
       "  color: #000000;\n",
       "}\n",
       "#T_88b94_row6_col0 {\n",
       "  background-color: #023d60;\n",
       "  color: #f1f1f1;\n",
       "}\n",
       "#T_88b94_row6_col2, #T_88b94_row7_col2 {\n",
       "  background-color: #7bacd1;\n",
       "  color: #f1f1f1;\n",
       "}\n",
       "#T_88b94_row6_col3 {\n",
       "  background-color: #fef6fb;\n",
       "  color: #000000;\n",
       "}\n",
       "#T_88b94_row6_col4 {\n",
       "  background-color: #5ea0ca;\n",
       "  color: #f1f1f1;\n",
       "}\n",
       "#T_88b94_row6_col5 {\n",
       "  background-color: #f9f2f8;\n",
       "  color: #000000;\n",
       "}\n",
       "#T_88b94_row6_col6 {\n",
       "  background-color: #f5eef6;\n",
       "  color: #000000;\n",
       "}\n",
       "#T_88b94_row6_col7 {\n",
       "  background-color: #5c9fc9;\n",
       "  color: #f1f1f1;\n",
       "}\n",
       "#T_88b94_row6_col8 {\n",
       "  background-color: #96b6d7;\n",
       "  color: #000000;\n",
       "}\n",
       "#T_88b94_row6_col9 {\n",
       "  background-color: #b9c6e0;\n",
       "  color: #000000;\n",
       "}\n",
       "#T_88b94_row7_col0 {\n",
       "  background-color: #8cb3d5;\n",
       "  color: #000000;\n",
       "}\n",
       "#T_88b94_row7_col1 {\n",
       "  background-color: #d6d6e9;\n",
       "  color: #000000;\n",
       "}\n",
       "#T_88b94_row7_col3 {\n",
       "  background-color: #9cb9d9;\n",
       "  color: #000000;\n",
       "}\n",
       "#T_88b94_row7_col5, #T_88b94_row9_col3 {\n",
       "  background-color: #d7d6e9;\n",
       "  color: #000000;\n",
       "}\n",
       "#T_88b94_row7_col7 {\n",
       "  background-color: #eee8f3;\n",
       "  color: #000000;\n",
       "}\n",
       "#T_88b94_row7_col8 {\n",
       "  background-color: #bfc9e1;\n",
       "  color: #000000;\n",
       "}\n",
       "#T_88b94_row7_col9 {\n",
       "  background-color: #ede7f2;\n",
       "  color: #000000;\n",
       "}\n",
       "#T_88b94_row8_col2 {\n",
       "  background-color: #86b0d3;\n",
       "  color: #000000;\n",
       "}\n",
       "#T_88b94_row8_col3 {\n",
       "  background-color: #f2ecf5;\n",
       "  color: #000000;\n",
       "}\n",
       "#T_88b94_row8_col4, #T_88b94_row8_col8 {\n",
       "  background-color: #81aed2;\n",
       "  color: #f1f1f1;\n",
       "}\n",
       "#T_88b94_row8_col7 {\n",
       "  background-color: #fcf4fa;\n",
       "  color: #000000;\n",
       "}\n",
       "#T_88b94_row8_col9 {\n",
       "  background-color: #f7f0f7;\n",
       "  color: #000000;\n",
       "}\n",
       "#T_88b94_row9_col4 {\n",
       "  background-color: #034b76;\n",
       "  color: #f1f1f1;\n",
       "}\n",
       "#T_88b94_row9_col5 {\n",
       "  background-color: #9ebad9;\n",
       "  color: #000000;\n",
       "}\n",
       "#T_88b94_row9_col6 {\n",
       "  background-color: #65a3cb;\n",
       "  color: #f1f1f1;\n",
       "}\n",
       "</style>\n",
       "<table id=\"T_88b94\">\n",
       "  <thead>\n",
       "    <tr>\n",
       "      <th class=\"blank level0\" >&nbsp;</th>\n",
       "      <th id=\"T_88b94_level0_col0\" class=\"col_heading level0 col0\" >GBDT0</th>\n",
       "      <th id=\"T_88b94_level0_col1\" class=\"col_heading level0 col1\" >GBDT2</th>\n",
       "      <th id=\"T_88b94_level0_col2\" class=\"col_heading level0 col2\" >GBDT4</th>\n",
       "      <th id=\"T_88b94_level0_col3\" class=\"col_heading level0 col3\" >GBDT6</th>\n",
       "      <th id=\"T_88b94_level0_col4\" class=\"col_heading level0 col4\" >GBDT8</th>\n",
       "      <th id=\"T_88b94_level0_col5\" class=\"col_heading level0 col5\" >GBDT10</th>\n",
       "      <th id=\"T_88b94_level0_col6\" class=\"col_heading level0 col6\" >GBDT12</th>\n",
       "      <th id=\"T_88b94_level0_col7\" class=\"col_heading level0 col7\" >mean</th>\n",
       "      <th id=\"T_88b94_level0_col8\" class=\"col_heading level0 col8\" >std</th>\n",
       "      <th id=\"T_88b94_level0_col9\" class=\"col_heading level0 col9\" >score</th>\n",
       "      <th id=\"T_88b94_level0_col10\" class=\"col_heading level0 col10\" >close</th>\n",
       "    </tr>\n",
       "    <tr>\n",
       "      <th class=\"index_name level0\" >instrument</th>\n",
       "      <th class=\"blank col0\" >&nbsp;</th>\n",
       "      <th class=\"blank col1\" >&nbsp;</th>\n",
       "      <th class=\"blank col2\" >&nbsp;</th>\n",
       "      <th class=\"blank col3\" >&nbsp;</th>\n",
       "      <th class=\"blank col4\" >&nbsp;</th>\n",
       "      <th class=\"blank col5\" >&nbsp;</th>\n",
       "      <th class=\"blank col6\" >&nbsp;</th>\n",
       "      <th class=\"blank col7\" >&nbsp;</th>\n",
       "      <th class=\"blank col8\" >&nbsp;</th>\n",
       "      <th class=\"blank col9\" >&nbsp;</th>\n",
       "      <th class=\"blank col10\" >&nbsp;</th>\n",
       "    </tr>\n",
       "  </thead>\n",
       "  <tbody>\n",
       "    <tr>\n",
       "      <th id=\"T_88b94_level0_row0\" class=\"row_heading level0 row0\" >SH603899</th>\n",
       "      <td id=\"T_88b94_row0_col0\" class=\"data row0 col0\" >0.006005</td>\n",
       "      <td id=\"T_88b94_row0_col1\" class=\"data row0 col1\" >0.034532</td>\n",
       "      <td id=\"T_88b94_row0_col2\" class=\"data row0 col2\" >-0.002238</td>\n",
       "      <td id=\"T_88b94_row0_col3\" class=\"data row0 col3\" >0.102660</td>\n",
       "      <td id=\"T_88b94_row0_col4\" class=\"data row0 col4\" >0.093288</td>\n",
       "      <td id=\"T_88b94_row0_col5\" class=\"data row0 col5\" >0.094332</td>\n",
       "      <td id=\"T_88b94_row0_col6\" class=\"data row0 col6\" >0.079798</td>\n",
       "      <td id=\"T_88b94_row0_col7\" class=\"data row0 col7\" >0.058339</td>\n",
       "      <td id=\"T_88b94_row0_col8\" class=\"data row0 col8\" >0.041260</td>\n",
       "      <td id=\"T_88b94_row0_col9\" class=\"data row0 col9\" >0.214238</td>\n",
       "      <td id=\"T_88b94_row0_col10\" class=\"data row0 col10\" >32.649998</td>\n",
       "    </tr>\n",
       "    <tr>\n",
       "      <th id=\"T_88b94_level0_row1\" class=\"row_heading level0 row1\" >SH601088</th>\n",
       "      <td id=\"T_88b94_row1_col0\" class=\"data row1 col0\" >0.049040</td>\n",
       "      <td id=\"T_88b94_row1_col1\" class=\"data row1 col1\" >0.088302</td>\n",
       "      <td id=\"T_88b94_row1_col2\" class=\"data row1 col2\" >0.043955</td>\n",
       "      <td id=\"T_88b94_row1_col3\" class=\"data row1 col3\" >0.036323</td>\n",
       "      <td id=\"T_88b94_row1_col4\" class=\"data row1 col4\" >0.063268</td>\n",
       "      <td id=\"T_88b94_row1_col5\" class=\"data row1 col5\" >0.101646</td>\n",
       "      <td id=\"T_88b94_row1_col6\" class=\"data row1 col6\" >0.034553</td>\n",
       "      <td id=\"T_88b94_row1_col7\" class=\"data row1 col7\" >0.059584</td>\n",
       "      <td id=\"T_88b94_row1_col8\" class=\"data row1 col8\" >0.024291</td>\n",
       "      <td id=\"T_88b94_row1_col9\" class=\"data row1 col9\" >0.213052</td>\n",
       "      <td id=\"T_88b94_row1_col10\" class=\"data row1 col10\" >42.600002</td>\n",
       "    </tr>\n",
       "    <tr>\n",
       "      <th id=\"T_88b94_level0_row2\" class=\"row_heading level0 row2\" >SH601059</th>\n",
       "      <td id=\"T_88b94_row2_col0\" class=\"data row2 col0\" >0.044186</td>\n",
       "      <td id=\"T_88b94_row2_col1\" class=\"data row2 col1\" >0.049315</td>\n",
       "      <td id=\"T_88b94_row2_col2\" class=\"data row2 col2\" >0.055795</td>\n",
       "      <td id=\"T_88b94_row2_col3\" class=\"data row2 col3\" >0.053918</td>\n",
       "      <td id=\"T_88b94_row2_col4\" class=\"data row2 col4\" >0.047350</td>\n",
       "      <td id=\"T_88b94_row2_col5\" class=\"data row2 col5\" >0.112513</td>\n",
       "      <td id=\"T_88b94_row2_col6\" class=\"data row2 col6\" >0.050744</td>\n",
       "      <td id=\"T_88b94_row2_col7\" class=\"data row2 col7\" >0.059117</td>\n",
       "      <td id=\"T_88b94_row2_col8\" class=\"data row2 col8\" >0.022093</td>\n",
       "      <td id=\"T_88b94_row2_col9\" class=\"data row2 col9\" >0.212980</td>\n",
       "      <td id=\"T_88b94_row2_col10\" class=\"data row2 col10\" >15.730000</td>\n",
       "    </tr>\n",
       "    <tr>\n",
       "      <th id=\"T_88b94_level0_row3\" class=\"row_heading level0 row3\" >SH600745</th>\n",
       "      <td id=\"T_88b94_row3_col0\" class=\"data row3 col0\" >0.032320</td>\n",
       "      <td id=\"T_88b94_row3_col1\" class=\"data row3 col1\" >0.039755</td>\n",
       "      <td id=\"T_88b94_row3_col2\" class=\"data row3 col2\" >0.085388</td>\n",
       "      <td id=\"T_88b94_row3_col3\" class=\"data row3 col3\" >0.049558</td>\n",
       "      <td id=\"T_88b94_row3_col4\" class=\"data row3 col4\" >0.046592</td>\n",
       "      <td id=\"T_88b94_row3_col5\" class=\"data row3 col5\" >0.103253</td>\n",
       "      <td id=\"T_88b94_row3_col6\" class=\"data row3 col6\" >0.049306</td>\n",
       "      <td id=\"T_88b94_row3_col7\" class=\"data row3 col7\" >0.058025</td>\n",
       "      <td id=\"T_88b94_row3_col8\" class=\"data row3 col8\" >0.024105</td>\n",
       "      <td id=\"T_88b94_row3_col9\" class=\"data row3 col9\" >0.208584</td>\n",
       "      <td id=\"T_88b94_row3_col10\" class=\"data row3 col10\" >36.000000</td>\n",
       "    </tr>\n",
       "    <tr>\n",
       "      <th id=\"T_88b94_level0_row4\" class=\"row_heading level0 row4\" >SZ002415</th>\n",
       "      <td id=\"T_88b94_row4_col0\" class=\"data row4 col0\" >0.042664</td>\n",
       "      <td id=\"T_88b94_row4_col1\" class=\"data row4 col1\" >0.032797</td>\n",
       "      <td id=\"T_88b94_row4_col2\" class=\"data row4 col2\" >0.039511</td>\n",
       "      <td id=\"T_88b94_row4_col3\" class=\"data row4 col3\" >0.066896</td>\n",
       "      <td id=\"T_88b94_row4_col4\" class=\"data row4 col4\" >0.057744</td>\n",
       "      <td id=\"T_88b94_row4_col5\" class=\"data row4 col5\" >0.073592</td>\n",
       "      <td id=\"T_88b94_row4_col6\" class=\"data row4 col6\" >0.087920</td>\n",
       "      <td id=\"T_88b94_row4_col7\" class=\"data row4 col7\" >0.057303</td>\n",
       "      <td id=\"T_88b94_row4_col8\" class=\"data row4 col8\" >0.018618</td>\n",
       "      <td id=\"T_88b94_row4_col9\" class=\"data row4 col9\" >0.206875</td>\n",
       "      <td id=\"T_88b94_row4_col10\" class=\"data row4 col10\" >30.809999</td>\n",
       "    </tr>\n",
       "    <tr>\n",
       "      <th id=\"T_88b94_level0_row5\" class=\"row_heading level0 row5\" >SH600176</th>\n",
       "      <td id=\"T_88b94_row5_col0\" class=\"data row5 col0\" >0.036261</td>\n",
       "      <td id=\"T_88b94_row5_col1\" class=\"data row5 col1\" >0.079914</td>\n",
       "      <td id=\"T_88b94_row5_col2\" class=\"data row5 col2\" >0.037079</td>\n",
       "      <td id=\"T_88b94_row5_col3\" class=\"data row5 col3\" >0.086373</td>\n",
       "      <td id=\"T_88b94_row5_col4\" class=\"data row5 col4\" >0.063263</td>\n",
       "      <td id=\"T_88b94_row5_col5\" class=\"data row5 col5\" >0.025225</td>\n",
       "      <td id=\"T_88b94_row5_col6\" class=\"data row5 col6\" >0.066418</td>\n",
       "      <td id=\"T_88b94_row5_col7\" class=\"data row5 col7\" >0.056362</td>\n",
       "      <td id=\"T_88b94_row5_col8\" class=\"data row5 col8\" >0.021875</td>\n",
       "      <td id=\"T_88b94_row5_col9\" class=\"data row5 col9\" >0.201597</td>\n",
       "      <td id=\"T_88b94_row5_col10\" class=\"data row5 col10\" >11.700000</td>\n",
       "    </tr>\n",
       "    <tr>\n",
       "      <th id=\"T_88b94_level0_row6\" class=\"row_heading level0 row6\" >SH603259</th>\n",
       "      <td id=\"T_88b94_row6_col0\" class=\"data row6 col0\" >0.047792</td>\n",
       "      <td id=\"T_88b94_row6_col1\" class=\"data row6 col1\" >0.119356</td>\n",
       "      <td id=\"T_88b94_row6_col2\" class=\"data row6 col2\" >0.056139</td>\n",
       "      <td id=\"T_88b94_row6_col3\" class=\"data row6 col3\" >0.036690</td>\n",
       "      <td id=\"T_88b94_row6_col4\" class=\"data row6 col4\" >0.072048</td>\n",
       "      <td id=\"T_88b94_row6_col5\" class=\"data row6 col5\" >0.029155</td>\n",
       "      <td id=\"T_88b94_row6_col6\" class=\"data row6 col6\" >0.038622</td>\n",
       "      <td id=\"T_88b94_row6_col7\" class=\"data row6 col7\" >0.057115</td>\n",
       "      <td id=\"T_88b94_row6_col8\" class=\"data row6 col8\" >0.028600</td>\n",
       "      <td id=\"T_88b94_row6_col9\" class=\"data row6 col9\" >0.201252</td>\n",
       "      <td id=\"T_88b94_row6_col10\" class=\"data row6 col10\" >56.500000</td>\n",
       "    </tr>\n",
       "    <tr>\n",
       "      <th id=\"T_88b94_level0_row7\" class=\"row_heading level0 row7\" >SZ002241</th>\n",
       "      <td id=\"T_88b94_row7_col0\" class=\"data row7 col0\" >0.015416</td>\n",
       "      <td id=\"T_88b94_row7_col1\" class=\"data row7 col1\" >0.027472</td>\n",
       "      <td id=\"T_88b94_row7_col2\" class=\"data row7 col2\" >0.055981</td>\n",
       "      <td id=\"T_88b94_row7_col3\" class=\"data row7 col3\" >0.062926</td>\n",
       "      <td id=\"T_88b94_row7_col4\" class=\"data row7 col4\" >0.080949</td>\n",
       "      <td id=\"T_88b94_row7_col5\" class=\"data row7 col5\" >0.046046</td>\n",
       "      <td id=\"T_88b94_row7_col6\" class=\"data row7 col6\" >0.094316</td>\n",
       "      <td id=\"T_88b94_row7_col7\" class=\"data row7 col7\" >0.054729</td>\n",
       "      <td id=\"T_88b94_row7_col8\" class=\"data row7 col8\" >0.025877</td>\n",
       "      <td id=\"T_88b94_row7_col9\" class=\"data row7 col9\" >0.197532</td>\n",
       "      <td id=\"T_88b94_row7_col10\" class=\"data row7 col10\" >26.690001</td>\n",
       "    </tr>\n",
       "    <tr>\n",
       "      <th id=\"T_88b94_level0_row8\" class=\"row_heading level0 row8\" >SH600309</th>\n",
       "      <td id=\"T_88b94_row8_col0\" class=\"data row8 col0\" >0.025975</td>\n",
       "      <td id=\"T_88b94_row8_col1\" class=\"data row8 col1\" >0.034522</td>\n",
       "      <td id=\"T_88b94_row8_col2\" class=\"data row8 col2\" >0.052674</td>\n",
       "      <td id=\"T_88b94_row8_col3\" class=\"data row8 col3\" >0.042092</td>\n",
       "      <td id=\"T_88b94_row8_col4\" class=\"data row8 col4\" >0.068339</td>\n",
       "      <td id=\"T_88b94_row8_col5\" class=\"data row8 col5\" >0.120258</td>\n",
       "      <td id=\"T_88b94_row8_col6\" class=\"data row8 col6\" >0.035618</td>\n",
       "      <td id=\"T_88b94_row8_col7\" class=\"data row8 col7\" >0.054211</td>\n",
       "      <td id=\"T_88b94_row8_col8\" class=\"data row8 col8\" >0.029861</td>\n",
       "      <td id=\"T_88b94_row8_col9\" class=\"data row8 col9\" >0.196305</td>\n",
       "      <td id=\"T_88b94_row8_col10\" class=\"data row8 col10\" >74.750000</td>\n",
       "    </tr>\n",
       "    <tr>\n",
       "      <th id=\"T_88b94_level0_row9\" class=\"row_heading level0 row9\" >SH603019</th>\n",
       "      <td id=\"T_88b94_row9_col0\" class=\"data row9 col0\" >-0.010852</td>\n",
       "      <td id=\"T_88b94_row9_col1\" class=\"data row9 col1\" >0.000888</td>\n",
       "      <td id=\"T_88b94_row9_col2\" class=\"data row9 col2\" >0.118803</td>\n",
       "      <td id=\"T_88b94_row9_col3\" class=\"data row9 col3\" >0.050947</td>\n",
       "      <td id=\"T_88b94_row9_col4\" class=\"data row9 col4\" >0.089962</td>\n",
       "      <td id=\"T_88b94_row9_col5\" class=\"data row9 col5\" >0.062771</td>\n",
       "      <td id=\"T_88b94_row9_col6\" class=\"data row9 col6\" >0.066098</td>\n",
       "      <td id=\"T_88b94_row9_col7\" class=\"data row9 col7\" >0.054088</td>\n",
       "      <td id=\"T_88b94_row9_col8\" class=\"data row9 col8\" >0.042681</td>\n",
       "      <td id=\"T_88b94_row9_col9\" class=\"data row9 col9\" >0.195195</td>\n",
       "      <td id=\"T_88b94_row9_col10\" class=\"data row9 col10\" >71.930000</td>\n",
       "    </tr>\n",
       "  </tbody>\n",
       "</table>\n"
      ],
      "text/plain": [
       "<pandas.io.formats.style.Styler at 0x7f98171ad580>"
      ]
     },
     "execution_count": 19,
     "metadata": {},
     "output_type": "execute_result"
    }
   ],
   "source": [
    "sty_report_top2"
   ]
  },
  {
   "cell_type": "code",
   "execution_count": 20,
   "metadata": {
    "execution": {
     "iopub.execute_input": "2024-12-13T13:21:28.013450Z",
     "iopub.status.busy": "2024-12-13T13:21:28.013106Z",
     "iopub.status.idle": "2024-12-13T13:21:44.997562Z",
     "shell.execute_reply": "2024-12-13T13:21:44.996180Z"
    }
   },
   "outputs": [],
   "source": [
    "import dataframe_image as dfi\n",
    "\n",
    "infodf = pd.DataFrame({'label': ['Model update date', 'Prediction generation date'],\n",
    "                       'date': ['2024-12-11', TODAY]})\n",
    "\n",
    "dfi.export(infodf, './tmp/ensemble_info.png',table_conversion='matplotlib')\n",
    "\n",
    "# dfi.export(sty_report_info5, './tmp/ensemble_performance5.png',table_conversion='matplotlib')\n",
    "# dfi.export(sty_report_info10, './tmp/ensemble_performance10.png',table_conversion='matplotlib')\n",
    "# dfi.export(sty_report_info20, './tmp/ensemble_performance20.png',table_conversion='matplotlib')\n",
    "dfi.export(sty_report_top0, './tmp/ensemble_top0.png',table_conversion='matplotlib')\n",
    "dfi.export(sty_report_top1, './tmp/ensemble_top1.png',table_conversion='matplotlib')\n",
    "dfi.export(sty_report_top2, './tmp/ensemble_top2.png',table_conversion='matplotlib')\n",
    "dfi.export(sty_report_top3, './tmp/ensemble_top3.png',table_conversion='matplotlib')\n",
    "dfi.export(sty_report_top4, './tmp/ensemble_top4.png',table_conversion='matplotlib')\n",
    "dfi.export(sty_report_top5, './tmp/ensemble_top5.png',table_conversion='matplotlib')\n",
    "dfi.export(sty_report_top6, './tmp/ensemble_top6.png',table_conversion='matplotlib')\n",
    "dfi.export(sty_report_top7, './tmp/ensemble_top7.png',table_conversion='matplotlib')\n",
    "dfi.export(sty_report_top8, './tmp/ensemble_top8.png',table_conversion='matplotlib')\n",
    "dfi.export(sty_report_top9, './tmp/ensemble_top9.png',table_conversion='matplotlib')\n",
    "dfi.export(sty_report_top10, './tmp/ensemble_top10.png',table_conversion='matplotlib')\n",
    "dfi.export(sty_report_top11, './tmp/ensemble_top11.png',table_conversion='matplotlib')\n",
    "dfi.export(sty_report_top12, './tmp/ensemble_top12.png',table_conversion='matplotlib')\n",
    "dfi.export(sty_report_top13, './tmp/ensemble_top13.png',table_conversion='matplotlib')\n",
    "dfi.export(sty_report_top14, './tmp/ensemble_top14.png',table_conversion='matplotlib')\n",
    "dfi.export(sty_report_pos, './tmp/ensemble_watch.png',table_conversion='matplotlib')"
   ]
  },
  {
   "cell_type": "code",
   "execution_count": 21,
   "metadata": {
    "execution": {
     "iopub.execute_input": "2024-12-13T13:21:45.003791Z",
     "iopub.status.busy": "2024-12-13T13:21:45.002374Z",
     "iopub.status.idle": "2024-12-13T13:21:54.549518Z",
     "shell.execute_reply": "2024-12-13T13:21:54.548168Z"
    }
   },
   "outputs": [],
   "source": [
    "\n",
    "for k in [1,5,10,20]:\n",
    "    sty_report_win_info = eval(f\"pd.DataFrame(info_win_dict{k}, index=['TOP50WIN', '0-5', '5-10', '10-20', '20-30', '30-40', '40-50', '50-60', '60-70', '70-80', '80-90', '90-100', '100-110', '110-120', '120-130', '130-140', '140-150'])\").style.background_gradient(axis=None)\n",
    "    sty_report_ic_info = eval(f\"pd.DataFrame(info_ic_dict{k}, index=['TOP50IC', '0-5', '5-10', '10-20', '20-30', '30-40', '40-50', '50-60', '60-70', '70-80', '80-90', '90-100', '100-110', '110-120', '120-130', '130-140', '140-150'])\").style.background_gradient(axis=None)\n",
    "    dfi.export(sty_report_win_info, f'./tmp/ensemble_win{k}.png',table_conversion='matplotlib')\n",
    "    dfi.export(sty_report_ic_info, f'./tmp/ensemble_ic{k}.png',table_conversion='matplotlib')"
   ]
  },
  {
   "cell_type": "code",
   "execution_count": null,
   "metadata": {},
   "outputs": [],
   "source": []
  }
 ],
 "metadata": {
  "kernelspec": {
   "display_name": "qlib39",
   "language": "python",
   "name": "python3"
  },
  "language_info": {
   "codemirror_mode": {
    "name": "ipython",
    "version": 3
   },
   "file_extension": ".py",
   "mimetype": "text/x-python",
   "name": "python",
   "nbconvert_exporter": "python",
   "pygments_lexer": "ipython3",
   "version": "3.9.20"
  }
 },
 "nbformat": 4,
 "nbformat_minor": 2
}
