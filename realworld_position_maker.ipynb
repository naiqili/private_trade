{
 "cells": [
  {
   "cell_type": "markdown",
   "metadata": {},
   "source": [
    "Run the notebook at TODAY after 15:00:00 (so the market is closed and data is available).\n",
    "\n",
    "Input your current position.\n",
    "\n",
    "The orders are for tomorrow."
   ]
  },
  {
   "cell_type": "code",
   "execution_count": 1,
   "metadata": {
    "execution": {
     "iopub.execute_input": "2024-12-11T09:57:43.564212Z",
     "iopub.status.busy": "2024-12-11T09:57:43.563532Z",
     "iopub.status.idle": "2024-12-11T09:57:43.936766Z",
     "shell.execute_reply": "2024-12-11T09:57:43.935819Z"
    }
   },
   "outputs": [
    {
     "name": "stdout",
     "output_type": "stream",
     "text": [
      "2024-12-01\n",
      "2024-12-09\n",
      "2024-12-10\n"
     ]
    }
   ],
   "source": [
    "import pandas as pd\n",
    "cal = pd.read_csv('/data/linq/.qlib/qlib_data/cn_data/calendars/day.txt')\n",
    "TODAY = str(cal.iloc[-1,0])\n",
    "YESTERDAY = str(cal.iloc[-2,0])\n",
    "# TODAY = str(cal.iloc[-2,0])\n",
    "# YESTERDAY = str(cal.iloc[-3,0])\n",
    "\n",
    "BT_START = '2024-12-01'\n",
    "\n",
    "print(BT_START)\n",
    "print(YESTERDAY)\n",
    "print(TODAY)"
   ]
  },
  {
   "cell_type": "code",
   "execution_count": 2,
   "metadata": {
    "execution": {
     "iopub.execute_input": "2024-12-11T09:57:43.977222Z",
     "iopub.status.busy": "2024-12-11T09:57:43.976585Z",
     "iopub.status.idle": "2024-12-11T09:57:43.989321Z",
     "shell.execute_reply": "2024-12-11T09:57:43.988426Z"
    }
   },
   "outputs": [],
   "source": [
    "# BT_START = '2024-12-01'\n",
    "# TODAY = '2024-12-09'\n",
    "\n",
    "test_split = (TODAY, TODAY)\n",
    "bt_split = (BT_START, YESTERDAY)\n",
    "pos_txt = f'''\\\n",
    "date {TODAY}\n",
    "cash 336.66\n",
    "SH600570 800\n",
    "SH601698 900\n",
    "SH600104 1100\n",
    "SH600588 1500\n",
    "SH600233 1000\n",
    "'''\n",
    "\n",
    "\n",
    "\n",
    "REC_LIST = [\n",
    "    ('GBDT0', 'EXP_BENCH', 'c745fed5a5ec439f9abeafac76e750a5'), # GBDT BENCH_NOW r0 all\n",
    "    ('GBDT1', 'EXP_BENCH', 'ffe9470bec09417fb4db91128edc0a87'), # GBDT BENCH_NOW r1 all\n",
    "    ('GBDT2', 'EXP_BENCH', 'e420ff30870d4e55a1c5e0fb207fa8a0'), # GBDT BENCH_A r0 all\n",
    "    # ('GBDT3', 'EXP_BENCH', '1dcc7b1ec14e46379690c4f2d6e5242d'), # GBDT BENCH_A r1 all\n",
    "    ('GBDT4', 'EXP_BENCH', '8d7e72af7f4b475f9f3646021a29bb1e'), # GBDT BENCH_B r0 all\n",
    "    # ('GBDT5', 'EXP_BENCH', 'd308acba0eaf453b9f5acfc309b05c46'), # GBDT BENCH_B r1 all\n",
    "    ('GBDT6', 'EXP_BENCH', 'ec4284016f6d44d897969410a5ef3ec0'), # GBDT BENCH_NOW r0 csi300\n",
    "    # ('GBDT7', 'EXP_BENCH', 'c9dc8e870efc459396ea77850a7bc099'), # GBDT BENCH_NOW r1 csi300\n",
    "    ('GBDT8', 'EXP_BENCH', '1f1711ba5caa4fd7a298196fd6a57558'), # GBDT BENCH_A r0 csi300\n",
    "    # ('GBDT9', 'EXP_BENCH', 'a79446d3724942c58ed14c59622fbe2c'), # GBDT BENCH_A r1 csi300\n",
    "    ('GBDT10', 'EXP_BENCH', '74d88afd5cb3448d831402b4e7571dc6'), # GBDT BENCH_B r0 csi300\n",
    "    # ('GBDT5', 'EXP_BENCH', '58317fb6231c4ba0b4d8cecc07db822d'), # GBDT BENCH_B r1 csi300\n",
    "]\n",
    "\n",
    "# EXP_NAME, rid = REC_LIST[0]\n",
    "TOPK = 5\n",
    "NDROP = 1\n",
    "HT = 0\n",
    "\n",
    "info = {\n",
    "    'ALGO': ['GBDT'],\n",
    "    'market': ['csi300_ext'], \n",
    "    # 'market': ['all'], \n",
    "    'benchmark': [\"SH000300\"], \n",
    "    'feat': [\"Alpha158\"], \n",
    "    # 'feat': [\"Alpha360\"], \n",
    "    'label': ['r0'],\n",
    "    'params': [f'topk {TOPK} ndrop {NDROP} HT {HT}']\n",
    "}"
   ]
  },
  {
   "cell_type": "code",
   "execution_count": 3,
   "metadata": {
    "execution": {
     "iopub.execute_input": "2024-12-11T09:57:43.991827Z",
     "iopub.status.busy": "2024-12-11T09:57:43.991523Z",
     "iopub.status.idle": "2024-12-11T09:57:44.894587Z",
     "shell.execute_reply": "2024-12-11T09:57:44.893808Z"
    }
   },
   "outputs": [
    {
     "name": "stderr",
     "output_type": "stream",
     "text": [
      "/home/linq/anaconda3/envs/qlib39/lib/python3.9/site-packages/tqdm/auto.py:21: TqdmWarning: IProgress not found. Please update jupyter and ipywidgets. See https://ipywidgets.readthedocs.io/en/stable/user_install.html\n",
      "  from .autonotebook import tqdm as notebook_tqdm\n"
     ]
    },
    {
     "name": "stderr",
     "output_type": "stream",
     "text": [
      "[2815487:MainThread](2024-12-11 17:57:44,885) INFO - qlib.Initialization - [config.py:416] - default_conf: client.\n"
     ]
    },
    {
     "name": "stderr",
     "output_type": "stream",
     "text": [
      "[2815487:MainThread](2024-12-11 17:57:44,889) INFO - qlib.Initialization - [__init__.py:74] - qlib successfully initialized based on client settings.\n"
     ]
    },
    {
     "name": "stderr",
     "output_type": "stream",
     "text": [
      "[2815487:MainThread](2024-12-11 17:57:44,889) INFO - qlib.Initialization - [__init__.py:76] - data_path={'__DEFAULT_FREQ': PosixPath('/data/linq/.qlib/qlib_data/cn_data')}\n"
     ]
    }
   ],
   "source": [
    "import qlib\n",
    "import pandas as pd\n",
    "from pandas import Timestamp\n",
    "import json\n",
    "from qlib.constant import REG_CN\n",
    "from qlib.utils import exists_qlib_data, init_instance_by_config\n",
    "from qlib.workflow import R\n",
    "from qlib.workflow.record_temp import SignalRecord, PortAnaRecord\n",
    "from qlib.utils import flatten_dict\n",
    "from qlib.data.filter import NameDFilter\n",
    "from qlib.backtest.position import Position\n",
    "from qlib.data import D\n",
    "\n",
    "import copy\n",
    "import pprint\n",
    "import warnings\n",
    "warnings.filterwarnings('ignore')\n",
    "\n",
    "provider_uri = \"/data/linq/.qlib/qlib_data/cn_data\"  # target_dir\n",
    "qlib.init(provider_uri=provider_uri, region=REG_CN)\n",
    "\n",
    "from lilab.qlib.utils.tools import normalize_position_history, load_position_text, load_position_history, save_position_history, fill_price_position_history\n",
    "from lilab.qlib.backtest.benchmark import BENCH_Step"
   ]
  },
  {
   "cell_type": "markdown",
   "metadata": {},
   "source": [
    "Record position history"
   ]
  },
  {
   "cell_type": "code",
   "execution_count": 4,
   "metadata": {
    "execution": {
     "iopub.execute_input": "2024-12-11T09:57:44.899115Z",
     "iopub.status.busy": "2024-12-11T09:57:44.898614Z",
     "iopub.status.idle": "2024-12-11T09:57:45.362498Z",
     "shell.execute_reply": "2024-12-11T09:57:45.358751Z"
    }
   },
   "outputs": [
    {
     "name": "stdout",
     "output_type": "stream",
     "text": [
      "2024-12-10 09:00:00\n",
      "{'SH600570': {'amount': 800}, 'SH601698': {'amount': 900}, 'SH600104': {'amount': 1100}, 'SH600588': {'amount': 1500}, 'SH600233': {'amount': 1000}, 'cash': 336.66}\n",
      "{'_settle_type': 'None', 'position': {'SH600588': {'amount': 7188, 'price': 2.6728668212890625}, 'SH601698': {'amount': 3497, 'price': 5.913832664489746}, 'SH600570': {'amount': 3727, 'price': 6.836996555328369}, 'SH600233': {'amount': 7140, 'price': 2.0420126914978027}, 'SH600104': {'amount': 12461, 'price': 1.586225152015686}, 'cash': 336.66, 'now_account_value': 100057.30793741703}, 'init_cash': 336.66}\n",
      "['SH600588', 'SH601698', 'SH600570', 'SH600233', 'SH600104']\n"
     ]
    }
   ],
   "source": [
    "cur_pos = load_position_text(pos_txt)\n",
    "norm_cur_pos = normalize_position_history(cur_pos)\n",
    "norm_cur_pos = fill_price_position_history(norm_cur_pos)\n",
    "try:\n",
    "    pos_history = load_position_history()\n",
    "except:\n",
    "    pos_history = {}\n",
    "pos_history.update(norm_cur_pos)\n",
    "save_position_history(pos_history)\n",
    "dt, pos = next(iter(cur_pos.items()))\n",
    "account = pos.position\n",
    "dt, norm_pos = next(iter(norm_cur_pos.items()))\n",
    "norm_account = pos.position\n",
    "hold_lst = pos.get_stock_list()\n",
    "print(dt)\n",
    "print(account)\n",
    "print(norm_pos)\n",
    "print(hold_lst)"
   ]
  },
  {
   "cell_type": "markdown",
   "metadata": {},
   "source": [
    "Prepare dataset"
   ]
  },
  {
   "cell_type": "code",
   "execution_count": 5,
   "metadata": {
    "execution": {
     "iopub.execute_input": "2024-12-11T09:57:45.367586Z",
     "iopub.status.busy": "2024-12-11T09:57:45.367303Z",
     "iopub.status.idle": "2024-12-11T09:57:45.374519Z",
     "shell.execute_reply": "2024-12-11T09:57:45.373608Z"
    }
   },
   "outputs": [],
   "source": [
    "nameDFilter = NameDFilter(name_rule_re='(SH60[0-9]{4})|(SZ00[0-9]{4})')\n",
    "filter_pipe=[nameDFilter]\n",
    "benchmark = BENCH_Step(test_split,\n",
    "                        market=info['market'][0], \\\n",
    "                        benchmark=info['benchmark'][0], \\\n",
    "                        feat=info['feat'][0], \\\n",
    "                        label=info['label'][0], \\\n",
    "                        account=norm_account, \\\n",
    "                        filter_pipe=filter_pipe)\n",
    "\n",
    "bt_benchmark = BENCH_Step(bt_split,\n",
    "                        market=info['market'][0], \\\n",
    "                        benchmark=info['benchmark'][0], \\\n",
    "                        feat=info['feat'][0], \\\n",
    "                        label=info['label'][0], \\\n",
    "                        account=norm_account, \\\n",
    "                        filter_pipe=filter_pipe)"
   ]
  },
  {
   "cell_type": "code",
   "execution_count": 6,
   "metadata": {
    "execution": {
     "iopub.execute_input": "2024-12-11T09:57:45.377354Z",
     "iopub.status.busy": "2024-12-11T09:57:45.377014Z",
     "iopub.status.idle": "2024-12-11T09:59:16.965978Z",
     "shell.execute_reply": "2024-12-11T09:59:16.965053Z"
    }
   },
   "outputs": [
    {
     "name": "stderr",
     "output_type": "stream",
     "text": [
      "[2815487:MainThread](2024-12-11 17:58:31,388) INFO - qlib.timer - [log.py:127] - Time cost: 46.006s | Loading data Done\n"
     ]
    },
    {
     "name": "stderr",
     "output_type": "stream",
     "text": [
      "[2815487:MainThread](2024-12-11 17:58:31,392) INFO - qlib.timer - [log.py:127] - Time cost: 0.002s | DropnaLabel Done\n"
     ]
    },
    {
     "name": "stderr",
     "output_type": "stream",
     "text": [
      "[2815487:MainThread](2024-12-11 17:58:31,397) INFO - qlib.timer - [log.py:127] - Time cost: 0.004s | CSZScoreNorm Done\n"
     ]
    },
    {
     "name": "stderr",
     "output_type": "stream",
     "text": [
      "[2815487:MainThread](2024-12-11 17:58:31,398) INFO - qlib.timer - [log.py:127] - Time cost: 0.009s | fit & process data Done\n"
     ]
    },
    {
     "name": "stderr",
     "output_type": "stream",
     "text": [
      "[2815487:MainThread](2024-12-11 17:58:31,399) INFO - qlib.timer - [log.py:127] - Time cost: 46.017s | Init data Done\n"
     ]
    },
    {
     "name": "stderr",
     "output_type": "stream",
     "text": [
      "[2815487:MainThread](2024-12-11 17:59:16,941) INFO - qlib.timer - [log.py:127] - Time cost: 45.540s | Loading data Done\n"
     ]
    },
    {
     "name": "stderr",
     "output_type": "stream",
     "text": [
      "[2815487:MainThread](2024-12-11 17:59:16,947) INFO - qlib.timer - [log.py:127] - Time cost: 0.002s | DropnaLabel Done\n"
     ]
    },
    {
     "name": "stderr",
     "output_type": "stream",
     "text": [
      "[2815487:MainThread](2024-12-11 17:59:16,959) INFO - qlib.timer - [log.py:127] - Time cost: 0.011s | CSZScoreNorm Done\n"
     ]
    },
    {
     "name": "stderr",
     "output_type": "stream",
     "text": [
      "[2815487:MainThread](2024-12-11 17:59:16,960) INFO - qlib.timer - [log.py:127] - Time cost: 0.017s | fit & process data Done\n"
     ]
    },
    {
     "name": "stderr",
     "output_type": "stream",
     "text": [
      "[2815487:MainThread](2024-12-11 17:59:16,961) INFO - qlib.timer - [log.py:127] - Time cost: 45.561s | Init data Done\n"
     ]
    }
   ],
   "source": [
    "dataset = init_instance_by_config(benchmark.dataset_config)\n",
    "bt_dataset = init_instance_by_config(bt_benchmark.dataset_config)\n",
    "# dataset.prepare('test')"
   ]
  },
  {
   "cell_type": "code",
   "execution_count": 7,
   "metadata": {
    "execution": {
     "iopub.execute_input": "2024-12-11T09:59:16.970246Z",
     "iopub.status.busy": "2024-12-11T09:59:16.969706Z",
     "iopub.status.idle": "2024-12-11T09:59:16.992393Z",
     "shell.execute_reply": "2024-12-11T09:59:16.991422Z"
    }
   },
   "outputs": [
    {
     "data": {
      "text/html": [
       "<div>\n",
       "<style scoped>\n",
       "    .dataframe tbody tr th:only-of-type {\n",
       "        vertical-align: middle;\n",
       "    }\n",
       "\n",
       "    .dataframe tbody tr th {\n",
       "        vertical-align: top;\n",
       "    }\n",
       "\n",
       "    .dataframe thead th {\n",
       "        text-align: right;\n",
       "    }\n",
       "</style>\n",
       "<table border=\"1\" class=\"dataframe\">\n",
       "  <thead>\n",
       "    <tr style=\"text-align: right;\">\n",
       "      <th></th>\n",
       "      <th></th>\n",
       "      <th>label</th>\n",
       "    </tr>\n",
       "    <tr>\n",
       "      <th>datetime</th>\n",
       "      <th>instrument</th>\n",
       "      <th></th>\n",
       "    </tr>\n",
       "  </thead>\n",
       "  <tbody>\n",
       "    <tr>\n",
       "      <th rowspan=\"5\" valign=\"top\">2024-12-02</th>\n",
       "      <th>SH600000</th>\n",
       "      <td>0.016860</td>\n",
       "    </tr>\n",
       "    <tr>\n",
       "      <th>SH600009</th>\n",
       "      <td>-0.000560</td>\n",
       "    </tr>\n",
       "    <tr>\n",
       "      <th>SH600010</th>\n",
       "      <td>-0.005051</td>\n",
       "    </tr>\n",
       "    <tr>\n",
       "      <th>SH600011</th>\n",
       "      <td>0.005666</td>\n",
       "    </tr>\n",
       "    <tr>\n",
       "      <th>SH600015</th>\n",
       "      <td>0.030956</td>\n",
       "    </tr>\n",
       "    <tr>\n",
       "      <th>...</th>\n",
       "      <th>...</th>\n",
       "      <td>...</td>\n",
       "    </tr>\n",
       "    <tr>\n",
       "      <th rowspan=\"5\" valign=\"top\">2024-12-09</th>\n",
       "      <th>SZ002841</th>\n",
       "      <td>-0.002499</td>\n",
       "    </tr>\n",
       "    <tr>\n",
       "      <th>SZ002916</th>\n",
       "      <td>-0.001414</td>\n",
       "    </tr>\n",
       "    <tr>\n",
       "      <th>SZ002920</th>\n",
       "      <td>0.018372</td>\n",
       "    </tr>\n",
       "    <tr>\n",
       "      <th>SZ002938</th>\n",
       "      <td>0.031052</td>\n",
       "    </tr>\n",
       "    <tr>\n",
       "      <th>SZ003816</th>\n",
       "      <td>-0.004902</td>\n",
       "    </tr>\n",
       "  </tbody>\n",
       "</table>\n",
       "<p>1542 rows × 1 columns</p>\n",
       "</div>"
      ],
      "text/plain": [
       "                          label\n",
       "datetime   instrument          \n",
       "2024-12-02 SH600000    0.016860\n",
       "           SH600009   -0.000560\n",
       "           SH600010   -0.005051\n",
       "           SH600011    0.005666\n",
       "           SH600015    0.030956\n",
       "...                         ...\n",
       "2024-12-09 SZ002841   -0.002499\n",
       "           SZ002916   -0.001414\n",
       "           SZ002920    0.018372\n",
       "           SZ002938    0.031052\n",
       "           SZ003816   -0.004902\n",
       "\n",
       "[1542 rows x 1 columns]"
      ]
     },
     "execution_count": 7,
     "metadata": {},
     "output_type": "execute_result"
    }
   ],
   "source": [
    "label_df = bt_dataset.prepare(\"test\")\n",
    "label_df = pd.DataFrame(label_df.loc[:, 'LABEL0'])\n",
    "label_df.columns = ['label']\n",
    "# label_df.index = label_df.index.droplevel(0)\n",
    "label_df"
   ]
  },
  {
   "cell_type": "markdown",
   "metadata": {},
   "source": [
    "Load and run model"
   ]
  },
  {
   "cell_type": "code",
   "execution_count": null,
   "metadata": {},
   "outputs": [],
   "source": []
  },
  {
   "cell_type": "code",
   "execution_count": 8,
   "metadata": {
    "execution": {
     "iopub.execute_input": "2024-12-11T09:59:16.996004Z",
     "iopub.status.busy": "2024-12-11T09:59:16.995628Z",
     "iopub.status.idle": "2024-12-11T09:59:17.008351Z",
     "shell.execute_reply": "2024-12-11T09:59:17.007312Z"
    }
   },
   "outputs": [],
   "source": [
    "def simp_eval(res_df, k, t=None, day=None):\n",
    "    if day:\n",
    "        date = str(cal.iloc[-day,0])\n",
    "        res_df = res_df[res_df.index.get_level_values('datetime') >= date]\n",
    "    # Step 1: Group by multiple indices\n",
    "    grouped = res_df.groupby(['datetime'])\n",
    "\n",
    "    # Step 2: Sort by 'value' within each group in descending order\n",
    "    sorted_df = grouped.apply(lambda x: x.sort_values(by='score', ascending=False))\n",
    "    sorted_df['win'] = sorted_df['label'] * sorted_df['score'] > 0\n",
    "    # Step 3: Select the top 5 rows for each group\n",
    "    top_k_per_group = sorted_df.groupby(['datetime']).head(k)\n",
    "    if t:\n",
    "        top_k_per_group = top_k_per_group.tail(t)\n",
    "    # print(top_k_per_group)\n",
    "    top_k_ic = top_k_per_group['label'].corr(top_k_per_group['score'])\n",
    "    top_k_win = 1.0 * top_k_per_group['win'].sum() / len(top_k_per_group)\n",
    "    return top_k_ic, top_k_win\n",
    "\n",
    "def run_model(model):\n",
    "    BT_EXP_NAME = 'backtest'\n",
    "\n",
    "    # backtest and analysis\n",
    "    with R.start(experiment_name=BT_EXP_NAME, uri='./mlrun'):    \n",
    "        recorder = R.get_recorder()\n",
    "        ba_rid = R.get_recorder().id\n",
    "        sr = SignalRecord(model, bt_dataset, recorder)\n",
    "        sr.generate()\n",
    "    with R.start(experiment_name=BT_EXP_NAME, uri='./mlrun'):\n",
    "        recorder = R.get_recorder(recorder_id=ba_rid)\n",
    "        bt_pred_df = recorder.load_object(\"pred.pkl\")\n",
    "    res_df = pd.concat([label_df, bt_pred_df], axis=1, sort=True).reindex( label_df.index)\n",
    "\n",
    "    def eval_day(day=None):\n",
    "        top5ic, top5win = simp_eval(res_df, 5, day=day)\n",
    "        top10ic, top10win = simp_eval(res_df, 10, 5, day=day)\n",
    "        top15ic, top15win = simp_eval(res_df, 15, 5, day=day)\n",
    "        top20ic, top20win = simp_eval(res_df, 20, 5, day=day)\n",
    "        topic, topwin = simp_eval(res_df, 20, day=day)\n",
    "        return [topic, topwin, top5ic, top5win, top10ic, top10win, top15ic, top15win, top20ic, top20win]\n",
    "    day5metrics = eval_day(5)\n",
    "    day10metrics = eval_day(10)\n",
    "    day20metrics = eval_day(20)\n",
    "    EXP_NAME = 'realworld_position_maker'\n",
    "\n",
    "    # backtest and analysis\n",
    "    with R.start(experiment_name=EXP_NAME, uri='./mlrun'):    \n",
    "        recorder = R.get_recorder()\n",
    "        ba_rid = R.get_recorder().id\n",
    "        sr = SignalRecord(model, dataset, recorder)\n",
    "        sr.generate()\n",
    "    with R.start(experiment_name=EXP_NAME, uri='./mlrun'):\n",
    "        recorder = R.get_recorder(recorder_id=ba_rid)\n",
    "        pred_df = recorder.load_object(\"pred.pkl\")\n",
    "\n",
    "    return day5metrics, day10metrics, day20metrics, pred_df"
   ]
  },
  {
   "cell_type": "markdown",
   "metadata": {},
   "source": [
    "# Run"
   ]
  },
  {
   "cell_type": "code",
   "execution_count": 9,
   "metadata": {
    "execution": {
     "iopub.execute_input": "2024-12-11T09:59:17.012010Z",
     "iopub.status.busy": "2024-12-11T09:59:17.011663Z",
     "iopub.status.idle": "2024-12-11T09:59:30.240970Z",
     "shell.execute_reply": "2024-12-11T09:59:30.239910Z"
    }
   },
   "outputs": [
    {
     "name": "stderr",
     "output_type": "stream",
     "text": [
      "[2815487:MainThread](2024-12-11 17:59:17,017) INFO - qlib.workflow - [exp.py:258] - Experiment 2 starts running ...\n"
     ]
    },
    {
     "name": "stderr",
     "output_type": "stream",
     "text": [
      "[2815487:MainThread](2024-12-11 17:59:17,105) INFO - qlib.workflow - [recorder.py:341] - Recorder 5d1ece9de1e7484ebbc1c8459b2c3137 starts running under Experiment 2 ...\n"
     ]
    },
    {
     "name": "stderr",
     "output_type": "stream",
     "text": [
      "[2815487:MainThread](2024-12-11 17:59:19,170) INFO - qlib.timer - [log.py:127] - Time cost: 0.000s | waiting `async_log` Done\n"
     ]
    },
    {
     "name": "stderr",
     "output_type": "stream",
     "text": [
      "[2815487:MainThread](2024-12-11 17:59:19,177) INFO - qlib.workflow - [exp.py:258] - Experiment 4 starts running ...\n"
     ]
    },
    {
     "name": "stderr",
     "output_type": "stream",
     "text": [
      "[2815487:MainThread](2024-12-11 17:59:19,188) INFO - qlib.workflow - [recorder.py:341] - Recorder 506f3ba71f4a49cd8f7f18e1143e2ca8 starts running under Experiment 4 ...\n"
     ]
    },
    {
     "name": "stderr",
     "output_type": "stream",
     "text": [
      "[2815487:MainThread](2024-12-11 17:59:19,490) INFO - qlib.workflow - [record_temp.py:198] - Signal record 'pred.pkl' has been saved as the artifact of the Experiment 4\n"
     ]
    },
    {
     "name": "stderr",
     "output_type": "stream",
     "text": [
      "[2815487:MainThread](2024-12-11 17:59:19,499) INFO - qlib.timer - [log.py:127] - Time cost: 0.000s | waiting `async_log` Done\n"
     ]
    },
    {
     "name": "stderr",
     "output_type": "stream",
     "text": [
      "[2815487:MainThread](2024-12-11 17:59:19,505) INFO - qlib.workflow - [exp.py:258] - Experiment 4 starts running ...\n"
     ]
    },
    {
     "name": "stderr",
     "output_type": "stream",
     "text": [
      "[2815487:MainThread](2024-12-11 17:59:19,517) INFO - qlib.workflow - [recorder.py:341] - Recorder 850daa868762410688e5c7d0db12c436 starts running under Experiment 4 ...\n"
     ]
    },
    {
     "name": "stdout",
     "output_type": "stream",
     "text": [
      "'The following are prediction results of the LGBModel model.'\n",
      "                          score\n",
      "datetime   instrument          \n",
      "2024-12-02 SH600000   -0.007318\n",
      "           SH600009   -0.005881\n",
      "           SH600010    0.016440\n",
      "           SH600011   -0.012365\n",
      "           SH600015    0.002524\n"
     ]
    },
    {
     "name": "stderr",
     "output_type": "stream",
     "text": [
      "[2815487:MainThread](2024-12-11 17:59:19,817) INFO - qlib.timer - [log.py:127] - Time cost: 0.000s | waiting `async_log` Done\n"
     ]
    },
    {
     "name": "stderr",
     "output_type": "stream",
     "text": [
      "[2815487:MainThread](2024-12-11 17:59:19,917) INFO - qlib.workflow - [exp.py:258] - Experiment 3 starts running ...\n"
     ]
    },
    {
     "name": "stderr",
     "output_type": "stream",
     "text": [
      "[2815487:MainThread](2024-12-11 17:59:19,934) INFO - qlib.workflow - [recorder.py:341] - Recorder e8e6249d2e584042886c68f6068a4352 starts running under Experiment 3 ...\n"
     ]
    },
    {
     "name": "stderr",
     "output_type": "stream",
     "text": [
      "[2815487:MainThread](2024-12-11 17:59:20,221) INFO - qlib.workflow - [record_temp.py:198] - Signal record 'pred.pkl' has been saved as the artifact of the Experiment 3\n"
     ]
    },
    {
     "name": "stderr",
     "output_type": "stream",
     "text": [
      "[2815487:MainThread](2024-12-11 17:59:20,228) INFO - qlib.timer - [log.py:127] - Time cost: 0.000s | waiting `async_log` Done\n"
     ]
    },
    {
     "name": "stderr",
     "output_type": "stream",
     "text": [
      "[2815487:MainThread](2024-12-11 17:59:20,234) INFO - qlib.workflow - [exp.py:258] - Experiment 3 starts running ...\n"
     ]
    },
    {
     "name": "stderr",
     "output_type": "stream",
     "text": [
      "[2815487:MainThread](2024-12-11 17:59:20,248) INFO - qlib.workflow - [recorder.py:341] - Recorder a64ee2eb946040ee9d3eca1371e68485 starts running under Experiment 3 ...\n"
     ]
    },
    {
     "name": "stdout",
     "output_type": "stream",
     "text": [
      "'The following are prediction results of the LGBModel model.'\n",
      "                          score\n",
      "datetime   instrument          \n",
      "2024-12-10 SH600000    0.018142\n",
      "           SH600009    0.004155\n",
      "           SH600010   -0.052520\n",
      "           SH600011    0.021252\n",
      "           SH600015   -0.043595\n"
     ]
    },
    {
     "name": "stderr",
     "output_type": "stream",
     "text": [
      "[2815487:MainThread](2024-12-11 17:59:20,523) INFO - qlib.timer - [log.py:127] - Time cost: 0.000s | waiting `async_log` Done\n"
     ]
    },
    {
     "name": "stderr",
     "output_type": "stream",
     "text": [
      "[2815487:MainThread](2024-12-11 17:59:20,533) INFO - qlib.workflow - [exp.py:258] - Experiment 2 starts running ...\n"
     ]
    },
    {
     "name": "stderr",
     "output_type": "stream",
     "text": [
      "[2815487:MainThread](2024-12-11 17:59:20,542) INFO - qlib.workflow - [recorder.py:341] - Recorder 66511e6a81d94c2891e04b59cf4a106e starts running under Experiment 2 ...\n"
     ]
    },
    {
     "name": "stderr",
     "output_type": "stream",
     "text": [
      "[2815487:MainThread](2024-12-11 17:59:20,828) INFO - qlib.timer - [log.py:127] - Time cost: 0.004s | waiting `async_log` Done\n"
     ]
    },
    {
     "name": "stderr",
     "output_type": "stream",
     "text": [
      "[2815487:MainThread](2024-12-11 17:59:20,834) INFO - qlib.workflow - [exp.py:258] - Experiment 4 starts running ...\n"
     ]
    },
    {
     "name": "stderr",
     "output_type": "stream",
     "text": [
      "[2815487:MainThread](2024-12-11 17:59:20,847) INFO - qlib.workflow - [recorder.py:341] - Recorder 3da2c7c558ad401d85ff0b0416773f13 starts running under Experiment 4 ...\n"
     ]
    },
    {
     "name": "stderr",
     "output_type": "stream",
     "text": [
      "[2815487:MainThread](2024-12-11 17:59:21,139) INFO - qlib.workflow - [record_temp.py:198] - Signal record 'pred.pkl' has been saved as the artifact of the Experiment 4\n"
     ]
    },
    {
     "name": "stderr",
     "output_type": "stream",
     "text": [
      "[2815487:MainThread](2024-12-11 17:59:21,145) INFO - qlib.timer - [log.py:127] - Time cost: 0.000s | waiting `async_log` Done\n"
     ]
    },
    {
     "name": "stderr",
     "output_type": "stream",
     "text": [
      "[2815487:MainThread](2024-12-11 17:59:21,150) INFO - qlib.workflow - [exp.py:258] - Experiment 4 starts running ...\n"
     ]
    },
    {
     "name": "stderr",
     "output_type": "stream",
     "text": [
      "[2815487:MainThread](2024-12-11 17:59:21,161) INFO - qlib.workflow - [recorder.py:341] - Recorder 7ab54d53619a4b17bb671da68b9f399b starts running under Experiment 4 ...\n"
     ]
    },
    {
     "name": "stdout",
     "output_type": "stream",
     "text": [
      "'The following are prediction results of the LGBModel model.'\n",
      "                          score\n",
      "datetime   instrument          \n",
      "2024-12-02 SH600000   -0.017882\n",
      "           SH600009   -0.012880\n",
      "           SH600010   -0.030535\n",
      "           SH600011   -0.015317\n",
      "           SH600015    0.007575\n"
     ]
    },
    {
     "name": "stderr",
     "output_type": "stream",
     "text": [
      "[2815487:MainThread](2024-12-11 17:59:21,429) INFO - qlib.timer - [log.py:127] - Time cost: 0.000s | waiting `async_log` Done\n"
     ]
    },
    {
     "name": "stderr",
     "output_type": "stream",
     "text": [
      "[2815487:MainThread](2024-12-11 17:59:21,524) INFO - qlib.workflow - [exp.py:258] - Experiment 3 starts running ...\n"
     ]
    },
    {
     "name": "stderr",
     "output_type": "stream",
     "text": [
      "[2815487:MainThread](2024-12-11 17:59:21,539) INFO - qlib.workflow - [recorder.py:341] - Recorder bd5c5c75f1394d0f93127348d38ba81f starts running under Experiment 3 ...\n"
     ]
    },
    {
     "name": "stderr",
     "output_type": "stream",
     "text": [
      "[2815487:MainThread](2024-12-11 17:59:21,822) INFO - qlib.workflow - [record_temp.py:198] - Signal record 'pred.pkl' has been saved as the artifact of the Experiment 3\n"
     ]
    },
    {
     "name": "stderr",
     "output_type": "stream",
     "text": [
      "[2815487:MainThread](2024-12-11 17:59:21,829) INFO - qlib.timer - [log.py:127] - Time cost: 0.000s | waiting `async_log` Done\n"
     ]
    },
    {
     "name": "stderr",
     "output_type": "stream",
     "text": [
      "[2815487:MainThread](2024-12-11 17:59:21,835) INFO - qlib.workflow - [exp.py:258] - Experiment 3 starts running ...\n"
     ]
    },
    {
     "name": "stderr",
     "output_type": "stream",
     "text": [
      "[2815487:MainThread](2024-12-11 17:59:21,849) INFO - qlib.workflow - [recorder.py:341] - Recorder d3e963fbf69c47e4adc62f35788696f5 starts running under Experiment 3 ...\n"
     ]
    },
    {
     "name": "stdout",
     "output_type": "stream",
     "text": [
      "'The following are prediction results of the LGBModel model.'\n",
      "                          score\n",
      "datetime   instrument          \n",
      "2024-12-10 SH600000   -0.011332\n",
      "           SH600009    0.015929\n",
      "           SH600010   -0.016768\n",
      "           SH600011    0.017839\n",
      "           SH600015   -0.004767\n"
     ]
    },
    {
     "name": "stderr",
     "output_type": "stream",
     "text": [
      "[2815487:MainThread](2024-12-11 17:59:22,131) INFO - qlib.timer - [log.py:127] - Time cost: 0.000s | waiting `async_log` Done\n"
     ]
    },
    {
     "name": "stderr",
     "output_type": "stream",
     "text": [
      "[2815487:MainThread](2024-12-11 17:59:22,140) INFO - qlib.workflow - [exp.py:258] - Experiment 2 starts running ...\n"
     ]
    },
    {
     "name": "stderr",
     "output_type": "stream",
     "text": [
      "[2815487:MainThread](2024-12-11 17:59:22,149) INFO - qlib.workflow - [recorder.py:341] - Recorder 2a85efbbb00542f5b9c962873596ab24 starts running under Experiment 2 ...\n"
     ]
    },
    {
     "name": "stderr",
     "output_type": "stream",
     "text": [
      "[2815487:MainThread](2024-12-11 17:59:22,452) INFO - qlib.timer - [log.py:127] - Time cost: 0.000s | waiting `async_log` Done\n"
     ]
    },
    {
     "name": "stderr",
     "output_type": "stream",
     "text": [
      "[2815487:MainThread](2024-12-11 17:59:22,458) INFO - qlib.workflow - [exp.py:258] - Experiment 4 starts running ...\n"
     ]
    },
    {
     "name": "stderr",
     "output_type": "stream",
     "text": [
      "[2815487:MainThread](2024-12-11 17:59:22,469) INFO - qlib.workflow - [recorder.py:341] - Recorder 6aa603aed68348b29b8933806ca7edbe starts running under Experiment 4 ...\n"
     ]
    },
    {
     "name": "stderr",
     "output_type": "stream",
     "text": [
      "[2815487:MainThread](2024-12-11 17:59:22,752) INFO - qlib.workflow - [record_temp.py:198] - Signal record 'pred.pkl' has been saved as the artifact of the Experiment 4\n"
     ]
    },
    {
     "name": "stderr",
     "output_type": "stream",
     "text": [
      "[2815487:MainThread](2024-12-11 17:59:22,760) INFO - qlib.timer - [log.py:127] - Time cost: 0.000s | waiting `async_log` Done\n"
     ]
    },
    {
     "name": "stderr",
     "output_type": "stream",
     "text": [
      "[2815487:MainThread](2024-12-11 17:59:22,765) INFO - qlib.workflow - [exp.py:258] - Experiment 4 starts running ...\n"
     ]
    },
    {
     "name": "stderr",
     "output_type": "stream",
     "text": [
      "[2815487:MainThread](2024-12-11 17:59:22,776) INFO - qlib.workflow - [recorder.py:341] - Recorder dd4ca13d3c9a4df0977717109b0557ab starts running under Experiment 4 ...\n"
     ]
    },
    {
     "name": "stdout",
     "output_type": "stream",
     "text": [
      "'The following are prediction results of the LGBModel model.'\n",
      "                          score\n",
      "datetime   instrument          \n",
      "2024-12-02 SH600000   -0.008783\n",
      "           SH600009   -0.012275\n",
      "           SH600010    0.038505\n",
      "           SH600011   -0.030828\n",
      "           SH600015    0.029393\n"
     ]
    },
    {
     "name": "stderr",
     "output_type": "stream",
     "text": [
      "[2815487:MainThread](2024-12-11 17:59:23,051) INFO - qlib.timer - [log.py:127] - Time cost: 0.000s | waiting `async_log` Done\n"
     ]
    },
    {
     "name": "stderr",
     "output_type": "stream",
     "text": [
      "[2815487:MainThread](2024-12-11 17:59:23,141) INFO - qlib.workflow - [exp.py:258] - Experiment 3 starts running ...\n"
     ]
    },
    {
     "name": "stderr",
     "output_type": "stream",
     "text": [
      "[2815487:MainThread](2024-12-11 17:59:23,156) INFO - qlib.workflow - [recorder.py:341] - Recorder acc469758985434a8b7da486d7a78bc0 starts running under Experiment 3 ...\n"
     ]
    },
    {
     "name": "stderr",
     "output_type": "stream",
     "text": [
      "[2815487:MainThread](2024-12-11 17:59:23,448) INFO - qlib.workflow - [record_temp.py:198] - Signal record 'pred.pkl' has been saved as the artifact of the Experiment 3\n"
     ]
    },
    {
     "name": "stderr",
     "output_type": "stream",
     "text": [
      "[2815487:MainThread](2024-12-11 17:59:23,454) INFO - qlib.timer - [log.py:127] - Time cost: 0.000s | waiting `async_log` Done\n"
     ]
    },
    {
     "name": "stderr",
     "output_type": "stream",
     "text": [
      "[2815487:MainThread](2024-12-11 17:59:23,460) INFO - qlib.workflow - [exp.py:258] - Experiment 3 starts running ...\n"
     ]
    },
    {
     "name": "stderr",
     "output_type": "stream",
     "text": [
      "[2815487:MainThread](2024-12-11 17:59:23,474) INFO - qlib.workflow - [recorder.py:341] - Recorder 19a1d17ac00c4f2bb3bb8537e781ca35 starts running under Experiment 3 ...\n"
     ]
    },
    {
     "name": "stdout",
     "output_type": "stream",
     "text": [
      "'The following are prediction results of the LGBModel model.'\n",
      "                          score\n",
      "datetime   instrument          \n",
      "2024-12-10 SH600000    0.035997\n",
      "           SH600009   -0.037991\n",
      "           SH600010   -0.005211\n",
      "           SH600011   -0.018879\n",
      "           SH600015   -0.064660\n"
     ]
    },
    {
     "name": "stderr",
     "output_type": "stream",
     "text": [
      "[2815487:MainThread](2024-12-11 17:59:23,747) INFO - qlib.timer - [log.py:127] - Time cost: 0.002s | waiting `async_log` Done\n"
     ]
    },
    {
     "name": "stderr",
     "output_type": "stream",
     "text": [
      "[2815487:MainThread](2024-12-11 17:59:23,755) INFO - qlib.workflow - [exp.py:258] - Experiment 2 starts running ...\n"
     ]
    },
    {
     "name": "stderr",
     "output_type": "stream",
     "text": [
      "[2815487:MainThread](2024-12-11 17:59:23,766) INFO - qlib.workflow - [recorder.py:341] - Recorder 8987260beee2491ab3faab0a8803056c starts running under Experiment 2 ...\n"
     ]
    },
    {
     "name": "stderr",
     "output_type": "stream",
     "text": [
      "[2815487:MainThread](2024-12-11 17:59:24,051) INFO - qlib.timer - [log.py:127] - Time cost: 0.000s | waiting `async_log` Done\n"
     ]
    },
    {
     "name": "stderr",
     "output_type": "stream",
     "text": [
      "[2815487:MainThread](2024-12-11 17:59:24,058) INFO - qlib.workflow - [exp.py:258] - Experiment 4 starts running ...\n"
     ]
    },
    {
     "name": "stderr",
     "output_type": "stream",
     "text": [
      "[2815487:MainThread](2024-12-11 17:59:24,070) INFO - qlib.workflow - [recorder.py:341] - Recorder 77a209b1391f44288713392cd70b7018 starts running under Experiment 4 ...\n"
     ]
    },
    {
     "name": "stderr",
     "output_type": "stream",
     "text": [
      "[2815487:MainThread](2024-12-11 17:59:24,345) INFO - qlib.workflow - [record_temp.py:198] - Signal record 'pred.pkl' has been saved as the artifact of the Experiment 4\n"
     ]
    },
    {
     "name": "stderr",
     "output_type": "stream",
     "text": [
      "[2815487:MainThread](2024-12-11 17:59:24,352) INFO - qlib.timer - [log.py:127] - Time cost: 0.000s | waiting `async_log` Done\n"
     ]
    },
    {
     "name": "stderr",
     "output_type": "stream",
     "text": [
      "[2815487:MainThread](2024-12-11 17:59:24,357) INFO - qlib.workflow - [exp.py:258] - Experiment 4 starts running ...\n"
     ]
    },
    {
     "name": "stderr",
     "output_type": "stream",
     "text": [
      "[2815487:MainThread](2024-12-11 17:59:24,368) INFO - qlib.workflow - [recorder.py:341] - Recorder 77423abf641743379e61448c85bb3ce7 starts running under Experiment 4 ...\n"
     ]
    },
    {
     "name": "stdout",
     "output_type": "stream",
     "text": [
      "'The following are prediction results of the LGBModel model.'\n",
      "                          score\n",
      "datetime   instrument          \n",
      "2024-12-02 SH600000   -0.005225\n",
      "           SH600009    0.007663\n",
      "           SH600010    0.072481\n",
      "           SH600011   -0.011017\n",
      "           SH600015    0.058992\n"
     ]
    },
    {
     "name": "stderr",
     "output_type": "stream",
     "text": [
      "[2815487:MainThread](2024-12-11 17:59:24,649) INFO - qlib.timer - [log.py:127] - Time cost: 0.000s | waiting `async_log` Done\n"
     ]
    },
    {
     "name": "stderr",
     "output_type": "stream",
     "text": [
      "[2815487:MainThread](2024-12-11 17:59:24,741) INFO - qlib.workflow - [exp.py:258] - Experiment 3 starts running ...\n"
     ]
    },
    {
     "name": "stderr",
     "output_type": "stream",
     "text": [
      "[2815487:MainThread](2024-12-11 17:59:24,756) INFO - qlib.workflow - [recorder.py:341] - Recorder 394657e713d8489bba8d53c471546414 starts running under Experiment 3 ...\n"
     ]
    },
    {
     "name": "stderr",
     "output_type": "stream",
     "text": [
      "[2815487:MainThread](2024-12-11 17:59:25,038) INFO - qlib.workflow - [record_temp.py:198] - Signal record 'pred.pkl' has been saved as the artifact of the Experiment 3\n"
     ]
    },
    {
     "name": "stderr",
     "output_type": "stream",
     "text": [
      "[2815487:MainThread](2024-12-11 17:59:25,045) INFO - qlib.timer - [log.py:127] - Time cost: 0.000s | waiting `async_log` Done\n"
     ]
    },
    {
     "name": "stderr",
     "output_type": "stream",
     "text": [
      "[2815487:MainThread](2024-12-11 17:59:25,051) INFO - qlib.workflow - [exp.py:258] - Experiment 3 starts running ...\n"
     ]
    },
    {
     "name": "stderr",
     "output_type": "stream",
     "text": [
      "[2815487:MainThread](2024-12-11 17:59:25,064) INFO - qlib.workflow - [recorder.py:341] - Recorder 26c589c3d67c46a9ad71bf837b6e5dec starts running under Experiment 3 ...\n"
     ]
    },
    {
     "name": "stdout",
     "output_type": "stream",
     "text": [
      "'The following are prediction results of the LGBModel model.'\n",
      "                          score\n",
      "datetime   instrument          \n",
      "2024-12-10 SH600000    0.028121\n",
      "           SH600009   -0.015431\n",
      "           SH600010   -0.044004\n",
      "           SH600011   -0.028517\n",
      "           SH600015   -0.066319\n"
     ]
    },
    {
     "name": "stderr",
     "output_type": "stream",
     "text": [
      "[2815487:MainThread](2024-12-11 17:59:25,345) INFO - qlib.timer - [log.py:127] - Time cost: 0.000s | waiting `async_log` Done\n"
     ]
    },
    {
     "name": "stderr",
     "output_type": "stream",
     "text": [
      "[2815487:MainThread](2024-12-11 17:59:25,352) INFO - qlib.workflow - [exp.py:258] - Experiment 2 starts running ...\n"
     ]
    },
    {
     "name": "stderr",
     "output_type": "stream",
     "text": [
      "[2815487:MainThread](2024-12-11 17:59:25,360) INFO - qlib.workflow - [recorder.py:341] - Recorder 6576e2e20d72481abba7519698e93e4b starts running under Experiment 2 ...\n"
     ]
    },
    {
     "name": "stderr",
     "output_type": "stream",
     "text": [
      "[2815487:MainThread](2024-12-11 17:59:25,657) INFO - qlib.timer - [log.py:127] - Time cost: 0.001s | waiting `async_log` Done\n"
     ]
    },
    {
     "name": "stderr",
     "output_type": "stream",
     "text": [
      "[2815487:MainThread](2024-12-11 17:59:25,663) INFO - qlib.workflow - [exp.py:258] - Experiment 4 starts running ...\n"
     ]
    },
    {
     "name": "stderr",
     "output_type": "stream",
     "text": [
      "[2815487:MainThread](2024-12-11 17:59:25,674) INFO - qlib.workflow - [recorder.py:341] - Recorder d5fd9ab7886b47b7b68a736a90a4c521 starts running under Experiment 4 ...\n"
     ]
    },
    {
     "name": "stderr",
     "output_type": "stream",
     "text": [
      "[2815487:MainThread](2024-12-11 17:59:25,959) INFO - qlib.workflow - [record_temp.py:198] - Signal record 'pred.pkl' has been saved as the artifact of the Experiment 4\n"
     ]
    },
    {
     "name": "stderr",
     "output_type": "stream",
     "text": [
      "[2815487:MainThread](2024-12-11 17:59:25,967) INFO - qlib.timer - [log.py:127] - Time cost: 0.000s | waiting `async_log` Done\n"
     ]
    },
    {
     "name": "stderr",
     "output_type": "stream",
     "text": [
      "[2815487:MainThread](2024-12-11 17:59:25,972) INFO - qlib.workflow - [exp.py:258] - Experiment 4 starts running ...\n"
     ]
    },
    {
     "name": "stderr",
     "output_type": "stream",
     "text": [
      "[2815487:MainThread](2024-12-11 17:59:25,984) INFO - qlib.workflow - [recorder.py:341] - Recorder 19bff177bdf34e11bc97480de4792eff starts running under Experiment 4 ...\n"
     ]
    },
    {
     "name": "stdout",
     "output_type": "stream",
     "text": [
      "'The following are prediction results of the LGBModel model.'\n",
      "                          score\n",
      "datetime   instrument          \n",
      "2024-12-02 SH600000   -0.030935\n",
      "           SH600009   -0.016277\n",
      "           SH600010   -0.001566\n",
      "           SH600011    0.004221\n",
      "           SH600015    0.035642\n"
     ]
    },
    {
     "name": "stderr",
     "output_type": "stream",
     "text": [
      "[2815487:MainThread](2024-12-11 17:59:26,258) INFO - qlib.timer - [log.py:127] - Time cost: 0.000s | waiting `async_log` Done\n"
     ]
    },
    {
     "name": "stderr",
     "output_type": "stream",
     "text": [
      "[2815487:MainThread](2024-12-11 17:59:26,350) INFO - qlib.workflow - [exp.py:258] - Experiment 3 starts running ...\n"
     ]
    },
    {
     "name": "stderr",
     "output_type": "stream",
     "text": [
      "[2815487:MainThread](2024-12-11 17:59:26,365) INFO - qlib.workflow - [recorder.py:341] - Recorder 85f05cd4882c4bc0b83245ff7ef87272 starts running under Experiment 3 ...\n"
     ]
    },
    {
     "name": "stderr",
     "output_type": "stream",
     "text": [
      "[2815487:MainThread](2024-12-11 17:59:26,657) INFO - qlib.workflow - [record_temp.py:198] - Signal record 'pred.pkl' has been saved as the artifact of the Experiment 3\n"
     ]
    },
    {
     "name": "stderr",
     "output_type": "stream",
     "text": [
      "[2815487:MainThread](2024-12-11 17:59:26,665) INFO - qlib.timer - [log.py:127] - Time cost: 0.000s | waiting `async_log` Done\n"
     ]
    },
    {
     "name": "stderr",
     "output_type": "stream",
     "text": [
      "[2815487:MainThread](2024-12-11 17:59:26,671) INFO - qlib.workflow - [exp.py:258] - Experiment 3 starts running ...\n"
     ]
    },
    {
     "name": "stderr",
     "output_type": "stream",
     "text": [
      "[2815487:MainThread](2024-12-11 17:59:26,685) INFO - qlib.workflow - [recorder.py:341] - Recorder 2035c91e69ce41889839c2c7c0523d9d starts running under Experiment 3 ...\n"
     ]
    },
    {
     "name": "stdout",
     "output_type": "stream",
     "text": [
      "'The following are prediction results of the LGBModel model.'\n",
      "                          score\n",
      "datetime   instrument          \n",
      "2024-12-10 SH600000    0.016413\n",
      "           SH600009    0.008827\n",
      "           SH600010    0.036561\n",
      "           SH600011    0.021831\n",
      "           SH600015   -0.083109\n"
     ]
    },
    {
     "name": "stderr",
     "output_type": "stream",
     "text": [
      "[2815487:MainThread](2024-12-11 17:59:26,960) INFO - qlib.timer - [log.py:127] - Time cost: 0.000s | waiting `async_log` Done\n"
     ]
    },
    {
     "name": "stderr",
     "output_type": "stream",
     "text": [
      "[2815487:MainThread](2024-12-11 17:59:26,970) INFO - qlib.workflow - [exp.py:258] - Experiment 2 starts running ...\n"
     ]
    },
    {
     "name": "stderr",
     "output_type": "stream",
     "text": [
      "[2815487:MainThread](2024-12-11 17:59:26,979) INFO - qlib.workflow - [recorder.py:341] - Recorder 68b3fc3f5284469bb93fa9d5496f7e16 starts running under Experiment 2 ...\n"
     ]
    },
    {
     "name": "stderr",
     "output_type": "stream",
     "text": [
      "[2815487:MainThread](2024-12-11 17:59:27,285) INFO - qlib.timer - [log.py:127] - Time cost: 0.000s | waiting `async_log` Done\n"
     ]
    },
    {
     "name": "stderr",
     "output_type": "stream",
     "text": [
      "[2815487:MainThread](2024-12-11 17:59:27,291) INFO - qlib.workflow - [exp.py:258] - Experiment 4 starts running ...\n"
     ]
    },
    {
     "name": "stderr",
     "output_type": "stream",
     "text": [
      "[2815487:MainThread](2024-12-11 17:59:27,303) INFO - qlib.workflow - [recorder.py:341] - Recorder cfeb7a70dcaf40e883dc71efc473478d starts running under Experiment 4 ...\n"
     ]
    },
    {
     "name": "stderr",
     "output_type": "stream",
     "text": [
      "[2815487:MainThread](2024-12-11 17:59:27,596) INFO - qlib.workflow - [record_temp.py:198] - Signal record 'pred.pkl' has been saved as the artifact of the Experiment 4\n"
     ]
    },
    {
     "name": "stderr",
     "output_type": "stream",
     "text": [
      "[2815487:MainThread](2024-12-11 17:59:27,604) INFO - qlib.timer - [log.py:127] - Time cost: 0.000s | waiting `async_log` Done\n"
     ]
    },
    {
     "name": "stderr",
     "output_type": "stream",
     "text": [
      "[2815487:MainThread](2024-12-11 17:59:27,610) INFO - qlib.workflow - [exp.py:258] - Experiment 4 starts running ...\n"
     ]
    },
    {
     "name": "stderr",
     "output_type": "stream",
     "text": [
      "[2815487:MainThread](2024-12-11 17:59:27,620) INFO - qlib.workflow - [recorder.py:341] - Recorder 0d5e35082cf345cbacedda17cd5f4df8 starts running under Experiment 4 ...\n"
     ]
    },
    {
     "name": "stdout",
     "output_type": "stream",
     "text": [
      "'The following are prediction results of the LGBModel model.'\n",
      "                          score\n",
      "datetime   instrument          \n",
      "2024-12-02 SH600000   -0.018763\n",
      "           SH600009   -0.019384\n",
      "           SH600010    0.008546\n",
      "           SH600011   -0.005642\n",
      "           SH600015    0.042966\n"
     ]
    },
    {
     "name": "stderr",
     "output_type": "stream",
     "text": [
      "[2815487:MainThread](2024-12-11 17:59:27,898) INFO - qlib.timer - [log.py:127] - Time cost: 0.000s | waiting `async_log` Done\n"
     ]
    },
    {
     "name": "stderr",
     "output_type": "stream",
     "text": [
      "[2815487:MainThread](2024-12-11 17:59:27,991) INFO - qlib.workflow - [exp.py:258] - Experiment 3 starts running ...\n"
     ]
    },
    {
     "name": "stderr",
     "output_type": "stream",
     "text": [
      "[2815487:MainThread](2024-12-11 17:59:28,006) INFO - qlib.workflow - [recorder.py:341] - Recorder 5f5e27b934f64dbdaf1cc9f899b0fd40 starts running under Experiment 3 ...\n"
     ]
    },
    {
     "name": "stderr",
     "output_type": "stream",
     "text": [
      "[2815487:MainThread](2024-12-11 17:59:28,292) INFO - qlib.workflow - [record_temp.py:198] - Signal record 'pred.pkl' has been saved as the artifact of the Experiment 3\n"
     ]
    },
    {
     "name": "stderr",
     "output_type": "stream",
     "text": [
      "[2815487:MainThread](2024-12-11 17:59:28,299) INFO - qlib.timer - [log.py:127] - Time cost: 0.000s | waiting `async_log` Done\n"
     ]
    },
    {
     "name": "stderr",
     "output_type": "stream",
     "text": [
      "[2815487:MainThread](2024-12-11 17:59:28,305) INFO - qlib.workflow - [exp.py:258] - Experiment 3 starts running ...\n"
     ]
    },
    {
     "name": "stderr",
     "output_type": "stream",
     "text": [
      "[2815487:MainThread](2024-12-11 17:59:28,319) INFO - qlib.workflow - [recorder.py:341] - Recorder 6dc3a1d89069474c92df73bc1a9d720c starts running under Experiment 3 ...\n"
     ]
    },
    {
     "name": "stdout",
     "output_type": "stream",
     "text": [
      "'The following are prediction results of the LGBModel model.'\n",
      "                          score\n",
      "datetime   instrument          \n",
      "2024-12-10 SH600000    0.007313\n",
      "           SH600009    0.017959\n",
      "           SH600010    0.018966\n",
      "           SH600011    0.028760\n",
      "           SH600015   -0.115421\n"
     ]
    },
    {
     "name": "stderr",
     "output_type": "stream",
     "text": [
      "[2815487:MainThread](2024-12-11 17:59:28,596) INFO - qlib.timer - [log.py:127] - Time cost: 0.000s | waiting `async_log` Done\n"
     ]
    },
    {
     "name": "stderr",
     "output_type": "stream",
     "text": [
      "[2815487:MainThread](2024-12-11 17:59:28,604) INFO - qlib.workflow - [exp.py:258] - Experiment 2 starts running ...\n"
     ]
    },
    {
     "name": "stderr",
     "output_type": "stream",
     "text": [
      "[2815487:MainThread](2024-12-11 17:59:28,613) INFO - qlib.workflow - [recorder.py:341] - Recorder 1b138edbbe3a4a90873ce67822d26bb7 starts running under Experiment 2 ...\n"
     ]
    },
    {
     "name": "stderr",
     "output_type": "stream",
     "text": [
      "[2815487:MainThread](2024-12-11 17:59:28,917) INFO - qlib.timer - [log.py:127] - Time cost: 0.002s | waiting `async_log` Done\n"
     ]
    },
    {
     "name": "stderr",
     "output_type": "stream",
     "text": [
      "[2815487:MainThread](2024-12-11 17:59:28,923) INFO - qlib.workflow - [exp.py:258] - Experiment 4 starts running ...\n"
     ]
    },
    {
     "name": "stderr",
     "output_type": "stream",
     "text": [
      "[2815487:MainThread](2024-12-11 17:59:28,935) INFO - qlib.workflow - [recorder.py:341] - Recorder 5aa6ba3fc3c942bfbd8015f3fc496736 starts running under Experiment 4 ...\n"
     ]
    },
    {
     "name": "stderr",
     "output_type": "stream",
     "text": [
      "[2815487:MainThread](2024-12-11 17:59:29,222) INFO - qlib.workflow - [record_temp.py:198] - Signal record 'pred.pkl' has been saved as the artifact of the Experiment 4\n"
     ]
    },
    {
     "name": "stderr",
     "output_type": "stream",
     "text": [
      "[2815487:MainThread](2024-12-11 17:59:29,230) INFO - qlib.timer - [log.py:127] - Time cost: 0.000s | waiting `async_log` Done\n"
     ]
    },
    {
     "name": "stderr",
     "output_type": "stream",
     "text": [
      "[2815487:MainThread](2024-12-11 17:59:29,235) INFO - qlib.workflow - [exp.py:258] - Experiment 4 starts running ...\n"
     ]
    },
    {
     "name": "stderr",
     "output_type": "stream",
     "text": [
      "[2815487:MainThread](2024-12-11 17:59:29,246) INFO - qlib.workflow - [recorder.py:341] - Recorder a6290ff5b7da4afa8cc31a51474d4ba9 starts running under Experiment 4 ...\n"
     ]
    },
    {
     "name": "stdout",
     "output_type": "stream",
     "text": [
      "'The following are prediction results of the LGBModel model.'\n",
      "                          score\n",
      "datetime   instrument          \n",
      "2024-12-02 SH600000   -0.038353\n",
      "           SH600009    0.004608\n",
      "           SH600010    0.032711\n",
      "           SH600011    0.007540\n",
      "           SH600015    0.040062\n"
     ]
    },
    {
     "name": "stderr",
     "output_type": "stream",
     "text": [
      "[2815487:MainThread](2024-12-11 17:59:29,531) INFO - qlib.timer - [log.py:127] - Time cost: 0.000s | waiting `async_log` Done\n"
     ]
    },
    {
     "name": "stderr",
     "output_type": "stream",
     "text": [
      "[2815487:MainThread](2024-12-11 17:59:29,624) INFO - qlib.workflow - [exp.py:258] - Experiment 3 starts running ...\n"
     ]
    },
    {
     "name": "stderr",
     "output_type": "stream",
     "text": [
      "[2815487:MainThread](2024-12-11 17:59:29,639) INFO - qlib.workflow - [recorder.py:341] - Recorder cb399ca3e7204d6a81d378d414cdcdba starts running under Experiment 3 ...\n"
     ]
    },
    {
     "name": "stderr",
     "output_type": "stream",
     "text": [
      "[2815487:MainThread](2024-12-11 17:59:29,933) INFO - qlib.workflow - [record_temp.py:198] - Signal record 'pred.pkl' has been saved as the artifact of the Experiment 3\n"
     ]
    },
    {
     "name": "stderr",
     "output_type": "stream",
     "text": [
      "[2815487:MainThread](2024-12-11 17:59:29,939) INFO - qlib.timer - [log.py:127] - Time cost: 0.000s | waiting `async_log` Done\n"
     ]
    },
    {
     "name": "stderr",
     "output_type": "stream",
     "text": [
      "[2815487:MainThread](2024-12-11 17:59:29,945) INFO - qlib.workflow - [exp.py:258] - Experiment 3 starts running ...\n"
     ]
    },
    {
     "name": "stderr",
     "output_type": "stream",
     "text": [
      "[2815487:MainThread](2024-12-11 17:59:29,959) INFO - qlib.workflow - [recorder.py:341] - Recorder 53c84deb23b54c349c3802fe9d17a952 starts running under Experiment 3 ...\n"
     ]
    },
    {
     "name": "stdout",
     "output_type": "stream",
     "text": [
      "'The following are prediction results of the LGBModel model.'\n",
      "                          score\n",
      "datetime   instrument          \n",
      "2024-12-10 SH600000    0.030046\n",
      "           SH600009    0.097639\n",
      "           SH600010   -0.066421\n",
      "           SH600011    0.001421\n",
      "           SH600015   -0.307438\n"
     ]
    },
    {
     "name": "stderr",
     "output_type": "stream",
     "text": [
      "[2815487:MainThread](2024-12-11 17:59:30,232) INFO - qlib.timer - [log.py:127] - Time cost: 0.000s | waiting `async_log` Done\n"
     ]
    }
   ],
   "source": [
    "info_dict5 = {}\n",
    "info_dict10 = {}\n",
    "info_dict20 = {}\n",
    "pred_lst = []\n",
    "\n",
    "for NAME, EXP_NAME, rid in REC_LIST:\n",
    "    with R.start(experiment_name=EXP_NAME, uri='./mlrun'):\n",
    "        recorder = R.get_recorder(recorder_id=rid)\n",
    "        model = recorder.load_object(\"trained_model\")\n",
    "    day5metrics, day10metrics, day20metrics, pred_df = run_model(model)\n",
    "    info_dict5[NAME] = day5metrics\n",
    "    info_dict10[NAME] = day10metrics\n",
    "    info_dict20[NAME] = day20metrics\n",
    "    pred_lst.append(pred_df)"
   ]
  },
  {
   "cell_type": "code",
   "execution_count": 10,
   "metadata": {
    "execution": {
     "iopub.execute_input": "2024-12-11T09:59:30.246128Z",
     "iopub.status.busy": "2024-12-11T09:59:30.245140Z",
     "iopub.status.idle": "2024-12-11T09:59:30.254213Z",
     "shell.execute_reply": "2024-12-11T09:59:30.253455Z"
    }
   },
   "outputs": [],
   "source": [
    "info_df5 = pd.DataFrame(info_dict5, index=['TOP20IC', 'TOP20WIN', '0-5IC', '0-5WIN', '5-10IC', '5-10WIN', '10-15IC', '10-15WIN', '15-20C', '15-20WIN'])\n",
    "report_info5 = info_df5\n",
    "\n",
    "info_df10 = pd.DataFrame(info_dict10, index=['TOP20IC', 'TOP20WIN', '0-5IC', '0-5WIN', '5-10IC', '5-10WIN', '10-15IC', '10-15WIN', '15-20C', '15-20WIN'])\n",
    "report_info10 = info_df10\n",
    "\n",
    "info_df20 = pd.DataFrame(info_dict20, index=['TOP20IC', 'TOP20WIN', '0-5IC', '0-5WIN', '5-10IC', '5-10WIN', '10-15IC', '10-15WIN', '15-20C', '15-20WIN'])\n",
    "report_info20 = info_df20"
   ]
  },
  {
   "cell_type": "code",
   "execution_count": 11,
   "metadata": {
    "execution": {
     "iopub.execute_input": "2024-12-11T09:59:30.258224Z",
     "iopub.status.busy": "2024-12-11T09:59:30.257830Z",
     "iopub.status.idle": "2024-12-11T09:59:30.273179Z",
     "shell.execute_reply": "2024-12-11T09:59:30.272249Z"
    }
   },
   "outputs": [],
   "source": [
    "pred_df = pd.concat(pred_lst, axis=1)\n",
    "pred_df.columns = name_lst = [r[0] for r in REC_LIST]\n",
    "_pred_df = pred_df\n",
    "\n",
    "pred_df['mean'] = _pred_df.mean(axis=1)\n",
    "pred_df['std'] = _pred_df.std(axis=1)\n",
    "pred_df['score'] = pd.concat([pred_df[n]*info_dict20[n][0] for n in name_lst], axis=1).sum(axis=1)\n",
    "# pred_df"
   ]
  },
  {
   "cell_type": "code",
   "execution_count": 12,
   "metadata": {
    "execution": {
     "iopub.execute_input": "2024-12-11T09:59:30.276575Z",
     "iopub.status.busy": "2024-12-11T09:59:30.276171Z",
     "iopub.status.idle": "2024-12-11T09:59:31.069847Z",
     "shell.execute_reply": "2024-12-11T09:59:31.069115Z"
    }
   },
   "outputs": [],
   "source": [
    "rank_df = pred_df.droplevel(0).sort_values(by='score', ascending=False)\n",
    "fields = ['$close/$factor']\n",
    "_df = D.features(rank_df.index.values, fields, start_time=TODAY, end_time=TODAY, freq='day')\n",
    "_df.columns = ['close']\n",
    "_df = _df.droplevel(1)\n",
    "rank_df = pd.concat([rank_df,_df],axis=1,join='inner')\n",
    "report_top = rank_df.head(20)"
   ]
  },
  {
   "cell_type": "code",
   "execution_count": 13,
   "metadata": {
    "execution": {
     "iopub.execute_input": "2024-12-11T09:59:31.073668Z",
     "iopub.status.busy": "2024-12-11T09:59:31.073168Z",
     "iopub.status.idle": "2024-12-11T09:59:31.078699Z",
     "shell.execute_reply": "2024-12-11T09:59:31.078094Z"
    }
   },
   "outputs": [
    {
     "data": {
      "text/plain": [
       "['SH600588', 'SH601698', 'SH600570', 'SH600233', 'SH600104']"
      ]
     },
     "execution_count": 13,
     "metadata": {},
     "output_type": "execute_result"
    }
   ],
   "source": [
    "hold_lst"
   ]
  },
  {
   "cell_type": "code",
   "execution_count": 14,
   "metadata": {
    "execution": {
     "iopub.execute_input": "2024-12-11T09:59:31.082062Z",
     "iopub.status.busy": "2024-12-11T09:59:31.081658Z",
     "iopub.status.idle": "2024-12-11T09:59:31.086804Z",
     "shell.execute_reply": "2024-12-11T09:59:31.086141Z"
    }
   },
   "outputs": [],
   "source": [
    "pos_rank = rank_df.sort_values(by='score', ascending=True)\n",
    "pos_rank = pos_rank[pos_rank.index.isin(hold_lst)]\n",
    "report_pos = pos_rank"
   ]
  },
  {
   "cell_type": "code",
   "execution_count": null,
   "metadata": {},
   "outputs": [],
   "source": []
  },
  {
   "cell_type": "code",
   "execution_count": 15,
   "metadata": {
    "execution": {
     "iopub.execute_input": "2024-12-11T09:59:31.089485Z",
     "iopub.status.busy": "2024-12-11T09:59:31.089052Z",
     "iopub.status.idle": "2024-12-11T09:59:31.374634Z",
     "shell.execute_reply": "2024-12-11T09:59:31.373812Z"
    }
   },
   "outputs": [
    {
     "data": {
      "text/html": [
       "<style type=\"text/css\">\n",
       "#T_6d87d_row0_col0, #T_6d87d_row2_col2, #T_6d87d_row2_col5, #T_6d87d_row4_col1, #T_6d87d_row4_col3, #T_6d87d_row4_col4, #T_6d87d_row4_col6 {\n",
       "  background-color: #fff7fb;\n",
       "  color: #000000;\n",
       "}\n",
       "#T_6d87d_row0_col1 {\n",
       "  background-color: #f2ecf5;\n",
       "  color: #000000;\n",
       "}\n",
       "#T_6d87d_row0_col2 {\n",
       "  background-color: #efe9f3;\n",
       "  color: #000000;\n",
       "}\n",
       "#T_6d87d_row0_col3, #T_6d87d_row2_col3 {\n",
       "  background-color: #97b7d7;\n",
       "  color: #000000;\n",
       "}\n",
       "#T_6d87d_row0_col4 {\n",
       "  background-color: #c0c9e2;\n",
       "  color: #000000;\n",
       "}\n",
       "#T_6d87d_row0_col5 {\n",
       "  background-color: #f5eef6;\n",
       "  color: #000000;\n",
       "}\n",
       "#T_6d87d_row0_col6 {\n",
       "  background-color: #9fbad9;\n",
       "  color: #000000;\n",
       "}\n",
       "#T_6d87d_row1_col0 {\n",
       "  background-color: #308cbe;\n",
       "  color: #f1f1f1;\n",
       "}\n",
       "#T_6d87d_row1_col1 {\n",
       "  background-color: #2d8abd;\n",
       "  color: #f1f1f1;\n",
       "}\n",
       "#T_6d87d_row1_col2 {\n",
       "  background-color: #1379b5;\n",
       "  color: #f1f1f1;\n",
       "}\n",
       "#T_6d87d_row1_col3 {\n",
       "  background-color: #04629a;\n",
       "  color: #f1f1f1;\n",
       "}\n",
       "#T_6d87d_row1_col4 {\n",
       "  background-color: #0566a0;\n",
       "  color: #f1f1f1;\n",
       "}\n",
       "#T_6d87d_row1_col5 {\n",
       "  background-color: #3b92c1;\n",
       "  color: #f1f1f1;\n",
       "}\n",
       "#T_6d87d_row1_col6 {\n",
       "  background-color: #045e93;\n",
       "  color: #f1f1f1;\n",
       "}\n",
       "#T_6d87d_row2_col0 {\n",
       "  background-color: #faf3f9;\n",
       "  color: #000000;\n",
       "}\n",
       "#T_6d87d_row2_col1 {\n",
       "  background-color: #cccfe5;\n",
       "  color: #000000;\n",
       "}\n",
       "#T_6d87d_row2_col4 {\n",
       "  background-color: #d7d6e9;\n",
       "  color: #000000;\n",
       "}\n",
       "#T_6d87d_row2_col6 {\n",
       "  background-color: #80aed2;\n",
       "  color: #f1f1f1;\n",
       "}\n",
       "#T_6d87d_row3_col0 {\n",
       "  background-color: #75a9cf;\n",
       "  color: #f1f1f1;\n",
       "}\n",
       "#T_6d87d_row3_col1, #T_6d87d_row5_col5 {\n",
       "  background-color: #86b0d3;\n",
       "  color: #000000;\n",
       "}\n",
       "#T_6d87d_row3_col2 {\n",
       "  background-color: #2081b9;\n",
       "  color: #f1f1f1;\n",
       "}\n",
       "#T_6d87d_row3_col3 {\n",
       "  background-color: #056ba7;\n",
       "  color: #f1f1f1;\n",
       "}\n",
       "#T_6d87d_row3_col4 {\n",
       "  background-color: #167bb6;\n",
       "  color: #f1f1f1;\n",
       "}\n",
       "#T_6d87d_row3_col5 {\n",
       "  background-color: #73a9cf;\n",
       "  color: #f1f1f1;\n",
       "}\n",
       "#T_6d87d_row3_col6 {\n",
       "  background-color: #04649e;\n",
       "  color: #f1f1f1;\n",
       "}\n",
       "#T_6d87d_row4_col0 {\n",
       "  background-color: #c9cee4;\n",
       "  color: #000000;\n",
       "}\n",
       "#T_6d87d_row4_col2 {\n",
       "  background-color: #b5c4df;\n",
       "  color: #000000;\n",
       "}\n",
       "#T_6d87d_row4_col5 {\n",
       "  background-color: #4e9ac6;\n",
       "  color: #f1f1f1;\n",
       "}\n",
       "#T_6d87d_row5_col0, #T_6d87d_row9_col0 {\n",
       "  background-color: #0c74b2;\n",
       "  color: #f1f1f1;\n",
       "}\n",
       "#T_6d87d_row5_col1, #T_6d87d_row7_col2, #T_6d87d_row9_col5 {\n",
       "  background-color: #328dbf;\n",
       "  color: #f1f1f1;\n",
       "}\n",
       "#T_6d87d_row5_col2, #T_6d87d_row7_col3, #T_6d87d_row7_col5, #T_6d87d_row7_col6, #T_6d87d_row8_col0, #T_6d87d_row8_col4, #T_6d87d_row9_col1, #T_6d87d_row9_col3 {\n",
       "  background-color: #023858;\n",
       "  color: #f1f1f1;\n",
       "}\n",
       "#T_6d87d_row5_col3 {\n",
       "  background-color: #3991c1;\n",
       "  color: #f1f1f1;\n",
       "}\n",
       "#T_6d87d_row5_col4 {\n",
       "  background-color: #2383ba;\n",
       "  color: #f1f1f1;\n",
       "}\n",
       "#T_6d87d_row5_col6, #T_6d87d_row9_col6 {\n",
       "  background-color: #04598c;\n",
       "  color: #f1f1f1;\n",
       "}\n",
       "#T_6d87d_row6_col0 {\n",
       "  background-color: #b8c6e0;\n",
       "  color: #000000;\n",
       "}\n",
       "#T_6d87d_row6_col1 {\n",
       "  background-color: #63a2cb;\n",
       "  color: #f1f1f1;\n",
       "}\n",
       "#T_6d87d_row6_col2 {\n",
       "  background-color: #93b5d6;\n",
       "  color: #000000;\n",
       "}\n",
       "#T_6d87d_row6_col3 {\n",
       "  background-color: #4295c3;\n",
       "  color: #f1f1f1;\n",
       "}\n",
       "#T_6d87d_row6_col4 {\n",
       "  background-color: #94b6d7;\n",
       "  color: #000000;\n",
       "}\n",
       "#T_6d87d_row6_col5 {\n",
       "  background-color: #6ba5cd;\n",
       "  color: #f1f1f1;\n",
       "}\n",
       "#T_6d87d_row6_col6 {\n",
       "  background-color: #dddbec;\n",
       "  color: #000000;\n",
       "}\n",
       "#T_6d87d_row7_col0 {\n",
       "  background-color: #5ea0ca;\n",
       "  color: #f1f1f1;\n",
       "}\n",
       "#T_6d87d_row7_col1, #T_6d87d_row9_col2 {\n",
       "  background-color: #04649d;\n",
       "  color: #f1f1f1;\n",
       "}\n",
       "#T_6d87d_row7_col4, #T_6d87d_row9_col4 {\n",
       "  background-color: #034871;\n",
       "  color: #f1f1f1;\n",
       "}\n",
       "#T_6d87d_row8_col1 {\n",
       "  background-color: #509ac6;\n",
       "  color: #f1f1f1;\n",
       "}\n",
       "#T_6d87d_row8_col2 {\n",
       "  background-color: #02395a;\n",
       "  color: #f1f1f1;\n",
       "}\n",
       "#T_6d87d_row8_col3 {\n",
       "  background-color: #60a1ca;\n",
       "  color: #f1f1f1;\n",
       "}\n",
       "#T_6d87d_row8_col5 {\n",
       "  background-color: #88b1d4;\n",
       "  color: #000000;\n",
       "}\n",
       "#T_6d87d_row8_col6 {\n",
       "  background-color: #d4d4e8;\n",
       "  color: #000000;\n",
       "}\n",
       "</style>\n",
       "<table id=\"T_6d87d\">\n",
       "  <thead>\n",
       "    <tr>\n",
       "      <th class=\"blank level0\" >&nbsp;</th>\n",
       "      <th id=\"T_6d87d_level0_col0\" class=\"col_heading level0 col0\" >GBDT0</th>\n",
       "      <th id=\"T_6d87d_level0_col1\" class=\"col_heading level0 col1\" >GBDT1</th>\n",
       "      <th id=\"T_6d87d_level0_col2\" class=\"col_heading level0 col2\" >GBDT2</th>\n",
       "      <th id=\"T_6d87d_level0_col3\" class=\"col_heading level0 col3\" >GBDT4</th>\n",
       "      <th id=\"T_6d87d_level0_col4\" class=\"col_heading level0 col4\" >GBDT6</th>\n",
       "      <th id=\"T_6d87d_level0_col5\" class=\"col_heading level0 col5\" >GBDT8</th>\n",
       "      <th id=\"T_6d87d_level0_col6\" class=\"col_heading level0 col6\" >GBDT10</th>\n",
       "    </tr>\n",
       "  </thead>\n",
       "  <tbody>\n",
       "    <tr>\n",
       "      <th id=\"T_6d87d_level0_row0\" class=\"row_heading level0 row0\" >TOP20IC</th>\n",
       "      <td id=\"T_6d87d_row0_col0\" class=\"data row0 col0\" >-0.181862</td>\n",
       "      <td id=\"T_6d87d_row0_col1\" class=\"data row0 col1\" >-0.006492</td>\n",
       "      <td id=\"T_6d87d_row0_col2\" class=\"data row0 col2\" >-0.177584</td>\n",
       "      <td id=\"T_6d87d_row0_col3\" class=\"data row0 col3\" >-0.125325</td>\n",
       "      <td id=\"T_6d87d_row0_col4\" class=\"data row0 col4\" >-0.166531</td>\n",
       "      <td id=\"T_6d87d_row0_col5\" class=\"data row0 col5\" >-0.027349</td>\n",
       "      <td id=\"T_6d87d_row0_col6\" class=\"data row0 col6\" >-0.175386</td>\n",
       "    </tr>\n",
       "    <tr>\n",
       "      <th id=\"T_6d87d_level0_row1\" class=\"row_heading level0 row1\" >TOP20WIN</th>\n",
       "      <td id=\"T_6d87d_row1_col0\" class=\"data row1 col0\" >0.500000</td>\n",
       "      <td id=\"T_6d87d_row1_col1\" class=\"data row1 col1\" >0.612500</td>\n",
       "      <td id=\"T_6d87d_row1_col2\" class=\"data row1 col2\" >0.487500</td>\n",
       "      <td id=\"T_6d87d_row1_col3\" class=\"data row1 col3\" >0.525000</td>\n",
       "      <td id=\"T_6d87d_row1_col4\" class=\"data row1 col4\" >0.600000</td>\n",
       "      <td id=\"T_6d87d_row1_col5\" class=\"data row1 col5\" >0.575000</td>\n",
       "      <td id=\"T_6d87d_row1_col6\" class=\"data row1 col6\" >0.562500</td>\n",
       "    </tr>\n",
       "    <tr>\n",
       "      <th id=\"T_6d87d_level0_row2\" class=\"row_heading level0 row2\" >0-5IC</th>\n",
       "      <td id=\"T_6d87d_row2_col0\" class=\"data row2 col0\" >-0.146310</td>\n",
       "      <td id=\"T_6d87d_row2_col1\" class=\"data row2 col1\" >0.190481</td>\n",
       "      <td id=\"T_6d87d_row2_col2\" class=\"data row2 col2\" >-0.293071</td>\n",
       "      <td id=\"T_6d87d_row2_col3\" class=\"data row2 col3\" >-0.123586</td>\n",
       "      <td id=\"T_6d87d_row2_col4\" class=\"data row2 col4\" >-0.285351</td>\n",
       "      <td id=\"T_6d87d_row2_col5\" class=\"data row2 col5\" >-0.100758</td>\n",
       "      <td id=\"T_6d87d_row2_col6\" class=\"data row2 col6\" >-0.053436</td>\n",
       "    </tr>\n",
       "    <tr>\n",
       "      <th id=\"T_6d87d_level0_row3\" class=\"row_heading level0 row3\" >0-5WIN</th>\n",
       "      <td id=\"T_6d87d_row3_col0\" class=\"data row3 col0\" >0.350000</td>\n",
       "      <td id=\"T_6d87d_row3_col1\" class=\"data row3 col1\" >0.400000</td>\n",
       "      <td id=\"T_6d87d_row3_col2\" class=\"data row3 col2\" >0.450000</td>\n",
       "      <td id=\"T_6d87d_row3_col3\" class=\"data row3 col3\" >0.450000</td>\n",
       "      <td id=\"T_6d87d_row3_col4\" class=\"data row3 col4\" >0.450000</td>\n",
       "      <td id=\"T_6d87d_row3_col5\" class=\"data row3 col5\" >0.450000</td>\n",
       "      <td id=\"T_6d87d_row3_col6\" class=\"data row3 col6\" >0.500000</td>\n",
       "    </tr>\n",
       "    <tr>\n",
       "      <th id=\"T_6d87d_level0_row4\" class=\"row_heading level0 row4\" >5-10IC</th>\n",
       "      <td id=\"T_6d87d_row4_col0\" class=\"data row4 col0\" >0.108726</td>\n",
       "      <td id=\"T_6d87d_row4_col1\" class=\"data row4 col1\" >-0.097320</td>\n",
       "      <td id=\"T_6d87d_row4_col2\" class=\"data row4 col2\" >0.067952</td>\n",
       "      <td id=\"T_6d87d_row4_col3\" class=\"data row4 col3\" >-0.774278</td>\n",
       "      <td id=\"T_6d87d_row4_col4\" class=\"data row4 col4\" >-0.618396</td>\n",
       "      <td id=\"T_6d87d_row4_col5\" class=\"data row4 col5\" >0.532151</td>\n",
       "      <td id=\"T_6d87d_row4_col6\" class=\"data row4 col6\" >-0.810227</td>\n",
       "    </tr>\n",
       "    <tr>\n",
       "      <th id=\"T_6d87d_level0_row5\" class=\"row_heading level0 row5\" >5-10WIN</th>\n",
       "      <td id=\"T_6d87d_row5_col0\" class=\"data row5 col0\" >0.600000</td>\n",
       "      <td id=\"T_6d87d_row5_col1\" class=\"data row5 col1\" >0.600000</td>\n",
       "      <td id=\"T_6d87d_row5_col2\" class=\"data row5 col2\" >0.800000</td>\n",
       "      <td id=\"T_6d87d_row5_col3\" class=\"data row5 col3\" >0.200000</td>\n",
       "      <td id=\"T_6d87d_row5_col4\" class=\"data row5 col4\" >0.400000</td>\n",
       "      <td id=\"T_6d87d_row5_col5\" class=\"data row5 col5\" >0.400000</td>\n",
       "      <td id=\"T_6d87d_row5_col6\" class=\"data row5 col6\" >0.600000</td>\n",
       "    </tr>\n",
       "    <tr>\n",
       "      <th id=\"T_6d87d_level0_row6\" class=\"row_heading level0 row6\" >10-15IC</th>\n",
       "      <td id=\"T_6d87d_row6_col0\" class=\"data row6 col0\" >0.163235</td>\n",
       "      <td id=\"T_6d87d_row6_col1\" class=\"data row6 col1\" >0.485844</td>\n",
       "      <td id=\"T_6d87d_row6_col2\" class=\"data row6 col2\" >0.168397</td>\n",
       "      <td id=\"T_6d87d_row6_col3\" class=\"data row6 col3\" >0.169377</td>\n",
       "      <td id=\"T_6d87d_row6_col4\" class=\"data row6 col4\" >0.014806</td>\n",
       "      <td id=\"T_6d87d_row6_col5\" class=\"data row6 col5\" >0.469000</td>\n",
       "      <td id=\"T_6d87d_row6_col6\" class=\"data row6 col6\" >-0.499942</td>\n",
       "    </tr>\n",
       "    <tr>\n",
       "      <th id=\"T_6d87d_level0_row7\" class=\"row_heading level0 row7\" >10-15WIN</th>\n",
       "      <td id=\"T_6d87d_row7_col0\" class=\"data row7 col0\" >0.400000</td>\n",
       "      <td id=\"T_6d87d_row7_col1\" class=\"data row7 col1\" >0.800000</td>\n",
       "      <td id=\"T_6d87d_row7_col2\" class=\"data row7 col2\" >0.400000</td>\n",
       "      <td id=\"T_6d87d_row7_col3\" class=\"data row7 col3\" >0.800000</td>\n",
       "      <td id=\"T_6d87d_row7_col4\" class=\"data row7 col4\" >0.800000</td>\n",
       "      <td id=\"T_6d87d_row7_col5\" class=\"data row7 col5\" >1.000000</td>\n",
       "      <td id=\"T_6d87d_row7_col6\" class=\"data row7 col6\" >0.800000</td>\n",
       "    </tr>\n",
       "    <tr>\n",
       "      <th id=\"T_6d87d_level0_row8\" class=\"row_heading level0 row8\" >15-20C</th>\n",
       "      <td id=\"T_6d87d_row8_col0\" class=\"data row8 col0\" >0.884893</td>\n",
       "      <td id=\"T_6d87d_row8_col1\" class=\"data row8 col1\" >0.531707</td>\n",
       "      <td id=\"T_6d87d_row8_col2\" class=\"data row8 col2\" >0.795316</td>\n",
       "      <td id=\"T_6d87d_row8_col3\" class=\"data row8 col3\" >0.080353</td>\n",
       "      <td id=\"T_6d87d_row8_col4\" class=\"data row8 col4\" >0.893108</td>\n",
       "      <td id=\"T_6d87d_row8_col5\" class=\"data row8 col5\" >0.396331</td>\n",
       "      <td id=\"T_6d87d_row8_col6\" class=\"data row8 col6\" >-0.434557</td>\n",
       "    </tr>\n",
       "    <tr>\n",
       "      <th id=\"T_6d87d_level0_row9\" class=\"row_heading level0 row9\" >15-20WIN</th>\n",
       "      <td id=\"T_6d87d_row9_col0\" class=\"data row9 col0\" >0.600000</td>\n",
       "      <td id=\"T_6d87d_row9_col1\" class=\"data row9 col1\" >1.000000</td>\n",
       "      <td id=\"T_6d87d_row9_col2\" class=\"data row9 col2\" >0.600000</td>\n",
       "      <td id=\"T_6d87d_row9_col3\" class=\"data row9 col3\" >0.800000</td>\n",
       "      <td id=\"T_6d87d_row9_col4\" class=\"data row9 col4\" >0.800000</td>\n",
       "      <td id=\"T_6d87d_row9_col5\" class=\"data row9 col5\" >0.600000</td>\n",
       "      <td id=\"T_6d87d_row9_col6\" class=\"data row9 col6\" >0.600000</td>\n",
       "    </tr>\n",
       "  </tbody>\n",
       "</table>\n"
      ],
      "text/plain": [
       "<pandas.io.formats.style.Styler at 0x7f7de586fd90>"
      ]
     },
     "execution_count": 15,
     "metadata": {},
     "output_type": "execute_result"
    }
   ],
   "source": [
    "sty_report_info5 = report_info5.style.background_gradient(axis=0)\n",
    "sty_report_info5"
   ]
  },
  {
   "cell_type": "code",
   "execution_count": 16,
   "metadata": {
    "execution": {
     "iopub.execute_input": "2024-12-11T09:59:31.379258Z",
     "iopub.status.busy": "2024-12-11T09:59:31.378912Z",
     "iopub.status.idle": "2024-12-11T09:59:31.399702Z",
     "shell.execute_reply": "2024-12-11T09:59:31.398926Z"
    }
   },
   "outputs": [
    {
     "data": {
      "text/html": [
       "<style type=\"text/css\">\n",
       "#T_d2f2b_row0_col0 {\n",
       "  background-color: #d1d2e6;\n",
       "  color: #000000;\n",
       "}\n",
       "#T_d2f2b_row0_col1 {\n",
       "  background-color: #d0d1e6;\n",
       "  color: #000000;\n",
       "}\n",
       "#T_d2f2b_row0_col2 {\n",
       "  background-color: #acc0dd;\n",
       "  color: #000000;\n",
       "}\n",
       "#T_d2f2b_row0_col3 {\n",
       "  background-color: #167bb6;\n",
       "  color: #f1f1f1;\n",
       "}\n",
       "#T_d2f2b_row0_col4 {\n",
       "  background-color: #529bc7;\n",
       "  color: #f1f1f1;\n",
       "}\n",
       "#T_d2f2b_row0_col5, #T_d2f2b_row4_col0, #T_d2f2b_row4_col1, #T_d2f2b_row4_col2, #T_d2f2b_row4_col3, #T_d2f2b_row4_col4, #T_d2f2b_row4_col6 {\n",
       "  background-color: #fff7fb;\n",
       "  color: #000000;\n",
       "}\n",
       "#T_d2f2b_row0_col6, #T_d2f2b_row2_col0 {\n",
       "  background-color: #3f93c2;\n",
       "  color: #f1f1f1;\n",
       "}\n",
       "#T_d2f2b_row1_col0 {\n",
       "  background-color: #71a8ce;\n",
       "  color: #f1f1f1;\n",
       "}\n",
       "#T_d2f2b_row1_col1 {\n",
       "  background-color: #4e9ac6;\n",
       "  color: #f1f1f1;\n",
       "}\n",
       "#T_d2f2b_row1_col2, #T_d2f2b_row2_col1 {\n",
       "  background-color: #4c99c5;\n",
       "  color: #f1f1f1;\n",
       "}\n",
       "#T_d2f2b_row1_col3, #T_d2f2b_row1_col6 {\n",
       "  background-color: #04649e;\n",
       "  color: #f1f1f1;\n",
       "}\n",
       "#T_d2f2b_row1_col4 {\n",
       "  background-color: #056dab;\n",
       "  color: #f1f1f1;\n",
       "}\n",
       "#T_d2f2b_row1_col5 {\n",
       "  background-color: #84b0d3;\n",
       "  color: #f1f1f1;\n",
       "}\n",
       "#T_d2f2b_row2_col2, #T_d2f2b_row5_col0, #T_d2f2b_row5_col1, #T_d2f2b_row9_col0 {\n",
       "  background-color: #328dbf;\n",
       "  color: #f1f1f1;\n",
       "}\n",
       "#T_d2f2b_row2_col3 {\n",
       "  background-color: #0567a1;\n",
       "  color: #f1f1f1;\n",
       "}\n",
       "#T_d2f2b_row2_col4 {\n",
       "  background-color: #0771b1;\n",
       "  color: #f1f1f1;\n",
       "}\n",
       "#T_d2f2b_row2_col5 {\n",
       "  background-color: #adc1dd;\n",
       "  color: #000000;\n",
       "}\n",
       "#T_d2f2b_row2_col6 {\n",
       "  background-color: #0f76b3;\n",
       "  color: #f1f1f1;\n",
       "}\n",
       "#T_d2f2b_row3_col0 {\n",
       "  background-color: #b4c4df;\n",
       "  color: #000000;\n",
       "}\n",
       "#T_d2f2b_row3_col1 {\n",
       "  background-color: #93b5d6;\n",
       "  color: #000000;\n",
       "}\n",
       "#T_d2f2b_row3_col2 {\n",
       "  background-color: #4697c4;\n",
       "  color: #f1f1f1;\n",
       "}\n",
       "#T_d2f2b_row3_col3 {\n",
       "  background-color: #0569a5;\n",
       "  color: #f1f1f1;\n",
       "}\n",
       "#T_d2f2b_row3_col4 {\n",
       "  background-color: #2c89bd;\n",
       "  color: #f1f1f1;\n",
       "}\n",
       "#T_d2f2b_row3_col5 {\n",
       "  background-color: #cccfe5;\n",
       "  color: #000000;\n",
       "}\n",
       "#T_d2f2b_row3_col6 {\n",
       "  background-color: #056caa;\n",
       "  color: #f1f1f1;\n",
       "}\n",
       "#T_d2f2b_row4_col5 {\n",
       "  background-color: #9fbad9;\n",
       "  color: #000000;\n",
       "}\n",
       "#T_d2f2b_row5_col2, #T_d2f2b_row7_col3, #T_d2f2b_row7_col5, #T_d2f2b_row7_col6, #T_d2f2b_row8_col0, #T_d2f2b_row8_col4, #T_d2f2b_row9_col1, #T_d2f2b_row9_col3 {\n",
       "  background-color: #023858;\n",
       "  color: #f1f1f1;\n",
       "}\n",
       "#T_d2f2b_row5_col3 {\n",
       "  background-color: #3991c1;\n",
       "  color: #f1f1f1;\n",
       "}\n",
       "#T_d2f2b_row5_col4 {\n",
       "  background-color: #2383ba;\n",
       "  color: #f1f1f1;\n",
       "}\n",
       "#T_d2f2b_row5_col5 {\n",
       "  background-color: #d7d6e9;\n",
       "  color: #000000;\n",
       "}\n",
       "#T_d2f2b_row5_col6, #T_d2f2b_row9_col6 {\n",
       "  background-color: #04598c;\n",
       "  color: #f1f1f1;\n",
       "}\n",
       "#T_d2f2b_row6_col0 {\n",
       "  background-color: #f5eef6;\n",
       "  color: #000000;\n",
       "}\n",
       "#T_d2f2b_row6_col1 {\n",
       "  background-color: #63a2cb;\n",
       "  color: #f1f1f1;\n",
       "}\n",
       "#T_d2f2b_row6_col2 {\n",
       "  background-color: #e9e5f1;\n",
       "  color: #000000;\n",
       "}\n",
       "#T_d2f2b_row6_col3 {\n",
       "  background-color: #4295c3;\n",
       "  color: #f1f1f1;\n",
       "}\n",
       "#T_d2f2b_row6_col4 {\n",
       "  background-color: #94b6d7;\n",
       "  color: #000000;\n",
       "}\n",
       "#T_d2f2b_row6_col5 {\n",
       "  background-color: #bcc7e1;\n",
       "  color: #000000;\n",
       "}\n",
       "#T_d2f2b_row6_col6 {\n",
       "  background-color: #dddbec;\n",
       "  color: #000000;\n",
       "}\n",
       "#T_d2f2b_row7_col0 {\n",
       "  background-color: #a5bddb;\n",
       "  color: #000000;\n",
       "}\n",
       "#T_d2f2b_row7_col1 {\n",
       "  background-color: #04649d;\n",
       "  color: #f1f1f1;\n",
       "}\n",
       "#T_d2f2b_row7_col2 {\n",
       "  background-color: #86b0d3;\n",
       "  color: #000000;\n",
       "}\n",
       "#T_d2f2b_row7_col4, #T_d2f2b_row9_col4 {\n",
       "  background-color: #034871;\n",
       "  color: #f1f1f1;\n",
       "}\n",
       "#T_d2f2b_row8_col1 {\n",
       "  background-color: #509ac6;\n",
       "  color: #f1f1f1;\n",
       "}\n",
       "#T_d2f2b_row8_col2 {\n",
       "  background-color: #02395a;\n",
       "  color: #f1f1f1;\n",
       "}\n",
       "#T_d2f2b_row8_col3 {\n",
       "  background-color: #60a1ca;\n",
       "  color: #f1f1f1;\n",
       "}\n",
       "#T_d2f2b_row8_col5 {\n",
       "  background-color: #d8d7e9;\n",
       "  color: #000000;\n",
       "}\n",
       "#T_d2f2b_row8_col6 {\n",
       "  background-color: #d4d4e8;\n",
       "  color: #000000;\n",
       "}\n",
       "#T_d2f2b_row9_col2 {\n",
       "  background-color: #0d75b3;\n",
       "  color: #f1f1f1;\n",
       "}\n",
       "#T_d2f2b_row9_col5 {\n",
       "  background-color: #7bacd1;\n",
       "  color: #f1f1f1;\n",
       "}\n",
       "</style>\n",
       "<table id=\"T_d2f2b\">\n",
       "  <thead>\n",
       "    <tr>\n",
       "      <th class=\"blank level0\" >&nbsp;</th>\n",
       "      <th id=\"T_d2f2b_level0_col0\" class=\"col_heading level0 col0\" >GBDT0</th>\n",
       "      <th id=\"T_d2f2b_level0_col1\" class=\"col_heading level0 col1\" >GBDT1</th>\n",
       "      <th id=\"T_d2f2b_level0_col2\" class=\"col_heading level0 col2\" >GBDT2</th>\n",
       "      <th id=\"T_d2f2b_level0_col3\" class=\"col_heading level0 col3\" >GBDT4</th>\n",
       "      <th id=\"T_d2f2b_level0_col4\" class=\"col_heading level0 col4\" >GBDT6</th>\n",
       "      <th id=\"T_d2f2b_level0_col5\" class=\"col_heading level0 col5\" >GBDT8</th>\n",
       "      <th id=\"T_d2f2b_level0_col6\" class=\"col_heading level0 col6\" >GBDT10</th>\n",
       "    </tr>\n",
       "  </thead>\n",
       "  <tbody>\n",
       "    <tr>\n",
       "      <th id=\"T_d2f2b_level0_row0\" class=\"row_heading level0 row0\" >TOP20IC</th>\n",
       "      <td id=\"T_d2f2b_row0_col0\" class=\"data row0 col0\" >0.300980</td>\n",
       "      <td id=\"T_d2f2b_row0_col1\" class=\"data row0 col1\" >0.177116</td>\n",
       "      <td id=\"T_d2f2b_row0_col2\" class=\"data row0 col2\" >0.328541</td>\n",
       "      <td id=\"T_d2f2b_row0_col3\" class=\"data row0 col3\" >0.337494</td>\n",
       "      <td id=\"T_d2f2b_row0_col4\" class=\"data row0 col4\" >0.238341</td>\n",
       "      <td id=\"T_d2f2b_row0_col5\" class=\"data row0 col5\" >0.229248</td>\n",
       "      <td id=\"T_d2f2b_row0_col6\" class=\"data row0 col6\" >0.164809</td>\n",
       "    </tr>\n",
       "    <tr>\n",
       "      <th id=\"T_d2f2b_level0_row1\" class=\"row_heading level0 row1\" >TOP20WIN</th>\n",
       "      <td id=\"T_d2f2b_row1_col0\" class=\"data row1 col0\" >0.500000</td>\n",
       "      <td id=\"T_d2f2b_row1_col1\" class=\"data row1 col1\" >0.533333</td>\n",
       "      <td id=\"T_d2f2b_row1_col2\" class=\"data row1 col2\" >0.491667</td>\n",
       "      <td id=\"T_d2f2b_row1_col3\" class=\"data row1 col3\" >0.508333</td>\n",
       "      <td id=\"T_d2f2b_row1_col4\" class=\"data row1 col4\" >0.541667</td>\n",
       "      <td id=\"T_d2f2b_row1_col5\" class=\"data row1 col5\" >0.583333</td>\n",
       "      <td id=\"T_d2f2b_row1_col6\" class=\"data row1 col6\" >0.500000</td>\n",
       "    </tr>\n",
       "    <tr>\n",
       "      <th id=\"T_d2f2b_level0_row2\" class=\"row_heading level0 row2\" >0-5IC</th>\n",
       "      <td id=\"T_d2f2b_row2_col0\" class=\"data row2 col0\" >0.580581</td>\n",
       "      <td id=\"T_d2f2b_row2_col1\" class=\"data row2 col1\" >0.537463</td>\n",
       "      <td id=\"T_d2f2b_row2_col2\" class=\"data row2 col2\" >0.531537</td>\n",
       "      <td id=\"T_d2f2b_row2_col3\" class=\"data row2 col3\" >0.490091</td>\n",
       "      <td id=\"T_d2f2b_row2_col4\" class=\"data row2 col4\" >0.506677</td>\n",
       "      <td id=\"T_d2f2b_row2_col5\" class=\"data row2 col5\" >0.501410</td>\n",
       "      <td id=\"T_d2f2b_row2_col6\" class=\"data row2 col6\" >0.354426</td>\n",
       "    </tr>\n",
       "    <tr>\n",
       "      <th id=\"T_d2f2b_level0_row3\" class=\"row_heading level0 row3\" >0-5WIN</th>\n",
       "      <td id=\"T_d2f2b_row3_col0\" class=\"data row3 col0\" >0.366667</td>\n",
       "      <td id=\"T_d2f2b_row3_col1\" class=\"data row3 col1\" >0.366667</td>\n",
       "      <td id=\"T_d2f2b_row3_col2\" class=\"data row3 col2\" >0.500000</td>\n",
       "      <td id=\"T_d2f2b_row3_col3\" class=\"data row3 col3\" >0.466667</td>\n",
       "      <td id=\"T_d2f2b_row3_col4\" class=\"data row3 col4\" >0.366667</td>\n",
       "      <td id=\"T_d2f2b_row3_col5\" class=\"data row3 col5\" >0.433333</td>\n",
       "      <td id=\"T_d2f2b_row3_col6\" class=\"data row3 col6\" >0.433333</td>\n",
       "    </tr>\n",
       "    <tr>\n",
       "      <th id=\"T_d2f2b_level0_row4\" class=\"row_heading level0 row4\" >5-10IC</th>\n",
       "      <td id=\"T_d2f2b_row4_col0\" class=\"data row4 col0\" >0.108726</td>\n",
       "      <td id=\"T_d2f2b_row4_col1\" class=\"data row4 col1\" >-0.097320</td>\n",
       "      <td id=\"T_d2f2b_row4_col2\" class=\"data row4 col2\" >0.067952</td>\n",
       "      <td id=\"T_d2f2b_row4_col3\" class=\"data row4 col3\" >-0.774278</td>\n",
       "      <td id=\"T_d2f2b_row4_col4\" class=\"data row4 col4\" >-0.618396</td>\n",
       "      <td id=\"T_d2f2b_row4_col5\" class=\"data row4 col5\" >0.532151</td>\n",
       "      <td id=\"T_d2f2b_row4_col6\" class=\"data row4 col6\" >-0.810227</td>\n",
       "    </tr>\n",
       "    <tr>\n",
       "      <th id=\"T_d2f2b_level0_row5\" class=\"row_heading level0 row5\" >5-10WIN</th>\n",
       "      <td id=\"T_d2f2b_row5_col0\" class=\"data row5 col0\" >0.600000</td>\n",
       "      <td id=\"T_d2f2b_row5_col1\" class=\"data row5 col1\" >0.600000</td>\n",
       "      <td id=\"T_d2f2b_row5_col2\" class=\"data row5 col2\" >0.800000</td>\n",
       "      <td id=\"T_d2f2b_row5_col3\" class=\"data row5 col3\" >0.200000</td>\n",
       "      <td id=\"T_d2f2b_row5_col4\" class=\"data row5 col4\" >0.400000</td>\n",
       "      <td id=\"T_d2f2b_row5_col5\" class=\"data row5 col5\" >0.400000</td>\n",
       "      <td id=\"T_d2f2b_row5_col6\" class=\"data row5 col6\" >0.600000</td>\n",
       "    </tr>\n",
       "    <tr>\n",
       "      <th id=\"T_d2f2b_level0_row6\" class=\"row_heading level0 row6\" >10-15IC</th>\n",
       "      <td id=\"T_d2f2b_row6_col0\" class=\"data row6 col0\" >0.163235</td>\n",
       "      <td id=\"T_d2f2b_row6_col1\" class=\"data row6 col1\" >0.485844</td>\n",
       "      <td id=\"T_d2f2b_row6_col2\" class=\"data row6 col2\" >0.168397</td>\n",
       "      <td id=\"T_d2f2b_row6_col3\" class=\"data row6 col3\" >0.169377</td>\n",
       "      <td id=\"T_d2f2b_row6_col4\" class=\"data row6 col4\" >0.014806</td>\n",
       "      <td id=\"T_d2f2b_row6_col5\" class=\"data row6 col5\" >0.469000</td>\n",
       "      <td id=\"T_d2f2b_row6_col6\" class=\"data row6 col6\" >-0.499942</td>\n",
       "    </tr>\n",
       "    <tr>\n",
       "      <th id=\"T_d2f2b_level0_row7\" class=\"row_heading level0 row7\" >10-15WIN</th>\n",
       "      <td id=\"T_d2f2b_row7_col0\" class=\"data row7 col0\" >0.400000</td>\n",
       "      <td id=\"T_d2f2b_row7_col1\" class=\"data row7 col1\" >0.800000</td>\n",
       "      <td id=\"T_d2f2b_row7_col2\" class=\"data row7 col2\" >0.400000</td>\n",
       "      <td id=\"T_d2f2b_row7_col3\" class=\"data row7 col3\" >0.800000</td>\n",
       "      <td id=\"T_d2f2b_row7_col4\" class=\"data row7 col4\" >0.800000</td>\n",
       "      <td id=\"T_d2f2b_row7_col5\" class=\"data row7 col5\" >1.000000</td>\n",
       "      <td id=\"T_d2f2b_row7_col6\" class=\"data row7 col6\" >0.800000</td>\n",
       "    </tr>\n",
       "    <tr>\n",
       "      <th id=\"T_d2f2b_level0_row8\" class=\"row_heading level0 row8\" >15-20C</th>\n",
       "      <td id=\"T_d2f2b_row8_col0\" class=\"data row8 col0\" >0.884893</td>\n",
       "      <td id=\"T_d2f2b_row8_col1\" class=\"data row8 col1\" >0.531707</td>\n",
       "      <td id=\"T_d2f2b_row8_col2\" class=\"data row8 col2\" >0.795316</td>\n",
       "      <td id=\"T_d2f2b_row8_col3\" class=\"data row8 col3\" >0.080353</td>\n",
       "      <td id=\"T_d2f2b_row8_col4\" class=\"data row8 col4\" >0.893108</td>\n",
       "      <td id=\"T_d2f2b_row8_col5\" class=\"data row8 col5\" >0.396331</td>\n",
       "      <td id=\"T_d2f2b_row8_col6\" class=\"data row8 col6\" >-0.434557</td>\n",
       "    </tr>\n",
       "    <tr>\n",
       "      <th id=\"T_d2f2b_level0_row9\" class=\"row_heading level0 row9\" >15-20WIN</th>\n",
       "      <td id=\"T_d2f2b_row9_col0\" class=\"data row9 col0\" >0.600000</td>\n",
       "      <td id=\"T_d2f2b_row9_col1\" class=\"data row9 col1\" >1.000000</td>\n",
       "      <td id=\"T_d2f2b_row9_col2\" class=\"data row9 col2\" >0.600000</td>\n",
       "      <td id=\"T_d2f2b_row9_col3\" class=\"data row9 col3\" >0.800000</td>\n",
       "      <td id=\"T_d2f2b_row9_col4\" class=\"data row9 col4\" >0.800000</td>\n",
       "      <td id=\"T_d2f2b_row9_col5\" class=\"data row9 col5\" >0.600000</td>\n",
       "      <td id=\"T_d2f2b_row9_col6\" class=\"data row9 col6\" >0.600000</td>\n",
       "    </tr>\n",
       "  </tbody>\n",
       "</table>\n"
      ],
      "text/plain": [
       "<pandas.io.formats.style.Styler at 0x7f7dd718dfa0>"
      ]
     },
     "execution_count": 16,
     "metadata": {},
     "output_type": "execute_result"
    }
   ],
   "source": [
    "sty_report_info10 = report_info10.style.background_gradient(axis=0)\n",
    "sty_report_info10"
   ]
  },
  {
   "cell_type": "code",
   "execution_count": 17,
   "metadata": {
    "execution": {
     "iopub.execute_input": "2024-12-11T09:59:31.403083Z",
     "iopub.status.busy": "2024-12-11T09:59:31.402675Z",
     "iopub.status.idle": "2024-12-11T09:59:31.423097Z",
     "shell.execute_reply": "2024-12-11T09:59:31.422372Z"
    }
   },
   "outputs": [
    {
     "data": {
      "text/html": [
       "<style type=\"text/css\">\n",
       "#T_38127_row0_col0 {\n",
       "  background-color: #d1d2e6;\n",
       "  color: #000000;\n",
       "}\n",
       "#T_38127_row0_col1 {\n",
       "  background-color: #d0d1e6;\n",
       "  color: #000000;\n",
       "}\n",
       "#T_38127_row0_col2 {\n",
       "  background-color: #acc0dd;\n",
       "  color: #000000;\n",
       "}\n",
       "#T_38127_row0_col3 {\n",
       "  background-color: #167bb6;\n",
       "  color: #f1f1f1;\n",
       "}\n",
       "#T_38127_row0_col4 {\n",
       "  background-color: #529bc7;\n",
       "  color: #f1f1f1;\n",
       "}\n",
       "#T_38127_row0_col5, #T_38127_row4_col0, #T_38127_row4_col1, #T_38127_row4_col2, #T_38127_row4_col3, #T_38127_row4_col4, #T_38127_row4_col6 {\n",
       "  background-color: #fff7fb;\n",
       "  color: #000000;\n",
       "}\n",
       "#T_38127_row0_col6, #T_38127_row2_col0 {\n",
       "  background-color: #3f93c2;\n",
       "  color: #f1f1f1;\n",
       "}\n",
       "#T_38127_row1_col0 {\n",
       "  background-color: #71a8ce;\n",
       "  color: #f1f1f1;\n",
       "}\n",
       "#T_38127_row1_col1 {\n",
       "  background-color: #4e9ac6;\n",
       "  color: #f1f1f1;\n",
       "}\n",
       "#T_38127_row1_col2, #T_38127_row2_col1 {\n",
       "  background-color: #4c99c5;\n",
       "  color: #f1f1f1;\n",
       "}\n",
       "#T_38127_row1_col3, #T_38127_row1_col6 {\n",
       "  background-color: #04649e;\n",
       "  color: #f1f1f1;\n",
       "}\n",
       "#T_38127_row1_col4 {\n",
       "  background-color: #056dab;\n",
       "  color: #f1f1f1;\n",
       "}\n",
       "#T_38127_row1_col5 {\n",
       "  background-color: #84b0d3;\n",
       "  color: #f1f1f1;\n",
       "}\n",
       "#T_38127_row2_col2, #T_38127_row5_col0, #T_38127_row5_col1, #T_38127_row9_col0 {\n",
       "  background-color: #328dbf;\n",
       "  color: #f1f1f1;\n",
       "}\n",
       "#T_38127_row2_col3 {\n",
       "  background-color: #0567a1;\n",
       "  color: #f1f1f1;\n",
       "}\n",
       "#T_38127_row2_col4 {\n",
       "  background-color: #0771b1;\n",
       "  color: #f1f1f1;\n",
       "}\n",
       "#T_38127_row2_col5 {\n",
       "  background-color: #adc1dd;\n",
       "  color: #000000;\n",
       "}\n",
       "#T_38127_row2_col6 {\n",
       "  background-color: #0f76b3;\n",
       "  color: #f1f1f1;\n",
       "}\n",
       "#T_38127_row3_col0 {\n",
       "  background-color: #b4c4df;\n",
       "  color: #000000;\n",
       "}\n",
       "#T_38127_row3_col1 {\n",
       "  background-color: #93b5d6;\n",
       "  color: #000000;\n",
       "}\n",
       "#T_38127_row3_col2 {\n",
       "  background-color: #4697c4;\n",
       "  color: #f1f1f1;\n",
       "}\n",
       "#T_38127_row3_col3 {\n",
       "  background-color: #0569a5;\n",
       "  color: #f1f1f1;\n",
       "}\n",
       "#T_38127_row3_col4 {\n",
       "  background-color: #2c89bd;\n",
       "  color: #f1f1f1;\n",
       "}\n",
       "#T_38127_row3_col5 {\n",
       "  background-color: #cccfe5;\n",
       "  color: #000000;\n",
       "}\n",
       "#T_38127_row3_col6 {\n",
       "  background-color: #056caa;\n",
       "  color: #f1f1f1;\n",
       "}\n",
       "#T_38127_row4_col5 {\n",
       "  background-color: #9fbad9;\n",
       "  color: #000000;\n",
       "}\n",
       "#T_38127_row5_col2, #T_38127_row7_col3, #T_38127_row7_col5, #T_38127_row7_col6, #T_38127_row8_col0, #T_38127_row8_col4, #T_38127_row9_col1, #T_38127_row9_col3 {\n",
       "  background-color: #023858;\n",
       "  color: #f1f1f1;\n",
       "}\n",
       "#T_38127_row5_col3 {\n",
       "  background-color: #3991c1;\n",
       "  color: #f1f1f1;\n",
       "}\n",
       "#T_38127_row5_col4 {\n",
       "  background-color: #2383ba;\n",
       "  color: #f1f1f1;\n",
       "}\n",
       "#T_38127_row5_col5 {\n",
       "  background-color: #d7d6e9;\n",
       "  color: #000000;\n",
       "}\n",
       "#T_38127_row5_col6, #T_38127_row9_col6 {\n",
       "  background-color: #04598c;\n",
       "  color: #f1f1f1;\n",
       "}\n",
       "#T_38127_row6_col0 {\n",
       "  background-color: #f5eef6;\n",
       "  color: #000000;\n",
       "}\n",
       "#T_38127_row6_col1 {\n",
       "  background-color: #63a2cb;\n",
       "  color: #f1f1f1;\n",
       "}\n",
       "#T_38127_row6_col2 {\n",
       "  background-color: #e9e5f1;\n",
       "  color: #000000;\n",
       "}\n",
       "#T_38127_row6_col3 {\n",
       "  background-color: #4295c3;\n",
       "  color: #f1f1f1;\n",
       "}\n",
       "#T_38127_row6_col4 {\n",
       "  background-color: #94b6d7;\n",
       "  color: #000000;\n",
       "}\n",
       "#T_38127_row6_col5 {\n",
       "  background-color: #bcc7e1;\n",
       "  color: #000000;\n",
       "}\n",
       "#T_38127_row6_col6 {\n",
       "  background-color: #dddbec;\n",
       "  color: #000000;\n",
       "}\n",
       "#T_38127_row7_col0 {\n",
       "  background-color: #a5bddb;\n",
       "  color: #000000;\n",
       "}\n",
       "#T_38127_row7_col1 {\n",
       "  background-color: #04649d;\n",
       "  color: #f1f1f1;\n",
       "}\n",
       "#T_38127_row7_col2 {\n",
       "  background-color: #86b0d3;\n",
       "  color: #000000;\n",
       "}\n",
       "#T_38127_row7_col4, #T_38127_row9_col4 {\n",
       "  background-color: #034871;\n",
       "  color: #f1f1f1;\n",
       "}\n",
       "#T_38127_row8_col1 {\n",
       "  background-color: #509ac6;\n",
       "  color: #f1f1f1;\n",
       "}\n",
       "#T_38127_row8_col2 {\n",
       "  background-color: #02395a;\n",
       "  color: #f1f1f1;\n",
       "}\n",
       "#T_38127_row8_col3 {\n",
       "  background-color: #60a1ca;\n",
       "  color: #f1f1f1;\n",
       "}\n",
       "#T_38127_row8_col5 {\n",
       "  background-color: #d8d7e9;\n",
       "  color: #000000;\n",
       "}\n",
       "#T_38127_row8_col6 {\n",
       "  background-color: #d4d4e8;\n",
       "  color: #000000;\n",
       "}\n",
       "#T_38127_row9_col2 {\n",
       "  background-color: #0d75b3;\n",
       "  color: #f1f1f1;\n",
       "}\n",
       "#T_38127_row9_col5 {\n",
       "  background-color: #7bacd1;\n",
       "  color: #f1f1f1;\n",
       "}\n",
       "</style>\n",
       "<table id=\"T_38127\">\n",
       "  <thead>\n",
       "    <tr>\n",
       "      <th class=\"blank level0\" >&nbsp;</th>\n",
       "      <th id=\"T_38127_level0_col0\" class=\"col_heading level0 col0\" >GBDT0</th>\n",
       "      <th id=\"T_38127_level0_col1\" class=\"col_heading level0 col1\" >GBDT1</th>\n",
       "      <th id=\"T_38127_level0_col2\" class=\"col_heading level0 col2\" >GBDT2</th>\n",
       "      <th id=\"T_38127_level0_col3\" class=\"col_heading level0 col3\" >GBDT4</th>\n",
       "      <th id=\"T_38127_level0_col4\" class=\"col_heading level0 col4\" >GBDT6</th>\n",
       "      <th id=\"T_38127_level0_col5\" class=\"col_heading level0 col5\" >GBDT8</th>\n",
       "      <th id=\"T_38127_level0_col6\" class=\"col_heading level0 col6\" >GBDT10</th>\n",
       "    </tr>\n",
       "  </thead>\n",
       "  <tbody>\n",
       "    <tr>\n",
       "      <th id=\"T_38127_level0_row0\" class=\"row_heading level0 row0\" >TOP20IC</th>\n",
       "      <td id=\"T_38127_row0_col0\" class=\"data row0 col0\" >0.300980</td>\n",
       "      <td id=\"T_38127_row0_col1\" class=\"data row0 col1\" >0.177116</td>\n",
       "      <td id=\"T_38127_row0_col2\" class=\"data row0 col2\" >0.328541</td>\n",
       "      <td id=\"T_38127_row0_col3\" class=\"data row0 col3\" >0.337494</td>\n",
       "      <td id=\"T_38127_row0_col4\" class=\"data row0 col4\" >0.238341</td>\n",
       "      <td id=\"T_38127_row0_col5\" class=\"data row0 col5\" >0.229248</td>\n",
       "      <td id=\"T_38127_row0_col6\" class=\"data row0 col6\" >0.164809</td>\n",
       "    </tr>\n",
       "    <tr>\n",
       "      <th id=\"T_38127_level0_row1\" class=\"row_heading level0 row1\" >TOP20WIN</th>\n",
       "      <td id=\"T_38127_row1_col0\" class=\"data row1 col0\" >0.500000</td>\n",
       "      <td id=\"T_38127_row1_col1\" class=\"data row1 col1\" >0.533333</td>\n",
       "      <td id=\"T_38127_row1_col2\" class=\"data row1 col2\" >0.491667</td>\n",
       "      <td id=\"T_38127_row1_col3\" class=\"data row1 col3\" >0.508333</td>\n",
       "      <td id=\"T_38127_row1_col4\" class=\"data row1 col4\" >0.541667</td>\n",
       "      <td id=\"T_38127_row1_col5\" class=\"data row1 col5\" >0.583333</td>\n",
       "      <td id=\"T_38127_row1_col6\" class=\"data row1 col6\" >0.500000</td>\n",
       "    </tr>\n",
       "    <tr>\n",
       "      <th id=\"T_38127_level0_row2\" class=\"row_heading level0 row2\" >0-5IC</th>\n",
       "      <td id=\"T_38127_row2_col0\" class=\"data row2 col0\" >0.580581</td>\n",
       "      <td id=\"T_38127_row2_col1\" class=\"data row2 col1\" >0.537463</td>\n",
       "      <td id=\"T_38127_row2_col2\" class=\"data row2 col2\" >0.531537</td>\n",
       "      <td id=\"T_38127_row2_col3\" class=\"data row2 col3\" >0.490091</td>\n",
       "      <td id=\"T_38127_row2_col4\" class=\"data row2 col4\" >0.506677</td>\n",
       "      <td id=\"T_38127_row2_col5\" class=\"data row2 col5\" >0.501410</td>\n",
       "      <td id=\"T_38127_row2_col6\" class=\"data row2 col6\" >0.354426</td>\n",
       "    </tr>\n",
       "    <tr>\n",
       "      <th id=\"T_38127_level0_row3\" class=\"row_heading level0 row3\" >0-5WIN</th>\n",
       "      <td id=\"T_38127_row3_col0\" class=\"data row3 col0\" >0.366667</td>\n",
       "      <td id=\"T_38127_row3_col1\" class=\"data row3 col1\" >0.366667</td>\n",
       "      <td id=\"T_38127_row3_col2\" class=\"data row3 col2\" >0.500000</td>\n",
       "      <td id=\"T_38127_row3_col3\" class=\"data row3 col3\" >0.466667</td>\n",
       "      <td id=\"T_38127_row3_col4\" class=\"data row3 col4\" >0.366667</td>\n",
       "      <td id=\"T_38127_row3_col5\" class=\"data row3 col5\" >0.433333</td>\n",
       "      <td id=\"T_38127_row3_col6\" class=\"data row3 col6\" >0.433333</td>\n",
       "    </tr>\n",
       "    <tr>\n",
       "      <th id=\"T_38127_level0_row4\" class=\"row_heading level0 row4\" >5-10IC</th>\n",
       "      <td id=\"T_38127_row4_col0\" class=\"data row4 col0\" >0.108726</td>\n",
       "      <td id=\"T_38127_row4_col1\" class=\"data row4 col1\" >-0.097320</td>\n",
       "      <td id=\"T_38127_row4_col2\" class=\"data row4 col2\" >0.067952</td>\n",
       "      <td id=\"T_38127_row4_col3\" class=\"data row4 col3\" >-0.774278</td>\n",
       "      <td id=\"T_38127_row4_col4\" class=\"data row4 col4\" >-0.618396</td>\n",
       "      <td id=\"T_38127_row4_col5\" class=\"data row4 col5\" >0.532151</td>\n",
       "      <td id=\"T_38127_row4_col6\" class=\"data row4 col6\" >-0.810227</td>\n",
       "    </tr>\n",
       "    <tr>\n",
       "      <th id=\"T_38127_level0_row5\" class=\"row_heading level0 row5\" >5-10WIN</th>\n",
       "      <td id=\"T_38127_row5_col0\" class=\"data row5 col0\" >0.600000</td>\n",
       "      <td id=\"T_38127_row5_col1\" class=\"data row5 col1\" >0.600000</td>\n",
       "      <td id=\"T_38127_row5_col2\" class=\"data row5 col2\" >0.800000</td>\n",
       "      <td id=\"T_38127_row5_col3\" class=\"data row5 col3\" >0.200000</td>\n",
       "      <td id=\"T_38127_row5_col4\" class=\"data row5 col4\" >0.400000</td>\n",
       "      <td id=\"T_38127_row5_col5\" class=\"data row5 col5\" >0.400000</td>\n",
       "      <td id=\"T_38127_row5_col6\" class=\"data row5 col6\" >0.600000</td>\n",
       "    </tr>\n",
       "    <tr>\n",
       "      <th id=\"T_38127_level0_row6\" class=\"row_heading level0 row6\" >10-15IC</th>\n",
       "      <td id=\"T_38127_row6_col0\" class=\"data row6 col0\" >0.163235</td>\n",
       "      <td id=\"T_38127_row6_col1\" class=\"data row6 col1\" >0.485844</td>\n",
       "      <td id=\"T_38127_row6_col2\" class=\"data row6 col2\" >0.168397</td>\n",
       "      <td id=\"T_38127_row6_col3\" class=\"data row6 col3\" >0.169377</td>\n",
       "      <td id=\"T_38127_row6_col4\" class=\"data row6 col4\" >0.014806</td>\n",
       "      <td id=\"T_38127_row6_col5\" class=\"data row6 col5\" >0.469000</td>\n",
       "      <td id=\"T_38127_row6_col6\" class=\"data row6 col6\" >-0.499942</td>\n",
       "    </tr>\n",
       "    <tr>\n",
       "      <th id=\"T_38127_level0_row7\" class=\"row_heading level0 row7\" >10-15WIN</th>\n",
       "      <td id=\"T_38127_row7_col0\" class=\"data row7 col0\" >0.400000</td>\n",
       "      <td id=\"T_38127_row7_col1\" class=\"data row7 col1\" >0.800000</td>\n",
       "      <td id=\"T_38127_row7_col2\" class=\"data row7 col2\" >0.400000</td>\n",
       "      <td id=\"T_38127_row7_col3\" class=\"data row7 col3\" >0.800000</td>\n",
       "      <td id=\"T_38127_row7_col4\" class=\"data row7 col4\" >0.800000</td>\n",
       "      <td id=\"T_38127_row7_col5\" class=\"data row7 col5\" >1.000000</td>\n",
       "      <td id=\"T_38127_row7_col6\" class=\"data row7 col6\" >0.800000</td>\n",
       "    </tr>\n",
       "    <tr>\n",
       "      <th id=\"T_38127_level0_row8\" class=\"row_heading level0 row8\" >15-20C</th>\n",
       "      <td id=\"T_38127_row8_col0\" class=\"data row8 col0\" >0.884893</td>\n",
       "      <td id=\"T_38127_row8_col1\" class=\"data row8 col1\" >0.531707</td>\n",
       "      <td id=\"T_38127_row8_col2\" class=\"data row8 col2\" >0.795316</td>\n",
       "      <td id=\"T_38127_row8_col3\" class=\"data row8 col3\" >0.080353</td>\n",
       "      <td id=\"T_38127_row8_col4\" class=\"data row8 col4\" >0.893108</td>\n",
       "      <td id=\"T_38127_row8_col5\" class=\"data row8 col5\" >0.396331</td>\n",
       "      <td id=\"T_38127_row8_col6\" class=\"data row8 col6\" >-0.434557</td>\n",
       "    </tr>\n",
       "    <tr>\n",
       "      <th id=\"T_38127_level0_row9\" class=\"row_heading level0 row9\" >15-20WIN</th>\n",
       "      <td id=\"T_38127_row9_col0\" class=\"data row9 col0\" >0.600000</td>\n",
       "      <td id=\"T_38127_row9_col1\" class=\"data row9 col1\" >1.000000</td>\n",
       "      <td id=\"T_38127_row9_col2\" class=\"data row9 col2\" >0.600000</td>\n",
       "      <td id=\"T_38127_row9_col3\" class=\"data row9 col3\" >0.800000</td>\n",
       "      <td id=\"T_38127_row9_col4\" class=\"data row9 col4\" >0.800000</td>\n",
       "      <td id=\"T_38127_row9_col5\" class=\"data row9 col5\" >0.600000</td>\n",
       "      <td id=\"T_38127_row9_col6\" class=\"data row9 col6\" >0.600000</td>\n",
       "    </tr>\n",
       "  </tbody>\n",
       "</table>\n"
      ],
      "text/plain": [
       "<pandas.io.formats.style.Styler at 0x7f7dd718d910>"
      ]
     },
     "execution_count": 17,
     "metadata": {},
     "output_type": "execute_result"
    }
   ],
   "source": [
    "sty_report_info20 = report_info20.style.background_gradient(axis=0)\n",
    "sty_report_info20"
   ]
  },
  {
   "cell_type": "code",
   "execution_count": 18,
   "metadata": {
    "execution": {
     "iopub.execute_input": "2024-12-11T09:59:31.427081Z",
     "iopub.status.busy": "2024-12-11T09:59:31.426879Z",
     "iopub.status.idle": "2024-12-11T09:59:31.430955Z",
     "shell.execute_reply": "2024-12-11T09:59:31.430225Z"
    }
   },
   "outputs": [],
   "source": [
    "color_lst = [n for n in report_pos.columns if n not in ['close']]\n",
    "# color_lst"
   ]
  },
  {
   "cell_type": "code",
   "execution_count": 19,
   "metadata": {
    "execution": {
     "iopub.execute_input": "2024-12-11T09:59:31.434825Z",
     "iopub.status.busy": "2024-12-11T09:59:31.434411Z",
     "iopub.status.idle": "2024-12-11T09:59:31.458206Z",
     "shell.execute_reply": "2024-12-11T09:59:31.457449Z"
    }
   },
   "outputs": [
    {
     "data": {
      "text/html": [
       "<style type=\"text/css\">\n",
       "#T_d153d_row0_col0 {\n",
       "  background-color: #084f99;\n",
       "  color: #f1f1f1;\n",
       "}\n",
       "#T_d153d_row0_col1, #T_d153d_row0_col8, #T_d153d_row3_col4, #T_d153d_row4_col0, #T_d153d_row4_col2, #T_d153d_row4_col3, #T_d153d_row4_col5, #T_d153d_row4_col6, #T_d153d_row4_col7, #T_d153d_row4_col9 {\n",
       "  background-color: #f7fbff;\n",
       "  color: #000000;\n",
       "}\n",
       "#T_d153d_row0_col2, #T_d153d_row0_col3, #T_d153d_row0_col4, #T_d153d_row0_col5, #T_d153d_row0_col7, #T_d153d_row0_col9, #T_d153d_row1_col0, #T_d153d_row1_col1, #T_d153d_row1_col6, #T_d153d_row4_col8 {\n",
       "  background-color: #08306b;\n",
       "  color: #f1f1f1;\n",
       "}\n",
       "#T_d153d_row0_col6 {\n",
       "  background-color: #084387;\n",
       "  color: #f1f1f1;\n",
       "}\n",
       "#T_d153d_row1_col2 {\n",
       "  background-color: #4191c6;\n",
       "  color: #f1f1f1;\n",
       "}\n",
       "#T_d153d_row1_col3 {\n",
       "  background-color: #125ea6;\n",
       "  color: #f1f1f1;\n",
       "}\n",
       "#T_d153d_row1_col4 {\n",
       "  background-color: #3888c1;\n",
       "  color: #f1f1f1;\n",
       "}\n",
       "#T_d153d_row1_col5 {\n",
       "  background-color: #115ca5;\n",
       "  color: #f1f1f1;\n",
       "}\n",
       "#T_d153d_row1_col7 {\n",
       "  background-color: #083979;\n",
       "  color: #f1f1f1;\n",
       "}\n",
       "#T_d153d_row1_col8 {\n",
       "  background-color: #caddf0;\n",
       "  color: #000000;\n",
       "}\n",
       "#T_d153d_row1_col9 {\n",
       "  background-color: #084990;\n",
       "  color: #f1f1f1;\n",
       "}\n",
       "#T_d153d_row2_col0 {\n",
       "  background-color: #0f5aa3;\n",
       "  color: #f1f1f1;\n",
       "}\n",
       "#T_d153d_row2_col1 {\n",
       "  background-color: #92c4de;\n",
       "  color: #000000;\n",
       "}\n",
       "#T_d153d_row2_col2 {\n",
       "  background-color: #64a9d3;\n",
       "  color: #f1f1f1;\n",
       "}\n",
       "#T_d153d_row2_col3 {\n",
       "  background-color: #3484bf;\n",
       "  color: #f1f1f1;\n",
       "}\n",
       "#T_d153d_row2_col4 {\n",
       "  background-color: #5aa2cf;\n",
       "  color: #f1f1f1;\n",
       "}\n",
       "#T_d153d_row2_col5 {\n",
       "  background-color: #1460a8;\n",
       "  color: #f1f1f1;\n",
       "}\n",
       "#T_d153d_row2_col6 {\n",
       "  background-color: #4493c7;\n",
       "  color: #f1f1f1;\n",
       "}\n",
       "#T_d153d_row2_col7 {\n",
       "  background-color: #2f7fbc;\n",
       "  color: #f1f1f1;\n",
       "}\n",
       "#T_d153d_row2_col8 {\n",
       "  background-color: #63a8d3;\n",
       "  color: #f1f1f1;\n",
       "}\n",
       "#T_d153d_row2_col9 {\n",
       "  background-color: #3282be;\n",
       "  color: #f1f1f1;\n",
       "}\n",
       "#T_d153d_row3_col0 {\n",
       "  background-color: #dce9f6;\n",
       "  color: #000000;\n",
       "}\n",
       "#T_d153d_row3_col1 {\n",
       "  background-color: #a4cce3;\n",
       "  color: #000000;\n",
       "}\n",
       "#T_d153d_row3_col2 {\n",
       "  background-color: #eaf2fb;\n",
       "  color: #000000;\n",
       "}\n",
       "#T_d153d_row3_col3 {\n",
       "  background-color: #ccdff1;\n",
       "  color: #000000;\n",
       "}\n",
       "#T_d153d_row3_col5 {\n",
       "  background-color: #f5fafe;\n",
       "  color: #000000;\n",
       "}\n",
       "#T_d153d_row3_col6 {\n",
       "  background-color: #b5d4e9;\n",
       "  color: #000000;\n",
       "}\n",
       "#T_d153d_row3_col7 {\n",
       "  background-color: #d8e7f5;\n",
       "  color: #000000;\n",
       "}\n",
       "#T_d153d_row3_col8 {\n",
       "  background-color: #08519c;\n",
       "  color: #f1f1f1;\n",
       "}\n",
       "#T_d153d_row3_col9 {\n",
       "  background-color: #dbe9f6;\n",
       "  color: #000000;\n",
       "}\n",
       "#T_d153d_row4_col1 {\n",
       "  background-color: #afd1e7;\n",
       "  color: #000000;\n",
       "}\n",
       "#T_d153d_row4_col4 {\n",
       "  background-color: #c1d9ed;\n",
       "  color: #000000;\n",
       "}\n",
       "</style>\n",
       "<table id=\"T_d153d\">\n",
       "  <thead>\n",
       "    <tr>\n",
       "      <th class=\"blank level0\" >&nbsp;</th>\n",
       "      <th id=\"T_d153d_level0_col0\" class=\"col_heading level0 col0\" >GBDT0</th>\n",
       "      <th id=\"T_d153d_level0_col1\" class=\"col_heading level0 col1\" >GBDT1</th>\n",
       "      <th id=\"T_d153d_level0_col2\" class=\"col_heading level0 col2\" >GBDT2</th>\n",
       "      <th id=\"T_d153d_level0_col3\" class=\"col_heading level0 col3\" >GBDT4</th>\n",
       "      <th id=\"T_d153d_level0_col4\" class=\"col_heading level0 col4\" >GBDT6</th>\n",
       "      <th id=\"T_d153d_level0_col5\" class=\"col_heading level0 col5\" >GBDT8</th>\n",
       "      <th id=\"T_d153d_level0_col6\" class=\"col_heading level0 col6\" >GBDT10</th>\n",
       "      <th id=\"T_d153d_level0_col7\" class=\"col_heading level0 col7\" >mean</th>\n",
       "      <th id=\"T_d153d_level0_col8\" class=\"col_heading level0 col8\" >std</th>\n",
       "      <th id=\"T_d153d_level0_col9\" class=\"col_heading level0 col9\" >score</th>\n",
       "      <th id=\"T_d153d_level0_col10\" class=\"col_heading level0 col10\" >close</th>\n",
       "    </tr>\n",
       "    <tr>\n",
       "      <th class=\"index_name level0\" >instrument</th>\n",
       "      <th class=\"blank col0\" >&nbsp;</th>\n",
       "      <th class=\"blank col1\" >&nbsp;</th>\n",
       "      <th class=\"blank col2\" >&nbsp;</th>\n",
       "      <th class=\"blank col3\" >&nbsp;</th>\n",
       "      <th class=\"blank col4\" >&nbsp;</th>\n",
       "      <th class=\"blank col5\" >&nbsp;</th>\n",
       "      <th class=\"blank col6\" >&nbsp;</th>\n",
       "      <th class=\"blank col7\" >&nbsp;</th>\n",
       "      <th class=\"blank col8\" >&nbsp;</th>\n",
       "      <th class=\"blank col9\" >&nbsp;</th>\n",
       "      <th class=\"blank col10\" >&nbsp;</th>\n",
       "    </tr>\n",
       "  </thead>\n",
       "  <tbody>\n",
       "    <tr>\n",
       "      <th id=\"T_d153d_level0_row0\" class=\"row_heading level0 row0\" >SH600104</th>\n",
       "      <td id=\"T_d153d_row0_col0\" class=\"data row0 col0\" >-0.057261</td>\n",
       "      <td id=\"T_d153d_row0_col1\" class=\"data row0 col1\" >0.049873</td>\n",
       "      <td id=\"T_d153d_row0_col2\" class=\"data row0 col2\" >-0.188971</td>\n",
       "      <td id=\"T_d153d_row0_col3\" class=\"data row0 col3\" >-0.141267</td>\n",
       "      <td id=\"T_d153d_row0_col4\" class=\"data row0 col4\" >-0.053811</td>\n",
       "      <td id=\"T_d153d_row0_col5\" class=\"data row0 col5\" >-0.118645</td>\n",
       "      <td id=\"T_d153d_row0_col6\" class=\"data row0 col6\" >-0.236531</td>\n",
       "      <td id=\"T_d153d_row0_col7\" class=\"data row0 col7\" >-0.106659</td>\n",
       "      <td id=\"T_d153d_row0_col8\" class=\"data row0 col8\" >0.088414</td>\n",
       "      <td id=\"T_d153d_row0_col9\" class=\"data row0 col9\" >-0.197169</td>\n",
       "      <td id=\"T_d153d_row0_col10\" class=\"data row0 col10\" >17.969999</td>\n",
       "    </tr>\n",
       "    <tr>\n",
       "      <th id=\"T_d153d_level0_row1\" class=\"row_heading level0 row1\" >SH601698</th>\n",
       "      <td id=\"T_d153d_row1_col0\" class=\"data row1 col0\" >-0.068132</td>\n",
       "      <td id=\"T_d153d_row1_col1\" class=\"data row1 col1\" >-0.026254</td>\n",
       "      <td id=\"T_d153d_row1_col2\" class=\"data row1 col2\" >-0.129749</td>\n",
       "      <td id=\"T_d153d_row1_col3\" class=\"data row1 col3\" >-0.108736</td>\n",
       "      <td id=\"T_d153d_row1_col4\" class=\"data row1 col4\" >-0.027927</td>\n",
       "      <td id=\"T_d153d_row1_col5\" class=\"data row1 col5\" >-0.099029</td>\n",
       "      <td id=\"T_d153d_row1_col6\" class=\"data row1 col6\" >-0.257208</td>\n",
       "      <td id=\"T_d153d_row1_col7\" class=\"data row1 col7\" >-0.102434</td>\n",
       "      <td id=\"T_d153d_row1_col8\" class=\"data row1 col8\" >0.072981</td>\n",
       "      <td id=\"T_d153d_row1_col9\" class=\"data row1 col9\" >-0.176231</td>\n",
       "      <td id=\"T_d153d_row1_col10\" class=\"data row1 col10\" >22.980001</td>\n",
       "    </tr>\n",
       "    <tr>\n",
       "      <th id=\"T_d153d_level0_row2\" class=\"row_heading level0 row2\" >SH600570</th>\n",
       "      <td id=\"T_d153d_row2_col0\" class=\"data row2 col0\" >-0.053414</td>\n",
       "      <td id=\"T_d153d_row2_col1\" class=\"data row2 col1\" >0.019185</td>\n",
       "      <td id=\"T_d153d_row2_col2\" class=\"data row2 col2\" >-0.113095</td>\n",
       "      <td id=\"T_d153d_row2_col3\" class=\"data row2 col3\" >-0.082817</td>\n",
       "      <td id=\"T_d153d_row2_col4\" class=\"data row2 col4\" >-0.019608</td>\n",
       "      <td id=\"T_d153d_row2_col5\" class=\"data row2 col5\" >-0.097395</td>\n",
       "      <td id=\"T_d153d_row2_col6\" class=\"data row2 col6\" >-0.150231</td>\n",
       "      <td id=\"T_d153d_row2_col7\" class=\"data row2 col7\" >-0.071053</td>\n",
       "      <td id=\"T_d153d_row2_col8\" class=\"data row2 col8\" >0.053412</td>\n",
       "      <td id=\"T_d153d_row2_col9\" class=\"data row2 col9\" >-0.129546</td>\n",
       "      <td id=\"T_d153d_row2_col10\" class=\"data row2 col10\" >31.860001</td>\n",
       "    </tr>\n",
       "    <tr>\n",
       "      <th id=\"T_d153d_level0_row3\" class=\"row_heading level0 row3\" >SH600233</th>\n",
       "      <td id=\"T_d153d_row3_col0\" class=\"data row3 col0\" >0.010960</td>\n",
       "      <td id=\"T_d153d_row3_col1\" class=\"data row3 col1\" >0.022529</td>\n",
       "      <td id=\"T_d153d_row3_col2\" class=\"data row3 col2\" >-0.041270</td>\n",
       "      <td id=\"T_d153d_row3_col3\" class=\"data row3 col3\" >-0.000023</td>\n",
       "      <td id=\"T_d153d_row3_col4\" class=\"data row3 col4\" >0.022817</td>\n",
       "      <td id=\"T_d153d_row3_col5\" class=\"data row3 col5\" >-0.005509</td>\n",
       "      <td id=\"T_d153d_row3_col6\" class=\"data row3 col6\" >-0.062517</td>\n",
       "      <td id=\"T_d153d_row3_col7\" class=\"data row3 col7\" >-0.007573</td>\n",
       "      <td id=\"T_d153d_row3_col8\" class=\"data row3 col8\" >0.030211</td>\n",
       "      <td id=\"T_d153d_row3_col9\" class=\"data row3 col9\" >-0.012405</td>\n",
       "      <td id=\"T_d153d_row3_col10\" class=\"data row3 col10\" >14.579999</td>\n",
       "    </tr>\n",
       "    <tr>\n",
       "      <th id=\"T_d153d_level0_row4\" class=\"row_heading level0 row4\" >SH600588</th>\n",
       "      <td id=\"T_d153d_row4_col0\" class=\"data row4 col0\" >0.023668</td>\n",
       "      <td id=\"T_d153d_row4_col1\" class=\"data row4 col1\" >0.025258</td>\n",
       "      <td id=\"T_d153d_row4_col2\" class=\"data row4 col2\" >-0.030108</td>\n",
       "      <td id=\"T_d153d_row4_col3\" class=\"data row4 col3\" >0.039939</td>\n",
       "      <td id=\"T_d153d_row4_col4\" class=\"data row4 col4\" >0.002404</td>\n",
       "      <td id=\"T_d153d_row4_col5\" class=\"data row4 col5\" >-0.004383</td>\n",
       "      <td id=\"T_d153d_row4_col6\" class=\"data row4 col6\" >0.022337</td>\n",
       "      <td id=\"T_d153d_row4_col7\" class=\"data row4 col7\" >0.011302</td>\n",
       "      <td id=\"T_d153d_row4_col8\" class=\"data row4 col8\" >0.021809</td>\n",
       "      <td id=\"T_d153d_row4_col9\" class=\"data row4 col9\" >0.018434</td>\n",
       "      <td id=\"T_d153d_row4_col10\" class=\"data row4 col10\" >12.809999</td>\n",
       "    </tr>\n",
       "  </tbody>\n",
       "</table>\n"
      ],
      "text/plain": [
       "<pandas.io.formats.style.Styler at 0x7f7dd718d820>"
      ]
     },
     "execution_count": 19,
     "metadata": {},
     "output_type": "execute_result"
    }
   ],
   "source": [
    "sty_report_pos = report_pos.style.background_gradient(cmap='Blues_r', subset=color_lst)\n",
    "sty_report_pos"
   ]
  },
  {
   "cell_type": "code",
   "execution_count": 20,
   "metadata": {
    "execution": {
     "iopub.execute_input": "2024-12-11T09:59:31.461938Z",
     "iopub.status.busy": "2024-12-11T09:59:31.461547Z",
     "iopub.status.idle": "2024-12-11T09:59:31.466372Z",
     "shell.execute_reply": "2024-12-11T09:59:31.465542Z"
    }
   },
   "outputs": [],
   "source": [
    "sty_report_top0 = report_top.head(10).style.background_gradient(axis=0, subset=color_lst)\n",
    "sty_report_top1 = report_top.tail(10).style.background_gradient(axis=0, subset=color_lst)"
   ]
  },
  {
   "cell_type": "code",
   "execution_count": 21,
   "metadata": {
    "execution": {
     "iopub.execute_input": "2024-12-11T09:59:31.468762Z",
     "iopub.status.busy": "2024-12-11T09:59:31.468381Z",
     "iopub.status.idle": "2024-12-11T09:59:31.493658Z",
     "shell.execute_reply": "2024-12-11T09:59:31.492896Z"
    }
   },
   "outputs": [
    {
     "data": {
      "text/html": [
       "<style type=\"text/css\">\n",
       "#T_4ca05_row0_col0, #T_4ca05_row0_col2, #T_4ca05_row0_col4, #T_4ca05_row0_col5, #T_4ca05_row0_col6, #T_4ca05_row0_col7, #T_4ca05_row0_col8, #T_4ca05_row0_col9, #T_4ca05_row3_col1, #T_4ca05_row3_col3 {\n",
       "  background-color: #023858;\n",
       "  color: #f1f1f1;\n",
       "}\n",
       "#T_4ca05_row0_col1, #T_4ca05_row1_col8 {\n",
       "  background-color: #76aad0;\n",
       "  color: #f1f1f1;\n",
       "}\n",
       "#T_4ca05_row0_col3, #T_4ca05_row1_col0 {\n",
       "  background-color: #0569a4;\n",
       "  color: #f1f1f1;\n",
       "}\n",
       "#T_4ca05_row1_col1 {\n",
       "  background-color: #a2bcda;\n",
       "  color: #000000;\n",
       "}\n",
       "#T_4ca05_row1_col2 {\n",
       "  background-color: #0d75b3;\n",
       "  color: #f1f1f1;\n",
       "}\n",
       "#T_4ca05_row1_col3 {\n",
       "  background-color: #4897c4;\n",
       "  color: #f1f1f1;\n",
       "}\n",
       "#T_4ca05_row1_col4 {\n",
       "  background-color: #97b7d7;\n",
       "  color: #000000;\n",
       "}\n",
       "#T_4ca05_row1_col5 {\n",
       "  background-color: #71a8ce;\n",
       "  color: #f1f1f1;\n",
       "}\n",
       "#T_4ca05_row1_col6 {\n",
       "  background-color: #84b0d3;\n",
       "  color: #f1f1f1;\n",
       "}\n",
       "#T_4ca05_row1_col7, #T_4ca05_row2_col9 {\n",
       "  background-color: #65a3cb;\n",
       "  color: #f1f1f1;\n",
       "}\n",
       "#T_4ca05_row1_col9 {\n",
       "  background-color: #569dc8;\n",
       "  color: #f1f1f1;\n",
       "}\n",
       "#T_4ca05_row2_col0 {\n",
       "  background-color: #63a2cb;\n",
       "  color: #f1f1f1;\n",
       "}\n",
       "#T_4ca05_row2_col1 {\n",
       "  background-color: #9fbad9;\n",
       "  color: #000000;\n",
       "}\n",
       "#T_4ca05_row2_col2 {\n",
       "  background-color: #04639b;\n",
       "  color: #f1f1f1;\n",
       "}\n",
       "#T_4ca05_row2_col3 {\n",
       "  background-color: #358fc0;\n",
       "  color: #f1f1f1;\n",
       "}\n",
       "#T_4ca05_row2_col4, #T_4ca05_row8_col1 {\n",
       "  background-color: #afc1dd;\n",
       "  color: #000000;\n",
       "}\n",
       "#T_4ca05_row2_col5, #T_4ca05_row2_col7, #T_4ca05_row3_col9 {\n",
       "  background-color: #78abd0;\n",
       "  color: #f1f1f1;\n",
       "}\n",
       "#T_4ca05_row2_col6, #T_4ca05_row3_col8 {\n",
       "  background-color: #9cb9d9;\n",
       "  color: #000000;\n",
       "}\n",
       "#T_4ca05_row2_col8 {\n",
       "  background-color: #80aed2;\n",
       "  color: #f1f1f1;\n",
       "}\n",
       "#T_4ca05_row3_col0 {\n",
       "  background-color: #62a2cb;\n",
       "  color: #f1f1f1;\n",
       "}\n",
       "#T_4ca05_row3_col2 {\n",
       "  background-color: #2d8abd;\n",
       "  color: #f1f1f1;\n",
       "}\n",
       "#T_4ca05_row3_col4, #T_4ca05_row6_col6, #T_4ca05_row6_col7, #T_4ca05_row6_col9, #T_4ca05_row8_col0 {\n",
       "  background-color: #f7f0f7;\n",
       "  color: #000000;\n",
       "}\n",
       "#T_4ca05_row3_col5 {\n",
       "  background-color: #e6e2ef;\n",
       "  color: #000000;\n",
       "}\n",
       "#T_4ca05_row3_col6 {\n",
       "  background-color: #b7c5df;\n",
       "  color: #000000;\n",
       "}\n",
       "#T_4ca05_row3_col7 {\n",
       "  background-color: #8fb4d6;\n",
       "  color: #000000;\n",
       "}\n",
       "#T_4ca05_row4_col0 {\n",
       "  background-color: #d2d3e7;\n",
       "  color: #000000;\n",
       "}\n",
       "#T_4ca05_row4_col1 {\n",
       "  background-color: #dcdaeb;\n",
       "  color: #000000;\n",
       "}\n",
       "#T_4ca05_row4_col2 {\n",
       "  background-color: #3d93c2;\n",
       "  color: #f1f1f1;\n",
       "}\n",
       "#T_4ca05_row4_col3 {\n",
       "  background-color: #4e9ac6;\n",
       "  color: #f1f1f1;\n",
       "}\n",
       "#T_4ca05_row4_col4 {\n",
       "  background-color: #549cc7;\n",
       "  color: #f1f1f1;\n",
       "}\n",
       "#T_4ca05_row4_col5 {\n",
       "  background-color: #69a5cc;\n",
       "  color: #f1f1f1;\n",
       "}\n",
       "#T_4ca05_row4_col6 {\n",
       "  background-color: #94b6d7;\n",
       "  color: #000000;\n",
       "}\n",
       "#T_4ca05_row4_col7 {\n",
       "  background-color: #86b0d3;\n",
       "  color: #000000;\n",
       "}\n",
       "#T_4ca05_row4_col8 {\n",
       "  background-color: #5ea0ca;\n",
       "  color: #f1f1f1;\n",
       "}\n",
       "#T_4ca05_row4_col9 {\n",
       "  background-color: #7eadd1;\n",
       "  color: #f1f1f1;\n",
       "}\n",
       "#T_4ca05_row5_col0 {\n",
       "  background-color: #9ab8d8;\n",
       "  color: #000000;\n",
       "}\n",
       "#T_4ca05_row5_col1 {\n",
       "  background-color: #8eb3d5;\n",
       "  color: #000000;\n",
       "}\n",
       "#T_4ca05_row5_col2 {\n",
       "  background-color: #2081b9;\n",
       "  color: #f1f1f1;\n",
       "}\n",
       "#T_4ca05_row5_col3 {\n",
       "  background-color: #d5d5e8;\n",
       "  color: #000000;\n",
       "}\n",
       "#T_4ca05_row5_col4 {\n",
       "  background-color: #5a9ec9;\n",
       "  color: #f1f1f1;\n",
       "}\n",
       "#T_4ca05_row5_col5 {\n",
       "  background-color: #a1bbda;\n",
       "  color: #000000;\n",
       "}\n",
       "#T_4ca05_row5_col6 {\n",
       "  background-color: #167bb6;\n",
       "  color: #f1f1f1;\n",
       "}\n",
       "#T_4ca05_row5_col7 {\n",
       "  background-color: #75a9cf;\n",
       "  color: #f1f1f1;\n",
       "}\n",
       "#T_4ca05_row5_col8 {\n",
       "  background-color: #0a73b2;\n",
       "  color: #f1f1f1;\n",
       "}\n",
       "#T_4ca05_row5_col9 {\n",
       "  background-color: #83afd3;\n",
       "  color: #f1f1f1;\n",
       "}\n",
       "#T_4ca05_row6_col0, #T_4ca05_row6_col3, #T_4ca05_row7_col5, #T_4ca05_row7_col6, #T_4ca05_row7_col8, #T_4ca05_row8_col4, #T_4ca05_row9_col1, #T_4ca05_row9_col2, #T_4ca05_row9_col7, #T_4ca05_row9_col9 {\n",
       "  background-color: #fff7fb;\n",
       "  color: #000000;\n",
       "}\n",
       "#T_4ca05_row6_col1 {\n",
       "  background-color: #bbc7e0;\n",
       "  color: #000000;\n",
       "}\n",
       "#T_4ca05_row6_col2 {\n",
       "  background-color: #a7bddb;\n",
       "  color: #000000;\n",
       "}\n",
       "#T_4ca05_row6_col4 {\n",
       "  background-color: #d1d2e6;\n",
       "  color: #000000;\n",
       "}\n",
       "#T_4ca05_row6_col5 {\n",
       "  background-color: #e8e4f0;\n",
       "  color: #000000;\n",
       "}\n",
       "#T_4ca05_row6_col8, #T_4ca05_row7_col3, #T_4ca05_row9_col8 {\n",
       "  background-color: #d9d8ea;\n",
       "  color: #000000;\n",
       "}\n",
       "#T_4ca05_row7_col0 {\n",
       "  background-color: #eee8f3;\n",
       "  color: #000000;\n",
       "}\n",
       "#T_4ca05_row7_col1 {\n",
       "  background-color: #045382;\n",
       "  color: #f1f1f1;\n",
       "}\n",
       "#T_4ca05_row7_col2 {\n",
       "  background-color: #f1ebf4;\n",
       "  color: #000000;\n",
       "}\n",
       "#T_4ca05_row7_col4 {\n",
       "  background-color: #eee9f3;\n",
       "  color: #000000;\n",
       "}\n",
       "#T_4ca05_row7_col7 {\n",
       "  background-color: #faf2f8;\n",
       "  color: #000000;\n",
       "}\n",
       "#T_4ca05_row7_col9, #T_4ca05_row8_col7 {\n",
       "  background-color: #f9f2f8;\n",
       "  color: #000000;\n",
       "}\n",
       "#T_4ca05_row8_col2 {\n",
       "  background-color: #ebe6f2;\n",
       "  color: #000000;\n",
       "}\n",
       "#T_4ca05_row8_col3, #T_4ca05_row9_col0, #T_4ca05_row9_col5, #T_4ca05_row9_col6 {\n",
       "  background-color: #f8f1f8;\n",
       "  color: #000000;\n",
       "}\n",
       "#T_4ca05_row8_col5 {\n",
       "  background-color: #f0eaf4;\n",
       "  color: #000000;\n",
       "}\n",
       "#T_4ca05_row8_col6 {\n",
       "  background-color: #dedcec;\n",
       "  color: #000000;\n",
       "}\n",
       "#T_4ca05_row8_col8 {\n",
       "  background-color: #c9cee4;\n",
       "  color: #000000;\n",
       "}\n",
       "#T_4ca05_row8_col9 {\n",
       "  background-color: #fcf4fa;\n",
       "  color: #000000;\n",
       "}\n",
       "#T_4ca05_row9_col3 {\n",
       "  background-color: #ede7f2;\n",
       "  color: #000000;\n",
       "}\n",
       "#T_4ca05_row9_col4 {\n",
       "  background-color: #bcc7e1;\n",
       "  color: #000000;\n",
       "}\n",
       "</style>\n",
       "<table id=\"T_4ca05\">\n",
       "  <thead>\n",
       "    <tr>\n",
       "      <th class=\"blank level0\" >&nbsp;</th>\n",
       "      <th id=\"T_4ca05_level0_col0\" class=\"col_heading level0 col0\" >GBDT0</th>\n",
       "      <th id=\"T_4ca05_level0_col1\" class=\"col_heading level0 col1\" >GBDT1</th>\n",
       "      <th id=\"T_4ca05_level0_col2\" class=\"col_heading level0 col2\" >GBDT2</th>\n",
       "      <th id=\"T_4ca05_level0_col3\" class=\"col_heading level0 col3\" >GBDT4</th>\n",
       "      <th id=\"T_4ca05_level0_col4\" class=\"col_heading level0 col4\" >GBDT6</th>\n",
       "      <th id=\"T_4ca05_level0_col5\" class=\"col_heading level0 col5\" >GBDT8</th>\n",
       "      <th id=\"T_4ca05_level0_col6\" class=\"col_heading level0 col6\" >GBDT10</th>\n",
       "      <th id=\"T_4ca05_level0_col7\" class=\"col_heading level0 col7\" >mean</th>\n",
       "      <th id=\"T_4ca05_level0_col8\" class=\"col_heading level0 col8\" >std</th>\n",
       "      <th id=\"T_4ca05_level0_col9\" class=\"col_heading level0 col9\" >score</th>\n",
       "      <th id=\"T_4ca05_level0_col10\" class=\"col_heading level0 col10\" >close</th>\n",
       "    </tr>\n",
       "    <tr>\n",
       "      <th class=\"index_name level0\" >instrument</th>\n",
       "      <th class=\"blank col0\" >&nbsp;</th>\n",
       "      <th class=\"blank col1\" >&nbsp;</th>\n",
       "      <th class=\"blank col2\" >&nbsp;</th>\n",
       "      <th class=\"blank col3\" >&nbsp;</th>\n",
       "      <th class=\"blank col4\" >&nbsp;</th>\n",
       "      <th class=\"blank col5\" >&nbsp;</th>\n",
       "      <th class=\"blank col6\" >&nbsp;</th>\n",
       "      <th class=\"blank col7\" >&nbsp;</th>\n",
       "      <th class=\"blank col8\" >&nbsp;</th>\n",
       "      <th class=\"blank col9\" >&nbsp;</th>\n",
       "      <th class=\"blank col10\" >&nbsp;</th>\n",
       "    </tr>\n",
       "  </thead>\n",
       "  <tbody>\n",
       "    <tr>\n",
       "      <th id=\"T_4ca05_level0_row0\" class=\"row_heading level0 row0\" >SH600029</th>\n",
       "      <td id=\"T_4ca05_row0_col0\" class=\"data row0 col0\" >0.224671</td>\n",
       "      <td id=\"T_4ca05_row0_col1\" class=\"data row0 col1\" >0.034080</td>\n",
       "      <td id=\"T_4ca05_row0_col2\" class=\"data row0 col2\" >0.291393</td>\n",
       "      <td id=\"T_4ca05_row0_col3\" class=\"data row0 col3\" >0.292746</td>\n",
       "      <td id=\"T_4ca05_row0_col4\" class=\"data row0 col4\" >0.324759</td>\n",
       "      <td id=\"T_4ca05_row0_col5\" class=\"data row0 col5\" >0.487245</td>\n",
       "      <td id=\"T_4ca05_row0_col6\" class=\"data row0 col6\" >0.693309</td>\n",
       "      <td id=\"T_4ca05_row0_col7\" class=\"data row0 col7\" >0.335458</td>\n",
       "      <td id=\"T_4ca05_row0_col8\" class=\"data row0 col8\" >0.192012</td>\n",
       "      <td id=\"T_4ca05_row0_col9\" class=\"data row0 col9\" >0.571559</td>\n",
       "      <td id=\"T_4ca05_row0_col10\" class=\"data row0 col10\" >7.240000</td>\n",
       "    </tr>\n",
       "    <tr>\n",
       "      <th id=\"T_4ca05_level0_row1\" class=\"row_heading level0 row1\" >SH601111</th>\n",
       "      <td id=\"T_4ca05_row1_col0\" class=\"data row1 col0\" >0.192957</td>\n",
       "      <td id=\"T_4ca05_row1_col1\" class=\"data row1 col1\" >0.023636</td>\n",
       "      <td id=\"T_4ca05_row1_col2\" class=\"data row1 col2\" >0.240976</td>\n",
       "      <td id=\"T_4ca05_row1_col3\" class=\"data row1 col3\" >0.237303</td>\n",
       "      <td id=\"T_4ca05_row1_col4\" class=\"data row1 col4\" >0.201021</td>\n",
       "      <td id=\"T_4ca05_row1_col5\" class=\"data row1 col5\" >0.313656</td>\n",
       "      <td id=\"T_4ca05_row1_col6\" class=\"data row1 col6\" >0.419305</td>\n",
       "      <td id=\"T_4ca05_row1_col7\" class=\"data row1 col7\" >0.232693</td>\n",
       "      <td id=\"T_4ca05_row1_col8\" class=\"data row1 col8\" >0.111967</td>\n",
       "      <td id=\"T_4ca05_row1_col9\" class=\"data row1 col9\" >0.410443</td>\n",
       "      <td id=\"T_4ca05_row1_col10\" class=\"data row1 col10\" >8.889999</td>\n",
       "    </tr>\n",
       "    <tr>\n",
       "      <th id=\"T_4ca05_level0_row2\" class=\"row_heading level0 row2\" >SH603259</th>\n",
       "      <td id=\"T_4ca05_row2_col0\" class=\"data row2 col0\" >0.153475</td>\n",
       "      <td id=\"T_4ca05_row2_col1\" class=\"data row2 col1\" >0.024361</td>\n",
       "      <td id=\"T_4ca05_row2_col2\" class=\"data row2 col2\" >0.258174</td>\n",
       "      <td id=\"T_4ca05_row2_col3\" class=\"data row2 col3\" >0.248628</td>\n",
       "      <td id=\"T_4ca05_row2_col4\" class=\"data row2 col4\" >0.187975</td>\n",
       "      <td id=\"T_4ca05_row2_col5\" class=\"data row2 col5\" >0.308314</td>\n",
       "      <td id=\"T_4ca05_row2_col6\" class=\"data row2 col6\" >0.389704</td>\n",
       "      <td id=\"T_4ca05_row2_col7\" class=\"data row2 col7\" >0.224376</td>\n",
       "      <td id=\"T_4ca05_row2_col8\" class=\"data row2 col8\" >0.108541</td>\n",
       "      <td id=\"T_4ca05_row2_col9\" class=\"data row2 col9\" >0.398949</td>\n",
       "      <td id=\"T_4ca05_row2_col10\" class=\"data row2 col10\" >57.970001</td>\n",
       "    </tr>\n",
       "    <tr>\n",
       "      <th id=\"T_4ca05_level0_row3\" class=\"row_heading level0 row3\" >SH600732</th>\n",
       "      <td id=\"T_4ca05_row3_col0\" class=\"data row3 col0\" >0.154157</td>\n",
       "      <td id=\"T_4ca05_row3_col1\" class=\"data row3 col1\" >0.081897</td>\n",
       "      <td id=\"T_4ca05_row3_col2\" class=\"data row3 col2\" >0.225593</td>\n",
       "      <td id=\"T_4ca05_row3_col3\" class=\"data row3 col3\" >0.349532</td>\n",
       "      <td id=\"T_4ca05_row3_col4\" class=\"data row3 col4\" >0.126354</td>\n",
       "      <td id=\"T_4ca05_row3_col5\" class=\"data row3 col5\" >0.190885</td>\n",
       "      <td id=\"T_4ca05_row3_col6\" class=\"data row3 col6\" >0.351731</td>\n",
       "      <td id=\"T_4ca05_row3_col7\" class=\"data row3 col7\" >0.211450</td>\n",
       "      <td id=\"T_4ca05_row3_col8\" class=\"data row3 col8\" >0.097597</td>\n",
       "      <td id=\"T_4ca05_row3_col9\" class=\"data row3 col9\" >0.384829</td>\n",
       "      <td id=\"T_4ca05_row3_col10\" class=\"data row3 col10\" >13.400000</td>\n",
       "    </tr>\n",
       "    <tr>\n",
       "      <th id=\"T_4ca05_level0_row4\" class=\"row_heading level0 row4\" >SH601336</th>\n",
       "      <td id=\"T_4ca05_row4_col0\" class=\"data row4 col0\" >0.108419</td>\n",
       "      <td id=\"T_4ca05_row4_col1\" class=\"data row4 col1\" >0.005988</td>\n",
       "      <td id=\"T_4ca05_row4_col2\" class=\"data row4 col2\" >0.218931</td>\n",
       "      <td id=\"T_4ca05_row4_col3\" class=\"data row4 col3\" >0.234564</td>\n",
       "      <td id=\"T_4ca05_row4_col4\" class=\"data row4 col4\" >0.233191</td>\n",
       "      <td id=\"T_4ca05_row4_col5\" class=\"data row4 col5\" >0.319403</td>\n",
       "      <td id=\"T_4ca05_row4_col6\" class=\"data row4 col6\" >0.400072</td>\n",
       "      <td id=\"T_4ca05_row4_col7\" class=\"data row4 col7\" >0.217224</td>\n",
       "      <td id=\"T_4ca05_row4_col8\" class=\"data row4 col8\" >0.120055</td>\n",
       "      <td id=\"T_4ca05_row4_col9\" class=\"data row4 col9\" >0.379521</td>\n",
       "      <td id=\"T_4ca05_row4_col10\" class=\"data row4 col10\" >53.220001</td>\n",
       "    </tr>\n",
       "    <tr>\n",
       "      <th id=\"T_4ca05_level0_row5\" class=\"row_heading level0 row5\" >SH600115</th>\n",
       "      <td id=\"T_4ca05_row5_col0\" class=\"data row5 col0\" >0.133521</td>\n",
       "      <td id=\"T_4ca05_row5_col1\" class=\"data row5 col1\" >0.028577</td>\n",
       "      <td id=\"T_4ca05_row5_col2\" class=\"data row5 col2\" >0.232096</td>\n",
       "      <td id=\"T_4ca05_row5_col3\" class=\"data row5 col3\" >0.139743</td>\n",
       "      <td id=\"T_4ca05_row5_col4\" class=\"data row5 col4\" >0.230796</td>\n",
       "      <td id=\"T_4ca05_row5_col5\" class=\"data row5 col5\" >0.272944</td>\n",
       "      <td id=\"T_4ca05_row5_col6\" class=\"data row5 col6\" >0.543047</td>\n",
       "      <td id=\"T_4ca05_row5_col7\" class=\"data row5 col7\" >0.225818</td>\n",
       "      <td id=\"T_4ca05_row5_col8\" class=\"data row5 col8\" >0.150119</td>\n",
       "      <td id=\"T_4ca05_row5_col9\" class=\"data row5 col9\" >0.375743</td>\n",
       "      <td id=\"T_4ca05_row5_col10\" class=\"data row5 col10\" >4.330000</td>\n",
       "    </tr>\n",
       "    <tr>\n",
       "      <th id=\"T_4ca05_level0_row6\" class=\"row_heading level0 row6\" >SH600989</th>\n",
       "      <td id=\"T_4ca05_row6_col0\" class=\"data row6 col0\" >0.071717</td>\n",
       "      <td id=\"T_4ca05_row6_col1\" class=\"data row6 col1\" >0.017128</td>\n",
       "      <td id=\"T_4ca05_row6_col2\" class=\"data row6 col2\" >0.174244</td>\n",
       "      <td id=\"T_4ca05_row6_col3\" class=\"data row6 col3\" >0.077632</td>\n",
       "      <td id=\"T_4ca05_row6_col4\" class=\"data row6 col4\" >0.166450</td>\n",
       "      <td id=\"T_4ca05_row6_col5\" class=\"data row6 col5\" >0.186888</td>\n",
       "      <td id=\"T_4ca05_row6_col6\" class=\"data row6 col6\" >0.213909</td>\n",
       "      <td id=\"T_4ca05_row6_col7\" class=\"data row6 col7\" >0.129710</td>\n",
       "      <td id=\"T_4ca05_row6_col8\" class=\"data row6 col8\" >0.068078</td>\n",
       "      <td id=\"T_4ca05_row6_col9\" class=\"data row6 col9\" >0.225836</td>\n",
       "      <td id=\"T_4ca05_row6_col10\" class=\"data row6 col10\" >16.499998</td>\n",
       "    </tr>\n",
       "    <tr>\n",
       "      <th id=\"T_4ca05_level0_row7\" class=\"row_heading level0 row7\" >SH600438</th>\n",
       "      <td id=\"T_4ca05_row7_col0\" class=\"data row7 col0\" >0.089579</td>\n",
       "      <td id=\"T_4ca05_row7_col1\" class=\"data row7 col1\" >0.072412</td>\n",
       "      <td id=\"T_4ca05_row7_col2\" class=\"data row7 col2\" >0.122652</td>\n",
       "      <td id=\"T_4ca05_row7_col3\" class=\"data row7 col3\" >0.135199</td>\n",
       "      <td id=\"T_4ca05_row7_col4\" class=\"data row7 col4\" >0.137930</td>\n",
       "      <td id=\"T_4ca05_row7_col5\" class=\"data row7 col5\" >0.136440</td>\n",
       "      <td id=\"T_4ca05_row7_col6\" class=\"data row7 col6\" >0.186658</td>\n",
       "      <td id=\"T_4ca05_row7_col7\" class=\"data row7 col7\" >0.125839</td>\n",
       "      <td id=\"T_4ca05_row7_col8\" class=\"data row7 col8\" >0.034277</td>\n",
       "      <td id=\"T_4ca05_row7_col9\" class=\"data row7 col9\" >0.220628</td>\n",
       "      <td id=\"T_4ca05_row7_col10\" class=\"data row7 col10\" >25.260000</td>\n",
       "    </tr>\n",
       "    <tr>\n",
       "      <th id=\"T_4ca05_level0_row8\" class=\"row_heading level0 row8\" >SZ002841</th>\n",
       "      <td id=\"T_4ca05_row8_col0\" class=\"data row8 col0\" >0.079839</td>\n",
       "      <td id=\"T_4ca05_row8_col1\" class=\"data row8 col1\" >0.020259</td>\n",
       "      <td id=\"T_4ca05_row8_col2\" class=\"data row8 col2\" >0.129672</td>\n",
       "      <td id=\"T_4ca05_row8_col3\" class=\"data row8 col3\" >0.090617</td>\n",
       "      <td id=\"T_4ca05_row8_col4\" class=\"data row8 col4\" >0.114294</td>\n",
       "      <td id=\"T_4ca05_row8_col5\" class=\"data row8 col5\" >0.171469</td>\n",
       "      <td id=\"T_4ca05_row8_col6\" class=\"data row8 col6\" >0.282539</td>\n",
       "      <td id=\"T_4ca05_row8_col7\" class=\"data row8 col7\" >0.126956</td>\n",
       "      <td id=\"T_4ca05_row8_col8\" class=\"data row8 col8\" >0.076793</td>\n",
       "      <td id=\"T_4ca05_row8_col9\" class=\"data row8 col9\" >0.213918</td>\n",
       "      <td id=\"T_4ca05_row8_col10\" class=\"data row8 col10\" >39.919998</td>\n",
       "    </tr>\n",
       "    <tr>\n",
       "      <th id=\"T_4ca05_level0_row9\" class=\"row_heading level0 row9\" >SZ002415</th>\n",
       "      <td id=\"T_4ca05_row9_col0\" class=\"data row9 col0\" >0.079149</td>\n",
       "      <td id=\"T_4ca05_row9_col1\" class=\"data row9 col1\" >-0.012805</td>\n",
       "      <td id=\"T_4ca05_row9_col2\" class=\"data row9 col2\" >0.104930</td>\n",
       "      <td id=\"T_4ca05_row9_col3\" class=\"data row9 col3\" >0.111259</td>\n",
       "      <td id=\"T_4ca05_row9_col4\" class=\"data row9 col4\" >0.179834</td>\n",
       "      <td id=\"T_4ca05_row9_col5\" class=\"data row9 col5\" >0.151995</td>\n",
       "      <td id=\"T_4ca05_row9_col6\" class=\"data row9 col6\" >0.210620</td>\n",
       "      <td id=\"T_4ca05_row9_col7\" class=\"data row9 col7\" >0.117855</td>\n",
       "      <td id=\"T_4ca05_row9_col8\" class=\"data row9 col8\" >0.068027</td>\n",
       "      <td id=\"T_4ca05_row9_col9\" class=\"data row9 col9\" >0.205996</td>\n",
       "      <td id=\"T_4ca05_row9_col10\" class=\"data row9 col10\" >31.969999</td>\n",
       "    </tr>\n",
       "  </tbody>\n",
       "</table>\n"
      ],
      "text/plain": [
       "<pandas.io.formats.style.Styler at 0x7f7dd718d340>"
      ]
     },
     "execution_count": 21,
     "metadata": {},
     "output_type": "execute_result"
    }
   ],
   "source": [
    "sty_report_top0"
   ]
  },
  {
   "cell_type": "code",
   "execution_count": 22,
   "metadata": {
    "execution": {
     "iopub.execute_input": "2024-12-11T09:59:31.497068Z",
     "iopub.status.busy": "2024-12-11T09:59:31.496377Z",
     "iopub.status.idle": "2024-12-11T09:59:31.520710Z",
     "shell.execute_reply": "2024-12-11T09:59:31.519939Z"
    }
   },
   "outputs": [
    {
     "data": {
      "text/html": [
       "<style type=\"text/css\">\n",
       "#T_59512_row0_col0, #T_59512_row0_col2, #T_59512_row0_col9, #T_59512_row1_col3, #T_59512_row1_col6, #T_59512_row1_col7, #T_59512_row1_col8, #T_59512_row4_col4, #T_59512_row4_col5, #T_59512_row5_col1 {\n",
       "  background-color: #023858;\n",
       "  color: #f1f1f1;\n",
       "}\n",
       "#T_59512_row0_col1 {\n",
       "  background-color: #569dc8;\n",
       "  color: #f1f1f1;\n",
       "}\n",
       "#T_59512_row0_col3 {\n",
       "  background-color: #c1cae2;\n",
       "  color: #000000;\n",
       "}\n",
       "#T_59512_row0_col4 {\n",
       "  background-color: #83afd3;\n",
       "  color: #f1f1f1;\n",
       "}\n",
       "#T_59512_row0_col5 {\n",
       "  background-color: #2182b9;\n",
       "  color: #f1f1f1;\n",
       "}\n",
       "#T_59512_row0_col6, #T_59512_row5_col6 {\n",
       "  background-color: #b3c3de;\n",
       "  color: #000000;\n",
       "}\n",
       "#T_59512_row0_col7 {\n",
       "  background-color: #045b8f;\n",
       "  color: #f1f1f1;\n",
       "}\n",
       "#T_59512_row0_col8, #T_59512_row7_col2, #T_59512_row8_col1 {\n",
       "  background-color: #b9c6e0;\n",
       "  color: #000000;\n",
       "}\n",
       "#T_59512_row1_col0 {\n",
       "  background-color: #bfc9e1;\n",
       "  color: #000000;\n",
       "}\n",
       "#T_59512_row1_col1 {\n",
       "  background-color: #fbf4f9;\n",
       "  color: #000000;\n",
       "}\n",
       "#T_59512_row1_col2 {\n",
       "  background-color: #9ebad9;\n",
       "  color: #000000;\n",
       "}\n",
       "#T_59512_row1_col4 {\n",
       "  background-color: #99b8d8;\n",
       "  color: #000000;\n",
       "}\n",
       "#T_59512_row1_col5, #T_59512_row6_col5 {\n",
       "  background-color: #358fc0;\n",
       "  color: #f1f1f1;\n",
       "}\n",
       "#T_59512_row1_col9 {\n",
       "  background-color: #034c78;\n",
       "  color: #f1f1f1;\n",
       "}\n",
       "#T_59512_row2_col0, #T_59512_row8_col6 {\n",
       "  background-color: #a2bcda;\n",
       "  color: #000000;\n",
       "}\n",
       "#T_59512_row2_col1 {\n",
       "  background-color: #f1ebf4;\n",
       "  color: #000000;\n",
       "}\n",
       "#T_59512_row2_col2 {\n",
       "  background-color: #9cb9d9;\n",
       "  color: #000000;\n",
       "}\n",
       "#T_59512_row2_col3 {\n",
       "  background-color: #04629a;\n",
       "  color: #f1f1f1;\n",
       "}\n",
       "#T_59512_row2_col4 {\n",
       "  background-color: #4c99c5;\n",
       "  color: #f1f1f1;\n",
       "}\n",
       "#T_59512_row2_col5 {\n",
       "  background-color: #94b6d7;\n",
       "  color: #000000;\n",
       "}\n",
       "#T_59512_row2_col6, #T_59512_row3_col8 {\n",
       "  background-color: #328dbf;\n",
       "  color: #f1f1f1;\n",
       "}\n",
       "#T_59512_row2_col7 {\n",
       "  background-color: #197db7;\n",
       "  color: #f1f1f1;\n",
       "}\n",
       "#T_59512_row2_col8, #T_59512_row3_col4 {\n",
       "  background-color: #6ba5cd;\n",
       "  color: #f1f1f1;\n",
       "}\n",
       "#T_59512_row2_col9, #T_59512_row5_col3 {\n",
       "  background-color: #2685bb;\n",
       "  color: #f1f1f1;\n",
       "}\n",
       "#T_59512_row3_col0 {\n",
       "  background-color: #d1d2e6;\n",
       "  color: #000000;\n",
       "}\n",
       "#T_59512_row3_col1 {\n",
       "  background-color: #b5c4df;\n",
       "  color: #000000;\n",
       "}\n",
       "#T_59512_row3_col2 {\n",
       "  background-color: #157ab5;\n",
       "  color: #f1f1f1;\n",
       "}\n",
       "#T_59512_row3_col3, #T_59512_row6_col2 {\n",
       "  background-color: #bdc8e1;\n",
       "  color: #000000;\n",
       "}\n",
       "#T_59512_row3_col5, #T_59512_row4_col0 {\n",
       "  background-color: #d9d8ea;\n",
       "  color: #000000;\n",
       "}\n",
       "#T_59512_row3_col6 {\n",
       "  background-color: #0f76b3;\n",
       "  color: #f1f1f1;\n",
       "}\n",
       "#T_59512_row3_col7 {\n",
       "  background-color: #1c7fb8;\n",
       "  color: #f1f1f1;\n",
       "}\n",
       "#T_59512_row3_col9, #T_59512_row4_col7 {\n",
       "  background-color: #4094c3;\n",
       "  color: #f1f1f1;\n",
       "}\n",
       "#T_59512_row4_col1, #T_59512_row5_col2, #T_59512_row6_col0, #T_59512_row6_col3, #T_59512_row8_col4, #T_59512_row8_col5, #T_59512_row9_col6, #T_59512_row9_col7, #T_59512_row9_col8, #T_59512_row9_col9 {\n",
       "  background-color: #fff7fb;\n",
       "  color: #000000;\n",
       "}\n",
       "#T_59512_row4_col2, #T_59512_row5_col4, #T_59512_row6_col4 {\n",
       "  background-color: #76aad0;\n",
       "  color: #f1f1f1;\n",
       "}\n",
       "#T_59512_row4_col3 {\n",
       "  background-color: #f0eaf4;\n",
       "  color: #000000;\n",
       "}\n",
       "#T_59512_row4_col6 {\n",
       "  background-color: #a4bcda;\n",
       "  color: #000000;\n",
       "}\n",
       "#T_59512_row4_col8 {\n",
       "  background-color: #4496c3;\n",
       "  color: #f1f1f1;\n",
       "}\n",
       "#T_59512_row4_col9 {\n",
       "  background-color: #60a1ca;\n",
       "  color: #f1f1f1;\n",
       "}\n",
       "#T_59512_row5_col0 {\n",
       "  background-color: #eae6f1;\n",
       "  color: #000000;\n",
       "}\n",
       "#T_59512_row5_col5 {\n",
       "  background-color: #2383ba;\n",
       "  color: #f1f1f1;\n",
       "}\n",
       "#T_59512_row5_col7 {\n",
       "  background-color: #97b7d7;\n",
       "  color: #000000;\n",
       "}\n",
       "#T_59512_row5_col8 {\n",
       "  background-color: #d3d4e7;\n",
       "  color: #000000;\n",
       "}\n",
       "#T_59512_row5_col9 {\n",
       "  background-color: #ced0e6;\n",
       "  color: #000000;\n",
       "}\n",
       "#T_59512_row6_col1, #T_59512_row6_col7 {\n",
       "  background-color: #d2d2e7;\n",
       "  color: #000000;\n",
       "}\n",
       "#T_59512_row6_col6 {\n",
       "  background-color: #93b5d6;\n",
       "  color: #000000;\n",
       "}\n",
       "#T_59512_row6_col8 {\n",
       "  background-color: #91b5d6;\n",
       "  color: #000000;\n",
       "}\n",
       "#T_59512_row6_col9 {\n",
       "  background-color: #f8f1f8;\n",
       "  color: #000000;\n",
       "}\n",
       "#T_59512_row7_col0 {\n",
       "  background-color: #f7f0f7;\n",
       "  color: #000000;\n",
       "}\n",
       "#T_59512_row7_col1 {\n",
       "  background-color: #c9cee4;\n",
       "  color: #000000;\n",
       "}\n",
       "#T_59512_row7_col3 {\n",
       "  background-color: #e6e2ef;\n",
       "  color: #000000;\n",
       "}\n",
       "#T_59512_row7_col4 {\n",
       "  background-color: #dedcec;\n",
       "  color: #000000;\n",
       "}\n",
       "#T_59512_row7_col5 {\n",
       "  background-color: #bcc7e1;\n",
       "  color: #000000;\n",
       "}\n",
       "#T_59512_row7_col6 {\n",
       "  background-color: #509ac6;\n",
       "  color: #f1f1f1;\n",
       "}\n",
       "#T_59512_row7_col7 {\n",
       "  background-color: #d5d5e8;\n",
       "  color: #000000;\n",
       "}\n",
       "#T_59512_row7_col8 {\n",
       "  background-color: #7dacd1;\n",
       "  color: #f1f1f1;\n",
       "}\n",
       "#T_59512_row7_col9 {\n",
       "  background-color: #fdf5fa;\n",
       "  color: #000000;\n",
       "}\n",
       "#T_59512_row8_col0 {\n",
       "  background-color: #b7c5df;\n",
       "  color: #000000;\n",
       "}\n",
       "#T_59512_row8_col2 {\n",
       "  background-color: #dddbec;\n",
       "  color: #000000;\n",
       "}\n",
       "#T_59512_row8_col3 {\n",
       "  background-color: #056ba9;\n",
       "  color: #f1f1f1;\n",
       "}\n",
       "#T_59512_row8_col7 {\n",
       "  background-color: #efe9f3;\n",
       "  color: #000000;\n",
       "}\n",
       "#T_59512_row8_col8 {\n",
       "  background-color: #dcdaeb;\n",
       "  color: #000000;\n",
       "}\n",
       "#T_59512_row8_col9 {\n",
       "  background-color: #fef6fb;\n",
       "  color: #000000;\n",
       "}\n",
       "#T_59512_row9_col0 {\n",
       "  background-color: #046299;\n",
       "  color: #f1f1f1;\n",
       "}\n",
       "#T_59512_row9_col1 {\n",
       "  background-color: #a5bddb;\n",
       "  color: #000000;\n",
       "}\n",
       "#T_59512_row9_col2 {\n",
       "  background-color: #80aed2;\n",
       "  color: #f1f1f1;\n",
       "}\n",
       "#T_59512_row9_col3 {\n",
       "  background-color: #e1dfed;\n",
       "  color: #000000;\n",
       "}\n",
       "#T_59512_row9_col4 {\n",
       "  background-color: #d6d6e9;\n",
       "  color: #000000;\n",
       "}\n",
       "#T_59512_row9_col5 {\n",
       "  background-color: #f2ecf5;\n",
       "  color: #000000;\n",
       "}\n",
       "</style>\n",
       "<table id=\"T_59512\">\n",
       "  <thead>\n",
       "    <tr>\n",
       "      <th class=\"blank level0\" >&nbsp;</th>\n",
       "      <th id=\"T_59512_level0_col0\" class=\"col_heading level0 col0\" >GBDT0</th>\n",
       "      <th id=\"T_59512_level0_col1\" class=\"col_heading level0 col1\" >GBDT1</th>\n",
       "      <th id=\"T_59512_level0_col2\" class=\"col_heading level0 col2\" >GBDT2</th>\n",
       "      <th id=\"T_59512_level0_col3\" class=\"col_heading level0 col3\" >GBDT4</th>\n",
       "      <th id=\"T_59512_level0_col4\" class=\"col_heading level0 col4\" >GBDT6</th>\n",
       "      <th id=\"T_59512_level0_col5\" class=\"col_heading level0 col5\" >GBDT8</th>\n",
       "      <th id=\"T_59512_level0_col6\" class=\"col_heading level0 col6\" >GBDT10</th>\n",
       "      <th id=\"T_59512_level0_col7\" class=\"col_heading level0 col7\" >mean</th>\n",
       "      <th id=\"T_59512_level0_col8\" class=\"col_heading level0 col8\" >std</th>\n",
       "      <th id=\"T_59512_level0_col9\" class=\"col_heading level0 col9\" >score</th>\n",
       "      <th id=\"T_59512_level0_col10\" class=\"col_heading level0 col10\" >close</th>\n",
       "    </tr>\n",
       "    <tr>\n",
       "      <th class=\"index_name level0\" >instrument</th>\n",
       "      <th class=\"blank col0\" >&nbsp;</th>\n",
       "      <th class=\"blank col1\" >&nbsp;</th>\n",
       "      <th class=\"blank col2\" >&nbsp;</th>\n",
       "      <th class=\"blank col3\" >&nbsp;</th>\n",
       "      <th class=\"blank col4\" >&nbsp;</th>\n",
       "      <th class=\"blank col5\" >&nbsp;</th>\n",
       "      <th class=\"blank col6\" >&nbsp;</th>\n",
       "      <th class=\"blank col7\" >&nbsp;</th>\n",
       "      <th class=\"blank col8\" >&nbsp;</th>\n",
       "      <th class=\"blank col9\" >&nbsp;</th>\n",
       "      <th class=\"blank col10\" >&nbsp;</th>\n",
       "    </tr>\n",
       "  </thead>\n",
       "  <tbody>\n",
       "    <tr>\n",
       "      <th id=\"T_59512_level0_row0\" class=\"row_heading level0 row0\" >SH600886</th>\n",
       "      <td id=\"T_59512_row0_col0\" class=\"data row0 col0\" >0.101738</td>\n",
       "      <td id=\"T_59512_row0_col1\" class=\"data row0 col1\" >0.033103</td>\n",
       "      <td id=\"T_59512_row0_col2\" class=\"data row0 col2\" >0.166612</td>\n",
       "      <td id=\"T_59512_row0_col3\" class=\"data row0 col3\" >0.055300</td>\n",
       "      <td id=\"T_59512_row0_col4\" class=\"data row0 col4\" >0.094989</td>\n",
       "      <td id=\"T_59512_row0_col5\" class=\"data row0 col5\" >0.136766</td>\n",
       "      <td id=\"T_59512_row0_col6\" class=\"data row0 col6\" >0.129742</td>\n",
       "      <td id=\"T_59512_row0_col7\" class=\"data row0 col7\" >0.102607</td>\n",
       "      <td id=\"T_59512_row0_col8\" class=\"data row0 col8\" >0.043305</td>\n",
       "      <td id=\"T_59512_row0_col9\" class=\"data row0 col9\" >0.185263</td>\n",
       "      <td id=\"T_59512_row0_col10\" class=\"data row0 col10\" >15.810000</td>\n",
       "    </tr>\n",
       "    <tr>\n",
       "      <th id=\"T_59512_level0_row1\" class=\"row_heading level0 row1\" >SZ002311</th>\n",
       "      <td id=\"T_59512_row1_col0\" class=\"data row1 col0\" >0.049666</td>\n",
       "      <td id=\"T_59512_row1_col1\" class=\"data row1 col1\" >0.001540</td>\n",
       "      <td id=\"T_59512_row1_col2\" class=\"data row1 col2\" >0.086157</td>\n",
       "      <td id=\"T_59512_row1_col3\" class=\"data row1 col3\" >0.112179</td>\n",
       "      <td id=\"T_59512_row1_col4\" class=\"data row1 col4\" >0.089682</td>\n",
       "      <td id=\"T_59512_row1_col5\" class=\"data row1 col5\" >0.131945</td>\n",
       "      <td id=\"T_59512_row1_col6\" class=\"data row1 col6\" >0.287996</td>\n",
       "      <td id=\"T_59512_row1_col7\" class=\"data row1 col7\" >0.108452</td>\n",
       "      <td id=\"T_59512_row1_col8\" class=\"data row1 col8\" >0.083270</td>\n",
       "      <td id=\"T_59512_row1_col9\" class=\"data row1 col9\" >0.180474</td>\n",
       "      <td id=\"T_59512_row1_col10\" class=\"data row1 col10\" >47.529999</td>\n",
       "    </tr>\n",
       "    <tr>\n",
       "      <th id=\"T_59512_level0_row2\" class=\"row_heading level0 row2\" >SZ002821</th>\n",
       "      <td id=\"T_59512_row2_col0\" class=\"data row2 col0\" >0.055752</td>\n",
       "      <td id=\"T_59512_row2_col1\" class=\"data row2 col1\" >0.005660</td>\n",
       "      <td id=\"T_59512_row2_col2\" class=\"data row2 col2\" >0.086899</td>\n",
       "      <td id=\"T_59512_row2_col3\" class=\"data row2 col3\" >0.098144</td>\n",
       "      <td id=\"T_59512_row2_col4\" class=\"data row2 col4\" >0.107033</td>\n",
       "      <td id=\"T_59512_row2_col5\" class=\"data row2 col5\" >0.112434</td>\n",
       "      <td id=\"T_59512_row2_col6\" class=\"data row2 col6\" >0.200960</td>\n",
       "      <td id=\"T_59512_row2_col7\" class=\"data row2 col7\" >0.095269</td>\n",
       "      <td id=\"T_59512_row2_col8\" class=\"data row2 col8\" >0.055127</td>\n",
       "      <td id=\"T_59512_row2_col9\" class=\"data row2 col9\" >0.163862</td>\n",
       "      <td id=\"T_59512_row2_col10\" class=\"data row2 col10\" >85.300003</td>\n",
       "    </tr>\n",
       "    <tr>\n",
       "      <th id=\"T_59512_level0_row3\" class=\"row_heading level0 row3\" >SH600027</th>\n",
       "      <td id=\"T_59512_row3_col0\" class=\"data row3 col0\" >0.045796</td>\n",
       "      <td id=\"T_59512_row3_col1\" class=\"data row3 col1\" >0.019513</td>\n",
       "      <td id=\"T_59512_row3_col2\" class=\"data row3 col2\" >0.127813</td>\n",
       "      <td id=\"T_59512_row3_col3\" class=\"data row3 col3\" >0.056101</td>\n",
       "      <td id=\"T_59512_row3_col4\" class=\"data row3 col4\" >0.100520</td>\n",
       "      <td id=\"T_59512_row3_col5\" class=\"data row3 col5\" >0.092540</td>\n",
       "      <td id=\"T_59512_row3_col6\" class=\"data row3 col6\" >0.221793</td>\n",
       "      <td id=\"T_59512_row3_col7\" class=\"data row3 col7\" >0.094868</td>\n",
       "      <td id=\"T_59512_row3_col8\" class=\"data row3 col8\" >0.061901</td>\n",
       "      <td id=\"T_59512_row3_col9\" class=\"data row3 col9\" >0.159891</td>\n",
       "      <td id=\"T_59512_row3_col10\" class=\"data row3 col10\" >5.620000</td>\n",
       "    </tr>\n",
       "    <tr>\n",
       "      <th id=\"T_59512_level0_row4\" class=\"row_heading level0 row4\" >SZ002236</th>\n",
       "      <td id=\"T_59512_row4_col0\" class=\"data row4 col0\" >0.042879</td>\n",
       "      <td id=\"T_59512_row4_col1\" class=\"data row4 col1\" >0.000033</td>\n",
       "      <td id=\"T_59512_row4_col2\" class=\"data row4 col2\" >0.099081</td>\n",
       "      <td id=\"T_59512_row4_col3\" class=\"data row4 col3\" >0.039391</td>\n",
       "      <td id=\"T_59512_row4_col4\" class=\"data row4 col4\" >0.149698</td>\n",
       "      <td id=\"T_59512_row4_col5\" class=\"data row4 col5\" >0.166911</td>\n",
       "      <td id=\"T_59512_row4_col6\" class=\"data row4 col6\" >0.139968</td>\n",
       "      <td id=\"T_59512_row4_col7\" class=\"data row4 col7\" >0.091137</td>\n",
       "      <td id=\"T_59512_row4_col8\" class=\"data row4 col8\" >0.059672</td>\n",
       "      <td id=\"T_59512_row4_col9\" class=\"data row4 col9\" >0.155769</td>\n",
       "      <td id=\"T_59512_row4_col10\" class=\"data row4 col10\" >17.029999</td>\n",
       "    </tr>\n",
       "    <tr>\n",
       "      <th id=\"T_59512_level0_row5\" class=\"row_heading level0 row5\" >SH601865</th>\n",
       "      <td id=\"T_59512_row5_col0\" class=\"data row5 col0\" >0.037308</td>\n",
       "      <td id=\"T_59512_row5_col1\" class=\"data row5 col1\" >0.058864</td>\n",
       "      <td id=\"T_59512_row5_col2\" class=\"data row5 col2\" >0.033373</td>\n",
       "      <td id=\"T_59512_row5_col3\" class=\"data row5 col3\" >0.085236</td>\n",
       "      <td id=\"T_59512_row5_col4\" class=\"data row5 col4\" >0.098282</td>\n",
       "      <td id=\"T_59512_row5_col5\" class=\"data row5 col5\" >0.136272</td>\n",
       "      <td id=\"T_59512_row5_col6\" class=\"data row5 col6\" >0.129675</td>\n",
       "      <td id=\"T_59512_row5_col7\" class=\"data row5 col7\" >0.082716</td>\n",
       "      <td id=\"T_59512_row5_col8\" class=\"data row5 col8\" >0.038522</td>\n",
       "      <td id=\"T_59512_row5_col9\" class=\"data row5 col9\" >0.137422</td>\n",
       "      <td id=\"T_59512_row5_col10\" class=\"data row5 col10\" >24.070000</td>\n",
       "    </tr>\n",
       "    <tr>\n",
       "      <th id=\"T_59512_level0_row6\" class=\"row_heading level0 row6\" >SH600426</th>\n",
       "      <td id=\"T_59512_row6_col0\" class=\"data row6 col0\" >0.027160</td>\n",
       "      <td id=\"T_59512_row6_col1\" class=\"data row6 col1\" >0.014406</td>\n",
       "      <td id=\"T_59512_row6_col2\" class=\"data row6 col2\" >0.074199</td>\n",
       "      <td id=\"T_59512_row6_col3\" class=\"data row6 col3\" >0.031392</td>\n",
       "      <td id=\"T_59512_row6_col4\" class=\"data row6 col4\" >0.098164</td>\n",
       "      <td id=\"T_59512_row6_col5\" class=\"data row6 col5\" >0.132000</td>\n",
       "      <td id=\"T_59512_row6_col6\" class=\"data row6 col6\" >0.150657</td>\n",
       "      <td id=\"T_59512_row6_col7\" class=\"data row6 col7\" >0.075426</td>\n",
       "      <td id=\"T_59512_row6_col8\" class=\"data row6 col8\" >0.049815</td>\n",
       "      <td id=\"T_59512_row6_col9\" class=\"data row6 col9\" >0.124185</td>\n",
       "      <td id=\"T_59512_row6_col10\" class=\"data row6 col10\" >22.879999</td>\n",
       "    </tr>\n",
       "    <tr>\n",
       "      <th id=\"T_59512_level0_row7\" class=\"row_heading level0 row7\" >SH603195</th>\n",
       "      <td id=\"T_59512_row7_col0\" class=\"data row7 col0\" >0.031503</td>\n",
       "      <td id=\"T_59512_row7_col1\" class=\"data row7 col1\" >0.016041</td>\n",
       "      <td id=\"T_59512_row7_col2\" class=\"data row7 col2\" >0.075884</td>\n",
       "      <td id=\"T_59512_row7_col3\" class=\"data row7 col3\" >0.043954</td>\n",
       "      <td id=\"T_59512_row7_col4\" class=\"data row7 col4\" >0.067309</td>\n",
       "      <td id=\"T_59512_row7_col5\" class=\"data row7 col5\" >0.102344</td>\n",
       "      <td id=\"T_59512_row7_col6\" class=\"data row7 col6\" >0.185858</td>\n",
       "      <td id=\"T_59512_row7_col7\" class=\"data row7 col7\" >0.074699</td>\n",
       "      <td id=\"T_59512_row7_col8\" class=\"data row7 col8\" >0.052683</td>\n",
       "      <td id=\"T_59512_row7_col9\" class=\"data row7 col9\" >0.122224</td>\n",
       "      <td id=\"T_59512_row7_col10\" class=\"data row7 col10\" >73.859993</td>\n",
       "    </tr>\n",
       "    <tr>\n",
       "      <th id=\"T_59512_level0_row8\" class=\"row_heading level0 row8\" >SH600660</th>\n",
       "      <td id=\"T_59512_row8_col0\" class=\"data row8 col0\" >0.051599</td>\n",
       "      <td id=\"T_59512_row8_col1\" class=\"data row8 col1\" >0.018737</td>\n",
       "      <td id=\"T_59512_row8_col2\" class=\"data row8 col2\" >0.059242</td>\n",
       "      <td id=\"T_59512_row8_col3\" class=\"data row8 col3\" >0.093937</td>\n",
       "      <td id=\"T_59512_row8_col4\" class=\"data row8 col4\" >0.047954</td>\n",
       "      <td id=\"T_59512_row8_col5\" class=\"data row8 col5\" >0.073007</td>\n",
       "      <td id=\"T_59512_row8_col6\" class=\"data row8 col6\" >0.141462</td>\n",
       "      <td id=\"T_59512_row8_col7\" class=\"data row8 col7\" >0.069420</td>\n",
       "      <td id=\"T_59512_row8_col8\" class=\"data row8 col8\" >0.036361</td>\n",
       "      <td id=\"T_59512_row8_col9\" class=\"data row8 col9\" >0.121496</td>\n",
       "      <td id=\"T_59512_row8_col10\" class=\"data row8 col10\" >56.599998</td>\n",
       "    </tr>\n",
       "    <tr>\n",
       "      <th id=\"T_59512_level0_row9\" class=\"row_heading level0 row9\" >SZ002241</th>\n",
       "      <td id=\"T_59512_row9_col0\" class=\"data row9 col0\" >0.089095</td>\n",
       "      <td id=\"T_59512_row9_col1\" class=\"data row9 col1\" >0.022223</td>\n",
       "      <td id=\"T_59512_row9_col2\" class=\"data row9 col2\" >0.095986</td>\n",
       "      <td id=\"T_59512_row9_col3\" class=\"data row9 col3\" >0.045293</td>\n",
       "      <td id=\"T_59512_row9_col4\" class=\"data row9 col4\" >0.070611</td>\n",
       "      <td id=\"T_59512_row9_col5\" class=\"data row9 col5\" >0.081086</td>\n",
       "      <td id=\"T_59512_row9_col6\" class=\"data row9 col6\" >0.049283</td>\n",
       "      <td id=\"T_59512_row9_col7\" class=\"data row9 col7\" >0.064797</td>\n",
       "      <td id=\"T_59512_row9_col8\" class=\"data row9 col8\" >0.024773</td>\n",
       "      <td id=\"T_59512_row9_col9\" class=\"data row9 col9\" >0.121114</td>\n",
       "      <td id=\"T_59512_row9_col10\" class=\"data row9 col10\" >26.330000</td>\n",
       "    </tr>\n",
       "  </tbody>\n",
       "</table>\n"
      ],
      "text/plain": [
       "<pandas.io.formats.style.Styler at 0x7f7dd718d430>"
      ]
     },
     "execution_count": 22,
     "metadata": {},
     "output_type": "execute_result"
    }
   ],
   "source": [
    "sty_report_top1"
   ]
  },
  {
   "cell_type": "code",
   "execution_count": 23,
   "metadata": {
    "execution": {
     "iopub.execute_input": "2024-12-11T09:59:31.524287Z",
     "iopub.status.busy": "2024-12-11T09:59:31.523933Z",
     "iopub.status.idle": "2024-12-11T09:59:35.877488Z",
     "shell.execute_reply": "2024-12-11T09:59:35.876142Z"
    }
   },
   "outputs": [],
   "source": [
    "import dataframe_image as dfi\n",
    "\n",
    "infodf = pd.DataFrame({'label': ['Model update date', 'Prediction generation date'],\n",
    "                       'date': ['2024-12-11', TODAY]})\n",
    "\n",
    "dfi.export(infodf, './tmp/ensemble_info.png',table_conversion='matplotlib')\n",
    "\n",
    "dfi.export(sty_report_info5, './tmp/ensemble_performance5.png',table_conversion='matplotlib')\n",
    "dfi.export(sty_report_info10, './tmp/ensemble_performance10.png',table_conversion='matplotlib')\n",
    "dfi.export(sty_report_info20, './tmp/ensemble_performance20.png',table_conversion='matplotlib')\n",
    "dfi.export(sty_report_top0, './tmp/ensemble_top0.png',table_conversion='matplotlib')\n",
    "dfi.export(sty_report_top1, './tmp/ensemble_top1.png',table_conversion='matplotlib')\n",
    "dfi.export(sty_report_pos, './tmp/ensemble_watch.png',table_conversion='matplotlib')"
   ]
  },
  {
   "cell_type": "code",
   "execution_count": null,
   "metadata": {},
   "outputs": [],
   "source": []
  }
 ],
 "metadata": {
  "kernelspec": {
   "display_name": "qlib39",
   "language": "python",
   "name": "python3"
  },
  "language_info": {
   "codemirror_mode": {
    "name": "ipython",
    "version": 3
   },
   "file_extension": ".py",
   "mimetype": "text/x-python",
   "name": "python",
   "nbconvert_exporter": "python",
   "pygments_lexer": "ipython3",
   "version": "3.9.20"
  }
 },
 "nbformat": 4,
 "nbformat_minor": 2
}
